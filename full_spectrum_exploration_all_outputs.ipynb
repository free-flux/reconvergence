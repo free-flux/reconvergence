{
 "cells": [
  {
   "cell_type": "code",
   "execution_count": 1,
   "id": "62d76757",
   "metadata": {},
   "outputs": [],
   "source": [
    "from os import getcwd, path\n",
    "import tarfile\n",
    "\n",
    "import warnings\n",
    "warnings.filterwarnings(\"ignore\")"
   ]
  },
  {
   "cell_type": "code",
   "execution_count": 2,
   "id": "41daf164",
   "metadata": {},
   "outputs": [],
   "source": [
    "from pandas import DataFrame\n",
    "import pandas as pd\n",
    "import numpy as np\n",
    "from typing import List\n",
    "from ast import literal_eval"
   ]
  },
  {
   "cell_type": "code",
   "execution_count": 3,
   "id": "73ad811b",
   "metadata": {},
   "outputs": [],
   "source": [
    "import plotly.express as px\n",
    "import plotly.graph_objects as go\n",
    "import plotly.io as pio\n",
    "from plotly.subplots import make_subplots"
   ]
  },
  {
   "cell_type": "code",
   "execution_count": 4,
   "id": "2cccff70",
   "metadata": {},
   "outputs": [],
   "source": [
    "# color palette\n",
    "viridis = [\"#472c7a\", \"#2c718e\", \"#29ae80\", \"#b0dd31\"]\n",
    "viridis_light = [\"rgba(71, 44, 122, 0.5)\", \"rgba(44, 113, 142, 0.5)\", \"rgba(41, 174, 128, 0.5)\", \"rgba(176, 221, 49, 0.5)\"]\n",
    "\n",
    "#alt_colors = [\"#606060\"] + [None]*6\n",
    "#alt_colors[1::2] = list(reversed(viridis))[:-1]\n",
    "#alt_colors[2::2] = list(reversed(viridis_light))[:-1]\n",
    "\n",
    "alt_colors = [\"#606060\", \"#29ae80\", \"rgba(44, 113, 142, 0.5)\"]"
   ]
  },
  {
   "cell_type": "code",
   "execution_count": 5,
   "id": "6d8a0501",
   "metadata": {},
   "outputs": [],
   "source": [
    "def literal_eval_cols(data: DataFrame, cols: List[str]):\n",
    "    for col_name in cols:\n",
    "        data[col_name] = data.apply(lambda x: literal_eval(x[col_name]), axis=1)"
   ]
  },
  {
   "cell_type": "code",
   "execution_count": 6,
   "id": "552c0e7e",
   "metadata": {},
   "outputs": [],
   "source": [
    "data_dir = path.join(getcwd(), \"data\")\n",
    "plot_dir = path.join(getcwd(), \"plots\")"
   ]
  },
  {
   "cell_type": "code",
   "execution_count": 7,
   "id": "b1b49605",
   "metadata": {},
   "outputs": [
    {
     "name": "stdout",
     "output_type": "stream",
     "text": [
      "Index(['model_name', 'ds', 'n_sentence_pool', 'ds_infer_dens',\n",
      "       'ds_n_consistent_complete_positions', 'account_penalties',\n",
      "       'faithfulness_penalties', 'weight_account', 'weight_systematicity',\n",
      "       'weight_faithfulness', 'init_coms', 'init_coms_dia_consistent',\n",
      "       'fixed_point_coms', 'fixed_point_coms_consistent', 'fixed_point_theory',\n",
      "       'fixed_point_dia_consistent', 'n_branches', 'fixed_points',\n",
      "       'n_fixed_points', 'fp_coms_consistent', 'fp_union_consistent',\n",
      "       'fixed_point_is_global_optimum', 'fixed_point_is_re_state',\n",
      "       'fixed_point_is_full_re_state', 'global_optima', 'n_global_optima',\n",
      "       'go_coms_consistent', 'go_union_consistent', 'go_full_re_state',\n",
      "       'full_re_states', 'n_full_re_states', 'go_fixed_point',\n",
      "       'fp_full_re_state', 'fp_global_optimum', 'configuration'],\n",
      "      dtype='object')\n"
     ]
    },
    {
     "data": {
      "text/plain": [
       "(327900, 35)"
      ]
     },
     "execution_count": 7,
     "metadata": {},
     "output_type": "execute_result"
    }
   ],
   "source": [
    "# loading the data\n",
    "\n",
    "data_file_name = 'data_full_spectrum_convergence_rand_ex_all_configs.csv.tar.gz'\n",
    "\n",
    "if data_file_name[data_file_name.find('.'):len(data_file_name)] == '.csv.tar.gz':\n",
    "    with tarfile.open(path.join(data_dir,data_file_name)) as tar:\n",
    "        for tarinfo in tar:\n",
    "            file_name = tarinfo.name\n",
    "        tar.extractall(data_dir)\n",
    "    re_data = pd.read_csv(path.join(data_dir, file_name))\n",
    "\n",
    "else:\n",
    "    re_data = pd.read_csv(path.join(data_dir,data_file_name))\n",
    "\n",
    "print(re_data.columns)\n",
    "re_data.shape"
   ]
  },
  {
   "cell_type": "code",
   "execution_count": 8,
   "id": "efde8d7b",
   "metadata": {},
   "outputs": [],
   "source": [
    "re_data[\"configuration\"] = re_data.apply(lambda row: (row[\"weight_account\"], \n",
    "                                                      row[\"weight_systematicity\"], \n",
    "                                                      row[\"weight_faithfulness\"]), axis=1)"
   ]
  },
  {
   "cell_type": "markdown",
   "id": "7d91ba13",
   "metadata": {},
   "source": [
    "## \"Anything Goes\": Epistemic States"
   ]
  },
  {
   "cell_type": "code",
   "execution_count": 9,
   "id": "6ef31736",
   "metadata": {},
   "outputs": [
    {
     "data": {
      "text/plain": [
       "(327900, 35)"
      ]
     },
     "execution_count": 9,
     "metadata": {},
     "output_type": "execute_result"
    }
   ],
   "source": [
    "#re_data = re_data[re_data[\"configuration\"]==(0.35, 0.55, 0.1)]\n",
    "re_data.shape"
   ]
  },
  {
   "cell_type": "code",
   "execution_count": 10,
   "id": "4b9cb0a9",
   "metadata": {},
   "outputs": [
    {
     "data": {
      "text/plain": [
       "(65580, 35)"
      ]
     },
     "execution_count": 10,
     "metadata": {},
     "output_type": "execute_result"
    }
   ],
   "source": [
    "re_data[re_data[\"configuration\"]==(0.35, 0.55, 0.1)].shape"
   ]
  },
  {
   "cell_type": "code",
   "execution_count": 11,
   "id": "4a6aa8f5",
   "metadata": {},
   "outputs": [],
   "source": [
    "literal_eval_cols(re_data, [\"fixed_points\", \"fp_full_re_state\"])"
   ]
  },
  {
   "cell_type": "code",
   "execution_count": 12,
   "id": "9e829c37",
   "metadata": {},
   "outputs": [],
   "source": [
    "fp_df = re_data[[\"ds\", \"configuration\", \"init_coms\", \"fixed_points\", \"fp_full_re_state\"]]"
   ]
  },
  {
   "cell_type": "code",
   "execution_count": 13,
   "id": "e5e6bc21",
   "metadata": {},
   "outputs": [],
   "source": [
    "fp_df[\"fixed_points_lengths\"] = fp_df.apply(lambda row: [(len(fp[0]), len(fp[1])) \n",
    "                                                                       for fp in row[\"fixed_points\"]], axis=1)"
   ]
  },
  {
   "cell_type": "code",
   "execution_count": 14,
   "id": "eeb23c43",
   "metadata": {},
   "outputs": [
    {
     "data": {
      "text/plain": [
       "(575470, 6)"
      ]
     },
     "execution_count": 14,
     "metadata": {},
     "output_type": "execute_result"
    }
   ],
   "source": [
    "# explode fixed point information\n",
    "ex_fp_df = fp_df.set_index([\"ds\", \"configuration\", \"init_coms\"]).apply(pd.Series.explode).reset_index()\n",
    "ex_fp_df.shape"
   ]
  },
  {
   "cell_type": "code",
   "execution_count": 15,
   "id": "a04a4f40",
   "metadata": {},
   "outputs": [
    {
     "data": {
      "text/plain": [
       "(215063, 6)"
      ]
     },
     "execution_count": 15,
     "metadata": {},
     "output_type": "execute_result"
    }
   ],
   "source": [
    "# restrict to full RE fixed points\n",
    "ex_fp_df = ex_fp_df[ex_fp_df[\"fp_full_re_state\"]]\n",
    "ex_fp_df.shape"
   ]
  },
  {
   "cell_type": "code",
   "execution_count": 16,
   "id": "affa40a2",
   "metadata": {},
   "outputs": [
    {
     "data": {
      "text/plain": [
       "configuration\n",
       "(0.35, 0.55, 0.1)    39772\n",
       "(0.46, 0.1, 0.44)    61964\n",
       "(0.55, 0.2, 0.25)    43616\n",
       "(0.55, 0.35, 0.1)    40556\n",
       "(0.7, 0.2, 0.1)      29155\n",
       "Name: fixed_points, dtype: int64"
      ]
     },
     "execution_count": 16,
     "metadata": {},
     "output_type": "execute_result"
    }
   ],
   "source": [
    "ex_fp_df.groupby(\"configuration\")[\"fixed_points\"].size()"
   ]
  },
  {
   "cell_type": "code",
   "execution_count": 17,
   "id": "cce81a1a",
   "metadata": {},
   "outputs": [
    {
     "data": {
      "text/plain": [
       "(191881, 6)"
      ]
     },
     "execution_count": 17,
     "metadata": {},
     "output_type": "execute_result"
    }
   ],
   "source": [
    "# restrict further to non-trivial full RE fixed points\n",
    "ex_fp_df = ex_fp_df[ex_fp_df[\"fixed_points_lengths\"]!=(1,1)]\n",
    "ex_fp_df.shape"
   ]
  },
  {
   "cell_type": "code",
   "execution_count": 18,
   "id": "84a39a2a",
   "metadata": {},
   "outputs": [
    {
     "data": {
      "text/plain": [
       "configuration\n",
       "(0.35, 0.55, 0.1)    28349\n",
       "(0.46, 0.1, 0.44)    61403\n",
       "(0.55, 0.2, 0.25)    41212\n",
       "(0.55, 0.35, 0.1)    34714\n",
       "(0.7, 0.2, 0.1)      26203\n",
       "Name: fixed_points, dtype: int64"
      ]
     },
     "execution_count": 18,
     "metadata": {},
     "output_type": "execute_result"
    }
   ],
   "source": [
    "ex_fp_df.groupby(\"configuration\")[\"fixed_points\"].size()"
   ]
  },
  {
   "cell_type": "code",
   "execution_count": 19,
   "id": "01222ec6",
   "metadata": {},
   "outputs": [
    {
     "data": {
      "text/plain": [
       "configuration\n",
       "(0.35, 0.55, 0.1)    23993\n",
       "(0.46, 0.1, 0.44)    45581\n",
       "(0.55, 0.2, 0.25)    30428\n",
       "(0.55, 0.35, 0.1)    27707\n",
       "(0.7, 0.2, 0.1)      19203\n",
       "Name: init_coms, dtype: int64"
      ]
     },
     "execution_count": 19,
     "metadata": {},
     "output_type": "execute_result"
    }
   ],
   "source": [
    "ex_fp_df.groupby([\"configuration\", \"ds\"])[\"init_coms\"].nunique().reset_index().groupby(\"configuration\")[\"init_coms\"].sum()"
   ]
  },
  {
   "cell_type": "code",
   "execution_count": 20,
   "id": "f4a7e8fc",
   "metadata": {},
   "outputs": [
    {
     "data": {
      "text/html": [
       "<div>\n",
       "<style scoped>\n",
       "    .dataframe tbody tr th:only-of-type {\n",
       "        vertical-align: middle;\n",
       "    }\n",
       "\n",
       "    .dataframe tbody tr th {\n",
       "        vertical-align: top;\n",
       "    }\n",
       "\n",
       "    .dataframe thead tr th {\n",
       "        text-align: left;\n",
       "    }\n",
       "\n",
       "    .dataframe thead tr:last-of-type th {\n",
       "        text-align: right;\n",
       "    }\n",
       "</style>\n",
       "<table border=\"1\" class=\"dataframe\">\n",
       "  <thead>\n",
       "    <tr>\n",
       "      <th></th>\n",
       "      <th colspan=\"5\" halign=\"left\">init_coms</th>\n",
       "    </tr>\n",
       "    <tr>\n",
       "      <th>level_1</th>\n",
       "      <th>0.00</th>\n",
       "      <th>0.25</th>\n",
       "      <th>0.50</th>\n",
       "      <th>0.75</th>\n",
       "      <th>1.00</th>\n",
       "    </tr>\n",
       "    <tr>\n",
       "      <th>configuration</th>\n",
       "      <th></th>\n",
       "      <th></th>\n",
       "      <th></th>\n",
       "      <th></th>\n",
       "      <th></th>\n",
       "    </tr>\n",
       "  </thead>\n",
       "  <tbody>\n",
       "    <tr>\n",
       "      <th>(0.35, 0.55, 0.1)</th>\n",
       "      <td>51</td>\n",
       "      <td>549</td>\n",
       "      <td>807</td>\n",
       "      <td>940</td>\n",
       "      <td>1618</td>\n",
       "    </tr>\n",
       "    <tr>\n",
       "      <th>(0.46, 0.1, 0.44)</th>\n",
       "      <td>1167</td>\n",
       "      <td>1436</td>\n",
       "      <td>1579</td>\n",
       "      <td>1648</td>\n",
       "      <td>1783</td>\n",
       "    </tr>\n",
       "    <tr>\n",
       "      <th>(0.55, 0.2, 0.25)</th>\n",
       "      <td>700</td>\n",
       "      <td>925</td>\n",
       "      <td>1044</td>\n",
       "      <td>1134</td>\n",
       "      <td>1331</td>\n",
       "    </tr>\n",
       "    <tr>\n",
       "      <th>(0.55, 0.35, 0.1)</th>\n",
       "      <td>315</td>\n",
       "      <td>757</td>\n",
       "      <td>946</td>\n",
       "      <td>1115</td>\n",
       "      <td>1497</td>\n",
       "    </tr>\n",
       "    <tr>\n",
       "      <th>(0.7, 0.2, 0.1)</th>\n",
       "      <td>313</td>\n",
       "      <td>494</td>\n",
       "      <td>536</td>\n",
       "      <td>787</td>\n",
       "      <td>1301</td>\n",
       "    </tr>\n",
       "  </tbody>\n",
       "</table>\n",
       "</div>"
      ],
      "text/plain": [
       "                  init_coms                        \n",
       "level_1                0.00  0.25  0.50  0.75  1.00\n",
       "configuration                                      \n",
       "(0.35, 0.55, 0.1)        51   549   807   940  1618\n",
       "(0.46, 0.1, 0.44)      1167  1436  1579  1648  1783\n",
       "(0.55, 0.2, 0.25)       700   925  1044  1134  1331\n",
       "(0.55, 0.35, 0.1)       315   757   946  1115  1497\n",
       "(0.7, 0.2, 0.1)         313   494   536   787  1301"
      ]
     },
     "execution_count": 20,
     "metadata": {},
     "output_type": "execute_result"
    }
   ],
   "source": [
    "dfff = ex_fp_df.groupby([\"configuration\", \"ds\"])[\"init_coms\"].nunique().reset_index().groupby(\"configuration\")[\"init_coms\"].quantile([0.0, 0.25, 0.50, 0.75, 1.0], interpolation=\"higher\").reset_index()\n",
    "\n",
    "dfff.pivot(index=\"configuration\", columns=\"level_1\", values=[\"init_coms\"])"
   ]
  },
  {
   "cell_type": "code",
   "execution_count": 21,
   "id": "de0bf897",
   "metadata": {},
   "outputs": [
    {
     "data": {
      "text/plain": [
       "count    146912.000000\n",
       "mean          1.306095\n",
       "std           0.753869\n",
       "min           1.000000\n",
       "25%           1.000000\n",
       "50%           1.000000\n",
       "75%           1.000000\n",
       "max          16.000000\n",
       "Name: fixed_points, dtype: float64"
      ]
     },
     "execution_count": 21,
     "metadata": {},
     "output_type": "execute_result"
    }
   ],
   "source": [
    "# non-trivial full RE fixed points per simulation setup.\n",
    "ex_fp_df.groupby([\"configuration\", \"ds\", \"init_coms\"])[\"fixed_points\"].size().describe()"
   ]
  },
  {
   "cell_type": "code",
   "execution_count": 22,
   "id": "eedd6c92",
   "metadata": {},
   "outputs": [
    {
     "data": {
      "text/plain": [
       "(30276, 4)"
      ]
     },
     "execution_count": 22,
     "metadata": {},
     "output_type": "execute_result"
    }
   ],
   "source": [
    "# number of simulation setups that result in more than one non-trivial full RE fixed point\n",
    "n_fp_df = ex_fp_df.groupby([\"configuration\", \"ds\", \"init_coms\"])[\"fixed_points\"].size().reset_index()\n",
    "n_fp_df[n_fp_df[\"fixed_points\"]>1].shape"
   ]
  },
  {
   "cell_type": "code",
   "execution_count": 23,
   "id": "c5faca88",
   "metadata": {},
   "outputs": [
    {
     "data": {
      "text/plain": [
       "4.2475117094915005"
      ]
     },
     "execution_count": 23,
     "metadata": {},
     "output_type": "execute_result"
    }
   ],
   "source": [
    "ex_fp_df.groupby([\"configuration\", \"ds\", \"init_coms\"])[\"fixed_points\"].size().skew()"
   ]
  },
  {
   "cell_type": "code",
   "execution_count": 24,
   "id": "3ecbffce",
   "metadata": {},
   "outputs": [],
   "source": [
    "# convert fixed points to sorted tuples\n",
    "ex_fp_df[\"fixed_points_tuple\"] = ex_fp_df.apply(lambda row: (tuple(sorted(row[\"fixed_points\"][0])), \n",
    "                                                             tuple(sorted(row[\"fixed_points\"][1]))), axis=1)"
   ]
  },
  {
   "cell_type": "code",
   "execution_count": 25,
   "id": "be5cf527",
   "metadata": {},
   "outputs": [],
   "source": [
    "dff = ex_fp_df.groupby([\"configuration\", \"ds\"])[\"fixed_points_tuple\"].nunique().reset_index()"
   ]
  },
  {
   "cell_type": "code",
   "execution_count": 26,
   "id": "e6bcbac6",
   "metadata": {},
   "outputs": [],
   "source": [
    "dfff = dff.groupby(\"configuration\")[\"fixed_points_tuple\"].quantile([0.0, 0.25, 0.50, 0.75, 1.0], interpolation=\"higher\").reset_index()"
   ]
  },
  {
   "cell_type": "code",
   "execution_count": 27,
   "id": "93eae48a",
   "metadata": {},
   "outputs": [
    {
     "data": {
      "text/html": [
       "<div>\n",
       "<style scoped>\n",
       "    .dataframe tbody tr th:only-of-type {\n",
       "        vertical-align: middle;\n",
       "    }\n",
       "\n",
       "    .dataframe tbody tr th {\n",
       "        vertical-align: top;\n",
       "    }\n",
       "\n",
       "    .dataframe thead tr th {\n",
       "        text-align: left;\n",
       "    }\n",
       "\n",
       "    .dataframe thead tr:last-of-type th {\n",
       "        text-align: right;\n",
       "    }\n",
       "</style>\n",
       "<table border=\"1\" class=\"dataframe\">\n",
       "  <thead>\n",
       "    <tr>\n",
       "      <th></th>\n",
       "      <th colspan=\"5\" halign=\"left\">fixed_points_tuple</th>\n",
       "    </tr>\n",
       "    <tr>\n",
       "      <th>level_1</th>\n",
       "      <th>0.00</th>\n",
       "      <th>0.25</th>\n",
       "      <th>0.50</th>\n",
       "      <th>0.75</th>\n",
       "      <th>1.00</th>\n",
       "    </tr>\n",
       "    <tr>\n",
       "      <th>configuration</th>\n",
       "      <th></th>\n",
       "      <th></th>\n",
       "      <th></th>\n",
       "      <th></th>\n",
       "      <th></th>\n",
       "    </tr>\n",
       "  </thead>\n",
       "  <tbody>\n",
       "    <tr>\n",
       "      <th>(0.35, 0.55, 0.1)</th>\n",
       "      <td>2</td>\n",
       "      <td>8</td>\n",
       "      <td>9</td>\n",
       "      <td>12</td>\n",
       "      <td>17</td>\n",
       "    </tr>\n",
       "    <tr>\n",
       "      <th>(0.46, 0.1, 0.44)</th>\n",
       "      <td>28</td>\n",
       "      <td>41</td>\n",
       "      <td>45</td>\n",
       "      <td>55</td>\n",
       "      <td>122</td>\n",
       "    </tr>\n",
       "    <tr>\n",
       "      <th>(0.55, 0.2, 0.25)</th>\n",
       "      <td>15</td>\n",
       "      <td>21</td>\n",
       "      <td>24</td>\n",
       "      <td>27</td>\n",
       "      <td>40</td>\n",
       "    </tr>\n",
       "    <tr>\n",
       "      <th>(0.55, 0.35, 0.1)</th>\n",
       "      <td>6</td>\n",
       "      <td>12</td>\n",
       "      <td>15</td>\n",
       "      <td>17</td>\n",
       "      <td>30</td>\n",
       "    </tr>\n",
       "    <tr>\n",
       "      <th>(0.7, 0.2, 0.1)</th>\n",
       "      <td>11</td>\n",
       "      <td>20</td>\n",
       "      <td>22</td>\n",
       "      <td>27</td>\n",
       "      <td>50</td>\n",
       "    </tr>\n",
       "  </tbody>\n",
       "</table>\n",
       "</div>"
      ],
      "text/plain": [
       "                  fixed_points_tuple                    \n",
       "level_1                         0.00 0.25 0.50 0.75 1.00\n",
       "configuration                                           \n",
       "(0.35, 0.55, 0.1)                  2    8    9   12   17\n",
       "(0.46, 0.1, 0.44)                 28   41   45   55  122\n",
       "(0.55, 0.2, 0.25)                 15   21   24   27   40\n",
       "(0.55, 0.35, 0.1)                  6   12   15   17   30\n",
       "(0.7, 0.2, 0.1)                   11   20   22   27   50"
      ]
     },
     "execution_count": 27,
     "metadata": {},
     "output_type": "execute_result"
    }
   ],
   "source": [
    "dfff.pivot(index=\"configuration\", columns=\"level_1\", values=[\"fixed_points_tuple\"])"
   ]
  },
  {
   "cell_type": "markdown",
   "id": "1f99e50c",
   "metadata": {},
   "source": [
    "### Line Plots"
   ]
  },
  {
   "cell_type": "code",
   "execution_count": 30,
   "id": "6d309c53",
   "metadata": {},
   "outputs": [],
   "source": [
    "# utility\n",
    "\n",
    "# position to integer representation\n",
    "def to_int(position):\n",
    "    result = 0\n",
    "    for s in position:\n",
    "        m = 2 if s<0 else 1\n",
    "        result += m*3**(abs(s)-1)\n",
    "    return result"
   ]
  },
  {
   "cell_type": "code",
   "execution_count": 31,
   "id": "63b6298c",
   "metadata": {},
   "outputs": [],
   "source": [
    "# ex_fp_df restricted to full RE and non-trivial fixed points\n",
    "literal_eval_cols(ex_fp_df, [\"init_coms\"])"
   ]
  },
  {
   "cell_type": "code",
   "execution_count": 33,
   "id": "39e13603",
   "metadata": {},
   "outputs": [],
   "source": [
    "# conversion of positions (set representation) to sorted tuples\n",
    "ex_fp_df[\"fp_coms\"] = ex_fp_df.apply(lambda row: tuple(sorted(row[\"fixed_points\"][1])), axis=1)\n",
    "ex_fp_df[\"init_coms\"] = ex_fp_df.apply(lambda row: tuple(sorted(row[\"init_coms\"])), axis=1)"
   ]
  },
  {
   "cell_type": "code",
   "execution_count": 34,
   "id": "d1c7d625",
   "metadata": {},
   "outputs": [],
   "source": [
    "# conversion of positions to integer representation\n",
    "ex_fp_df[\"ic_int\"] = ex_fp_df.apply(lambda row: to_int(row[\"init_coms\"]), axis=1)\n",
    "ex_fp_df[\"fp_ints\"] = ex_fp_df.apply(lambda row: to_int( row[\"fp_coms\"]), axis=1)"
   ]
  },
  {
   "cell_type": "code",
   "execution_count": 191,
   "id": "8ad03ef3",
   "metadata": {},
   "outputs": [
    {
     "data": {
      "text/html": [
       "<div>\n",
       "<style scoped>\n",
       "    .dataframe tbody tr th:only-of-type {\n",
       "        vertical-align: middle;\n",
       "    }\n",
       "\n",
       "    .dataframe tbody tr th {\n",
       "        vertical-align: top;\n",
       "    }\n",
       "\n",
       "    .dataframe thead th {\n",
       "        text-align: right;\n",
       "    }\n",
       "</style>\n",
       "<table border=\"1\" class=\"dataframe\">\n",
       "  <thead>\n",
       "    <tr style=\"text-align: right;\">\n",
       "      <th></th>\n",
       "      <th>fixed_points_tuple</th>\n",
       "      <th>init_coms</th>\n",
       "    </tr>\n",
       "    <tr>\n",
       "      <th>ds</th>\n",
       "      <th></th>\n",
       "      <th></th>\n",
       "    </tr>\n",
       "  </thead>\n",
       "  <tbody>\n",
       "    <tr>\n",
       "      <th>[[-1, -2, -5], [7, 6, -2], [-3, 1], [-6, -3, 5], [-4, 3], [4, -6]]</th>\n",
       "      <td>6</td>\n",
       "      <td>807</td>\n",
       "    </tr>\n",
       "    <tr>\n",
       "      <th>[[-1, 3, 4], [6, -2, -1], [7, 4], [7, 1, 6], [-5, 4], [2, 1], [-5, 3, -1]]</th>\n",
       "      <td>11</td>\n",
       "      <td>496</td>\n",
       "    </tr>\n",
       "    <tr>\n",
       "      <th>[[-1, 7], [-6, -5, 1], [-3, -4, -6], [2, 4], [-5, -1, -3]]</th>\n",
       "      <td>6</td>\n",
       "      <td>488</td>\n",
       "    </tr>\n",
       "    <tr>\n",
       "      <th>[[-3, -1, -2], [7, 5, -3], [-6, -1], [-4, -7], [2, -3]]</th>\n",
       "      <td>10</td>\n",
       "      <td>616</td>\n",
       "    </tr>\n",
       "    <tr>\n",
       "      <th>[[-3, -6], [1, -7, -3], [4, -2, 6], [3, -2, 7], [-7, 5, 3], [-2, 6], [1, -4]]</th>\n",
       "      <td>12</td>\n",
       "      <td>934</td>\n",
       "    </tr>\n",
       "    <tr>\n",
       "      <th>[[-4, 2, 7], [-1, 2], [6, 1], [5, -7], [-3, -5], [2, -3], [4, -5]]</th>\n",
       "      <td>11</td>\n",
       "      <td>1303</td>\n",
       "    </tr>\n",
       "    <tr>\n",
       "      <th>[[-5, -2, -6], [-4, -1, -5], [-7, 4], [3, 7, 6], [7, 2, -4], [5, -1], [-3, -4]]</th>\n",
       "      <td>14</td>\n",
       "      <td>820</td>\n",
       "    </tr>\n",
       "    <tr>\n",
       "      <th>[[-5, -6], [1, -7, 6], [-2, 4, 6], [-3, 6], [-3, 7], [-4, 2, 6], [-6, -1, -7]]</th>\n",
       "      <td>6</td>\n",
       "      <td>549</td>\n",
       "    </tr>\n",
       "    <tr>\n",
       "      <th>[[-5, 2, -7], [4, 6, -7], [-1, -3, 6], [4, 5, -6], [2, 6]]</th>\n",
       "      <td>4</td>\n",
       "      <td>188</td>\n",
       "    </tr>\n",
       "    <tr>\n",
       "      <th>[[-5, 3, 6], [-2, 3], [1, -5], [7, 2], [4, -1]]</th>\n",
       "      <td>9</td>\n",
       "      <td>940</td>\n",
       "    </tr>\n",
       "    <tr>\n",
       "      <th>[[-5, 6, 7], [4, 6], [3, -4], [2, -5], [1, -7], [-1, 4, 5], [6, 5, 1]]</th>\n",
       "      <td>12</td>\n",
       "      <td>1235</td>\n",
       "    </tr>\n",
       "    <tr>\n",
       "      <th>[[-6, -1, -4], [5, 7, 6], [-3, 2, 6], [-7, 1], [1, -5, -6], [-6, -4, -5], [5, -3]]</th>\n",
       "      <td>9</td>\n",
       "      <td>782</td>\n",
       "    </tr>\n",
       "    <tr>\n",
       "      <th>[[-6, -2, 4], [-1, 6], [3, -7, 2], [5, 7], [-2, -5], [-4, 1]]</th>\n",
       "      <td>9</td>\n",
       "      <td>555</td>\n",
       "    </tr>\n",
       "    <tr>\n",
       "      <th>[[-6, 1], [-5, 7, -6], [-3, -7], [-2, -5], [7, 4, 1], [-2, 1]]</th>\n",
       "      <td>8</td>\n",
       "      <td>918</td>\n",
       "    </tr>\n",
       "    <tr>\n",
       "      <th>[[-6, 4], [-3, 7, 4], [5, -6], [-2, -1, 5], [-1, -4, 3], [7, 4], [3, -4], [6, 3]]</th>\n",
       "      <td>15</td>\n",
       "      <td>918</td>\n",
       "    </tr>\n",
       "    <tr>\n",
       "      <th>[[-7, -5], [3, -1, 5], [2, 7], [-6, -7], [4, -3], [-7, 3]]</th>\n",
       "      <td>10</td>\n",
       "      <td>1387</td>\n",
       "    </tr>\n",
       "    <tr>\n",
       "      <th>[[1, -7], [-6, -2, -1], [3, 4, -6], [6, 7, -2], [-2, 5, 1], [-1, 7]]</th>\n",
       "      <td>10</td>\n",
       "      <td>226</td>\n",
       "    </tr>\n",
       "    <tr>\n",
       "      <th>[[1, 7, -3], [-4, -6, -3], [-2, 3], [5, -2], [4, -5, 1], [4, 1, -5]]</th>\n",
       "      <td>6</td>\n",
       "      <td>867</td>\n",
       "    </tr>\n",
       "    <tr>\n",
       "      <th>[[2, -3], [4, 3], [-6, 7, 2], [-5, -3], [2, -6, 3], [-1, 4, -5], [-4, 7]]</th>\n",
       "      <td>12</td>\n",
       "      <td>1618</td>\n",
       "    </tr>\n",
       "    <tr>\n",
       "      <th>[[3, -4, 7], [6, -3], [2, -1, -3], [5, -7], [-6, -2]]</th>\n",
       "      <td>8</td>\n",
       "      <td>693</td>\n",
       "    </tr>\n",
       "    <tr>\n",
       "      <th>[[3, 2], [5, -2], [1, -2], [-4, -5], [7, -6, -4]]</th>\n",
       "      <td>8</td>\n",
       "      <td>741</td>\n",
       "    </tr>\n",
       "    <tr>\n",
       "      <th>[[3, 4], [-1, 7, 3], [-5, -1], [-6, -2, -1], [-4, 7]]</th>\n",
       "      <td>8</td>\n",
       "      <td>796</td>\n",
       "    </tr>\n",
       "    <tr>\n",
       "      <th>[[4, -1, -5], [-3, -1], [6, -1], [-7, -5], [-1, -6, 3], [-2, -7], [-1, -7, 2]]</th>\n",
       "      <td>13</td>\n",
       "      <td>1357</td>\n",
       "    </tr>\n",
       "    <tr>\n",
       "      <th>[[4, 2, -6], [3, -1, 4], [-5, -3], [1, -7, 3], [1, -2], [-7, -6], [7, 3]]</th>\n",
       "      <td>13</td>\n",
       "      <td>1179</td>\n",
       "    </tr>\n",
       "    <tr>\n",
       "      <th>[[5, -2, -7], [-3, 4, 2], [6, -1, 4], [3, 2], [4, 6]]</th>\n",
       "      <td>4</td>\n",
       "      <td>398</td>\n",
       "    </tr>\n",
       "    <tr>\n",
       "      <th>[[5, -7], [-3, 6, -5], [-2, -6], [4, 1, 3], [-6, 3, 7], [3, -7, 1]]</th>\n",
       "      <td>9</td>\n",
       "      <td>497</td>\n",
       "    </tr>\n",
       "    <tr>\n",
       "      <th>[[6, -5, -3], [4, 2, -5], [-7, -1, -5], [5, 1, 6], [-1, -2, 3]]</th>\n",
       "      <td>2</td>\n",
       "      <td>51</td>\n",
       "    </tr>\n",
       "    <tr>\n",
       "      <th>[[6, -7, 5], [-3, -5], [1, 5], [2, -7], [4, 3], [4, -2, -5], [7, -6, 1], [2, -6]]</th>\n",
       "      <td>17</td>\n",
       "      <td>1397</td>\n",
       "    </tr>\n",
       "    <tr>\n",
       "      <th>[[7, 1], [6, -5, 7], [2, -3, 5], [-4, -1, 6], [3, 6, 7], [-6, -4]]</th>\n",
       "      <td>8</td>\n",
       "      <td>840</td>\n",
       "    </tr>\n",
       "    <tr>\n",
       "      <th>[[7, 5], [-1, -4, 7], [3, -2, 5], [-4, -6, -3], [-5, -1, -4], [-1, -3]]</th>\n",
       "      <td>4</td>\n",
       "      <td>397</td>\n",
       "    </tr>\n",
       "  </tbody>\n",
       "</table>\n",
       "</div>"
      ],
      "text/plain": [
       "                                                    fixed_points_tuple  \\\n",
       "ds                                                                       \n",
       "[[-1, -2, -5], [7, 6, -2], [-3, 1], [-6, -3, 5]...                   6   \n",
       "[[-1, 3, 4], [6, -2, -1], [7, 4], [7, 1, 6], [-...                  11   \n",
       "[[-1, 7], [-6, -5, 1], [-3, -4, -6], [2, 4], [-...                   6   \n",
       "[[-3, -1, -2], [7, 5, -3], [-6, -1], [-4, -7], ...                  10   \n",
       "[[-3, -6], [1, -7, -3], [4, -2, 6], [3, -2, 7],...                  12   \n",
       "[[-4, 2, 7], [-1, 2], [6, 1], [5, -7], [-3, -5]...                  11   \n",
       "[[-5, -2, -6], [-4, -1, -5], [-7, 4], [3, 7, 6]...                  14   \n",
       "[[-5, -6], [1, -7, 6], [-2, 4, 6], [-3, 6], [-3...                   6   \n",
       "[[-5, 2, -7], [4, 6, -7], [-1, -3, 6], [4, 5, -...                   4   \n",
       "[[-5, 3, 6], [-2, 3], [1, -5], [7, 2], [4, -1]]                      9   \n",
       "[[-5, 6, 7], [4, 6], [3, -4], [2, -5], [1, -7],...                  12   \n",
       "[[-6, -1, -4], [5, 7, 6], [-3, 2, 6], [-7, 1], ...                   9   \n",
       "[[-6, -2, 4], [-1, 6], [3, -7, 2], [5, 7], [-2,...                   9   \n",
       "[[-6, 1], [-5, 7, -6], [-3, -7], [-2, -5], [7, ...                   8   \n",
       "[[-6, 4], [-3, 7, 4], [5, -6], [-2, -1, 5], [-1...                  15   \n",
       "[[-7, -5], [3, -1, 5], [2, 7], [-6, -7], [4, -3...                  10   \n",
       "[[1, -7], [-6, -2, -1], [3, 4, -6], [6, 7, -2],...                  10   \n",
       "[[1, 7, -3], [-4, -6, -3], [-2, 3], [5, -2], [4...                   6   \n",
       "[[2, -3], [4, 3], [-6, 7, 2], [-5, -3], [2, -6,...                  12   \n",
       "[[3, -4, 7], [6, -3], [2, -1, -3], [5, -7], [-6...                   8   \n",
       "[[3, 2], [5, -2], [1, -2], [-4, -5], [7, -6, -4]]                    8   \n",
       "[[3, 4], [-1, 7, 3], [-5, -1], [-6, -2, -1], [-...                   8   \n",
       "[[4, -1, -5], [-3, -1], [6, -1], [-7, -5], [-1,...                  13   \n",
       "[[4, 2, -6], [3, -1, 4], [-5, -3], [1, -7, 3], ...                  13   \n",
       "[[5, -2, -7], [-3, 4, 2], [6, -1, 4], [3, 2], [...                   4   \n",
       "[[5, -7], [-3, 6, -5], [-2, -6], [4, 1, 3], [-6...                   9   \n",
       "[[6, -5, -3], [4, 2, -5], [-7, -1, -5], [5, 1, ...                   2   \n",
       "[[6, -7, 5], [-3, -5], [1, 5], [2, -7], [4, 3],...                  17   \n",
       "[[7, 1], [6, -5, 7], [2, -3, 5], [-4, -1, 6], [...                   8   \n",
       "[[7, 5], [-1, -4, 7], [3, -2, 5], [-4, -6, -3],...                   4   \n",
       "\n",
       "                                                    init_coms  \n",
       "ds                                                             \n",
       "[[-1, -2, -5], [7, 6, -2], [-3, 1], [-6, -3, 5]...        807  \n",
       "[[-1, 3, 4], [6, -2, -1], [7, 4], [7, 1, 6], [-...        496  \n",
       "[[-1, 7], [-6, -5, 1], [-3, -4, -6], [2, 4], [-...        488  \n",
       "[[-3, -1, -2], [7, 5, -3], [-6, -1], [-4, -7], ...        616  \n",
       "[[-3, -6], [1, -7, -3], [4, -2, 6], [3, -2, 7],...        934  \n",
       "[[-4, 2, 7], [-1, 2], [6, 1], [5, -7], [-3, -5]...       1303  \n",
       "[[-5, -2, -6], [-4, -1, -5], [-7, 4], [3, 7, 6]...        820  \n",
       "[[-5, -6], [1, -7, 6], [-2, 4, 6], [-3, 6], [-3...        549  \n",
       "[[-5, 2, -7], [4, 6, -7], [-1, -3, 6], [4, 5, -...        188  \n",
       "[[-5, 3, 6], [-2, 3], [1, -5], [7, 2], [4, -1]]           940  \n",
       "[[-5, 6, 7], [4, 6], [3, -4], [2, -5], [1, -7],...       1235  \n",
       "[[-6, -1, -4], [5, 7, 6], [-3, 2, 6], [-7, 1], ...        782  \n",
       "[[-6, -2, 4], [-1, 6], [3, -7, 2], [5, 7], [-2,...        555  \n",
       "[[-6, 1], [-5, 7, -6], [-3, -7], [-2, -5], [7, ...        918  \n",
       "[[-6, 4], [-3, 7, 4], [5, -6], [-2, -1, 5], [-1...        918  \n",
       "[[-7, -5], [3, -1, 5], [2, 7], [-6, -7], [4, -3...       1387  \n",
       "[[1, -7], [-6, -2, -1], [3, 4, -6], [6, 7, -2],...        226  \n",
       "[[1, 7, -3], [-4, -6, -3], [-2, 3], [5, -2], [4...        867  \n",
       "[[2, -3], [4, 3], [-6, 7, 2], [-5, -3], [2, -6,...       1618  \n",
       "[[3, -4, 7], [6, -3], [2, -1, -3], [5, -7], [-6...        693  \n",
       "[[3, 2], [5, -2], [1, -2], [-4, -5], [7, -6, -4]]         741  \n",
       "[[3, 4], [-1, 7, 3], [-5, -1], [-6, -2, -1], [-...        796  \n",
       "[[4, -1, -5], [-3, -1], [6, -1], [-7, -5], [-1,...       1357  \n",
       "[[4, 2, -6], [3, -1, 4], [-5, -3], [1, -7, 3], ...       1179  \n",
       "[[5, -2, -7], [-3, 4, 2], [6, -1, 4], [3, 2], [...        398  \n",
       "[[5, -7], [-3, 6, -5], [-2, -6], [4, 1, 3], [-6...        497  \n",
       "[[6, -5, -3], [4, 2, -5], [-7, -1, -5], [5, 1, ...         51  \n",
       "[[6, -7, 5], [-3, -5], [1, 5], [2, -7], [4, 3],...       1397  \n",
       "[[7, 1], [6, -5, 7], [2, -3, 5], [-4, -1, 6], [...        840  \n",
       "[[7, 5], [-1, -4, 7], [3, -2, 5], [-4, -6, -3],...        397  "
      ]
     },
     "execution_count": 191,
     "metadata": {},
     "output_type": "execute_result"
    }
   ],
   "source": [
    "ex_fp_df[ex_fp_df[\"configuration\"]==(0.35, 0.55, 0.1)].groupby(\"ds\")[[\"fixed_points_tuple\", \"init_coms\"]].nunique()"
   ]
  },
  {
   "cell_type": "code",
   "execution_count": 189,
   "id": "d503fe23",
   "metadata": {},
   "outputs": [
    {
     "data": {
      "text/plain": [
       "ds\n",
       "[[-1, -2, -5], [7, 6, -2], [-3, 1], [-6, -3, 5], [-4, 3], [4, -6]]                     807\n",
       "[[-1, 3, 4], [6, -2, -1], [7, 4], [7, 1, 6], [-5, 4], [2, 1], [-5, 3, -1]]             496\n",
       "[[-1, 7], [-6, -5, 1], [-3, -4, -6], [2, 4], [-5, -1, -3]]                             488\n",
       "[[-3, -1, -2], [7, 5, -3], [-6, -1], [-4, -7], [2, -3]]                                616\n",
       "[[-3, -6], [1, -7, -3], [4, -2, 6], [3, -2, 7], [-7, 5, 3], [-2, 6], [1, -4]]          934\n",
       "[[-4, 2, 7], [-1, 2], [6, 1], [5, -7], [-3, -5], [2, -3], [4, -5]]                    1303\n",
       "[[-5, -2, -6], [-4, -1, -5], [-7, 4], [3, 7, 6], [7, 2, -4], [5, -1], [-3, -4]]        820\n",
       "[[-5, -6], [1, -7, 6], [-2, 4, 6], [-3, 6], [-3, 7], [-4, 2, 6], [-6, -1, -7]]         549\n",
       "[[-5, 2, -7], [4, 6, -7], [-1, -3, 6], [4, 5, -6], [2, 6]]                             188\n",
       "[[-5, 3, 6], [-2, 3], [1, -5], [7, 2], [4, -1]]                                        940\n",
       "[[-5, 6, 7], [4, 6], [3, -4], [2, -5], [1, -7], [-1, 4, 5], [6, 5, 1]]                1235\n",
       "[[-6, -1, -4], [5, 7, 6], [-3, 2, 6], [-7, 1], [1, -5, -6], [-6, -4, -5], [5, -3]]     782\n",
       "[[-6, -2, 4], [-1, 6], [3, -7, 2], [5, 7], [-2, -5], [-4, 1]]                          555\n",
       "[[-6, 1], [-5, 7, -6], [-3, -7], [-2, -5], [7, 4, 1], [-2, 1]]                         918\n",
       "[[-6, 4], [-3, 7, 4], [5, -6], [-2, -1, 5], [-1, -4, 3], [7, 4], [3, -4], [6, 3]]      918\n",
       "[[-7, -5], [3, -1, 5], [2, 7], [-6, -7], [4, -3], [-7, 3]]                            1387\n",
       "[[1, -7], [-6, -2, -1], [3, 4, -6], [6, 7, -2], [-2, 5, 1], [-1, 7]]                   226\n",
       "[[1, 7, -3], [-4, -6, -3], [-2, 3], [5, -2], [4, -5, 1], [4, 1, -5]]                   867\n",
       "[[2, -3], [4, 3], [-6, 7, 2], [-5, -3], [2, -6, 3], [-1, 4, -5], [-4, 7]]             1618\n",
       "[[3, -4, 7], [6, -3], [2, -1, -3], [5, -7], [-6, -2]]                                  693\n",
       "[[3, 2], [5, -2], [1, -2], [-4, -5], [7, -6, -4]]                                      741\n",
       "[[3, 4], [-1, 7, 3], [-5, -1], [-6, -2, -1], [-4, 7]]                                  796\n",
       "[[4, -1, -5], [-3, -1], [6, -1], [-7, -5], [-1, -6, 3], [-2, -7], [-1, -7, 2]]        1357\n",
       "[[4, 2, -6], [3, -1, 4], [-5, -3], [1, -7, 3], [1, -2], [-7, -6], [7, 3]]             1179\n",
       "[[5, -2, -7], [-3, 4, 2], [6, -1, 4], [3, 2], [4, 6]]                                  398\n",
       "[[5, -7], [-3, 6, -5], [-2, -6], [4, 1, 3], [-6, 3, 7], [3, -7, 1]]                    497\n",
       "[[6, -5, -3], [4, 2, -5], [-7, -1, -5], [5, 1, 6], [-1, -2, 3]]                         51\n",
       "[[6, -7, 5], [-3, -5], [1, 5], [2, -7], [4, 3], [4, -2, -5], [7, -6, 1], [2, -6]]     1397\n",
       "[[7, 1], [6, -5, 7], [2, -3, 5], [-4, -1, 6], [3, 6, 7], [-6, -4]]                     840\n",
       "[[7, 5], [-1, -4, 7], [3, -2, 5], [-4, -6, -3], [-5, -1, -4], [-1, -3]]                397\n",
       "Name: init_coms, dtype: int64"
      ]
     },
     "execution_count": 189,
     "metadata": {},
     "output_type": "execute_result"
    }
   ],
   "source": [
    "ex_fp_df[ex_fp_df[\"configuration\"]==(0.35, 0.55, 0.1)].groupby(\"ds\")[\"init_coms\"].nunique()"
   ]
  },
  {
   "cell_type": "code",
   "execution_count": 193,
   "id": "76b6731e",
   "metadata": {},
   "outputs": [
    {
     "name": "stdout",
     "output_type": "stream",
     "text": [
      "[1580, 2063, 1455, 1097, 1200, 963, 36, 1494, 945, 163, 119, 1209]\n",
      "[(-7, -1, 2, 3, 4, 5), (-7, -6, -1, 3, 4, 5), (-6, -5, -4, -3, -2, 7), (-2, -1, 3, 4, 5, 6, 7), (-5, -4, 2, 3, 6, 7), (-5, -4, -3, 7), (3, 4), (-7, 3, 4), (-5, -4, 7), (-5, 1), (-1, 3, 4, 5), (-5, -4, -3, 2, 6, 7)]\n"
     ]
    }
   ],
   "source": [
    "df = ex_fp_df[(ex_fp_df[\"configuration\"]==configuration) & (ex_fp_df[\"ds\"]==ds)]\n",
    "\n",
    "print(list(df[\"fp_ints\"].unique()))\n",
    "print(list(df[\"fp_coms\"].unique()))"
   ]
  },
  {
   "cell_type": "code",
   "execution_count": 196,
   "id": "4f8ee6c1",
   "metadata": {},
   "outputs": [],
   "source": [
    "# creating custom annotations manually\n",
    "\n",
    "#annotation_y = [2176, 1690, 972, 974, 975, 990, 1017, 1053, 1118, 63]\n",
    "annotation_y = [2190, 1700, 967, 993, 1020, 1055, 1118, 48]\n",
    "\n",
    "annotation_name = [\"{-7, -6, -5, -4, -2, 1, 3}\", \n",
    "                   \"{-7, -5, -4, -2, 1, 3}\", \n",
    "                   \"{6, 7}, {-1, 6, 7}, {2, 6, 7}\", \n",
    "                   \"{-3, 6, 7}\", \n",
    "                   \"{-3, 4, 6, 7}\", \n",
    "                   \"{5, 6, 7}\", \n",
    "                   \"{-4, -1, 3, 5, 6, 7}\", \n",
    "                   \"{-4,3}\"\n",
    "                  ]\n",
    "\n",
    "#annotation_name = list(df[\"fp_coms\"].unique())\n",
    "\n",
    "#arrow_y = list(df[\"fp_ints\"].unique())\n"
   ]
  },
  {
   "cell_type": "code",
   "execution_count": 218,
   "id": "d8f6a2ab",
   "metadata": {},
   "outputs": [],
   "source": [
    "# creating custom annotations manually\n",
    "\n",
    "#annotation_y = [1580, 2063, 1455, 1097, 1200, 963, 36, 1494, 945, 163, 119, 1209]\n",
    "annotation_y = [1600, 2080, 1455, 1097, 1190, 970, 23, 1510, 938, 150, 106, 1220]\n",
    "\n",
    "annotation_name = [\"{-7, -1, 2, 3, 4, 5}\", \n",
    "                   \"{-7, -6, -1, 3, 4, 5}\", \n",
    "                   \"{-6, -5, -4, -3, -2, 7}\", \n",
    "                   \"{-2, -1, 3, 4, 5, 6, 7}\", \n",
    "                   \"{-5, -4, 2, 3, 6, 7}\", \n",
    "                   \"{-5, -4, -3, 7}\", \n",
    "                   \"{3, 4}\", \n",
    "                   \"{-7, 3, 4}\", \n",
    "                   \"{-5, -4, 7}\", \n",
    "                   \"{-5, 1}\", \n",
    "                   \"{-1, 3, 4, 5}\", \n",
    "                   \"{-5, -4, -3, 2, 6, 7}\", \n",
    "                  ]\n",
    "\n",
    "#annotation_name = list(df[\"fp_coms\"].unique())\n",
    "\n",
    "#arrow_y = list(df[\"fp_ints\"].unique())"
   ]
  },
  {
   "cell_type": "code",
   "execution_count": 232,
   "id": "56f72eed",
   "metadata": {},
   "outputs": [
    {
     "name": "stdout",
     "output_type": "stream",
     "text": [
      "(1134, 10)\n",
      "12\n",
      "820\n",
      "0.25    40.0\n",
      "0.50    61.0\n",
      "0.75    83.0\n",
      "Name: ic_int, dtype: float64\n"
     ]
    },
    {
     "data": {
      "application/vnd.plotly.v1+json": {
       "config": {
        "plotlyServerURL": "https://plot.ly"
       },
       "data": [
        {
         "dimensions": [
          {
           "label": "Initial<br>commitments",
           "range": [
            1,
            2186
           ],
           "ticktext": [],
           "tickvals": [],
           "values": [
            2029,
            2029,
            2038,
            2038,
            2041,
            2044,
            2046,
            2046,
            2048,
            2048,
            2049,
            2049,
            2051,
            2056,
            2056,
            2059,
            1223,
            1223,
            2065,
            2065,
            2068,
            1228,
            1231,
            1231,
            1232,
            1232,
            2071,
            2073,
            2073,
            2075,
            2075,
            1233,
            1234,
            1235,
            2076,
            2078,
            2080,
            2082,
            2082,
            2084,
            2084,
            2087,
            2085,
            2085,
            1249,
            1249,
            1250,
            1250,
            2089,
            2091,
            2091,
            2093,
            2093,
            1251,
            1251,
            2094,
            2096,
            1257,
            1257,
            1258,
            1258,
            1259,
            1259,
            2099,
            2103,
            2103,
            1267,
            1267,
            1268,
            1268,
            1269,
            1270,
            1271,
            1282,
            1283,
            1285,
            1285,
            1286,
            1286,
            1287,
            2107,
            2111,
            2111,
            2120,
            2120,
            2123,
            2131,
            2131,
            2132,
            2132,
            1683,
            1683,
            1683,
            2138,
            2138,
            2141,
            1303,
            1303,
            1304,
            1304,
            2147,
            2147,
            2150,
            1311,
            1311,
            1312,
            1312,
            1313,
            1313,
            2153,
            2157,
            2157,
            1321,
            1321,
            1322,
            1322,
            2160,
            2167,
            2167,
            1331,
            1331,
            1330,
            1330,
            1329,
            1329,
            2172,
            2175,
            2175,
            497,
            1338,
            1338,
            1339,
            1339,
            1340,
            1340,
            1349,
            1349,
            1350,
            515,
            1357,
            1357,
            1358,
            1358,
            1362,
            522,
            523,
            524,
            525,
            1367,
            1367,
            528,
            531,
            1375,
            1375,
            1376,
            1376,
            538,
            538,
            549,
            553,
            556,
            556,
            558,
            559,
            560,
            1458,
            1459,
            1467,
            1468,
            1469,
            1470,
            1473,
            1474,
            1476,
            1477,
            1477,
            1377,
            1378,
            1379,
            1390,
            1391,
            1393,
            1393,
            1394,
            1394,
            1395,
            1485,
            1486,
            1488,
            1487,
            1491,
            1492,
            1494,
            1495,
            1496,
            1497,
            1500,
            1501,
            1503,
            1504,
            1505,
            1506,
            1509,
            1404,
            568,
            569,
            1411,
            1411,
            1412,
            1412,
            1416,
            576,
            1421,
            1421,
            578,
            1512,
            1512,
            1429,
            1429,
            1430,
            1430,
            1513,
            1513,
            1513,
            1521,
            1522,
            1523,
            1524,
            1527,
            1530,
            1531,
            1532,
            1431,
            1432,
            1433,
            594,
            596,
            1444,
            1445,
            603,
            1447,
            1447,
            1448,
            1448,
            605,
            1449,
            646,
            646,
            647,
            647,
            1539,
            1540,
            1541,
            1548,
            1550,
            1557,
            1557,
            1561,
            1566,
            1568,
            1575,
            1577,
            740,
            745,
            745,
            1584,
            1588,
            747,
            748,
            749,
            750,
            751,
            752,
            753,
            754,
            649,
            650,
            652,
            655,
            658,
            1593,
            666,
            667,
            668,
            758,
            763,
            763,
            1602,
            1606,
            765,
            765,
            766,
            766,
            767,
            768,
            768,
            772,
            772,
            1611,
            1616,
            774,
            775,
            776,
            782,
            782,
            676,
            684,
            783,
            784,
            700,
            700,
            701,
            701,
            786,
            787,
            788,
            785,
            789,
            790,
            792,
            792,
            793,
            794,
            800,
            800,
            801,
            802,
            803,
            804,
            807,
            702,
            703,
            704,
            715,
            716,
            718,
            718,
            719,
            719,
            720,
            1621,
            1622,
            1624,
            1627,
            1629,
            1635,
            1638,
            1639,
            1640,
            1647,
            811,
            812,
            1653,
            817,
            817,
            1656,
            819,
            821,
            1662,
            826,
            826,
            1665,
            1665,
            1670,
            828,
            829,
            830,
            836,
            836,
            1674,
            1675,
            1675,
            1676,
            1677,
            837,
            839,
            1680,
            1,
            844,
            844,
            1688,
            846,
            847,
            848,
            11,
            853,
            853,
            14,
            1692,
            17,
            1693,
            1694,
            855,
            857,
            18,
            19,
            863,
            863,
            862,
            862,
            861,
            861,
            864,
            865,
            866,
            867,
            27,
            28,
            28,
            29,
            870,
            32,
            872,
            872,
            35,
            873,
            873,
            875,
            877,
            36,
            37,
            38,
            881,
            881,
            880,
            880,
            39,
            40,
            41,
            879,
            879,
            42,
            43,
            44,
            882,
            883,
            884,
            45,
            46,
            47,
            48,
            51,
            54,
            55,
            63,
            64,
            65,
            69,
            72,
            73,
            74,
            75,
            76,
            77,
            78,
            79,
            80,
            891,
            892,
            893,
            894,
            895,
            896,
            897,
            898,
            900,
            900,
            901,
            902,
            908,
            908,
            909,
            910,
            911,
            912,
            915,
            918,
            919,
            919,
            920,
            921,
            81,
            82,
            83,
            924,
            85,
            86,
            926,
            926,
            88,
            89,
            927,
            927,
            927,
            927,
            929,
            90,
            91,
            92,
            935,
            935,
            934,
            934,
            93,
            95,
            933,
            933,
            96,
            98,
            936,
            937,
            938,
            99,
            99,
            100,
            101,
            945,
            946,
            947,
            948,
            949,
            950,
            108,
            109,
            110,
            953,
            952,
            111,
            113,
            951,
            114,
            116,
            954,
            954,
            955,
            955,
            956,
            956,
            117,
            118,
            119,
            120,
            122,
            123,
            125,
            963,
            964,
            965,
            966,
            126,
            127,
            128,
            969,
            135,
            136,
            137,
            144,
            145,
            146,
            153,
            154,
            155,
            163,
            164,
            166,
            167,
            169,
            170,
            172,
            173,
            175,
            178,
            180,
            181,
            182,
            183,
            184,
            185,
            186,
            187,
            188,
            190,
            191,
            193,
            196,
            198,
            200,
            201,
            204,
            207,
            208,
            209,
            216,
            217,
            218,
            219,
            220,
            221,
            222,
            223,
            224,
            225,
            225,
            226,
            227,
            234,
            235,
            236,
            237,
            240,
            1709,
            1709,
            1710,
            1711,
            1718,
            1718,
            1723,
            1724,
            1724,
            1727,
            1727,
            1728,
            1729,
            1731,
            1736,
            1736,
            1737,
            1738,
            1740,
            1743,
            1745,
            1745,
            1746,
            1751,
            1754,
            1754,
            1759,
            1759,
            1760,
            1760,
            1763,
            1763,
            1764,
            1768,
            1769,
            1769,
            1772,
            1772,
            1777,
            1778,
            1788,
            1788,
            1789,
            1789,
            1790,
            1790,
            1795,
            1797,
            1797,
            1798,
            1798,
            1799,
            1799,
            1803,
            1805,
            1806,
            1806,
            1808,
            1808,
            1813,
            1817,
            1817,
            1816,
            1816,
            977,
            977,
            1815,
            1815,
            979,
            979,
            980,
            980,
            1822,
            982,
            982,
            1824,
            1824,
            1825,
            1825,
            985,
            986,
            986,
            1826,
            1826,
            987,
            987,
            988,
            988,
            989,
            989,
            1830,
            1832,
            990,
            991,
            1835,
            1835,
            1833,
            1833,
            998,
            998,
            1839,
            1839,
            1841,
            1000,
            1000,
            1842,
            1842,
            1003,
            1003,
            1004,
            1004,
            1844,
            1844,
            1005,
            1005,
            1006,
            1006,
            1007,
            1007,
            1848,
            1850,
            1009,
            1009,
            1853,
            1853,
            1012,
            1012,
            1013,
            1013,
            1851,
            1851,
            1014,
            1014,
            1015,
            1015,
            1016,
            1016,
            1857,
            1019,
            1019,
            1021,
            1022,
            1022,
            1023,
            1023,
            1024,
            1024,
            1025,
            1025,
            1026,
            1027,
            1034,
            1034,
            1037,
            1037,
            1038,
            1039,
            1040,
            1042,
            1042,
            1043,
            1043,
            1044,
            1597,
            1864,
            1868,
            1868,
            1871,
            1871,
            1877,
            1877,
            1880,
            1880,
            1885,
            1886,
            1890,
            1895,
            1054,
            1054,
            1057,
            1057,
            1058,
            1058,
            1898,
            1898,
            1059,
            1059,
            1060,
            1060,
            1061,
            1061,
            1899,
            1904,
            1063,
            1063,
            1907,
            1907,
            1066,
            1066,
            1067,
            1067,
            1068,
            1068,
            1069,
            1069,
            1070,
            1070,
            1911,
            1073,
            1073,
            1075,
            1076,
            1076,
            1077,
            1077,
            1078,
            1078,
            1079,
            1079,
            1917,
            1921,
            1921,
            1922,
            1922,
            1081,
            1081,
            1083,
            1083,
            1084,
            1084,
            1085,
            1085,
            1086,
            1086,
            1087,
            1087,
            1088,
            1088,
            1928,
            1931,
            1090,
            1090,
            1930,
            1929,
            1092,
            1092,
            1093,
            1093,
            1094,
            1094,
            1932,
            254,
            1097,
            1097,
            1096,
            1096,
            1095,
            1095,
            259,
            259,
            1939,
            1940,
            1098,
            1098,
            1099,
            1099,
            1100,
            1100,
            1103,
            1103,
            1104,
            1104,
            1105,
            1105,
            1106,
            1106,
            269,
            269,
            1107,
            1109,
            1109,
            1111,
            1111,
            1112,
            1112,
            272,
            1115,
            1115,
            1114,
            1114,
            1113,
            1113,
            277,
            277,
            1117,
            1117,
            1118,
            1118,
            1119,
            1120,
            1121,
            1121,
            279,
            280,
            281,
            1122,
            1122,
            1123,
            1123,
            282,
            1124,
            1124,
            286,
            286,
            1129,
            1130,
            288,
            292,
            1133,
            1133,
            294,
            294,
            295,
            295,
            296,
            296,
            305,
            305,
            309,
            310,
            312,
            312,
            313,
            313,
            314,
            314,
            315,
            316,
            317,
            1134,
            1135,
            1142,
            1142,
            1145,
            1145,
            1146,
            1147,
            1148,
            1150,
            1150,
            1151,
            1151,
            1152,
            1161,
            1163,
            1163,
            1165,
            1165,
            1166,
            1166,
            325,
            326,
            1167,
            1167,
            1168,
            1168,
            1169,
            1169,
            331,
            331,
            1171,
            1171,
            1172,
            1172,
            1173,
            1174,
            1175,
            1175,
            333,
            335,
            1176,
            1176,
            1177,
            1177,
            1178,
            1178,
            340,
            340,
            1183,
            1184,
            1187,
            1187,
            348,
            348,
            349,
            349,
            350,
            350,
            1188,
            1189,
            1190,
            351,
            353,
            358,
            358,
            1200,
            1201,
            1202,
            360,
            362,
            1205,
            1205,
            1204,
            367,
            367,
            1206,
            375,
            375,
            376,
            376,
            377,
            377,
            382,
            382,
            384,
            384,
            385,
            385,
            386,
            386,
            391,
            393,
            393,
            394,
            394,
            395,
            395,
            400,
            401,
            404,
            404,
            406,
            407,
            409,
            412,
            413,
            413,
            415,
            417,
            420,
            420,
            422,
            422,
            423,
            424,
            425,
            433,
            438,
            438,
            440,
            440,
            441,
            447,
            447,
            448,
            448,
            449,
            449,
            454,
            455,
            458,
            458,
            459,
            460,
            461,
            471,
            472,
            473,
            475,
            476,
            476,
            477,
            2168,
            2168,
            2171,
            1953,
            1956,
            1959,
            1967,
            1967,
            1969,
            1969,
            1970,
            1970,
            1970,
            1971,
            1974,
            1977,
            1980,
            1983,
            1986,
            1989,
            1994,
            1994,
            1997,
            2185,
            2185,
            2186,
            2186,
            2003,
            2003,
            2005,
            2005,
            2006,
            2006,
            2006,
            2007,
            2012,
            2012,
            2015,
            2023,
            2023,
            2024,
            2024
           ]
          },
          {
           "label": "Fixed point<br>commitments",
           "range": [
            1,
            2186
           ],
           "ticktext": [],
           "tickvals": [],
           "values": [
            1580,
            2063,
            2063,
            1580,
            2063,
            2063,
            1580,
            2063,
            1580,
            2063,
            1455,
            1455,
            2063,
            1580,
            2063,
            2063,
            1097,
            1097,
            1580,
            2063,
            2063,
            1200,
            1097,
            1097,
            1097,
            1097,
            2063,
            1580,
            2063,
            2063,
            1580,
            963,
            963,
            963,
            2063,
            2063,
            2063,
            1580,
            2063,
            2063,
            1580,
            2063,
            1455,
            1455,
            1097,
            1097,
            1097,
            1097,
            2063,
            2063,
            1580,
            2063,
            1580,
            36,
            1494,
            2063,
            2063,
            1097,
            1097,
            1097,
            1097,
            1097,
            1097,
            2063,
            1455,
            1455,
            1455,
            1455,
            1097,
            1097,
            945,
            945,
            945,
            1200,
            1200,
            1455,
            1455,
            1097,
            1097,
            963,
            163,
            2063,
            1580,
            2063,
            1580,
            2063,
            1455,
            1455,
            1455,
            1455,
            945,
            963,
            1494,
            1580,
            2063,
            2063,
            1097,
            1097,
            1097,
            1097,
            1580,
            2063,
            2063,
            1097,
            1097,
            1097,
            1097,
            1097,
            1097,
            2063,
            1455,
            1455,
            1455,
            1455,
            1097,
            1097,
            945,
            1455,
            1455,
            1097,
            1097,
            1097,
            1097,
            1097,
            1097,
            1200,
            1455,
            1455,
            119,
            1097,
            1097,
            1097,
            1097,
            1097,
            1097,
            1097,
            1097,
            945,
            119,
            1455,
            1455,
            1097,
            1097,
            1200,
            36,
            36,
            119,
            36,
            1097,
            1097,
            36,
            36,
            1455,
            1455,
            1455,
            1455,
            1455,
            1455,
            36,
            1200,
            1455,
            1455,
            963,
            963,
            963,
            1494,
            163,
            1494,
            1494,
            1494,
            1494,
            1494,
            1494,
            1494,
            1494,
            163,
            945,
            163,
            945,
            1200,
            1200,
            1455,
            1455,
            1097,
            1097,
            963,
            1494,
            1494,
            1494,
            1494,
            1494,
            1494,
            1494,
            1494,
            1494,
            1494,
            1494,
            1494,
            1494,
            1494,
            1494,
            1494,
            1494,
            945,
            163,
            119,
            1455,
            1455,
            1097,
            1097,
            1200,
            119,
            1097,
            1097,
            119,
            945,
            1494,
            1455,
            1455,
            1455,
            1455,
            1494,
            163,
            945,
            1494,
            1494,
            1494,
            1494,
            1494,
            963,
            963,
            963,
            945,
            945,
            945,
            119,
            119,
            1200,
            1200,
            119,
            1455,
            1455,
            1455,
            1455,
            119,
            963,
            1455,
            1455,
            1455,
            1455,
            1494,
            163,
            119,
            1494,
            119,
            1494,
            963,
            1580,
            1494,
            119,
            1494,
            119,
            119,
            1097,
            1097,
            1494,
            1580,
            963,
            963,
            963,
            963,
            963,
            963,
            963,
            963,
            163,
            163,
            163,
            163,
            163,
            945,
            963,
            163,
            963,
            119,
            1097,
            1097,
            1494,
            1580,
            36,
            1494,
            1494,
            36,
            119,
            1494,
            36,
            1097,
            1097,
            963,
            1580,
            963,
            963,
            963,
            1097,
            1097,
            163,
            36,
            945,
            945,
            1455,
            1455,
            1455,
            1455,
            945,
            945,
            945,
            945,
            945,
            945,
            963,
            945,
            963,
            963,
            1097,
            1097,
            963,
            963,
            963,
            963,
            963,
            945,
            163,
            945,
            1200,
            1200,
            1455,
            1455,
            1455,
            1455,
            963,
            163,
            163,
            163,
            163,
            1494,
            1494,
            963,
            163,
            963,
            1494,
            163,
            119,
            1494,
            1097,
            1097,
            1494,
            119,
            119,
            1494,
            1097,
            1097,
            963,
            1494,
            1580,
            963,
            963,
            963,
            1097,
            1097,
            945,
            163,
            945,
            945,
            945,
            119,
            119,
            945,
            163,
            1097,
            1097,
            1580,
            119,
            119,
            119,
            119,
            1097,
            1097,
            119,
            963,
            119,
            963,
            963,
            963,
            119,
            963,
            163,
            1097,
            1097,
            1097,
            1097,
            1097,
            1097,
            945,
            945,
            945,
            945,
            36,
            36,
            163,
            119,
            945,
            119,
            1097,
            1097,
            119,
            945,
            963,
            119,
            1200,
            36,
            36,
            119,
            1097,
            1097,
            1097,
            1097,
            36,
            36,
            119,
            1097,
            1097,
            36,
            36,
            119,
            963,
            963,
            963,
            36,
            36,
            119,
            36,
            36,
            945,
            163,
            36,
            36,
            119,
            36,
            963,
            963,
            963,
            963,
            963,
            963,
            963,
            963,
            963,
            945,
            163,
            945,
            945,
            163,
            945,
            945,
            163,
            945,
            963,
            163,
            963,
            1097,
            1097,
            963,
            963,
            963,
            963,
            963,
            945,
            945,
            163,
            945,
            945,
            119,
            163,
            119,
            945,
            163,
            119,
            1097,
            1097,
            163,
            119,
            945,
            36,
            963,
            1494,
            119,
            119,
            119,
            119,
            1097,
            1097,
            1097,
            1097,
            119,
            119,
            1097,
            1097,
            119,
            119,
            963,
            963,
            963,
            963,
            119,
            163,
            119,
            945,
            945,
            945,
            945,
            945,
            945,
            119,
            119,
            119,
            945,
            945,
            119,
            119,
            945,
            119,
            119,
            945,
            963,
            963,
            945,
            963,
            945,
            119,
            119,
            119,
            119,
            119,
            119,
            119,
            963,
            963,
            963,
            963,
            119,
            119,
            119,
            963,
            945,
            163,
            119,
            119,
            119,
            119,
            963,
            963,
            119,
            163,
            163,
            163,
            163,
            163,
            163,
            163,
            119,
            163,
            163,
            963,
            163,
            963,
            963,
            163,
            963,
            963,
            163,
            963,
            163,
            119,
            163,
            163,
            36,
            119,
            36,
            36,
            963,
            163,
            119,
            945,
            163,
            945,
            945,
            163,
            945,
            945,
            163,
            945,
            963,
            945,
            163,
            119,
            963,
            963,
            963,
            963,
            963,
            1097,
            1097,
            1494,
            1494,
            1097,
            1097,
            1209,
            1209,
            1580,
            1097,
            1097,
            1494,
            1494,
            1494,
            1097,
            1097,
            1494,
            1494,
            1494,
            1494,
            1097,
            1097,
            1494,
            1580,
            1097,
            1097,
            1200,
            1209,
            1200,
            1209,
            1097,
            1097,
            1494,
            1200,
            1200,
            1580,
            1097,
            1097,
            1209,
            1209,
            1097,
            1097,
            1097,
            1097,
            1097,
            1097,
            1580,
            1097,
            1097,
            1097,
            1097,
            1097,
            1097,
            1209,
            1580,
            1097,
            1097,
            1097,
            1097,
            1580,
            1097,
            1097,
            1097,
            1097,
            1097,
            1097,
            1097,
            1097,
            1097,
            1097,
            1097,
            1097,
            1580,
            1097,
            1097,
            1097,
            1097,
            1097,
            1097,
            1200,
            1097,
            1097,
            1097,
            1097,
            1097,
            1097,
            1097,
            1097,
            1097,
            1097,
            1580,
            1580,
            963,
            963,
            1097,
            1097,
            1097,
            1097,
            1097,
            1097,
            1209,
            1200,
            1580,
            1097,
            1097,
            1097,
            1097,
            1097,
            1097,
            1097,
            1097,
            1097,
            1097,
            1097,
            1097,
            1097,
            1097,
            1097,
            1097,
            1200,
            1580,
            1097,
            1097,
            1097,
            1097,
            1097,
            1097,
            1097,
            1097,
            1097,
            1097,
            1097,
            1097,
            1097,
            1097,
            1097,
            1097,
            1209,
            1097,
            1097,
            1209,
            1097,
            1097,
            1097,
            1097,
            1097,
            1097,
            1097,
            1097,
            945,
            945,
            1097,
            1097,
            1097,
            1097,
            1200,
            1200,
            1200,
            1097,
            1097,
            1097,
            1097,
            963,
            1580,
            163,
            1209,
            1200,
            1097,
            1097,
            1200,
            1580,
            1097,
            1097,
            1209,
            1209,
            1494,
            1580,
            1097,
            1097,
            1097,
            1097,
            1097,
            1097,
            1097,
            1097,
            1097,
            1097,
            1097,
            1097,
            1097,
            1097,
            1494,
            1580,
            1097,
            1097,
            1097,
            1097,
            1097,
            1097,
            1097,
            1097,
            1097,
            1097,
            1097,
            1097,
            1097,
            1097,
            1209,
            1097,
            1097,
            1209,
            1097,
            1097,
            1097,
            1097,
            1097,
            1097,
            1097,
            1097,
            945,
            1200,
            1209,
            1200,
            1209,
            1097,
            1097,
            1097,
            1097,
            1097,
            1097,
            1097,
            1097,
            1097,
            1097,
            1097,
            1097,
            1097,
            1097,
            1200,
            1200,
            1097,
            1097,
            1200,
            1200,
            1097,
            1097,
            1097,
            1097,
            1097,
            1097,
            1200,
            119,
            1097,
            1097,
            1097,
            1097,
            1097,
            1097,
            1097,
            1097,
            1209,
            1209,
            1097,
            1097,
            1097,
            1097,
            1097,
            1097,
            1097,
            1097,
            1097,
            1097,
            1097,
            1097,
            1097,
            1097,
            1097,
            1097,
            945,
            1097,
            1097,
            1200,
            1209,
            1097,
            1097,
            119,
            1097,
            1097,
            1097,
            1097,
            1097,
            1097,
            1097,
            1097,
            1097,
            1097,
            1097,
            1097,
            1200,
            1200,
            1097,
            1097,
            36,
            36,
            119,
            1097,
            1097,
            1097,
            1097,
            36,
            1097,
            1097,
            1097,
            1097,
            1209,
            1209,
            36,
            1209,
            1097,
            1097,
            1097,
            1097,
            1097,
            1097,
            1097,
            1097,
            1097,
            1097,
            1200,
            1200,
            1097,
            1097,
            1097,
            1097,
            1097,
            1097,
            963,
            963,
            963,
            945,
            163,
            1097,
            1097,
            1097,
            1097,
            1200,
            1200,
            1200,
            1097,
            1097,
            1097,
            1097,
            963,
            945,
            1097,
            1097,
            1200,
            1209,
            1097,
            1097,
            163,
            119,
            1097,
            1097,
            1097,
            1097,
            1097,
            1097,
            1097,
            1097,
            1097,
            1097,
            1097,
            1097,
            1200,
            1200,
            1097,
            1097,
            119,
            119,
            1097,
            1097,
            1097,
            1097,
            1097,
            1097,
            1097,
            1097,
            1209,
            1209,
            1097,
            1097,
            1097,
            1097,
            1097,
            1097,
            1097,
            1097,
            945,
            945,
            945,
            119,
            119,
            1097,
            1097,
            1200,
            1200,
            1200,
            119,
            119,
            1097,
            1097,
            1200,
            1097,
            1097,
            963,
            1097,
            1097,
            1097,
            1097,
            1097,
            1097,
            1209,
            1200,
            1097,
            1097,
            1097,
            1097,
            1097,
            1097,
            1200,
            1097,
            1097,
            1097,
            1097,
            1097,
            1097,
            1209,
            1209,
            1097,
            1097,
            163,
            163,
            163,
            163,
            1097,
            1097,
            163,
            1200,
            1097,
            1097,
            1097,
            1097,
            963,
            163,
            963,
            163,
            1097,
            1097,
            1097,
            1097,
            36,
            1097,
            1097,
            1097,
            1097,
            1097,
            1097,
            1209,
            1209,
            1097,
            1097,
            945,
            163,
            945,
            1200,
            1200,
            1200,
            1200,
            1097,
            1097,
            963,
            1455,
            1455,
            2063,
            1494,
            1494,
            1494,
            1580,
            2063,
            1455,
            1455,
            2063,
            1455,
            1455,
            1494,
            1494,
            1494,
            1494,
            1494,
            1494,
            1494,
            1580,
            2063,
            2063,
            1455,
            1455,
            1455,
            1455,
            1580,
            2063,
            1455,
            1455,
            2063,
            1455,
            1455,
            1494,
            2063,
            1580,
            2063,
            1455,
            1455,
            1455,
            1455
           ]
          }
         ],
         "line": {
          "color": [
           2029,
           2029,
           2038,
           2038,
           2041,
           2044,
           2046,
           2046,
           2048,
           2048,
           2049,
           2049,
           2051,
           2056,
           2056,
           2059,
           1223,
           1223,
           2065,
           2065,
           2068,
           1228,
           1231,
           1231,
           1232,
           1232,
           2071,
           2073,
           2073,
           2075,
           2075,
           1233,
           1234,
           1235,
           2076,
           2078,
           2080,
           2082,
           2082,
           2084,
           2084,
           2087,
           2085,
           2085,
           1249,
           1249,
           1250,
           1250,
           2089,
           2091,
           2091,
           2093,
           2093,
           1251,
           1251,
           2094,
           2096,
           1257,
           1257,
           1258,
           1258,
           1259,
           1259,
           2099,
           2103,
           2103,
           1267,
           1267,
           1268,
           1268,
           1269,
           1270,
           1271,
           1282,
           1283,
           1285,
           1285,
           1286,
           1286,
           1287,
           2107,
           2111,
           2111,
           2120,
           2120,
           2123,
           2131,
           2131,
           2132,
           2132,
           1683,
           1683,
           1683,
           2138,
           2138,
           2141,
           1303,
           1303,
           1304,
           1304,
           2147,
           2147,
           2150,
           1311,
           1311,
           1312,
           1312,
           1313,
           1313,
           2153,
           2157,
           2157,
           1321,
           1321,
           1322,
           1322,
           2160,
           2167,
           2167,
           1331,
           1331,
           1330,
           1330,
           1329,
           1329,
           2172,
           2175,
           2175,
           497,
           1338,
           1338,
           1339,
           1339,
           1340,
           1340,
           1349,
           1349,
           1350,
           515,
           1357,
           1357,
           1358,
           1358,
           1362,
           522,
           523,
           524,
           525,
           1367,
           1367,
           528,
           531,
           1375,
           1375,
           1376,
           1376,
           538,
           538,
           549,
           553,
           556,
           556,
           558,
           559,
           560,
           1458,
           1459,
           1467,
           1468,
           1469,
           1470,
           1473,
           1474,
           1476,
           1477,
           1477,
           1377,
           1378,
           1379,
           1390,
           1391,
           1393,
           1393,
           1394,
           1394,
           1395,
           1485,
           1486,
           1488,
           1487,
           1491,
           1492,
           1494,
           1495,
           1496,
           1497,
           1500,
           1501,
           1503,
           1504,
           1505,
           1506,
           1509,
           1404,
           568,
           569,
           1411,
           1411,
           1412,
           1412,
           1416,
           576,
           1421,
           1421,
           578,
           1512,
           1512,
           1429,
           1429,
           1430,
           1430,
           1513,
           1513,
           1513,
           1521,
           1522,
           1523,
           1524,
           1527,
           1530,
           1531,
           1532,
           1431,
           1432,
           1433,
           594,
           596,
           1444,
           1445,
           603,
           1447,
           1447,
           1448,
           1448,
           605,
           1449,
           646,
           646,
           647,
           647,
           1539,
           1540,
           1541,
           1548,
           1550,
           1557,
           1557,
           1561,
           1566,
           1568,
           1575,
           1577,
           740,
           745,
           745,
           1584,
           1588,
           747,
           748,
           749,
           750,
           751,
           752,
           753,
           754,
           649,
           650,
           652,
           655,
           658,
           1593,
           666,
           667,
           668,
           758,
           763,
           763,
           1602,
           1606,
           765,
           765,
           766,
           766,
           767,
           768,
           768,
           772,
           772,
           1611,
           1616,
           774,
           775,
           776,
           782,
           782,
           676,
           684,
           783,
           784,
           700,
           700,
           701,
           701,
           786,
           787,
           788,
           785,
           789,
           790,
           792,
           792,
           793,
           794,
           800,
           800,
           801,
           802,
           803,
           804,
           807,
           702,
           703,
           704,
           715,
           716,
           718,
           718,
           719,
           719,
           720,
           1621,
           1622,
           1624,
           1627,
           1629,
           1635,
           1638,
           1639,
           1640,
           1647,
           811,
           812,
           1653,
           817,
           817,
           1656,
           819,
           821,
           1662,
           826,
           826,
           1665,
           1665,
           1670,
           828,
           829,
           830,
           836,
           836,
           1674,
           1675,
           1675,
           1676,
           1677,
           837,
           839,
           1680,
           1,
           844,
           844,
           1688,
           846,
           847,
           848,
           11,
           853,
           853,
           14,
           1692,
           17,
           1693,
           1694,
           855,
           857,
           18,
           19,
           863,
           863,
           862,
           862,
           861,
           861,
           864,
           865,
           866,
           867,
           27,
           28,
           28,
           29,
           870,
           32,
           872,
           872,
           35,
           873,
           873,
           875,
           877,
           36,
           37,
           38,
           881,
           881,
           880,
           880,
           39,
           40,
           41,
           879,
           879,
           42,
           43,
           44,
           882,
           883,
           884,
           45,
           46,
           47,
           48,
           51,
           54,
           55,
           63,
           64,
           65,
           69,
           72,
           73,
           74,
           75,
           76,
           77,
           78,
           79,
           80,
           891,
           892,
           893,
           894,
           895,
           896,
           897,
           898,
           900,
           900,
           901,
           902,
           908,
           908,
           909,
           910,
           911,
           912,
           915,
           918,
           919,
           919,
           920,
           921,
           81,
           82,
           83,
           924,
           85,
           86,
           926,
           926,
           88,
           89,
           927,
           927,
           927,
           927,
           929,
           90,
           91,
           92,
           935,
           935,
           934,
           934,
           93,
           95,
           933,
           933,
           96,
           98,
           936,
           937,
           938,
           99,
           99,
           100,
           101,
           945,
           946,
           947,
           948,
           949,
           950,
           108,
           109,
           110,
           953,
           952,
           111,
           113,
           951,
           114,
           116,
           954,
           954,
           955,
           955,
           956,
           956,
           117,
           118,
           119,
           120,
           122,
           123,
           125,
           963,
           964,
           965,
           966,
           126,
           127,
           128,
           969,
           135,
           136,
           137,
           144,
           145,
           146,
           153,
           154,
           155,
           163,
           164,
           166,
           167,
           169,
           170,
           172,
           173,
           175,
           178,
           180,
           181,
           182,
           183,
           184,
           185,
           186,
           187,
           188,
           190,
           191,
           193,
           196,
           198,
           200,
           201,
           204,
           207,
           208,
           209,
           216,
           217,
           218,
           219,
           220,
           221,
           222,
           223,
           224,
           225,
           225,
           226,
           227,
           234,
           235,
           236,
           237,
           240,
           1709,
           1709,
           1710,
           1711,
           1718,
           1718,
           1723,
           1724,
           1724,
           1727,
           1727,
           1728,
           1729,
           1731,
           1736,
           1736,
           1737,
           1738,
           1740,
           1743,
           1745,
           1745,
           1746,
           1751,
           1754,
           1754,
           1759,
           1759,
           1760,
           1760,
           1763,
           1763,
           1764,
           1768,
           1769,
           1769,
           1772,
           1772,
           1777,
           1778,
           1788,
           1788,
           1789,
           1789,
           1790,
           1790,
           1795,
           1797,
           1797,
           1798,
           1798,
           1799,
           1799,
           1803,
           1805,
           1806,
           1806,
           1808,
           1808,
           1813,
           1817,
           1817,
           1816,
           1816,
           977,
           977,
           1815,
           1815,
           979,
           979,
           980,
           980,
           1822,
           982,
           982,
           1824,
           1824,
           1825,
           1825,
           985,
           986,
           986,
           1826,
           1826,
           987,
           987,
           988,
           988,
           989,
           989,
           1830,
           1832,
           990,
           991,
           1835,
           1835,
           1833,
           1833,
           998,
           998,
           1839,
           1839,
           1841,
           1000,
           1000,
           1842,
           1842,
           1003,
           1003,
           1004,
           1004,
           1844,
           1844,
           1005,
           1005,
           1006,
           1006,
           1007,
           1007,
           1848,
           1850,
           1009,
           1009,
           1853,
           1853,
           1012,
           1012,
           1013,
           1013,
           1851,
           1851,
           1014,
           1014,
           1015,
           1015,
           1016,
           1016,
           1857,
           1019,
           1019,
           1021,
           1022,
           1022,
           1023,
           1023,
           1024,
           1024,
           1025,
           1025,
           1026,
           1027,
           1034,
           1034,
           1037,
           1037,
           1038,
           1039,
           1040,
           1042,
           1042,
           1043,
           1043,
           1044,
           1597,
           1864,
           1868,
           1868,
           1871,
           1871,
           1877,
           1877,
           1880,
           1880,
           1885,
           1886,
           1890,
           1895,
           1054,
           1054,
           1057,
           1057,
           1058,
           1058,
           1898,
           1898,
           1059,
           1059,
           1060,
           1060,
           1061,
           1061,
           1899,
           1904,
           1063,
           1063,
           1907,
           1907,
           1066,
           1066,
           1067,
           1067,
           1068,
           1068,
           1069,
           1069,
           1070,
           1070,
           1911,
           1073,
           1073,
           1075,
           1076,
           1076,
           1077,
           1077,
           1078,
           1078,
           1079,
           1079,
           1917,
           1921,
           1921,
           1922,
           1922,
           1081,
           1081,
           1083,
           1083,
           1084,
           1084,
           1085,
           1085,
           1086,
           1086,
           1087,
           1087,
           1088,
           1088,
           1928,
           1931,
           1090,
           1090,
           1930,
           1929,
           1092,
           1092,
           1093,
           1093,
           1094,
           1094,
           1932,
           254,
           1097,
           1097,
           1096,
           1096,
           1095,
           1095,
           259,
           259,
           1939,
           1940,
           1098,
           1098,
           1099,
           1099,
           1100,
           1100,
           1103,
           1103,
           1104,
           1104,
           1105,
           1105,
           1106,
           1106,
           269,
           269,
           1107,
           1109,
           1109,
           1111,
           1111,
           1112,
           1112,
           272,
           1115,
           1115,
           1114,
           1114,
           1113,
           1113,
           277,
           277,
           1117,
           1117,
           1118,
           1118,
           1119,
           1120,
           1121,
           1121,
           279,
           280,
           281,
           1122,
           1122,
           1123,
           1123,
           282,
           1124,
           1124,
           286,
           286,
           1129,
           1130,
           288,
           292,
           1133,
           1133,
           294,
           294,
           295,
           295,
           296,
           296,
           305,
           305,
           309,
           310,
           312,
           312,
           313,
           313,
           314,
           314,
           315,
           316,
           317,
           1134,
           1135,
           1142,
           1142,
           1145,
           1145,
           1146,
           1147,
           1148,
           1150,
           1150,
           1151,
           1151,
           1152,
           1161,
           1163,
           1163,
           1165,
           1165,
           1166,
           1166,
           325,
           326,
           1167,
           1167,
           1168,
           1168,
           1169,
           1169,
           331,
           331,
           1171,
           1171,
           1172,
           1172,
           1173,
           1174,
           1175,
           1175,
           333,
           335,
           1176,
           1176,
           1177,
           1177,
           1178,
           1178,
           340,
           340,
           1183,
           1184,
           1187,
           1187,
           348,
           348,
           349,
           349,
           350,
           350,
           1188,
           1189,
           1190,
           351,
           353,
           358,
           358,
           1200,
           1201,
           1202,
           360,
           362,
           1205,
           1205,
           1204,
           367,
           367,
           1206,
           375,
           375,
           376,
           376,
           377,
           377,
           382,
           382,
           384,
           384,
           385,
           385,
           386,
           386,
           391,
           393,
           393,
           394,
           394,
           395,
           395,
           400,
           401,
           404,
           404,
           406,
           407,
           409,
           412,
           413,
           413,
           415,
           417,
           420,
           420,
           422,
           422,
           423,
           424,
           425,
           433,
           438,
           438,
           440,
           440,
           441,
           447,
           447,
           448,
           448,
           449,
           449,
           454,
           455,
           458,
           458,
           459,
           460,
           461,
           471,
           472,
           473,
           475,
           476,
           476,
           477,
           2168,
           2168,
           2171,
           1953,
           1956,
           1959,
           1967,
           1967,
           1969,
           1969,
           1970,
           1970,
           1970,
           1971,
           1974,
           1977,
           1980,
           1983,
           1986,
           1989,
           1994,
           1994,
           1997,
           2185,
           2185,
           2186,
           2186,
           2003,
           2003,
           2005,
           2005,
           2006,
           2006,
           2006,
           2007,
           2012,
           2012,
           2015,
           2023,
           2023,
           2024,
           2024
          ],
          "colorscale": [
           [
            0,
            "#440154"
           ],
           [
            0.1111111111111111,
            "#482878"
           ],
           [
            0.2222222222222222,
            "#3e4989"
           ],
           [
            0.3333333333333333,
            "#31688e"
           ],
           [
            0.4444444444444444,
            "#26828e"
           ],
           [
            0.5555555555555556,
            "#1f9e89"
           ],
           [
            0.6666666666666666,
            "#35b779"
           ],
           [
            0.7777777777777778,
            "#6ece58"
           ],
           [
            0.8888888888888888,
            "#b5de2b"
           ],
           [
            1,
            "#fde725"
           ]
          ]
         },
         "tickfont": {
          "size": 8
         },
         "type": "parcoords"
        }
       ],
       "layout": {
        "annotations": [
         {
          "ax": 12,
          "ay": 0.7319304666056725,
          "font": {
           "color": "black",
           "size": 12
          },
          "showarrow": false,
          "text": "{-7, -1, 2, 3, 4, 5}",
          "textangle": 0,
          "x": 1,
          "xanchor": "left",
          "xref": "x domain",
          "y": 0.7319304666056725,
          "yref": "y domain"
         },
         {
          "ax": 12,
          "ay": 0.9515096065873742,
          "font": {
           "color": "black",
           "size": 12
          },
          "showarrow": false,
          "text": "{-7, -6, -1, 3, 4, 5}",
          "textangle": 0,
          "x": 1,
          "xanchor": "left",
          "xref": "x domain",
          "y": 0.9515096065873742,
          "yref": "y domain"
         },
         {
          "ax": 12,
          "ay": 0.6655992680695334,
          "font": {
           "color": "black",
           "size": 12
          },
          "showarrow": false,
          "text": "{-6, -5, -4, -3, -2, 7}",
          "textangle": 0,
          "x": 1,
          "xanchor": "left",
          "xref": "x domain",
          "y": 0.6655992680695334,
          "yref": "y domain"
         },
         {
          "ax": 12,
          "ay": 0.5018298261665142,
          "font": {
           "color": "black",
           "size": 12
          },
          "showarrow": false,
          "text": "{-2, -1, 3, 4, 5, 6, 7}",
          "textangle": 0,
          "x": 1,
          "xanchor": "left",
          "xref": "x domain",
          "y": 0.5018298261665142,
          "yref": "y domain"
         },
         {
          "ax": 12,
          "ay": 0.5443732845379688,
          "font": {
           "color": "black",
           "size": 12
          },
          "showarrow": false,
          "text": "{-5, -4, 2, 3, 6, 7}",
          "textangle": 0,
          "x": 1,
          "xanchor": "left",
          "xref": "x domain",
          "y": 0.5443732845379688,
          "yref": "y domain"
         },
         {
          "ax": 12,
          "ay": 0.44373284537968893,
          "font": {
           "color": "black",
           "size": 12
          },
          "showarrow": false,
          "text": "{-5, -4, -3, 7}",
          "textangle": 0,
          "x": 1,
          "xanchor": "left",
          "xref": "x domain",
          "y": 0.44373284537968893,
          "yref": "y domain"
         },
         {
          "ax": 12,
          "ay": 0.010521500457456541,
          "font": {
           "color": "black",
           "size": 12
          },
          "showarrow": false,
          "text": "{3, 4}",
          "textangle": 0,
          "x": 1,
          "xanchor": "left",
          "xref": "x domain",
          "y": 0.010521500457456541,
          "yref": "y domain"
         },
         {
          "ax": 12,
          "ay": 0.6907593778591034,
          "font": {
           "color": "black",
           "size": 12
          },
          "showarrow": false,
          "text": "{-7, 3, 4}",
          "textangle": 0,
          "x": 1,
          "xanchor": "left",
          "xref": "x domain",
          "y": 0.6907593778591034,
          "yref": "y domain"
         },
         {
          "ax": 12,
          "ay": 0.42909423604757546,
          "font": {
           "color": "black",
           "size": 12
          },
          "showarrow": false,
          "text": "{-5, -4, 7}",
          "textangle": 0,
          "x": 1,
          "xanchor": "left",
          "xref": "x domain",
          "y": 0.42909423604757546,
          "yref": "y domain"
         },
         {
          "ax": 12,
          "ay": 0.0686184812442818,
          "font": {
           "color": "black",
           "size": 12
          },
          "showarrow": false,
          "text": "{-5, 1}",
          "textangle": 0,
          "x": 1,
          "xanchor": "left",
          "xref": "x domain",
          "y": 0.0686184812442818,
          "yref": "y domain"
         },
         {
          "ax": 12,
          "ay": 0.0484903934126258,
          "font": {
           "color": "black",
           "size": 12
          },
          "showarrow": false,
          "text": "{-1, 3, 4, 5}",
          "textangle": 0,
          "x": 1,
          "xanchor": "left",
          "xref": "x domain",
          "y": 0.0484903934126258,
          "yref": "y domain"
         },
         {
          "ax": 12,
          "ay": 0.5580969807868252,
          "font": {
           "color": "black",
           "size": 12
          },
          "showarrow": false,
          "text": "{-5, -4, -3, 2, 6, 7}",
          "textangle": 0,
          "x": 1,
          "xanchor": "left",
          "xref": "x domain",
          "y": 0.5580969807868252,
          "yref": "y domain"
         }
        ],
        "font": {
         "color": "black",
         "size": 14
        },
        "height": 1200,
        "margin": {
         "b": 20,
         "l": 45,
         "r": 140,
         "t": 120
        },
        "paper_bgcolor": "rgba(0,0,0,0)",
        "plot_bgcolor": "rgba(0,0,0,0)",
        "template": {
         "data": {
          "bar": [
           {
            "error_x": {
             "color": "#2a3f5f"
            },
            "error_y": {
             "color": "#2a3f5f"
            },
            "marker": {
             "line": {
              "color": "#E5ECF6",
              "width": 0.5
             },
             "pattern": {
              "fillmode": "overlay",
              "size": 10,
              "solidity": 0.2
             }
            },
            "type": "bar"
           }
          ],
          "barpolar": [
           {
            "marker": {
             "line": {
              "color": "#E5ECF6",
              "width": 0.5
             },
             "pattern": {
              "fillmode": "overlay",
              "size": 10,
              "solidity": 0.2
             }
            },
            "type": "barpolar"
           }
          ],
          "carpet": [
           {
            "aaxis": {
             "endlinecolor": "#2a3f5f",
             "gridcolor": "white",
             "linecolor": "white",
             "minorgridcolor": "white",
             "startlinecolor": "#2a3f5f"
            },
            "baxis": {
             "endlinecolor": "#2a3f5f",
             "gridcolor": "white",
             "linecolor": "white",
             "minorgridcolor": "white",
             "startlinecolor": "#2a3f5f"
            },
            "type": "carpet"
           }
          ],
          "choropleth": [
           {
            "colorbar": {
             "outlinewidth": 0,
             "ticks": ""
            },
            "type": "choropleth"
           }
          ],
          "contour": [
           {
            "colorbar": {
             "outlinewidth": 0,
             "ticks": ""
            },
            "colorscale": [
             [
              0,
              "#0d0887"
             ],
             [
              0.1111111111111111,
              "#46039f"
             ],
             [
              0.2222222222222222,
              "#7201a8"
             ],
             [
              0.3333333333333333,
              "#9c179e"
             ],
             [
              0.4444444444444444,
              "#bd3786"
             ],
             [
              0.5555555555555556,
              "#d8576b"
             ],
             [
              0.6666666666666666,
              "#ed7953"
             ],
             [
              0.7777777777777778,
              "#fb9f3a"
             ],
             [
              0.8888888888888888,
              "#fdca26"
             ],
             [
              1,
              "#f0f921"
             ]
            ],
            "type": "contour"
           }
          ],
          "contourcarpet": [
           {
            "colorbar": {
             "outlinewidth": 0,
             "ticks": ""
            },
            "type": "contourcarpet"
           }
          ],
          "heatmap": [
           {
            "colorbar": {
             "outlinewidth": 0,
             "ticks": ""
            },
            "colorscale": [
             [
              0,
              "#0d0887"
             ],
             [
              0.1111111111111111,
              "#46039f"
             ],
             [
              0.2222222222222222,
              "#7201a8"
             ],
             [
              0.3333333333333333,
              "#9c179e"
             ],
             [
              0.4444444444444444,
              "#bd3786"
             ],
             [
              0.5555555555555556,
              "#d8576b"
             ],
             [
              0.6666666666666666,
              "#ed7953"
             ],
             [
              0.7777777777777778,
              "#fb9f3a"
             ],
             [
              0.8888888888888888,
              "#fdca26"
             ],
             [
              1,
              "#f0f921"
             ]
            ],
            "type": "heatmap"
           }
          ],
          "heatmapgl": [
           {
            "colorbar": {
             "outlinewidth": 0,
             "ticks": ""
            },
            "colorscale": [
             [
              0,
              "#0d0887"
             ],
             [
              0.1111111111111111,
              "#46039f"
             ],
             [
              0.2222222222222222,
              "#7201a8"
             ],
             [
              0.3333333333333333,
              "#9c179e"
             ],
             [
              0.4444444444444444,
              "#bd3786"
             ],
             [
              0.5555555555555556,
              "#d8576b"
             ],
             [
              0.6666666666666666,
              "#ed7953"
             ],
             [
              0.7777777777777778,
              "#fb9f3a"
             ],
             [
              0.8888888888888888,
              "#fdca26"
             ],
             [
              1,
              "#f0f921"
             ]
            ],
            "type": "heatmapgl"
           }
          ],
          "histogram": [
           {
            "marker": {
             "pattern": {
              "fillmode": "overlay",
              "size": 10,
              "solidity": 0.2
             }
            },
            "type": "histogram"
           }
          ],
          "histogram2d": [
           {
            "colorbar": {
             "outlinewidth": 0,
             "ticks": ""
            },
            "colorscale": [
             [
              0,
              "#0d0887"
             ],
             [
              0.1111111111111111,
              "#46039f"
             ],
             [
              0.2222222222222222,
              "#7201a8"
             ],
             [
              0.3333333333333333,
              "#9c179e"
             ],
             [
              0.4444444444444444,
              "#bd3786"
             ],
             [
              0.5555555555555556,
              "#d8576b"
             ],
             [
              0.6666666666666666,
              "#ed7953"
             ],
             [
              0.7777777777777778,
              "#fb9f3a"
             ],
             [
              0.8888888888888888,
              "#fdca26"
             ],
             [
              1,
              "#f0f921"
             ]
            ],
            "type": "histogram2d"
           }
          ],
          "histogram2dcontour": [
           {
            "colorbar": {
             "outlinewidth": 0,
             "ticks": ""
            },
            "colorscale": [
             [
              0,
              "#0d0887"
             ],
             [
              0.1111111111111111,
              "#46039f"
             ],
             [
              0.2222222222222222,
              "#7201a8"
             ],
             [
              0.3333333333333333,
              "#9c179e"
             ],
             [
              0.4444444444444444,
              "#bd3786"
             ],
             [
              0.5555555555555556,
              "#d8576b"
             ],
             [
              0.6666666666666666,
              "#ed7953"
             ],
             [
              0.7777777777777778,
              "#fb9f3a"
             ],
             [
              0.8888888888888888,
              "#fdca26"
             ],
             [
              1,
              "#f0f921"
             ]
            ],
            "type": "histogram2dcontour"
           }
          ],
          "mesh3d": [
           {
            "colorbar": {
             "outlinewidth": 0,
             "ticks": ""
            },
            "type": "mesh3d"
           }
          ],
          "parcoords": [
           {
            "line": {
             "colorbar": {
              "outlinewidth": 0,
              "ticks": ""
             }
            },
            "type": "parcoords"
           }
          ],
          "pie": [
           {
            "automargin": true,
            "type": "pie"
           }
          ],
          "scatter": [
           {
            "fillpattern": {
             "fillmode": "overlay",
             "size": 10,
             "solidity": 0.2
            },
            "type": "scatter"
           }
          ],
          "scatter3d": [
           {
            "line": {
             "colorbar": {
              "outlinewidth": 0,
              "ticks": ""
             }
            },
            "marker": {
             "colorbar": {
              "outlinewidth": 0,
              "ticks": ""
             }
            },
            "type": "scatter3d"
           }
          ],
          "scattercarpet": [
           {
            "marker": {
             "colorbar": {
              "outlinewidth": 0,
              "ticks": ""
             }
            },
            "type": "scattercarpet"
           }
          ],
          "scattergeo": [
           {
            "marker": {
             "colorbar": {
              "outlinewidth": 0,
              "ticks": ""
             }
            },
            "type": "scattergeo"
           }
          ],
          "scattergl": [
           {
            "marker": {
             "colorbar": {
              "outlinewidth": 0,
              "ticks": ""
             }
            },
            "type": "scattergl"
           }
          ],
          "scattermapbox": [
           {
            "marker": {
             "colorbar": {
              "outlinewidth": 0,
              "ticks": ""
             }
            },
            "type": "scattermapbox"
           }
          ],
          "scatterpolar": [
           {
            "marker": {
             "colorbar": {
              "outlinewidth": 0,
              "ticks": ""
             }
            },
            "type": "scatterpolar"
           }
          ],
          "scatterpolargl": [
           {
            "marker": {
             "colorbar": {
              "outlinewidth": 0,
              "ticks": ""
             }
            },
            "type": "scatterpolargl"
           }
          ],
          "scatterternary": [
           {
            "marker": {
             "colorbar": {
              "outlinewidth": 0,
              "ticks": ""
             }
            },
            "type": "scatterternary"
           }
          ],
          "surface": [
           {
            "colorbar": {
             "outlinewidth": 0,
             "ticks": ""
            },
            "colorscale": [
             [
              0,
              "#0d0887"
             ],
             [
              0.1111111111111111,
              "#46039f"
             ],
             [
              0.2222222222222222,
              "#7201a8"
             ],
             [
              0.3333333333333333,
              "#9c179e"
             ],
             [
              0.4444444444444444,
              "#bd3786"
             ],
             [
              0.5555555555555556,
              "#d8576b"
             ],
             [
              0.6666666666666666,
              "#ed7953"
             ],
             [
              0.7777777777777778,
              "#fb9f3a"
             ],
             [
              0.8888888888888888,
              "#fdca26"
             ],
             [
              1,
              "#f0f921"
             ]
            ],
            "type": "surface"
           }
          ],
          "table": [
           {
            "cells": {
             "fill": {
              "color": "#EBF0F8"
             },
             "line": {
              "color": "white"
             }
            },
            "header": {
             "fill": {
              "color": "#C8D4E3"
             },
             "line": {
              "color": "white"
             }
            },
            "type": "table"
           }
          ]
         },
         "layout": {
          "annotationdefaults": {
           "arrowcolor": "#2a3f5f",
           "arrowhead": 0,
           "arrowwidth": 1
          },
          "autotypenumbers": "strict",
          "coloraxis": {
           "colorbar": {
            "outlinewidth": 0,
            "ticks": ""
           }
          },
          "colorscale": {
           "diverging": [
            [
             0,
             "#8e0152"
            ],
            [
             0.1,
             "#c51b7d"
            ],
            [
             0.2,
             "#de77ae"
            ],
            [
             0.3,
             "#f1b6da"
            ],
            [
             0.4,
             "#fde0ef"
            ],
            [
             0.5,
             "#f7f7f7"
            ],
            [
             0.6,
             "#e6f5d0"
            ],
            [
             0.7,
             "#b8e186"
            ],
            [
             0.8,
             "#7fbc41"
            ],
            [
             0.9,
             "#4d9221"
            ],
            [
             1,
             "#276419"
            ]
           ],
           "sequential": [
            [
             0,
             "#0d0887"
            ],
            [
             0.1111111111111111,
             "#46039f"
            ],
            [
             0.2222222222222222,
             "#7201a8"
            ],
            [
             0.3333333333333333,
             "#9c179e"
            ],
            [
             0.4444444444444444,
             "#bd3786"
            ],
            [
             0.5555555555555556,
             "#d8576b"
            ],
            [
             0.6666666666666666,
             "#ed7953"
            ],
            [
             0.7777777777777778,
             "#fb9f3a"
            ],
            [
             0.8888888888888888,
             "#fdca26"
            ],
            [
             1,
             "#f0f921"
            ]
           ],
           "sequentialminus": [
            [
             0,
             "#0d0887"
            ],
            [
             0.1111111111111111,
             "#46039f"
            ],
            [
             0.2222222222222222,
             "#7201a8"
            ],
            [
             0.3333333333333333,
             "#9c179e"
            ],
            [
             0.4444444444444444,
             "#bd3786"
            ],
            [
             0.5555555555555556,
             "#d8576b"
            ],
            [
             0.6666666666666666,
             "#ed7953"
            ],
            [
             0.7777777777777778,
             "#fb9f3a"
            ],
            [
             0.8888888888888888,
             "#fdca26"
            ],
            [
             1,
             "#f0f921"
            ]
           ]
          },
          "colorway": [
           "#636efa",
           "#EF553B",
           "#00cc96",
           "#ab63fa",
           "#FFA15A",
           "#19d3f3",
           "#FF6692",
           "#B6E880",
           "#FF97FF",
           "#FECB52"
          ],
          "font": {
           "color": "#2a3f5f"
          },
          "geo": {
           "bgcolor": "white",
           "lakecolor": "white",
           "landcolor": "#E5ECF6",
           "showlakes": true,
           "showland": true,
           "subunitcolor": "white"
          },
          "hoverlabel": {
           "align": "left"
          },
          "hovermode": "closest",
          "mapbox": {
           "style": "light"
          },
          "paper_bgcolor": "white",
          "plot_bgcolor": "#E5ECF6",
          "polar": {
           "angularaxis": {
            "gridcolor": "white",
            "linecolor": "white",
            "ticks": ""
           },
           "bgcolor": "#E5ECF6",
           "radialaxis": {
            "gridcolor": "white",
            "linecolor": "white",
            "ticks": ""
           }
          },
          "scene": {
           "xaxis": {
            "backgroundcolor": "#E5ECF6",
            "gridcolor": "white",
            "gridwidth": 2,
            "linecolor": "white",
            "showbackground": true,
            "ticks": "",
            "zerolinecolor": "white"
           },
           "yaxis": {
            "backgroundcolor": "#E5ECF6",
            "gridcolor": "white",
            "gridwidth": 2,
            "linecolor": "white",
            "showbackground": true,
            "ticks": "",
            "zerolinecolor": "white"
           },
           "zaxis": {
            "backgroundcolor": "#E5ECF6",
            "gridcolor": "white",
            "gridwidth": 2,
            "linecolor": "white",
            "showbackground": true,
            "ticks": "",
            "zerolinecolor": "white"
           }
          },
          "shapedefaults": {
           "line": {
            "color": "#2a3f5f"
           }
          },
          "ternary": {
           "aaxis": {
            "gridcolor": "white",
            "linecolor": "white",
            "ticks": ""
           },
           "baxis": {
            "gridcolor": "white",
            "linecolor": "white",
            "ticks": ""
           },
           "bgcolor": "#E5ECF6",
           "caxis": {
            "gridcolor": "white",
            "linecolor": "white",
            "ticks": ""
           }
          },
          "title": {
           "x": 0.05
          },
          "xaxis": {
           "automargin": true,
           "gridcolor": "white",
           "linecolor": "white",
           "ticks": "",
           "title": {
            "standoff": 15
           },
           "zerolinecolor": "white",
           "zerolinewidth": 2
          },
          "yaxis": {
           "automargin": true,
           "gridcolor": "white",
           "linecolor": "white",
           "ticks": "",
           "title": {
            "standoff": 15
           },
           "zerolinecolor": "white",
           "zerolinewidth": 2
          }
         }
        },
        "width": 800
       }
      },
      "text/html": [
       "<div>                            <div id=\"d2fcbda1-6474-4a27-a063-4a3ccd799413\" class=\"plotly-graph-div\" style=\"height:1200px; width:800px;\"></div>            <script type=\"text/javascript\">                require([\"plotly\"], function(Plotly) {                    window.PLOTLYENV=window.PLOTLYENV || {};                                    if (document.getElementById(\"d2fcbda1-6474-4a27-a063-4a3ccd799413\")) {                    Plotly.newPlot(                        \"d2fcbda1-6474-4a27-a063-4a3ccd799413\",                        [{\"dimensions\":[{\"label\":\"Initial<br>commitments\",\"range\":[1,2186],\"ticktext\":[],\"tickvals\":[],\"values\":[2029,2029,2038,2038,2041,2044,2046,2046,2048,2048,2049,2049,2051,2056,2056,2059,1223,1223,2065,2065,2068,1228,1231,1231,1232,1232,2071,2073,2073,2075,2075,1233,1234,1235,2076,2078,2080,2082,2082,2084,2084,2087,2085,2085,1249,1249,1250,1250,2089,2091,2091,2093,2093,1251,1251,2094,2096,1257,1257,1258,1258,1259,1259,2099,2103,2103,1267,1267,1268,1268,1269,1270,1271,1282,1283,1285,1285,1286,1286,1287,2107,2111,2111,2120,2120,2123,2131,2131,2132,2132,1683,1683,1683,2138,2138,2141,1303,1303,1304,1304,2147,2147,2150,1311,1311,1312,1312,1313,1313,2153,2157,2157,1321,1321,1322,1322,2160,2167,2167,1331,1331,1330,1330,1329,1329,2172,2175,2175,497,1338,1338,1339,1339,1340,1340,1349,1349,1350,515,1357,1357,1358,1358,1362,522,523,524,525,1367,1367,528,531,1375,1375,1376,1376,538,538,549,553,556,556,558,559,560,1458,1459,1467,1468,1469,1470,1473,1474,1476,1477,1477,1377,1378,1379,1390,1391,1393,1393,1394,1394,1395,1485,1486,1488,1487,1491,1492,1494,1495,1496,1497,1500,1501,1503,1504,1505,1506,1509,1404,568,569,1411,1411,1412,1412,1416,576,1421,1421,578,1512,1512,1429,1429,1430,1430,1513,1513,1513,1521,1522,1523,1524,1527,1530,1531,1532,1431,1432,1433,594,596,1444,1445,603,1447,1447,1448,1448,605,1449,646,646,647,647,1539,1540,1541,1548,1550,1557,1557,1561,1566,1568,1575,1577,740,745,745,1584,1588,747,748,749,750,751,752,753,754,649,650,652,655,658,1593,666,667,668,758,763,763,1602,1606,765,765,766,766,767,768,768,772,772,1611,1616,774,775,776,782,782,676,684,783,784,700,700,701,701,786,787,788,785,789,790,792,792,793,794,800,800,801,802,803,804,807,702,703,704,715,716,718,718,719,719,720,1621,1622,1624,1627,1629,1635,1638,1639,1640,1647,811,812,1653,817,817,1656,819,821,1662,826,826,1665,1665,1670,828,829,830,836,836,1674,1675,1675,1676,1677,837,839,1680,1,844,844,1688,846,847,848,11,853,853,14,1692,17,1693,1694,855,857,18,19,863,863,862,862,861,861,864,865,866,867,27,28,28,29,870,32,872,872,35,873,873,875,877,36,37,38,881,881,880,880,39,40,41,879,879,42,43,44,882,883,884,45,46,47,48,51,54,55,63,64,65,69,72,73,74,75,76,77,78,79,80,891,892,893,894,895,896,897,898,900,900,901,902,908,908,909,910,911,912,915,918,919,919,920,921,81,82,83,924,85,86,926,926,88,89,927,927,927,927,929,90,91,92,935,935,934,934,93,95,933,933,96,98,936,937,938,99,99,100,101,945,946,947,948,949,950,108,109,110,953,952,111,113,951,114,116,954,954,955,955,956,956,117,118,119,120,122,123,125,963,964,965,966,126,127,128,969,135,136,137,144,145,146,153,154,155,163,164,166,167,169,170,172,173,175,178,180,181,182,183,184,185,186,187,188,190,191,193,196,198,200,201,204,207,208,209,216,217,218,219,220,221,222,223,224,225,225,226,227,234,235,236,237,240,1709,1709,1710,1711,1718,1718,1723,1724,1724,1727,1727,1728,1729,1731,1736,1736,1737,1738,1740,1743,1745,1745,1746,1751,1754,1754,1759,1759,1760,1760,1763,1763,1764,1768,1769,1769,1772,1772,1777,1778,1788,1788,1789,1789,1790,1790,1795,1797,1797,1798,1798,1799,1799,1803,1805,1806,1806,1808,1808,1813,1817,1817,1816,1816,977,977,1815,1815,979,979,980,980,1822,982,982,1824,1824,1825,1825,985,986,986,1826,1826,987,987,988,988,989,989,1830,1832,990,991,1835,1835,1833,1833,998,998,1839,1839,1841,1000,1000,1842,1842,1003,1003,1004,1004,1844,1844,1005,1005,1006,1006,1007,1007,1848,1850,1009,1009,1853,1853,1012,1012,1013,1013,1851,1851,1014,1014,1015,1015,1016,1016,1857,1019,1019,1021,1022,1022,1023,1023,1024,1024,1025,1025,1026,1027,1034,1034,1037,1037,1038,1039,1040,1042,1042,1043,1043,1044,1597,1864,1868,1868,1871,1871,1877,1877,1880,1880,1885,1886,1890,1895,1054,1054,1057,1057,1058,1058,1898,1898,1059,1059,1060,1060,1061,1061,1899,1904,1063,1063,1907,1907,1066,1066,1067,1067,1068,1068,1069,1069,1070,1070,1911,1073,1073,1075,1076,1076,1077,1077,1078,1078,1079,1079,1917,1921,1921,1922,1922,1081,1081,1083,1083,1084,1084,1085,1085,1086,1086,1087,1087,1088,1088,1928,1931,1090,1090,1930,1929,1092,1092,1093,1093,1094,1094,1932,254,1097,1097,1096,1096,1095,1095,259,259,1939,1940,1098,1098,1099,1099,1100,1100,1103,1103,1104,1104,1105,1105,1106,1106,269,269,1107,1109,1109,1111,1111,1112,1112,272,1115,1115,1114,1114,1113,1113,277,277,1117,1117,1118,1118,1119,1120,1121,1121,279,280,281,1122,1122,1123,1123,282,1124,1124,286,286,1129,1130,288,292,1133,1133,294,294,295,295,296,296,305,305,309,310,312,312,313,313,314,314,315,316,317,1134,1135,1142,1142,1145,1145,1146,1147,1148,1150,1150,1151,1151,1152,1161,1163,1163,1165,1165,1166,1166,325,326,1167,1167,1168,1168,1169,1169,331,331,1171,1171,1172,1172,1173,1174,1175,1175,333,335,1176,1176,1177,1177,1178,1178,340,340,1183,1184,1187,1187,348,348,349,349,350,350,1188,1189,1190,351,353,358,358,1200,1201,1202,360,362,1205,1205,1204,367,367,1206,375,375,376,376,377,377,382,382,384,384,385,385,386,386,391,393,393,394,394,395,395,400,401,404,404,406,407,409,412,413,413,415,417,420,420,422,422,423,424,425,433,438,438,440,440,441,447,447,448,448,449,449,454,455,458,458,459,460,461,471,472,473,475,476,476,477,2168,2168,2171,1953,1956,1959,1967,1967,1969,1969,1970,1970,1970,1971,1974,1977,1980,1983,1986,1989,1994,1994,1997,2185,2185,2186,2186,2003,2003,2005,2005,2006,2006,2006,2007,2012,2012,2015,2023,2023,2024,2024]},{\"label\":\"Fixed point<br>commitments\",\"range\":[1,2186],\"ticktext\":[],\"tickvals\":[],\"values\":[1580,2063,2063,1580,2063,2063,1580,2063,1580,2063,1455,1455,2063,1580,2063,2063,1097,1097,1580,2063,2063,1200,1097,1097,1097,1097,2063,1580,2063,2063,1580,963,963,963,2063,2063,2063,1580,2063,2063,1580,2063,1455,1455,1097,1097,1097,1097,2063,2063,1580,2063,1580,36,1494,2063,2063,1097,1097,1097,1097,1097,1097,2063,1455,1455,1455,1455,1097,1097,945,945,945,1200,1200,1455,1455,1097,1097,963,163,2063,1580,2063,1580,2063,1455,1455,1455,1455,945,963,1494,1580,2063,2063,1097,1097,1097,1097,1580,2063,2063,1097,1097,1097,1097,1097,1097,2063,1455,1455,1455,1455,1097,1097,945,1455,1455,1097,1097,1097,1097,1097,1097,1200,1455,1455,119,1097,1097,1097,1097,1097,1097,1097,1097,945,119,1455,1455,1097,1097,1200,36,36,119,36,1097,1097,36,36,1455,1455,1455,1455,1455,1455,36,1200,1455,1455,963,963,963,1494,163,1494,1494,1494,1494,1494,1494,1494,1494,163,945,163,945,1200,1200,1455,1455,1097,1097,963,1494,1494,1494,1494,1494,1494,1494,1494,1494,1494,1494,1494,1494,1494,1494,1494,1494,945,163,119,1455,1455,1097,1097,1200,119,1097,1097,119,945,1494,1455,1455,1455,1455,1494,163,945,1494,1494,1494,1494,1494,963,963,963,945,945,945,119,119,1200,1200,119,1455,1455,1455,1455,119,963,1455,1455,1455,1455,1494,163,119,1494,119,1494,963,1580,1494,119,1494,119,119,1097,1097,1494,1580,963,963,963,963,963,963,963,963,163,163,163,163,163,945,963,163,963,119,1097,1097,1494,1580,36,1494,1494,36,119,1494,36,1097,1097,963,1580,963,963,963,1097,1097,163,36,945,945,1455,1455,1455,1455,945,945,945,945,945,945,963,945,963,963,1097,1097,963,963,963,963,963,945,163,945,1200,1200,1455,1455,1455,1455,963,163,163,163,163,1494,1494,963,163,963,1494,163,119,1494,1097,1097,1494,119,119,1494,1097,1097,963,1494,1580,963,963,963,1097,1097,945,163,945,945,945,119,119,945,163,1097,1097,1580,119,119,119,119,1097,1097,119,963,119,963,963,963,119,963,163,1097,1097,1097,1097,1097,1097,945,945,945,945,36,36,163,119,945,119,1097,1097,119,945,963,119,1200,36,36,119,1097,1097,1097,1097,36,36,119,1097,1097,36,36,119,963,963,963,36,36,119,36,36,945,163,36,36,119,36,963,963,963,963,963,963,963,963,963,945,163,945,945,163,945,945,163,945,963,163,963,1097,1097,963,963,963,963,963,945,945,163,945,945,119,163,119,945,163,119,1097,1097,163,119,945,36,963,1494,119,119,119,119,1097,1097,1097,1097,119,119,1097,1097,119,119,963,963,963,963,119,163,119,945,945,945,945,945,945,119,119,119,945,945,119,119,945,119,119,945,963,963,945,963,945,119,119,119,119,119,119,119,963,963,963,963,119,119,119,963,945,163,119,119,119,119,963,963,119,163,163,163,163,163,163,163,119,163,163,963,163,963,963,163,963,963,163,963,163,119,163,163,36,119,36,36,963,163,119,945,163,945,945,163,945,945,163,945,963,945,163,119,963,963,963,963,963,1097,1097,1494,1494,1097,1097,1209,1209,1580,1097,1097,1494,1494,1494,1097,1097,1494,1494,1494,1494,1097,1097,1494,1580,1097,1097,1200,1209,1200,1209,1097,1097,1494,1200,1200,1580,1097,1097,1209,1209,1097,1097,1097,1097,1097,1097,1580,1097,1097,1097,1097,1097,1097,1209,1580,1097,1097,1097,1097,1580,1097,1097,1097,1097,1097,1097,1097,1097,1097,1097,1097,1097,1580,1097,1097,1097,1097,1097,1097,1200,1097,1097,1097,1097,1097,1097,1097,1097,1097,1097,1580,1580,963,963,1097,1097,1097,1097,1097,1097,1209,1200,1580,1097,1097,1097,1097,1097,1097,1097,1097,1097,1097,1097,1097,1097,1097,1097,1097,1200,1580,1097,1097,1097,1097,1097,1097,1097,1097,1097,1097,1097,1097,1097,1097,1097,1097,1209,1097,1097,1209,1097,1097,1097,1097,1097,1097,1097,1097,945,945,1097,1097,1097,1097,1200,1200,1200,1097,1097,1097,1097,963,1580,163,1209,1200,1097,1097,1200,1580,1097,1097,1209,1209,1494,1580,1097,1097,1097,1097,1097,1097,1097,1097,1097,1097,1097,1097,1097,1097,1494,1580,1097,1097,1097,1097,1097,1097,1097,1097,1097,1097,1097,1097,1097,1097,1209,1097,1097,1209,1097,1097,1097,1097,1097,1097,1097,1097,945,1200,1209,1200,1209,1097,1097,1097,1097,1097,1097,1097,1097,1097,1097,1097,1097,1097,1097,1200,1200,1097,1097,1200,1200,1097,1097,1097,1097,1097,1097,1200,119,1097,1097,1097,1097,1097,1097,1097,1097,1209,1209,1097,1097,1097,1097,1097,1097,1097,1097,1097,1097,1097,1097,1097,1097,1097,1097,945,1097,1097,1200,1209,1097,1097,119,1097,1097,1097,1097,1097,1097,1097,1097,1097,1097,1097,1097,1200,1200,1097,1097,36,36,119,1097,1097,1097,1097,36,1097,1097,1097,1097,1209,1209,36,1209,1097,1097,1097,1097,1097,1097,1097,1097,1097,1097,1200,1200,1097,1097,1097,1097,1097,1097,963,963,963,945,163,1097,1097,1097,1097,1200,1200,1200,1097,1097,1097,1097,963,945,1097,1097,1200,1209,1097,1097,163,119,1097,1097,1097,1097,1097,1097,1097,1097,1097,1097,1097,1097,1200,1200,1097,1097,119,119,1097,1097,1097,1097,1097,1097,1097,1097,1209,1209,1097,1097,1097,1097,1097,1097,1097,1097,945,945,945,119,119,1097,1097,1200,1200,1200,119,119,1097,1097,1200,1097,1097,963,1097,1097,1097,1097,1097,1097,1209,1200,1097,1097,1097,1097,1097,1097,1200,1097,1097,1097,1097,1097,1097,1209,1209,1097,1097,163,163,163,163,1097,1097,163,1200,1097,1097,1097,1097,963,163,963,163,1097,1097,1097,1097,36,1097,1097,1097,1097,1097,1097,1209,1209,1097,1097,945,163,945,1200,1200,1200,1200,1097,1097,963,1455,1455,2063,1494,1494,1494,1580,2063,1455,1455,2063,1455,1455,1494,1494,1494,1494,1494,1494,1494,1580,2063,2063,1455,1455,1455,1455,1580,2063,1455,1455,2063,1455,1455,1494,2063,1580,2063,1455,1455,1455,1455]}],\"line\":{\"color\":[2029,2029,2038,2038,2041,2044,2046,2046,2048,2048,2049,2049,2051,2056,2056,2059,1223,1223,2065,2065,2068,1228,1231,1231,1232,1232,2071,2073,2073,2075,2075,1233,1234,1235,2076,2078,2080,2082,2082,2084,2084,2087,2085,2085,1249,1249,1250,1250,2089,2091,2091,2093,2093,1251,1251,2094,2096,1257,1257,1258,1258,1259,1259,2099,2103,2103,1267,1267,1268,1268,1269,1270,1271,1282,1283,1285,1285,1286,1286,1287,2107,2111,2111,2120,2120,2123,2131,2131,2132,2132,1683,1683,1683,2138,2138,2141,1303,1303,1304,1304,2147,2147,2150,1311,1311,1312,1312,1313,1313,2153,2157,2157,1321,1321,1322,1322,2160,2167,2167,1331,1331,1330,1330,1329,1329,2172,2175,2175,497,1338,1338,1339,1339,1340,1340,1349,1349,1350,515,1357,1357,1358,1358,1362,522,523,524,525,1367,1367,528,531,1375,1375,1376,1376,538,538,549,553,556,556,558,559,560,1458,1459,1467,1468,1469,1470,1473,1474,1476,1477,1477,1377,1378,1379,1390,1391,1393,1393,1394,1394,1395,1485,1486,1488,1487,1491,1492,1494,1495,1496,1497,1500,1501,1503,1504,1505,1506,1509,1404,568,569,1411,1411,1412,1412,1416,576,1421,1421,578,1512,1512,1429,1429,1430,1430,1513,1513,1513,1521,1522,1523,1524,1527,1530,1531,1532,1431,1432,1433,594,596,1444,1445,603,1447,1447,1448,1448,605,1449,646,646,647,647,1539,1540,1541,1548,1550,1557,1557,1561,1566,1568,1575,1577,740,745,745,1584,1588,747,748,749,750,751,752,753,754,649,650,652,655,658,1593,666,667,668,758,763,763,1602,1606,765,765,766,766,767,768,768,772,772,1611,1616,774,775,776,782,782,676,684,783,784,700,700,701,701,786,787,788,785,789,790,792,792,793,794,800,800,801,802,803,804,807,702,703,704,715,716,718,718,719,719,720,1621,1622,1624,1627,1629,1635,1638,1639,1640,1647,811,812,1653,817,817,1656,819,821,1662,826,826,1665,1665,1670,828,829,830,836,836,1674,1675,1675,1676,1677,837,839,1680,1,844,844,1688,846,847,848,11,853,853,14,1692,17,1693,1694,855,857,18,19,863,863,862,862,861,861,864,865,866,867,27,28,28,29,870,32,872,872,35,873,873,875,877,36,37,38,881,881,880,880,39,40,41,879,879,42,43,44,882,883,884,45,46,47,48,51,54,55,63,64,65,69,72,73,74,75,76,77,78,79,80,891,892,893,894,895,896,897,898,900,900,901,902,908,908,909,910,911,912,915,918,919,919,920,921,81,82,83,924,85,86,926,926,88,89,927,927,927,927,929,90,91,92,935,935,934,934,93,95,933,933,96,98,936,937,938,99,99,100,101,945,946,947,948,949,950,108,109,110,953,952,111,113,951,114,116,954,954,955,955,956,956,117,118,119,120,122,123,125,963,964,965,966,126,127,128,969,135,136,137,144,145,146,153,154,155,163,164,166,167,169,170,172,173,175,178,180,181,182,183,184,185,186,187,188,190,191,193,196,198,200,201,204,207,208,209,216,217,218,219,220,221,222,223,224,225,225,226,227,234,235,236,237,240,1709,1709,1710,1711,1718,1718,1723,1724,1724,1727,1727,1728,1729,1731,1736,1736,1737,1738,1740,1743,1745,1745,1746,1751,1754,1754,1759,1759,1760,1760,1763,1763,1764,1768,1769,1769,1772,1772,1777,1778,1788,1788,1789,1789,1790,1790,1795,1797,1797,1798,1798,1799,1799,1803,1805,1806,1806,1808,1808,1813,1817,1817,1816,1816,977,977,1815,1815,979,979,980,980,1822,982,982,1824,1824,1825,1825,985,986,986,1826,1826,987,987,988,988,989,989,1830,1832,990,991,1835,1835,1833,1833,998,998,1839,1839,1841,1000,1000,1842,1842,1003,1003,1004,1004,1844,1844,1005,1005,1006,1006,1007,1007,1848,1850,1009,1009,1853,1853,1012,1012,1013,1013,1851,1851,1014,1014,1015,1015,1016,1016,1857,1019,1019,1021,1022,1022,1023,1023,1024,1024,1025,1025,1026,1027,1034,1034,1037,1037,1038,1039,1040,1042,1042,1043,1043,1044,1597,1864,1868,1868,1871,1871,1877,1877,1880,1880,1885,1886,1890,1895,1054,1054,1057,1057,1058,1058,1898,1898,1059,1059,1060,1060,1061,1061,1899,1904,1063,1063,1907,1907,1066,1066,1067,1067,1068,1068,1069,1069,1070,1070,1911,1073,1073,1075,1076,1076,1077,1077,1078,1078,1079,1079,1917,1921,1921,1922,1922,1081,1081,1083,1083,1084,1084,1085,1085,1086,1086,1087,1087,1088,1088,1928,1931,1090,1090,1930,1929,1092,1092,1093,1093,1094,1094,1932,254,1097,1097,1096,1096,1095,1095,259,259,1939,1940,1098,1098,1099,1099,1100,1100,1103,1103,1104,1104,1105,1105,1106,1106,269,269,1107,1109,1109,1111,1111,1112,1112,272,1115,1115,1114,1114,1113,1113,277,277,1117,1117,1118,1118,1119,1120,1121,1121,279,280,281,1122,1122,1123,1123,282,1124,1124,286,286,1129,1130,288,292,1133,1133,294,294,295,295,296,296,305,305,309,310,312,312,313,313,314,314,315,316,317,1134,1135,1142,1142,1145,1145,1146,1147,1148,1150,1150,1151,1151,1152,1161,1163,1163,1165,1165,1166,1166,325,326,1167,1167,1168,1168,1169,1169,331,331,1171,1171,1172,1172,1173,1174,1175,1175,333,335,1176,1176,1177,1177,1178,1178,340,340,1183,1184,1187,1187,348,348,349,349,350,350,1188,1189,1190,351,353,358,358,1200,1201,1202,360,362,1205,1205,1204,367,367,1206,375,375,376,376,377,377,382,382,384,384,385,385,386,386,391,393,393,394,394,395,395,400,401,404,404,406,407,409,412,413,413,415,417,420,420,422,422,423,424,425,433,438,438,440,440,441,447,447,448,448,449,449,454,455,458,458,459,460,461,471,472,473,475,476,476,477,2168,2168,2171,1953,1956,1959,1967,1967,1969,1969,1970,1970,1970,1971,1974,1977,1980,1983,1986,1989,1994,1994,1997,2185,2185,2186,2186,2003,2003,2005,2005,2006,2006,2006,2007,2012,2012,2015,2023,2023,2024,2024],\"colorscale\":[[0.0,\"#440154\"],[0.1111111111111111,\"#482878\"],[0.2222222222222222,\"#3e4989\"],[0.3333333333333333,\"#31688e\"],[0.4444444444444444,\"#26828e\"],[0.5555555555555556,\"#1f9e89\"],[0.6666666666666666,\"#35b779\"],[0.7777777777777778,\"#6ece58\"],[0.8888888888888888,\"#b5de2b\"],[1.0,\"#fde725\"]]},\"tickfont\":{\"size\":8},\"type\":\"parcoords\"}],                        {\"template\":{\"data\":{\"histogram2dcontour\":[{\"type\":\"histogram2dcontour\",\"colorbar\":{\"outlinewidth\":0,\"ticks\":\"\"},\"colorscale\":[[0.0,\"#0d0887\"],[0.1111111111111111,\"#46039f\"],[0.2222222222222222,\"#7201a8\"],[0.3333333333333333,\"#9c179e\"],[0.4444444444444444,\"#bd3786\"],[0.5555555555555556,\"#d8576b\"],[0.6666666666666666,\"#ed7953\"],[0.7777777777777778,\"#fb9f3a\"],[0.8888888888888888,\"#fdca26\"],[1.0,\"#f0f921\"]]}],\"choropleth\":[{\"type\":\"choropleth\",\"colorbar\":{\"outlinewidth\":0,\"ticks\":\"\"}}],\"histogram2d\":[{\"type\":\"histogram2d\",\"colorbar\":{\"outlinewidth\":0,\"ticks\":\"\"},\"colorscale\":[[0.0,\"#0d0887\"],[0.1111111111111111,\"#46039f\"],[0.2222222222222222,\"#7201a8\"],[0.3333333333333333,\"#9c179e\"],[0.4444444444444444,\"#bd3786\"],[0.5555555555555556,\"#d8576b\"],[0.6666666666666666,\"#ed7953\"],[0.7777777777777778,\"#fb9f3a\"],[0.8888888888888888,\"#fdca26\"],[1.0,\"#f0f921\"]]}],\"heatmap\":[{\"type\":\"heatmap\",\"colorbar\":{\"outlinewidth\":0,\"ticks\":\"\"},\"colorscale\":[[0.0,\"#0d0887\"],[0.1111111111111111,\"#46039f\"],[0.2222222222222222,\"#7201a8\"],[0.3333333333333333,\"#9c179e\"],[0.4444444444444444,\"#bd3786\"],[0.5555555555555556,\"#d8576b\"],[0.6666666666666666,\"#ed7953\"],[0.7777777777777778,\"#fb9f3a\"],[0.8888888888888888,\"#fdca26\"],[1.0,\"#f0f921\"]]}],\"heatmapgl\":[{\"type\":\"heatmapgl\",\"colorbar\":{\"outlinewidth\":0,\"ticks\":\"\"},\"colorscale\":[[0.0,\"#0d0887\"],[0.1111111111111111,\"#46039f\"],[0.2222222222222222,\"#7201a8\"],[0.3333333333333333,\"#9c179e\"],[0.4444444444444444,\"#bd3786\"],[0.5555555555555556,\"#d8576b\"],[0.6666666666666666,\"#ed7953\"],[0.7777777777777778,\"#fb9f3a\"],[0.8888888888888888,\"#fdca26\"],[1.0,\"#f0f921\"]]}],\"contourcarpet\":[{\"type\":\"contourcarpet\",\"colorbar\":{\"outlinewidth\":0,\"ticks\":\"\"}}],\"contour\":[{\"type\":\"contour\",\"colorbar\":{\"outlinewidth\":0,\"ticks\":\"\"},\"colorscale\":[[0.0,\"#0d0887\"],[0.1111111111111111,\"#46039f\"],[0.2222222222222222,\"#7201a8\"],[0.3333333333333333,\"#9c179e\"],[0.4444444444444444,\"#bd3786\"],[0.5555555555555556,\"#d8576b\"],[0.6666666666666666,\"#ed7953\"],[0.7777777777777778,\"#fb9f3a\"],[0.8888888888888888,\"#fdca26\"],[1.0,\"#f0f921\"]]}],\"surface\":[{\"type\":\"surface\",\"colorbar\":{\"outlinewidth\":0,\"ticks\":\"\"},\"colorscale\":[[0.0,\"#0d0887\"],[0.1111111111111111,\"#46039f\"],[0.2222222222222222,\"#7201a8\"],[0.3333333333333333,\"#9c179e\"],[0.4444444444444444,\"#bd3786\"],[0.5555555555555556,\"#d8576b\"],[0.6666666666666666,\"#ed7953\"],[0.7777777777777778,\"#fb9f3a\"],[0.8888888888888888,\"#fdca26\"],[1.0,\"#f0f921\"]]}],\"mesh3d\":[{\"type\":\"mesh3d\",\"colorbar\":{\"outlinewidth\":0,\"ticks\":\"\"}}],\"scatter\":[{\"fillpattern\":{\"fillmode\":\"overlay\",\"size\":10,\"solidity\":0.2},\"type\":\"scatter\"}],\"parcoords\":[{\"type\":\"parcoords\",\"line\":{\"colorbar\":{\"outlinewidth\":0,\"ticks\":\"\"}}}],\"scatterpolargl\":[{\"type\":\"scatterpolargl\",\"marker\":{\"colorbar\":{\"outlinewidth\":0,\"ticks\":\"\"}}}],\"bar\":[{\"error_x\":{\"color\":\"#2a3f5f\"},\"error_y\":{\"color\":\"#2a3f5f\"},\"marker\":{\"line\":{\"color\":\"#E5ECF6\",\"width\":0.5},\"pattern\":{\"fillmode\":\"overlay\",\"size\":10,\"solidity\":0.2}},\"type\":\"bar\"}],\"scattergeo\":[{\"type\":\"scattergeo\",\"marker\":{\"colorbar\":{\"outlinewidth\":0,\"ticks\":\"\"}}}],\"scatterpolar\":[{\"type\":\"scatterpolar\",\"marker\":{\"colorbar\":{\"outlinewidth\":0,\"ticks\":\"\"}}}],\"histogram\":[{\"marker\":{\"pattern\":{\"fillmode\":\"overlay\",\"size\":10,\"solidity\":0.2}},\"type\":\"histogram\"}],\"scattergl\":[{\"type\":\"scattergl\",\"marker\":{\"colorbar\":{\"outlinewidth\":0,\"ticks\":\"\"}}}],\"scatter3d\":[{\"type\":\"scatter3d\",\"line\":{\"colorbar\":{\"outlinewidth\":0,\"ticks\":\"\"}},\"marker\":{\"colorbar\":{\"outlinewidth\":0,\"ticks\":\"\"}}}],\"scattermapbox\":[{\"type\":\"scattermapbox\",\"marker\":{\"colorbar\":{\"outlinewidth\":0,\"ticks\":\"\"}}}],\"scatterternary\":[{\"type\":\"scatterternary\",\"marker\":{\"colorbar\":{\"outlinewidth\":0,\"ticks\":\"\"}}}],\"scattercarpet\":[{\"type\":\"scattercarpet\",\"marker\":{\"colorbar\":{\"outlinewidth\":0,\"ticks\":\"\"}}}],\"carpet\":[{\"aaxis\":{\"endlinecolor\":\"#2a3f5f\",\"gridcolor\":\"white\",\"linecolor\":\"white\",\"minorgridcolor\":\"white\",\"startlinecolor\":\"#2a3f5f\"},\"baxis\":{\"endlinecolor\":\"#2a3f5f\",\"gridcolor\":\"white\",\"linecolor\":\"white\",\"minorgridcolor\":\"white\",\"startlinecolor\":\"#2a3f5f\"},\"type\":\"carpet\"}],\"table\":[{\"cells\":{\"fill\":{\"color\":\"#EBF0F8\"},\"line\":{\"color\":\"white\"}},\"header\":{\"fill\":{\"color\":\"#C8D4E3\"},\"line\":{\"color\":\"white\"}},\"type\":\"table\"}],\"barpolar\":[{\"marker\":{\"line\":{\"color\":\"#E5ECF6\",\"width\":0.5},\"pattern\":{\"fillmode\":\"overlay\",\"size\":10,\"solidity\":0.2}},\"type\":\"barpolar\"}],\"pie\":[{\"automargin\":true,\"type\":\"pie\"}]},\"layout\":{\"autotypenumbers\":\"strict\",\"colorway\":[\"#636efa\",\"#EF553B\",\"#00cc96\",\"#ab63fa\",\"#FFA15A\",\"#19d3f3\",\"#FF6692\",\"#B6E880\",\"#FF97FF\",\"#FECB52\"],\"font\":{\"color\":\"#2a3f5f\"},\"hovermode\":\"closest\",\"hoverlabel\":{\"align\":\"left\"},\"paper_bgcolor\":\"white\",\"plot_bgcolor\":\"#E5ECF6\",\"polar\":{\"bgcolor\":\"#E5ECF6\",\"angularaxis\":{\"gridcolor\":\"white\",\"linecolor\":\"white\",\"ticks\":\"\"},\"radialaxis\":{\"gridcolor\":\"white\",\"linecolor\":\"white\",\"ticks\":\"\"}},\"ternary\":{\"bgcolor\":\"#E5ECF6\",\"aaxis\":{\"gridcolor\":\"white\",\"linecolor\":\"white\",\"ticks\":\"\"},\"baxis\":{\"gridcolor\":\"white\",\"linecolor\":\"white\",\"ticks\":\"\"},\"caxis\":{\"gridcolor\":\"white\",\"linecolor\":\"white\",\"ticks\":\"\"}},\"coloraxis\":{\"colorbar\":{\"outlinewidth\":0,\"ticks\":\"\"}},\"colorscale\":{\"sequential\":[[0.0,\"#0d0887\"],[0.1111111111111111,\"#46039f\"],[0.2222222222222222,\"#7201a8\"],[0.3333333333333333,\"#9c179e\"],[0.4444444444444444,\"#bd3786\"],[0.5555555555555556,\"#d8576b\"],[0.6666666666666666,\"#ed7953\"],[0.7777777777777778,\"#fb9f3a\"],[0.8888888888888888,\"#fdca26\"],[1.0,\"#f0f921\"]],\"sequentialminus\":[[0.0,\"#0d0887\"],[0.1111111111111111,\"#46039f\"],[0.2222222222222222,\"#7201a8\"],[0.3333333333333333,\"#9c179e\"],[0.4444444444444444,\"#bd3786\"],[0.5555555555555556,\"#d8576b\"],[0.6666666666666666,\"#ed7953\"],[0.7777777777777778,\"#fb9f3a\"],[0.8888888888888888,\"#fdca26\"],[1.0,\"#f0f921\"]],\"diverging\":[[0,\"#8e0152\"],[0.1,\"#c51b7d\"],[0.2,\"#de77ae\"],[0.3,\"#f1b6da\"],[0.4,\"#fde0ef\"],[0.5,\"#f7f7f7\"],[0.6,\"#e6f5d0\"],[0.7,\"#b8e186\"],[0.8,\"#7fbc41\"],[0.9,\"#4d9221\"],[1,\"#276419\"]]},\"xaxis\":{\"gridcolor\":\"white\",\"linecolor\":\"white\",\"ticks\":\"\",\"title\":{\"standoff\":15},\"zerolinecolor\":\"white\",\"automargin\":true,\"zerolinewidth\":2},\"yaxis\":{\"gridcolor\":\"white\",\"linecolor\":\"white\",\"ticks\":\"\",\"title\":{\"standoff\":15},\"zerolinecolor\":\"white\",\"automargin\":true,\"zerolinewidth\":2},\"scene\":{\"xaxis\":{\"backgroundcolor\":\"#E5ECF6\",\"gridcolor\":\"white\",\"linecolor\":\"white\",\"showbackground\":true,\"ticks\":\"\",\"zerolinecolor\":\"white\",\"gridwidth\":2},\"yaxis\":{\"backgroundcolor\":\"#E5ECF6\",\"gridcolor\":\"white\",\"linecolor\":\"white\",\"showbackground\":true,\"ticks\":\"\",\"zerolinecolor\":\"white\",\"gridwidth\":2},\"zaxis\":{\"backgroundcolor\":\"#E5ECF6\",\"gridcolor\":\"white\",\"linecolor\":\"white\",\"showbackground\":true,\"ticks\":\"\",\"zerolinecolor\":\"white\",\"gridwidth\":2}},\"shapedefaults\":{\"line\":{\"color\":\"#2a3f5f\"}},\"annotationdefaults\":{\"arrowcolor\":\"#2a3f5f\",\"arrowhead\":0,\"arrowwidth\":1},\"geo\":{\"bgcolor\":\"white\",\"landcolor\":\"#E5ECF6\",\"subunitcolor\":\"white\",\"showland\":true,\"showlakes\":true,\"lakecolor\":\"white\"},\"title\":{\"x\":0.05},\"mapbox\":{\"style\":\"light\"}}},\"height\":1200,\"width\":800,\"font\":{\"color\":\"black\",\"size\":14},\"paper_bgcolor\":\"rgba(0,0,0,0)\",\"plot_bgcolor\":\"rgba(0,0,0,0)\",\"annotations\":[{\"ax\":12.0,\"ay\":0.7319304666056725,\"font\":{\"color\":\"black\",\"size\":12},\"showarrow\":false,\"text\":\"{-7, -1, 2, 3, 4, 5}\",\"textangle\":0,\"x\":1.0,\"xanchor\":\"left\",\"xref\":\"x domain\",\"y\":0.7319304666056725,\"yref\":\"y domain\"},{\"ax\":12.0,\"ay\":0.9515096065873742,\"font\":{\"color\":\"black\",\"size\":12},\"showarrow\":false,\"text\":\"{-7, -6, -1, 3, 4, 5}\",\"textangle\":0,\"x\":1.0,\"xanchor\":\"left\",\"xref\":\"x domain\",\"y\":0.9515096065873742,\"yref\":\"y domain\"},{\"ax\":12.0,\"ay\":0.6655992680695334,\"font\":{\"color\":\"black\",\"size\":12},\"showarrow\":false,\"text\":\"{-6, -5, -4, -3, -2, 7}\",\"textangle\":0,\"x\":1.0,\"xanchor\":\"left\",\"xref\":\"x domain\",\"y\":0.6655992680695334,\"yref\":\"y domain\"},{\"ax\":12.0,\"ay\":0.5018298261665142,\"font\":{\"color\":\"black\",\"size\":12},\"showarrow\":false,\"text\":\"{-2, -1, 3, 4, 5, 6, 7}\",\"textangle\":0,\"x\":1.0,\"xanchor\":\"left\",\"xref\":\"x domain\",\"y\":0.5018298261665142,\"yref\":\"y domain\"},{\"ax\":12.0,\"ay\":0.5443732845379688,\"font\":{\"color\":\"black\",\"size\":12},\"showarrow\":false,\"text\":\"{-5, -4, 2, 3, 6, 7}\",\"textangle\":0,\"x\":1.0,\"xanchor\":\"left\",\"xref\":\"x domain\",\"y\":0.5443732845379688,\"yref\":\"y domain\"},{\"ax\":12.0,\"ay\":0.44373284537968893,\"font\":{\"color\":\"black\",\"size\":12},\"showarrow\":false,\"text\":\"{-5, -4, -3, 7}\",\"textangle\":0,\"x\":1.0,\"xanchor\":\"left\",\"xref\":\"x domain\",\"y\":0.44373284537968893,\"yref\":\"y domain\"},{\"ax\":12.0,\"ay\":0.010521500457456541,\"font\":{\"color\":\"black\",\"size\":12},\"showarrow\":false,\"text\":\"{3, 4}\",\"textangle\":0,\"x\":1.0,\"xanchor\":\"left\",\"xref\":\"x domain\",\"y\":0.010521500457456541,\"yref\":\"y domain\"},{\"ax\":12.0,\"ay\":0.6907593778591034,\"font\":{\"color\":\"black\",\"size\":12},\"showarrow\":false,\"text\":\"{-7, 3, 4}\",\"textangle\":0,\"x\":1.0,\"xanchor\":\"left\",\"xref\":\"x domain\",\"y\":0.6907593778591034,\"yref\":\"y domain\"},{\"ax\":12.0,\"ay\":0.42909423604757546,\"font\":{\"color\":\"black\",\"size\":12},\"showarrow\":false,\"text\":\"{-5, -4, 7}\",\"textangle\":0,\"x\":1.0,\"xanchor\":\"left\",\"xref\":\"x domain\",\"y\":0.42909423604757546,\"yref\":\"y domain\"},{\"ax\":12.0,\"ay\":0.0686184812442818,\"font\":{\"color\":\"black\",\"size\":12},\"showarrow\":false,\"text\":\"{-5, 1}\",\"textangle\":0,\"x\":1.0,\"xanchor\":\"left\",\"xref\":\"x domain\",\"y\":0.0686184812442818,\"yref\":\"y domain\"},{\"ax\":12.0,\"ay\":0.0484903934126258,\"font\":{\"color\":\"black\",\"size\":12},\"showarrow\":false,\"text\":\"{-1, 3, 4, 5}\",\"textangle\":0,\"x\":1.0,\"xanchor\":\"left\",\"xref\":\"x domain\",\"y\":0.0484903934126258,\"yref\":\"y domain\"},{\"ax\":12.0,\"ay\":0.5580969807868252,\"font\":{\"color\":\"black\",\"size\":12},\"showarrow\":false,\"text\":\"{-5, -4, -3, 2, 6, 7}\",\"textangle\":0,\"x\":1.0,\"xanchor\":\"left\",\"xref\":\"x domain\",\"y\":0.5580969807868252,\"yref\":\"y domain\"}],\"margin\":{\"b\":20,\"l\":45,\"r\":140,\"t\":120}},                        {\"responsive\": true}                    ).then(function(){\n",
       "                            \n",
       "var gd = document.getElementById('d2fcbda1-6474-4a27-a063-4a3ccd799413');\n",
       "var x = new MutationObserver(function (mutations, observer) {{\n",
       "        var display = window.getComputedStyle(gd).display;\n",
       "        if (!display || display === 'none') {{\n",
       "            console.log([gd, 'removed!']);\n",
       "            Plotly.purge(gd);\n",
       "            observer.disconnect();\n",
       "        }}\n",
       "}});\n",
       "\n",
       "// Listen for the removal of the full notebook cells\n",
       "var notebookContainer = gd.closest('#notebook-container');\n",
       "if (notebookContainer) {{\n",
       "    x.observe(notebookContainer, {childList: true});\n",
       "}}\n",
       "\n",
       "// Listen for the clearing of the current output cell\n",
       "var outputEl = gd.closest('.output');\n",
       "if (outputEl) {{\n",
       "    x.observe(outputEl, {childList: true});\n",
       "}}\n",
       "\n",
       "                        })                };                });            </script>        </div>"
      ]
     },
     "metadata": {},
     "output_type": "display_data"
    }
   ],
   "source": [
    "# loop for line plots\n",
    "\n",
    "ds = \"[[-7, -5], [3, -1, 5], [2, 7], [-6, -7], [4, -3], [-7, 3]]\"\n",
    "ds = \"[[-5, -2, -6], [-4, -1, -5], [-7, 4], [3, 7, 6], [7, 2, -4], [5, -1], [-3, -4]]\"    \n",
    "\n",
    "for configuration in ex_fp_df[\"configuration\"].unique():\n",
    "    \n",
    "    # unpack weights\n",
    "    alpha_a, alpha_s, alpha_f = configuration\n",
    "    \n",
    "    # create strings for annotation and filename\n",
    "    annotation_text = r\"$(\\alpha_{A}, \\alpha_{S}, \\alpha_{F}) = \" + \"({},\\ {},\\ {})$\".format(alpha_a, alpha_s, alpha_f)\n",
    "    file_name = \"full_spec_lines_{}_{}_{}.png\".format(str(alpha_a)[2:], str(alpha_s)[2:], str(alpha_f)[2:])\n",
    "\n",
    "\n",
    "    df = ex_fp_df[(ex_fp_df[\"configuration\"]==configuration) & (ex_fp_df[\"ds\"]==ds)]\n",
    "    print(df.shape)\n",
    "\n",
    "    sub_df = df[[\"ic_int\", \"fp_ints\"]]\n",
    "    #sub_df = sub_df.set_index([\"ic_int\"]).apply(pd.Series.explode).reset_index()\n",
    "    \n",
    "    #print(sub_df.shape)\n",
    "    #print(sub_df[\"fp_ints\"].nunique())\n",
    "    x = sub_df.drop_duplicates([\"ic_int\", \"fp_ints\"])\n",
    "    print(x[\"fp_ints\"].nunique())\n",
    "    print(x[\"ic_int\"].nunique())\n",
    "    print(x.groupby([\"fp_ints\"])[\"ic_int\"].nunique().quantile([0.25, 0.5, 0.75], interpolation=\"linear\"))\n",
    "    #print(x.shape)\n",
    "\n",
    "    fig = go.Figure(\n",
    "        data=go.Parcoords(\n",
    "            line=dict(#color=sub_df[ep_type + \"_ints\"],\n",
    "                      color=sub_df[\"ic_int\"],\n",
    "                      colorscale=\"Viridis\"),\n",
    "            tickfont={\"size\": 8},\n",
    "            dimensions=list([\n",
    "                dict(\n",
    "                    tickvals=[],  #df[\"ic_int\"].unique(),\n",
    "                    ticktext=[],  # df[\"init_coms\"].unique(),\n",
    "                    label=\"Initial<br>commitments\", values=sub_df['ic_int'],\n",
    "                    range=[1,2186]),\n",
    "                dict(\n",
    "                    tickvals=[], #df[\"fp_ints\"].unique(),\n",
    "                    ticktext=[], #df[\"fp_coms\"].unique(),\n",
    "                    label='Fixed point<br>commitments', values=sub_df[\"fp_ints\"],\n",
    "                    range=[1,2186])])))\n",
    "    \n",
    "    \n",
    "    \n",
    "    fig.layout.height = 1200\n",
    "    fig.layout.width = 800\n",
    "    fig.update_layout(paper_bgcolor=\"rgba(0,0,0,0)\",\n",
    "                      plot_bgcolor=\"rgba(0,0,0,0)\",\n",
    "                      font={\"color\": \"black\", \"size\": 14})\n",
    "    \n",
    "    #fig.update_layout(xaxis=dict(domain=[0.0, 1.0]), yaxis=dict(domain=[0.0, 1.0]))\n",
    "    \n",
    "    for fp_int, fp_name in zip(annotation_y, annotation_name):\n",
    "        fig.add_annotation(dict(font=dict(color=\"black\",size=12),\n",
    "                                showarrow=False,\n",
    "                                ax=12.0,\n",
    "                                ay=fp_int/2186,\n",
    "                                x=1.00,\n",
    "                                y=fp_int/2186,\n",
    "                                text=fp_name,\n",
    "                                textangle=0,\n",
    "                                xref=\"x domain\",\n",
    "                                yref=\"y domain\",\n",
    "                                xanchor=\"left\"))\n",
    "        \n",
    "    \n",
    "    #fig.update_layout(title_text=\"Streamlined outputs from full spectrum\")\n",
    "    fig.update_layout(margin={\"b\":20, \"l\":45, \"r\": 140, \"t\":120})\n",
    "    \n",
    "    #fig.add_annotation(dict(font=dict(color=\"black\",size=12),\n",
    "    #                            showarrow=False,\n",
    "    #                            x=-0.13,\n",
    "    #                            y=1.05,\n",
    "    #                            text=annotation_text,\n",
    "    #                            textangle=0,\n",
    "    #                            xref=\"paper\",\n",
    "    #                            yref=\"paper\"))\n",
    "\n",
    "\n",
    "\n",
    "    fig.show()\n",
    "    pio.write_image(fig, path.join(plot_dir, file_name), scale=2)\n",
    "    break\n",
    "    "
   ]
  },
  {
   "cell_type": "markdown",
   "id": "4b12a08f",
   "metadata": {},
   "source": [
    "## \"Anything Goes\": Propositions"
   ]
  },
  {
   "cell_type": "code",
   "execution_count": 90,
   "id": "69477773",
   "metadata": {},
   "outputs": [],
   "source": [
    "# ex_fp_df restricted to full RE and non-trivial fixed points\n",
    "literal_eval_cols(ex_fp_df, [\"init_coms\"])"
   ]
  },
  {
   "cell_type": "code",
   "execution_count": 91,
   "id": "c40d8483",
   "metadata": {},
   "outputs": [],
   "source": [
    "ex_fp_df[\"fp_coms\"] = ex_fp_df.apply(lambda row: tuple(sorted(row[\"fixed_points\"][1])), axis=1)\n",
    "ex_fp_df[\"init_coms\"] = ex_fp_df.apply(lambda row: tuple(sorted(row[\"init_coms\"])), axis=1)"
   ]
  },
  {
   "cell_type": "code",
   "execution_count": null,
   "id": "fc67e215",
   "metadata": {},
   "outputs": [],
   "source": []
  },
  {
   "cell_type": "code",
   "execution_count": 92,
   "id": "7a0e1681",
   "metadata": {},
   "outputs": [],
   "source": [
    "# extreme case 1\n",
    "# all fixed points in a single group\n",
    "\n",
    "result_df0 = pd.DataFrame()\n",
    "\n",
    "\n",
    "for configuration in ex_fp_df[\"configuration\"].unique():\n",
    "    \n",
    "    # loop over dialectical structures\n",
    "    for ds in ex_fp_df[\"ds\"].unique():\n",
    "        \n",
    "        row = dict()\n",
    "            \n",
    "        row[\"configuration\"] = configuration\n",
    "        row[\"ds\"] = ds\n",
    "        row[\"n_fp\"] = 0\n",
    "        \n",
    "        # restrict exploded fixed point df to configuration and dialectical structure\n",
    "        sub_ex_fp_df = ex_fp_df[(ex_fp_df[\"configuration\"]==configuration) & (ex_fp_df[\"ds\"]==ds)]\n",
    "        \n",
    "        # sentence dict\n",
    "        d = dict()\n",
    "        for i in range(1,8):\n",
    "            d[i] = 0\n",
    "            d[-i] = 0\n",
    "             \n",
    "\n",
    "        # every (nontrivial, full RE) fixed point\n",
    "        for fp in sub_ex_fp_df[\"fp_coms\"].unique():\n",
    "                \n",
    "            row[\"n_fp\"] += 1\n",
    "                \n",
    "            for s in fp:\n",
    "                d[s] +=1  \n",
    "            \n",
    "\n",
    "        row[\"anything_goes\"] = all(d.values())\n",
    "\n",
    "        result_df0 = result_df0.append(row, ignore_index=True)"
   ]
  },
  {
   "cell_type": "code",
   "execution_count": 93,
   "id": "99dc1a55",
   "metadata": {},
   "outputs": [
    {
     "data": {
      "text/plain": [
       "configuration\n",
       "(0.35, 0.55, 0.1)    0.466667\n",
       "(0.46, 0.1, 0.44)    1.000000\n",
       "(0.55, 0.2, 0.25)    1.000000\n",
       "(0.55, 0.35, 0.1)    0.966667\n",
       "(0.7, 0.2, 0.1)      0.966667\n",
       "Name: anything_goes, dtype: float64"
      ]
     },
     "execution_count": 93,
     "metadata": {},
     "output_type": "execute_result"
    }
   ],
   "source": [
    "result_df0.groupby(\"configuration\")[\"anything_goes\"].mean()"
   ]
  },
  {
   "cell_type": "code",
   "execution_count": 98,
   "id": "df0bd54e",
   "metadata": {},
   "outputs": [
    {
     "name": "stdout",
     "output_type": "stream",
     "text": [
      "[[-5, 3, 6], [-2, 3], [1, -5], [7, 2], [4, -1]]\n",
      "[[-4, 2, 7], [-1, 2], [6, 1], [5, -7], [-3, -5], [2, -3], [4, -5]]\n",
      "[[3, -4, 7], [6, -3], [2, -1, -3], [5, -7], [-6, -2]]\n",
      "[[-5, 6, 7], [4, 6], [3, -4], [2, -5], [1, -7], [-1, 4, 5], [6, 5, 1]]\n",
      "[[-6, -2, 4], [-1, 6], [3, -7, 2], [5, 7], [-2, -5], [-4, 1]]\n",
      "[[7, 5], [-1, -4, 7], [3, -2, 5], [-4, -6, -3], [-5, -1, -4], [-1, -3]]\n",
      "[[-5, -6], [1, -7, 6], [-2, 4, 6], [-3, 6], [-3, 7], [-4, 2, 6], [-6, -1, -7]]\n",
      "[[7, 1], [6, -5, 7], [2, -3, 5], [-4, -1, 6], [3, 6, 7], [-6, -4]]\n",
      "[[4, -1, -5], [-3, -1], [6, -1], [-7, -5], [-1, -6, 3], [-2, -7], [-1, -7, 2]]\n",
      "[[-5, -2, -6], [-4, -1, -5], [-7, 4], [3, 7, 6], [7, 2, -4], [5, -1], [-3, -4]]\n",
      "[[5, -2, -7], [-3, 4, 2], [6, -1, 4], [3, 2], [4, 6]]\n",
      "[[6, -5, -3], [4, 2, -5], [-7, -1, -5], [5, 1, 6], [-1, -2, 3]]\n",
      "[[3, 4], [-1, 7, 3], [-5, -1], [-6, -2, -1], [-4, 7]]\n",
      "[[-1, 3, 4], [6, -2, -1], [7, 4], [7, 1, 6], [-5, 4], [2, 1], [-5, 3, -1]]\n",
      "[[4, 2, -6], [3, -1, 4], [-5, -3], [1, -7, 3], [1, -2], [-7, -6], [7, 3]]\n",
      "[[-1, -2, -5], [7, 6, -2], [-3, 1], [-6, -3, 5], [-4, 3], [4, -6]]\n",
      "[[-6, 4], [-3, 7, 4], [5, -6], [-2, -1, 5], [-1, -4, 3], [7, 4], [3, -4], [6, 3]]\n",
      "[[-1, 7], [-6, -5, 1], [-3, -4, -6], [2, 4], [-5, -1, -3]]\n",
      "[[1, 7, -3], [-4, -6, -3], [-2, 3], [5, -2], [4, -5, 1], [4, 1, -5]]\n",
      "[[5, -7], [-3, 6, -5], [-2, -6], [4, 1, 3], [-6, 3, 7], [3, -7, 1]]\n",
      "[[-6, -1, -4], [5, 7, 6], [-3, 2, 6], [-7, 1], [1, -5, -6], [-6, -4, -5], [5, -3]]\n",
      "[[2, -3], [4, 3], [-6, 7, 2], [-5, -3], [2, -6, 3], [-1, 4, -5], [-4, 7]]\n",
      "[[1, -7], [-6, -2, -1], [3, 4, -6], [6, 7, -2], [-2, 5, 1], [-1, 7]]\n",
      "[[-3, -6], [1, -7, -3], [4, -2, 6], [3, -2, 7], [-7, 5, 3], [-2, 6], [1, -4]]\n",
      "[[3, 2], [5, -2], [1, -2], [-4, -5], [7, -6, -4]]\n",
      "[[6, -7, 5], [-3, -5], [1, 5], [2, -7], [4, 3], [4, -2, -5], [7, -6, 1], [2, -6]]\n",
      "[[-5, 2, -7], [4, 6, -7], [-1, -3, 6], [4, 5, -6], [2, 6]]\n",
      "[[-6, 1], [-5, 7, -6], [-3, -7], [-2, -5], [7, 4, 1], [-2, 1]]\n",
      "[[-7, -5], [3, -1, 5], [2, 7], [-6, -7], [4, -3], [-7, 3]]\n",
      "[[-3, -1, -2], [7, 5, -3], [-6, -1], [-4, -7], [2, -3]]\n"
     ]
    }
   ],
   "source": [
    "# extreme case 2\n",
    "# individual group for every initial commitment\n",
    "\n",
    "result_df1 = pd.DataFrame()\n",
    "\n",
    "\n",
    "for configuration in [(0.35, 0.55, 0.10)]: #ex_fp_df[\"configuration\"].unique():\n",
    "    \n",
    "    # loop over dialectical structures\n",
    "    for ds in ex_fp_df[\"ds\"].unique():\n",
    "        \n",
    "        print(ds)\n",
    "        \n",
    "            \n",
    "        # restrict exploded fixed point df to configuration and dialectical structure\n",
    "        sub_ex_fp_df = ex_fp_df[(ex_fp_df[\"configuration\"]==configuration) & (ex_fp_df[\"ds\"]==ds)]\n",
    "        \n",
    "        # loop over initial commitments\n",
    "        for init_coms in [pos for pos in sub_ex_fp_df[\"init_coms\"].unique()]:\n",
    "            \n",
    "            row = dict()\n",
    "            \n",
    "            row[\"configuration\"] = configuration\n",
    "            row[\"ds\"] = ds\n",
    "            row[\"n_fp\"] = 0\n",
    "            row[\"init_coms\"] = init_coms\n",
    "        \n",
    "            # sentence dict\n",
    "            d = dict()\n",
    "            for i in range(1,8):\n",
    "                d[i] = 0\n",
    "                d[-i] = 0\n",
    "\n",
    "\n",
    "            # every (nontrivial, full RE) fixed point reachable from specific init coms\n",
    "            for fp in sub_ex_fp_df[sub_ex_fp_df[\"init_coms\"]==init_coms][\"fp_coms\"].unique():\n",
    "\n",
    "                row[\"n_fp\"] += 1\n",
    "\n",
    "                for s in fp:\n",
    "                    d[s] +=1  \n",
    "\n",
    "\n",
    "            row[\"anything_goes\"] = all(d.values())\n",
    "\n",
    "            result_df1 = result_df1.append(row, ignore_index=True)"
   ]
  },
  {
   "cell_type": "code",
   "execution_count": 101,
   "id": "88c0a38a",
   "metadata": {},
   "outputs": [
    {
     "data": {
      "text/plain": [
       "configuration\n",
       "(0.35, 0.55, 0.1)    0.0\n",
       "Name: anything_goes, dtype: float64"
      ]
     },
     "execution_count": 101,
     "metadata": {},
     "output_type": "execute_result"
    }
   ],
   "source": [
    "result_df1.groupby(\"configuration\")[\"anything_goes\"].mean()"
   ]
  },
  {
   "cell_type": "code",
   "execution_count": 100,
   "id": "cfaaf715",
   "metadata": {},
   "outputs": [
    {
     "data": {
      "text/plain": [
       "(23993, 5)"
      ]
     },
     "execution_count": 100,
     "metadata": {},
     "output_type": "execute_result"
    }
   ],
   "source": [
    "result_df1.shape"
   ]
  },
  {
   "cell_type": "code",
   "execution_count": 58,
   "id": "04cc8a2c",
   "metadata": {},
   "outputs": [],
   "source": []
  },
  {
   "cell_type": "code",
   "execution_count": 59,
   "id": "1fd55474",
   "metadata": {
    "scrolled": true
   },
   "outputs": [
    {
     "name": "stdout",
     "output_type": "stream",
     "text": [
      "(0.35, 0.55, 0.1)\n",
      "0\n",
      "1346\n",
      "1\n",
      "1474\n",
      "2\n",
      "1190\n",
      "3\n",
      "1411\n",
      "4\n",
      "982\n",
      "5\n",
      "956\n",
      "6\n",
      "1040\n",
      "7\n",
      "1169\n",
      "8\n",
      "1573\n",
      "9\n",
      "1426\n",
      "10\n",
      "952\n",
      "11\n",
      "1073\n",
      "12\n",
      "1169\n",
      "13\n",
      "1017\n",
      "14\n",
      "1389\n",
      "15\n",
      "1200\n",
      "16\n",
      "2337\n",
      "17\n",
      "1143\n",
      "18\n",
      "1411\n",
      "19\n",
      "1381\n",
      "20\n",
      "1377\n",
      "21\n",
      "1922\n",
      "22\n",
      "1099\n",
      "23\n",
      "1291\n",
      "24\n",
      "1126\n",
      "25\n",
      "2226\n",
      "26\n",
      "1008\n",
      "27\n",
      "1325\n",
      "28\n",
      "1743\n",
      "29\n",
      "1016\n",
      "(0.55, 0.35, 0.1)\n",
      "0\n",
      "1190\n",
      "1\n",
      "1208\n",
      "2\n",
      "1626\n",
      "3\n",
      "1485\n",
      "4\n",
      "825\n",
      "5\n",
      "949\n",
      "6\n",
      "1229\n",
      "7\n",
      "1168\n",
      "8\n",
      "1272\n",
      "9\n",
      "2011\n",
      "10\n",
      "848\n",
      "11\n",
      "1071\n",
      "12\n",
      "1275\n",
      "13\n",
      "1004\n",
      "14\n",
      "1455\n",
      "15\n",
      "1179\n",
      "16\n",
      "2810\n",
      "17\n",
      "972\n",
      "18\n",
      "1290\n",
      "19\n",
      "1556\n",
      "20\n",
      "1231\n",
      "21\n",
      "1315\n",
      "22\n",
      "1339\n",
      "23\n",
      "1297\n",
      "24\n",
      "1441\n",
      "25\n",
      "2278\n",
      "26\n",
      "1245\n",
      "27\n",
      "1314\n",
      "28\n",
      "1477\n",
      "29\n",
      "1196\n",
      "(0.7, 0.2, 0.1)\n",
      "0\n",
      "671\n",
      "1\n",
      "1114\n",
      "2\n",
      "494\n",
      "3\n",
      "899\n",
      "4\n",
      "600\n",
      "5\n",
      "585\n",
      "6\n",
      "1432\n",
      "7\n",
      "676\n",
      "8\n",
      "1257\n",
      "9\n",
      "1236\n",
      "10\n",
      "1237\n",
      "11\n",
      "1418\n",
      "12\n",
      "824\n",
      "13\n",
      "672\n",
      "14\n",
      "1169\n",
      "15\n",
      "626\n",
      "16\n",
      "2298\n",
      "17\n",
      "758\n",
      "18\n",
      "734\n",
      "19\n",
      "857\n",
      "20\n",
      "690\n",
      "21\n",
      "1382\n",
      "22\n",
      "1378\n",
      "23\n",
      "736\n",
      "24\n",
      "631\n",
      "25\n",
      "2007\n",
      "26\n",
      "841\n",
      "27\n",
      "604\n",
      "28\n",
      "718\n",
      "29\n",
      "611\n",
      "(0.55, 0.2, 0.25)\n",
      "0\n",
      "832\n",
      "1\n",
      "1280\n",
      "2\n",
      "1032\n",
      "3\n",
      "1307\n",
      "4\n",
      "1508\n",
      "5\n",
      "1032\n",
      "6\n",
      "3306\n",
      "7\n",
      "1329\n",
      "8\n",
      "1300\n",
      "9\n",
      "2221\n",
      "10\n",
      "1011\n",
      "11\n",
      "1421\n",
      "12\n",
      "1121\n",
      "13\n",
      "1837\n",
      "14\n",
      "1299\n",
      "15\n",
      "1200\n",
      "16\n",
      "2849\n",
      "17\n",
      "1119\n",
      "18\n",
      "1546\n",
      "19\n",
      "1779\n",
      "20\n",
      "1046\n",
      "21\n",
      "1308\n",
      "22\n",
      "2094\n",
      "23\n",
      "1129\n",
      "24\n",
      "1524\n",
      "25\n",
      "1805\n",
      "26\n",
      "943\n",
      "27\n",
      "1009\n",
      "28\n",
      "1150\n",
      "29\n",
      "1279\n",
      "(0.46, 0.1, 0.44)\n",
      "0\n",
      "1428\n",
      "1\n",
      "1308\n",
      "2\n",
      "1822\n",
      "3\n",
      "2106\n",
      "4\n",
      "2131\n",
      "5\n",
      "2032\n",
      "6\n",
      "4450\n",
      "7\n",
      "1833\n",
      "8\n",
      "1494\n",
      "9\n",
      "3438\n",
      "10\n",
      "1687\n",
      "11\n",
      "1834\n",
      "12\n",
      "1665\n",
      "13\n",
      "2395\n",
      "14\n",
      "1718\n",
      "15\n",
      "1650\n",
      "16\n",
      "2606\n",
      "17\n",
      "1487\n",
      "18\n",
      "2735\n",
      "19\n",
      "2424\n",
      "20\n",
      "2261\n",
      "21\n",
      "1536\n",
      "22\n",
      "2823\n",
      "23\n",
      "1798\n",
      "24\n",
      "2006\n",
      "25\n",
      "2032\n",
      "26\n",
      "2197\n",
      "27\n",
      "1678\n",
      "28\n",
      "1549\n",
      "29\n",
      "1841\n"
     ]
    }
   ],
   "source": [
    "# middleground\n",
    "# groups of agreeing initial commitments\n",
    "\n",
    "result_df = pd.DataFrame(columns=[\"configuration\", \"ds\", \n",
    "                                  \"shared_init_coms\", \"len_shared_init_coms\", \n",
    "                                  \"anything_goes\", \"n_unique_sentences\", \"n_fp\", \"n_conflicts\", \"init_coms_group_size\"])\n",
    "\n",
    "for configuration in ex_fp_df[\"configuration\"].unique():\n",
    "    \n",
    "    print(configuration)\n",
    "    loop=0\n",
    "    \n",
    "    # loop over dialectical structures\n",
    "    for ds in ex_fp_df[\"ds\"].unique():\n",
    "        \n",
    "        print(loop)\n",
    "        loop+=1\n",
    "        \n",
    "        # restrict exploded fixed point df to configuration and dialectical structure\n",
    "        sub_ex_fp_df = ex_fp_df[(ex_fp_df[\"configuration\"]==configuration) & (ex_fp_df[\"ds\"]==ds)]\n",
    "        \n",
    "        print(len(sub_ex_fp_df))\n",
    "\n",
    "        # loop over initial commitments + empty position\n",
    "        for init_coms in [pos for pos in sub_ex_fp_df[\"init_coms\"].unique()] + [()]:\n",
    "        \n",
    "            row = dict()\n",
    "            \n",
    "            row[\"configuration\"] = configuration\n",
    "            row[\"ds\"] = ds\n",
    "            row[\"shared_init_coms\"] = init_coms\n",
    "            row[\"len_shared_init_coms\"] = len(init_coms)\n",
    "            row[\"n_fp\"] = 0\n",
    "            \n",
    "            \n",
    "\n",
    "            def contains_shared_init_coms(pos):\n",
    "                return all(sentence in pos for sentence in init_coms)\n",
    "            \n",
    "            \n",
    "            row[\"init_coms_group_size\"] = sub_ex_fp_df[sub_ex_fp_df[\"init_coms\"].map(contains_shared_init_coms)][\"init_coms\"].nunique()\n",
    "\n",
    "            # fixed points\n",
    "            d = dict()\n",
    "            for i in range(1,8):\n",
    "                d[i] = 0\n",
    "                d[-i] = 0\n",
    "                \n",
    "\n",
    "            # every (nontrivial, full RE) fixed point that is reachable from shared commitments\n",
    "            for fp in sub_ex_fp_df[sub_ex_fp_df[\"init_coms\"].map(contains_shared_init_coms)][\"fp_coms\"].unique():\n",
    "                \n",
    "                row[\"n_fp\"] += 1\n",
    "                \n",
    "                for s in fp:\n",
    "                    d[s] +=1  \n",
    "            \n",
    "            row[\"n_unique_sentences\"] = sum(1 for v in d.values() if v)\n",
    "            row[\"n_conflicts\"] = sum(1 for i in range(1,8) if (d[i] and d[-i]))\n",
    "            row[\"anything_goes\"] = all(d.values())\n",
    "\n",
    "            result_df = result_df.append(row, ignore_index=True)"
   ]
  },
  {
   "cell_type": "code",
   "execution_count": 60,
   "id": "eb611cc3",
   "metadata": {},
   "outputs": [
    {
     "data": {
      "text/plain": [
       "configuration      ds                                                                       len_shared_init_coms\n",
       "(0.35, 0.55, 0.1)  [[-1, -2, -5], [7, 6, -2], [-3, 1], [-6, -3, 5], [-4, 3], [4, -6]]       0                       1.000000\n",
       "                                                                                            1                       0.692308\n",
       "                                                                                            2                       0.226190\n",
       "                                                                                            3                       0.000000\n",
       "                                                                                            4                       0.000000\n",
       "                                                                                                                      ...   \n",
       "(0.7, 0.2, 0.1)    [[7, 5], [-1, -4, 7], [3, -2, 5], [-4, -6, -3], [-5, -1, -4], [-1, -3]]  3                       0.243243\n",
       "                                                                                            4                       0.152174\n",
       "                                                                                            5                       0.030769\n",
       "                                                                                            6                       0.000000\n",
       "                                                                                            7                       0.000000\n",
       "Name: anything_goes, Length: 1192, dtype: float64"
      ]
     },
     "execution_count": 60,
     "metadata": {},
     "output_type": "execute_result"
    }
   ],
   "source": [
    "result_df.groupby([\"configuration\",\"ds\", \"len_shared_init_coms\"])[\"anything_goes\"].mean() # sum()/result_df.groupby(\"ds\")[\"anything_goes\"].size()"
   ]
  },
  {
   "cell_type": "code",
   "execution_count": 61,
   "id": "369d384f",
   "metadata": {},
   "outputs": [
    {
     "data": {
      "text/html": [
       "<div>\n",
       "<style scoped>\n",
       "    .dataframe tbody tr th:only-of-type {\n",
       "        vertical-align: middle;\n",
       "    }\n",
       "\n",
       "    .dataframe tbody tr th {\n",
       "        vertical-align: top;\n",
       "    }\n",
       "\n",
       "    .dataframe thead th {\n",
       "        text-align: right;\n",
       "    }\n",
       "</style>\n",
       "<table border=\"1\" class=\"dataframe\">\n",
       "  <thead>\n",
       "    <tr style=\"text-align: right;\">\n",
       "      <th></th>\n",
       "      <th>configuration</th>\n",
       "      <th>len_shared_init_coms</th>\n",
       "      <th>shared_init_coms</th>\n",
       "    </tr>\n",
       "  </thead>\n",
       "  <tbody>\n",
       "    <tr>\n",
       "      <th>0</th>\n",
       "      <td>(0.35, 0.55, 0.1)</td>\n",
       "      <td>0</td>\n",
       "      <td>1.0</td>\n",
       "    </tr>\n",
       "    <tr>\n",
       "      <th>1</th>\n",
       "      <td>(0.35, 0.55, 0.1)</td>\n",
       "      <td>1</td>\n",
       "      <td>14.0</td>\n",
       "    </tr>\n",
       "    <tr>\n",
       "      <th>2</th>\n",
       "      <td>(0.35, 0.55, 0.1)</td>\n",
       "      <td>2</td>\n",
       "      <td>84.0</td>\n",
       "    </tr>\n",
       "    <tr>\n",
       "      <th>3</th>\n",
       "      <td>(0.35, 0.55, 0.1)</td>\n",
       "      <td>3</td>\n",
       "      <td>256.5</td>\n",
       "    </tr>\n",
       "    <tr>\n",
       "      <th>4</th>\n",
       "      <td>(0.35, 0.55, 0.1)</td>\n",
       "      <td>4</td>\n",
       "      <td>279.0</td>\n",
       "    </tr>\n",
       "    <tr>\n",
       "      <th>5</th>\n",
       "      <td>(0.35, 0.55, 0.1)</td>\n",
       "      <td>5</td>\n",
       "      <td>178.0</td>\n",
       "    </tr>\n",
       "    <tr>\n",
       "      <th>6</th>\n",
       "      <td>(0.35, 0.55, 0.1)</td>\n",
       "      <td>6</td>\n",
       "      <td>150.0</td>\n",
       "    </tr>\n",
       "    <tr>\n",
       "      <th>7</th>\n",
       "      <td>(0.35, 0.55, 0.1)</td>\n",
       "      <td>7</td>\n",
       "      <td>38.0</td>\n",
       "    </tr>\n",
       "    <tr>\n",
       "      <th>8</th>\n",
       "      <td>(0.46, 0.1, 0.44)</td>\n",
       "      <td>0</td>\n",
       "      <td>1.0</td>\n",
       "    </tr>\n",
       "    <tr>\n",
       "      <th>9</th>\n",
       "      <td>(0.46, 0.1, 0.44)</td>\n",
       "      <td>1</td>\n",
       "      <td>14.0</td>\n",
       "    </tr>\n",
       "    <tr>\n",
       "      <th>10</th>\n",
       "      <td>(0.46, 0.1, 0.44)</td>\n",
       "      <td>2</td>\n",
       "      <td>27.5</td>\n",
       "    </tr>\n",
       "    <tr>\n",
       "      <th>11</th>\n",
       "      <td>(0.46, 0.1, 0.44)</td>\n",
       "      <td>3</td>\n",
       "      <td>211.0</td>\n",
       "    </tr>\n",
       "    <tr>\n",
       "      <th>12</th>\n",
       "      <td>(0.46, 0.1, 0.44)</td>\n",
       "      <td>4</td>\n",
       "      <td>453.0</td>\n",
       "    </tr>\n",
       "    <tr>\n",
       "      <th>13</th>\n",
       "      <td>(0.46, 0.1, 0.44)</td>\n",
       "      <td>5</td>\n",
       "      <td>506.0</td>\n",
       "    </tr>\n",
       "    <tr>\n",
       "      <th>14</th>\n",
       "      <td>(0.46, 0.1, 0.44)</td>\n",
       "      <td>6</td>\n",
       "      <td>292.5</td>\n",
       "    </tr>\n",
       "    <tr>\n",
       "      <th>15</th>\n",
       "      <td>(0.46, 0.1, 0.44)</td>\n",
       "      <td>7</td>\n",
       "      <td>64.0</td>\n",
       "    </tr>\n",
       "    <tr>\n",
       "      <th>16</th>\n",
       "      <td>(0.55, 0.2, 0.25)</td>\n",
       "      <td>0</td>\n",
       "      <td>1.0</td>\n",
       "    </tr>\n",
       "    <tr>\n",
       "      <th>17</th>\n",
       "      <td>(0.55, 0.2, 0.25)</td>\n",
       "      <td>1</td>\n",
       "      <td>14.0</td>\n",
       "    </tr>\n",
       "    <tr>\n",
       "      <th>18</th>\n",
       "      <td>(0.55, 0.2, 0.25)</td>\n",
       "      <td>2</td>\n",
       "      <td>69.5</td>\n",
       "    </tr>\n",
       "    <tr>\n",
       "      <th>19</th>\n",
       "      <td>(0.55, 0.2, 0.25)</td>\n",
       "      <td>3</td>\n",
       "      <td>129.5</td>\n",
       "    </tr>\n",
       "    <tr>\n",
       "      <th>20</th>\n",
       "      <td>(0.55, 0.2, 0.25)</td>\n",
       "      <td>4</td>\n",
       "      <td>301.5</td>\n",
       "    </tr>\n",
       "    <tr>\n",
       "      <th>21</th>\n",
       "      <td>(0.55, 0.2, 0.25)</td>\n",
       "      <td>5</td>\n",
       "      <td>350.0</td>\n",
       "    </tr>\n",
       "    <tr>\n",
       "      <th>22</th>\n",
       "      <td>(0.55, 0.2, 0.25)</td>\n",
       "      <td>6</td>\n",
       "      <td>192.0</td>\n",
       "    </tr>\n",
       "    <tr>\n",
       "      <th>23</th>\n",
       "      <td>(0.55, 0.2, 0.25)</td>\n",
       "      <td>7</td>\n",
       "      <td>39.0</td>\n",
       "    </tr>\n",
       "    <tr>\n",
       "      <th>24</th>\n",
       "      <td>(0.55, 0.35, 0.1)</td>\n",
       "      <td>0</td>\n",
       "      <td>1.0</td>\n",
       "    </tr>\n",
       "    <tr>\n",
       "      <th>25</th>\n",
       "      <td>(0.55, 0.35, 0.1)</td>\n",
       "      <td>1</td>\n",
       "      <td>14.0</td>\n",
       "    </tr>\n",
       "    <tr>\n",
       "      <th>26</th>\n",
       "      <td>(0.55, 0.35, 0.1)</td>\n",
       "      <td>2</td>\n",
       "      <td>84.0</td>\n",
       "    </tr>\n",
       "    <tr>\n",
       "      <th>27</th>\n",
       "      <td>(0.55, 0.35, 0.1)</td>\n",
       "      <td>3</td>\n",
       "      <td>148.5</td>\n",
       "    </tr>\n",
       "    <tr>\n",
       "      <th>28</th>\n",
       "      <td>(0.55, 0.35, 0.1)</td>\n",
       "      <td>4</td>\n",
       "      <td>185.5</td>\n",
       "    </tr>\n",
       "    <tr>\n",
       "      <th>29</th>\n",
       "      <td>(0.55, 0.35, 0.1)</td>\n",
       "      <td>5</td>\n",
       "      <td>286.0</td>\n",
       "    </tr>\n",
       "    <tr>\n",
       "      <th>30</th>\n",
       "      <td>(0.55, 0.35, 0.1)</td>\n",
       "      <td>6</td>\n",
       "      <td>234.0</td>\n",
       "    </tr>\n",
       "    <tr>\n",
       "      <th>31</th>\n",
       "      <td>(0.55, 0.35, 0.1)</td>\n",
       "      <td>7</td>\n",
       "      <td>78.0</td>\n",
       "    </tr>\n",
       "    <tr>\n",
       "      <th>32</th>\n",
       "      <td>(0.7, 0.2, 0.1)</td>\n",
       "      <td>0</td>\n",
       "      <td>1.0</td>\n",
       "    </tr>\n",
       "    <tr>\n",
       "      <th>33</th>\n",
       "      <td>(0.7, 0.2, 0.1)</td>\n",
       "      <td>1</td>\n",
       "      <td>14.0</td>\n",
       "    </tr>\n",
       "    <tr>\n",
       "      <th>34</th>\n",
       "      <td>(0.7, 0.2, 0.1)</td>\n",
       "      <td>2</td>\n",
       "      <td>77.5</td>\n",
       "    </tr>\n",
       "    <tr>\n",
       "      <th>35</th>\n",
       "      <td>(0.7, 0.2, 0.1)</td>\n",
       "      <td>3</td>\n",
       "      <td>59.0</td>\n",
       "    </tr>\n",
       "    <tr>\n",
       "      <th>36</th>\n",
       "      <td>(0.7, 0.2, 0.1)</td>\n",
       "      <td>4</td>\n",
       "      <td>136.0</td>\n",
       "    </tr>\n",
       "    <tr>\n",
       "      <th>37</th>\n",
       "      <td>(0.7, 0.2, 0.1)</td>\n",
       "      <td>5</td>\n",
       "      <td>162.5</td>\n",
       "    </tr>\n",
       "    <tr>\n",
       "      <th>38</th>\n",
       "      <td>(0.7, 0.2, 0.1)</td>\n",
       "      <td>6</td>\n",
       "      <td>125.5</td>\n",
       "    </tr>\n",
       "    <tr>\n",
       "      <th>39</th>\n",
       "      <td>(0.7, 0.2, 0.1)</td>\n",
       "      <td>7</td>\n",
       "      <td>54.0</td>\n",
       "    </tr>\n",
       "  </tbody>\n",
       "</table>\n",
       "</div>"
      ],
      "text/plain": [
       "        configuration  len_shared_init_coms  shared_init_coms\n",
       "0   (0.35, 0.55, 0.1)                     0               1.0\n",
       "1   (0.35, 0.55, 0.1)                     1              14.0\n",
       "2   (0.35, 0.55, 0.1)                     2              84.0\n",
       "3   (0.35, 0.55, 0.1)                     3             256.5\n",
       "4   (0.35, 0.55, 0.1)                     4             279.0\n",
       "5   (0.35, 0.55, 0.1)                     5             178.0\n",
       "6   (0.35, 0.55, 0.1)                     6             150.0\n",
       "7   (0.35, 0.55, 0.1)                     7              38.0\n",
       "8   (0.46, 0.1, 0.44)                     0               1.0\n",
       "9   (0.46, 0.1, 0.44)                     1              14.0\n",
       "10  (0.46, 0.1, 0.44)                     2              27.5\n",
       "11  (0.46, 0.1, 0.44)                     3             211.0\n",
       "12  (0.46, 0.1, 0.44)                     4             453.0\n",
       "13  (0.46, 0.1, 0.44)                     5             506.0\n",
       "14  (0.46, 0.1, 0.44)                     6             292.5\n",
       "15  (0.46, 0.1, 0.44)                     7              64.0\n",
       "16  (0.55, 0.2, 0.25)                     0               1.0\n",
       "17  (0.55, 0.2, 0.25)                     1              14.0\n",
       "18  (0.55, 0.2, 0.25)                     2              69.5\n",
       "19  (0.55, 0.2, 0.25)                     3             129.5\n",
       "20  (0.55, 0.2, 0.25)                     4             301.5\n",
       "21  (0.55, 0.2, 0.25)                     5             350.0\n",
       "22  (0.55, 0.2, 0.25)                     6             192.0\n",
       "23  (0.55, 0.2, 0.25)                     7              39.0\n",
       "24  (0.55, 0.35, 0.1)                     0               1.0\n",
       "25  (0.55, 0.35, 0.1)                     1              14.0\n",
       "26  (0.55, 0.35, 0.1)                     2              84.0\n",
       "27  (0.55, 0.35, 0.1)                     3             148.5\n",
       "28  (0.55, 0.35, 0.1)                     4             185.5\n",
       "29  (0.55, 0.35, 0.1)                     5             286.0\n",
       "30  (0.55, 0.35, 0.1)                     6             234.0\n",
       "31  (0.55, 0.35, 0.1)                     7              78.0\n",
       "32    (0.7, 0.2, 0.1)                     0               1.0\n",
       "33    (0.7, 0.2, 0.1)                     1              14.0\n",
       "34    (0.7, 0.2, 0.1)                     2              77.5\n",
       "35    (0.7, 0.2, 0.1)                     3              59.0\n",
       "36    (0.7, 0.2, 0.1)                     4             136.0\n",
       "37    (0.7, 0.2, 0.1)                     5             162.5\n",
       "38    (0.7, 0.2, 0.1)                     6             125.5\n",
       "39    (0.7, 0.2, 0.1)                     7              54.0"
      ]
     },
     "execution_count": 61,
     "metadata": {},
     "output_type": "execute_result"
    }
   ],
   "source": [
    "# number of shared init coms per group\n",
    "result_df.groupby([\"configuration\", \"ds\", \"len_shared_init_coms\"])[\"shared_init_coms\"].nunique().reset_index().groupby([\"configuration\", \"len_shared_init_coms\"])[\"shared_init_coms\"].median().reset_index()"
   ]
  },
  {
   "cell_type": "code",
   "execution_count": 62,
   "id": "c92e0beb",
   "metadata": {
    "scrolled": true
   },
   "outputs": [
    {
     "data": {
      "text/html": [
       "<div>\n",
       "<style scoped>\n",
       "    .dataframe tbody tr th:only-of-type {\n",
       "        vertical-align: middle;\n",
       "    }\n",
       "\n",
       "    .dataframe tbody tr th {\n",
       "        vertical-align: top;\n",
       "    }\n",
       "\n",
       "    .dataframe thead th {\n",
       "        text-align: right;\n",
       "    }\n",
       "</style>\n",
       "<table border=\"1\" class=\"dataframe\">\n",
       "  <thead>\n",
       "    <tr style=\"text-align: right;\">\n",
       "      <th></th>\n",
       "      <th>configuration</th>\n",
       "      <th>len_shared_init_coms</th>\n",
       "      <th>init_coms_group_size</th>\n",
       "    </tr>\n",
       "  </thead>\n",
       "  <tbody>\n",
       "    <tr>\n",
       "      <th>0</th>\n",
       "      <td>(0.35, 0.55, 0.1)</td>\n",
       "      <td>0</td>\n",
       "      <td>979.0</td>\n",
       "    </tr>\n",
       "    <tr>\n",
       "      <th>1</th>\n",
       "      <td>(0.35, 0.55, 0.1)</td>\n",
       "      <td>1</td>\n",
       "      <td>258.0</td>\n",
       "    </tr>\n",
       "    <tr>\n",
       "      <th>2</th>\n",
       "      <td>(0.35, 0.55, 0.1)</td>\n",
       "      <td>2</td>\n",
       "      <td>75.0</td>\n",
       "    </tr>\n",
       "    <tr>\n",
       "      <th>3</th>\n",
       "      <td>(0.35, 0.55, 0.1)</td>\n",
       "      <td>3</td>\n",
       "      <td>20.0</td>\n",
       "    </tr>\n",
       "    <tr>\n",
       "      <th>4</th>\n",
       "      <td>(0.35, 0.55, 0.1)</td>\n",
       "      <td>4</td>\n",
       "      <td>9.0</td>\n",
       "    </tr>\n",
       "    <tr>\n",
       "      <th>5</th>\n",
       "      <td>(0.35, 0.55, 0.1)</td>\n",
       "      <td>5</td>\n",
       "      <td>4.0</td>\n",
       "    </tr>\n",
       "    <tr>\n",
       "      <th>6</th>\n",
       "      <td>(0.35, 0.55, 0.1)</td>\n",
       "      <td>6</td>\n",
       "      <td>2.0</td>\n",
       "    </tr>\n",
       "    <tr>\n",
       "      <th>7</th>\n",
       "      <td>(0.35, 0.55, 0.1)</td>\n",
       "      <td>7</td>\n",
       "      <td>1.0</td>\n",
       "    </tr>\n",
       "    <tr>\n",
       "      <th>8</th>\n",
       "      <td>(0.46, 0.1, 0.44)</td>\n",
       "      <td>0</td>\n",
       "      <td>1561.0</td>\n",
       "    </tr>\n",
       "    <tr>\n",
       "      <th>9</th>\n",
       "      <td>(0.46, 0.1, 0.44)</td>\n",
       "      <td>1</td>\n",
       "      <td>517.0</td>\n",
       "    </tr>\n",
       "    <tr>\n",
       "      <th>10</th>\n",
       "      <td>(0.46, 0.1, 0.44)</td>\n",
       "      <td>2</td>\n",
       "      <td>161.0</td>\n",
       "    </tr>\n",
       "    <tr>\n",
       "      <th>11</th>\n",
       "      <td>(0.46, 0.1, 0.44)</td>\n",
       "      <td>3</td>\n",
       "      <td>58.0</td>\n",
       "    </tr>\n",
       "    <tr>\n",
       "      <th>12</th>\n",
       "      <td>(0.46, 0.1, 0.44)</td>\n",
       "      <td>4</td>\n",
       "      <td>20.0</td>\n",
       "    </tr>\n",
       "    <tr>\n",
       "      <th>13</th>\n",
       "      <td>(0.46, 0.1, 0.44)</td>\n",
       "      <td>5</td>\n",
       "      <td>6.0</td>\n",
       "    </tr>\n",
       "    <tr>\n",
       "      <th>14</th>\n",
       "      <td>(0.46, 0.1, 0.44)</td>\n",
       "      <td>6</td>\n",
       "      <td>2.0</td>\n",
       "    </tr>\n",
       "    <tr>\n",
       "      <th>15</th>\n",
       "      <td>(0.46, 0.1, 0.44)</td>\n",
       "      <td>7</td>\n",
       "      <td>1.0</td>\n",
       "    </tr>\n",
       "    <tr>\n",
       "      <th>16</th>\n",
       "      <td>(0.55, 0.2, 0.25)</td>\n",
       "      <td>0</td>\n",
       "      <td>1105.5</td>\n",
       "    </tr>\n",
       "    <tr>\n",
       "      <th>17</th>\n",
       "      <td>(0.55, 0.2, 0.25)</td>\n",
       "      <td>1</td>\n",
       "      <td>346.0</td>\n",
       "    </tr>\n",
       "    <tr>\n",
       "      <th>18</th>\n",
       "      <td>(0.55, 0.2, 0.25)</td>\n",
       "      <td>2</td>\n",
       "      <td>108.0</td>\n",
       "    </tr>\n",
       "    <tr>\n",
       "      <th>19</th>\n",
       "      <td>(0.55, 0.2, 0.25)</td>\n",
       "      <td>3</td>\n",
       "      <td>38.0</td>\n",
       "    </tr>\n",
       "    <tr>\n",
       "      <th>20</th>\n",
       "      <td>(0.55, 0.2, 0.25)</td>\n",
       "      <td>4</td>\n",
       "      <td>12.0</td>\n",
       "    </tr>\n",
       "    <tr>\n",
       "      <th>21</th>\n",
       "      <td>(0.55, 0.2, 0.25)</td>\n",
       "      <td>5</td>\n",
       "      <td>4.0</td>\n",
       "    </tr>\n",
       "    <tr>\n",
       "      <th>22</th>\n",
       "      <td>(0.55, 0.2, 0.25)</td>\n",
       "      <td>6</td>\n",
       "      <td>2.0</td>\n",
       "    </tr>\n",
       "    <tr>\n",
       "      <th>23</th>\n",
       "      <td>(0.55, 0.2, 0.25)</td>\n",
       "      <td>7</td>\n",
       "      <td>1.0</td>\n",
       "    </tr>\n",
       "    <tr>\n",
       "      <th>24</th>\n",
       "      <td>(0.55, 0.35, 0.1)</td>\n",
       "      <td>0</td>\n",
       "      <td>1019.0</td>\n",
       "    </tr>\n",
       "    <tr>\n",
       "      <th>25</th>\n",
       "      <td>(0.55, 0.35, 0.1)</td>\n",
       "      <td>1</td>\n",
       "      <td>344.0</td>\n",
       "    </tr>\n",
       "    <tr>\n",
       "      <th>26</th>\n",
       "      <td>(0.55, 0.35, 0.1)</td>\n",
       "      <td>2</td>\n",
       "      <td>115.0</td>\n",
       "    </tr>\n",
       "    <tr>\n",
       "      <th>27</th>\n",
       "      <td>(0.55, 0.35, 0.1)</td>\n",
       "      <td>3</td>\n",
       "      <td>41.0</td>\n",
       "    </tr>\n",
       "    <tr>\n",
       "      <th>28</th>\n",
       "      <td>(0.55, 0.35, 0.1)</td>\n",
       "      <td>4</td>\n",
       "      <td>18.0</td>\n",
       "    </tr>\n",
       "    <tr>\n",
       "      <th>29</th>\n",
       "      <td>(0.55, 0.35, 0.1)</td>\n",
       "      <td>5</td>\n",
       "      <td>7.0</td>\n",
       "    </tr>\n",
       "    <tr>\n",
       "      <th>30</th>\n",
       "      <td>(0.55, 0.35, 0.1)</td>\n",
       "      <td>6</td>\n",
       "      <td>3.0</td>\n",
       "    </tr>\n",
       "    <tr>\n",
       "      <th>31</th>\n",
       "      <td>(0.55, 0.35, 0.1)</td>\n",
       "      <td>7</td>\n",
       "      <td>1.0</td>\n",
       "    </tr>\n",
       "    <tr>\n",
       "      <th>32</th>\n",
       "      <td>(0.7, 0.2, 0.1)</td>\n",
       "      <td>0</td>\n",
       "      <td>609.5</td>\n",
       "    </tr>\n",
       "    <tr>\n",
       "      <th>33</th>\n",
       "      <td>(0.7, 0.2, 0.1)</td>\n",
       "      <td>1</td>\n",
       "      <td>192.0</td>\n",
       "    </tr>\n",
       "    <tr>\n",
       "      <th>34</th>\n",
       "      <td>(0.7, 0.2, 0.1)</td>\n",
       "      <td>2</td>\n",
       "      <td>65.0</td>\n",
       "    </tr>\n",
       "    <tr>\n",
       "      <th>35</th>\n",
       "      <td>(0.7, 0.2, 0.1)</td>\n",
       "      <td>3</td>\n",
       "      <td>31.0</td>\n",
       "    </tr>\n",
       "    <tr>\n",
       "      <th>36</th>\n",
       "      <td>(0.7, 0.2, 0.1)</td>\n",
       "      <td>4</td>\n",
       "      <td>13.0</td>\n",
       "    </tr>\n",
       "    <tr>\n",
       "      <th>37</th>\n",
       "      <td>(0.7, 0.2, 0.1)</td>\n",
       "      <td>5</td>\n",
       "      <td>6.0</td>\n",
       "    </tr>\n",
       "    <tr>\n",
       "      <th>38</th>\n",
       "      <td>(0.7, 0.2, 0.1)</td>\n",
       "      <td>6</td>\n",
       "      <td>3.0</td>\n",
       "    </tr>\n",
       "    <tr>\n",
       "      <th>39</th>\n",
       "      <td>(0.7, 0.2, 0.1)</td>\n",
       "      <td>7</td>\n",
       "      <td>1.0</td>\n",
       "    </tr>\n",
       "  </tbody>\n",
       "</table>\n",
       "</div>"
      ],
      "text/plain": [
       "        configuration  len_shared_init_coms  init_coms_group_size\n",
       "0   (0.35, 0.55, 0.1)                     0                 979.0\n",
       "1   (0.35, 0.55, 0.1)                     1                 258.0\n",
       "2   (0.35, 0.55, 0.1)                     2                  75.0\n",
       "3   (0.35, 0.55, 0.1)                     3                  20.0\n",
       "4   (0.35, 0.55, 0.1)                     4                   9.0\n",
       "5   (0.35, 0.55, 0.1)                     5                   4.0\n",
       "6   (0.35, 0.55, 0.1)                     6                   2.0\n",
       "7   (0.35, 0.55, 0.1)                     7                   1.0\n",
       "8   (0.46, 0.1, 0.44)                     0                1561.0\n",
       "9   (0.46, 0.1, 0.44)                     1                 517.0\n",
       "10  (0.46, 0.1, 0.44)                     2                 161.0\n",
       "11  (0.46, 0.1, 0.44)                     3                  58.0\n",
       "12  (0.46, 0.1, 0.44)                     4                  20.0\n",
       "13  (0.46, 0.1, 0.44)                     5                   6.0\n",
       "14  (0.46, 0.1, 0.44)                     6                   2.0\n",
       "15  (0.46, 0.1, 0.44)                     7                   1.0\n",
       "16  (0.55, 0.2, 0.25)                     0                1105.5\n",
       "17  (0.55, 0.2, 0.25)                     1                 346.0\n",
       "18  (0.55, 0.2, 0.25)                     2                 108.0\n",
       "19  (0.55, 0.2, 0.25)                     3                  38.0\n",
       "20  (0.55, 0.2, 0.25)                     4                  12.0\n",
       "21  (0.55, 0.2, 0.25)                     5                   4.0\n",
       "22  (0.55, 0.2, 0.25)                     6                   2.0\n",
       "23  (0.55, 0.2, 0.25)                     7                   1.0\n",
       "24  (0.55, 0.35, 0.1)                     0                1019.0\n",
       "25  (0.55, 0.35, 0.1)                     1                 344.0\n",
       "26  (0.55, 0.35, 0.1)                     2                 115.0\n",
       "27  (0.55, 0.35, 0.1)                     3                  41.0\n",
       "28  (0.55, 0.35, 0.1)                     4                  18.0\n",
       "29  (0.55, 0.35, 0.1)                     5                   7.0\n",
       "30  (0.55, 0.35, 0.1)                     6                   3.0\n",
       "31  (0.55, 0.35, 0.1)                     7                   1.0\n",
       "32    (0.7, 0.2, 0.1)                     0                 609.5\n",
       "33    (0.7, 0.2, 0.1)                     1                 192.0\n",
       "34    (0.7, 0.2, 0.1)                     2                  65.0\n",
       "35    (0.7, 0.2, 0.1)                     3                  31.0\n",
       "36    (0.7, 0.2, 0.1)                     4                  13.0\n",
       "37    (0.7, 0.2, 0.1)                     5                   6.0\n",
       "38    (0.7, 0.2, 0.1)                     6                   3.0\n",
       "39    (0.7, 0.2, 0.1)                     7                   1.0"
      ]
     },
     "execution_count": 62,
     "metadata": {},
     "output_type": "execute_result"
    }
   ],
   "source": [
    "# number of groups\n",
    "result_df.groupby([\"configuration\", \"len_shared_init_coms\"])[[\"init_coms_group_size\"]].median().reset_index()"
   ]
  },
  {
   "cell_type": "code",
   "execution_count": 63,
   "id": "f8f06db1",
   "metadata": {},
   "outputs": [],
   "source": [
    "# save dataframe\n",
    "data_dir = path.join(getcwd(), \"data\")\n",
    "file_name=\"preprocessed_data_anything_goes_all_configs_incl_triv.csv\"\n",
    "\n",
    "# write results to a .csv.file\n",
    "result_df.to_csv(path.join(data_dir, file_name), index=False)\n",
    "\n",
    "# add to a tar file\n",
    "tar_file = path.join(data_dir, file_name + '.tar.gz')\n",
    "with tarfile.open(tar_file, \"w:gz\") as tar:\n",
    "    tar.add(path.join(data_dir, file_name), recursive=False, arcname=file_name)"
   ]
  },
  {
   "cell_type": "code",
   "execution_count": 46,
   "id": "d74759ad",
   "metadata": {},
   "outputs": [
    {
     "name": "stdout",
     "output_type": "stream",
     "text": [
      "Index(['configuration', 'ds', 'shared_init_coms', 'len_shared_init_coms',\n",
      "       'anything_goes', 'n_unique_sentences', 'n_fp', 'n_conflicts',\n",
      "       'init_coms_group_size'],\n",
      "      dtype='object')\n"
     ]
    },
    {
     "data": {
      "text/plain": [
       "(147062, 9)"
      ]
     },
     "execution_count": 46,
     "metadata": {},
     "output_type": "execute_result"
    }
   ],
   "source": [
    "#load data frame\n",
    "\n",
    "data_file_name = 'preprocessed_data_anything_goes_all_configs.csv.tar.gz'\n",
    "\n",
    "if data_file_name[data_file_name.find('.'):len(data_file_name)] == '.csv.tar.gz':\n",
    "    with tarfile.open(path.join(data_dir,data_file_name)) as tar:\n",
    "        for tarinfo in tar:\n",
    "            file_name = tarinfo.name\n",
    "        tar.extractall(data_dir)\n",
    "    result_df = pd.read_csv(path.join(data_dir, file_name))\n",
    "\n",
    "else:\n",
    "    result_df = pd.read_csv(path.join(data_dir,data_file_name))\n",
    "\n",
    "print(result_df.columns)\n",
    "result_df.shape"
   ]
  },
  {
   "cell_type": "code",
   "execution_count": 47,
   "id": "8c1aaa1a",
   "metadata": {},
   "outputs": [],
   "source": [
    "literal_eval_cols(result_df, [\"configuration\"])"
   ]
  },
  {
   "cell_type": "code",
   "execution_count": 44,
   "id": "62fea21b",
   "metadata": {},
   "outputs": [],
   "source": [
    "n_df = pd.DataFrame(columns=[\"configuration\", \"ds\", \"ep_type\", \"0\", \"1\", \"2\", \"3\", \"4\", \"5\", \"6\", \"7\"])"
   ]
  },
  {
   "cell_type": "code",
   "execution_count": 49,
   "id": "475bcb52",
   "metadata": {},
   "outputs": [],
   "source": [
    "configuration = (0.35, 0.55, 0.1)\n",
    "                 \n",
    "fp_row = dict()\n",
    "fp_row[\"configuration\"] = configuration\n",
    "fp_row[\"ep_type\"] = \"fp\"\n",
    "\n",
    "# restrict to configuration\n",
    "df = result_df[result_df[\"configuration\"]==configuration]\n",
    "                 \n",
    "# branch off second df for ticktexts with group sizes\n",
    "dff = df.groupby([\"len_shared_init_coms\"])[\"shared_init_coms\"].nunique().reset_index()\n",
    "dff[\"group_size\"] = [2186, 729, 243, 81, 27, 9, 3, 1]\n",
    "                 \n",
    "ticktexts = [\"{}<br>({}, {})\".format(row[1][\"len_shared_init_coms\"], row[1][\"shared_init_coms\"], row[1][\"group_size\"]) for row in dff.iterrows()]\n",
    "\n",
    "                 \n",
    "for ds in result_df[\"ds\"].unique():\n",
    "                 \n",
    "    fp_row[\"ds\"] = ds  \n",
    "                 \n",
    "    # restrict to dialectical structure\n",
    "    sub_df = df[df[\"ds\"]==ds]\n",
    "                 \n",
    "    sub_df = sub_df.groupby([\"len_shared_init_coms\"])[[\"n_unique_sentences\"]].median()\n",
    "    sub_df = sub_df.reset_index(level=0)\n",
    "                 \n",
    "    sub_df = sub_df[[\"len_shared_init_coms\", \"n_unique_sentences\"]].astype(float).round(decimals=2).reset_index()\n",
    "    \n",
    "    for i in range(8):\n",
    "        fp_row[str(i)] = sub_df[sub_df[\"len_shared_init_coms\"]==i][\"\"].unique()\n",
    "                 \n",
    "    n_df = n_df.append(fp_row, ignore_index=True)\n"
   ]
  },
  {
   "cell_type": "code",
   "execution_count": 50,
   "id": "019709aa",
   "metadata": {},
   "outputs": [
    {
     "data": {
      "text/html": [
       "<div>\n",
       "<style scoped>\n",
       "    .dataframe tbody tr th:only-of-type {\n",
       "        vertical-align: middle;\n",
       "    }\n",
       "\n",
       "    .dataframe tbody tr th {\n",
       "        vertical-align: top;\n",
       "    }\n",
       "\n",
       "    .dataframe thead th {\n",
       "        text-align: right;\n",
       "    }\n",
       "</style>\n",
       "<table border=\"1\" class=\"dataframe\">\n",
       "  <thead>\n",
       "    <tr style=\"text-align: right;\">\n",
       "      <th></th>\n",
       "      <th>configuration</th>\n",
       "      <th>0</th>\n",
       "      <th>1</th>\n",
       "      <th>2</th>\n",
       "      <th>3</th>\n",
       "      <th>4</th>\n",
       "      <th>5</th>\n",
       "      <th>6</th>\n",
       "      <th>7</th>\n",
       "    </tr>\n",
       "  </thead>\n",
       "  <tbody>\n",
       "    <tr>\n",
       "      <th>0</th>\n",
       "      <td>(0.35, 0.55, 0.1)</td>\n",
       "      <td>12.542857</td>\n",
       "      <td>[]</td>\n",
       "      <td>[]</td>\n",
       "      <td>[]</td>\n",
       "      <td>[]</td>\n",
       "      <td>[]</td>\n",
       "      <td>[]</td>\n",
       "      <td>[]</td>\n",
       "    </tr>\n",
       "  </tbody>\n",
       "</table>\n",
       "</div>"
      ],
      "text/plain": [
       "       configuration          0   1   2   3   4   5   6   7\n",
       "0  (0.35, 0.55, 0.1)  12.542857  []  []  []  []  []  []  []"
      ]
     },
     "execution_count": 50,
     "metadata": {},
     "output_type": "execute_result"
    }
   ],
   "source": [
    "n_df.groupby(\"configuration\")[[\"0\", \"1\", \"2\", \"3\", \"4\", \"5\", \"6\", \"7\"]].mean().reset_index()"
   ]
  },
  {
   "cell_type": "code",
   "execution_count": 120,
   "id": "92d9eca4",
   "metadata": {
    "scrolled": false
   },
   "outputs": [
    {
     "name": "stdout",
     "output_type": "stream",
     "text": [
      "(0.35, 0.55, 0.1)\n"
     ]
    },
    {
     "data": {
      "application/vnd.plotly.v1+json": {
       "config": {
        "plotlyServerURL": "https://plot.ly"
       },
       "data": [
        {
         "alignmentgroup": "True",
         "hovertemplate": "len_shared_init_coms=%{x}<br>anything_goes=%{y}<extra></extra>",
         "legendgroup": "",
         "marker": {
          "color": "#29ae80",
          "pattern": {
           "shape": ""
          }
         },
         "name": "Groups of non-trivial full RE fixed points covering the entire sentence pool",
         "offsetgroup": "",
         "orientation": "v",
         "showlegend": true,
         "textposition": "auto",
         "texttemplate": "%{y}",
         "type": "bar",
         "x": [
          0,
          1,
          2,
          3,
          4,
          5,
          6,
          7
         ],
         "xaxis": "x",
         "y": [
          0.47,
          0.45,
          0.35,
          0.11,
          0.02,
          0,
          0,
          0
         ],
         "yaxis": "y"
        }
       ],
       "layout": {
        "barmode": "group",
        "legend": {
         "orientation": "h",
         "title": {
          "text": ""
         },
         "tracegroupgap": 0,
         "x": -0.005,
         "xanchor": "left",
         "y": 1.02,
         "yanchor": "bottom"
        },
        "margin": {
         "b": 110,
         "t": 60
        },
        "template": {
         "data": {
          "bar": [
           {
            "error_x": {
             "color": "#2a3f5f"
            },
            "error_y": {
             "color": "#2a3f5f"
            },
            "marker": {
             "line": {
              "color": "white",
              "width": 0.5
             },
             "pattern": {
              "fillmode": "overlay",
              "size": 10,
              "solidity": 0.2
             }
            },
            "type": "bar"
           }
          ],
          "barpolar": [
           {
            "marker": {
             "line": {
              "color": "white",
              "width": 0.5
             },
             "pattern": {
              "fillmode": "overlay",
              "size": 10,
              "solidity": 0.2
             }
            },
            "type": "barpolar"
           }
          ],
          "carpet": [
           {
            "aaxis": {
             "endlinecolor": "#2a3f5f",
             "gridcolor": "#C8D4E3",
             "linecolor": "#C8D4E3",
             "minorgridcolor": "#C8D4E3",
             "startlinecolor": "#2a3f5f"
            },
            "baxis": {
             "endlinecolor": "#2a3f5f",
             "gridcolor": "#C8D4E3",
             "linecolor": "#C8D4E3",
             "minorgridcolor": "#C8D4E3",
             "startlinecolor": "#2a3f5f"
            },
            "type": "carpet"
           }
          ],
          "choropleth": [
           {
            "colorbar": {
             "outlinewidth": 0,
             "ticks": ""
            },
            "type": "choropleth"
           }
          ],
          "contour": [
           {
            "colorbar": {
             "outlinewidth": 0,
             "ticks": ""
            },
            "colorscale": [
             [
              0,
              "#0d0887"
             ],
             [
              0.1111111111111111,
              "#46039f"
             ],
             [
              0.2222222222222222,
              "#7201a8"
             ],
             [
              0.3333333333333333,
              "#9c179e"
             ],
             [
              0.4444444444444444,
              "#bd3786"
             ],
             [
              0.5555555555555556,
              "#d8576b"
             ],
             [
              0.6666666666666666,
              "#ed7953"
             ],
             [
              0.7777777777777778,
              "#fb9f3a"
             ],
             [
              0.8888888888888888,
              "#fdca26"
             ],
             [
              1,
              "#f0f921"
             ]
            ],
            "type": "contour"
           }
          ],
          "contourcarpet": [
           {
            "colorbar": {
             "outlinewidth": 0,
             "ticks": ""
            },
            "type": "contourcarpet"
           }
          ],
          "heatmap": [
           {
            "colorbar": {
             "outlinewidth": 0,
             "ticks": ""
            },
            "colorscale": [
             [
              0,
              "#0d0887"
             ],
             [
              0.1111111111111111,
              "#46039f"
             ],
             [
              0.2222222222222222,
              "#7201a8"
             ],
             [
              0.3333333333333333,
              "#9c179e"
             ],
             [
              0.4444444444444444,
              "#bd3786"
             ],
             [
              0.5555555555555556,
              "#d8576b"
             ],
             [
              0.6666666666666666,
              "#ed7953"
             ],
             [
              0.7777777777777778,
              "#fb9f3a"
             ],
             [
              0.8888888888888888,
              "#fdca26"
             ],
             [
              1,
              "#f0f921"
             ]
            ],
            "type": "heatmap"
           }
          ],
          "heatmapgl": [
           {
            "colorbar": {
             "outlinewidth": 0,
             "ticks": ""
            },
            "colorscale": [
             [
              0,
              "#0d0887"
             ],
             [
              0.1111111111111111,
              "#46039f"
             ],
             [
              0.2222222222222222,
              "#7201a8"
             ],
             [
              0.3333333333333333,
              "#9c179e"
             ],
             [
              0.4444444444444444,
              "#bd3786"
             ],
             [
              0.5555555555555556,
              "#d8576b"
             ],
             [
              0.6666666666666666,
              "#ed7953"
             ],
             [
              0.7777777777777778,
              "#fb9f3a"
             ],
             [
              0.8888888888888888,
              "#fdca26"
             ],
             [
              1,
              "#f0f921"
             ]
            ],
            "type": "heatmapgl"
           }
          ],
          "histogram": [
           {
            "marker": {
             "pattern": {
              "fillmode": "overlay",
              "size": 10,
              "solidity": 0.2
             }
            },
            "type": "histogram"
           }
          ],
          "histogram2d": [
           {
            "colorbar": {
             "outlinewidth": 0,
             "ticks": ""
            },
            "colorscale": [
             [
              0,
              "#0d0887"
             ],
             [
              0.1111111111111111,
              "#46039f"
             ],
             [
              0.2222222222222222,
              "#7201a8"
             ],
             [
              0.3333333333333333,
              "#9c179e"
             ],
             [
              0.4444444444444444,
              "#bd3786"
             ],
             [
              0.5555555555555556,
              "#d8576b"
             ],
             [
              0.6666666666666666,
              "#ed7953"
             ],
             [
              0.7777777777777778,
              "#fb9f3a"
             ],
             [
              0.8888888888888888,
              "#fdca26"
             ],
             [
              1,
              "#f0f921"
             ]
            ],
            "type": "histogram2d"
           }
          ],
          "histogram2dcontour": [
           {
            "colorbar": {
             "outlinewidth": 0,
             "ticks": ""
            },
            "colorscale": [
             [
              0,
              "#0d0887"
             ],
             [
              0.1111111111111111,
              "#46039f"
             ],
             [
              0.2222222222222222,
              "#7201a8"
             ],
             [
              0.3333333333333333,
              "#9c179e"
             ],
             [
              0.4444444444444444,
              "#bd3786"
             ],
             [
              0.5555555555555556,
              "#d8576b"
             ],
             [
              0.6666666666666666,
              "#ed7953"
             ],
             [
              0.7777777777777778,
              "#fb9f3a"
             ],
             [
              0.8888888888888888,
              "#fdca26"
             ],
             [
              1,
              "#f0f921"
             ]
            ],
            "type": "histogram2dcontour"
           }
          ],
          "mesh3d": [
           {
            "colorbar": {
             "outlinewidth": 0,
             "ticks": ""
            },
            "type": "mesh3d"
           }
          ],
          "parcoords": [
           {
            "line": {
             "colorbar": {
              "outlinewidth": 0,
              "ticks": ""
             }
            },
            "type": "parcoords"
           }
          ],
          "pie": [
           {
            "automargin": true,
            "type": "pie"
           }
          ],
          "scatter": [
           {
            "fillpattern": {
             "fillmode": "overlay",
             "size": 10,
             "solidity": 0.2
            },
            "type": "scatter"
           }
          ],
          "scatter3d": [
           {
            "line": {
             "colorbar": {
              "outlinewidth": 0,
              "ticks": ""
             }
            },
            "marker": {
             "colorbar": {
              "outlinewidth": 0,
              "ticks": ""
             }
            },
            "type": "scatter3d"
           }
          ],
          "scattercarpet": [
           {
            "marker": {
             "colorbar": {
              "outlinewidth": 0,
              "ticks": ""
             }
            },
            "type": "scattercarpet"
           }
          ],
          "scattergeo": [
           {
            "marker": {
             "colorbar": {
              "outlinewidth": 0,
              "ticks": ""
             }
            },
            "type": "scattergeo"
           }
          ],
          "scattergl": [
           {
            "marker": {
             "colorbar": {
              "outlinewidth": 0,
              "ticks": ""
             }
            },
            "type": "scattergl"
           }
          ],
          "scattermapbox": [
           {
            "marker": {
             "colorbar": {
              "outlinewidth": 0,
              "ticks": ""
             }
            },
            "type": "scattermapbox"
           }
          ],
          "scatterpolar": [
           {
            "marker": {
             "colorbar": {
              "outlinewidth": 0,
              "ticks": ""
             }
            },
            "type": "scatterpolar"
           }
          ],
          "scatterpolargl": [
           {
            "marker": {
             "colorbar": {
              "outlinewidth": 0,
              "ticks": ""
             }
            },
            "type": "scatterpolargl"
           }
          ],
          "scatterternary": [
           {
            "marker": {
             "colorbar": {
              "outlinewidth": 0,
              "ticks": ""
             }
            },
            "type": "scatterternary"
           }
          ],
          "surface": [
           {
            "colorbar": {
             "outlinewidth": 0,
             "ticks": ""
            },
            "colorscale": [
             [
              0,
              "#0d0887"
             ],
             [
              0.1111111111111111,
              "#46039f"
             ],
             [
              0.2222222222222222,
              "#7201a8"
             ],
             [
              0.3333333333333333,
              "#9c179e"
             ],
             [
              0.4444444444444444,
              "#bd3786"
             ],
             [
              0.5555555555555556,
              "#d8576b"
             ],
             [
              0.6666666666666666,
              "#ed7953"
             ],
             [
              0.7777777777777778,
              "#fb9f3a"
             ],
             [
              0.8888888888888888,
              "#fdca26"
             ],
             [
              1,
              "#f0f921"
             ]
            ],
            "type": "surface"
           }
          ],
          "table": [
           {
            "cells": {
             "fill": {
              "color": "#EBF0F8"
             },
             "line": {
              "color": "white"
             }
            },
            "header": {
             "fill": {
              "color": "#C8D4E3"
             },
             "line": {
              "color": "white"
             }
            },
            "type": "table"
           }
          ]
         },
         "layout": {
          "annotationdefaults": {
           "arrowcolor": "#2a3f5f",
           "arrowhead": 0,
           "arrowwidth": 1
          },
          "autotypenumbers": "strict",
          "coloraxis": {
           "colorbar": {
            "outlinewidth": 0,
            "ticks": ""
           }
          },
          "colorscale": {
           "diverging": [
            [
             0,
             "#8e0152"
            ],
            [
             0.1,
             "#c51b7d"
            ],
            [
             0.2,
             "#de77ae"
            ],
            [
             0.3,
             "#f1b6da"
            ],
            [
             0.4,
             "#fde0ef"
            ],
            [
             0.5,
             "#f7f7f7"
            ],
            [
             0.6,
             "#e6f5d0"
            ],
            [
             0.7,
             "#b8e186"
            ],
            [
             0.8,
             "#7fbc41"
            ],
            [
             0.9,
             "#4d9221"
            ],
            [
             1,
             "#276419"
            ]
           ],
           "sequential": [
            [
             0,
             "#0d0887"
            ],
            [
             0.1111111111111111,
             "#46039f"
            ],
            [
             0.2222222222222222,
             "#7201a8"
            ],
            [
             0.3333333333333333,
             "#9c179e"
            ],
            [
             0.4444444444444444,
             "#bd3786"
            ],
            [
             0.5555555555555556,
             "#d8576b"
            ],
            [
             0.6666666666666666,
             "#ed7953"
            ],
            [
             0.7777777777777778,
             "#fb9f3a"
            ],
            [
             0.8888888888888888,
             "#fdca26"
            ],
            [
             1,
             "#f0f921"
            ]
           ],
           "sequentialminus": [
            [
             0,
             "#0d0887"
            ],
            [
             0.1111111111111111,
             "#46039f"
            ],
            [
             0.2222222222222222,
             "#7201a8"
            ],
            [
             0.3333333333333333,
             "#9c179e"
            ],
            [
             0.4444444444444444,
             "#bd3786"
            ],
            [
             0.5555555555555556,
             "#d8576b"
            ],
            [
             0.6666666666666666,
             "#ed7953"
            ],
            [
             0.7777777777777778,
             "#fb9f3a"
            ],
            [
             0.8888888888888888,
             "#fdca26"
            ],
            [
             1,
             "#f0f921"
            ]
           ]
          },
          "colorway": [
           "#636efa",
           "#EF553B",
           "#00cc96",
           "#ab63fa",
           "#FFA15A",
           "#19d3f3",
           "#FF6692",
           "#B6E880",
           "#FF97FF",
           "#FECB52"
          ],
          "font": {
           "color": "#2a3f5f"
          },
          "geo": {
           "bgcolor": "white",
           "lakecolor": "white",
           "landcolor": "white",
           "showlakes": true,
           "showland": true,
           "subunitcolor": "#C8D4E3"
          },
          "hoverlabel": {
           "align": "left"
          },
          "hovermode": "closest",
          "mapbox": {
           "style": "light"
          },
          "paper_bgcolor": "white",
          "plot_bgcolor": "white",
          "polar": {
           "angularaxis": {
            "gridcolor": "#EBF0F8",
            "linecolor": "#EBF0F8",
            "ticks": ""
           },
           "bgcolor": "white",
           "radialaxis": {
            "gridcolor": "#EBF0F8",
            "linecolor": "#EBF0F8",
            "ticks": ""
           }
          },
          "scene": {
           "xaxis": {
            "backgroundcolor": "white",
            "gridcolor": "#DFE8F3",
            "gridwidth": 2,
            "linecolor": "#EBF0F8",
            "showbackground": true,
            "ticks": "",
            "zerolinecolor": "#EBF0F8"
           },
           "yaxis": {
            "backgroundcolor": "white",
            "gridcolor": "#DFE8F3",
            "gridwidth": 2,
            "linecolor": "#EBF0F8",
            "showbackground": true,
            "ticks": "",
            "zerolinecolor": "#EBF0F8"
           },
           "zaxis": {
            "backgroundcolor": "white",
            "gridcolor": "#DFE8F3",
            "gridwidth": 2,
            "linecolor": "#EBF0F8",
            "showbackground": true,
            "ticks": "",
            "zerolinecolor": "#EBF0F8"
           }
          },
          "shapedefaults": {
           "line": {
            "color": "#2a3f5f"
           }
          },
          "ternary": {
           "aaxis": {
            "gridcolor": "#DFE8F3",
            "linecolor": "#A2B1C6",
            "ticks": ""
           },
           "baxis": {
            "gridcolor": "#DFE8F3",
            "linecolor": "#A2B1C6",
            "ticks": ""
           },
           "bgcolor": "white",
           "caxis": {
            "gridcolor": "#DFE8F3",
            "linecolor": "#A2B1C6",
            "ticks": ""
           }
          },
          "title": {
           "x": 0.05
          },
          "xaxis": {
           "automargin": true,
           "gridcolor": "#EBF0F8",
           "linecolor": "#EBF0F8",
           "ticks": "",
           "title": {
            "standoff": 15
           },
           "zerolinecolor": "#EBF0F8",
           "zerolinewidth": 2
          },
          "yaxis": {
           "automargin": true,
           "gridcolor": "#EBF0F8",
           "linecolor": "#EBF0F8",
           "ticks": "",
           "title": {
            "standoff": 15
           },
           "zerolinecolor": "#EBF0F8",
           "zerolinewidth": 2
          }
         }
        },
        "xaxis": {
         "anchor": "y",
         "domain": [
          0,
          1
         ],
         "showticklabels": true,
         "ticktext": [
          "0<br><span style='color:DarkGray'>(1, 807)<span>",
          "1<br><span style='color:DarkGray'>(6, 272)<span>",
          "2<br><span style='color:DarkGray'>(29, 101)<span>",
          "3<br><span style='color:DarkGray'>(149, 28)<span>",
          "4<br><span style='color:DarkGray'>(279, 9)<span>",
          "5<br><span style='color:DarkGray'>(178, 4)<span>",
          "6<br><span style='color:DarkGray'>(150, 2)<span>",
          "7<br><span style='color:DarkGray'>(39, 1)<span>"
         ],
         "tickvals": [
          0,
          1,
          2,
          3,
          4,
          5,
          6,
          7
         ],
         "title": {
          "text": "Length of shared initial commitments<br><span style='color:DarkGray'>(Number of groups, Group size)<span>"
         }
        },
        "yaxis": {
         "anchor": "x",
         "domain": [
          0,
          1
         ],
         "range": [
          0,
          1.05
         ],
         "showticklabels": true,
         "title": {
          "text": "Mean relative share"
         }
        }
       }
      },
      "text/html": [
       "<div>                            <div id=\"6f141e02-c5cc-4d14-abc9-3c32279b4e1e\" class=\"plotly-graph-div\" style=\"height:525px; width:100%;\"></div>            <script type=\"text/javascript\">                require([\"plotly\"], function(Plotly) {                    window.PLOTLYENV=window.PLOTLYENV || {};                                    if (document.getElementById(\"6f141e02-c5cc-4d14-abc9-3c32279b4e1e\")) {                    Plotly.newPlot(                        \"6f141e02-c5cc-4d14-abc9-3c32279b4e1e\",                        [{\"alignmentgroup\":\"True\",\"hovertemplate\":\"len_shared_init_coms=%{x}<br>anything_goes=%{y}<extra></extra>\",\"legendgroup\":\"\",\"marker\":{\"color\":\"#29ae80\",\"pattern\":{\"shape\":\"\"}},\"name\":\"Groups of non-trivial full RE fixed points covering the entire sentence pool\",\"offsetgroup\":\"\",\"orientation\":\"v\",\"showlegend\":true,\"textposition\":\"auto\",\"texttemplate\":\"%{y}\",\"x\":[0,1,2,3,4,5,6,7],\"xaxis\":\"x\",\"y\":[0.47,0.45,0.35,0.11,0.02,0.0,0.0,0.0],\"yaxis\":\"y\",\"type\":\"bar\"}],                        {\"template\":{\"data\":{\"barpolar\":[{\"marker\":{\"line\":{\"color\":\"white\",\"width\":0.5},\"pattern\":{\"fillmode\":\"overlay\",\"size\":10,\"solidity\":0.2}},\"type\":\"barpolar\"}],\"bar\":[{\"error_x\":{\"color\":\"#2a3f5f\"},\"error_y\":{\"color\":\"#2a3f5f\"},\"marker\":{\"line\":{\"color\":\"white\",\"width\":0.5},\"pattern\":{\"fillmode\":\"overlay\",\"size\":10,\"solidity\":0.2}},\"type\":\"bar\"}],\"carpet\":[{\"aaxis\":{\"endlinecolor\":\"#2a3f5f\",\"gridcolor\":\"#C8D4E3\",\"linecolor\":\"#C8D4E3\",\"minorgridcolor\":\"#C8D4E3\",\"startlinecolor\":\"#2a3f5f\"},\"baxis\":{\"endlinecolor\":\"#2a3f5f\",\"gridcolor\":\"#C8D4E3\",\"linecolor\":\"#C8D4E3\",\"minorgridcolor\":\"#C8D4E3\",\"startlinecolor\":\"#2a3f5f\"},\"type\":\"carpet\"}],\"choropleth\":[{\"colorbar\":{\"outlinewidth\":0,\"ticks\":\"\"},\"type\":\"choropleth\"}],\"contourcarpet\":[{\"colorbar\":{\"outlinewidth\":0,\"ticks\":\"\"},\"type\":\"contourcarpet\"}],\"contour\":[{\"colorbar\":{\"outlinewidth\":0,\"ticks\":\"\"},\"colorscale\":[[0.0,\"#0d0887\"],[0.1111111111111111,\"#46039f\"],[0.2222222222222222,\"#7201a8\"],[0.3333333333333333,\"#9c179e\"],[0.4444444444444444,\"#bd3786\"],[0.5555555555555556,\"#d8576b\"],[0.6666666666666666,\"#ed7953\"],[0.7777777777777778,\"#fb9f3a\"],[0.8888888888888888,\"#fdca26\"],[1.0,\"#f0f921\"]],\"type\":\"contour\"}],\"heatmapgl\":[{\"colorbar\":{\"outlinewidth\":0,\"ticks\":\"\"},\"colorscale\":[[0.0,\"#0d0887\"],[0.1111111111111111,\"#46039f\"],[0.2222222222222222,\"#7201a8\"],[0.3333333333333333,\"#9c179e\"],[0.4444444444444444,\"#bd3786\"],[0.5555555555555556,\"#d8576b\"],[0.6666666666666666,\"#ed7953\"],[0.7777777777777778,\"#fb9f3a\"],[0.8888888888888888,\"#fdca26\"],[1.0,\"#f0f921\"]],\"type\":\"heatmapgl\"}],\"heatmap\":[{\"colorbar\":{\"outlinewidth\":0,\"ticks\":\"\"},\"colorscale\":[[0.0,\"#0d0887\"],[0.1111111111111111,\"#46039f\"],[0.2222222222222222,\"#7201a8\"],[0.3333333333333333,\"#9c179e\"],[0.4444444444444444,\"#bd3786\"],[0.5555555555555556,\"#d8576b\"],[0.6666666666666666,\"#ed7953\"],[0.7777777777777778,\"#fb9f3a\"],[0.8888888888888888,\"#fdca26\"],[1.0,\"#f0f921\"]],\"type\":\"heatmap\"}],\"histogram2dcontour\":[{\"colorbar\":{\"outlinewidth\":0,\"ticks\":\"\"},\"colorscale\":[[0.0,\"#0d0887\"],[0.1111111111111111,\"#46039f\"],[0.2222222222222222,\"#7201a8\"],[0.3333333333333333,\"#9c179e\"],[0.4444444444444444,\"#bd3786\"],[0.5555555555555556,\"#d8576b\"],[0.6666666666666666,\"#ed7953\"],[0.7777777777777778,\"#fb9f3a\"],[0.8888888888888888,\"#fdca26\"],[1.0,\"#f0f921\"]],\"type\":\"histogram2dcontour\"}],\"histogram2d\":[{\"colorbar\":{\"outlinewidth\":0,\"ticks\":\"\"},\"colorscale\":[[0.0,\"#0d0887\"],[0.1111111111111111,\"#46039f\"],[0.2222222222222222,\"#7201a8\"],[0.3333333333333333,\"#9c179e\"],[0.4444444444444444,\"#bd3786\"],[0.5555555555555556,\"#d8576b\"],[0.6666666666666666,\"#ed7953\"],[0.7777777777777778,\"#fb9f3a\"],[0.8888888888888888,\"#fdca26\"],[1.0,\"#f0f921\"]],\"type\":\"histogram2d\"}],\"histogram\":[{\"marker\":{\"pattern\":{\"fillmode\":\"overlay\",\"size\":10,\"solidity\":0.2}},\"type\":\"histogram\"}],\"mesh3d\":[{\"colorbar\":{\"outlinewidth\":0,\"ticks\":\"\"},\"type\":\"mesh3d\"}],\"parcoords\":[{\"line\":{\"colorbar\":{\"outlinewidth\":0,\"ticks\":\"\"}},\"type\":\"parcoords\"}],\"pie\":[{\"automargin\":true,\"type\":\"pie\"}],\"scatter3d\":[{\"line\":{\"colorbar\":{\"outlinewidth\":0,\"ticks\":\"\"}},\"marker\":{\"colorbar\":{\"outlinewidth\":0,\"ticks\":\"\"}},\"type\":\"scatter3d\"}],\"scattercarpet\":[{\"marker\":{\"colorbar\":{\"outlinewidth\":0,\"ticks\":\"\"}},\"type\":\"scattercarpet\"}],\"scattergeo\":[{\"marker\":{\"colorbar\":{\"outlinewidth\":0,\"ticks\":\"\"}},\"type\":\"scattergeo\"}],\"scattergl\":[{\"marker\":{\"colorbar\":{\"outlinewidth\":0,\"ticks\":\"\"}},\"type\":\"scattergl\"}],\"scattermapbox\":[{\"marker\":{\"colorbar\":{\"outlinewidth\":0,\"ticks\":\"\"}},\"type\":\"scattermapbox\"}],\"scatterpolargl\":[{\"marker\":{\"colorbar\":{\"outlinewidth\":0,\"ticks\":\"\"}},\"type\":\"scatterpolargl\"}],\"scatterpolar\":[{\"marker\":{\"colorbar\":{\"outlinewidth\":0,\"ticks\":\"\"}},\"type\":\"scatterpolar\"}],\"scatter\":[{\"fillpattern\":{\"fillmode\":\"overlay\",\"size\":10,\"solidity\":0.2},\"type\":\"scatter\"}],\"scatterternary\":[{\"marker\":{\"colorbar\":{\"outlinewidth\":0,\"ticks\":\"\"}},\"type\":\"scatterternary\"}],\"surface\":[{\"colorbar\":{\"outlinewidth\":0,\"ticks\":\"\"},\"colorscale\":[[0.0,\"#0d0887\"],[0.1111111111111111,\"#46039f\"],[0.2222222222222222,\"#7201a8\"],[0.3333333333333333,\"#9c179e\"],[0.4444444444444444,\"#bd3786\"],[0.5555555555555556,\"#d8576b\"],[0.6666666666666666,\"#ed7953\"],[0.7777777777777778,\"#fb9f3a\"],[0.8888888888888888,\"#fdca26\"],[1.0,\"#f0f921\"]],\"type\":\"surface\"}],\"table\":[{\"cells\":{\"fill\":{\"color\":\"#EBF0F8\"},\"line\":{\"color\":\"white\"}},\"header\":{\"fill\":{\"color\":\"#C8D4E3\"},\"line\":{\"color\":\"white\"}},\"type\":\"table\"}]},\"layout\":{\"annotationdefaults\":{\"arrowcolor\":\"#2a3f5f\",\"arrowhead\":0,\"arrowwidth\":1},\"autotypenumbers\":\"strict\",\"coloraxis\":{\"colorbar\":{\"outlinewidth\":0,\"ticks\":\"\"}},\"colorscale\":{\"diverging\":[[0,\"#8e0152\"],[0.1,\"#c51b7d\"],[0.2,\"#de77ae\"],[0.3,\"#f1b6da\"],[0.4,\"#fde0ef\"],[0.5,\"#f7f7f7\"],[0.6,\"#e6f5d0\"],[0.7,\"#b8e186\"],[0.8,\"#7fbc41\"],[0.9,\"#4d9221\"],[1,\"#276419\"]],\"sequential\":[[0.0,\"#0d0887\"],[0.1111111111111111,\"#46039f\"],[0.2222222222222222,\"#7201a8\"],[0.3333333333333333,\"#9c179e\"],[0.4444444444444444,\"#bd3786\"],[0.5555555555555556,\"#d8576b\"],[0.6666666666666666,\"#ed7953\"],[0.7777777777777778,\"#fb9f3a\"],[0.8888888888888888,\"#fdca26\"],[1.0,\"#f0f921\"]],\"sequentialminus\":[[0.0,\"#0d0887\"],[0.1111111111111111,\"#46039f\"],[0.2222222222222222,\"#7201a8\"],[0.3333333333333333,\"#9c179e\"],[0.4444444444444444,\"#bd3786\"],[0.5555555555555556,\"#d8576b\"],[0.6666666666666666,\"#ed7953\"],[0.7777777777777778,\"#fb9f3a\"],[0.8888888888888888,\"#fdca26\"],[1.0,\"#f0f921\"]]},\"colorway\":[\"#636efa\",\"#EF553B\",\"#00cc96\",\"#ab63fa\",\"#FFA15A\",\"#19d3f3\",\"#FF6692\",\"#B6E880\",\"#FF97FF\",\"#FECB52\"],\"font\":{\"color\":\"#2a3f5f\"},\"geo\":{\"bgcolor\":\"white\",\"lakecolor\":\"white\",\"landcolor\":\"white\",\"showlakes\":true,\"showland\":true,\"subunitcolor\":\"#C8D4E3\"},\"hoverlabel\":{\"align\":\"left\"},\"hovermode\":\"closest\",\"mapbox\":{\"style\":\"light\"},\"paper_bgcolor\":\"white\",\"plot_bgcolor\":\"white\",\"polar\":{\"angularaxis\":{\"gridcolor\":\"#EBF0F8\",\"linecolor\":\"#EBF0F8\",\"ticks\":\"\"},\"bgcolor\":\"white\",\"radialaxis\":{\"gridcolor\":\"#EBF0F8\",\"linecolor\":\"#EBF0F8\",\"ticks\":\"\"}},\"scene\":{\"xaxis\":{\"backgroundcolor\":\"white\",\"gridcolor\":\"#DFE8F3\",\"gridwidth\":2,\"linecolor\":\"#EBF0F8\",\"showbackground\":true,\"ticks\":\"\",\"zerolinecolor\":\"#EBF0F8\"},\"yaxis\":{\"backgroundcolor\":\"white\",\"gridcolor\":\"#DFE8F3\",\"gridwidth\":2,\"linecolor\":\"#EBF0F8\",\"showbackground\":true,\"ticks\":\"\",\"zerolinecolor\":\"#EBF0F8\"},\"zaxis\":{\"backgroundcolor\":\"white\",\"gridcolor\":\"#DFE8F3\",\"gridwidth\":2,\"linecolor\":\"#EBF0F8\",\"showbackground\":true,\"ticks\":\"\",\"zerolinecolor\":\"#EBF0F8\"}},\"shapedefaults\":{\"line\":{\"color\":\"#2a3f5f\"}},\"ternary\":{\"aaxis\":{\"gridcolor\":\"#DFE8F3\",\"linecolor\":\"#A2B1C6\",\"ticks\":\"\"},\"baxis\":{\"gridcolor\":\"#DFE8F3\",\"linecolor\":\"#A2B1C6\",\"ticks\":\"\"},\"bgcolor\":\"white\",\"caxis\":{\"gridcolor\":\"#DFE8F3\",\"linecolor\":\"#A2B1C6\",\"ticks\":\"\"}},\"title\":{\"x\":0.05},\"xaxis\":{\"automargin\":true,\"gridcolor\":\"#EBF0F8\",\"linecolor\":\"#EBF0F8\",\"ticks\":\"\",\"title\":{\"standoff\":15},\"zerolinecolor\":\"#EBF0F8\",\"zerolinewidth\":2},\"yaxis\":{\"automargin\":true,\"gridcolor\":\"#EBF0F8\",\"linecolor\":\"#EBF0F8\",\"ticks\":\"\",\"title\":{\"standoff\":15},\"zerolinecolor\":\"#EBF0F8\",\"zerolinewidth\":2}}},\"xaxis\":{\"anchor\":\"y\",\"domain\":[0.0,1.0],\"title\":{\"text\":\"Length of shared initial commitments<br><span style='color:DarkGray'>(Number of groups, Group size)<span>\"},\"showticklabels\":true,\"tickvals\":[0,1,2,3,4,5,6,7],\"ticktext\":[\"0<br><span style='color:DarkGray'>(1, 807)<span>\",\"1<br><span style='color:DarkGray'>(6, 272)<span>\",\"2<br><span style='color:DarkGray'>(29, 101)<span>\",\"3<br><span style='color:DarkGray'>(149, 28)<span>\",\"4<br><span style='color:DarkGray'>(279, 9)<span>\",\"5<br><span style='color:DarkGray'>(178, 4)<span>\",\"6<br><span style='color:DarkGray'>(150, 2)<span>\",\"7<br><span style='color:DarkGray'>(39, 1)<span>\"]},\"yaxis\":{\"anchor\":\"x\",\"domain\":[0.0,1.0],\"title\":{\"text\":\"Mean relative share\"},\"showticklabels\":true,\"range\":[0,1.05]},\"legend\":{\"tracegroupgap\":0,\"title\":{\"text\":\"\"},\"orientation\":\"h\",\"yanchor\":\"bottom\",\"y\":1.02,\"xanchor\":\"left\",\"x\":-0.005},\"margin\":{\"t\":60,\"b\":110},\"barmode\":\"group\"},                        {\"responsive\": true}                    ).then(function(){\n",
       "                            \n",
       "var gd = document.getElementById('6f141e02-c5cc-4d14-abc9-3c32279b4e1e');\n",
       "var x = new MutationObserver(function (mutations, observer) {{\n",
       "        var display = window.getComputedStyle(gd).display;\n",
       "        if (!display || display === 'none') {{\n",
       "            console.log([gd, 'removed!']);\n",
       "            Plotly.purge(gd);\n",
       "            observer.disconnect();\n",
       "        }}\n",
       "}});\n",
       "\n",
       "// Listen for the removal of the full notebook cells\n",
       "var notebookContainer = gd.closest('#notebook-container');\n",
       "if (notebookContainer) {{\n",
       "    x.observe(notebookContainer, {childList: true});\n",
       "}}\n",
       "\n",
       "// Listen for the clearing of the current output cell\n",
       "var outputEl = gd.closest('.output');\n",
       "if (outputEl) {{\n",
       "    x.observe(outputEl, {childList: true});\n",
       "}}\n",
       "\n",
       "                        })                };                });            </script>        </div>"
      ]
     },
     "metadata": {},
     "output_type": "display_data"
    },
    {
     "name": "stdout",
     "output_type": "stream",
     "text": [
      "(0.55, 0.35, 0.1)\n"
     ]
    },
    {
     "data": {
      "application/vnd.plotly.v1+json": {
       "config": {
        "plotlyServerURL": "https://plot.ly"
       },
       "data": [
        {
         "alignmentgroup": "True",
         "hovertemplate": "len_shared_init_coms=%{x}<br>anything_goes=%{y}<extra></extra>",
         "legendgroup": "",
         "marker": {
          "color": "#29ae80",
          "pattern": {
           "shape": ""
          }
         },
         "name": "Groups of non-trivial full RE fixed points covering the entire sentence pool",
         "offsetgroup": "",
         "orientation": "v",
         "showlegend": true,
         "textposition": "auto",
         "texttemplate": "%{y}",
         "type": "bar",
         "x": [
          0,
          1,
          2,
          3,
          4,
          5,
          6,
          7
         ],
         "xaxis": "x",
         "y": [
          0.97,
          0.94,
          0.6,
          0.24,
          0.08,
          0.02,
          0,
          0
         ],
         "yaxis": "y"
        }
       ],
       "layout": {
        "barmode": "group",
        "legend": {
         "orientation": "h",
         "title": {
          "text": ""
         },
         "tracegroupgap": 0,
         "x": -0.005,
         "xanchor": "left",
         "y": 1.02,
         "yanchor": "bottom"
        },
        "margin": {
         "b": 110,
         "t": 60
        },
        "template": {
         "data": {
          "bar": [
           {
            "error_x": {
             "color": "#2a3f5f"
            },
            "error_y": {
             "color": "#2a3f5f"
            },
            "marker": {
             "line": {
              "color": "white",
              "width": 0.5
             },
             "pattern": {
              "fillmode": "overlay",
              "size": 10,
              "solidity": 0.2
             }
            },
            "type": "bar"
           }
          ],
          "barpolar": [
           {
            "marker": {
             "line": {
              "color": "white",
              "width": 0.5
             },
             "pattern": {
              "fillmode": "overlay",
              "size": 10,
              "solidity": 0.2
             }
            },
            "type": "barpolar"
           }
          ],
          "carpet": [
           {
            "aaxis": {
             "endlinecolor": "#2a3f5f",
             "gridcolor": "#C8D4E3",
             "linecolor": "#C8D4E3",
             "minorgridcolor": "#C8D4E3",
             "startlinecolor": "#2a3f5f"
            },
            "baxis": {
             "endlinecolor": "#2a3f5f",
             "gridcolor": "#C8D4E3",
             "linecolor": "#C8D4E3",
             "minorgridcolor": "#C8D4E3",
             "startlinecolor": "#2a3f5f"
            },
            "type": "carpet"
           }
          ],
          "choropleth": [
           {
            "colorbar": {
             "outlinewidth": 0,
             "ticks": ""
            },
            "type": "choropleth"
           }
          ],
          "contour": [
           {
            "colorbar": {
             "outlinewidth": 0,
             "ticks": ""
            },
            "colorscale": [
             [
              0,
              "#0d0887"
             ],
             [
              0.1111111111111111,
              "#46039f"
             ],
             [
              0.2222222222222222,
              "#7201a8"
             ],
             [
              0.3333333333333333,
              "#9c179e"
             ],
             [
              0.4444444444444444,
              "#bd3786"
             ],
             [
              0.5555555555555556,
              "#d8576b"
             ],
             [
              0.6666666666666666,
              "#ed7953"
             ],
             [
              0.7777777777777778,
              "#fb9f3a"
             ],
             [
              0.8888888888888888,
              "#fdca26"
             ],
             [
              1,
              "#f0f921"
             ]
            ],
            "type": "contour"
           }
          ],
          "contourcarpet": [
           {
            "colorbar": {
             "outlinewidth": 0,
             "ticks": ""
            },
            "type": "contourcarpet"
           }
          ],
          "heatmap": [
           {
            "colorbar": {
             "outlinewidth": 0,
             "ticks": ""
            },
            "colorscale": [
             [
              0,
              "#0d0887"
             ],
             [
              0.1111111111111111,
              "#46039f"
             ],
             [
              0.2222222222222222,
              "#7201a8"
             ],
             [
              0.3333333333333333,
              "#9c179e"
             ],
             [
              0.4444444444444444,
              "#bd3786"
             ],
             [
              0.5555555555555556,
              "#d8576b"
             ],
             [
              0.6666666666666666,
              "#ed7953"
             ],
             [
              0.7777777777777778,
              "#fb9f3a"
             ],
             [
              0.8888888888888888,
              "#fdca26"
             ],
             [
              1,
              "#f0f921"
             ]
            ],
            "type": "heatmap"
           }
          ],
          "heatmapgl": [
           {
            "colorbar": {
             "outlinewidth": 0,
             "ticks": ""
            },
            "colorscale": [
             [
              0,
              "#0d0887"
             ],
             [
              0.1111111111111111,
              "#46039f"
             ],
             [
              0.2222222222222222,
              "#7201a8"
             ],
             [
              0.3333333333333333,
              "#9c179e"
             ],
             [
              0.4444444444444444,
              "#bd3786"
             ],
             [
              0.5555555555555556,
              "#d8576b"
             ],
             [
              0.6666666666666666,
              "#ed7953"
             ],
             [
              0.7777777777777778,
              "#fb9f3a"
             ],
             [
              0.8888888888888888,
              "#fdca26"
             ],
             [
              1,
              "#f0f921"
             ]
            ],
            "type": "heatmapgl"
           }
          ],
          "histogram": [
           {
            "marker": {
             "pattern": {
              "fillmode": "overlay",
              "size": 10,
              "solidity": 0.2
             }
            },
            "type": "histogram"
           }
          ],
          "histogram2d": [
           {
            "colorbar": {
             "outlinewidth": 0,
             "ticks": ""
            },
            "colorscale": [
             [
              0,
              "#0d0887"
             ],
             [
              0.1111111111111111,
              "#46039f"
             ],
             [
              0.2222222222222222,
              "#7201a8"
             ],
             [
              0.3333333333333333,
              "#9c179e"
             ],
             [
              0.4444444444444444,
              "#bd3786"
             ],
             [
              0.5555555555555556,
              "#d8576b"
             ],
             [
              0.6666666666666666,
              "#ed7953"
             ],
             [
              0.7777777777777778,
              "#fb9f3a"
             ],
             [
              0.8888888888888888,
              "#fdca26"
             ],
             [
              1,
              "#f0f921"
             ]
            ],
            "type": "histogram2d"
           }
          ],
          "histogram2dcontour": [
           {
            "colorbar": {
             "outlinewidth": 0,
             "ticks": ""
            },
            "colorscale": [
             [
              0,
              "#0d0887"
             ],
             [
              0.1111111111111111,
              "#46039f"
             ],
             [
              0.2222222222222222,
              "#7201a8"
             ],
             [
              0.3333333333333333,
              "#9c179e"
             ],
             [
              0.4444444444444444,
              "#bd3786"
             ],
             [
              0.5555555555555556,
              "#d8576b"
             ],
             [
              0.6666666666666666,
              "#ed7953"
             ],
             [
              0.7777777777777778,
              "#fb9f3a"
             ],
             [
              0.8888888888888888,
              "#fdca26"
             ],
             [
              1,
              "#f0f921"
             ]
            ],
            "type": "histogram2dcontour"
           }
          ],
          "mesh3d": [
           {
            "colorbar": {
             "outlinewidth": 0,
             "ticks": ""
            },
            "type": "mesh3d"
           }
          ],
          "parcoords": [
           {
            "line": {
             "colorbar": {
              "outlinewidth": 0,
              "ticks": ""
             }
            },
            "type": "parcoords"
           }
          ],
          "pie": [
           {
            "automargin": true,
            "type": "pie"
           }
          ],
          "scatter": [
           {
            "fillpattern": {
             "fillmode": "overlay",
             "size": 10,
             "solidity": 0.2
            },
            "type": "scatter"
           }
          ],
          "scatter3d": [
           {
            "line": {
             "colorbar": {
              "outlinewidth": 0,
              "ticks": ""
             }
            },
            "marker": {
             "colorbar": {
              "outlinewidth": 0,
              "ticks": ""
             }
            },
            "type": "scatter3d"
           }
          ],
          "scattercarpet": [
           {
            "marker": {
             "colorbar": {
              "outlinewidth": 0,
              "ticks": ""
             }
            },
            "type": "scattercarpet"
           }
          ],
          "scattergeo": [
           {
            "marker": {
             "colorbar": {
              "outlinewidth": 0,
              "ticks": ""
             }
            },
            "type": "scattergeo"
           }
          ],
          "scattergl": [
           {
            "marker": {
             "colorbar": {
              "outlinewidth": 0,
              "ticks": ""
             }
            },
            "type": "scattergl"
           }
          ],
          "scattermapbox": [
           {
            "marker": {
             "colorbar": {
              "outlinewidth": 0,
              "ticks": ""
             }
            },
            "type": "scattermapbox"
           }
          ],
          "scatterpolar": [
           {
            "marker": {
             "colorbar": {
              "outlinewidth": 0,
              "ticks": ""
             }
            },
            "type": "scatterpolar"
           }
          ],
          "scatterpolargl": [
           {
            "marker": {
             "colorbar": {
              "outlinewidth": 0,
              "ticks": ""
             }
            },
            "type": "scatterpolargl"
           }
          ],
          "scatterternary": [
           {
            "marker": {
             "colorbar": {
              "outlinewidth": 0,
              "ticks": ""
             }
            },
            "type": "scatterternary"
           }
          ],
          "surface": [
           {
            "colorbar": {
             "outlinewidth": 0,
             "ticks": ""
            },
            "colorscale": [
             [
              0,
              "#0d0887"
             ],
             [
              0.1111111111111111,
              "#46039f"
             ],
             [
              0.2222222222222222,
              "#7201a8"
             ],
             [
              0.3333333333333333,
              "#9c179e"
             ],
             [
              0.4444444444444444,
              "#bd3786"
             ],
             [
              0.5555555555555556,
              "#d8576b"
             ],
             [
              0.6666666666666666,
              "#ed7953"
             ],
             [
              0.7777777777777778,
              "#fb9f3a"
             ],
             [
              0.8888888888888888,
              "#fdca26"
             ],
             [
              1,
              "#f0f921"
             ]
            ],
            "type": "surface"
           }
          ],
          "table": [
           {
            "cells": {
             "fill": {
              "color": "#EBF0F8"
             },
             "line": {
              "color": "white"
             }
            },
            "header": {
             "fill": {
              "color": "#C8D4E3"
             },
             "line": {
              "color": "white"
             }
            },
            "type": "table"
           }
          ]
         },
         "layout": {
          "annotationdefaults": {
           "arrowcolor": "#2a3f5f",
           "arrowhead": 0,
           "arrowwidth": 1
          },
          "autotypenumbers": "strict",
          "coloraxis": {
           "colorbar": {
            "outlinewidth": 0,
            "ticks": ""
           }
          },
          "colorscale": {
           "diverging": [
            [
             0,
             "#8e0152"
            ],
            [
             0.1,
             "#c51b7d"
            ],
            [
             0.2,
             "#de77ae"
            ],
            [
             0.3,
             "#f1b6da"
            ],
            [
             0.4,
             "#fde0ef"
            ],
            [
             0.5,
             "#f7f7f7"
            ],
            [
             0.6,
             "#e6f5d0"
            ],
            [
             0.7,
             "#b8e186"
            ],
            [
             0.8,
             "#7fbc41"
            ],
            [
             0.9,
             "#4d9221"
            ],
            [
             1,
             "#276419"
            ]
           ],
           "sequential": [
            [
             0,
             "#0d0887"
            ],
            [
             0.1111111111111111,
             "#46039f"
            ],
            [
             0.2222222222222222,
             "#7201a8"
            ],
            [
             0.3333333333333333,
             "#9c179e"
            ],
            [
             0.4444444444444444,
             "#bd3786"
            ],
            [
             0.5555555555555556,
             "#d8576b"
            ],
            [
             0.6666666666666666,
             "#ed7953"
            ],
            [
             0.7777777777777778,
             "#fb9f3a"
            ],
            [
             0.8888888888888888,
             "#fdca26"
            ],
            [
             1,
             "#f0f921"
            ]
           ],
           "sequentialminus": [
            [
             0,
             "#0d0887"
            ],
            [
             0.1111111111111111,
             "#46039f"
            ],
            [
             0.2222222222222222,
             "#7201a8"
            ],
            [
             0.3333333333333333,
             "#9c179e"
            ],
            [
             0.4444444444444444,
             "#bd3786"
            ],
            [
             0.5555555555555556,
             "#d8576b"
            ],
            [
             0.6666666666666666,
             "#ed7953"
            ],
            [
             0.7777777777777778,
             "#fb9f3a"
            ],
            [
             0.8888888888888888,
             "#fdca26"
            ],
            [
             1,
             "#f0f921"
            ]
           ]
          },
          "colorway": [
           "#636efa",
           "#EF553B",
           "#00cc96",
           "#ab63fa",
           "#FFA15A",
           "#19d3f3",
           "#FF6692",
           "#B6E880",
           "#FF97FF",
           "#FECB52"
          ],
          "font": {
           "color": "#2a3f5f"
          },
          "geo": {
           "bgcolor": "white",
           "lakecolor": "white",
           "landcolor": "white",
           "showlakes": true,
           "showland": true,
           "subunitcolor": "#C8D4E3"
          },
          "hoverlabel": {
           "align": "left"
          },
          "hovermode": "closest",
          "mapbox": {
           "style": "light"
          },
          "paper_bgcolor": "white",
          "plot_bgcolor": "white",
          "polar": {
           "angularaxis": {
            "gridcolor": "#EBF0F8",
            "linecolor": "#EBF0F8",
            "ticks": ""
           },
           "bgcolor": "white",
           "radialaxis": {
            "gridcolor": "#EBF0F8",
            "linecolor": "#EBF0F8",
            "ticks": ""
           }
          },
          "scene": {
           "xaxis": {
            "backgroundcolor": "white",
            "gridcolor": "#DFE8F3",
            "gridwidth": 2,
            "linecolor": "#EBF0F8",
            "showbackground": true,
            "ticks": "",
            "zerolinecolor": "#EBF0F8"
           },
           "yaxis": {
            "backgroundcolor": "white",
            "gridcolor": "#DFE8F3",
            "gridwidth": 2,
            "linecolor": "#EBF0F8",
            "showbackground": true,
            "ticks": "",
            "zerolinecolor": "#EBF0F8"
           },
           "zaxis": {
            "backgroundcolor": "white",
            "gridcolor": "#DFE8F3",
            "gridwidth": 2,
            "linecolor": "#EBF0F8",
            "showbackground": true,
            "ticks": "",
            "zerolinecolor": "#EBF0F8"
           }
          },
          "shapedefaults": {
           "line": {
            "color": "#2a3f5f"
           }
          },
          "ternary": {
           "aaxis": {
            "gridcolor": "#DFE8F3",
            "linecolor": "#A2B1C6",
            "ticks": ""
           },
           "baxis": {
            "gridcolor": "#DFE8F3",
            "linecolor": "#A2B1C6",
            "ticks": ""
           },
           "bgcolor": "white",
           "caxis": {
            "gridcolor": "#DFE8F3",
            "linecolor": "#A2B1C6",
            "ticks": ""
           }
          },
          "title": {
           "x": 0.05
          },
          "xaxis": {
           "automargin": true,
           "gridcolor": "#EBF0F8",
           "linecolor": "#EBF0F8",
           "ticks": "",
           "title": {
            "standoff": 15
           },
           "zerolinecolor": "#EBF0F8",
           "zerolinewidth": 2
          },
          "yaxis": {
           "automargin": true,
           "gridcolor": "#EBF0F8",
           "linecolor": "#EBF0F8",
           "ticks": "",
           "title": {
            "standoff": 15
           },
           "zerolinecolor": "#EBF0F8",
           "zerolinewidth": 2
          }
         }
        },
        "xaxis": {
         "anchor": "y",
         "domain": [
          0,
          1
         ],
         "showticklabels": true,
         "ticktext": [
          "0<br><span style='color:DarkGray'>(1, 946)<span>",
          "1<br><span style='color:DarkGray'>(6, 359)<span>",
          "2<br><span style='color:DarkGray'>(28, 130)<span>",
          "3<br><span style='color:DarkGray'>(117, 46)<span>",
          "4<br><span style='color:DarkGray'>(187, 18)<span>",
          "5<br><span style='color:DarkGray'>(290, 7)<span>",
          "6<br><span style='color:DarkGray'>(236, 3)<span>",
          "7<br><span style='color:DarkGray'>(78, 1)<span>"
         ],
         "tickvals": [
          0,
          1,
          2,
          3,
          4,
          5,
          6,
          7
         ],
         "title": {
          "text": "Length of shared initial commitments<br><span style='color:DarkGray'>(Number of groups, Group size)<span>"
         }
        },
        "yaxis": {
         "anchor": "x",
         "domain": [
          0,
          1
         ],
         "range": [
          0,
          1.05
         ],
         "showticklabels": true,
         "title": {
          "text": "Mean relative share"
         }
        }
       }
      },
      "text/html": [
       "<div>                            <div id=\"bbdae3e0-fb0e-4db5-b63c-570ec3cd1921\" class=\"plotly-graph-div\" style=\"height:525px; width:100%;\"></div>            <script type=\"text/javascript\">                require([\"plotly\"], function(Plotly) {                    window.PLOTLYENV=window.PLOTLYENV || {};                                    if (document.getElementById(\"bbdae3e0-fb0e-4db5-b63c-570ec3cd1921\")) {                    Plotly.newPlot(                        \"bbdae3e0-fb0e-4db5-b63c-570ec3cd1921\",                        [{\"alignmentgroup\":\"True\",\"hovertemplate\":\"len_shared_init_coms=%{x}<br>anything_goes=%{y}<extra></extra>\",\"legendgroup\":\"\",\"marker\":{\"color\":\"#29ae80\",\"pattern\":{\"shape\":\"\"}},\"name\":\"Groups of non-trivial full RE fixed points covering the entire sentence pool\",\"offsetgroup\":\"\",\"orientation\":\"v\",\"showlegend\":true,\"textposition\":\"auto\",\"texttemplate\":\"%{y}\",\"x\":[0,1,2,3,4,5,6,7],\"xaxis\":\"x\",\"y\":[0.97,0.94,0.6,0.24,0.08,0.02,0.0,0.0],\"yaxis\":\"y\",\"type\":\"bar\"}],                        {\"template\":{\"data\":{\"barpolar\":[{\"marker\":{\"line\":{\"color\":\"white\",\"width\":0.5},\"pattern\":{\"fillmode\":\"overlay\",\"size\":10,\"solidity\":0.2}},\"type\":\"barpolar\"}],\"bar\":[{\"error_x\":{\"color\":\"#2a3f5f\"},\"error_y\":{\"color\":\"#2a3f5f\"},\"marker\":{\"line\":{\"color\":\"white\",\"width\":0.5},\"pattern\":{\"fillmode\":\"overlay\",\"size\":10,\"solidity\":0.2}},\"type\":\"bar\"}],\"carpet\":[{\"aaxis\":{\"endlinecolor\":\"#2a3f5f\",\"gridcolor\":\"#C8D4E3\",\"linecolor\":\"#C8D4E3\",\"minorgridcolor\":\"#C8D4E3\",\"startlinecolor\":\"#2a3f5f\"},\"baxis\":{\"endlinecolor\":\"#2a3f5f\",\"gridcolor\":\"#C8D4E3\",\"linecolor\":\"#C8D4E3\",\"minorgridcolor\":\"#C8D4E3\",\"startlinecolor\":\"#2a3f5f\"},\"type\":\"carpet\"}],\"choropleth\":[{\"colorbar\":{\"outlinewidth\":0,\"ticks\":\"\"},\"type\":\"choropleth\"}],\"contourcarpet\":[{\"colorbar\":{\"outlinewidth\":0,\"ticks\":\"\"},\"type\":\"contourcarpet\"}],\"contour\":[{\"colorbar\":{\"outlinewidth\":0,\"ticks\":\"\"},\"colorscale\":[[0.0,\"#0d0887\"],[0.1111111111111111,\"#46039f\"],[0.2222222222222222,\"#7201a8\"],[0.3333333333333333,\"#9c179e\"],[0.4444444444444444,\"#bd3786\"],[0.5555555555555556,\"#d8576b\"],[0.6666666666666666,\"#ed7953\"],[0.7777777777777778,\"#fb9f3a\"],[0.8888888888888888,\"#fdca26\"],[1.0,\"#f0f921\"]],\"type\":\"contour\"}],\"heatmapgl\":[{\"colorbar\":{\"outlinewidth\":0,\"ticks\":\"\"},\"colorscale\":[[0.0,\"#0d0887\"],[0.1111111111111111,\"#46039f\"],[0.2222222222222222,\"#7201a8\"],[0.3333333333333333,\"#9c179e\"],[0.4444444444444444,\"#bd3786\"],[0.5555555555555556,\"#d8576b\"],[0.6666666666666666,\"#ed7953\"],[0.7777777777777778,\"#fb9f3a\"],[0.8888888888888888,\"#fdca26\"],[1.0,\"#f0f921\"]],\"type\":\"heatmapgl\"}],\"heatmap\":[{\"colorbar\":{\"outlinewidth\":0,\"ticks\":\"\"},\"colorscale\":[[0.0,\"#0d0887\"],[0.1111111111111111,\"#46039f\"],[0.2222222222222222,\"#7201a8\"],[0.3333333333333333,\"#9c179e\"],[0.4444444444444444,\"#bd3786\"],[0.5555555555555556,\"#d8576b\"],[0.6666666666666666,\"#ed7953\"],[0.7777777777777778,\"#fb9f3a\"],[0.8888888888888888,\"#fdca26\"],[1.0,\"#f0f921\"]],\"type\":\"heatmap\"}],\"histogram2dcontour\":[{\"colorbar\":{\"outlinewidth\":0,\"ticks\":\"\"},\"colorscale\":[[0.0,\"#0d0887\"],[0.1111111111111111,\"#46039f\"],[0.2222222222222222,\"#7201a8\"],[0.3333333333333333,\"#9c179e\"],[0.4444444444444444,\"#bd3786\"],[0.5555555555555556,\"#d8576b\"],[0.6666666666666666,\"#ed7953\"],[0.7777777777777778,\"#fb9f3a\"],[0.8888888888888888,\"#fdca26\"],[1.0,\"#f0f921\"]],\"type\":\"histogram2dcontour\"}],\"histogram2d\":[{\"colorbar\":{\"outlinewidth\":0,\"ticks\":\"\"},\"colorscale\":[[0.0,\"#0d0887\"],[0.1111111111111111,\"#46039f\"],[0.2222222222222222,\"#7201a8\"],[0.3333333333333333,\"#9c179e\"],[0.4444444444444444,\"#bd3786\"],[0.5555555555555556,\"#d8576b\"],[0.6666666666666666,\"#ed7953\"],[0.7777777777777778,\"#fb9f3a\"],[0.8888888888888888,\"#fdca26\"],[1.0,\"#f0f921\"]],\"type\":\"histogram2d\"}],\"histogram\":[{\"marker\":{\"pattern\":{\"fillmode\":\"overlay\",\"size\":10,\"solidity\":0.2}},\"type\":\"histogram\"}],\"mesh3d\":[{\"colorbar\":{\"outlinewidth\":0,\"ticks\":\"\"},\"type\":\"mesh3d\"}],\"parcoords\":[{\"line\":{\"colorbar\":{\"outlinewidth\":0,\"ticks\":\"\"}},\"type\":\"parcoords\"}],\"pie\":[{\"automargin\":true,\"type\":\"pie\"}],\"scatter3d\":[{\"line\":{\"colorbar\":{\"outlinewidth\":0,\"ticks\":\"\"}},\"marker\":{\"colorbar\":{\"outlinewidth\":0,\"ticks\":\"\"}},\"type\":\"scatter3d\"}],\"scattercarpet\":[{\"marker\":{\"colorbar\":{\"outlinewidth\":0,\"ticks\":\"\"}},\"type\":\"scattercarpet\"}],\"scattergeo\":[{\"marker\":{\"colorbar\":{\"outlinewidth\":0,\"ticks\":\"\"}},\"type\":\"scattergeo\"}],\"scattergl\":[{\"marker\":{\"colorbar\":{\"outlinewidth\":0,\"ticks\":\"\"}},\"type\":\"scattergl\"}],\"scattermapbox\":[{\"marker\":{\"colorbar\":{\"outlinewidth\":0,\"ticks\":\"\"}},\"type\":\"scattermapbox\"}],\"scatterpolargl\":[{\"marker\":{\"colorbar\":{\"outlinewidth\":0,\"ticks\":\"\"}},\"type\":\"scatterpolargl\"}],\"scatterpolar\":[{\"marker\":{\"colorbar\":{\"outlinewidth\":0,\"ticks\":\"\"}},\"type\":\"scatterpolar\"}],\"scatter\":[{\"fillpattern\":{\"fillmode\":\"overlay\",\"size\":10,\"solidity\":0.2},\"type\":\"scatter\"}],\"scatterternary\":[{\"marker\":{\"colorbar\":{\"outlinewidth\":0,\"ticks\":\"\"}},\"type\":\"scatterternary\"}],\"surface\":[{\"colorbar\":{\"outlinewidth\":0,\"ticks\":\"\"},\"colorscale\":[[0.0,\"#0d0887\"],[0.1111111111111111,\"#46039f\"],[0.2222222222222222,\"#7201a8\"],[0.3333333333333333,\"#9c179e\"],[0.4444444444444444,\"#bd3786\"],[0.5555555555555556,\"#d8576b\"],[0.6666666666666666,\"#ed7953\"],[0.7777777777777778,\"#fb9f3a\"],[0.8888888888888888,\"#fdca26\"],[1.0,\"#f0f921\"]],\"type\":\"surface\"}],\"table\":[{\"cells\":{\"fill\":{\"color\":\"#EBF0F8\"},\"line\":{\"color\":\"white\"}},\"header\":{\"fill\":{\"color\":\"#C8D4E3\"},\"line\":{\"color\":\"white\"}},\"type\":\"table\"}]},\"layout\":{\"annotationdefaults\":{\"arrowcolor\":\"#2a3f5f\",\"arrowhead\":0,\"arrowwidth\":1},\"autotypenumbers\":\"strict\",\"coloraxis\":{\"colorbar\":{\"outlinewidth\":0,\"ticks\":\"\"}},\"colorscale\":{\"diverging\":[[0,\"#8e0152\"],[0.1,\"#c51b7d\"],[0.2,\"#de77ae\"],[0.3,\"#f1b6da\"],[0.4,\"#fde0ef\"],[0.5,\"#f7f7f7\"],[0.6,\"#e6f5d0\"],[0.7,\"#b8e186\"],[0.8,\"#7fbc41\"],[0.9,\"#4d9221\"],[1,\"#276419\"]],\"sequential\":[[0.0,\"#0d0887\"],[0.1111111111111111,\"#46039f\"],[0.2222222222222222,\"#7201a8\"],[0.3333333333333333,\"#9c179e\"],[0.4444444444444444,\"#bd3786\"],[0.5555555555555556,\"#d8576b\"],[0.6666666666666666,\"#ed7953\"],[0.7777777777777778,\"#fb9f3a\"],[0.8888888888888888,\"#fdca26\"],[1.0,\"#f0f921\"]],\"sequentialminus\":[[0.0,\"#0d0887\"],[0.1111111111111111,\"#46039f\"],[0.2222222222222222,\"#7201a8\"],[0.3333333333333333,\"#9c179e\"],[0.4444444444444444,\"#bd3786\"],[0.5555555555555556,\"#d8576b\"],[0.6666666666666666,\"#ed7953\"],[0.7777777777777778,\"#fb9f3a\"],[0.8888888888888888,\"#fdca26\"],[1.0,\"#f0f921\"]]},\"colorway\":[\"#636efa\",\"#EF553B\",\"#00cc96\",\"#ab63fa\",\"#FFA15A\",\"#19d3f3\",\"#FF6692\",\"#B6E880\",\"#FF97FF\",\"#FECB52\"],\"font\":{\"color\":\"#2a3f5f\"},\"geo\":{\"bgcolor\":\"white\",\"lakecolor\":\"white\",\"landcolor\":\"white\",\"showlakes\":true,\"showland\":true,\"subunitcolor\":\"#C8D4E3\"},\"hoverlabel\":{\"align\":\"left\"},\"hovermode\":\"closest\",\"mapbox\":{\"style\":\"light\"},\"paper_bgcolor\":\"white\",\"plot_bgcolor\":\"white\",\"polar\":{\"angularaxis\":{\"gridcolor\":\"#EBF0F8\",\"linecolor\":\"#EBF0F8\",\"ticks\":\"\"},\"bgcolor\":\"white\",\"radialaxis\":{\"gridcolor\":\"#EBF0F8\",\"linecolor\":\"#EBF0F8\",\"ticks\":\"\"}},\"scene\":{\"xaxis\":{\"backgroundcolor\":\"white\",\"gridcolor\":\"#DFE8F3\",\"gridwidth\":2,\"linecolor\":\"#EBF0F8\",\"showbackground\":true,\"ticks\":\"\",\"zerolinecolor\":\"#EBF0F8\"},\"yaxis\":{\"backgroundcolor\":\"white\",\"gridcolor\":\"#DFE8F3\",\"gridwidth\":2,\"linecolor\":\"#EBF0F8\",\"showbackground\":true,\"ticks\":\"\",\"zerolinecolor\":\"#EBF0F8\"},\"zaxis\":{\"backgroundcolor\":\"white\",\"gridcolor\":\"#DFE8F3\",\"gridwidth\":2,\"linecolor\":\"#EBF0F8\",\"showbackground\":true,\"ticks\":\"\",\"zerolinecolor\":\"#EBF0F8\"}},\"shapedefaults\":{\"line\":{\"color\":\"#2a3f5f\"}},\"ternary\":{\"aaxis\":{\"gridcolor\":\"#DFE8F3\",\"linecolor\":\"#A2B1C6\",\"ticks\":\"\"},\"baxis\":{\"gridcolor\":\"#DFE8F3\",\"linecolor\":\"#A2B1C6\",\"ticks\":\"\"},\"bgcolor\":\"white\",\"caxis\":{\"gridcolor\":\"#DFE8F3\",\"linecolor\":\"#A2B1C6\",\"ticks\":\"\"}},\"title\":{\"x\":0.05},\"xaxis\":{\"automargin\":true,\"gridcolor\":\"#EBF0F8\",\"linecolor\":\"#EBF0F8\",\"ticks\":\"\",\"title\":{\"standoff\":15},\"zerolinecolor\":\"#EBF0F8\",\"zerolinewidth\":2},\"yaxis\":{\"automargin\":true,\"gridcolor\":\"#EBF0F8\",\"linecolor\":\"#EBF0F8\",\"ticks\":\"\",\"title\":{\"standoff\":15},\"zerolinecolor\":\"#EBF0F8\",\"zerolinewidth\":2}}},\"xaxis\":{\"anchor\":\"y\",\"domain\":[0.0,1.0],\"title\":{\"text\":\"Length of shared initial commitments<br><span style='color:DarkGray'>(Number of groups, Group size)<span>\"},\"showticklabels\":true,\"tickvals\":[0,1,2,3,4,5,6,7],\"ticktext\":[\"0<br><span style='color:DarkGray'>(1, 946)<span>\",\"1<br><span style='color:DarkGray'>(6, 359)<span>\",\"2<br><span style='color:DarkGray'>(28, 130)<span>\",\"3<br><span style='color:DarkGray'>(117, 46)<span>\",\"4<br><span style='color:DarkGray'>(187, 18)<span>\",\"5<br><span style='color:DarkGray'>(290, 7)<span>\",\"6<br><span style='color:DarkGray'>(236, 3)<span>\",\"7<br><span style='color:DarkGray'>(78, 1)<span>\"]},\"yaxis\":{\"anchor\":\"x\",\"domain\":[0.0,1.0],\"title\":{\"text\":\"Mean relative share\"},\"showticklabels\":true,\"range\":[0,1.05]},\"legend\":{\"tracegroupgap\":0,\"title\":{\"text\":\"\"},\"orientation\":\"h\",\"yanchor\":\"bottom\",\"y\":1.02,\"xanchor\":\"left\",\"x\":-0.005},\"margin\":{\"t\":60,\"b\":110},\"barmode\":\"group\"},                        {\"responsive\": true}                    ).then(function(){\n",
       "                            \n",
       "var gd = document.getElementById('bbdae3e0-fb0e-4db5-b63c-570ec3cd1921');\n",
       "var x = new MutationObserver(function (mutations, observer) {{\n",
       "        var display = window.getComputedStyle(gd).display;\n",
       "        if (!display || display === 'none') {{\n",
       "            console.log([gd, 'removed!']);\n",
       "            Plotly.purge(gd);\n",
       "            observer.disconnect();\n",
       "        }}\n",
       "}});\n",
       "\n",
       "// Listen for the removal of the full notebook cells\n",
       "var notebookContainer = gd.closest('#notebook-container');\n",
       "if (notebookContainer) {{\n",
       "    x.observe(notebookContainer, {childList: true});\n",
       "}}\n",
       "\n",
       "// Listen for the clearing of the current output cell\n",
       "var outputEl = gd.closest('.output');\n",
       "if (outputEl) {{\n",
       "    x.observe(outputEl, {childList: true});\n",
       "}}\n",
       "\n",
       "                        })                };                });            </script>        </div>"
      ]
     },
     "metadata": {},
     "output_type": "display_data"
    },
    {
     "name": "stdout",
     "output_type": "stream",
     "text": [
      "(0.7, 0.2, 0.1)\n"
     ]
    },
    {
     "data": {
      "application/vnd.plotly.v1+json": {
       "config": {
        "plotlyServerURL": "https://plot.ly"
       },
       "data": [
        {
         "alignmentgroup": "True",
         "hovertemplate": "len_shared_init_coms=%{x}<br>anything_goes=%{y}<extra></extra>",
         "legendgroup": "",
         "marker": {
          "color": "#29ae80",
          "pattern": {
           "shape": ""
          }
         },
         "name": "Groups of non-trivial full RE fixed points covering the entire sentence pool",
         "offsetgroup": "",
         "orientation": "v",
         "showlegend": true,
         "textposition": "auto",
         "texttemplate": "%{y}",
         "type": "bar",
         "x": [
          0,
          1,
          2,
          3,
          4,
          5,
          6,
          7
         ],
         "xaxis": "x",
         "y": [
          0.97,
          0.96,
          0.62,
          0.33,
          0.12,
          0.05,
          0.01,
          0
         ],
         "yaxis": "y"
        }
       ],
       "layout": {
        "barmode": "group",
        "legend": {
         "orientation": "h",
         "title": {
          "text": ""
         },
         "tracegroupgap": 0,
         "x": -0.005,
         "xanchor": "left",
         "y": 1.02,
         "yanchor": "bottom"
        },
        "margin": {
         "b": 110,
         "t": 60
        },
        "template": {
         "data": {
          "bar": [
           {
            "error_x": {
             "color": "#2a3f5f"
            },
            "error_y": {
             "color": "#2a3f5f"
            },
            "marker": {
             "line": {
              "color": "white",
              "width": 0.5
             },
             "pattern": {
              "fillmode": "overlay",
              "size": 10,
              "solidity": 0.2
             }
            },
            "type": "bar"
           }
          ],
          "barpolar": [
           {
            "marker": {
             "line": {
              "color": "white",
              "width": 0.5
             },
             "pattern": {
              "fillmode": "overlay",
              "size": 10,
              "solidity": 0.2
             }
            },
            "type": "barpolar"
           }
          ],
          "carpet": [
           {
            "aaxis": {
             "endlinecolor": "#2a3f5f",
             "gridcolor": "#C8D4E3",
             "linecolor": "#C8D4E3",
             "minorgridcolor": "#C8D4E3",
             "startlinecolor": "#2a3f5f"
            },
            "baxis": {
             "endlinecolor": "#2a3f5f",
             "gridcolor": "#C8D4E3",
             "linecolor": "#C8D4E3",
             "minorgridcolor": "#C8D4E3",
             "startlinecolor": "#2a3f5f"
            },
            "type": "carpet"
           }
          ],
          "choropleth": [
           {
            "colorbar": {
             "outlinewidth": 0,
             "ticks": ""
            },
            "type": "choropleth"
           }
          ],
          "contour": [
           {
            "colorbar": {
             "outlinewidth": 0,
             "ticks": ""
            },
            "colorscale": [
             [
              0,
              "#0d0887"
             ],
             [
              0.1111111111111111,
              "#46039f"
             ],
             [
              0.2222222222222222,
              "#7201a8"
             ],
             [
              0.3333333333333333,
              "#9c179e"
             ],
             [
              0.4444444444444444,
              "#bd3786"
             ],
             [
              0.5555555555555556,
              "#d8576b"
             ],
             [
              0.6666666666666666,
              "#ed7953"
             ],
             [
              0.7777777777777778,
              "#fb9f3a"
             ],
             [
              0.8888888888888888,
              "#fdca26"
             ],
             [
              1,
              "#f0f921"
             ]
            ],
            "type": "contour"
           }
          ],
          "contourcarpet": [
           {
            "colorbar": {
             "outlinewidth": 0,
             "ticks": ""
            },
            "type": "contourcarpet"
           }
          ],
          "heatmap": [
           {
            "colorbar": {
             "outlinewidth": 0,
             "ticks": ""
            },
            "colorscale": [
             [
              0,
              "#0d0887"
             ],
             [
              0.1111111111111111,
              "#46039f"
             ],
             [
              0.2222222222222222,
              "#7201a8"
             ],
             [
              0.3333333333333333,
              "#9c179e"
             ],
             [
              0.4444444444444444,
              "#bd3786"
             ],
             [
              0.5555555555555556,
              "#d8576b"
             ],
             [
              0.6666666666666666,
              "#ed7953"
             ],
             [
              0.7777777777777778,
              "#fb9f3a"
             ],
             [
              0.8888888888888888,
              "#fdca26"
             ],
             [
              1,
              "#f0f921"
             ]
            ],
            "type": "heatmap"
           }
          ],
          "heatmapgl": [
           {
            "colorbar": {
             "outlinewidth": 0,
             "ticks": ""
            },
            "colorscale": [
             [
              0,
              "#0d0887"
             ],
             [
              0.1111111111111111,
              "#46039f"
             ],
             [
              0.2222222222222222,
              "#7201a8"
             ],
             [
              0.3333333333333333,
              "#9c179e"
             ],
             [
              0.4444444444444444,
              "#bd3786"
             ],
             [
              0.5555555555555556,
              "#d8576b"
             ],
             [
              0.6666666666666666,
              "#ed7953"
             ],
             [
              0.7777777777777778,
              "#fb9f3a"
             ],
             [
              0.8888888888888888,
              "#fdca26"
             ],
             [
              1,
              "#f0f921"
             ]
            ],
            "type": "heatmapgl"
           }
          ],
          "histogram": [
           {
            "marker": {
             "pattern": {
              "fillmode": "overlay",
              "size": 10,
              "solidity": 0.2
             }
            },
            "type": "histogram"
           }
          ],
          "histogram2d": [
           {
            "colorbar": {
             "outlinewidth": 0,
             "ticks": ""
            },
            "colorscale": [
             [
              0,
              "#0d0887"
             ],
             [
              0.1111111111111111,
              "#46039f"
             ],
             [
              0.2222222222222222,
              "#7201a8"
             ],
             [
              0.3333333333333333,
              "#9c179e"
             ],
             [
              0.4444444444444444,
              "#bd3786"
             ],
             [
              0.5555555555555556,
              "#d8576b"
             ],
             [
              0.6666666666666666,
              "#ed7953"
             ],
             [
              0.7777777777777778,
              "#fb9f3a"
             ],
             [
              0.8888888888888888,
              "#fdca26"
             ],
             [
              1,
              "#f0f921"
             ]
            ],
            "type": "histogram2d"
           }
          ],
          "histogram2dcontour": [
           {
            "colorbar": {
             "outlinewidth": 0,
             "ticks": ""
            },
            "colorscale": [
             [
              0,
              "#0d0887"
             ],
             [
              0.1111111111111111,
              "#46039f"
             ],
             [
              0.2222222222222222,
              "#7201a8"
             ],
             [
              0.3333333333333333,
              "#9c179e"
             ],
             [
              0.4444444444444444,
              "#bd3786"
             ],
             [
              0.5555555555555556,
              "#d8576b"
             ],
             [
              0.6666666666666666,
              "#ed7953"
             ],
             [
              0.7777777777777778,
              "#fb9f3a"
             ],
             [
              0.8888888888888888,
              "#fdca26"
             ],
             [
              1,
              "#f0f921"
             ]
            ],
            "type": "histogram2dcontour"
           }
          ],
          "mesh3d": [
           {
            "colorbar": {
             "outlinewidth": 0,
             "ticks": ""
            },
            "type": "mesh3d"
           }
          ],
          "parcoords": [
           {
            "line": {
             "colorbar": {
              "outlinewidth": 0,
              "ticks": ""
             }
            },
            "type": "parcoords"
           }
          ],
          "pie": [
           {
            "automargin": true,
            "type": "pie"
           }
          ],
          "scatter": [
           {
            "fillpattern": {
             "fillmode": "overlay",
             "size": 10,
             "solidity": 0.2
            },
            "type": "scatter"
           }
          ],
          "scatter3d": [
           {
            "line": {
             "colorbar": {
              "outlinewidth": 0,
              "ticks": ""
             }
            },
            "marker": {
             "colorbar": {
              "outlinewidth": 0,
              "ticks": ""
             }
            },
            "type": "scatter3d"
           }
          ],
          "scattercarpet": [
           {
            "marker": {
             "colorbar": {
              "outlinewidth": 0,
              "ticks": ""
             }
            },
            "type": "scattercarpet"
           }
          ],
          "scattergeo": [
           {
            "marker": {
             "colorbar": {
              "outlinewidth": 0,
              "ticks": ""
             }
            },
            "type": "scattergeo"
           }
          ],
          "scattergl": [
           {
            "marker": {
             "colorbar": {
              "outlinewidth": 0,
              "ticks": ""
             }
            },
            "type": "scattergl"
           }
          ],
          "scattermapbox": [
           {
            "marker": {
             "colorbar": {
              "outlinewidth": 0,
              "ticks": ""
             }
            },
            "type": "scattermapbox"
           }
          ],
          "scatterpolar": [
           {
            "marker": {
             "colorbar": {
              "outlinewidth": 0,
              "ticks": ""
             }
            },
            "type": "scatterpolar"
           }
          ],
          "scatterpolargl": [
           {
            "marker": {
             "colorbar": {
              "outlinewidth": 0,
              "ticks": ""
             }
            },
            "type": "scatterpolargl"
           }
          ],
          "scatterternary": [
           {
            "marker": {
             "colorbar": {
              "outlinewidth": 0,
              "ticks": ""
             }
            },
            "type": "scatterternary"
           }
          ],
          "surface": [
           {
            "colorbar": {
             "outlinewidth": 0,
             "ticks": ""
            },
            "colorscale": [
             [
              0,
              "#0d0887"
             ],
             [
              0.1111111111111111,
              "#46039f"
             ],
             [
              0.2222222222222222,
              "#7201a8"
             ],
             [
              0.3333333333333333,
              "#9c179e"
             ],
             [
              0.4444444444444444,
              "#bd3786"
             ],
             [
              0.5555555555555556,
              "#d8576b"
             ],
             [
              0.6666666666666666,
              "#ed7953"
             ],
             [
              0.7777777777777778,
              "#fb9f3a"
             ],
             [
              0.8888888888888888,
              "#fdca26"
             ],
             [
              1,
              "#f0f921"
             ]
            ],
            "type": "surface"
           }
          ],
          "table": [
           {
            "cells": {
             "fill": {
              "color": "#EBF0F8"
             },
             "line": {
              "color": "white"
             }
            },
            "header": {
             "fill": {
              "color": "#C8D4E3"
             },
             "line": {
              "color": "white"
             }
            },
            "type": "table"
           }
          ]
         },
         "layout": {
          "annotationdefaults": {
           "arrowcolor": "#2a3f5f",
           "arrowhead": 0,
           "arrowwidth": 1
          },
          "autotypenumbers": "strict",
          "coloraxis": {
           "colorbar": {
            "outlinewidth": 0,
            "ticks": ""
           }
          },
          "colorscale": {
           "diverging": [
            [
             0,
             "#8e0152"
            ],
            [
             0.1,
             "#c51b7d"
            ],
            [
             0.2,
             "#de77ae"
            ],
            [
             0.3,
             "#f1b6da"
            ],
            [
             0.4,
             "#fde0ef"
            ],
            [
             0.5,
             "#f7f7f7"
            ],
            [
             0.6,
             "#e6f5d0"
            ],
            [
             0.7,
             "#b8e186"
            ],
            [
             0.8,
             "#7fbc41"
            ],
            [
             0.9,
             "#4d9221"
            ],
            [
             1,
             "#276419"
            ]
           ],
           "sequential": [
            [
             0,
             "#0d0887"
            ],
            [
             0.1111111111111111,
             "#46039f"
            ],
            [
             0.2222222222222222,
             "#7201a8"
            ],
            [
             0.3333333333333333,
             "#9c179e"
            ],
            [
             0.4444444444444444,
             "#bd3786"
            ],
            [
             0.5555555555555556,
             "#d8576b"
            ],
            [
             0.6666666666666666,
             "#ed7953"
            ],
            [
             0.7777777777777778,
             "#fb9f3a"
            ],
            [
             0.8888888888888888,
             "#fdca26"
            ],
            [
             1,
             "#f0f921"
            ]
           ],
           "sequentialminus": [
            [
             0,
             "#0d0887"
            ],
            [
             0.1111111111111111,
             "#46039f"
            ],
            [
             0.2222222222222222,
             "#7201a8"
            ],
            [
             0.3333333333333333,
             "#9c179e"
            ],
            [
             0.4444444444444444,
             "#bd3786"
            ],
            [
             0.5555555555555556,
             "#d8576b"
            ],
            [
             0.6666666666666666,
             "#ed7953"
            ],
            [
             0.7777777777777778,
             "#fb9f3a"
            ],
            [
             0.8888888888888888,
             "#fdca26"
            ],
            [
             1,
             "#f0f921"
            ]
           ]
          },
          "colorway": [
           "#636efa",
           "#EF553B",
           "#00cc96",
           "#ab63fa",
           "#FFA15A",
           "#19d3f3",
           "#FF6692",
           "#B6E880",
           "#FF97FF",
           "#FECB52"
          ],
          "font": {
           "color": "#2a3f5f"
          },
          "geo": {
           "bgcolor": "white",
           "lakecolor": "white",
           "landcolor": "white",
           "showlakes": true,
           "showland": true,
           "subunitcolor": "#C8D4E3"
          },
          "hoverlabel": {
           "align": "left"
          },
          "hovermode": "closest",
          "mapbox": {
           "style": "light"
          },
          "paper_bgcolor": "white",
          "plot_bgcolor": "white",
          "polar": {
           "angularaxis": {
            "gridcolor": "#EBF0F8",
            "linecolor": "#EBF0F8",
            "ticks": ""
           },
           "bgcolor": "white",
           "radialaxis": {
            "gridcolor": "#EBF0F8",
            "linecolor": "#EBF0F8",
            "ticks": ""
           }
          },
          "scene": {
           "xaxis": {
            "backgroundcolor": "white",
            "gridcolor": "#DFE8F3",
            "gridwidth": 2,
            "linecolor": "#EBF0F8",
            "showbackground": true,
            "ticks": "",
            "zerolinecolor": "#EBF0F8"
           },
           "yaxis": {
            "backgroundcolor": "white",
            "gridcolor": "#DFE8F3",
            "gridwidth": 2,
            "linecolor": "#EBF0F8",
            "showbackground": true,
            "ticks": "",
            "zerolinecolor": "#EBF0F8"
           },
           "zaxis": {
            "backgroundcolor": "white",
            "gridcolor": "#DFE8F3",
            "gridwidth": 2,
            "linecolor": "#EBF0F8",
            "showbackground": true,
            "ticks": "",
            "zerolinecolor": "#EBF0F8"
           }
          },
          "shapedefaults": {
           "line": {
            "color": "#2a3f5f"
           }
          },
          "ternary": {
           "aaxis": {
            "gridcolor": "#DFE8F3",
            "linecolor": "#A2B1C6",
            "ticks": ""
           },
           "baxis": {
            "gridcolor": "#DFE8F3",
            "linecolor": "#A2B1C6",
            "ticks": ""
           },
           "bgcolor": "white",
           "caxis": {
            "gridcolor": "#DFE8F3",
            "linecolor": "#A2B1C6",
            "ticks": ""
           }
          },
          "title": {
           "x": 0.05
          },
          "xaxis": {
           "automargin": true,
           "gridcolor": "#EBF0F8",
           "linecolor": "#EBF0F8",
           "ticks": "",
           "title": {
            "standoff": 15
           },
           "zerolinecolor": "#EBF0F8",
           "zerolinewidth": 2
          },
          "yaxis": {
           "automargin": true,
           "gridcolor": "#EBF0F8",
           "linecolor": "#EBF0F8",
           "ticks": "",
           "title": {
            "standoff": 15
           },
           "zerolinecolor": "#EBF0F8",
           "zerolinewidth": 2
          }
         }
        },
        "xaxis": {
         "anchor": "y",
         "domain": [
          0,
          1
         ],
         "showticklabels": true,
         "ticktext": [
          "0<br><span style='color:DarkGray'>(1, 536)<span>",
          "1<br><span style='color:DarkGray'>(6, 187)<span>",
          "2<br><span style='color:DarkGray'>(23, 81)<span>",
          "3<br><span style='color:DarkGray'>(59, 31)<span>",
          "4<br><span style='color:DarkGray'>(137, 13)<span>",
          "5<br><span style='color:DarkGray'>(165, 6)<span>",
          "6<br><span style='color:DarkGray'>(128, 3)<span>",
          "7<br><span style='color:DarkGray'>(54, 1)<span>"
         ],
         "tickvals": [
          0,
          1,
          2,
          3,
          4,
          5,
          6,
          7
         ],
         "title": {
          "text": "Length of shared initial commitments<br><span style='color:DarkGray'>(Number of groups, Group size)<span>"
         }
        },
        "yaxis": {
         "anchor": "x",
         "domain": [
          0,
          1
         ],
         "range": [
          0,
          1.05
         ],
         "showticklabels": true,
         "title": {
          "text": "Mean relative share"
         }
        }
       }
      },
      "text/html": [
       "<div>                            <div id=\"aebbe0cb-f34a-4c88-a0bd-4e33378f2238\" class=\"plotly-graph-div\" style=\"height:525px; width:100%;\"></div>            <script type=\"text/javascript\">                require([\"plotly\"], function(Plotly) {                    window.PLOTLYENV=window.PLOTLYENV || {};                                    if (document.getElementById(\"aebbe0cb-f34a-4c88-a0bd-4e33378f2238\")) {                    Plotly.newPlot(                        \"aebbe0cb-f34a-4c88-a0bd-4e33378f2238\",                        [{\"alignmentgroup\":\"True\",\"hovertemplate\":\"len_shared_init_coms=%{x}<br>anything_goes=%{y}<extra></extra>\",\"legendgroup\":\"\",\"marker\":{\"color\":\"#29ae80\",\"pattern\":{\"shape\":\"\"}},\"name\":\"Groups of non-trivial full RE fixed points covering the entire sentence pool\",\"offsetgroup\":\"\",\"orientation\":\"v\",\"showlegend\":true,\"textposition\":\"auto\",\"texttemplate\":\"%{y}\",\"x\":[0,1,2,3,4,5,6,7],\"xaxis\":\"x\",\"y\":[0.97,0.96,0.62,0.33,0.12,0.05,0.01,0.0],\"yaxis\":\"y\",\"type\":\"bar\"}],                        {\"template\":{\"data\":{\"barpolar\":[{\"marker\":{\"line\":{\"color\":\"white\",\"width\":0.5},\"pattern\":{\"fillmode\":\"overlay\",\"size\":10,\"solidity\":0.2}},\"type\":\"barpolar\"}],\"bar\":[{\"error_x\":{\"color\":\"#2a3f5f\"},\"error_y\":{\"color\":\"#2a3f5f\"},\"marker\":{\"line\":{\"color\":\"white\",\"width\":0.5},\"pattern\":{\"fillmode\":\"overlay\",\"size\":10,\"solidity\":0.2}},\"type\":\"bar\"}],\"carpet\":[{\"aaxis\":{\"endlinecolor\":\"#2a3f5f\",\"gridcolor\":\"#C8D4E3\",\"linecolor\":\"#C8D4E3\",\"minorgridcolor\":\"#C8D4E3\",\"startlinecolor\":\"#2a3f5f\"},\"baxis\":{\"endlinecolor\":\"#2a3f5f\",\"gridcolor\":\"#C8D4E3\",\"linecolor\":\"#C8D4E3\",\"minorgridcolor\":\"#C8D4E3\",\"startlinecolor\":\"#2a3f5f\"},\"type\":\"carpet\"}],\"choropleth\":[{\"colorbar\":{\"outlinewidth\":0,\"ticks\":\"\"},\"type\":\"choropleth\"}],\"contourcarpet\":[{\"colorbar\":{\"outlinewidth\":0,\"ticks\":\"\"},\"type\":\"contourcarpet\"}],\"contour\":[{\"colorbar\":{\"outlinewidth\":0,\"ticks\":\"\"},\"colorscale\":[[0.0,\"#0d0887\"],[0.1111111111111111,\"#46039f\"],[0.2222222222222222,\"#7201a8\"],[0.3333333333333333,\"#9c179e\"],[0.4444444444444444,\"#bd3786\"],[0.5555555555555556,\"#d8576b\"],[0.6666666666666666,\"#ed7953\"],[0.7777777777777778,\"#fb9f3a\"],[0.8888888888888888,\"#fdca26\"],[1.0,\"#f0f921\"]],\"type\":\"contour\"}],\"heatmapgl\":[{\"colorbar\":{\"outlinewidth\":0,\"ticks\":\"\"},\"colorscale\":[[0.0,\"#0d0887\"],[0.1111111111111111,\"#46039f\"],[0.2222222222222222,\"#7201a8\"],[0.3333333333333333,\"#9c179e\"],[0.4444444444444444,\"#bd3786\"],[0.5555555555555556,\"#d8576b\"],[0.6666666666666666,\"#ed7953\"],[0.7777777777777778,\"#fb9f3a\"],[0.8888888888888888,\"#fdca26\"],[1.0,\"#f0f921\"]],\"type\":\"heatmapgl\"}],\"heatmap\":[{\"colorbar\":{\"outlinewidth\":0,\"ticks\":\"\"},\"colorscale\":[[0.0,\"#0d0887\"],[0.1111111111111111,\"#46039f\"],[0.2222222222222222,\"#7201a8\"],[0.3333333333333333,\"#9c179e\"],[0.4444444444444444,\"#bd3786\"],[0.5555555555555556,\"#d8576b\"],[0.6666666666666666,\"#ed7953\"],[0.7777777777777778,\"#fb9f3a\"],[0.8888888888888888,\"#fdca26\"],[1.0,\"#f0f921\"]],\"type\":\"heatmap\"}],\"histogram2dcontour\":[{\"colorbar\":{\"outlinewidth\":0,\"ticks\":\"\"},\"colorscale\":[[0.0,\"#0d0887\"],[0.1111111111111111,\"#46039f\"],[0.2222222222222222,\"#7201a8\"],[0.3333333333333333,\"#9c179e\"],[0.4444444444444444,\"#bd3786\"],[0.5555555555555556,\"#d8576b\"],[0.6666666666666666,\"#ed7953\"],[0.7777777777777778,\"#fb9f3a\"],[0.8888888888888888,\"#fdca26\"],[1.0,\"#f0f921\"]],\"type\":\"histogram2dcontour\"}],\"histogram2d\":[{\"colorbar\":{\"outlinewidth\":0,\"ticks\":\"\"},\"colorscale\":[[0.0,\"#0d0887\"],[0.1111111111111111,\"#46039f\"],[0.2222222222222222,\"#7201a8\"],[0.3333333333333333,\"#9c179e\"],[0.4444444444444444,\"#bd3786\"],[0.5555555555555556,\"#d8576b\"],[0.6666666666666666,\"#ed7953\"],[0.7777777777777778,\"#fb9f3a\"],[0.8888888888888888,\"#fdca26\"],[1.0,\"#f0f921\"]],\"type\":\"histogram2d\"}],\"histogram\":[{\"marker\":{\"pattern\":{\"fillmode\":\"overlay\",\"size\":10,\"solidity\":0.2}},\"type\":\"histogram\"}],\"mesh3d\":[{\"colorbar\":{\"outlinewidth\":0,\"ticks\":\"\"},\"type\":\"mesh3d\"}],\"parcoords\":[{\"line\":{\"colorbar\":{\"outlinewidth\":0,\"ticks\":\"\"}},\"type\":\"parcoords\"}],\"pie\":[{\"automargin\":true,\"type\":\"pie\"}],\"scatter3d\":[{\"line\":{\"colorbar\":{\"outlinewidth\":0,\"ticks\":\"\"}},\"marker\":{\"colorbar\":{\"outlinewidth\":0,\"ticks\":\"\"}},\"type\":\"scatter3d\"}],\"scattercarpet\":[{\"marker\":{\"colorbar\":{\"outlinewidth\":0,\"ticks\":\"\"}},\"type\":\"scattercarpet\"}],\"scattergeo\":[{\"marker\":{\"colorbar\":{\"outlinewidth\":0,\"ticks\":\"\"}},\"type\":\"scattergeo\"}],\"scattergl\":[{\"marker\":{\"colorbar\":{\"outlinewidth\":0,\"ticks\":\"\"}},\"type\":\"scattergl\"}],\"scattermapbox\":[{\"marker\":{\"colorbar\":{\"outlinewidth\":0,\"ticks\":\"\"}},\"type\":\"scattermapbox\"}],\"scatterpolargl\":[{\"marker\":{\"colorbar\":{\"outlinewidth\":0,\"ticks\":\"\"}},\"type\":\"scatterpolargl\"}],\"scatterpolar\":[{\"marker\":{\"colorbar\":{\"outlinewidth\":0,\"ticks\":\"\"}},\"type\":\"scatterpolar\"}],\"scatter\":[{\"fillpattern\":{\"fillmode\":\"overlay\",\"size\":10,\"solidity\":0.2},\"type\":\"scatter\"}],\"scatterternary\":[{\"marker\":{\"colorbar\":{\"outlinewidth\":0,\"ticks\":\"\"}},\"type\":\"scatterternary\"}],\"surface\":[{\"colorbar\":{\"outlinewidth\":0,\"ticks\":\"\"},\"colorscale\":[[0.0,\"#0d0887\"],[0.1111111111111111,\"#46039f\"],[0.2222222222222222,\"#7201a8\"],[0.3333333333333333,\"#9c179e\"],[0.4444444444444444,\"#bd3786\"],[0.5555555555555556,\"#d8576b\"],[0.6666666666666666,\"#ed7953\"],[0.7777777777777778,\"#fb9f3a\"],[0.8888888888888888,\"#fdca26\"],[1.0,\"#f0f921\"]],\"type\":\"surface\"}],\"table\":[{\"cells\":{\"fill\":{\"color\":\"#EBF0F8\"},\"line\":{\"color\":\"white\"}},\"header\":{\"fill\":{\"color\":\"#C8D4E3\"},\"line\":{\"color\":\"white\"}},\"type\":\"table\"}]},\"layout\":{\"annotationdefaults\":{\"arrowcolor\":\"#2a3f5f\",\"arrowhead\":0,\"arrowwidth\":1},\"autotypenumbers\":\"strict\",\"coloraxis\":{\"colorbar\":{\"outlinewidth\":0,\"ticks\":\"\"}},\"colorscale\":{\"diverging\":[[0,\"#8e0152\"],[0.1,\"#c51b7d\"],[0.2,\"#de77ae\"],[0.3,\"#f1b6da\"],[0.4,\"#fde0ef\"],[0.5,\"#f7f7f7\"],[0.6,\"#e6f5d0\"],[0.7,\"#b8e186\"],[0.8,\"#7fbc41\"],[0.9,\"#4d9221\"],[1,\"#276419\"]],\"sequential\":[[0.0,\"#0d0887\"],[0.1111111111111111,\"#46039f\"],[0.2222222222222222,\"#7201a8\"],[0.3333333333333333,\"#9c179e\"],[0.4444444444444444,\"#bd3786\"],[0.5555555555555556,\"#d8576b\"],[0.6666666666666666,\"#ed7953\"],[0.7777777777777778,\"#fb9f3a\"],[0.8888888888888888,\"#fdca26\"],[1.0,\"#f0f921\"]],\"sequentialminus\":[[0.0,\"#0d0887\"],[0.1111111111111111,\"#46039f\"],[0.2222222222222222,\"#7201a8\"],[0.3333333333333333,\"#9c179e\"],[0.4444444444444444,\"#bd3786\"],[0.5555555555555556,\"#d8576b\"],[0.6666666666666666,\"#ed7953\"],[0.7777777777777778,\"#fb9f3a\"],[0.8888888888888888,\"#fdca26\"],[1.0,\"#f0f921\"]]},\"colorway\":[\"#636efa\",\"#EF553B\",\"#00cc96\",\"#ab63fa\",\"#FFA15A\",\"#19d3f3\",\"#FF6692\",\"#B6E880\",\"#FF97FF\",\"#FECB52\"],\"font\":{\"color\":\"#2a3f5f\"},\"geo\":{\"bgcolor\":\"white\",\"lakecolor\":\"white\",\"landcolor\":\"white\",\"showlakes\":true,\"showland\":true,\"subunitcolor\":\"#C8D4E3\"},\"hoverlabel\":{\"align\":\"left\"},\"hovermode\":\"closest\",\"mapbox\":{\"style\":\"light\"},\"paper_bgcolor\":\"white\",\"plot_bgcolor\":\"white\",\"polar\":{\"angularaxis\":{\"gridcolor\":\"#EBF0F8\",\"linecolor\":\"#EBF0F8\",\"ticks\":\"\"},\"bgcolor\":\"white\",\"radialaxis\":{\"gridcolor\":\"#EBF0F8\",\"linecolor\":\"#EBF0F8\",\"ticks\":\"\"}},\"scene\":{\"xaxis\":{\"backgroundcolor\":\"white\",\"gridcolor\":\"#DFE8F3\",\"gridwidth\":2,\"linecolor\":\"#EBF0F8\",\"showbackground\":true,\"ticks\":\"\",\"zerolinecolor\":\"#EBF0F8\"},\"yaxis\":{\"backgroundcolor\":\"white\",\"gridcolor\":\"#DFE8F3\",\"gridwidth\":2,\"linecolor\":\"#EBF0F8\",\"showbackground\":true,\"ticks\":\"\",\"zerolinecolor\":\"#EBF0F8\"},\"zaxis\":{\"backgroundcolor\":\"white\",\"gridcolor\":\"#DFE8F3\",\"gridwidth\":2,\"linecolor\":\"#EBF0F8\",\"showbackground\":true,\"ticks\":\"\",\"zerolinecolor\":\"#EBF0F8\"}},\"shapedefaults\":{\"line\":{\"color\":\"#2a3f5f\"}},\"ternary\":{\"aaxis\":{\"gridcolor\":\"#DFE8F3\",\"linecolor\":\"#A2B1C6\",\"ticks\":\"\"},\"baxis\":{\"gridcolor\":\"#DFE8F3\",\"linecolor\":\"#A2B1C6\",\"ticks\":\"\"},\"bgcolor\":\"white\",\"caxis\":{\"gridcolor\":\"#DFE8F3\",\"linecolor\":\"#A2B1C6\",\"ticks\":\"\"}},\"title\":{\"x\":0.05},\"xaxis\":{\"automargin\":true,\"gridcolor\":\"#EBF0F8\",\"linecolor\":\"#EBF0F8\",\"ticks\":\"\",\"title\":{\"standoff\":15},\"zerolinecolor\":\"#EBF0F8\",\"zerolinewidth\":2},\"yaxis\":{\"automargin\":true,\"gridcolor\":\"#EBF0F8\",\"linecolor\":\"#EBF0F8\",\"ticks\":\"\",\"title\":{\"standoff\":15},\"zerolinecolor\":\"#EBF0F8\",\"zerolinewidth\":2}}},\"xaxis\":{\"anchor\":\"y\",\"domain\":[0.0,1.0],\"title\":{\"text\":\"Length of shared initial commitments<br><span style='color:DarkGray'>(Number of groups, Group size)<span>\"},\"showticklabels\":true,\"tickvals\":[0,1,2,3,4,5,6,7],\"ticktext\":[\"0<br><span style='color:DarkGray'>(1, 536)<span>\",\"1<br><span style='color:DarkGray'>(6, 187)<span>\",\"2<br><span style='color:DarkGray'>(23, 81)<span>\",\"3<br><span style='color:DarkGray'>(59, 31)<span>\",\"4<br><span style='color:DarkGray'>(137, 13)<span>\",\"5<br><span style='color:DarkGray'>(165, 6)<span>\",\"6<br><span style='color:DarkGray'>(128, 3)<span>\",\"7<br><span style='color:DarkGray'>(54, 1)<span>\"]},\"yaxis\":{\"anchor\":\"x\",\"domain\":[0.0,1.0],\"title\":{\"text\":\"Mean relative share\"},\"showticklabels\":true,\"range\":[0,1.05]},\"legend\":{\"tracegroupgap\":0,\"title\":{\"text\":\"\"},\"orientation\":\"h\",\"yanchor\":\"bottom\",\"y\":1.02,\"xanchor\":\"left\",\"x\":-0.005},\"margin\":{\"t\":60,\"b\":110},\"barmode\":\"group\"},                        {\"responsive\": true}                    ).then(function(){\n",
       "                            \n",
       "var gd = document.getElementById('aebbe0cb-f34a-4c88-a0bd-4e33378f2238');\n",
       "var x = new MutationObserver(function (mutations, observer) {{\n",
       "        var display = window.getComputedStyle(gd).display;\n",
       "        if (!display || display === 'none') {{\n",
       "            console.log([gd, 'removed!']);\n",
       "            Plotly.purge(gd);\n",
       "            observer.disconnect();\n",
       "        }}\n",
       "}});\n",
       "\n",
       "// Listen for the removal of the full notebook cells\n",
       "var notebookContainer = gd.closest('#notebook-container');\n",
       "if (notebookContainer) {{\n",
       "    x.observe(notebookContainer, {childList: true});\n",
       "}}\n",
       "\n",
       "// Listen for the clearing of the current output cell\n",
       "var outputEl = gd.closest('.output');\n",
       "if (outputEl) {{\n",
       "    x.observe(outputEl, {childList: true});\n",
       "}}\n",
       "\n",
       "                        })                };                });            </script>        </div>"
      ]
     },
     "metadata": {},
     "output_type": "display_data"
    },
    {
     "name": "stdout",
     "output_type": "stream",
     "text": [
      "(0.55, 0.2, 0.25)\n"
     ]
    },
    {
     "data": {
      "application/vnd.plotly.v1+json": {
       "config": {
        "plotlyServerURL": "https://plot.ly"
       },
       "data": [
        {
         "alignmentgroup": "True",
         "hovertemplate": "len_shared_init_coms=%{x}<br>anything_goes=%{y}<extra></extra>",
         "legendgroup": "",
         "marker": {
          "color": "#29ae80",
          "pattern": {
           "shape": ""
          }
         },
         "name": "Groups of non-trivial full RE fixed points covering the entire sentence pool",
         "offsetgroup": "",
         "orientation": "v",
         "showlegend": true,
         "textposition": "auto",
         "texttemplate": "%{y}",
         "type": "bar",
         "x": [
          0,
          1,
          2,
          3,
          4,
          5,
          6,
          7
         ],
         "xaxis": "x",
         "y": [
          1,
          1,
          0.44,
          0.05,
          0,
          0,
          0,
          0
         ],
         "yaxis": "y"
        }
       ],
       "layout": {
        "barmode": "group",
        "legend": {
         "orientation": "h",
         "title": {
          "text": ""
         },
         "tracegroupgap": 0,
         "x": -0.005,
         "xanchor": "left",
         "y": 1.02,
         "yanchor": "bottom"
        },
        "margin": {
         "b": 110,
         "t": 60
        },
        "template": {
         "data": {
          "bar": [
           {
            "error_x": {
             "color": "#2a3f5f"
            },
            "error_y": {
             "color": "#2a3f5f"
            },
            "marker": {
             "line": {
              "color": "white",
              "width": 0.5
             },
             "pattern": {
              "fillmode": "overlay",
              "size": 10,
              "solidity": 0.2
             }
            },
            "type": "bar"
           }
          ],
          "barpolar": [
           {
            "marker": {
             "line": {
              "color": "white",
              "width": 0.5
             },
             "pattern": {
              "fillmode": "overlay",
              "size": 10,
              "solidity": 0.2
             }
            },
            "type": "barpolar"
           }
          ],
          "carpet": [
           {
            "aaxis": {
             "endlinecolor": "#2a3f5f",
             "gridcolor": "#C8D4E3",
             "linecolor": "#C8D4E3",
             "minorgridcolor": "#C8D4E3",
             "startlinecolor": "#2a3f5f"
            },
            "baxis": {
             "endlinecolor": "#2a3f5f",
             "gridcolor": "#C8D4E3",
             "linecolor": "#C8D4E3",
             "minorgridcolor": "#C8D4E3",
             "startlinecolor": "#2a3f5f"
            },
            "type": "carpet"
           }
          ],
          "choropleth": [
           {
            "colorbar": {
             "outlinewidth": 0,
             "ticks": ""
            },
            "type": "choropleth"
           }
          ],
          "contour": [
           {
            "colorbar": {
             "outlinewidth": 0,
             "ticks": ""
            },
            "colorscale": [
             [
              0,
              "#0d0887"
             ],
             [
              0.1111111111111111,
              "#46039f"
             ],
             [
              0.2222222222222222,
              "#7201a8"
             ],
             [
              0.3333333333333333,
              "#9c179e"
             ],
             [
              0.4444444444444444,
              "#bd3786"
             ],
             [
              0.5555555555555556,
              "#d8576b"
             ],
             [
              0.6666666666666666,
              "#ed7953"
             ],
             [
              0.7777777777777778,
              "#fb9f3a"
             ],
             [
              0.8888888888888888,
              "#fdca26"
             ],
             [
              1,
              "#f0f921"
             ]
            ],
            "type": "contour"
           }
          ],
          "contourcarpet": [
           {
            "colorbar": {
             "outlinewidth": 0,
             "ticks": ""
            },
            "type": "contourcarpet"
           }
          ],
          "heatmap": [
           {
            "colorbar": {
             "outlinewidth": 0,
             "ticks": ""
            },
            "colorscale": [
             [
              0,
              "#0d0887"
             ],
             [
              0.1111111111111111,
              "#46039f"
             ],
             [
              0.2222222222222222,
              "#7201a8"
             ],
             [
              0.3333333333333333,
              "#9c179e"
             ],
             [
              0.4444444444444444,
              "#bd3786"
             ],
             [
              0.5555555555555556,
              "#d8576b"
             ],
             [
              0.6666666666666666,
              "#ed7953"
             ],
             [
              0.7777777777777778,
              "#fb9f3a"
             ],
             [
              0.8888888888888888,
              "#fdca26"
             ],
             [
              1,
              "#f0f921"
             ]
            ],
            "type": "heatmap"
           }
          ],
          "heatmapgl": [
           {
            "colorbar": {
             "outlinewidth": 0,
             "ticks": ""
            },
            "colorscale": [
             [
              0,
              "#0d0887"
             ],
             [
              0.1111111111111111,
              "#46039f"
             ],
             [
              0.2222222222222222,
              "#7201a8"
             ],
             [
              0.3333333333333333,
              "#9c179e"
             ],
             [
              0.4444444444444444,
              "#bd3786"
             ],
             [
              0.5555555555555556,
              "#d8576b"
             ],
             [
              0.6666666666666666,
              "#ed7953"
             ],
             [
              0.7777777777777778,
              "#fb9f3a"
             ],
             [
              0.8888888888888888,
              "#fdca26"
             ],
             [
              1,
              "#f0f921"
             ]
            ],
            "type": "heatmapgl"
           }
          ],
          "histogram": [
           {
            "marker": {
             "pattern": {
              "fillmode": "overlay",
              "size": 10,
              "solidity": 0.2
             }
            },
            "type": "histogram"
           }
          ],
          "histogram2d": [
           {
            "colorbar": {
             "outlinewidth": 0,
             "ticks": ""
            },
            "colorscale": [
             [
              0,
              "#0d0887"
             ],
             [
              0.1111111111111111,
              "#46039f"
             ],
             [
              0.2222222222222222,
              "#7201a8"
             ],
             [
              0.3333333333333333,
              "#9c179e"
             ],
             [
              0.4444444444444444,
              "#bd3786"
             ],
             [
              0.5555555555555556,
              "#d8576b"
             ],
             [
              0.6666666666666666,
              "#ed7953"
             ],
             [
              0.7777777777777778,
              "#fb9f3a"
             ],
             [
              0.8888888888888888,
              "#fdca26"
             ],
             [
              1,
              "#f0f921"
             ]
            ],
            "type": "histogram2d"
           }
          ],
          "histogram2dcontour": [
           {
            "colorbar": {
             "outlinewidth": 0,
             "ticks": ""
            },
            "colorscale": [
             [
              0,
              "#0d0887"
             ],
             [
              0.1111111111111111,
              "#46039f"
             ],
             [
              0.2222222222222222,
              "#7201a8"
             ],
             [
              0.3333333333333333,
              "#9c179e"
             ],
             [
              0.4444444444444444,
              "#bd3786"
             ],
             [
              0.5555555555555556,
              "#d8576b"
             ],
             [
              0.6666666666666666,
              "#ed7953"
             ],
             [
              0.7777777777777778,
              "#fb9f3a"
             ],
             [
              0.8888888888888888,
              "#fdca26"
             ],
             [
              1,
              "#f0f921"
             ]
            ],
            "type": "histogram2dcontour"
           }
          ],
          "mesh3d": [
           {
            "colorbar": {
             "outlinewidth": 0,
             "ticks": ""
            },
            "type": "mesh3d"
           }
          ],
          "parcoords": [
           {
            "line": {
             "colorbar": {
              "outlinewidth": 0,
              "ticks": ""
             }
            },
            "type": "parcoords"
           }
          ],
          "pie": [
           {
            "automargin": true,
            "type": "pie"
           }
          ],
          "scatter": [
           {
            "fillpattern": {
             "fillmode": "overlay",
             "size": 10,
             "solidity": 0.2
            },
            "type": "scatter"
           }
          ],
          "scatter3d": [
           {
            "line": {
             "colorbar": {
              "outlinewidth": 0,
              "ticks": ""
             }
            },
            "marker": {
             "colorbar": {
              "outlinewidth": 0,
              "ticks": ""
             }
            },
            "type": "scatter3d"
           }
          ],
          "scattercarpet": [
           {
            "marker": {
             "colorbar": {
              "outlinewidth": 0,
              "ticks": ""
             }
            },
            "type": "scattercarpet"
           }
          ],
          "scattergeo": [
           {
            "marker": {
             "colorbar": {
              "outlinewidth": 0,
              "ticks": ""
             }
            },
            "type": "scattergeo"
           }
          ],
          "scattergl": [
           {
            "marker": {
             "colorbar": {
              "outlinewidth": 0,
              "ticks": ""
             }
            },
            "type": "scattergl"
           }
          ],
          "scattermapbox": [
           {
            "marker": {
             "colorbar": {
              "outlinewidth": 0,
              "ticks": ""
             }
            },
            "type": "scattermapbox"
           }
          ],
          "scatterpolar": [
           {
            "marker": {
             "colorbar": {
              "outlinewidth": 0,
              "ticks": ""
             }
            },
            "type": "scatterpolar"
           }
          ],
          "scatterpolargl": [
           {
            "marker": {
             "colorbar": {
              "outlinewidth": 0,
              "ticks": ""
             }
            },
            "type": "scatterpolargl"
           }
          ],
          "scatterternary": [
           {
            "marker": {
             "colorbar": {
              "outlinewidth": 0,
              "ticks": ""
             }
            },
            "type": "scatterternary"
           }
          ],
          "surface": [
           {
            "colorbar": {
             "outlinewidth": 0,
             "ticks": ""
            },
            "colorscale": [
             [
              0,
              "#0d0887"
             ],
             [
              0.1111111111111111,
              "#46039f"
             ],
             [
              0.2222222222222222,
              "#7201a8"
             ],
             [
              0.3333333333333333,
              "#9c179e"
             ],
             [
              0.4444444444444444,
              "#bd3786"
             ],
             [
              0.5555555555555556,
              "#d8576b"
             ],
             [
              0.6666666666666666,
              "#ed7953"
             ],
             [
              0.7777777777777778,
              "#fb9f3a"
             ],
             [
              0.8888888888888888,
              "#fdca26"
             ],
             [
              1,
              "#f0f921"
             ]
            ],
            "type": "surface"
           }
          ],
          "table": [
           {
            "cells": {
             "fill": {
              "color": "#EBF0F8"
             },
             "line": {
              "color": "white"
             }
            },
            "header": {
             "fill": {
              "color": "#C8D4E3"
             },
             "line": {
              "color": "white"
             }
            },
            "type": "table"
           }
          ]
         },
         "layout": {
          "annotationdefaults": {
           "arrowcolor": "#2a3f5f",
           "arrowhead": 0,
           "arrowwidth": 1
          },
          "autotypenumbers": "strict",
          "coloraxis": {
           "colorbar": {
            "outlinewidth": 0,
            "ticks": ""
           }
          },
          "colorscale": {
           "diverging": [
            [
             0,
             "#8e0152"
            ],
            [
             0.1,
             "#c51b7d"
            ],
            [
             0.2,
             "#de77ae"
            ],
            [
             0.3,
             "#f1b6da"
            ],
            [
             0.4,
             "#fde0ef"
            ],
            [
             0.5,
             "#f7f7f7"
            ],
            [
             0.6,
             "#e6f5d0"
            ],
            [
             0.7,
             "#b8e186"
            ],
            [
             0.8,
             "#7fbc41"
            ],
            [
             0.9,
             "#4d9221"
            ],
            [
             1,
             "#276419"
            ]
           ],
           "sequential": [
            [
             0,
             "#0d0887"
            ],
            [
             0.1111111111111111,
             "#46039f"
            ],
            [
             0.2222222222222222,
             "#7201a8"
            ],
            [
             0.3333333333333333,
             "#9c179e"
            ],
            [
             0.4444444444444444,
             "#bd3786"
            ],
            [
             0.5555555555555556,
             "#d8576b"
            ],
            [
             0.6666666666666666,
             "#ed7953"
            ],
            [
             0.7777777777777778,
             "#fb9f3a"
            ],
            [
             0.8888888888888888,
             "#fdca26"
            ],
            [
             1,
             "#f0f921"
            ]
           ],
           "sequentialminus": [
            [
             0,
             "#0d0887"
            ],
            [
             0.1111111111111111,
             "#46039f"
            ],
            [
             0.2222222222222222,
             "#7201a8"
            ],
            [
             0.3333333333333333,
             "#9c179e"
            ],
            [
             0.4444444444444444,
             "#bd3786"
            ],
            [
             0.5555555555555556,
             "#d8576b"
            ],
            [
             0.6666666666666666,
             "#ed7953"
            ],
            [
             0.7777777777777778,
             "#fb9f3a"
            ],
            [
             0.8888888888888888,
             "#fdca26"
            ],
            [
             1,
             "#f0f921"
            ]
           ]
          },
          "colorway": [
           "#636efa",
           "#EF553B",
           "#00cc96",
           "#ab63fa",
           "#FFA15A",
           "#19d3f3",
           "#FF6692",
           "#B6E880",
           "#FF97FF",
           "#FECB52"
          ],
          "font": {
           "color": "#2a3f5f"
          },
          "geo": {
           "bgcolor": "white",
           "lakecolor": "white",
           "landcolor": "white",
           "showlakes": true,
           "showland": true,
           "subunitcolor": "#C8D4E3"
          },
          "hoverlabel": {
           "align": "left"
          },
          "hovermode": "closest",
          "mapbox": {
           "style": "light"
          },
          "paper_bgcolor": "white",
          "plot_bgcolor": "white",
          "polar": {
           "angularaxis": {
            "gridcolor": "#EBF0F8",
            "linecolor": "#EBF0F8",
            "ticks": ""
           },
           "bgcolor": "white",
           "radialaxis": {
            "gridcolor": "#EBF0F8",
            "linecolor": "#EBF0F8",
            "ticks": ""
           }
          },
          "scene": {
           "xaxis": {
            "backgroundcolor": "white",
            "gridcolor": "#DFE8F3",
            "gridwidth": 2,
            "linecolor": "#EBF0F8",
            "showbackground": true,
            "ticks": "",
            "zerolinecolor": "#EBF0F8"
           },
           "yaxis": {
            "backgroundcolor": "white",
            "gridcolor": "#DFE8F3",
            "gridwidth": 2,
            "linecolor": "#EBF0F8",
            "showbackground": true,
            "ticks": "",
            "zerolinecolor": "#EBF0F8"
           },
           "zaxis": {
            "backgroundcolor": "white",
            "gridcolor": "#DFE8F3",
            "gridwidth": 2,
            "linecolor": "#EBF0F8",
            "showbackground": true,
            "ticks": "",
            "zerolinecolor": "#EBF0F8"
           }
          },
          "shapedefaults": {
           "line": {
            "color": "#2a3f5f"
           }
          },
          "ternary": {
           "aaxis": {
            "gridcolor": "#DFE8F3",
            "linecolor": "#A2B1C6",
            "ticks": ""
           },
           "baxis": {
            "gridcolor": "#DFE8F3",
            "linecolor": "#A2B1C6",
            "ticks": ""
           },
           "bgcolor": "white",
           "caxis": {
            "gridcolor": "#DFE8F3",
            "linecolor": "#A2B1C6",
            "ticks": ""
           }
          },
          "title": {
           "x": 0.05
          },
          "xaxis": {
           "automargin": true,
           "gridcolor": "#EBF0F8",
           "linecolor": "#EBF0F8",
           "ticks": "",
           "title": {
            "standoff": 15
           },
           "zerolinecolor": "#EBF0F8",
           "zerolinewidth": 2
          },
          "yaxis": {
           "automargin": true,
           "gridcolor": "#EBF0F8",
           "linecolor": "#EBF0F8",
           "ticks": "",
           "title": {
            "standoff": 15
           },
           "zerolinecolor": "#EBF0F8",
           "zerolinewidth": 2
          }
         }
        },
        "xaxis": {
         "anchor": "y",
         "domain": [
          0,
          1
         ],
         "showticklabels": true,
         "ticktext": [
          "0<br><span style='color:DarkGray'>(1, 1044)<span>",
          "1<br><span style='color:DarkGray'>(6, 330)<span>",
          "2<br><span style='color:DarkGray'>(23, 112)<span>",
          "3<br><span style='color:DarkGray'>(132, 38)<span>",
          "4<br><span style='color:DarkGray'>(305, 12)<span>",
          "5<br><span style='color:DarkGray'>(356, 4)<span>",
          "6<br><span style='color:DarkGray'>(193, 2)<span>",
          "7<br><span style='color:DarkGray'>(40, 1)<span>"
         ],
         "tickvals": [
          0,
          1,
          2,
          3,
          4,
          5,
          6,
          7
         ],
         "title": {
          "text": "Length of shared initial commitments<br><span style='color:DarkGray'>(Number of groups, Group size)<span>"
         }
        },
        "yaxis": {
         "anchor": "x",
         "domain": [
          0,
          1
         ],
         "range": [
          0,
          1.05
         ],
         "showticklabels": true,
         "title": {
          "text": "Mean relative share"
         }
        }
       }
      },
      "text/html": [
       "<div>                            <div id=\"c01a680b-203e-4f68-8b07-548cea46d909\" class=\"plotly-graph-div\" style=\"height:525px; width:100%;\"></div>            <script type=\"text/javascript\">                require([\"plotly\"], function(Plotly) {                    window.PLOTLYENV=window.PLOTLYENV || {};                                    if (document.getElementById(\"c01a680b-203e-4f68-8b07-548cea46d909\")) {                    Plotly.newPlot(                        \"c01a680b-203e-4f68-8b07-548cea46d909\",                        [{\"alignmentgroup\":\"True\",\"hovertemplate\":\"len_shared_init_coms=%{x}<br>anything_goes=%{y}<extra></extra>\",\"legendgroup\":\"\",\"marker\":{\"color\":\"#29ae80\",\"pattern\":{\"shape\":\"\"}},\"name\":\"Groups of non-trivial full RE fixed points covering the entire sentence pool\",\"offsetgroup\":\"\",\"orientation\":\"v\",\"showlegend\":true,\"textposition\":\"auto\",\"texttemplate\":\"%{y}\",\"x\":[0,1,2,3,4,5,6,7],\"xaxis\":\"x\",\"y\":[1.0,1.0,0.44,0.05,0.0,0.0,0.0,0.0],\"yaxis\":\"y\",\"type\":\"bar\"}],                        {\"template\":{\"data\":{\"barpolar\":[{\"marker\":{\"line\":{\"color\":\"white\",\"width\":0.5},\"pattern\":{\"fillmode\":\"overlay\",\"size\":10,\"solidity\":0.2}},\"type\":\"barpolar\"}],\"bar\":[{\"error_x\":{\"color\":\"#2a3f5f\"},\"error_y\":{\"color\":\"#2a3f5f\"},\"marker\":{\"line\":{\"color\":\"white\",\"width\":0.5},\"pattern\":{\"fillmode\":\"overlay\",\"size\":10,\"solidity\":0.2}},\"type\":\"bar\"}],\"carpet\":[{\"aaxis\":{\"endlinecolor\":\"#2a3f5f\",\"gridcolor\":\"#C8D4E3\",\"linecolor\":\"#C8D4E3\",\"minorgridcolor\":\"#C8D4E3\",\"startlinecolor\":\"#2a3f5f\"},\"baxis\":{\"endlinecolor\":\"#2a3f5f\",\"gridcolor\":\"#C8D4E3\",\"linecolor\":\"#C8D4E3\",\"minorgridcolor\":\"#C8D4E3\",\"startlinecolor\":\"#2a3f5f\"},\"type\":\"carpet\"}],\"choropleth\":[{\"colorbar\":{\"outlinewidth\":0,\"ticks\":\"\"},\"type\":\"choropleth\"}],\"contourcarpet\":[{\"colorbar\":{\"outlinewidth\":0,\"ticks\":\"\"},\"type\":\"contourcarpet\"}],\"contour\":[{\"colorbar\":{\"outlinewidth\":0,\"ticks\":\"\"},\"colorscale\":[[0.0,\"#0d0887\"],[0.1111111111111111,\"#46039f\"],[0.2222222222222222,\"#7201a8\"],[0.3333333333333333,\"#9c179e\"],[0.4444444444444444,\"#bd3786\"],[0.5555555555555556,\"#d8576b\"],[0.6666666666666666,\"#ed7953\"],[0.7777777777777778,\"#fb9f3a\"],[0.8888888888888888,\"#fdca26\"],[1.0,\"#f0f921\"]],\"type\":\"contour\"}],\"heatmapgl\":[{\"colorbar\":{\"outlinewidth\":0,\"ticks\":\"\"},\"colorscale\":[[0.0,\"#0d0887\"],[0.1111111111111111,\"#46039f\"],[0.2222222222222222,\"#7201a8\"],[0.3333333333333333,\"#9c179e\"],[0.4444444444444444,\"#bd3786\"],[0.5555555555555556,\"#d8576b\"],[0.6666666666666666,\"#ed7953\"],[0.7777777777777778,\"#fb9f3a\"],[0.8888888888888888,\"#fdca26\"],[1.0,\"#f0f921\"]],\"type\":\"heatmapgl\"}],\"heatmap\":[{\"colorbar\":{\"outlinewidth\":0,\"ticks\":\"\"},\"colorscale\":[[0.0,\"#0d0887\"],[0.1111111111111111,\"#46039f\"],[0.2222222222222222,\"#7201a8\"],[0.3333333333333333,\"#9c179e\"],[0.4444444444444444,\"#bd3786\"],[0.5555555555555556,\"#d8576b\"],[0.6666666666666666,\"#ed7953\"],[0.7777777777777778,\"#fb9f3a\"],[0.8888888888888888,\"#fdca26\"],[1.0,\"#f0f921\"]],\"type\":\"heatmap\"}],\"histogram2dcontour\":[{\"colorbar\":{\"outlinewidth\":0,\"ticks\":\"\"},\"colorscale\":[[0.0,\"#0d0887\"],[0.1111111111111111,\"#46039f\"],[0.2222222222222222,\"#7201a8\"],[0.3333333333333333,\"#9c179e\"],[0.4444444444444444,\"#bd3786\"],[0.5555555555555556,\"#d8576b\"],[0.6666666666666666,\"#ed7953\"],[0.7777777777777778,\"#fb9f3a\"],[0.8888888888888888,\"#fdca26\"],[1.0,\"#f0f921\"]],\"type\":\"histogram2dcontour\"}],\"histogram2d\":[{\"colorbar\":{\"outlinewidth\":0,\"ticks\":\"\"},\"colorscale\":[[0.0,\"#0d0887\"],[0.1111111111111111,\"#46039f\"],[0.2222222222222222,\"#7201a8\"],[0.3333333333333333,\"#9c179e\"],[0.4444444444444444,\"#bd3786\"],[0.5555555555555556,\"#d8576b\"],[0.6666666666666666,\"#ed7953\"],[0.7777777777777778,\"#fb9f3a\"],[0.8888888888888888,\"#fdca26\"],[1.0,\"#f0f921\"]],\"type\":\"histogram2d\"}],\"histogram\":[{\"marker\":{\"pattern\":{\"fillmode\":\"overlay\",\"size\":10,\"solidity\":0.2}},\"type\":\"histogram\"}],\"mesh3d\":[{\"colorbar\":{\"outlinewidth\":0,\"ticks\":\"\"},\"type\":\"mesh3d\"}],\"parcoords\":[{\"line\":{\"colorbar\":{\"outlinewidth\":0,\"ticks\":\"\"}},\"type\":\"parcoords\"}],\"pie\":[{\"automargin\":true,\"type\":\"pie\"}],\"scatter3d\":[{\"line\":{\"colorbar\":{\"outlinewidth\":0,\"ticks\":\"\"}},\"marker\":{\"colorbar\":{\"outlinewidth\":0,\"ticks\":\"\"}},\"type\":\"scatter3d\"}],\"scattercarpet\":[{\"marker\":{\"colorbar\":{\"outlinewidth\":0,\"ticks\":\"\"}},\"type\":\"scattercarpet\"}],\"scattergeo\":[{\"marker\":{\"colorbar\":{\"outlinewidth\":0,\"ticks\":\"\"}},\"type\":\"scattergeo\"}],\"scattergl\":[{\"marker\":{\"colorbar\":{\"outlinewidth\":0,\"ticks\":\"\"}},\"type\":\"scattergl\"}],\"scattermapbox\":[{\"marker\":{\"colorbar\":{\"outlinewidth\":0,\"ticks\":\"\"}},\"type\":\"scattermapbox\"}],\"scatterpolargl\":[{\"marker\":{\"colorbar\":{\"outlinewidth\":0,\"ticks\":\"\"}},\"type\":\"scatterpolargl\"}],\"scatterpolar\":[{\"marker\":{\"colorbar\":{\"outlinewidth\":0,\"ticks\":\"\"}},\"type\":\"scatterpolar\"}],\"scatter\":[{\"fillpattern\":{\"fillmode\":\"overlay\",\"size\":10,\"solidity\":0.2},\"type\":\"scatter\"}],\"scatterternary\":[{\"marker\":{\"colorbar\":{\"outlinewidth\":0,\"ticks\":\"\"}},\"type\":\"scatterternary\"}],\"surface\":[{\"colorbar\":{\"outlinewidth\":0,\"ticks\":\"\"},\"colorscale\":[[0.0,\"#0d0887\"],[0.1111111111111111,\"#46039f\"],[0.2222222222222222,\"#7201a8\"],[0.3333333333333333,\"#9c179e\"],[0.4444444444444444,\"#bd3786\"],[0.5555555555555556,\"#d8576b\"],[0.6666666666666666,\"#ed7953\"],[0.7777777777777778,\"#fb9f3a\"],[0.8888888888888888,\"#fdca26\"],[1.0,\"#f0f921\"]],\"type\":\"surface\"}],\"table\":[{\"cells\":{\"fill\":{\"color\":\"#EBF0F8\"},\"line\":{\"color\":\"white\"}},\"header\":{\"fill\":{\"color\":\"#C8D4E3\"},\"line\":{\"color\":\"white\"}},\"type\":\"table\"}]},\"layout\":{\"annotationdefaults\":{\"arrowcolor\":\"#2a3f5f\",\"arrowhead\":0,\"arrowwidth\":1},\"autotypenumbers\":\"strict\",\"coloraxis\":{\"colorbar\":{\"outlinewidth\":0,\"ticks\":\"\"}},\"colorscale\":{\"diverging\":[[0,\"#8e0152\"],[0.1,\"#c51b7d\"],[0.2,\"#de77ae\"],[0.3,\"#f1b6da\"],[0.4,\"#fde0ef\"],[0.5,\"#f7f7f7\"],[0.6,\"#e6f5d0\"],[0.7,\"#b8e186\"],[0.8,\"#7fbc41\"],[0.9,\"#4d9221\"],[1,\"#276419\"]],\"sequential\":[[0.0,\"#0d0887\"],[0.1111111111111111,\"#46039f\"],[0.2222222222222222,\"#7201a8\"],[0.3333333333333333,\"#9c179e\"],[0.4444444444444444,\"#bd3786\"],[0.5555555555555556,\"#d8576b\"],[0.6666666666666666,\"#ed7953\"],[0.7777777777777778,\"#fb9f3a\"],[0.8888888888888888,\"#fdca26\"],[1.0,\"#f0f921\"]],\"sequentialminus\":[[0.0,\"#0d0887\"],[0.1111111111111111,\"#46039f\"],[0.2222222222222222,\"#7201a8\"],[0.3333333333333333,\"#9c179e\"],[0.4444444444444444,\"#bd3786\"],[0.5555555555555556,\"#d8576b\"],[0.6666666666666666,\"#ed7953\"],[0.7777777777777778,\"#fb9f3a\"],[0.8888888888888888,\"#fdca26\"],[1.0,\"#f0f921\"]]},\"colorway\":[\"#636efa\",\"#EF553B\",\"#00cc96\",\"#ab63fa\",\"#FFA15A\",\"#19d3f3\",\"#FF6692\",\"#B6E880\",\"#FF97FF\",\"#FECB52\"],\"font\":{\"color\":\"#2a3f5f\"},\"geo\":{\"bgcolor\":\"white\",\"lakecolor\":\"white\",\"landcolor\":\"white\",\"showlakes\":true,\"showland\":true,\"subunitcolor\":\"#C8D4E3\"},\"hoverlabel\":{\"align\":\"left\"},\"hovermode\":\"closest\",\"mapbox\":{\"style\":\"light\"},\"paper_bgcolor\":\"white\",\"plot_bgcolor\":\"white\",\"polar\":{\"angularaxis\":{\"gridcolor\":\"#EBF0F8\",\"linecolor\":\"#EBF0F8\",\"ticks\":\"\"},\"bgcolor\":\"white\",\"radialaxis\":{\"gridcolor\":\"#EBF0F8\",\"linecolor\":\"#EBF0F8\",\"ticks\":\"\"}},\"scene\":{\"xaxis\":{\"backgroundcolor\":\"white\",\"gridcolor\":\"#DFE8F3\",\"gridwidth\":2,\"linecolor\":\"#EBF0F8\",\"showbackground\":true,\"ticks\":\"\",\"zerolinecolor\":\"#EBF0F8\"},\"yaxis\":{\"backgroundcolor\":\"white\",\"gridcolor\":\"#DFE8F3\",\"gridwidth\":2,\"linecolor\":\"#EBF0F8\",\"showbackground\":true,\"ticks\":\"\",\"zerolinecolor\":\"#EBF0F8\"},\"zaxis\":{\"backgroundcolor\":\"white\",\"gridcolor\":\"#DFE8F3\",\"gridwidth\":2,\"linecolor\":\"#EBF0F8\",\"showbackground\":true,\"ticks\":\"\",\"zerolinecolor\":\"#EBF0F8\"}},\"shapedefaults\":{\"line\":{\"color\":\"#2a3f5f\"}},\"ternary\":{\"aaxis\":{\"gridcolor\":\"#DFE8F3\",\"linecolor\":\"#A2B1C6\",\"ticks\":\"\"},\"baxis\":{\"gridcolor\":\"#DFE8F3\",\"linecolor\":\"#A2B1C6\",\"ticks\":\"\"},\"bgcolor\":\"white\",\"caxis\":{\"gridcolor\":\"#DFE8F3\",\"linecolor\":\"#A2B1C6\",\"ticks\":\"\"}},\"title\":{\"x\":0.05},\"xaxis\":{\"automargin\":true,\"gridcolor\":\"#EBF0F8\",\"linecolor\":\"#EBF0F8\",\"ticks\":\"\",\"title\":{\"standoff\":15},\"zerolinecolor\":\"#EBF0F8\",\"zerolinewidth\":2},\"yaxis\":{\"automargin\":true,\"gridcolor\":\"#EBF0F8\",\"linecolor\":\"#EBF0F8\",\"ticks\":\"\",\"title\":{\"standoff\":15},\"zerolinecolor\":\"#EBF0F8\",\"zerolinewidth\":2}}},\"xaxis\":{\"anchor\":\"y\",\"domain\":[0.0,1.0],\"title\":{\"text\":\"Length of shared initial commitments<br><span style='color:DarkGray'>(Number of groups, Group size)<span>\"},\"showticklabels\":true,\"tickvals\":[0,1,2,3,4,5,6,7],\"ticktext\":[\"0<br><span style='color:DarkGray'>(1, 1044)<span>\",\"1<br><span style='color:DarkGray'>(6, 330)<span>\",\"2<br><span style='color:DarkGray'>(23, 112)<span>\",\"3<br><span style='color:DarkGray'>(132, 38)<span>\",\"4<br><span style='color:DarkGray'>(305, 12)<span>\",\"5<br><span style='color:DarkGray'>(356, 4)<span>\",\"6<br><span style='color:DarkGray'>(193, 2)<span>\",\"7<br><span style='color:DarkGray'>(40, 1)<span>\"]},\"yaxis\":{\"anchor\":\"x\",\"domain\":[0.0,1.0],\"title\":{\"text\":\"Mean relative share\"},\"showticklabels\":true,\"range\":[0,1.05]},\"legend\":{\"tracegroupgap\":0,\"title\":{\"text\":\"\"},\"orientation\":\"h\",\"yanchor\":\"bottom\",\"y\":1.02,\"xanchor\":\"left\",\"x\":-0.005},\"margin\":{\"t\":60,\"b\":110},\"barmode\":\"group\"},                        {\"responsive\": true}                    ).then(function(){\n",
       "                            \n",
       "var gd = document.getElementById('c01a680b-203e-4f68-8b07-548cea46d909');\n",
       "var x = new MutationObserver(function (mutations, observer) {{\n",
       "        var display = window.getComputedStyle(gd).display;\n",
       "        if (!display || display === 'none') {{\n",
       "            console.log([gd, 'removed!']);\n",
       "            Plotly.purge(gd);\n",
       "            observer.disconnect();\n",
       "        }}\n",
       "}});\n",
       "\n",
       "// Listen for the removal of the full notebook cells\n",
       "var notebookContainer = gd.closest('#notebook-container');\n",
       "if (notebookContainer) {{\n",
       "    x.observe(notebookContainer, {childList: true});\n",
       "}}\n",
       "\n",
       "// Listen for the clearing of the current output cell\n",
       "var outputEl = gd.closest('.output');\n",
       "if (outputEl) {{\n",
       "    x.observe(outputEl, {childList: true});\n",
       "}}\n",
       "\n",
       "                        })                };                });            </script>        </div>"
      ]
     },
     "metadata": {},
     "output_type": "display_data"
    },
    {
     "name": "stdout",
     "output_type": "stream",
     "text": [
      "(0.46, 0.1, 0.44)\n"
     ]
    },
    {
     "data": {
      "application/vnd.plotly.v1+json": {
       "config": {
        "plotlyServerURL": "https://plot.ly"
       },
       "data": [
        {
         "alignmentgroup": "True",
         "hovertemplate": "len_shared_init_coms=%{x}<br>anything_goes=%{y}<extra></extra>",
         "legendgroup": "",
         "marker": {
          "color": "#29ae80",
          "pattern": {
           "shape": ""
          }
         },
         "name": "Groups of non-trivial full RE fixed points covering the entire sentence pool",
         "offsetgroup": "",
         "orientation": "v",
         "showlegend": true,
         "textposition": "auto",
         "texttemplate": "%{y}",
         "type": "bar",
         "x": [
          0,
          1,
          2,
          3,
          4,
          5,
          6,
          7
         ],
         "xaxis": "x",
         "y": [
          1,
          1,
          0.48,
          0.18,
          0.01,
          0,
          0,
          0
         ],
         "yaxis": "y"
        }
       ],
       "layout": {
        "barmode": "group",
        "legend": {
         "orientation": "h",
         "title": {
          "text": ""
         },
         "tracegroupgap": 0,
         "x": -0.005,
         "xanchor": "left",
         "y": 1.02,
         "yanchor": "bottom"
        },
        "margin": {
         "b": 110,
         "t": 60
        },
        "template": {
         "data": {
          "bar": [
           {
            "error_x": {
             "color": "#2a3f5f"
            },
            "error_y": {
             "color": "#2a3f5f"
            },
            "marker": {
             "line": {
              "color": "white",
              "width": 0.5
             },
             "pattern": {
              "fillmode": "overlay",
              "size": 10,
              "solidity": 0.2
             }
            },
            "type": "bar"
           }
          ],
          "barpolar": [
           {
            "marker": {
             "line": {
              "color": "white",
              "width": 0.5
             },
             "pattern": {
              "fillmode": "overlay",
              "size": 10,
              "solidity": 0.2
             }
            },
            "type": "barpolar"
           }
          ],
          "carpet": [
           {
            "aaxis": {
             "endlinecolor": "#2a3f5f",
             "gridcolor": "#C8D4E3",
             "linecolor": "#C8D4E3",
             "minorgridcolor": "#C8D4E3",
             "startlinecolor": "#2a3f5f"
            },
            "baxis": {
             "endlinecolor": "#2a3f5f",
             "gridcolor": "#C8D4E3",
             "linecolor": "#C8D4E3",
             "minorgridcolor": "#C8D4E3",
             "startlinecolor": "#2a3f5f"
            },
            "type": "carpet"
           }
          ],
          "choropleth": [
           {
            "colorbar": {
             "outlinewidth": 0,
             "ticks": ""
            },
            "type": "choropleth"
           }
          ],
          "contour": [
           {
            "colorbar": {
             "outlinewidth": 0,
             "ticks": ""
            },
            "colorscale": [
             [
              0,
              "#0d0887"
             ],
             [
              0.1111111111111111,
              "#46039f"
             ],
             [
              0.2222222222222222,
              "#7201a8"
             ],
             [
              0.3333333333333333,
              "#9c179e"
             ],
             [
              0.4444444444444444,
              "#bd3786"
             ],
             [
              0.5555555555555556,
              "#d8576b"
             ],
             [
              0.6666666666666666,
              "#ed7953"
             ],
             [
              0.7777777777777778,
              "#fb9f3a"
             ],
             [
              0.8888888888888888,
              "#fdca26"
             ],
             [
              1,
              "#f0f921"
             ]
            ],
            "type": "contour"
           }
          ],
          "contourcarpet": [
           {
            "colorbar": {
             "outlinewidth": 0,
             "ticks": ""
            },
            "type": "contourcarpet"
           }
          ],
          "heatmap": [
           {
            "colorbar": {
             "outlinewidth": 0,
             "ticks": ""
            },
            "colorscale": [
             [
              0,
              "#0d0887"
             ],
             [
              0.1111111111111111,
              "#46039f"
             ],
             [
              0.2222222222222222,
              "#7201a8"
             ],
             [
              0.3333333333333333,
              "#9c179e"
             ],
             [
              0.4444444444444444,
              "#bd3786"
             ],
             [
              0.5555555555555556,
              "#d8576b"
             ],
             [
              0.6666666666666666,
              "#ed7953"
             ],
             [
              0.7777777777777778,
              "#fb9f3a"
             ],
             [
              0.8888888888888888,
              "#fdca26"
             ],
             [
              1,
              "#f0f921"
             ]
            ],
            "type": "heatmap"
           }
          ],
          "heatmapgl": [
           {
            "colorbar": {
             "outlinewidth": 0,
             "ticks": ""
            },
            "colorscale": [
             [
              0,
              "#0d0887"
             ],
             [
              0.1111111111111111,
              "#46039f"
             ],
             [
              0.2222222222222222,
              "#7201a8"
             ],
             [
              0.3333333333333333,
              "#9c179e"
             ],
             [
              0.4444444444444444,
              "#bd3786"
             ],
             [
              0.5555555555555556,
              "#d8576b"
             ],
             [
              0.6666666666666666,
              "#ed7953"
             ],
             [
              0.7777777777777778,
              "#fb9f3a"
             ],
             [
              0.8888888888888888,
              "#fdca26"
             ],
             [
              1,
              "#f0f921"
             ]
            ],
            "type": "heatmapgl"
           }
          ],
          "histogram": [
           {
            "marker": {
             "pattern": {
              "fillmode": "overlay",
              "size": 10,
              "solidity": 0.2
             }
            },
            "type": "histogram"
           }
          ],
          "histogram2d": [
           {
            "colorbar": {
             "outlinewidth": 0,
             "ticks": ""
            },
            "colorscale": [
             [
              0,
              "#0d0887"
             ],
             [
              0.1111111111111111,
              "#46039f"
             ],
             [
              0.2222222222222222,
              "#7201a8"
             ],
             [
              0.3333333333333333,
              "#9c179e"
             ],
             [
              0.4444444444444444,
              "#bd3786"
             ],
             [
              0.5555555555555556,
              "#d8576b"
             ],
             [
              0.6666666666666666,
              "#ed7953"
             ],
             [
              0.7777777777777778,
              "#fb9f3a"
             ],
             [
              0.8888888888888888,
              "#fdca26"
             ],
             [
              1,
              "#f0f921"
             ]
            ],
            "type": "histogram2d"
           }
          ],
          "histogram2dcontour": [
           {
            "colorbar": {
             "outlinewidth": 0,
             "ticks": ""
            },
            "colorscale": [
             [
              0,
              "#0d0887"
             ],
             [
              0.1111111111111111,
              "#46039f"
             ],
             [
              0.2222222222222222,
              "#7201a8"
             ],
             [
              0.3333333333333333,
              "#9c179e"
             ],
             [
              0.4444444444444444,
              "#bd3786"
             ],
             [
              0.5555555555555556,
              "#d8576b"
             ],
             [
              0.6666666666666666,
              "#ed7953"
             ],
             [
              0.7777777777777778,
              "#fb9f3a"
             ],
             [
              0.8888888888888888,
              "#fdca26"
             ],
             [
              1,
              "#f0f921"
             ]
            ],
            "type": "histogram2dcontour"
           }
          ],
          "mesh3d": [
           {
            "colorbar": {
             "outlinewidth": 0,
             "ticks": ""
            },
            "type": "mesh3d"
           }
          ],
          "parcoords": [
           {
            "line": {
             "colorbar": {
              "outlinewidth": 0,
              "ticks": ""
             }
            },
            "type": "parcoords"
           }
          ],
          "pie": [
           {
            "automargin": true,
            "type": "pie"
           }
          ],
          "scatter": [
           {
            "fillpattern": {
             "fillmode": "overlay",
             "size": 10,
             "solidity": 0.2
            },
            "type": "scatter"
           }
          ],
          "scatter3d": [
           {
            "line": {
             "colorbar": {
              "outlinewidth": 0,
              "ticks": ""
             }
            },
            "marker": {
             "colorbar": {
              "outlinewidth": 0,
              "ticks": ""
             }
            },
            "type": "scatter3d"
           }
          ],
          "scattercarpet": [
           {
            "marker": {
             "colorbar": {
              "outlinewidth": 0,
              "ticks": ""
             }
            },
            "type": "scattercarpet"
           }
          ],
          "scattergeo": [
           {
            "marker": {
             "colorbar": {
              "outlinewidth": 0,
              "ticks": ""
             }
            },
            "type": "scattergeo"
           }
          ],
          "scattergl": [
           {
            "marker": {
             "colorbar": {
              "outlinewidth": 0,
              "ticks": ""
             }
            },
            "type": "scattergl"
           }
          ],
          "scattermapbox": [
           {
            "marker": {
             "colorbar": {
              "outlinewidth": 0,
              "ticks": ""
             }
            },
            "type": "scattermapbox"
           }
          ],
          "scatterpolar": [
           {
            "marker": {
             "colorbar": {
              "outlinewidth": 0,
              "ticks": ""
             }
            },
            "type": "scatterpolar"
           }
          ],
          "scatterpolargl": [
           {
            "marker": {
             "colorbar": {
              "outlinewidth": 0,
              "ticks": ""
             }
            },
            "type": "scatterpolargl"
           }
          ],
          "scatterternary": [
           {
            "marker": {
             "colorbar": {
              "outlinewidth": 0,
              "ticks": ""
             }
            },
            "type": "scatterternary"
           }
          ],
          "surface": [
           {
            "colorbar": {
             "outlinewidth": 0,
             "ticks": ""
            },
            "colorscale": [
             [
              0,
              "#0d0887"
             ],
             [
              0.1111111111111111,
              "#46039f"
             ],
             [
              0.2222222222222222,
              "#7201a8"
             ],
             [
              0.3333333333333333,
              "#9c179e"
             ],
             [
              0.4444444444444444,
              "#bd3786"
             ],
             [
              0.5555555555555556,
              "#d8576b"
             ],
             [
              0.6666666666666666,
              "#ed7953"
             ],
             [
              0.7777777777777778,
              "#fb9f3a"
             ],
             [
              0.8888888888888888,
              "#fdca26"
             ],
             [
              1,
              "#f0f921"
             ]
            ],
            "type": "surface"
           }
          ],
          "table": [
           {
            "cells": {
             "fill": {
              "color": "#EBF0F8"
             },
             "line": {
              "color": "white"
             }
            },
            "header": {
             "fill": {
              "color": "#C8D4E3"
             },
             "line": {
              "color": "white"
             }
            },
            "type": "table"
           }
          ]
         },
         "layout": {
          "annotationdefaults": {
           "arrowcolor": "#2a3f5f",
           "arrowhead": 0,
           "arrowwidth": 1
          },
          "autotypenumbers": "strict",
          "coloraxis": {
           "colorbar": {
            "outlinewidth": 0,
            "ticks": ""
           }
          },
          "colorscale": {
           "diverging": [
            [
             0,
             "#8e0152"
            ],
            [
             0.1,
             "#c51b7d"
            ],
            [
             0.2,
             "#de77ae"
            ],
            [
             0.3,
             "#f1b6da"
            ],
            [
             0.4,
             "#fde0ef"
            ],
            [
             0.5,
             "#f7f7f7"
            ],
            [
             0.6,
             "#e6f5d0"
            ],
            [
             0.7,
             "#b8e186"
            ],
            [
             0.8,
             "#7fbc41"
            ],
            [
             0.9,
             "#4d9221"
            ],
            [
             1,
             "#276419"
            ]
           ],
           "sequential": [
            [
             0,
             "#0d0887"
            ],
            [
             0.1111111111111111,
             "#46039f"
            ],
            [
             0.2222222222222222,
             "#7201a8"
            ],
            [
             0.3333333333333333,
             "#9c179e"
            ],
            [
             0.4444444444444444,
             "#bd3786"
            ],
            [
             0.5555555555555556,
             "#d8576b"
            ],
            [
             0.6666666666666666,
             "#ed7953"
            ],
            [
             0.7777777777777778,
             "#fb9f3a"
            ],
            [
             0.8888888888888888,
             "#fdca26"
            ],
            [
             1,
             "#f0f921"
            ]
           ],
           "sequentialminus": [
            [
             0,
             "#0d0887"
            ],
            [
             0.1111111111111111,
             "#46039f"
            ],
            [
             0.2222222222222222,
             "#7201a8"
            ],
            [
             0.3333333333333333,
             "#9c179e"
            ],
            [
             0.4444444444444444,
             "#bd3786"
            ],
            [
             0.5555555555555556,
             "#d8576b"
            ],
            [
             0.6666666666666666,
             "#ed7953"
            ],
            [
             0.7777777777777778,
             "#fb9f3a"
            ],
            [
             0.8888888888888888,
             "#fdca26"
            ],
            [
             1,
             "#f0f921"
            ]
           ]
          },
          "colorway": [
           "#636efa",
           "#EF553B",
           "#00cc96",
           "#ab63fa",
           "#FFA15A",
           "#19d3f3",
           "#FF6692",
           "#B6E880",
           "#FF97FF",
           "#FECB52"
          ],
          "font": {
           "color": "#2a3f5f"
          },
          "geo": {
           "bgcolor": "white",
           "lakecolor": "white",
           "landcolor": "white",
           "showlakes": true,
           "showland": true,
           "subunitcolor": "#C8D4E3"
          },
          "hoverlabel": {
           "align": "left"
          },
          "hovermode": "closest",
          "mapbox": {
           "style": "light"
          },
          "paper_bgcolor": "white",
          "plot_bgcolor": "white",
          "polar": {
           "angularaxis": {
            "gridcolor": "#EBF0F8",
            "linecolor": "#EBF0F8",
            "ticks": ""
           },
           "bgcolor": "white",
           "radialaxis": {
            "gridcolor": "#EBF0F8",
            "linecolor": "#EBF0F8",
            "ticks": ""
           }
          },
          "scene": {
           "xaxis": {
            "backgroundcolor": "white",
            "gridcolor": "#DFE8F3",
            "gridwidth": 2,
            "linecolor": "#EBF0F8",
            "showbackground": true,
            "ticks": "",
            "zerolinecolor": "#EBF0F8"
           },
           "yaxis": {
            "backgroundcolor": "white",
            "gridcolor": "#DFE8F3",
            "gridwidth": 2,
            "linecolor": "#EBF0F8",
            "showbackground": true,
            "ticks": "",
            "zerolinecolor": "#EBF0F8"
           },
           "zaxis": {
            "backgroundcolor": "white",
            "gridcolor": "#DFE8F3",
            "gridwidth": 2,
            "linecolor": "#EBF0F8",
            "showbackground": true,
            "ticks": "",
            "zerolinecolor": "#EBF0F8"
           }
          },
          "shapedefaults": {
           "line": {
            "color": "#2a3f5f"
           }
          },
          "ternary": {
           "aaxis": {
            "gridcolor": "#DFE8F3",
            "linecolor": "#A2B1C6",
            "ticks": ""
           },
           "baxis": {
            "gridcolor": "#DFE8F3",
            "linecolor": "#A2B1C6",
            "ticks": ""
           },
           "bgcolor": "white",
           "caxis": {
            "gridcolor": "#DFE8F3",
            "linecolor": "#A2B1C6",
            "ticks": ""
           }
          },
          "title": {
           "x": 0.05
          },
          "xaxis": {
           "automargin": true,
           "gridcolor": "#EBF0F8",
           "linecolor": "#EBF0F8",
           "ticks": "",
           "title": {
            "standoff": 15
           },
           "zerolinecolor": "#EBF0F8",
           "zerolinewidth": 2
          },
          "yaxis": {
           "automargin": true,
           "gridcolor": "#EBF0F8",
           "linecolor": "#EBF0F8",
           "ticks": "",
           "title": {
            "standoff": 15
           },
           "zerolinecolor": "#EBF0F8",
           "zerolinewidth": 2
          }
         }
        },
        "xaxis": {
         "anchor": "y",
         "domain": [
          0,
          1
         ],
         "showticklabels": true,
         "ticktext": [
          "0<br><span style='color:DarkGray'>(1, 1579)<span>",
          "1<br><span style='color:DarkGray'>(6, 496)<span>",
          "2<br><span style='color:DarkGray'>(25, 161)<span>",
          "3<br><span style='color:DarkGray'>(213, 58)<span>",
          "4<br><span style='color:DarkGray'>(455, 20)<span>",
          "5<br><span style='color:DarkGray'>(506, 6)<span>",
          "6<br><span style='color:DarkGray'>(294, 2)<span>",
          "7<br><span style='color:DarkGray'>(65, 1)<span>"
         ],
         "tickvals": [
          0,
          1,
          2,
          3,
          4,
          5,
          6,
          7
         ],
         "title": {
          "text": "Length of shared initial commitments<br><span style='color:DarkGray'>(Number of groups, Group size)<span>"
         }
        },
        "yaxis": {
         "anchor": "x",
         "domain": [
          0,
          1
         ],
         "range": [
          0,
          1.05
         ],
         "showticklabels": true,
         "title": {
          "text": "Mean relative share"
         }
        }
       }
      },
      "text/html": [
       "<div>                            <div id=\"aca7c746-290f-4dbb-8dae-8ce22a4b618e\" class=\"plotly-graph-div\" style=\"height:525px; width:100%;\"></div>            <script type=\"text/javascript\">                require([\"plotly\"], function(Plotly) {                    window.PLOTLYENV=window.PLOTLYENV || {};                                    if (document.getElementById(\"aca7c746-290f-4dbb-8dae-8ce22a4b618e\")) {                    Plotly.newPlot(                        \"aca7c746-290f-4dbb-8dae-8ce22a4b618e\",                        [{\"alignmentgroup\":\"True\",\"hovertemplate\":\"len_shared_init_coms=%{x}<br>anything_goes=%{y}<extra></extra>\",\"legendgroup\":\"\",\"marker\":{\"color\":\"#29ae80\",\"pattern\":{\"shape\":\"\"}},\"name\":\"Groups of non-trivial full RE fixed points covering the entire sentence pool\",\"offsetgroup\":\"\",\"orientation\":\"v\",\"showlegend\":true,\"textposition\":\"auto\",\"texttemplate\":\"%{y}\",\"x\":[0,1,2,3,4,5,6,7],\"xaxis\":\"x\",\"y\":[1.0,1.0,0.48,0.18,0.01,0.0,0.0,0.0],\"yaxis\":\"y\",\"type\":\"bar\"}],                        {\"template\":{\"data\":{\"barpolar\":[{\"marker\":{\"line\":{\"color\":\"white\",\"width\":0.5},\"pattern\":{\"fillmode\":\"overlay\",\"size\":10,\"solidity\":0.2}},\"type\":\"barpolar\"}],\"bar\":[{\"error_x\":{\"color\":\"#2a3f5f\"},\"error_y\":{\"color\":\"#2a3f5f\"},\"marker\":{\"line\":{\"color\":\"white\",\"width\":0.5},\"pattern\":{\"fillmode\":\"overlay\",\"size\":10,\"solidity\":0.2}},\"type\":\"bar\"}],\"carpet\":[{\"aaxis\":{\"endlinecolor\":\"#2a3f5f\",\"gridcolor\":\"#C8D4E3\",\"linecolor\":\"#C8D4E3\",\"minorgridcolor\":\"#C8D4E3\",\"startlinecolor\":\"#2a3f5f\"},\"baxis\":{\"endlinecolor\":\"#2a3f5f\",\"gridcolor\":\"#C8D4E3\",\"linecolor\":\"#C8D4E3\",\"minorgridcolor\":\"#C8D4E3\",\"startlinecolor\":\"#2a3f5f\"},\"type\":\"carpet\"}],\"choropleth\":[{\"colorbar\":{\"outlinewidth\":0,\"ticks\":\"\"},\"type\":\"choropleth\"}],\"contourcarpet\":[{\"colorbar\":{\"outlinewidth\":0,\"ticks\":\"\"},\"type\":\"contourcarpet\"}],\"contour\":[{\"colorbar\":{\"outlinewidth\":0,\"ticks\":\"\"},\"colorscale\":[[0.0,\"#0d0887\"],[0.1111111111111111,\"#46039f\"],[0.2222222222222222,\"#7201a8\"],[0.3333333333333333,\"#9c179e\"],[0.4444444444444444,\"#bd3786\"],[0.5555555555555556,\"#d8576b\"],[0.6666666666666666,\"#ed7953\"],[0.7777777777777778,\"#fb9f3a\"],[0.8888888888888888,\"#fdca26\"],[1.0,\"#f0f921\"]],\"type\":\"contour\"}],\"heatmapgl\":[{\"colorbar\":{\"outlinewidth\":0,\"ticks\":\"\"},\"colorscale\":[[0.0,\"#0d0887\"],[0.1111111111111111,\"#46039f\"],[0.2222222222222222,\"#7201a8\"],[0.3333333333333333,\"#9c179e\"],[0.4444444444444444,\"#bd3786\"],[0.5555555555555556,\"#d8576b\"],[0.6666666666666666,\"#ed7953\"],[0.7777777777777778,\"#fb9f3a\"],[0.8888888888888888,\"#fdca26\"],[1.0,\"#f0f921\"]],\"type\":\"heatmapgl\"}],\"heatmap\":[{\"colorbar\":{\"outlinewidth\":0,\"ticks\":\"\"},\"colorscale\":[[0.0,\"#0d0887\"],[0.1111111111111111,\"#46039f\"],[0.2222222222222222,\"#7201a8\"],[0.3333333333333333,\"#9c179e\"],[0.4444444444444444,\"#bd3786\"],[0.5555555555555556,\"#d8576b\"],[0.6666666666666666,\"#ed7953\"],[0.7777777777777778,\"#fb9f3a\"],[0.8888888888888888,\"#fdca26\"],[1.0,\"#f0f921\"]],\"type\":\"heatmap\"}],\"histogram2dcontour\":[{\"colorbar\":{\"outlinewidth\":0,\"ticks\":\"\"},\"colorscale\":[[0.0,\"#0d0887\"],[0.1111111111111111,\"#46039f\"],[0.2222222222222222,\"#7201a8\"],[0.3333333333333333,\"#9c179e\"],[0.4444444444444444,\"#bd3786\"],[0.5555555555555556,\"#d8576b\"],[0.6666666666666666,\"#ed7953\"],[0.7777777777777778,\"#fb9f3a\"],[0.8888888888888888,\"#fdca26\"],[1.0,\"#f0f921\"]],\"type\":\"histogram2dcontour\"}],\"histogram2d\":[{\"colorbar\":{\"outlinewidth\":0,\"ticks\":\"\"},\"colorscale\":[[0.0,\"#0d0887\"],[0.1111111111111111,\"#46039f\"],[0.2222222222222222,\"#7201a8\"],[0.3333333333333333,\"#9c179e\"],[0.4444444444444444,\"#bd3786\"],[0.5555555555555556,\"#d8576b\"],[0.6666666666666666,\"#ed7953\"],[0.7777777777777778,\"#fb9f3a\"],[0.8888888888888888,\"#fdca26\"],[1.0,\"#f0f921\"]],\"type\":\"histogram2d\"}],\"histogram\":[{\"marker\":{\"pattern\":{\"fillmode\":\"overlay\",\"size\":10,\"solidity\":0.2}},\"type\":\"histogram\"}],\"mesh3d\":[{\"colorbar\":{\"outlinewidth\":0,\"ticks\":\"\"},\"type\":\"mesh3d\"}],\"parcoords\":[{\"line\":{\"colorbar\":{\"outlinewidth\":0,\"ticks\":\"\"}},\"type\":\"parcoords\"}],\"pie\":[{\"automargin\":true,\"type\":\"pie\"}],\"scatter3d\":[{\"line\":{\"colorbar\":{\"outlinewidth\":0,\"ticks\":\"\"}},\"marker\":{\"colorbar\":{\"outlinewidth\":0,\"ticks\":\"\"}},\"type\":\"scatter3d\"}],\"scattercarpet\":[{\"marker\":{\"colorbar\":{\"outlinewidth\":0,\"ticks\":\"\"}},\"type\":\"scattercarpet\"}],\"scattergeo\":[{\"marker\":{\"colorbar\":{\"outlinewidth\":0,\"ticks\":\"\"}},\"type\":\"scattergeo\"}],\"scattergl\":[{\"marker\":{\"colorbar\":{\"outlinewidth\":0,\"ticks\":\"\"}},\"type\":\"scattergl\"}],\"scattermapbox\":[{\"marker\":{\"colorbar\":{\"outlinewidth\":0,\"ticks\":\"\"}},\"type\":\"scattermapbox\"}],\"scatterpolargl\":[{\"marker\":{\"colorbar\":{\"outlinewidth\":0,\"ticks\":\"\"}},\"type\":\"scatterpolargl\"}],\"scatterpolar\":[{\"marker\":{\"colorbar\":{\"outlinewidth\":0,\"ticks\":\"\"}},\"type\":\"scatterpolar\"}],\"scatter\":[{\"fillpattern\":{\"fillmode\":\"overlay\",\"size\":10,\"solidity\":0.2},\"type\":\"scatter\"}],\"scatterternary\":[{\"marker\":{\"colorbar\":{\"outlinewidth\":0,\"ticks\":\"\"}},\"type\":\"scatterternary\"}],\"surface\":[{\"colorbar\":{\"outlinewidth\":0,\"ticks\":\"\"},\"colorscale\":[[0.0,\"#0d0887\"],[0.1111111111111111,\"#46039f\"],[0.2222222222222222,\"#7201a8\"],[0.3333333333333333,\"#9c179e\"],[0.4444444444444444,\"#bd3786\"],[0.5555555555555556,\"#d8576b\"],[0.6666666666666666,\"#ed7953\"],[0.7777777777777778,\"#fb9f3a\"],[0.8888888888888888,\"#fdca26\"],[1.0,\"#f0f921\"]],\"type\":\"surface\"}],\"table\":[{\"cells\":{\"fill\":{\"color\":\"#EBF0F8\"},\"line\":{\"color\":\"white\"}},\"header\":{\"fill\":{\"color\":\"#C8D4E3\"},\"line\":{\"color\":\"white\"}},\"type\":\"table\"}]},\"layout\":{\"annotationdefaults\":{\"arrowcolor\":\"#2a3f5f\",\"arrowhead\":0,\"arrowwidth\":1},\"autotypenumbers\":\"strict\",\"coloraxis\":{\"colorbar\":{\"outlinewidth\":0,\"ticks\":\"\"}},\"colorscale\":{\"diverging\":[[0,\"#8e0152\"],[0.1,\"#c51b7d\"],[0.2,\"#de77ae\"],[0.3,\"#f1b6da\"],[0.4,\"#fde0ef\"],[0.5,\"#f7f7f7\"],[0.6,\"#e6f5d0\"],[0.7,\"#b8e186\"],[0.8,\"#7fbc41\"],[0.9,\"#4d9221\"],[1,\"#276419\"]],\"sequential\":[[0.0,\"#0d0887\"],[0.1111111111111111,\"#46039f\"],[0.2222222222222222,\"#7201a8\"],[0.3333333333333333,\"#9c179e\"],[0.4444444444444444,\"#bd3786\"],[0.5555555555555556,\"#d8576b\"],[0.6666666666666666,\"#ed7953\"],[0.7777777777777778,\"#fb9f3a\"],[0.8888888888888888,\"#fdca26\"],[1.0,\"#f0f921\"]],\"sequentialminus\":[[0.0,\"#0d0887\"],[0.1111111111111111,\"#46039f\"],[0.2222222222222222,\"#7201a8\"],[0.3333333333333333,\"#9c179e\"],[0.4444444444444444,\"#bd3786\"],[0.5555555555555556,\"#d8576b\"],[0.6666666666666666,\"#ed7953\"],[0.7777777777777778,\"#fb9f3a\"],[0.8888888888888888,\"#fdca26\"],[1.0,\"#f0f921\"]]},\"colorway\":[\"#636efa\",\"#EF553B\",\"#00cc96\",\"#ab63fa\",\"#FFA15A\",\"#19d3f3\",\"#FF6692\",\"#B6E880\",\"#FF97FF\",\"#FECB52\"],\"font\":{\"color\":\"#2a3f5f\"},\"geo\":{\"bgcolor\":\"white\",\"lakecolor\":\"white\",\"landcolor\":\"white\",\"showlakes\":true,\"showland\":true,\"subunitcolor\":\"#C8D4E3\"},\"hoverlabel\":{\"align\":\"left\"},\"hovermode\":\"closest\",\"mapbox\":{\"style\":\"light\"},\"paper_bgcolor\":\"white\",\"plot_bgcolor\":\"white\",\"polar\":{\"angularaxis\":{\"gridcolor\":\"#EBF0F8\",\"linecolor\":\"#EBF0F8\",\"ticks\":\"\"},\"bgcolor\":\"white\",\"radialaxis\":{\"gridcolor\":\"#EBF0F8\",\"linecolor\":\"#EBF0F8\",\"ticks\":\"\"}},\"scene\":{\"xaxis\":{\"backgroundcolor\":\"white\",\"gridcolor\":\"#DFE8F3\",\"gridwidth\":2,\"linecolor\":\"#EBF0F8\",\"showbackground\":true,\"ticks\":\"\",\"zerolinecolor\":\"#EBF0F8\"},\"yaxis\":{\"backgroundcolor\":\"white\",\"gridcolor\":\"#DFE8F3\",\"gridwidth\":2,\"linecolor\":\"#EBF0F8\",\"showbackground\":true,\"ticks\":\"\",\"zerolinecolor\":\"#EBF0F8\"},\"zaxis\":{\"backgroundcolor\":\"white\",\"gridcolor\":\"#DFE8F3\",\"gridwidth\":2,\"linecolor\":\"#EBF0F8\",\"showbackground\":true,\"ticks\":\"\",\"zerolinecolor\":\"#EBF0F8\"}},\"shapedefaults\":{\"line\":{\"color\":\"#2a3f5f\"}},\"ternary\":{\"aaxis\":{\"gridcolor\":\"#DFE8F3\",\"linecolor\":\"#A2B1C6\",\"ticks\":\"\"},\"baxis\":{\"gridcolor\":\"#DFE8F3\",\"linecolor\":\"#A2B1C6\",\"ticks\":\"\"},\"bgcolor\":\"white\",\"caxis\":{\"gridcolor\":\"#DFE8F3\",\"linecolor\":\"#A2B1C6\",\"ticks\":\"\"}},\"title\":{\"x\":0.05},\"xaxis\":{\"automargin\":true,\"gridcolor\":\"#EBF0F8\",\"linecolor\":\"#EBF0F8\",\"ticks\":\"\",\"title\":{\"standoff\":15},\"zerolinecolor\":\"#EBF0F8\",\"zerolinewidth\":2},\"yaxis\":{\"automargin\":true,\"gridcolor\":\"#EBF0F8\",\"linecolor\":\"#EBF0F8\",\"ticks\":\"\",\"title\":{\"standoff\":15},\"zerolinecolor\":\"#EBF0F8\",\"zerolinewidth\":2}}},\"xaxis\":{\"anchor\":\"y\",\"domain\":[0.0,1.0],\"title\":{\"text\":\"Length of shared initial commitments<br><span style='color:DarkGray'>(Number of groups, Group size)<span>\"},\"showticklabels\":true,\"tickvals\":[0,1,2,3,4,5,6,7],\"ticktext\":[\"0<br><span style='color:DarkGray'>(1, 1579)<span>\",\"1<br><span style='color:DarkGray'>(6, 496)<span>\",\"2<br><span style='color:DarkGray'>(25, 161)<span>\",\"3<br><span style='color:DarkGray'>(213, 58)<span>\",\"4<br><span style='color:DarkGray'>(455, 20)<span>\",\"5<br><span style='color:DarkGray'>(506, 6)<span>\",\"6<br><span style='color:DarkGray'>(294, 2)<span>\",\"7<br><span style='color:DarkGray'>(65, 1)<span>\"]},\"yaxis\":{\"anchor\":\"x\",\"domain\":[0.0,1.0],\"title\":{\"text\":\"Mean relative share\"},\"showticklabels\":true,\"range\":[0,1.05]},\"legend\":{\"tracegroupgap\":0,\"title\":{\"text\":\"\"},\"orientation\":\"h\",\"yanchor\":\"bottom\",\"y\":1.02,\"xanchor\":\"left\",\"x\":-0.005},\"margin\":{\"t\":60,\"b\":110},\"barmode\":\"group\"},                        {\"responsive\": true}                    ).then(function(){\n",
       "                            \n",
       "var gd = document.getElementById('aca7c746-290f-4dbb-8dae-8ce22a4b618e');\n",
       "var x = new MutationObserver(function (mutations, observer) {{\n",
       "        var display = window.getComputedStyle(gd).display;\n",
       "        if (!display || display === 'none') {{\n",
       "            console.log([gd, 'removed!']);\n",
       "            Plotly.purge(gd);\n",
       "            observer.disconnect();\n",
       "        }}\n",
       "}});\n",
       "\n",
       "// Listen for the removal of the full notebook cells\n",
       "var notebookContainer = gd.closest('#notebook-container');\n",
       "if (notebookContainer) {{\n",
       "    x.observe(notebookContainer, {childList: true});\n",
       "}}\n",
       "\n",
       "// Listen for the clearing of the current output cell\n",
       "var outputEl = gd.closest('.output');\n",
       "if (outputEl) {{\n",
       "    x.observe(outputEl, {childList: true});\n",
       "}}\n",
       "\n",
       "                        })                };                });            </script>        </div>"
      ]
     },
     "metadata": {},
     "output_type": "display_data"
    }
   ],
   "source": [
    "for configuration in result_df[\"configuration\"].unique():\n",
    "    \n",
    "    print(configuration)\n",
    "    \n",
    "    # unpack weights\n",
    "    alpha_a, alpha_s, alpha_f = configuration\n",
    "\n",
    "    # create strings for annotation and filename\n",
    "    annotation_text = r\"$(\\alpha_{A}, \\alpha_{S}, \\alpha_{F}) = \" + \"({},\\ {},\\ {})$\".format(alpha_a, alpha_s, alpha_f)\n",
    "    file_name = \"full_spec_anything_goes_{}_{}_{}.png\".format(str(alpha_a)[2:], str(alpha_s)[2:], str(alpha_f)[2:])\n",
    "\n",
    "    # restrict to configuration\n",
    "    df = result_df[result_df[\"configuration\"]==configuration]\n",
    "\n",
    "    #df = result_df.groupby([\"ds\", \"len_shared_init_coms\"])[[\"init_coms_group_size\",\"n_conflicts\", \"n_fp\"]].median().reset_index()\n",
    "\n",
    "    #df = df.groupby([\"len_shared_init_coms\"])[[\"n_unique_sentences\"]]#.median().reset_index(level=0)\n",
    "\n",
    "    df= df.groupby([\"ds\",\"len_shared_init_coms\"])[\"anything_goes\"].mean().reset_index().groupby(\"len_shared_init_coms\")[\"anything_goes\"].mean().reset_index()\n",
    "\n",
    "    df[\"anything_goes\"] = df[\"anything_goes\"].astype(float).round(decimals=2)\n",
    "\n",
    "    fig = px.bar(df, x=\"len_shared_init_coms\", y=\"anything_goes\", barmode=\"group\", \n",
    "                     text_auto=True, \n",
    "                     #notched=True\n",
    "                    )\n",
    "\n",
    "    #fig.update_traces(marker_color=viridis[3], name=\"global optima\", selector={\"name\":\"go\"})\n",
    "    fig.update_traces(marker_color=viridis[2], name=\"Groups of non-trivial full RE fixed points covering the entire sentence pool\", showlegend=True)\n",
    "    #fig.update_traces(marker_color=viridis[1], name=\"streamlined outputs\", selector={\"name\":\"so\"})\n",
    "\n",
    "    #fig.update_layout(width=850)\n",
    "    fig.update_layout(template=\"plotly_white\",\n",
    "                     legend_title=\"\",\n",
    "                     #title=\"Relative Share of Full RE Output Groups Covering the Entire Sentence Pool\"\n",
    "                     )\n",
    "    fig.update_xaxes(title=\"Length of shared initial commitments<br><span style='color:DarkGray'>(Number of groups, Group size)<span>\", showticklabels=True)\n",
    "    fig.update_yaxes(title=\"Mean relative share\", showticklabels=True, range=[0, 1.05])\n",
    "\n",
    "    fig.update_layout(legend=dict(\n",
    "        orientation=\"h\",\n",
    "        yanchor=\"bottom\",\n",
    "        y=1.02,\n",
    "        xanchor=\"left\",\n",
    "        x=-0.005\n",
    "    ))\n",
    "    #fig.add_annotation(dict(font=dict(color=\"black\",size=12),\n",
    "    #                                showarrow=False,\n",
    "    #                                x=-0.035,\n",
    "    #                                y=1.05,\n",
    "    #                                text=annotation_text,\n",
    "    #                                textangle=0,\n",
    "    #                                xref=\"paper\",\n",
    "    #                               yref=\"paper\"))\n",
    "\n",
    "    # branch off second df for ticktexts with group sizes\n",
    "    dff = result_df[result_df[\"configuration\"]==configuration].groupby([\"ds\", \"len_shared_init_coms\"])[\"shared_init_coms\"].nunique().reset_index()\n",
    "    dff= dff.groupby(\"len_shared_init_coms\")[\"shared_init_coms\"].quantile([0.50], interpolation=\"higher\").reset_index()\n",
    "    \n",
    "    dff[\"group_size\"] = result_df[result_df[\"configuration\"]==configuration].groupby(\"len_shared_init_coms\")[[\"init_coms_group_size\"]].quantile([0.50], interpolation=\"higher\").reset_index()[\"init_coms_group_size\"]\n",
    "\n",
    "\n",
    "    ticktexts = [\"{}<br><span style='color:DarkGray'>({}, {})<span>\".format(row[1][\"len_shared_init_coms\"].astype(int), \n",
    "                                         row[1][\"shared_init_coms\"].astype(int), \n",
    "                                         row[1][\"group_size\"].astype(int)) for row in dff.iterrows()]\n",
    "\n",
    "\n",
    "    fig.update_layout(\n",
    "        xaxis = dict(\n",
    "            tickvals = list(range(0,8)),\n",
    "            ticktext = ticktexts))\n",
    "\n",
    "    fig.update_layout(margin={\"b\":110})\n",
    "\n",
    "    fig.show()\n",
    "\n",
    "    pio.write_image(fig, path.join(plot_dir, file_name), scale=2)"
   ]
  },
  {
   "cell_type": "code",
   "execution_count": 470,
   "id": "a29bdd9e",
   "metadata": {},
   "outputs": [
    {
     "data": {
      "application/vnd.plotly.v1+json": {
       "config": {
        "plotlyServerURL": "https://plot.ly"
       },
       "data": [
        {
         "alignmentgroup": "True",
         "boxmean": true,
         "hovertemplate": "len_shared_init_coms=%{x}<br>n_conflicts=%{y}<extra></extra>",
         "legendgroup": "",
         "marker": {
          "color": "#29ae80"
         },
         "name": "Groups of full RE fixed points covering the entire sentence pool",
         "notched": true,
         "offsetgroup": "",
         "orientation": "v",
         "showlegend": true,
         "type": "box",
         "x": [
          0,
          1,
          2,
          3,
          4,
          5,
          6,
          7,
          0,
          1,
          2,
          3,
          4,
          5,
          6,
          7,
          0,
          1,
          2,
          3,
          4,
          5,
          6,
          7,
          0,
          1,
          2,
          3,
          4,
          5,
          6,
          7,
          0,
          1,
          2,
          3,
          4,
          5,
          6,
          7,
          0,
          1,
          2,
          3,
          4,
          5,
          6,
          7,
          0,
          1,
          2,
          3,
          4,
          5,
          6,
          7,
          0,
          1,
          2,
          3,
          4,
          5,
          6,
          7,
          0,
          1,
          2,
          3,
          4,
          5,
          6,
          7,
          0,
          1,
          2,
          3,
          4,
          5,
          6,
          7,
          0,
          1,
          2,
          3,
          4,
          5,
          6,
          7,
          0,
          1,
          2,
          3,
          4,
          5,
          6,
          7,
          0,
          1,
          2,
          3,
          4,
          5,
          6,
          7,
          0,
          1,
          2,
          3,
          4,
          5,
          6,
          7,
          0,
          1,
          2,
          3,
          4,
          5,
          6,
          7,
          0,
          1,
          2,
          3,
          4,
          5,
          6,
          7,
          0,
          1,
          2,
          3,
          4,
          5,
          6,
          7,
          0,
          1,
          2,
          3,
          4,
          5,
          6,
          7,
          0,
          1,
          2,
          3,
          4,
          5,
          6,
          7,
          0,
          1,
          2,
          3,
          4,
          5,
          6,
          7,
          0,
          1,
          2,
          3,
          4,
          5,
          6,
          7,
          0,
          1,
          2,
          3,
          4,
          5,
          0,
          1,
          2,
          3,
          4,
          5,
          6,
          7,
          0,
          7,
          0,
          1,
          2,
          3,
          4,
          5,
          6,
          7
         ],
         "x0": " ",
         "xaxis": "x",
         "y": [
          5,
          5,
          5,
          0,
          0,
          0,
          0,
          0,
          7,
          6,
          5,
          2,
          0,
          0,
          0,
          0,
          5,
          4.5,
          4,
          2,
          0,
          0,
          0,
          0,
          6,
          6,
          6,
          2,
          0,
          0,
          0,
          0,
          7,
          7,
          6,
          4,
          2,
          0,
          0,
          0,
          7,
          7,
          7,
          5,
          2,
          0,
          0,
          0,
          7,
          7,
          7,
          5,
          3,
          0,
          0,
          0,
          5,
          5,
          4,
          2,
          0,
          0,
          0,
          0,
          7,
          7,
          7,
          5,
          2.5,
          0,
          0,
          0,
          7,
          7,
          7,
          6,
          4,
          0,
          0,
          0,
          6,
          5.5,
          5,
          2,
          0,
          0,
          0,
          0,
          6,
          6,
          6,
          4,
          0,
          0,
          0,
          0,
          7,
          7,
          7,
          6,
          0,
          0,
          0,
          0,
          7,
          7,
          7,
          4,
          0,
          0,
          0,
          0,
          5,
          5,
          4,
          3,
          0,
          0,
          0,
          0,
          6,
          6,
          6,
          3,
          0,
          0,
          0,
          0,
          7,
          7,
          7,
          6,
          3,
          0,
          0,
          0,
          7,
          7,
          7,
          3,
          0,
          0,
          0,
          0,
          7,
          7,
          7,
          4,
          0,
          0,
          0,
          0,
          7,
          7,
          7,
          7,
          4,
          0,
          0,
          0,
          7,
          7,
          7,
          6,
          4,
          0,
          0,
          0,
          4,
          4,
          3.5,
          0,
          0,
          0,
          6,
          6,
          4,
          3,
          0,
          0,
          0,
          0,
          3,
          0,
          7,
          7,
          7,
          7,
          6,
          5,
          2,
          0
         ],
         "y0": " ",
         "yaxis": "y"
        }
       ],
       "layout": {
        "boxmode": "group",
        "legend": {
         "orientation": "h",
         "title": {
          "text": ""
         },
         "tracegroupgap": 0,
         "x": -0.005,
         "xanchor": "left",
         "y": 1.02,
         "yanchor": "bottom"
        },
        "margin": {
         "b": 110,
         "t": 60
        },
        "template": {
         "data": {
          "bar": [
           {
            "error_x": {
             "color": "#2a3f5f"
            },
            "error_y": {
             "color": "#2a3f5f"
            },
            "marker": {
             "line": {
              "color": "white",
              "width": 0.5
             },
             "pattern": {
              "fillmode": "overlay",
              "size": 10,
              "solidity": 0.2
             }
            },
            "type": "bar"
           }
          ],
          "barpolar": [
           {
            "marker": {
             "line": {
              "color": "white",
              "width": 0.5
             },
             "pattern": {
              "fillmode": "overlay",
              "size": 10,
              "solidity": 0.2
             }
            },
            "type": "barpolar"
           }
          ],
          "carpet": [
           {
            "aaxis": {
             "endlinecolor": "#2a3f5f",
             "gridcolor": "#C8D4E3",
             "linecolor": "#C8D4E3",
             "minorgridcolor": "#C8D4E3",
             "startlinecolor": "#2a3f5f"
            },
            "baxis": {
             "endlinecolor": "#2a3f5f",
             "gridcolor": "#C8D4E3",
             "linecolor": "#C8D4E3",
             "minorgridcolor": "#C8D4E3",
             "startlinecolor": "#2a3f5f"
            },
            "type": "carpet"
           }
          ],
          "choropleth": [
           {
            "colorbar": {
             "outlinewidth": 0,
             "ticks": ""
            },
            "type": "choropleth"
           }
          ],
          "contour": [
           {
            "colorbar": {
             "outlinewidth": 0,
             "ticks": ""
            },
            "colorscale": [
             [
              0,
              "#0d0887"
             ],
             [
              0.1111111111111111,
              "#46039f"
             ],
             [
              0.2222222222222222,
              "#7201a8"
             ],
             [
              0.3333333333333333,
              "#9c179e"
             ],
             [
              0.4444444444444444,
              "#bd3786"
             ],
             [
              0.5555555555555556,
              "#d8576b"
             ],
             [
              0.6666666666666666,
              "#ed7953"
             ],
             [
              0.7777777777777778,
              "#fb9f3a"
             ],
             [
              0.8888888888888888,
              "#fdca26"
             ],
             [
              1,
              "#f0f921"
             ]
            ],
            "type": "contour"
           }
          ],
          "contourcarpet": [
           {
            "colorbar": {
             "outlinewidth": 0,
             "ticks": ""
            },
            "type": "contourcarpet"
           }
          ],
          "heatmap": [
           {
            "colorbar": {
             "outlinewidth": 0,
             "ticks": ""
            },
            "colorscale": [
             [
              0,
              "#0d0887"
             ],
             [
              0.1111111111111111,
              "#46039f"
             ],
             [
              0.2222222222222222,
              "#7201a8"
             ],
             [
              0.3333333333333333,
              "#9c179e"
             ],
             [
              0.4444444444444444,
              "#bd3786"
             ],
             [
              0.5555555555555556,
              "#d8576b"
             ],
             [
              0.6666666666666666,
              "#ed7953"
             ],
             [
              0.7777777777777778,
              "#fb9f3a"
             ],
             [
              0.8888888888888888,
              "#fdca26"
             ],
             [
              1,
              "#f0f921"
             ]
            ],
            "type": "heatmap"
           }
          ],
          "heatmapgl": [
           {
            "colorbar": {
             "outlinewidth": 0,
             "ticks": ""
            },
            "colorscale": [
             [
              0,
              "#0d0887"
             ],
             [
              0.1111111111111111,
              "#46039f"
             ],
             [
              0.2222222222222222,
              "#7201a8"
             ],
             [
              0.3333333333333333,
              "#9c179e"
             ],
             [
              0.4444444444444444,
              "#bd3786"
             ],
             [
              0.5555555555555556,
              "#d8576b"
             ],
             [
              0.6666666666666666,
              "#ed7953"
             ],
             [
              0.7777777777777778,
              "#fb9f3a"
             ],
             [
              0.8888888888888888,
              "#fdca26"
             ],
             [
              1,
              "#f0f921"
             ]
            ],
            "type": "heatmapgl"
           }
          ],
          "histogram": [
           {
            "marker": {
             "pattern": {
              "fillmode": "overlay",
              "size": 10,
              "solidity": 0.2
             }
            },
            "type": "histogram"
           }
          ],
          "histogram2d": [
           {
            "colorbar": {
             "outlinewidth": 0,
             "ticks": ""
            },
            "colorscale": [
             [
              0,
              "#0d0887"
             ],
             [
              0.1111111111111111,
              "#46039f"
             ],
             [
              0.2222222222222222,
              "#7201a8"
             ],
             [
              0.3333333333333333,
              "#9c179e"
             ],
             [
              0.4444444444444444,
              "#bd3786"
             ],
             [
              0.5555555555555556,
              "#d8576b"
             ],
             [
              0.6666666666666666,
              "#ed7953"
             ],
             [
              0.7777777777777778,
              "#fb9f3a"
             ],
             [
              0.8888888888888888,
              "#fdca26"
             ],
             [
              1,
              "#f0f921"
             ]
            ],
            "type": "histogram2d"
           }
          ],
          "histogram2dcontour": [
           {
            "colorbar": {
             "outlinewidth": 0,
             "ticks": ""
            },
            "colorscale": [
             [
              0,
              "#0d0887"
             ],
             [
              0.1111111111111111,
              "#46039f"
             ],
             [
              0.2222222222222222,
              "#7201a8"
             ],
             [
              0.3333333333333333,
              "#9c179e"
             ],
             [
              0.4444444444444444,
              "#bd3786"
             ],
             [
              0.5555555555555556,
              "#d8576b"
             ],
             [
              0.6666666666666666,
              "#ed7953"
             ],
             [
              0.7777777777777778,
              "#fb9f3a"
             ],
             [
              0.8888888888888888,
              "#fdca26"
             ],
             [
              1,
              "#f0f921"
             ]
            ],
            "type": "histogram2dcontour"
           }
          ],
          "mesh3d": [
           {
            "colorbar": {
             "outlinewidth": 0,
             "ticks": ""
            },
            "type": "mesh3d"
           }
          ],
          "parcoords": [
           {
            "line": {
             "colorbar": {
              "outlinewidth": 0,
              "ticks": ""
             }
            },
            "type": "parcoords"
           }
          ],
          "pie": [
           {
            "automargin": true,
            "type": "pie"
           }
          ],
          "scatter": [
           {
            "fillpattern": {
             "fillmode": "overlay",
             "size": 10,
             "solidity": 0.2
            },
            "type": "scatter"
           }
          ],
          "scatter3d": [
           {
            "line": {
             "colorbar": {
              "outlinewidth": 0,
              "ticks": ""
             }
            },
            "marker": {
             "colorbar": {
              "outlinewidth": 0,
              "ticks": ""
             }
            },
            "type": "scatter3d"
           }
          ],
          "scattercarpet": [
           {
            "marker": {
             "colorbar": {
              "outlinewidth": 0,
              "ticks": ""
             }
            },
            "type": "scattercarpet"
           }
          ],
          "scattergeo": [
           {
            "marker": {
             "colorbar": {
              "outlinewidth": 0,
              "ticks": ""
             }
            },
            "type": "scattergeo"
           }
          ],
          "scattergl": [
           {
            "marker": {
             "colorbar": {
              "outlinewidth": 0,
              "ticks": ""
             }
            },
            "type": "scattergl"
           }
          ],
          "scattermapbox": [
           {
            "marker": {
             "colorbar": {
              "outlinewidth": 0,
              "ticks": ""
             }
            },
            "type": "scattermapbox"
           }
          ],
          "scatterpolar": [
           {
            "marker": {
             "colorbar": {
              "outlinewidth": 0,
              "ticks": ""
             }
            },
            "type": "scatterpolar"
           }
          ],
          "scatterpolargl": [
           {
            "marker": {
             "colorbar": {
              "outlinewidth": 0,
              "ticks": ""
             }
            },
            "type": "scatterpolargl"
           }
          ],
          "scatterternary": [
           {
            "marker": {
             "colorbar": {
              "outlinewidth": 0,
              "ticks": ""
             }
            },
            "type": "scatterternary"
           }
          ],
          "surface": [
           {
            "colorbar": {
             "outlinewidth": 0,
             "ticks": ""
            },
            "colorscale": [
             [
              0,
              "#0d0887"
             ],
             [
              0.1111111111111111,
              "#46039f"
             ],
             [
              0.2222222222222222,
              "#7201a8"
             ],
             [
              0.3333333333333333,
              "#9c179e"
             ],
             [
              0.4444444444444444,
              "#bd3786"
             ],
             [
              0.5555555555555556,
              "#d8576b"
             ],
             [
              0.6666666666666666,
              "#ed7953"
             ],
             [
              0.7777777777777778,
              "#fb9f3a"
             ],
             [
              0.8888888888888888,
              "#fdca26"
             ],
             [
              1,
              "#f0f921"
             ]
            ],
            "type": "surface"
           }
          ],
          "table": [
           {
            "cells": {
             "fill": {
              "color": "#EBF0F8"
             },
             "line": {
              "color": "white"
             }
            },
            "header": {
             "fill": {
              "color": "#C8D4E3"
             },
             "line": {
              "color": "white"
             }
            },
            "type": "table"
           }
          ]
         },
         "layout": {
          "annotationdefaults": {
           "arrowcolor": "#2a3f5f",
           "arrowhead": 0,
           "arrowwidth": 1
          },
          "autotypenumbers": "strict",
          "coloraxis": {
           "colorbar": {
            "outlinewidth": 0,
            "ticks": ""
           }
          },
          "colorscale": {
           "diverging": [
            [
             0,
             "#8e0152"
            ],
            [
             0.1,
             "#c51b7d"
            ],
            [
             0.2,
             "#de77ae"
            ],
            [
             0.3,
             "#f1b6da"
            ],
            [
             0.4,
             "#fde0ef"
            ],
            [
             0.5,
             "#f7f7f7"
            ],
            [
             0.6,
             "#e6f5d0"
            ],
            [
             0.7,
             "#b8e186"
            ],
            [
             0.8,
             "#7fbc41"
            ],
            [
             0.9,
             "#4d9221"
            ],
            [
             1,
             "#276419"
            ]
           ],
           "sequential": [
            [
             0,
             "#0d0887"
            ],
            [
             0.1111111111111111,
             "#46039f"
            ],
            [
             0.2222222222222222,
             "#7201a8"
            ],
            [
             0.3333333333333333,
             "#9c179e"
            ],
            [
             0.4444444444444444,
             "#bd3786"
            ],
            [
             0.5555555555555556,
             "#d8576b"
            ],
            [
             0.6666666666666666,
             "#ed7953"
            ],
            [
             0.7777777777777778,
             "#fb9f3a"
            ],
            [
             0.8888888888888888,
             "#fdca26"
            ],
            [
             1,
             "#f0f921"
            ]
           ],
           "sequentialminus": [
            [
             0,
             "#0d0887"
            ],
            [
             0.1111111111111111,
             "#46039f"
            ],
            [
             0.2222222222222222,
             "#7201a8"
            ],
            [
             0.3333333333333333,
             "#9c179e"
            ],
            [
             0.4444444444444444,
             "#bd3786"
            ],
            [
             0.5555555555555556,
             "#d8576b"
            ],
            [
             0.6666666666666666,
             "#ed7953"
            ],
            [
             0.7777777777777778,
             "#fb9f3a"
            ],
            [
             0.8888888888888888,
             "#fdca26"
            ],
            [
             1,
             "#f0f921"
            ]
           ]
          },
          "colorway": [
           "#636efa",
           "#EF553B",
           "#00cc96",
           "#ab63fa",
           "#FFA15A",
           "#19d3f3",
           "#FF6692",
           "#B6E880",
           "#FF97FF",
           "#FECB52"
          ],
          "font": {
           "color": "#2a3f5f"
          },
          "geo": {
           "bgcolor": "white",
           "lakecolor": "white",
           "landcolor": "white",
           "showlakes": true,
           "showland": true,
           "subunitcolor": "#C8D4E3"
          },
          "hoverlabel": {
           "align": "left"
          },
          "hovermode": "closest",
          "mapbox": {
           "style": "light"
          },
          "paper_bgcolor": "white",
          "plot_bgcolor": "white",
          "polar": {
           "angularaxis": {
            "gridcolor": "#EBF0F8",
            "linecolor": "#EBF0F8",
            "ticks": ""
           },
           "bgcolor": "white",
           "radialaxis": {
            "gridcolor": "#EBF0F8",
            "linecolor": "#EBF0F8",
            "ticks": ""
           }
          },
          "scene": {
           "xaxis": {
            "backgroundcolor": "white",
            "gridcolor": "#DFE8F3",
            "gridwidth": 2,
            "linecolor": "#EBF0F8",
            "showbackground": true,
            "ticks": "",
            "zerolinecolor": "#EBF0F8"
           },
           "yaxis": {
            "backgroundcolor": "white",
            "gridcolor": "#DFE8F3",
            "gridwidth": 2,
            "linecolor": "#EBF0F8",
            "showbackground": true,
            "ticks": "",
            "zerolinecolor": "#EBF0F8"
           },
           "zaxis": {
            "backgroundcolor": "white",
            "gridcolor": "#DFE8F3",
            "gridwidth": 2,
            "linecolor": "#EBF0F8",
            "showbackground": true,
            "ticks": "",
            "zerolinecolor": "#EBF0F8"
           }
          },
          "shapedefaults": {
           "line": {
            "color": "#2a3f5f"
           }
          },
          "ternary": {
           "aaxis": {
            "gridcolor": "#DFE8F3",
            "linecolor": "#A2B1C6",
            "ticks": ""
           },
           "baxis": {
            "gridcolor": "#DFE8F3",
            "linecolor": "#A2B1C6",
            "ticks": ""
           },
           "bgcolor": "white",
           "caxis": {
            "gridcolor": "#DFE8F3",
            "linecolor": "#A2B1C6",
            "ticks": ""
           }
          },
          "title": {
           "x": 0.05
          },
          "xaxis": {
           "automargin": true,
           "gridcolor": "#EBF0F8",
           "linecolor": "#EBF0F8",
           "ticks": "",
           "title": {
            "standoff": 15
           },
           "zerolinecolor": "#EBF0F8",
           "zerolinewidth": 2
          },
          "yaxis": {
           "automargin": true,
           "gridcolor": "#EBF0F8",
           "linecolor": "#EBF0F8",
           "ticks": "",
           "title": {
            "standoff": 15
           },
           "zerolinecolor": "#EBF0F8",
           "zerolinewidth": 2
          }
         }
        },
        "xaxis": {
         "anchor": "y",
         "domain": [
          0,
          1
         ],
         "showticklabels": true,
         "ticktext": [
          "0<br><span style='color:DarkGray'>(1, 820)<span>",
          "1<br><span style='color:DarkGray'>(6, 298)<span>",
          "2<br><span style='color:DarkGray'>(30, 105)<span>",
          "3<br><span style='color:DarkGray'>(149, 32)<span>",
          "4<br><span style='color:DarkGray'>(280, 10)<span>",
          "5<br><span style='color:DarkGray'>(200, 5)<span>",
          "6<br><span style='color:DarkGray'>(172, 2)<span>",
          "7<br><span style='color:DarkGray'>(39, 1)<span>"
         ],
         "tickvals": [
          0,
          1,
          2,
          3,
          4,
          5,
          6,
          7
         ],
         "title": {
          "text": "Length of shared initial commitments<br><span style='color:DarkGray'>(Number of groups, Group size)<span>"
         }
        },
        "yaxis": {
         "anchor": "x",
         "domain": [
          0,
          1
         ],
         "range": [
          0,
          7.1
         ],
         "showticklabels": true,
         "title": {
          "text": "Mean relative share"
         }
        }
       }
      },
      "text/html": [
       "<div>                            <div id=\"b52b0dff-1df8-4608-82f1-9864d5b20e2a\" class=\"plotly-graph-div\" style=\"height:525px; width:100%;\"></div>            <script type=\"text/javascript\">                require([\"plotly\"], function(Plotly) {                    window.PLOTLYENV=window.PLOTLYENV || {};                                    if (document.getElementById(\"b52b0dff-1df8-4608-82f1-9864d5b20e2a\")) {                    Plotly.newPlot(                        \"b52b0dff-1df8-4608-82f1-9864d5b20e2a\",                        [{\"alignmentgroup\":\"True\",\"hovertemplate\":\"len_shared_init_coms=%{x}<br>n_conflicts=%{y}<extra></extra>\",\"legendgroup\":\"\",\"marker\":{\"color\":\"#29ae80\"},\"name\":\"Groups of full RE fixed points covering the entire sentence pool\",\"notched\":true,\"offsetgroup\":\"\",\"orientation\":\"v\",\"showlegend\":true,\"x\":[0,1,2,3,4,5,6,7,0,1,2,3,4,5,6,7,0,1,2,3,4,5,6,7,0,1,2,3,4,5,6,7,0,1,2,3,4,5,6,7,0,1,2,3,4,5,6,7,0,1,2,3,4,5,6,7,0,1,2,3,4,5,6,7,0,1,2,3,4,5,6,7,0,1,2,3,4,5,6,7,0,1,2,3,4,5,6,7,0,1,2,3,4,5,6,7,0,1,2,3,4,5,6,7,0,1,2,3,4,5,6,7,0,1,2,3,4,5,6,7,0,1,2,3,4,5,6,7,0,1,2,3,4,5,6,7,0,1,2,3,4,5,6,7,0,1,2,3,4,5,6,7,0,1,2,3,4,5,6,7,0,1,2,3,4,5,6,7,0,1,2,3,4,5,0,1,2,3,4,5,6,7,0,7,0,1,2,3,4,5,6,7],\"x0\":\" \",\"xaxis\":\"x\",\"y\":[5.0,5.0,5.0,0.0,0.0,0.0,0.0,0.0,7.0,6.0,5.0,2.0,0.0,0.0,0.0,0.0,5.0,4.5,4.0,2.0,0.0,0.0,0.0,0.0,6.0,6.0,6.0,2.0,0.0,0.0,0.0,0.0,7.0,7.0,6.0,4.0,2.0,0.0,0.0,0.0,7.0,7.0,7.0,5.0,2.0,0.0,0.0,0.0,7.0,7.0,7.0,5.0,3.0,0.0,0.0,0.0,5.0,5.0,4.0,2.0,0.0,0.0,0.0,0.0,7.0,7.0,7.0,5.0,2.5,0.0,0.0,0.0,7.0,7.0,7.0,6.0,4.0,0.0,0.0,0.0,6.0,5.5,5.0,2.0,0.0,0.0,0.0,0.0,6.0,6.0,6.0,4.0,0.0,0.0,0.0,0.0,7.0,7.0,7.0,6.0,0.0,0.0,0.0,0.0,7.0,7.0,7.0,4.0,0.0,0.0,0.0,0.0,5.0,5.0,4.0,3.0,0.0,0.0,0.0,0.0,6.0,6.0,6.0,3.0,0.0,0.0,0.0,0.0,7.0,7.0,7.0,6.0,3.0,0.0,0.0,0.0,7.0,7.0,7.0,3.0,0.0,0.0,0.0,0.0,7.0,7.0,7.0,4.0,0.0,0.0,0.0,0.0,7.0,7.0,7.0,7.0,4.0,0.0,0.0,0.0,7.0,7.0,7.0,6.0,4.0,0.0,0.0,0.0,4.0,4.0,3.5,0.0,0.0,0.0,6.0,6.0,4.0,3.0,0.0,0.0,0.0,0.0,3.0,0.0,7.0,7.0,7.0,7.0,6.0,5.0,2.0,0.0],\"y0\":\" \",\"yaxis\":\"y\",\"type\":\"box\",\"boxmean\":true}],                        {\"template\":{\"data\":{\"barpolar\":[{\"marker\":{\"line\":{\"color\":\"white\",\"width\":0.5},\"pattern\":{\"fillmode\":\"overlay\",\"size\":10,\"solidity\":0.2}},\"type\":\"barpolar\"}],\"bar\":[{\"error_x\":{\"color\":\"#2a3f5f\"},\"error_y\":{\"color\":\"#2a3f5f\"},\"marker\":{\"line\":{\"color\":\"white\",\"width\":0.5},\"pattern\":{\"fillmode\":\"overlay\",\"size\":10,\"solidity\":0.2}},\"type\":\"bar\"}],\"carpet\":[{\"aaxis\":{\"endlinecolor\":\"#2a3f5f\",\"gridcolor\":\"#C8D4E3\",\"linecolor\":\"#C8D4E3\",\"minorgridcolor\":\"#C8D4E3\",\"startlinecolor\":\"#2a3f5f\"},\"baxis\":{\"endlinecolor\":\"#2a3f5f\",\"gridcolor\":\"#C8D4E3\",\"linecolor\":\"#C8D4E3\",\"minorgridcolor\":\"#C8D4E3\",\"startlinecolor\":\"#2a3f5f\"},\"type\":\"carpet\"}],\"choropleth\":[{\"colorbar\":{\"outlinewidth\":0,\"ticks\":\"\"},\"type\":\"choropleth\"}],\"contourcarpet\":[{\"colorbar\":{\"outlinewidth\":0,\"ticks\":\"\"},\"type\":\"contourcarpet\"}],\"contour\":[{\"colorbar\":{\"outlinewidth\":0,\"ticks\":\"\"},\"colorscale\":[[0.0,\"#0d0887\"],[0.1111111111111111,\"#46039f\"],[0.2222222222222222,\"#7201a8\"],[0.3333333333333333,\"#9c179e\"],[0.4444444444444444,\"#bd3786\"],[0.5555555555555556,\"#d8576b\"],[0.6666666666666666,\"#ed7953\"],[0.7777777777777778,\"#fb9f3a\"],[0.8888888888888888,\"#fdca26\"],[1.0,\"#f0f921\"]],\"type\":\"contour\"}],\"heatmapgl\":[{\"colorbar\":{\"outlinewidth\":0,\"ticks\":\"\"},\"colorscale\":[[0.0,\"#0d0887\"],[0.1111111111111111,\"#46039f\"],[0.2222222222222222,\"#7201a8\"],[0.3333333333333333,\"#9c179e\"],[0.4444444444444444,\"#bd3786\"],[0.5555555555555556,\"#d8576b\"],[0.6666666666666666,\"#ed7953\"],[0.7777777777777778,\"#fb9f3a\"],[0.8888888888888888,\"#fdca26\"],[1.0,\"#f0f921\"]],\"type\":\"heatmapgl\"}],\"heatmap\":[{\"colorbar\":{\"outlinewidth\":0,\"ticks\":\"\"},\"colorscale\":[[0.0,\"#0d0887\"],[0.1111111111111111,\"#46039f\"],[0.2222222222222222,\"#7201a8\"],[0.3333333333333333,\"#9c179e\"],[0.4444444444444444,\"#bd3786\"],[0.5555555555555556,\"#d8576b\"],[0.6666666666666666,\"#ed7953\"],[0.7777777777777778,\"#fb9f3a\"],[0.8888888888888888,\"#fdca26\"],[1.0,\"#f0f921\"]],\"type\":\"heatmap\"}],\"histogram2dcontour\":[{\"colorbar\":{\"outlinewidth\":0,\"ticks\":\"\"},\"colorscale\":[[0.0,\"#0d0887\"],[0.1111111111111111,\"#46039f\"],[0.2222222222222222,\"#7201a8\"],[0.3333333333333333,\"#9c179e\"],[0.4444444444444444,\"#bd3786\"],[0.5555555555555556,\"#d8576b\"],[0.6666666666666666,\"#ed7953\"],[0.7777777777777778,\"#fb9f3a\"],[0.8888888888888888,\"#fdca26\"],[1.0,\"#f0f921\"]],\"type\":\"histogram2dcontour\"}],\"histogram2d\":[{\"colorbar\":{\"outlinewidth\":0,\"ticks\":\"\"},\"colorscale\":[[0.0,\"#0d0887\"],[0.1111111111111111,\"#46039f\"],[0.2222222222222222,\"#7201a8\"],[0.3333333333333333,\"#9c179e\"],[0.4444444444444444,\"#bd3786\"],[0.5555555555555556,\"#d8576b\"],[0.6666666666666666,\"#ed7953\"],[0.7777777777777778,\"#fb9f3a\"],[0.8888888888888888,\"#fdca26\"],[1.0,\"#f0f921\"]],\"type\":\"histogram2d\"}],\"histogram\":[{\"marker\":{\"pattern\":{\"fillmode\":\"overlay\",\"size\":10,\"solidity\":0.2}},\"type\":\"histogram\"}],\"mesh3d\":[{\"colorbar\":{\"outlinewidth\":0,\"ticks\":\"\"},\"type\":\"mesh3d\"}],\"parcoords\":[{\"line\":{\"colorbar\":{\"outlinewidth\":0,\"ticks\":\"\"}},\"type\":\"parcoords\"}],\"pie\":[{\"automargin\":true,\"type\":\"pie\"}],\"scatter3d\":[{\"line\":{\"colorbar\":{\"outlinewidth\":0,\"ticks\":\"\"}},\"marker\":{\"colorbar\":{\"outlinewidth\":0,\"ticks\":\"\"}},\"type\":\"scatter3d\"}],\"scattercarpet\":[{\"marker\":{\"colorbar\":{\"outlinewidth\":0,\"ticks\":\"\"}},\"type\":\"scattercarpet\"}],\"scattergeo\":[{\"marker\":{\"colorbar\":{\"outlinewidth\":0,\"ticks\":\"\"}},\"type\":\"scattergeo\"}],\"scattergl\":[{\"marker\":{\"colorbar\":{\"outlinewidth\":0,\"ticks\":\"\"}},\"type\":\"scattergl\"}],\"scattermapbox\":[{\"marker\":{\"colorbar\":{\"outlinewidth\":0,\"ticks\":\"\"}},\"type\":\"scattermapbox\"}],\"scatterpolargl\":[{\"marker\":{\"colorbar\":{\"outlinewidth\":0,\"ticks\":\"\"}},\"type\":\"scatterpolargl\"}],\"scatterpolar\":[{\"marker\":{\"colorbar\":{\"outlinewidth\":0,\"ticks\":\"\"}},\"type\":\"scatterpolar\"}],\"scatter\":[{\"fillpattern\":{\"fillmode\":\"overlay\",\"size\":10,\"solidity\":0.2},\"type\":\"scatter\"}],\"scatterternary\":[{\"marker\":{\"colorbar\":{\"outlinewidth\":0,\"ticks\":\"\"}},\"type\":\"scatterternary\"}],\"surface\":[{\"colorbar\":{\"outlinewidth\":0,\"ticks\":\"\"},\"colorscale\":[[0.0,\"#0d0887\"],[0.1111111111111111,\"#46039f\"],[0.2222222222222222,\"#7201a8\"],[0.3333333333333333,\"#9c179e\"],[0.4444444444444444,\"#bd3786\"],[0.5555555555555556,\"#d8576b\"],[0.6666666666666666,\"#ed7953\"],[0.7777777777777778,\"#fb9f3a\"],[0.8888888888888888,\"#fdca26\"],[1.0,\"#f0f921\"]],\"type\":\"surface\"}],\"table\":[{\"cells\":{\"fill\":{\"color\":\"#EBF0F8\"},\"line\":{\"color\":\"white\"}},\"header\":{\"fill\":{\"color\":\"#C8D4E3\"},\"line\":{\"color\":\"white\"}},\"type\":\"table\"}]},\"layout\":{\"annotationdefaults\":{\"arrowcolor\":\"#2a3f5f\",\"arrowhead\":0,\"arrowwidth\":1},\"autotypenumbers\":\"strict\",\"coloraxis\":{\"colorbar\":{\"outlinewidth\":0,\"ticks\":\"\"}},\"colorscale\":{\"diverging\":[[0,\"#8e0152\"],[0.1,\"#c51b7d\"],[0.2,\"#de77ae\"],[0.3,\"#f1b6da\"],[0.4,\"#fde0ef\"],[0.5,\"#f7f7f7\"],[0.6,\"#e6f5d0\"],[0.7,\"#b8e186\"],[0.8,\"#7fbc41\"],[0.9,\"#4d9221\"],[1,\"#276419\"]],\"sequential\":[[0.0,\"#0d0887\"],[0.1111111111111111,\"#46039f\"],[0.2222222222222222,\"#7201a8\"],[0.3333333333333333,\"#9c179e\"],[0.4444444444444444,\"#bd3786\"],[0.5555555555555556,\"#d8576b\"],[0.6666666666666666,\"#ed7953\"],[0.7777777777777778,\"#fb9f3a\"],[0.8888888888888888,\"#fdca26\"],[1.0,\"#f0f921\"]],\"sequentialminus\":[[0.0,\"#0d0887\"],[0.1111111111111111,\"#46039f\"],[0.2222222222222222,\"#7201a8\"],[0.3333333333333333,\"#9c179e\"],[0.4444444444444444,\"#bd3786\"],[0.5555555555555556,\"#d8576b\"],[0.6666666666666666,\"#ed7953\"],[0.7777777777777778,\"#fb9f3a\"],[0.8888888888888888,\"#fdca26\"],[1.0,\"#f0f921\"]]},\"colorway\":[\"#636efa\",\"#EF553B\",\"#00cc96\",\"#ab63fa\",\"#FFA15A\",\"#19d3f3\",\"#FF6692\",\"#B6E880\",\"#FF97FF\",\"#FECB52\"],\"font\":{\"color\":\"#2a3f5f\"},\"geo\":{\"bgcolor\":\"white\",\"lakecolor\":\"white\",\"landcolor\":\"white\",\"showlakes\":true,\"showland\":true,\"subunitcolor\":\"#C8D4E3\"},\"hoverlabel\":{\"align\":\"left\"},\"hovermode\":\"closest\",\"mapbox\":{\"style\":\"light\"},\"paper_bgcolor\":\"white\",\"plot_bgcolor\":\"white\",\"polar\":{\"angularaxis\":{\"gridcolor\":\"#EBF0F8\",\"linecolor\":\"#EBF0F8\",\"ticks\":\"\"},\"bgcolor\":\"white\",\"radialaxis\":{\"gridcolor\":\"#EBF0F8\",\"linecolor\":\"#EBF0F8\",\"ticks\":\"\"}},\"scene\":{\"xaxis\":{\"backgroundcolor\":\"white\",\"gridcolor\":\"#DFE8F3\",\"gridwidth\":2,\"linecolor\":\"#EBF0F8\",\"showbackground\":true,\"ticks\":\"\",\"zerolinecolor\":\"#EBF0F8\"},\"yaxis\":{\"backgroundcolor\":\"white\",\"gridcolor\":\"#DFE8F3\",\"gridwidth\":2,\"linecolor\":\"#EBF0F8\",\"showbackground\":true,\"ticks\":\"\",\"zerolinecolor\":\"#EBF0F8\"},\"zaxis\":{\"backgroundcolor\":\"white\",\"gridcolor\":\"#DFE8F3\",\"gridwidth\":2,\"linecolor\":\"#EBF0F8\",\"showbackground\":true,\"ticks\":\"\",\"zerolinecolor\":\"#EBF0F8\"}},\"shapedefaults\":{\"line\":{\"color\":\"#2a3f5f\"}},\"ternary\":{\"aaxis\":{\"gridcolor\":\"#DFE8F3\",\"linecolor\":\"#A2B1C6\",\"ticks\":\"\"},\"baxis\":{\"gridcolor\":\"#DFE8F3\",\"linecolor\":\"#A2B1C6\",\"ticks\":\"\"},\"bgcolor\":\"white\",\"caxis\":{\"gridcolor\":\"#DFE8F3\",\"linecolor\":\"#A2B1C6\",\"ticks\":\"\"}},\"title\":{\"x\":0.05},\"xaxis\":{\"automargin\":true,\"gridcolor\":\"#EBF0F8\",\"linecolor\":\"#EBF0F8\",\"ticks\":\"\",\"title\":{\"standoff\":15},\"zerolinecolor\":\"#EBF0F8\",\"zerolinewidth\":2},\"yaxis\":{\"automargin\":true,\"gridcolor\":\"#EBF0F8\",\"linecolor\":\"#EBF0F8\",\"ticks\":\"\",\"title\":{\"standoff\":15},\"zerolinecolor\":\"#EBF0F8\",\"zerolinewidth\":2}}},\"xaxis\":{\"anchor\":\"y\",\"domain\":[0.0,1.0],\"title\":{\"text\":\"Length of shared initial commitments<br><span style='color:DarkGray'>(Number of groups, Group size)<span>\"},\"showticklabels\":true,\"tickvals\":[0,1,2,3,4,5,6,7],\"ticktext\":[\"0<br><span style='color:DarkGray'>(1, 820)<span>\",\"1<br><span style='color:DarkGray'>(6, 298)<span>\",\"2<br><span style='color:DarkGray'>(30, 105)<span>\",\"3<br><span style='color:DarkGray'>(149, 32)<span>\",\"4<br><span style='color:DarkGray'>(280, 10)<span>\",\"5<br><span style='color:DarkGray'>(200, 5)<span>\",\"6<br><span style='color:DarkGray'>(172, 2)<span>\",\"7<br><span style='color:DarkGray'>(39, 1)<span>\"]},\"yaxis\":{\"anchor\":\"x\",\"domain\":[0.0,1.0],\"title\":{\"text\":\"Mean relative share\"},\"showticklabels\":true,\"range\":[0,7.1]},\"legend\":{\"tracegroupgap\":0,\"title\":{\"text\":\"\"},\"orientation\":\"h\",\"yanchor\":\"bottom\",\"y\":1.02,\"xanchor\":\"left\",\"x\":-0.005},\"margin\":{\"t\":60,\"b\":110},\"boxmode\":\"group\"},                        {\"responsive\": true}                    ).then(function(){\n",
       "                            \n",
       "var gd = document.getElementById('b52b0dff-1df8-4608-82f1-9864d5b20e2a');\n",
       "var x = new MutationObserver(function (mutations, observer) {{\n",
       "        var display = window.getComputedStyle(gd).display;\n",
       "        if (!display || display === 'none') {{\n",
       "            console.log([gd, 'removed!']);\n",
       "            Plotly.purge(gd);\n",
       "            observer.disconnect();\n",
       "        }}\n",
       "}});\n",
       "\n",
       "// Listen for the removal of the full notebook cells\n",
       "var notebookContainer = gd.closest('#notebook-container');\n",
       "if (notebookContainer) {{\n",
       "    x.observe(notebookContainer, {childList: true});\n",
       "}}\n",
       "\n",
       "// Listen for the clearing of the current output cell\n",
       "var outputEl = gd.closest('.output');\n",
       "if (outputEl) {{\n",
       "    x.observe(outputEl, {childList: true});\n",
       "}}\n",
       "\n",
       "                        })                };                });            </script>        </div>"
      ]
     },
     "metadata": {},
     "output_type": "display_data"
    }
   ],
   "source": [
    "# restrict to configuration\n",
    "df = result_df[result_df[\"configuration\"]==configuration]\n",
    "\n",
    "df = result_df.groupby([\"ds\", \"len_shared_init_coms\"])[[\"init_coms_group_size\",\"n_conflicts\", \"n_fp\"]].median().reset_index()\n",
    "\n",
    "#df = df.groupby([\"ds\",\"len_shared_init_coms\"])[[\"n_unique_sentences\"]].median().reset_index()\n",
    "\n",
    "#df= result_df.groupby([\"ds\",\"len_shared_init_coms\"])[\"anything_goes\"].mean().reset_index().groupby(\"len_shared_init_coms\")[\"anything_goes\"].mean().reset_index()\n",
    "\n",
    "#df[\"anything_goes\"] = df[\"anything_goes\"].astype(float).round(decimals=2)\n",
    "\n",
    "fig = px.box(df, x=\"len_shared_init_coms\", y=\"n_conflicts\", \n",
    "                 #barmode=\"group\", \n",
    "                 #text_auto=True, \n",
    "                 notched=True\n",
    "                )\n",
    "\n",
    "\n",
    "\n",
    "#fig.update_traces(marker_color=viridis[3], name=\"global optima\", selector={\"name\":\"go\"})\n",
    "fig.update_traces(marker_color=viridis[2], \n",
    "                  name=\"Groups of full RE fixed points covering the entire sentence pool\", \n",
    "                  showlegend=True,\n",
    "                  boxmean=True)\n",
    "#fig.update_traces(marker_color=viridis[1], name=\"streamlined outputs\", selector={\"name\":\"so\"})\n",
    "\n",
    "#fig.update_layout(width=850)\n",
    "fig.update_layout(template=\"plotly_white\",\n",
    "                 legend_title=\"\",\n",
    "                 #title=\"Relative Share of Full RE Output Groups Covering the Entire Sentence Pool\"\n",
    "                 )\n",
    "fig.update_xaxes(title=\"Length of shared initial commitments<br><span style='color:DarkGray'>(Number of groups, Group size)<span>\", showticklabels=True)\n",
    "fig.update_yaxes(title=\"Mean relative share\", showticklabels=True, range=[0, 7.1])\n",
    "\n",
    "fig.update_layout(legend=dict(\n",
    "    orientation=\"h\",\n",
    "    yanchor=\"bottom\",\n",
    "    y=1.02,\n",
    "    xanchor=\"left\",\n",
    "    x=-0.005\n",
    "))\n",
    "#fig.add_annotation(dict(font=dict(color=\"black\",size=12),\n",
    "#                                showarrow=False,\n",
    "#                                x=-0.035,\n",
    "#                                y=1.05,\n",
    "#                                text=annotation_text,\n",
    "#                                textangle=0,\n",
    "#                                xref=\"paper\",\n",
    "#                               yref=\"paper\"))\n",
    "\n",
    "# branch off second df for ticktexts with group sizes\n",
    "dff = result_df.groupby([\"ds\", \"len_shared_init_coms\"])[\"shared_init_coms\"].nunique().reset_index()\n",
    "dff= dff.groupby(\"len_shared_init_coms\")[\"shared_init_coms\"].median().reset_index()\n",
    "dff[\"group_size\"] = result_df.groupby(\"len_shared_init_coms\")[[\"init_coms_group_size\"]].median()\n",
    "\n",
    "   \n",
    "ticktexts = [\"{}<br><span style='color:DarkGray'>({}, {})<span>\".format(row[1][\"len_shared_init_coms\"].astype(int), \n",
    "                                     row[1][\"shared_init_coms\"].astype(int), \n",
    "                                     row[1][\"group_size\"].astype(int)) for row in dff.iterrows()]\n",
    "\n",
    "\n",
    "fig.update_layout(\n",
    "    xaxis = dict(\n",
    "        tickvals = list(range(0,8)),\n",
    "        ticktext = ticktexts))\n",
    "\n",
    "fig.update_layout(margin={\"b\":110})\n",
    "\n",
    "fig.show()\n",
    "\n",
    "#pio.write_image(fig, path.join(plot_dir, file_name), scale=2)"
   ]
  },
  {
   "cell_type": "code",
   "execution_count": null,
   "id": "1438d313",
   "metadata": {},
   "outputs": [],
   "source": []
  }
 ],
 "metadata": {
  "kernelspec": {
   "display_name": "Python 3 (ipykernel)",
   "language": "python",
   "name": "python3"
  },
  "language_info": {
   "codemirror_mode": {
    "name": "ipython",
    "version": 3
   },
   "file_extension": ".py",
   "mimetype": "text/x-python",
   "name": "python",
   "nbconvert_exporter": "python",
   "pygments_lexer": "ipython3",
   "version": "3.9.7"
  }
 },
 "nbformat": 4,
 "nbformat_minor": 5
}
