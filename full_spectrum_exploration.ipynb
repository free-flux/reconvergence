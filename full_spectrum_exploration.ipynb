{
 "cells": [
  {
   "cell_type": "code",
   "execution_count": 1,
   "id": "62d76757",
   "metadata": {},
   "outputs": [],
   "source": [
    "from os import getcwd, path\n",
    "import tarfile\n",
    "\n",
    "import warnings\n",
    "warnings.filterwarnings(\"ignore\")"
   ]
  },
  {
   "cell_type": "code",
   "execution_count": 2,
   "id": "41daf164",
   "metadata": {},
   "outputs": [],
   "source": [
    "from pandas import DataFrame\n",
    "import pandas as pd\n",
    "import numpy as np\n",
    "from typing import List\n",
    "from ast import literal_eval"
   ]
  },
  {
   "cell_type": "code",
   "execution_count": 3,
   "id": "73ad811b",
   "metadata": {},
   "outputs": [],
   "source": [
    "import plotly.express as px\n",
    "import plotly.graph_objects as go\n",
    "import plotly.io as pio\n",
    "from plotly.subplots import make_subplots"
   ]
  },
  {
   "cell_type": "code",
   "execution_count": 4,
   "id": "2cccff70",
   "metadata": {},
   "outputs": [],
   "source": [
    "# color palette\n",
    "viridis = [\"#472c7a\", \"#2c718e\", \"#29ae80\", \"#b0dd31\"]\n",
    "viridis_light = [\"rgba(71, 44, 122, 0.5)\", \"rgba(44, 113, 142, 0.5)\", \"rgba(41, 174, 128, 0.5)\", \"rgba(176, 221, 49, 0.5)\"]\n",
    "\n",
    "#alt_colors = [\"#606060\"] + [None]*6\n",
    "#alt_colors[1::2] = list(reversed(viridis))[:-1]\n",
    "#alt_colors[2::2] = list(reversed(viridis_light))[:-1]\n",
    "\n",
    "alt_colors = [\"#606060\", \"#29ae80\", \"rgba(44, 113, 142, 0.5)\"]"
   ]
  },
  {
   "cell_type": "code",
   "execution_count": 5,
   "id": "6d8a0501",
   "metadata": {},
   "outputs": [],
   "source": [
    "def literal_eval_cols(data: DataFrame, cols: List[str]):\n",
    "    for col_name in cols:\n",
    "        data[col_name] = data.apply(lambda x: literal_eval(x[col_name]), axis=1)"
   ]
  },
  {
   "cell_type": "code",
   "execution_count": 6,
   "id": "552c0e7e",
   "metadata": {},
   "outputs": [],
   "source": [
    "data_dir = path.join(getcwd(), \"data\")\n",
    "plot_dir = path.join(getcwd(), \"plots\")"
   ]
  },
  {
   "cell_type": "code",
   "execution_count": 7,
   "id": "b1b49605",
   "metadata": {},
   "outputs": [
    {
     "name": "stdout",
     "output_type": "stream",
     "text": [
      "Index(['model_name', 'ds', 'n_sentence_pool', 'ds_infer_dens',\n",
      "       'ds_n_consistent_complete_positions', 'account_penalties',\n",
      "       'faithfulness_penalties', 'weight_account', 'weight_systematicity',\n",
      "       'weight_faithfulness', 'init_coms', 'init_coms_dia_consistent',\n",
      "       'fixed_point_coms', 'fixed_point_coms_consistent', 'fixed_point_theory',\n",
      "       'fixed_point_dia_consistent', 'n_branches', 'fixed_points',\n",
      "       'n_fixed_points', 'fp_coms_consistent', 'fp_union_consistent',\n",
      "       'fixed_point_is_global_optimum', 'fixed_point_is_re_state',\n",
      "       'fixed_point_is_full_re_state', 'global_optima', 'n_global_optima',\n",
      "       'go_coms_consistent', 'go_union_consistent', 'go_full_re_state',\n",
      "       'full_re_states', 'n_full_re_states', 'go_fixed_point',\n",
      "       'fp_full_re_state', 'fp_global_optimum', 'configuration'],\n",
      "      dtype='object')\n"
     ]
    },
    {
     "data": {
      "text/plain": [
       "(327900, 35)"
      ]
     },
     "execution_count": 7,
     "metadata": {},
     "output_type": "execute_result"
    }
   ],
   "source": [
    "# loading the data\n",
    "\n",
    "data_file_name = 'data_full_spectrum_convergence_rand_ex_all_configs.csv.tar.gz'\n",
    "\n",
    "if data_file_name[data_file_name.find('.'):len(data_file_name)] == '.csv.tar.gz':\n",
    "    with tarfile.open(path.join(data_dir,data_file_name)) as tar:\n",
    "        for tarinfo in tar:\n",
    "            file_name = tarinfo.name\n",
    "        tar.extractall(data_dir)\n",
    "    re_data = pd.read_csv(path.join(data_dir, file_name))\n",
    "\n",
    "else:\n",
    "    re_data = pd.read_csv(path.join(data_dir,data_file_name))\n",
    "\n",
    "print(re_data.columns)\n",
    "re_data.shape"
   ]
  },
  {
   "cell_type": "code",
   "execution_count": 8,
   "id": "efde8d7b",
   "metadata": {},
   "outputs": [],
   "source": [
    "re_data[\"configuration\"] = re_data.apply(lambda row: (row[\"weight_account\"], \n",
    "                                                      row[\"weight_systematicity\"], \n",
    "                                                      row[\"weight_faithfulness\"]), axis=1)"
   ]
  },
  {
   "cell_type": "markdown",
   "id": "7d91ba13",
   "metadata": {},
   "source": [
    "## \"Anything Goes\": Epistemic States"
   ]
  },
  {
   "cell_type": "code",
   "execution_count": 9,
   "id": "6ef31736",
   "metadata": {},
   "outputs": [
    {
     "data": {
      "text/plain": [
       "(327900, 35)"
      ]
     },
     "execution_count": 9,
     "metadata": {},
     "output_type": "execute_result"
    }
   ],
   "source": [
    "#re_data = re_data[re_data[\"configuration\"]==(0.35, 0.55, 0.1)]\n",
    "re_data.shape"
   ]
  },
  {
   "cell_type": "code",
   "execution_count": 10,
   "id": "4b9cb0a9",
   "metadata": {},
   "outputs": [
    {
     "data": {
      "text/plain": [
       "(65580, 35)"
      ]
     },
     "execution_count": 10,
     "metadata": {},
     "output_type": "execute_result"
    }
   ],
   "source": [
    "re_data[re_data[\"configuration\"]==(0.35, 0.55, 0.1)].shape"
   ]
  },
  {
   "cell_type": "code",
   "execution_count": 11,
   "id": "4a6aa8f5",
   "metadata": {},
   "outputs": [],
   "source": [
    "literal_eval_cols(re_data, [\"fixed_points\", \"fp_full_re_state\"])"
   ]
  },
  {
   "cell_type": "code",
   "execution_count": 12,
   "id": "9e829c37",
   "metadata": {},
   "outputs": [],
   "source": [
    "fp_df = re_data[[\"ds\", \"configuration\", \"init_coms\", \"fixed_points\", \"fp_full_re_state\"]]"
   ]
  },
  {
   "cell_type": "code",
   "execution_count": 13,
   "id": "e5e6bc21",
   "metadata": {},
   "outputs": [],
   "source": [
    "fp_df[\"fixed_points_lengths\"] = fp_df.apply(lambda row: [(len(fp[0]), len(fp[1])) \n",
    "                                                                       for fp in row[\"fixed_points\"]], axis=1)"
   ]
  },
  {
   "cell_type": "code",
   "execution_count": 14,
   "id": "eeb23c43",
   "metadata": {},
   "outputs": [
    {
     "data": {
      "text/plain": [
       "(575470, 6)"
      ]
     },
     "execution_count": 14,
     "metadata": {},
     "output_type": "execute_result"
    }
   ],
   "source": [
    "# explode fixed point information\n",
    "ex_fp_df = fp_df.set_index([\"ds\", \"configuration\", \"init_coms\"]).apply(pd.Series.explode).reset_index()\n",
    "ex_fp_df.shape"
   ]
  },
  {
   "cell_type": "code",
   "execution_count": 15,
   "id": "a04a4f40",
   "metadata": {},
   "outputs": [
    {
     "data": {
      "text/plain": [
       "(215063, 6)"
      ]
     },
     "execution_count": 15,
     "metadata": {},
     "output_type": "execute_result"
    }
   ],
   "source": [
    "# restrict to full RE fixed points\n",
    "ex_fp_df = ex_fp_df[ex_fp_df[\"fp_full_re_state\"]]\n",
    "ex_fp_df.shape"
   ]
  },
  {
   "cell_type": "code",
   "execution_count": 16,
   "id": "affa40a2",
   "metadata": {},
   "outputs": [
    {
     "data": {
      "text/plain": [
       "configuration\n",
       "(0.35, 0.55, 0.1)    39772\n",
       "(0.46, 0.1, 0.44)    61964\n",
       "(0.55, 0.2, 0.25)    43616\n",
       "(0.55, 0.35, 0.1)    40556\n",
       "(0.7, 0.2, 0.1)      29155\n",
       "Name: fixed_points, dtype: int64"
      ]
     },
     "execution_count": 16,
     "metadata": {},
     "output_type": "execute_result"
    }
   ],
   "source": [
    "ex_fp_df.groupby(\"configuration\")[\"fixed_points\"].size()"
   ]
  },
  {
   "cell_type": "code",
   "execution_count": 17,
   "id": "cce81a1a",
   "metadata": {},
   "outputs": [],
   "source": [
    "# restrict further to non-trivial full RE fixed points\n",
    "# ex_fp_df = ex_fp_df[ex_fp_df[\"fixed_points_lengths\"]!=(1,1)]\n",
    "# ex_fp_df.shape"
   ]
  },
  {
   "cell_type": "code",
   "execution_count": 18,
   "id": "84a39a2a",
   "metadata": {},
   "outputs": [
    {
     "data": {
      "text/plain": [
       "configuration\n",
       "(0.35, 0.55, 0.1)    39772\n",
       "(0.46, 0.1, 0.44)    61964\n",
       "(0.55, 0.2, 0.25)    43616\n",
       "(0.55, 0.35, 0.1)    40556\n",
       "(0.7, 0.2, 0.1)      29155\n",
       "Name: fixed_points, dtype: int64"
      ]
     },
     "execution_count": 18,
     "metadata": {},
     "output_type": "execute_result"
    }
   ],
   "source": [
    "ex_fp_df.groupby(\"configuration\")[\"fixed_points\"].size()"
   ]
  },
  {
   "cell_type": "code",
   "execution_count": 19,
   "id": "01222ec6",
   "metadata": {},
   "outputs": [
    {
     "data": {
      "text/plain": [
       "configuration\n",
       "(0.35, 0.55, 0.1)    29275\n",
       "(0.46, 0.1, 0.44)    45998\n",
       "(0.55, 0.2, 0.25)    32057\n",
       "(0.55, 0.35, 0.1)    30876\n",
       "(0.7, 0.2, 0.1)      21143\n",
       "Name: init_coms, dtype: int64"
      ]
     },
     "execution_count": 19,
     "metadata": {},
     "output_type": "execute_result"
    }
   ],
   "source": [
    "ex_fp_df.groupby([\"configuration\", \"ds\"])[\"init_coms\"].nunique().reset_index().groupby(\"configuration\")[\"init_coms\"].sum()"
   ]
  },
  {
   "cell_type": "code",
   "execution_count": 20,
   "id": "f4a7e8fc",
   "metadata": {},
   "outputs": [
    {
     "data": {
      "text/html": [
       "<div>\n",
       "<style scoped>\n",
       "    .dataframe tbody tr th:only-of-type {\n",
       "        vertical-align: middle;\n",
       "    }\n",
       "\n",
       "    .dataframe tbody tr th {\n",
       "        vertical-align: top;\n",
       "    }\n",
       "\n",
       "    .dataframe thead tr th {\n",
       "        text-align: left;\n",
       "    }\n",
       "\n",
       "    .dataframe thead tr:last-of-type th {\n",
       "        text-align: right;\n",
       "    }\n",
       "</style>\n",
       "<table border=\"1\" class=\"dataframe\">\n",
       "  <thead>\n",
       "    <tr>\n",
       "      <th></th>\n",
       "      <th colspan=\"5\" halign=\"left\">init_coms</th>\n",
       "    </tr>\n",
       "    <tr>\n",
       "      <th>level_1</th>\n",
       "      <th>0.00</th>\n",
       "      <th>0.25</th>\n",
       "      <th>0.50</th>\n",
       "      <th>0.75</th>\n",
       "      <th>1.00</th>\n",
       "    </tr>\n",
       "    <tr>\n",
       "      <th>configuration</th>\n",
       "      <th></th>\n",
       "      <th></th>\n",
       "      <th></th>\n",
       "      <th></th>\n",
       "      <th></th>\n",
       "    </tr>\n",
       "  </thead>\n",
       "  <tbody>\n",
       "    <tr>\n",
       "      <th>(0.35, 0.55, 0.1)</th>\n",
       "      <td>429</td>\n",
       "      <td>754</td>\n",
       "      <td>983</td>\n",
       "      <td>1096</td>\n",
       "      <td>1647</td>\n",
       "    </tr>\n",
       "    <tr>\n",
       "      <th>(0.46, 0.1, 0.44)</th>\n",
       "      <td>1186</td>\n",
       "      <td>1452</td>\n",
       "      <td>1586</td>\n",
       "      <td>1659</td>\n",
       "      <td>1830</td>\n",
       "    </tr>\n",
       "    <tr>\n",
       "      <th>(0.55, 0.2, 0.25)</th>\n",
       "      <td>776</td>\n",
       "      <td>971</td>\n",
       "      <td>1109</td>\n",
       "      <td>1199</td>\n",
       "      <td>1338</td>\n",
       "    </tr>\n",
       "    <tr>\n",
       "      <th>(0.55, 0.35, 0.1)</th>\n",
       "      <td>600</td>\n",
       "      <td>870</td>\n",
       "      <td>1024</td>\n",
       "      <td>1156</td>\n",
       "      <td>1544</td>\n",
       "    </tr>\n",
       "    <tr>\n",
       "      <th>(0.7, 0.2, 0.1)</th>\n",
       "      <td>393</td>\n",
       "      <td>565</td>\n",
       "      <td>612</td>\n",
       "      <td>832</td>\n",
       "      <td>1346</td>\n",
       "    </tr>\n",
       "  </tbody>\n",
       "</table>\n",
       "</div>"
      ],
      "text/plain": [
       "                  init_coms                        \n",
       "level_1                0.00  0.25  0.50  0.75  1.00\n",
       "configuration                                      \n",
       "(0.35, 0.55, 0.1)       429   754   983  1096  1647\n",
       "(0.46, 0.1, 0.44)      1186  1452  1586  1659  1830\n",
       "(0.55, 0.2, 0.25)       776   971  1109  1199  1338\n",
       "(0.55, 0.35, 0.1)       600   870  1024  1156  1544\n",
       "(0.7, 0.2, 0.1)         393   565   612   832  1346"
      ]
     },
     "execution_count": 20,
     "metadata": {},
     "output_type": "execute_result"
    }
   ],
   "source": [
    "dfff = ex_fp_df.groupby([\"configuration\", \"ds\"])[\"init_coms\"].nunique().reset_index().groupby(\"configuration\")[\"init_coms\"].quantile([0.0, 0.25, 0.50, 0.75, 1.0], interpolation=\"higher\").reset_index()\n",
    "\n",
    "dfff.pivot(index=\"configuration\", columns=\"level_1\", values=[\"init_coms\"])"
   ]
  },
  {
   "cell_type": "code",
   "execution_count": 21,
   "id": "de0bf897",
   "metadata": {},
   "outputs": [
    {
     "data": {
      "text/plain": [
       "count    159349.000000\n",
       "mean          1.349635\n",
       "std           0.775089\n",
       "min           1.000000\n",
       "25%           1.000000\n",
       "50%           1.000000\n",
       "75%           1.000000\n",
       "max          16.000000\n",
       "Name: fixed_points, dtype: float64"
      ]
     },
     "execution_count": 21,
     "metadata": {},
     "output_type": "execute_result"
    }
   ],
   "source": [
    "# full RE fixed points per simulation setup.\n",
    "ex_fp_df.groupby([\"configuration\", \"ds\", \"init_coms\"])[\"fixed_points\"].size().describe()"
   ]
  },
  {
   "cell_type": "code",
   "execution_count": 22,
   "id": "eedd6c92",
   "metadata": {},
   "outputs": [
    {
     "data": {
      "text/plain": [
       "(38013, 4)"
      ]
     },
     "execution_count": 22,
     "metadata": {},
     "output_type": "execute_result"
    }
   ],
   "source": [
    "# number of simulation setups that result in more than one full RE fixed point\n",
    "n_fp_df = ex_fp_df.groupby([\"configuration\", \"ds\", \"init_coms\"])[\"fixed_points\"].size().reset_index()\n",
    "n_fp_df[n_fp_df[\"fixed_points\"]>1].shape"
   ]
  },
  {
   "cell_type": "code",
   "execution_count": 23,
   "id": "c5faca88",
   "metadata": {},
   "outputs": [
    {
     "data": {
      "text/plain": [
       "3.743126629890069"
      ]
     },
     "execution_count": 23,
     "metadata": {},
     "output_type": "execute_result"
    }
   ],
   "source": [
    "ex_fp_df.groupby([\"configuration\", \"ds\", \"init_coms\"])[\"fixed_points\"].size().skew()"
   ]
  },
  {
   "cell_type": "code",
   "execution_count": 24,
   "id": "3ecbffce",
   "metadata": {},
   "outputs": [],
   "source": [
    "# convert fixed points to sorted tuples\n",
    "ex_fp_df[\"fixed_points_tuple\"] = ex_fp_df.apply(lambda row: (tuple(sorted(row[\"fixed_points\"][0])), \n",
    "                                                             tuple(sorted(row[\"fixed_points\"][1]))), axis=1)"
   ]
  },
  {
   "cell_type": "code",
   "execution_count": 25,
   "id": "be5cf527",
   "metadata": {},
   "outputs": [],
   "source": [
    "dff = ex_fp_df.groupby([\"configuration\", \"ds\"])[\"fixed_points_tuple\"].nunique().reset_index()"
   ]
  },
  {
   "cell_type": "code",
   "execution_count": 86,
   "id": "e6bcbac6",
   "metadata": {},
   "outputs": [],
   "source": [
    "dfff = dff.groupby(\"configuration\")[\"fixed_points_tuple\"].quantile([0.5, 0.25, 0.75], interpolation=\"higher\").reset_index()"
   ]
  },
  {
   "cell_type": "code",
   "execution_count": 90,
   "id": "93eae48a",
   "metadata": {},
   "outputs": [
    {
     "name": "stdout",
     "output_type": "stream",
     "text": [
      "\\begin{tabular}{lrrr}\n",
      "\\toprule\n",
      "{} & \\multicolumn{3}{l}{fixed\\_points\\_tuple} \\\\\n",
      "level\\_1 &               0.25 & 0.50 & 0.75 \\\\\n",
      "configuration     &                    &      &      \\\\\n",
      "\\midrule\n",
      "(0.35, 0.55, 0.1) &                 16 &   16 &   19 \\\\\n",
      "(0.46, 0.1, 0.44) &                 47 &   55 &   65 \\\\\n",
      "(0.55, 0.2, 0.25) &                 29 &   33 &   35 \\\\\n",
      "(0.55, 0.35, 0.1) &                 20 &   22 &   24 \\\\\n",
      "(0.7, 0.2, 0.1)   &                 27 &   32 &   35 \\\\\n",
      "\\bottomrule\n",
      "\\end{tabular}\n",
      "\n"
     ]
    }
   ],
   "source": [
    "print(dfff.pivot(index=\"configuration\", columns=\"level_1\", values=[\"fixed_points_tuple\"]).to_latex(float_format=\"%.2f\"))"
   ]
  },
  {
   "cell_type": "markdown",
   "id": "1f99e50c",
   "metadata": {},
   "source": [
    "### Line Plots"
   ]
  },
  {
   "cell_type": "code",
   "execution_count": 28,
   "id": "6d309c53",
   "metadata": {},
   "outputs": [],
   "source": [
    "# utility\n",
    "\n",
    "# position to integer representation\n",
    "def to_int(position):\n",
    "    result = 0\n",
    "    for s in position:\n",
    "        m = 2 if s<0 else 1\n",
    "        result += m*3**(abs(s)-1)\n",
    "    return result"
   ]
  },
  {
   "cell_type": "code",
   "execution_count": 29,
   "id": "63b6298c",
   "metadata": {},
   "outputs": [],
   "source": [
    "# ex_fp_df restricted to full RE and non-trivial fixed points\n",
    "literal_eval_cols(ex_fp_df, [\"init_coms\"])"
   ]
  },
  {
   "cell_type": "code",
   "execution_count": 30,
   "id": "39e13603",
   "metadata": {},
   "outputs": [],
   "source": [
    "# conversion of positions (set representation) to sorted tuples\n",
    "ex_fp_df[\"fp_coms\"] = ex_fp_df.apply(lambda row: tuple(sorted(row[\"fixed_points\"][1])), axis=1)\n",
    "ex_fp_df[\"init_coms\"] = ex_fp_df.apply(lambda row: tuple(sorted(row[\"init_coms\"])), axis=1)"
   ]
  },
  {
   "cell_type": "code",
   "execution_count": 31,
   "id": "d1c7d625",
   "metadata": {},
   "outputs": [],
   "source": [
    "# conversion of positions to integer representation\n",
    "ex_fp_df[\"ic_int\"] = ex_fp_df.apply(lambda row: to_int(row[\"init_coms\"]), axis=1)\n",
    "ex_fp_df[\"fp_ints\"] = ex_fp_df.apply(lambda row: to_int( row[\"fp_coms\"]), axis=1)"
   ]
  },
  {
   "cell_type": "code",
   "execution_count": 34,
   "id": "8ad03ef3",
   "metadata": {},
   "outputs": [
    {
     "data": {
      "text/html": [
       "<div>\n",
       "<style scoped>\n",
       "    .dataframe tbody tr th:only-of-type {\n",
       "        vertical-align: middle;\n",
       "    }\n",
       "\n",
       "    .dataframe tbody tr th {\n",
       "        vertical-align: top;\n",
       "    }\n",
       "\n",
       "    .dataframe thead th {\n",
       "        text-align: right;\n",
       "    }\n",
       "</style>\n",
       "<table border=\"1\" class=\"dataframe\">\n",
       "  <thead>\n",
       "    <tr style=\"text-align: right;\">\n",
       "      <th></th>\n",
       "      <th>fixed_points_tuple</th>\n",
       "      <th>init_coms</th>\n",
       "    </tr>\n",
       "    <tr>\n",
       "      <th>ds</th>\n",
       "      <th></th>\n",
       "      <th></th>\n",
       "    </tr>\n",
       "  </thead>\n",
       "  <tbody>\n",
       "    <tr>\n",
       "      <th>[[-1, -2, -5], [7, 6, -2], [-3, 1], [-6, -3, 5], [-4, 3], [4, -6]]</th>\n",
       "      <td>22</td>\n",
       "      <td>810</td>\n",
       "    </tr>\n",
       "    <tr>\n",
       "      <th>[[-1, 3, 4], [6, -2, -1], [7, 4], [7, 1, 6], [-5, 4], [2, 1], [-5, 3, -1]]</th>\n",
       "      <td>30</td>\n",
       "      <td>880</td>\n",
       "    </tr>\n",
       "    <tr>\n",
       "      <th>[[-1, 7], [-6, -5, 1], [-3, -4, -6], [2, 4], [-5, -1, -3]]</th>\n",
       "      <td>19</td>\n",
       "      <td>788</td>\n",
       "    </tr>\n",
       "    <tr>\n",
       "      <th>[[-3, -1, -2], [7, 5, -3], [-6, -1], [-4, -7], [2, -3]]</th>\n",
       "      <td>22</td>\n",
       "      <td>999</td>\n",
       "    </tr>\n",
       "    <tr>\n",
       "      <th>[[-3, -6], [1, -7, -3], [4, -2, 6], [3, -2, 7], [-7, 5, 3], [-2, 6], [1, -4]]</th>\n",
       "      <td>21</td>\n",
       "      <td>1134</td>\n",
       "    </tr>\n",
       "    <tr>\n",
       "      <th>[[-4, 2, 7], [-1, 2], [6, 1], [5, -7], [-3, -5], [2, -3], [4, -5]]</th>\n",
       "      <td>20</td>\n",
       "      <td>979</td>\n",
       "    </tr>\n",
       "    <tr>\n",
       "      <th>[[-5, -2, -6], [-4, -1, -5], [-7, 4], [3, 7, 6], [7, 2, -4], [5, -1], [-3, -4]]</th>\n",
       "      <td>24</td>\n",
       "      <td>1214</td>\n",
       "    </tr>\n",
       "    <tr>\n",
       "      <th>[[-5, -6], [1, -7, 6], [-2, 4, 6], [-3, 6], [-3, 7], [-4, 2, 6], [-6, -1, -7]]</th>\n",
       "      <td>39</td>\n",
       "      <td>1014</td>\n",
       "    </tr>\n",
       "    <tr>\n",
       "      <th>[[-5, 2, -7], [4, 6, -7], [-1, -3, 6], [4, 5, -6], [2, 6]]</th>\n",
       "      <td>18</td>\n",
       "      <td>870</td>\n",
       "    </tr>\n",
       "    <tr>\n",
       "      <th>[[-5, 3, 6], [-2, 3], [1, -5], [7, 2], [4, -1]]</th>\n",
       "      <td>25</td>\n",
       "      <td>1115</td>\n",
       "    </tr>\n",
       "    <tr>\n",
       "      <th>[[-5, 6, 7], [4, 6], [3, -4], [2, -5], [1, -7], [-1, 4, 5], [6, 5, 1]]</th>\n",
       "      <td>17</td>\n",
       "      <td>1315</td>\n",
       "    </tr>\n",
       "    <tr>\n",
       "      <th>[[-6, -1, -4], [5, 7, 6], [-3, 2, 6], [-7, 1], [1, -5, -6], [-6, -4, -5], [5, -3]]</th>\n",
       "      <td>22</td>\n",
       "      <td>1005</td>\n",
       "    </tr>\n",
       "    <tr>\n",
       "      <th>[[-6, -2, 4], [-1, 6], [3, -7, 2], [5, 7], [-2, -5], [-4, 1]]</th>\n",
       "      <td>28</td>\n",
       "      <td>718</td>\n",
       "    </tr>\n",
       "    <tr>\n",
       "      <th>[[-6, 1], [-5, 7, -6], [-3, -7], [-2, -5], [7, 4, 1], [-2, 1]]</th>\n",
       "      <td>22</td>\n",
       "      <td>1143</td>\n",
       "    </tr>\n",
       "    <tr>\n",
       "      <th>[[-6, 4], [-3, 7, 4], [5, -6], [-2, -1, 5], [-1, -4, 3], [7, 4], [3, -4], [6, 3]]</th>\n",
       "      <td>21</td>\n",
       "      <td>1232</td>\n",
       "    </tr>\n",
       "    <tr>\n",
       "      <th>[[-7, -5], [3, -1, 5], [2, 7], [-6, -7], [4, -3], [-7, 3]]</th>\n",
       "      <td>17</td>\n",
       "      <td>1400</td>\n",
       "    </tr>\n",
       "    <tr>\n",
       "      <th>[[1, -7], [-6, -2, -1], [3, 4, -6], [6, 7, -2], [-2, 5, 1], [-1, 7]]</th>\n",
       "      <td>29</td>\n",
       "      <td>699</td>\n",
       "    </tr>\n",
       "    <tr>\n",
       "      <th>[[1, 7, -3], [-4, -6, -3], [-2, 3], [5, -2], [4, -5, 1], [4, 1, -5]]</th>\n",
       "      <td>26</td>\n",
       "      <td>1109</td>\n",
       "    </tr>\n",
       "    <tr>\n",
       "      <th>[[2, -3], [4, 3], [-6, 7, 2], [-5, -3], [2, -6, 3], [-1, 4, -5], [-4, 7]]</th>\n",
       "      <td>24</td>\n",
       "      <td>1116</td>\n",
       "    </tr>\n",
       "    <tr>\n",
       "      <th>[[3, -4, 7], [6, -3], [2, -1, -3], [5, -7], [-6, -2]]</th>\n",
       "      <td>18</td>\n",
       "      <td>1387</td>\n",
       "    </tr>\n",
       "    <tr>\n",
       "      <th>[[3, 2], [5, -2], [1, -2], [-4, -5], [7, -6, -4]]</th>\n",
       "      <td>19</td>\n",
       "      <td>1226</td>\n",
       "    </tr>\n",
       "    <tr>\n",
       "      <th>[[3, 4], [-1, 7, 3], [-5, -1], [-6, -2, -1], [-4, 7]]</th>\n",
       "      <td>18</td>\n",
       "      <td>1024</td>\n",
       "    </tr>\n",
       "    <tr>\n",
       "      <th>[[4, -1, -5], [-3, -1], [6, -1], [-7, -5], [-1, -6, 3], [-2, -7], [-1, -7, 2]]</th>\n",
       "      <td>20</td>\n",
       "      <td>1156</td>\n",
       "    </tr>\n",
       "    <tr>\n",
       "      <th>[[4, 2, -6], [3, -1, 4], [-5, -3], [1, -7, 3], [1, -2], [-7, -6], [7, 3]]</th>\n",
       "      <td>23</td>\n",
       "      <td>1154</td>\n",
       "    </tr>\n",
       "    <tr>\n",
       "      <th>[[5, -2, -7], [-3, 4, 2], [6, -1, 4], [3, 2], [4, 6]]</th>\n",
       "      <td>23</td>\n",
       "      <td>726</td>\n",
       "    </tr>\n",
       "    <tr>\n",
       "      <th>[[5, -7], [-3, 6, -5], [-2, -6], [4, 1, 3], [-6, 3, 7], [3, -7, 1]]</th>\n",
       "      <td>22</td>\n",
       "      <td>915</td>\n",
       "    </tr>\n",
       "    <tr>\n",
       "      <th>[[6, -5, -3], [4, 2, -5], [-7, -1, -5], [5, 1, 6], [-1, -2, 3]]</th>\n",
       "      <td>23</td>\n",
       "      <td>600</td>\n",
       "    </tr>\n",
       "    <tr>\n",
       "      <th>[[6, -7, 5], [-3, -5], [1, 5], [2, -7], [4, 3], [4, -2, -5], [7, -6, 1], [2, -6]]</th>\n",
       "      <td>23</td>\n",
       "      <td>1544</td>\n",
       "    </tr>\n",
       "    <tr>\n",
       "      <th>[[7, 1], [6, -5, 7], [2, -3, 5], [-4, -1, 6], [3, 6, 7], [-6, -4]]</th>\n",
       "      <td>26</td>\n",
       "      <td>837</td>\n",
       "    </tr>\n",
       "    <tr>\n",
       "      <th>[[7, 5], [-1, -4, 7], [3, -2, 5], [-4, -6, -3], [-5, -1, -4], [-1, -3]]</th>\n",
       "      <td>20</td>\n",
       "      <td>767</td>\n",
       "    </tr>\n",
       "  </tbody>\n",
       "</table>\n",
       "</div>"
      ],
      "text/plain": [
       "                                                    fixed_points_tuple  \\\n",
       "ds                                                                       \n",
       "[[-1, -2, -5], [7, 6, -2], [-3, 1], [-6, -3, 5]...                  22   \n",
       "[[-1, 3, 4], [6, -2, -1], [7, 4], [7, 1, 6], [-...                  30   \n",
       "[[-1, 7], [-6, -5, 1], [-3, -4, -6], [2, 4], [-...                  19   \n",
       "[[-3, -1, -2], [7, 5, -3], [-6, -1], [-4, -7], ...                  22   \n",
       "[[-3, -6], [1, -7, -3], [4, -2, 6], [3, -2, 7],...                  21   \n",
       "[[-4, 2, 7], [-1, 2], [6, 1], [5, -7], [-3, -5]...                  20   \n",
       "[[-5, -2, -6], [-4, -1, -5], [-7, 4], [3, 7, 6]...                  24   \n",
       "[[-5, -6], [1, -7, 6], [-2, 4, 6], [-3, 6], [-3...                  39   \n",
       "[[-5, 2, -7], [4, 6, -7], [-1, -3, 6], [4, 5, -...                  18   \n",
       "[[-5, 3, 6], [-2, 3], [1, -5], [7, 2], [4, -1]]                     25   \n",
       "[[-5, 6, 7], [4, 6], [3, -4], [2, -5], [1, -7],...                  17   \n",
       "[[-6, -1, -4], [5, 7, 6], [-3, 2, 6], [-7, 1], ...                  22   \n",
       "[[-6, -2, 4], [-1, 6], [3, -7, 2], [5, 7], [-2,...                  28   \n",
       "[[-6, 1], [-5, 7, -6], [-3, -7], [-2, -5], [7, ...                  22   \n",
       "[[-6, 4], [-3, 7, 4], [5, -6], [-2, -1, 5], [-1...                  21   \n",
       "[[-7, -5], [3, -1, 5], [2, 7], [-6, -7], [4, -3...                  17   \n",
       "[[1, -7], [-6, -2, -1], [3, 4, -6], [6, 7, -2],...                  29   \n",
       "[[1, 7, -3], [-4, -6, -3], [-2, 3], [5, -2], [4...                  26   \n",
       "[[2, -3], [4, 3], [-6, 7, 2], [-5, -3], [2, -6,...                  24   \n",
       "[[3, -4, 7], [6, -3], [2, -1, -3], [5, -7], [-6...                  18   \n",
       "[[3, 2], [5, -2], [1, -2], [-4, -5], [7, -6, -4]]                   19   \n",
       "[[3, 4], [-1, 7, 3], [-5, -1], [-6, -2, -1], [-...                  18   \n",
       "[[4, -1, -5], [-3, -1], [6, -1], [-7, -5], [-1,...                  20   \n",
       "[[4, 2, -6], [3, -1, 4], [-5, -3], [1, -7, 3], ...                  23   \n",
       "[[5, -2, -7], [-3, 4, 2], [6, -1, 4], [3, 2], [...                  23   \n",
       "[[5, -7], [-3, 6, -5], [-2, -6], [4, 1, 3], [-6...                  22   \n",
       "[[6, -5, -3], [4, 2, -5], [-7, -1, -5], [5, 1, ...                  23   \n",
       "[[6, -7, 5], [-3, -5], [1, 5], [2, -7], [4, 3],...                  23   \n",
       "[[7, 1], [6, -5, 7], [2, -3, 5], [-4, -1, 6], [...                  26   \n",
       "[[7, 5], [-1, -4, 7], [3, -2, 5], [-4, -6, -3],...                  20   \n",
       "\n",
       "                                                    init_coms  \n",
       "ds                                                             \n",
       "[[-1, -2, -5], [7, 6, -2], [-3, 1], [-6, -3, 5]...        810  \n",
       "[[-1, 3, 4], [6, -2, -1], [7, 4], [7, 1, 6], [-...        880  \n",
       "[[-1, 7], [-6, -5, 1], [-3, -4, -6], [2, 4], [-...        788  \n",
       "[[-3, -1, -2], [7, 5, -3], [-6, -1], [-4, -7], ...        999  \n",
       "[[-3, -6], [1, -7, -3], [4, -2, 6], [3, -2, 7],...       1134  \n",
       "[[-4, 2, 7], [-1, 2], [6, 1], [5, -7], [-3, -5]...        979  \n",
       "[[-5, -2, -6], [-4, -1, -5], [-7, 4], [3, 7, 6]...       1214  \n",
       "[[-5, -6], [1, -7, 6], [-2, 4, 6], [-3, 6], [-3...       1014  \n",
       "[[-5, 2, -7], [4, 6, -7], [-1, -3, 6], [4, 5, -...        870  \n",
       "[[-5, 3, 6], [-2, 3], [1, -5], [7, 2], [4, -1]]          1115  \n",
       "[[-5, 6, 7], [4, 6], [3, -4], [2, -5], [1, -7],...       1315  \n",
       "[[-6, -1, -4], [5, 7, 6], [-3, 2, 6], [-7, 1], ...       1005  \n",
       "[[-6, -2, 4], [-1, 6], [3, -7, 2], [5, 7], [-2,...        718  \n",
       "[[-6, 1], [-5, 7, -6], [-3, -7], [-2, -5], [7, ...       1143  \n",
       "[[-6, 4], [-3, 7, 4], [5, -6], [-2, -1, 5], [-1...       1232  \n",
       "[[-7, -5], [3, -1, 5], [2, 7], [-6, -7], [4, -3...       1400  \n",
       "[[1, -7], [-6, -2, -1], [3, 4, -6], [6, 7, -2],...        699  \n",
       "[[1, 7, -3], [-4, -6, -3], [-2, 3], [5, -2], [4...       1109  \n",
       "[[2, -3], [4, 3], [-6, 7, 2], [-5, -3], [2, -6,...       1116  \n",
       "[[3, -4, 7], [6, -3], [2, -1, -3], [5, -7], [-6...       1387  \n",
       "[[3, 2], [5, -2], [1, -2], [-4, -5], [7, -6, -4]]        1226  \n",
       "[[3, 4], [-1, 7, 3], [-5, -1], [-6, -2, -1], [-...       1024  \n",
       "[[4, -1, -5], [-3, -1], [6, -1], [-7, -5], [-1,...       1156  \n",
       "[[4, 2, -6], [3, -1, 4], [-5, -3], [1, -7, 3], ...       1154  \n",
       "[[5, -2, -7], [-3, 4, 2], [6, -1, 4], [3, 2], [...        726  \n",
       "[[5, -7], [-3, 6, -5], [-2, -6], [4, 1, 3], [-6...        915  \n",
       "[[6, -5, -3], [4, 2, -5], [-7, -1, -5], [5, 1, ...        600  \n",
       "[[6, -7, 5], [-3, -5], [1, 5], [2, -7], [4, 3],...       1544  \n",
       "[[7, 1], [6, -5, 7], [2, -3, 5], [-4, -1, 6], [...        837  \n",
       "[[7, 5], [-1, -4, 7], [3, -2, 5], [-4, -6, -3],...        767  "
      ]
     },
     "execution_count": 34,
     "metadata": {},
     "output_type": "execute_result"
    }
   ],
   "source": [
    "ex_fp_df[ex_fp_df[\"configuration\"]==(0.55, 0.35, 0.1)].groupby(\"ds\")[[\"fixed_points_tuple\", \"init_coms\"]].nunique()"
   ]
  },
  {
   "cell_type": "code",
   "execution_count": 35,
   "id": "d503fe23",
   "metadata": {},
   "outputs": [
    {
     "data": {
      "text/plain": [
       "ds\n",
       "[[-1, -2, -5], [7, 6, -2], [-3, 1], [-6, -3, 5], [-4, 3], [4, -6]]                     810\n",
       "[[-1, 3, 4], [6, -2, -1], [7, 4], [7, 1, 6], [-5, 4], [2, 1], [-5, 3, -1]]             880\n",
       "[[-1, 7], [-6, -5, 1], [-3, -4, -6], [2, 4], [-5, -1, -3]]                             788\n",
       "[[-3, -1, -2], [7, 5, -3], [-6, -1], [-4, -7], [2, -3]]                                999\n",
       "[[-3, -6], [1, -7, -3], [4, -2, 6], [3, -2, 7], [-7, 5, 3], [-2, 6], [1, -4]]         1134\n",
       "[[-4, 2, 7], [-1, 2], [6, 1], [5, -7], [-3, -5], [2, -3], [4, -5]]                     979\n",
       "[[-5, -2, -6], [-4, -1, -5], [-7, 4], [3, 7, 6], [7, 2, -4], [5, -1], [-3, -4]]       1214\n",
       "[[-5, -6], [1, -7, 6], [-2, 4, 6], [-3, 6], [-3, 7], [-4, 2, 6], [-6, -1, -7]]        1014\n",
       "[[-5, 2, -7], [4, 6, -7], [-1, -3, 6], [4, 5, -6], [2, 6]]                             870\n",
       "[[-5, 3, 6], [-2, 3], [1, -5], [7, 2], [4, -1]]                                       1115\n",
       "[[-5, 6, 7], [4, 6], [3, -4], [2, -5], [1, -7], [-1, 4, 5], [6, 5, 1]]                1315\n",
       "[[-6, -1, -4], [5, 7, 6], [-3, 2, 6], [-7, 1], [1, -5, -6], [-6, -4, -5], [5, -3]]    1005\n",
       "[[-6, -2, 4], [-1, 6], [3, -7, 2], [5, 7], [-2, -5], [-4, 1]]                          718\n",
       "[[-6, 1], [-5, 7, -6], [-3, -7], [-2, -5], [7, 4, 1], [-2, 1]]                        1143\n",
       "[[-6, 4], [-3, 7, 4], [5, -6], [-2, -1, 5], [-1, -4, 3], [7, 4], [3, -4], [6, 3]]     1232\n",
       "[[-7, -5], [3, -1, 5], [2, 7], [-6, -7], [4, -3], [-7, 3]]                            1400\n",
       "[[1, -7], [-6, -2, -1], [3, 4, -6], [6, 7, -2], [-2, 5, 1], [-1, 7]]                   699\n",
       "[[1, 7, -3], [-4, -6, -3], [-2, 3], [5, -2], [4, -5, 1], [4, 1, -5]]                  1109\n",
       "[[2, -3], [4, 3], [-6, 7, 2], [-5, -3], [2, -6, 3], [-1, 4, -5], [-4, 7]]             1116\n",
       "[[3, -4, 7], [6, -3], [2, -1, -3], [5, -7], [-6, -2]]                                 1387\n",
       "[[3, 2], [5, -2], [1, -2], [-4, -5], [7, -6, -4]]                                     1226\n",
       "[[3, 4], [-1, 7, 3], [-5, -1], [-6, -2, -1], [-4, 7]]                                 1024\n",
       "[[4, -1, -5], [-3, -1], [6, -1], [-7, -5], [-1, -6, 3], [-2, -7], [-1, -7, 2]]        1156\n",
       "[[4, 2, -6], [3, -1, 4], [-5, -3], [1, -7, 3], [1, -2], [-7, -6], [7, 3]]             1154\n",
       "[[5, -2, -7], [-3, 4, 2], [6, -1, 4], [3, 2], [4, 6]]                                  726\n",
       "[[5, -7], [-3, 6, -5], [-2, -6], [4, 1, 3], [-6, 3, 7], [3, -7, 1]]                    915\n",
       "[[6, -5, -3], [4, 2, -5], [-7, -1, -5], [5, 1, 6], [-1, -2, 3]]                        600\n",
       "[[6, -7, 5], [-3, -5], [1, 5], [2, -7], [4, 3], [4, -2, -5], [7, -6, 1], [2, -6]]     1544\n",
       "[[7, 1], [6, -5, 7], [2, -3, 5], [-4, -1, 6], [3, 6, 7], [-6, -4]]                     837\n",
       "[[7, 5], [-1, -4, 7], [3, -2, 5], [-4, -6, -3], [-5, -1, -4], [-1, -3]]                767\n",
       "Name: init_coms, dtype: int64"
      ]
     },
     "execution_count": 35,
     "metadata": {},
     "output_type": "execute_result"
    }
   ],
   "source": [
    "ex_fp_df[ex_fp_df[\"configuration\"]==(0.55, 0.35, 0.1)].groupby(\"ds\")[\"init_coms\"].nunique()"
   ]
  },
  {
   "cell_type": "code",
   "execution_count": 45,
   "id": "76b6731e",
   "metadata": {},
   "outputs": [
    {
     "name": "stdout",
     "output_type": "stream",
     "text": [
      "[1458, 1121, 1393, 1724, 1645, 1870, 1733, 738, 487, 248, 1093, 1868, 3, 169, 9, 1476, 27, 54, 1, 84, 162, 243]\n",
      "[(-7,), (-4, -1, 2, 3, 5, 6, 7), (-6, -5, -2, 1, 3, 7), (-7, -3, -1, 2, 6), (-7, -5, -3, -2, 1), (-7, -5, -2, 1, 6), (-7, -1, 2, 4, 6), (3, 7), (-6, 1), (-1, 2, 6), (1, 2, 3, 4, 5, 6, 7), (-7, -5, -1, 2, 6), (2,), (-5, -2, 1), (3,), (-7, -3), (4,), (-4,), (1,), (2, 5), (-5,), (6,)]\n"
     ]
    }
   ],
   "source": [
    "\n",
    "ds = \"[[-6, 1], [-5, 7, -6], [-3, -7], [-2, -5], [7, 4, 1], [-2, 1]]\"\n",
    "#ds = \"[[-3, -1, -2], [7, 5, -3], [-6, -1], [-4, -7], [2, -3]]\"\n",
    "\n",
    "df = ex_fp_df[(ex_fp_df[\"configuration\"]==(0.55, 0.35, 0.1)) & (ex_fp_df[\"ds\"]==ds)]\n",
    "\n",
    "print(list(df[\"fp_ints\"].unique()))\n",
    "print(list(df[\"fp_coms\"].unique()))"
   ]
  },
  {
   "cell_type": "code",
   "execution_count": 66,
   "id": "4f8ee6c1",
   "metadata": {},
   "outputs": [],
   "source": [
    "# creating custom annotations manually\n",
    "\n",
    "#annotation_y = [1458, 1121, 1393, 1724, 1645, 1870, 1733, 738, 487, 248, 1093, 1868, 3, 169, 9, 1476, 27, 54, 1, 84, 162, 243]\n",
    "annotation_y = [1470, 1121, 1393, 1735, 1660, 1895, 1765, 738, 467, 258, 1093, 1865, 3, 170, 9, 1500, 27, 54, 1, 84, 140, 228]\n",
    "\n",
    "annotation_name = [str(set(pos)) for pos in [(-7,), (-4, -1, 2, 3, 5, 6, 7), (-6, -5, -2, 1, 3, 7), (-7, -3, -1, 2, 6), (-7, -5, -3, -2, 1), (-7, -5, -2, 1, 6), (-7, -1, 2, 4, 6), (3, 7), (-6, 1), (-1, 2, 6), (1, 2, 3, 4, 5, 6, 7), (-7, -5, -1, 2, 6), (2,), (-5, -2, 1), (3,), (-7, -3), (4,), (-4,), (1,), (2, 5), (-5,), (6,)]]\n",
    "\n",
    "#annotation_name = list(df[\"fp_coms\"].unique())\n",
    "\n",
    "#arrow_y = list(df[\"fp_ints\"].unique())\n"
   ]
  },
  {
   "cell_type": "code",
   "execution_count": 69,
   "id": "45cb0de7",
   "metadata": {},
   "outputs": [],
   "source": [
    "\n",
    "annotation_name = ['{-7}',\n",
    " '{2, 3, 5, 6, 7, -4, -1}',\n",
    " '{1, 3, 7, -6, -5, -2}',\n",
    " '{2, 6, -7, -3, -1}',\n",
    " '{1, -7, -5, -3, -2}',\n",
    " '{1, 6, -7, -5, -2}',\n",
    " '{2, 4, 6, -7, -1}',\n",
    " '{3, 7}',\n",
    " '{1, -6}',\n",
    " '{2, -1, 6}',\n",
    " '{1, 2, 3, 4, 5, 6, 7}',\n",
    " '{2, 6, -7, -5, -1}',\n",
    " #'{2}',\n",
    " '{1, -5, -2}',\n",
    " #'{3}',\n",
    " '{-7, -3}',\n",
    " '{4}',\n",
    " '{-4}',\n",
    " '{1} {2} {3}',\n",
    " '{2, 5}',\n",
    " '{-5}',\n",
    " '{6}']\n",
    "\n",
    "annotation_y = [1470, 1121, 1393, 1735, 1660, 1895, 1765, 738, 467, 258, 1093, 1865, \n",
    "                #3, \n",
    "                170, \n",
    "                #9, \n",
    "                1500, 27, 54, 1, 84, 140, 228]"
   ]
  },
  {
   "cell_type": "code",
   "execution_count": 96,
   "id": "56f72eed",
   "metadata": {},
   "outputs": [
    {
     "name": "stdout",
     "output_type": "stream",
     "text": [
      "(1314, 10)\n",
      "22\n",
      "1143\n",
      "0.25    18.0\n",
      "0.50    23.0\n",
      "0.75    58.5\n",
      "Name: ic_int, dtype: float64\n"
     ]
    },
    {
     "data": {
      "application/vnd.plotly.v1+json": {
       "config": {
        "plotlyServerURL": "https://plot.ly"
       },
       "data": [
        {
         "dimensions": [
          {
           "label": "Initial<br>commitments",
           "range": [
            1,
            2186
           ],
           "ticktext": [],
           "tickvals": [],
           "values": [
            2025,
            2036,
            2039,
            2040,
            2041,
            2048,
            2050,
            1933,
            2054,
            2057,
            1215,
            1215,
            1216,
            1220,
            2060,
            1223,
            2065,
            1224,
            2068,
            1228,
            1229,
            2067,
            1231,
            1232,
            1936,
            1936,
            2075,
            2075,
            2077,
            1237,
            1239,
            1240,
            1241,
            2081,
            2084,
            1246,
            1248,
            1249,
            1250,
            2088,
            2090,
            2091,
            2093,
            1252,
            2095,
            1255,
            1256,
            2096,
            1257,
            1258,
            1259,
            1260,
            1261,
            2104,
            1264,
            1266,
            1267,
            1268,
            1271,
            1272,
            1274,
            1275,
            1276,
            1279,
            1280,
            1281,
            1283,
            1284,
            1285,
            1288,
            1289,
            1290,
            1292,
            1293,
            1294,
            2108,
            2109,
            2110,
            2111,
            2115,
            2116,
            2118,
            2119,
            2120,
            2121,
            2122,
            2123,
            2125,
            2128,
            2129,
            2129,
            2130,
            2131,
            2132,
            1684,
            2133,
            2134,
            2135,
            2135,
            2136,
            2136,
            2137,
            2138,
            2138,
            1298,
            2140,
            1301,
            2139,
            1302,
            1303,
            2142,
            2143,
            2145,
            2146,
            2147,
            2147,
            1306,
            1307,
            2148,
            2149,
            1308,
            1310,
            2150,
            1311,
            1312,
            2152,
            2155,
            2156,
            2156,
            2156,
            1316,
            2159,
            2158,
            1319,
            2157,
            1320,
            1321,
            2160,
            2161,
            2162,
            2163,
            2164,
            2165,
            1324,
            1325,
            2166,
            2167,
            1328,
            1699,
            486,
            487,
            488,
            1330,
            489,
            490,
            491,
            1329,
            1700,
            492,
            493,
            494,
            2173,
            1333,
            1334,
            2177,
            2176,
            1337,
            2175,
            495,
            496,
            497,
            1338,
            1339,
            498,
            500,
            503,
            2179,
            2183,
            2183,
            2182,
            1345,
            1346,
            2184,
            504,
            504,
            505,
            1347,
            1348,
            1350,
            1352,
            1353,
            1355,
            513,
            514,
            1357,
            1358,
            521,
            1359,
            1361,
            1362,
            1364,
            1366,
            526,
            1367,
            528,
            529,
            530,
            1368,
            1370,
            1371,
            1373,
            531,
            1375,
            1376,
            537,
            538,
            540,
            541,
            542,
            543,
            545,
            551,
            552,
            554,
            555,
            556,
            558,
            564,
            565,
            1458,
            1459,
            1459,
            1460,
            1461,
            1461,
            1462,
            1462,
            1464,
            1466,
            1466,
            1467,
            1467,
            1467,
            1467,
            1471,
            1476,
            1477,
            1478,
            1479,
            1482,
            1379,
            1380,
            1381,
            1385,
            1387,
            1388,
            1389,
            1390,
            1392,
            1393,
            1394,
            1395,
            1396,
            1397,
            1398,
            1399,
            1485,
            1485,
            1401,
            1402,
            1403,
            1489,
            1492,
            1493,
            1501,
            1502,
            1503,
            1508,
            1508,
            1510,
            1404,
            1405,
            1406,
            1407,
            1408,
            567,
            567,
            568,
            569,
            1410,
            1411,
            570,
            572,
            1412,
            573,
            574,
            1413,
            1414,
            1415,
            1416,
            1417,
            1419,
            1420,
            1421,
            578,
            581,
            582,
            583,
            1422,
            1423,
            1424,
            1425,
            1426,
            1512,
            1512,
            1428,
            1429,
            1430,
            1513,
            1513,
            1513,
            1518,
            1518,
            1519,
            1521,
            1521,
            1521,
            1521,
            1521,
            1523,
            1524,
            1525,
            1526,
            1528,
            1529,
            1530,
            1537,
            1431,
            1432,
            1435,
            1436,
            594,
            1439,
            1438,
            1437,
            600,
            601,
            1440,
            1441,
            1444,
            1445,
            1446,
            1447,
            1448,
            605,
            604,
            608,
            609,
            610,
            1449,
            1450,
            1453,
            1454,
            1455,
            1456,
            1457,
            621,
            623,
            626,
            628,
            629,
            630,
            632,
            633,
            635,
            637,
            638,
            641,
            644,
            1539,
            1540,
            1542,
            1545,
            1549,
            1550,
            1553,
            1554,
            1556,
            1557,
            1564,
            1566,
            1566,
            729,
            730,
            731,
            732,
            734,
            1574,
            735,
            738,
            739,
            740,
            741,
            743,
            744,
            1589,
            1589,
            747,
            747,
            1591,
            751,
            648,
            649,
            650,
            651,
            652,
            655,
            656,
            659,
            660,
            661,
            665,
            1593,
            1593,
            1595,
            669,
            670,
            756,
            1601,
            1602,
            1603,
            1604,
            1605,
            1606,
            1607,
            765,
            1608,
            770,
            1610,
            772,
            1618,
            781,
            677,
            679,
            683,
            684,
            685,
            686,
            687,
            688,
            690,
            691,
            692,
            693,
            694,
            696,
            697,
            783,
            699,
            700,
            786,
            787,
            788,
            785,
            791,
            792,
            794,
            795,
            796,
            797,
            799,
            800,
            801,
            801,
            801,
            803,
            804,
            805,
            806,
            808,
            809,
            706,
            710,
            711,
            712,
            715,
            716,
            717,
            718,
            719,
            720,
            721,
            724,
            726,
            727,
            1620,
            1620,
            1627,
            1633,
            1638,
            1642,
            1643,
            1643,
            1646,
            1647,
            1647,
            1647,
            1648,
            1649,
            1649,
            1650,
            1650,
            1652,
            1652,
            810,
            810,
            812,
            813,
            815,
            1653,
            818,
            1656,
            1657,
            1658,
            1658,
            1659,
            1659,
            1660,
            1661,
            1661,
            819,
            821,
            1662,
            1663,
            822,
            824,
            826,
            827,
            1666,
            1669,
            1670,
            1670,
            1670,
            829,
            830,
            1673,
            1672,
            833,
            1671,
            834,
            836,
            1674,
            1674,
            1674,
            1675,
            839,
            1680,
            842,
            1,
            2,
            845,
            844,
            3,
            4,
            4,
            5,
            6,
            7,
            8,
            8,
            848,
            1690,
            851,
            1689,
            9,
            10,
            10,
            11,
            853,
            12,
            12,
            13,
            13,
            14,
            854,
            15,
            17,
            17,
            1693,
            1697,
            1697,
            857,
            1696,
            860,
            1698,
            18,
            19,
            20,
            21,
            24,
            864,
            865,
            866,
            867,
            868,
            869,
            27,
            28,
            28,
            29,
            870,
            30,
            30,
            31,
            872,
            33,
            34,
            35,
            873,
            874,
            875,
            876,
            877,
            878,
            36,
            36,
            881,
            41,
            879,
            882,
            883,
            884,
            885,
            886,
            887,
            45,
            47,
            888,
            48,
            48,
            890,
            51,
            52,
            54,
            55,
            55,
            56,
            57,
            57,
            58,
            58,
            59,
            60,
            61,
            62,
            62,
            63,
            63,
            65,
            66,
            67,
            68,
            71,
            72,
            73,
            73,
            74,
            75,
            75,
            77,
            78,
            79,
            891,
            898,
            900,
            904,
            905,
            908,
            912,
            913,
            922,
            81,
            82,
            83,
            84,
            85,
            86,
            926,
            87,
            88,
            89,
            928,
            931,
            932,
            90,
            91,
            92,
            935,
            934,
            93,
            95,
            933,
            96,
            97,
            98,
            936,
            937,
            940,
            99,
            99,
            942,
            943,
            102,
            104,
            947,
            948,
            950,
            108,
            109,
            110,
            111,
            113,
            114,
            115,
            955,
            956,
            957,
            959,
            119,
            960,
            961,
            122,
            124,
            125,
            964,
            965,
            966,
            968,
            126,
            970,
            969,
            135,
            136,
            137,
            138,
            140,
            141,
            142,
            143,
            144,
            145,
            146,
            147,
            148,
            149,
            150,
            152,
            153,
            155,
            158,
            161,
            162,
            163,
            164,
            165,
            165,
            165,
            166,
            168,
            169,
            170,
            171,
            171,
            173,
            174,
            175,
            176,
            178,
            179,
            180,
            187,
            189,
            189,
            190,
            191,
            192,
            193,
            195,
            196,
            197,
            202,
            206,
            207,
            207,
            208,
            213,
            216,
            216,
            217,
            218,
            219,
            220,
            221,
            222,
            223,
            224,
            227,
            228,
            230,
            234,
            234,
            235,
            240,
            1701,
            1701,
            1706,
            1717,
            1719,
            1723,
            1726,
            1726,
            1727,
            1729,
            1732,
            1734,
            1735,
            1736,
            1743,
            1744,
            1745,
            1748,
            1748,
            1749,
            1749,
            1750,
            1750,
            1751,
            1751,
            1753,
            1753,
            1754,
            1754,
            1762,
            1764,
            1766,
            1767,
            1768,
            1769,
            1771,
            1772,
            1777,
            1780,
            1780,
            1781,
            1789,
            1791,
            1793,
            1794,
            1796,
            1798,
            1799,
            1804,
            1807,
            1807,
            1808,
            972,
            974,
            1817,
            1816,
            977,
            1815,
            1815,
            980,
            981,
            983,
            984,
            986,
            988,
            989,
            1829,
            1829,
            1830,
            1830,
            1832,
            1832,
            1835,
            1835,
            1834,
            1834,
            1836,
            1838,
            1839,
            1840,
            1841,
            1843,
            1844,
            1006,
            1845,
            1846,
            1847,
            1848,
            1849,
            1850,
            1010,
            1853,
            1013,
            1851,
            1015,
            1016,
            1861,
            1861,
            1026,
            1027,
            1028,
            1029,
            1030,
            1031,
            1032,
            1034,
            1035,
            1036,
            1037,
            1038,
            1039,
            1040,
            1041,
            1043,
            1044,
            1045,
            1046,
            1047,
            1048,
            1049,
            1050,
            1052,
            1598,
            1867,
            1867,
            1871,
            1871,
            1873,
            1876,
            1876,
            1878,
            1879,
            1880,
            1880,
            1882,
            1882,
            1883,
            1883,
            1884,
            1884,
            1885,
            1885,
            1885,
            1885,
            1886,
            1886,
            1887,
            1887,
            1888,
            1888,
            1889,
            1889,
            1889,
            1889,
            1890,
            1890,
            1890,
            1891,
            1892,
            1892,
            1893,
            1893,
            1894,
            1894,
            1894,
            1895,
            1895,
            1053,
            1055,
            1896,
            1897,
            1056,
            1058,
            1898,
            1898,
            1898,
            1059,
            1061,
            1899,
            1899,
            1899,
            1900,
            1901,
            1901,
            1902,
            1902,
            1904,
            1904,
            1062,
            1064,
            1907,
            1907,
            1907,
            1906,
            1065,
            1066,
            1067,
            1905,
            1068,
            1070,
            1909,
            1909,
            1910,
            1910,
            1910,
            1911,
            1911,
            1911,
            1912,
            1912,
            1912,
            1912,
            1912,
            1913,
            1913,
            1913,
            1071,
            1073,
            1914,
            1914,
            1915,
            1915,
            1074,
            1076,
            1916,
            1916,
            1916,
            1916,
            1916,
            1077,
            1078,
            1079,
            1918,
            1921,
            1921,
            1082,
            1925,
            1925,
            1924,
            1085,
            1923,
            243,
            244,
            244,
            244,
            245,
            246,
            247,
            248,
            1088,
            249,
            251,
            1927,
            1091,
            1092,
            1094,
            1932,
            252,
            252,
            253,
            254,
            1097,
            256,
            257,
            1937,
            1937,
            258,
            260,
            1938,
            1938,
            1939,
            1939,
            1939,
            1939,
            1940,
            1940,
            1100,
            1943,
            1943,
            1943,
            1943,
            1942,
            1942,
            1103,
            1941,
            1941,
            261,
            1105,
            266,
            1106,
            1107,
            1108,
            1109,
            1110,
            1111,
            1112,
            270,
            270,
            1115,
            1114,
            275,
            1113,
            277,
            1116,
            1117,
            1118,
            1119,
            1120,
            1121,
            281,
            1122,
            1123,
            1124,
            286,
            1125,
            1126,
            1127,
            1128,
            1129,
            1130,
            288,
            288,
            1131,
            1132,
            1133,
            297,
            297,
            298,
            299,
            300,
            301,
            302,
            303,
            304,
            305,
            306,
            307,
            308,
            309,
            310,
            311,
            312,
            314,
            315,
            315,
            317,
            318,
            1144,
            1145,
            1146,
            1148,
            1149,
            1150,
            1156,
            1162,
            324,
            325,
            326,
            1167,
            1168,
            327,
            328,
            329,
            330,
            332,
            1171,
            1172,
            1175,
            333,
            335,
            1176,
            1177,
            336,
            338,
            339,
            341,
            1183,
            343,
            344,
            1186,
            1188,
            1190,
            1191,
            1192,
            1193,
            353,
            1195,
            1196,
            1197,
            1199,
            1200,
            1201,
            1202,
            362,
            1205,
            1204,
            365,
            368,
            1206,
            1208,
            1209,
            1210,
            1211,
            1213,
            1214,
            378,
            379,
            380,
            381,
            382,
            383,
            384,
            386,
            387,
            388,
            389,
            390,
            391,
            392,
            393,
            394,
            395,
            396,
            397,
            398,
            399,
            400,
            401,
            402,
            404,
            405,
            405,
            410,
            412,
            416,
            423,
            423,
            432,
            432,
            432,
            433,
            438,
            442,
            447,
            448,
            459,
            459,
            459,
            460,
            461,
            462,
            465,
            468,
            470,
            471,
            472,
            473,
            475,
            476,
            1944,
            1945,
            1946,
            1947,
            2169,
            2170,
            1957,
            1959,
            1960,
            1961,
            1962,
            1967,
            1969,
            1973,
            1974,
            1976,
            1978,
            1979,
            1980,
            1981,
            1982,
            1983,
            1984,
            1985,
            1986,
            1987,
            1994,
            1994,
            1996,
            2185,
            2186,
            1998,
            1998,
            2005,
            2008,
            2009,
            2010,
            2012,
            2013,
            2014,
            2021,
            2023
           ]
          },
          {
           "label": "Fixed point<br>commitments",
           "range": [
            1,
            2186
           ],
           "ticktext": [],
           "tickvals": [],
           "values": [
            1458,
            1121,
            1121,
            1393,
            1393,
            1724,
            1645,
            1870,
            1733,
            1733,
            738,
            487,
            487,
            248,
            1733,
            1393,
            1093,
            738,
            1393,
            1393,
            1121,
            1393,
            1393,
            1393,
            1645,
            1870,
            1724,
            1733,
            1645,
            1393,
            1393,
            1393,
            1393,
            1121,
            1121,
            1393,
            1393,
            1393,
            1393,
            1121,
            1121,
            1121,
            1121,
            1393,
            1393,
            1393,
            1121,
            1121,
            1393,
            1393,
            1393,
            1393,
            1393,
            1645,
            1393,
            1393,
            1393,
            1393,
            1121,
            1121,
            1121,
            1393,
            1393,
            1393,
            1121,
            1121,
            1121,
            1393,
            1393,
            1393,
            1121,
            1121,
            1121,
            1393,
            1393,
            1868,
            1868,
            1393,
            1868,
            1393,
            1393,
            1393,
            1393,
            1868,
            1393,
            1393,
            1393,
            1645,
            1645,
            1868,
            1724,
            1645,
            1645,
            1645,
            1393,
            1393,
            1393,
            1733,
            1868,
            1733,
            1868,
            1393,
            1733,
            1868,
            1121,
            1393,
            1121,
            1393,
            1393,
            1393,
            1393,
            1393,
            1393,
            1393,
            1733,
            1868,
            1393,
            1121,
            1393,
            1393,
            1121,
            1121,
            1393,
            1393,
            1393,
            1645,
            1645,
            1733,
            1868,
            1724,
            1121,
            1645,
            1645,
            1121,
            1645,
            1393,
            1393,
            1393,
            1393,
            1868,
            1868,
            1393,
            1868,
            1393,
            1121,
            1393,
            1393,
            1121,
            1645,
            487,
            487,
            487,
            1393,
            3,
            487,
            248,
            1393,
            1645,
            487,
            487,
            169,
            1393,
            1393,
            1121,
            1393,
            1393,
            1121,
            1393,
            9,
            487,
            248,
            1393,
            1393,
            248,
            248,
            1393,
            1645,
            1724,
            1868,
            1645,
            1093,
            1121,
            1645,
            487,
            1476,
            487,
            1393,
            1393,
            1121,
            1121,
            1121,
            1121,
            27,
            487,
            1393,
            1121,
            1393,
            1121,
            1121,
            1121,
            1121,
            1393,
            1393,
            1121,
            1393,
            1393,
            1393,
            1121,
            1121,
            1121,
            1121,
            27,
            1393,
            1121,
            1393,
            1393,
            54,
            487,
            248,
            248,
            248,
            1121,
            1121,
            1121,
            1393,
            1393,
            54,
            1393,
            1393,
            1458,
            1458,
            1,
            1458,
            1458,
            3,
            248,
            169,
            1458,
            248,
            169,
            738,
            9,
            1476,
            1458,
            1121,
            1476,
            1476,
            1476,
            1476,
            1476,
            1393,
            1393,
            1393,
            1393,
            1393,
            1393,
            1393,
            1393,
            1393,
            1393,
            1393,
            1393,
            1393,
            1393,
            1393,
            1393,
            1458,
            27,
            1393,
            1393,
            1393,
            1733,
            169,
            1733,
            1393,
            1733,
            1476,
            1733,
            1724,
            1645,
            1393,
            1393,
            1393,
            1393,
            1393,
            84,
            487,
            487,
            248,
            1393,
            1393,
            84,
            248,
            1393,
            169,
            169,
            1393,
            1393,
            1393,
            1393,
            1393,
            1393,
            1393,
            1393,
            1121,
            1121,
            1393,
            1393,
            1393,
            1393,
            1393,
            1393,
            1393,
            54,
            1458,
            1393,
            1393,
            1393,
            1458,
            1,
            54,
            1458,
            54,
            169,
            1458,
            9,
            54,
            738,
            1476,
            1121,
            1121,
            1121,
            1121,
            1393,
            1121,
            1476,
            1645,
            1393,
            1393,
            1393,
            1121,
            27,
            1393,
            1393,
            1393,
            1393,
            1393,
            1393,
            1393,
            1393,
            1121,
            1393,
            1393,
            1393,
            1121,
            1393,
            1121,
            1393,
            1393,
            1393,
            1393,
            1393,
            1121,
            1393,
            1393,
            1393,
            54,
            1121,
            1121,
            1393,
            1121,
            1121,
            1121,
            1121,
            1121,
            1393,
            1121,
            1121,
            1121,
            1458,
            169,
            84,
            169,
            1121,
            1121,
            1121,
            1121,
            1121,
            1476,
            1645,
            1458,
            27,
            738,
            1,
            738,
            3,
            248,
            1733,
            738,
            738,
            738,
            738,
            738,
            1121,
            738,
            1733,
            1724,
            1476,
            738,
            1645,
            1121,
            162,
            487,
            169,
            169,
            169,
            169,
            169,
            1393,
            1393,
            1393,
            1393,
            54,
            1458,
            1121,
            1393,
            1393,
            27,
            1121,
            1121,
            1121,
            1121,
            1121,
            1121,
            1121,
            738,
            1121,
            1121,
            1121,
            1393,
            1645,
            1393,
            1393,
            1393,
            1393,
            1393,
            1393,
            1393,
            1393,
            1393,
            1393,
            1393,
            1393,
            1393,
            1393,
            1393,
            1393,
            54,
            1393,
            1393,
            1121,
            1121,
            1121,
            1121,
            1121,
            738,
            1121,
            1121,
            1121,
            1121,
            1393,
            1121,
            54,
            1476,
            738,
            1121,
            1121,
            1121,
            1121,
            1393,
            1121,
            1393,
            1393,
            1393,
            1393,
            1393,
            1121,
            1393,
            1393,
            1393,
            1393,
            1393,
            1393,
            1393,
            1393,
            1458,
            162,
            169,
            1393,
            1476,
            1645,
            1868,
            1724,
            1645,
            1458,
            27,
            162,
            169,
            1733,
            1868,
            1868,
            1733,
            1868,
            1733,
            738,
            84,
            1121,
            84,
            1121,
            169,
            1121,
            1393,
            1393,
            1868,
            1733,
            1868,
            1733,
            1393,
            1868,
            1733,
            738,
            1121,
            1393,
            1393,
            1121,
            1121,
            1393,
            1121,
            1645,
            1645,
            1868,
            1724,
            1733,
            1121,
            1121,
            1645,
            1645,
            1121,
            1645,
            1121,
            1121,
            54,
            162,
            1458,
            169,
            1121,
            169,
            1121,
            1,
            248,
            1121,
            1393,
            3,
            1,
            3,
            248,
            169,
            169,
            248,
            169,
            1121,
            1393,
            1121,
            1393,
            9,
            9,
            1,
            9,
            1393,
            3,
            9,
            169,
            248,
            248,
            1121,
            9,
            169,
            248,
            1645,
            1868,
            1724,
            1121,
            1645,
            1121,
            1645,
            1476,
            1,
            1476,
            3,
            1476,
            1121,
            1121,
            1121,
            1121,
            1121,
            1121,
            27,
            1,
            27,
            27,
            1121,
            27,
            3,
            169,
            1121,
            27,
            169,
            169,
            1121,
            1121,
            1121,
            1121,
            1121,
            1121,
            9,
            27,
            1121,
            248,
            1121,
            1121,
            1121,
            1121,
            1121,
            1121,
            1121,
            27,
            27,
            1121,
            27,
            3,
            1121,
            27,
            169,
            54,
            1,
            54,
            54,
            3,
            54,
            169,
            248,
            248,
            54,
            169,
            169,
            248,
            54,
            9,
            1121,
            1121,
            1121,
            1121,
            1121,
            54,
            54,
            1,
            54,
            3,
            54,
            248,
            54,
            169,
            162,
            169,
            738,
            1393,
            1121,
            1393,
            1121,
            1393,
            1393,
            84,
            1,
            84,
            84,
            84,
            84,
            1393,
            84,
            169,
            248,
            1393,
            1393,
            1121,
            9,
            169,
            1121,
            1393,
            1393,
            84,
            1121,
            1393,
            169,
            169,
            1121,
            1393,
            1393,
            1393,
            1476,
            84,
            1393,
            1393,
            84,
            248,
            1121,
            1121,
            1121,
            27,
            169,
            27,
            84,
            248,
            169,
            169,
            1393,
            1121,
            1121,
            1121,
            1121,
            1393,
            1393,
            1121,
            1393,
            1121,
            1393,
            1121,
            1121,
            1121,
            27,
            1393,
            1393,
            54,
            169,
            1121,
            84,
            1121,
            169,
            169,
            1121,
            1121,
            1121,
            1121,
            1121,
            1121,
            1121,
            1121,
            1121,
            54,
            1121,
            1121,
            1121,
            162,
            169,
            162,
            3,
            84,
            162,
            169,
            169,
            169,
            169,
            9,
            162,
            169,
            169,
            169,
            248,
            169,
            169,
            162,
            169,
            162,
            27,
            169,
            169,
            169,
            169,
            169,
            169,
            169,
            1393,
            1393,
            27,
            162,
            169,
            169,
            54,
            162,
            169,
            169,
            169,
            169,
            248,
            169,
            169,
            169,
            1121,
            1121,
            1121,
            162,
            54,
            169,
            169,
            1458,
            243,
            248,
            1870,
            1476,
            1724,
            1645,
            1870,
            1724,
            1733,
            1733,
            1733,
            1870,
            1733,
            1733,
            1870,
            1733,
            1724,
            1733,
            1724,
            1733,
            1733,
            1724,
            1733,
            1724,
            1645,
            1870,
            1733,
            1724,
            1870,
            1121,
            1121,
            1121,
            1121,
            1121,
            1870,
            1121,
            1724,
            1645,
            1870,
            1724,
            1870,
            1121,
            1121,
            1121,
            1121,
            1870,
            1121,
            1724,
            1870,
            1645,
            1724,
            243,
            248,
            1733,
            1870,
            248,
            1870,
            1733,
            248,
            738,
            1121,
            1121,
            1121,
            1393,
            1121,
            1724,
            1733,
            1733,
            1724,
            1733,
            1724,
            1733,
            1724,
            1645,
            1870,
            1121,
            1121,
            1121,
            1121,
            1121,
            1870,
            1121,
            1393,
            1121,
            1121,
            1121,
            1121,
            1121,
            1121,
            1121,
            1121,
            1121,
            1121,
            1393,
            1121,
            1870,
            1645,
            1121,
            1121,
            1121,
            1121,
            1121,
            1121,
            1121,
            1121,
            1121,
            1121,
            1121,
            1121,
            1121,
            1121,
            1121,
            1121,
            1121,
            1121,
            1121,
            1121,
            1121,
            1121,
            1121,
            1121,
            1121,
            1868,
            1870,
            1868,
            1870,
            1870,
            1870,
            1868,
            1870,
            1870,
            1870,
            1868,
            1645,
            1870,
            1724,
            1868,
            1724,
            1868,
            1724,
            1870,
            1868,
            1645,
            1724,
            1868,
            1870,
            1645,
            1645,
            1870,
            1870,
            1724,
            1645,
            1868,
            1868,
            1733,
            1870,
            1870,
            1868,
            1733,
            1733,
            1868,
            1870,
            1868,
            1733,
            1733,
            1868,
            1121,
            1121,
            1870,
            1870,
            1121,
            1121,
            1870,
            1868,
            1733,
            1121,
            1121,
            1870,
            1733,
            1868,
            1870,
            1733,
            1868,
            1868,
            1733,
            1868,
            1733,
            1121,
            1121,
            1870,
            1868,
            1733,
            1870,
            1121,
            1121,
            1121,
            1870,
            1121,
            1121,
            1645,
            1870,
            1733,
            1724,
            1868,
            1733,
            1868,
            1724,
            1733,
            1870,
            1724,
            1868,
            1645,
            1733,
            1724,
            1868,
            1121,
            1121,
            1645,
            1870,
            1645,
            1870,
            1121,
            1121,
            1724,
            1870,
            1733,
            1868,
            1645,
            1121,
            1121,
            1121,
            1870,
            1868,
            1870,
            1121,
            1870,
            1868,
            1870,
            1121,
            1870,
            243,
            487,
            243,
            1,
            248,
            248,
            248,
            248,
            1121,
            243,
            248,
            1870,
            1121,
            1121,
            1121,
            1870,
            9,
            243,
            248,
            248,
            1121,
            248,
            248,
            1868,
            1724,
            248,
            248,
            1724,
            1868,
            1724,
            1645,
            1868,
            1870,
            1724,
            1868,
            1121,
            1868,
            1645,
            1724,
            1870,
            1870,
            1645,
            1121,
            1645,
            1870,
            243,
            1093,
            248,
            1121,
            1121,
            1121,
            1121,
            1121,
            1121,
            1121,
            27,
            243,
            1121,
            1121,
            248,
            1121,
            169,
            1121,
            1121,
            1121,
            1121,
            1121,
            1121,
            248,
            1121,
            1121,
            1121,
            1393,
            1121,
            1121,
            1121,
            1121,
            1121,
            1121,
            243,
            27,
            1121,
            1121,
            1121,
            54,
            243,
            248,
            248,
            248,
            248,
            248,
            248,
            169,
            248,
            1121,
            1121,
            1121,
            1121,
            1121,
            1121,
            1121,
            1121,
            54,
            243,
            248,
            248,
            1393,
            1121,
            1121,
            1121,
            1393,
            1393,
            1121,
            1393,
            243,
            248,
            248,
            1393,
            1393,
            84,
            248,
            248,
            248,
            248,
            1393,
            1121,
            1121,
            1121,
            1121,
            1393,
            1393,
            1121,
            1121,
            1121,
            1121,
            1093,
            1121,
            248,
            1393,
            1121,
            1121,
            1121,
            1121,
            1121,
            248,
            1393,
            1121,
            1121,
            1121,
            1121,
            1121,
            1121,
            1121,
            1121,
            1393,
            1121,
            1121,
            1121,
            1121,
            1121,
            1121,
            1121,
            1393,
            1121,
            1121,
            1121,
            1121,
            1121,
            1121,
            1121,
            1121,
            1121,
            1121,
            1121,
            1121,
            1121,
            1121,
            1121,
            1121,
            1121,
            1121,
            1121,
            1121,
            1121,
            1121,
            1121,
            1121,
            1121,
            1121,
            162,
            243,
            248,
            169,
            248,
            162,
            243,
            27,
            243,
            162,
            169,
            169,
            1393,
            1393,
            1393,
            162,
            243,
            54,
            169,
            248,
            248,
            169,
            1121,
            1121,
            1121,
            1121,
            1121,
            1393,
            1121,
            1458,
            487,
            248,
            248,
            1393,
            1393,
            1393,
            1393,
            1393,
            1393,
            1476,
            1724,
            1645,
            1733,
            1733,
            1733,
            1393,
            1733,
            1393,
            1393,
            1733,
            1733,
            1393,
            1733,
            1393,
            1393,
            1724,
            1733,
            1645,
            1645,
            1645,
            1458,
            54,
            1393,
            1393,
            1121,
            1121,
            1121,
            1393,
            1393,
            1724,
            1645
           ]
          }
         ],
         "line": {
          "color": [
           2025,
           2036,
           2039,
           2040,
           2041,
           2048,
           2050,
           1933,
           2054,
           2057,
           1215,
           1215,
           1216,
           1220,
           2060,
           1223,
           2065,
           1224,
           2068,
           1228,
           1229,
           2067,
           1231,
           1232,
           1936,
           1936,
           2075,
           2075,
           2077,
           1237,
           1239,
           1240,
           1241,
           2081,
           2084,
           1246,
           1248,
           1249,
           1250,
           2088,
           2090,
           2091,
           2093,
           1252,
           2095,
           1255,
           1256,
           2096,
           1257,
           1258,
           1259,
           1260,
           1261,
           2104,
           1264,
           1266,
           1267,
           1268,
           1271,
           1272,
           1274,
           1275,
           1276,
           1279,
           1280,
           1281,
           1283,
           1284,
           1285,
           1288,
           1289,
           1290,
           1292,
           1293,
           1294,
           2108,
           2109,
           2110,
           2111,
           2115,
           2116,
           2118,
           2119,
           2120,
           2121,
           2122,
           2123,
           2125,
           2128,
           2129,
           2129,
           2130,
           2131,
           2132,
           1684,
           2133,
           2134,
           2135,
           2135,
           2136,
           2136,
           2137,
           2138,
           2138,
           1298,
           2140,
           1301,
           2139,
           1302,
           1303,
           2142,
           2143,
           2145,
           2146,
           2147,
           2147,
           1306,
           1307,
           2148,
           2149,
           1308,
           1310,
           2150,
           1311,
           1312,
           2152,
           2155,
           2156,
           2156,
           2156,
           1316,
           2159,
           2158,
           1319,
           2157,
           1320,
           1321,
           2160,
           2161,
           2162,
           2163,
           2164,
           2165,
           1324,
           1325,
           2166,
           2167,
           1328,
           1699,
           486,
           487,
           488,
           1330,
           489,
           490,
           491,
           1329,
           1700,
           492,
           493,
           494,
           2173,
           1333,
           1334,
           2177,
           2176,
           1337,
           2175,
           495,
           496,
           497,
           1338,
           1339,
           498,
           500,
           503,
           2179,
           2183,
           2183,
           2182,
           1345,
           1346,
           2184,
           504,
           504,
           505,
           1347,
           1348,
           1350,
           1352,
           1353,
           1355,
           513,
           514,
           1357,
           1358,
           521,
           1359,
           1361,
           1362,
           1364,
           1366,
           526,
           1367,
           528,
           529,
           530,
           1368,
           1370,
           1371,
           1373,
           531,
           1375,
           1376,
           537,
           538,
           540,
           541,
           542,
           543,
           545,
           551,
           552,
           554,
           555,
           556,
           558,
           564,
           565,
           1458,
           1459,
           1459,
           1460,
           1461,
           1461,
           1462,
           1462,
           1464,
           1466,
           1466,
           1467,
           1467,
           1467,
           1467,
           1471,
           1476,
           1477,
           1478,
           1479,
           1482,
           1379,
           1380,
           1381,
           1385,
           1387,
           1388,
           1389,
           1390,
           1392,
           1393,
           1394,
           1395,
           1396,
           1397,
           1398,
           1399,
           1485,
           1485,
           1401,
           1402,
           1403,
           1489,
           1492,
           1493,
           1501,
           1502,
           1503,
           1508,
           1508,
           1510,
           1404,
           1405,
           1406,
           1407,
           1408,
           567,
           567,
           568,
           569,
           1410,
           1411,
           570,
           572,
           1412,
           573,
           574,
           1413,
           1414,
           1415,
           1416,
           1417,
           1419,
           1420,
           1421,
           578,
           581,
           582,
           583,
           1422,
           1423,
           1424,
           1425,
           1426,
           1512,
           1512,
           1428,
           1429,
           1430,
           1513,
           1513,
           1513,
           1518,
           1518,
           1519,
           1521,
           1521,
           1521,
           1521,
           1521,
           1523,
           1524,
           1525,
           1526,
           1528,
           1529,
           1530,
           1537,
           1431,
           1432,
           1435,
           1436,
           594,
           1439,
           1438,
           1437,
           600,
           601,
           1440,
           1441,
           1444,
           1445,
           1446,
           1447,
           1448,
           605,
           604,
           608,
           609,
           610,
           1449,
           1450,
           1453,
           1454,
           1455,
           1456,
           1457,
           621,
           623,
           626,
           628,
           629,
           630,
           632,
           633,
           635,
           637,
           638,
           641,
           644,
           1539,
           1540,
           1542,
           1545,
           1549,
           1550,
           1553,
           1554,
           1556,
           1557,
           1564,
           1566,
           1566,
           729,
           730,
           731,
           732,
           734,
           1574,
           735,
           738,
           739,
           740,
           741,
           743,
           744,
           1589,
           1589,
           747,
           747,
           1591,
           751,
           648,
           649,
           650,
           651,
           652,
           655,
           656,
           659,
           660,
           661,
           665,
           1593,
           1593,
           1595,
           669,
           670,
           756,
           1601,
           1602,
           1603,
           1604,
           1605,
           1606,
           1607,
           765,
           1608,
           770,
           1610,
           772,
           1618,
           781,
           677,
           679,
           683,
           684,
           685,
           686,
           687,
           688,
           690,
           691,
           692,
           693,
           694,
           696,
           697,
           783,
           699,
           700,
           786,
           787,
           788,
           785,
           791,
           792,
           794,
           795,
           796,
           797,
           799,
           800,
           801,
           801,
           801,
           803,
           804,
           805,
           806,
           808,
           809,
           706,
           710,
           711,
           712,
           715,
           716,
           717,
           718,
           719,
           720,
           721,
           724,
           726,
           727,
           1620,
           1620,
           1627,
           1633,
           1638,
           1642,
           1643,
           1643,
           1646,
           1647,
           1647,
           1647,
           1648,
           1649,
           1649,
           1650,
           1650,
           1652,
           1652,
           810,
           810,
           812,
           813,
           815,
           1653,
           818,
           1656,
           1657,
           1658,
           1658,
           1659,
           1659,
           1660,
           1661,
           1661,
           819,
           821,
           1662,
           1663,
           822,
           824,
           826,
           827,
           1666,
           1669,
           1670,
           1670,
           1670,
           829,
           830,
           1673,
           1672,
           833,
           1671,
           834,
           836,
           1674,
           1674,
           1674,
           1675,
           839,
           1680,
           842,
           1,
           2,
           845,
           844,
           3,
           4,
           4,
           5,
           6,
           7,
           8,
           8,
           848,
           1690,
           851,
           1689,
           9,
           10,
           10,
           11,
           853,
           12,
           12,
           13,
           13,
           14,
           854,
           15,
           17,
           17,
           1693,
           1697,
           1697,
           857,
           1696,
           860,
           1698,
           18,
           19,
           20,
           21,
           24,
           864,
           865,
           866,
           867,
           868,
           869,
           27,
           28,
           28,
           29,
           870,
           30,
           30,
           31,
           872,
           33,
           34,
           35,
           873,
           874,
           875,
           876,
           877,
           878,
           36,
           36,
           881,
           41,
           879,
           882,
           883,
           884,
           885,
           886,
           887,
           45,
           47,
           888,
           48,
           48,
           890,
           51,
           52,
           54,
           55,
           55,
           56,
           57,
           57,
           58,
           58,
           59,
           60,
           61,
           62,
           62,
           63,
           63,
           65,
           66,
           67,
           68,
           71,
           72,
           73,
           73,
           74,
           75,
           75,
           77,
           78,
           79,
           891,
           898,
           900,
           904,
           905,
           908,
           912,
           913,
           922,
           81,
           82,
           83,
           84,
           85,
           86,
           926,
           87,
           88,
           89,
           928,
           931,
           932,
           90,
           91,
           92,
           935,
           934,
           93,
           95,
           933,
           96,
           97,
           98,
           936,
           937,
           940,
           99,
           99,
           942,
           943,
           102,
           104,
           947,
           948,
           950,
           108,
           109,
           110,
           111,
           113,
           114,
           115,
           955,
           956,
           957,
           959,
           119,
           960,
           961,
           122,
           124,
           125,
           964,
           965,
           966,
           968,
           126,
           970,
           969,
           135,
           136,
           137,
           138,
           140,
           141,
           142,
           143,
           144,
           145,
           146,
           147,
           148,
           149,
           150,
           152,
           153,
           155,
           158,
           161,
           162,
           163,
           164,
           165,
           165,
           165,
           166,
           168,
           169,
           170,
           171,
           171,
           173,
           174,
           175,
           176,
           178,
           179,
           180,
           187,
           189,
           189,
           190,
           191,
           192,
           193,
           195,
           196,
           197,
           202,
           206,
           207,
           207,
           208,
           213,
           216,
           216,
           217,
           218,
           219,
           220,
           221,
           222,
           223,
           224,
           227,
           228,
           230,
           234,
           234,
           235,
           240,
           1701,
           1701,
           1706,
           1717,
           1719,
           1723,
           1726,
           1726,
           1727,
           1729,
           1732,
           1734,
           1735,
           1736,
           1743,
           1744,
           1745,
           1748,
           1748,
           1749,
           1749,
           1750,
           1750,
           1751,
           1751,
           1753,
           1753,
           1754,
           1754,
           1762,
           1764,
           1766,
           1767,
           1768,
           1769,
           1771,
           1772,
           1777,
           1780,
           1780,
           1781,
           1789,
           1791,
           1793,
           1794,
           1796,
           1798,
           1799,
           1804,
           1807,
           1807,
           1808,
           972,
           974,
           1817,
           1816,
           977,
           1815,
           1815,
           980,
           981,
           983,
           984,
           986,
           988,
           989,
           1829,
           1829,
           1830,
           1830,
           1832,
           1832,
           1835,
           1835,
           1834,
           1834,
           1836,
           1838,
           1839,
           1840,
           1841,
           1843,
           1844,
           1006,
           1845,
           1846,
           1847,
           1848,
           1849,
           1850,
           1010,
           1853,
           1013,
           1851,
           1015,
           1016,
           1861,
           1861,
           1026,
           1027,
           1028,
           1029,
           1030,
           1031,
           1032,
           1034,
           1035,
           1036,
           1037,
           1038,
           1039,
           1040,
           1041,
           1043,
           1044,
           1045,
           1046,
           1047,
           1048,
           1049,
           1050,
           1052,
           1598,
           1867,
           1867,
           1871,
           1871,
           1873,
           1876,
           1876,
           1878,
           1879,
           1880,
           1880,
           1882,
           1882,
           1883,
           1883,
           1884,
           1884,
           1885,
           1885,
           1885,
           1885,
           1886,
           1886,
           1887,
           1887,
           1888,
           1888,
           1889,
           1889,
           1889,
           1889,
           1890,
           1890,
           1890,
           1891,
           1892,
           1892,
           1893,
           1893,
           1894,
           1894,
           1894,
           1895,
           1895,
           1053,
           1055,
           1896,
           1897,
           1056,
           1058,
           1898,
           1898,
           1898,
           1059,
           1061,
           1899,
           1899,
           1899,
           1900,
           1901,
           1901,
           1902,
           1902,
           1904,
           1904,
           1062,
           1064,
           1907,
           1907,
           1907,
           1906,
           1065,
           1066,
           1067,
           1905,
           1068,
           1070,
           1909,
           1909,
           1910,
           1910,
           1910,
           1911,
           1911,
           1911,
           1912,
           1912,
           1912,
           1912,
           1912,
           1913,
           1913,
           1913,
           1071,
           1073,
           1914,
           1914,
           1915,
           1915,
           1074,
           1076,
           1916,
           1916,
           1916,
           1916,
           1916,
           1077,
           1078,
           1079,
           1918,
           1921,
           1921,
           1082,
           1925,
           1925,
           1924,
           1085,
           1923,
           243,
           244,
           244,
           244,
           245,
           246,
           247,
           248,
           1088,
           249,
           251,
           1927,
           1091,
           1092,
           1094,
           1932,
           252,
           252,
           253,
           254,
           1097,
           256,
           257,
           1937,
           1937,
           258,
           260,
           1938,
           1938,
           1939,
           1939,
           1939,
           1939,
           1940,
           1940,
           1100,
           1943,
           1943,
           1943,
           1943,
           1942,
           1942,
           1103,
           1941,
           1941,
           261,
           1105,
           266,
           1106,
           1107,
           1108,
           1109,
           1110,
           1111,
           1112,
           270,
           270,
           1115,
           1114,
           275,
           1113,
           277,
           1116,
           1117,
           1118,
           1119,
           1120,
           1121,
           281,
           1122,
           1123,
           1124,
           286,
           1125,
           1126,
           1127,
           1128,
           1129,
           1130,
           288,
           288,
           1131,
           1132,
           1133,
           297,
           297,
           298,
           299,
           300,
           301,
           302,
           303,
           304,
           305,
           306,
           307,
           308,
           309,
           310,
           311,
           312,
           314,
           315,
           315,
           317,
           318,
           1144,
           1145,
           1146,
           1148,
           1149,
           1150,
           1156,
           1162,
           324,
           325,
           326,
           1167,
           1168,
           327,
           328,
           329,
           330,
           332,
           1171,
           1172,
           1175,
           333,
           335,
           1176,
           1177,
           336,
           338,
           339,
           341,
           1183,
           343,
           344,
           1186,
           1188,
           1190,
           1191,
           1192,
           1193,
           353,
           1195,
           1196,
           1197,
           1199,
           1200,
           1201,
           1202,
           362,
           1205,
           1204,
           365,
           368,
           1206,
           1208,
           1209,
           1210,
           1211,
           1213,
           1214,
           378,
           379,
           380,
           381,
           382,
           383,
           384,
           386,
           387,
           388,
           389,
           390,
           391,
           392,
           393,
           394,
           395,
           396,
           397,
           398,
           399,
           400,
           401,
           402,
           404,
           405,
           405,
           410,
           412,
           416,
           423,
           423,
           432,
           432,
           432,
           433,
           438,
           442,
           447,
           448,
           459,
           459,
           459,
           460,
           461,
           462,
           465,
           468,
           470,
           471,
           472,
           473,
           475,
           476,
           1944,
           1945,
           1946,
           1947,
           2169,
           2170,
           1957,
           1959,
           1960,
           1961,
           1962,
           1967,
           1969,
           1973,
           1974,
           1976,
           1978,
           1979,
           1980,
           1981,
           1982,
           1983,
           1984,
           1985,
           1986,
           1987,
           1994,
           1994,
           1996,
           2185,
           2186,
           1998,
           1998,
           2005,
           2008,
           2009,
           2010,
           2012,
           2013,
           2014,
           2021,
           2023
          ],
          "colorscale": [
           [
            0,
            "#440154"
           ],
           [
            0.1111111111111111,
            "#482878"
           ],
           [
            0.2222222222222222,
            "#3e4989"
           ],
           [
            0.3333333333333333,
            "#31688e"
           ],
           [
            0.4444444444444444,
            "#26828e"
           ],
           [
            0.5555555555555556,
            "#1f9e89"
           ],
           [
            0.6666666666666666,
            "#35b779"
           ],
           [
            0.7777777777777778,
            "#6ece58"
           ],
           [
            0.8888888888888888,
            "#b5de2b"
           ],
           [
            1,
            "#fde725"
           ]
          ]
         },
         "tickfont": {
          "size": 8
         },
         "type": "parcoords"
        }
       ],
       "layout": {
        "annotations": [
         {
          "ax": 12,
          "ay": 0.6724611161939615,
          "font": {
           "color": "black",
           "size": 12
          },
          "showarrow": false,
          "text": "{-7}",
          "textangle": 0,
          "x": 1,
          "xanchor": "left",
          "xref": "x domain",
          "y": 0.6724611161939615,
          "yref": "y domain"
         },
         {
          "ax": 12,
          "ay": 0.5128087831655993,
          "font": {
           "color": "black",
           "size": 12
          },
          "showarrow": false,
          "text": "{2, 3, 5, 6, 7, -4, -1}",
          "textangle": 0,
          "x": 1,
          "xanchor": "left",
          "xref": "x domain",
          "y": 0.5128087831655993,
          "yref": "y domain"
         },
         {
          "ax": 12,
          "ay": 0.6372369624885635,
          "font": {
           "color": "black",
           "size": 12
          },
          "showarrow": false,
          "text": "{1, 3, 7, -6, -5, -2}",
          "textangle": 0,
          "x": 1,
          "xanchor": "left",
          "xref": "x domain",
          "y": 0.6372369624885635,
          "yref": "y domain"
         },
         {
          "ax": 12,
          "ay": 0.7936870997255261,
          "font": {
           "color": "black",
           "size": 12
          },
          "showarrow": false,
          "text": "{2, 6, -7, -3, -1}",
          "textangle": 0,
          "x": 1,
          "xanchor": "left",
          "xref": "x domain",
          "y": 0.7936870997255261,
          "yref": "y domain"
         },
         {
          "ax": 12,
          "ay": 0.7593778591033852,
          "font": {
           "color": "black",
           "size": 12
          },
          "showarrow": false,
          "text": "{1, -7, -5, -3, -2}",
          "textangle": 0,
          "x": 1,
          "xanchor": "left",
          "xref": "x domain",
          "y": 0.7593778591033852,
          "yref": "y domain"
         },
         {
          "ax": 12,
          "ay": 0.8668801463860933,
          "font": {
           "color": "black",
           "size": 12
          },
          "showarrow": false,
          "text": "{1, 6, -7, -5, -2}",
          "textangle": 0,
          "x": 1,
          "xanchor": "left",
          "xref": "x domain",
          "y": 0.8668801463860933,
          "yref": "y domain"
         },
         {
          "ax": 12,
          "ay": 0.8074107959743825,
          "font": {
           "color": "black",
           "size": 12
          },
          "showarrow": false,
          "text": "{2, 4, 6, -7, -1}",
          "textangle": 0,
          "x": 1,
          "xanchor": "left",
          "xref": "x domain",
          "y": 0.8074107959743825,
          "yref": "y domain"
         },
         {
          "ax": 12,
          "ay": 0.3376029277218664,
          "font": {
           "color": "black",
           "size": 12
          },
          "showarrow": false,
          "text": "{3, 7}",
          "textangle": 0,
          "x": 1,
          "xanchor": "left",
          "xref": "x domain",
          "y": 0.3376029277218664,
          "yref": "y domain"
         },
         {
          "ax": 12,
          "ay": 0.21363220494053065,
          "font": {
           "color": "black",
           "size": 12
          },
          "showarrow": false,
          "text": "{1, -6}",
          "textangle": 0,
          "x": 1,
          "xanchor": "left",
          "xref": "x domain",
          "y": 0.21363220494053065,
          "yref": "y domain"
         },
         {
          "ax": 12,
          "ay": 0.11802378774016468,
          "font": {
           "color": "black",
           "size": 12
          },
          "showarrow": false,
          "text": "{2, -1, 6}",
          "textangle": 0,
          "x": 1,
          "xanchor": "left",
          "xref": "x domain",
          "y": 0.11802378774016468,
          "yref": "y domain"
         },
         {
          "ax": 12,
          "ay": 0.5,
          "font": {
           "color": "black",
           "size": 12
          },
          "showarrow": false,
          "text": "{1, 2, 3, 4, 5, 6, 7}",
          "textangle": 0,
          "x": 1,
          "xanchor": "left",
          "xref": "x domain",
          "y": 0.5,
          "yref": "y domain"
         },
         {
          "ax": 12,
          "ay": 0.853156450137237,
          "font": {
           "color": "black",
           "size": 12
          },
          "showarrow": false,
          "text": "{2, 6, -7, -5, -1}",
          "textangle": 0,
          "x": 1,
          "xanchor": "left",
          "xref": "x domain",
          "y": 0.853156450137237,
          "yref": "y domain"
         },
         {
          "ax": 12,
          "ay": 0.0777676120768527,
          "font": {
           "color": "black",
           "size": 12
          },
          "showarrow": false,
          "text": "{1, -5, -2}",
          "textangle": 0,
          "x": 1,
          "xanchor": "left",
          "xref": "x domain",
          "y": 0.0777676120768527,
          "yref": "y domain"
         },
         {
          "ax": 12,
          "ay": 0.6861848124428179,
          "font": {
           "color": "black",
           "size": 12
          },
          "showarrow": false,
          "text": "{-7, -3}",
          "textangle": 0,
          "x": 1,
          "xanchor": "left",
          "xref": "x domain",
          "y": 0.6861848124428179,
          "yref": "y domain"
         },
         {
          "ax": 12,
          "ay": 0.012351326623970723,
          "font": {
           "color": "black",
           "size": 12
          },
          "showarrow": false,
          "text": "{4}",
          "textangle": 0,
          "x": 1,
          "xanchor": "left",
          "xref": "x domain",
          "y": 0.012351326623970723,
          "yref": "y domain"
         },
         {
          "ax": 12,
          "ay": 0.024702653247941447,
          "font": {
           "color": "black",
           "size": 12
          },
          "showarrow": false,
          "text": "{-4}",
          "textangle": 0,
          "x": 1,
          "xanchor": "left",
          "xref": "x domain",
          "y": 0.024702653247941447,
          "yref": "y domain"
         },
         {
          "ax": 12,
          "ay": 0.0004574565416285453,
          "font": {
           "color": "black",
           "size": 12
          },
          "showarrow": false,
          "text": "{1} {2} {3}",
          "textangle": 0,
          "x": 1,
          "xanchor": "left",
          "xref": "x domain",
          "y": 0.0004574565416285453,
          "yref": "y domain"
         },
         {
          "ax": 12,
          "ay": 0.0384263494967978,
          "font": {
           "color": "black",
           "size": 12
          },
          "showarrow": false,
          "text": "{2, 5}",
          "textangle": 0,
          "x": 1,
          "xanchor": "left",
          "xref": "x domain",
          "y": 0.0384263494967978,
          "yref": "y domain"
         },
         {
          "ax": 12,
          "ay": 0.06404391582799634,
          "font": {
           "color": "black",
           "size": 12
          },
          "showarrow": false,
          "text": "{-5}",
          "textangle": 0,
          "x": 1,
          "xanchor": "left",
          "xref": "x domain",
          "y": 0.06404391582799634,
          "yref": "y domain"
         },
         {
          "ax": 12,
          "ay": 0.10430009149130832,
          "font": {
           "color": "black",
           "size": 12
          },
          "showarrow": false,
          "text": "{6}",
          "textangle": 0,
          "x": 1,
          "xanchor": "left",
          "xref": "x domain",
          "y": 0.10430009149130832,
          "yref": "y domain"
         }
        ],
        "font": {
         "color": "black",
         "size": 14
        },
        "height": 1200,
        "margin": {
         "b": 20,
         "l": 45,
         "r": 140,
         "t": 120
        },
        "template": {
         "data": {
          "bar": [
           {
            "error_x": {
             "color": "#2a3f5f"
            },
            "error_y": {
             "color": "#2a3f5f"
            },
            "marker": {
             "line": {
              "color": "white",
              "width": 0.5
             },
             "pattern": {
              "fillmode": "overlay",
              "size": 10,
              "solidity": 0.2
             }
            },
            "type": "bar"
           }
          ],
          "barpolar": [
           {
            "marker": {
             "line": {
              "color": "white",
              "width": 0.5
             },
             "pattern": {
              "fillmode": "overlay",
              "size": 10,
              "solidity": 0.2
             }
            },
            "type": "barpolar"
           }
          ],
          "carpet": [
           {
            "aaxis": {
             "endlinecolor": "#2a3f5f",
             "gridcolor": "#C8D4E3",
             "linecolor": "#C8D4E3",
             "minorgridcolor": "#C8D4E3",
             "startlinecolor": "#2a3f5f"
            },
            "baxis": {
             "endlinecolor": "#2a3f5f",
             "gridcolor": "#C8D4E3",
             "linecolor": "#C8D4E3",
             "minorgridcolor": "#C8D4E3",
             "startlinecolor": "#2a3f5f"
            },
            "type": "carpet"
           }
          ],
          "choropleth": [
           {
            "colorbar": {
             "outlinewidth": 0,
             "ticks": ""
            },
            "type": "choropleth"
           }
          ],
          "contour": [
           {
            "colorbar": {
             "outlinewidth": 0,
             "ticks": ""
            },
            "colorscale": [
             [
              0,
              "#0d0887"
             ],
             [
              0.1111111111111111,
              "#46039f"
             ],
             [
              0.2222222222222222,
              "#7201a8"
             ],
             [
              0.3333333333333333,
              "#9c179e"
             ],
             [
              0.4444444444444444,
              "#bd3786"
             ],
             [
              0.5555555555555556,
              "#d8576b"
             ],
             [
              0.6666666666666666,
              "#ed7953"
             ],
             [
              0.7777777777777778,
              "#fb9f3a"
             ],
             [
              0.8888888888888888,
              "#fdca26"
             ],
             [
              1,
              "#f0f921"
             ]
            ],
            "type": "contour"
           }
          ],
          "contourcarpet": [
           {
            "colorbar": {
             "outlinewidth": 0,
             "ticks": ""
            },
            "type": "contourcarpet"
           }
          ],
          "heatmap": [
           {
            "colorbar": {
             "outlinewidth": 0,
             "ticks": ""
            },
            "colorscale": [
             [
              0,
              "#0d0887"
             ],
             [
              0.1111111111111111,
              "#46039f"
             ],
             [
              0.2222222222222222,
              "#7201a8"
             ],
             [
              0.3333333333333333,
              "#9c179e"
             ],
             [
              0.4444444444444444,
              "#bd3786"
             ],
             [
              0.5555555555555556,
              "#d8576b"
             ],
             [
              0.6666666666666666,
              "#ed7953"
             ],
             [
              0.7777777777777778,
              "#fb9f3a"
             ],
             [
              0.8888888888888888,
              "#fdca26"
             ],
             [
              1,
              "#f0f921"
             ]
            ],
            "type": "heatmap"
           }
          ],
          "heatmapgl": [
           {
            "colorbar": {
             "outlinewidth": 0,
             "ticks": ""
            },
            "colorscale": [
             [
              0,
              "#0d0887"
             ],
             [
              0.1111111111111111,
              "#46039f"
             ],
             [
              0.2222222222222222,
              "#7201a8"
             ],
             [
              0.3333333333333333,
              "#9c179e"
             ],
             [
              0.4444444444444444,
              "#bd3786"
             ],
             [
              0.5555555555555556,
              "#d8576b"
             ],
             [
              0.6666666666666666,
              "#ed7953"
             ],
             [
              0.7777777777777778,
              "#fb9f3a"
             ],
             [
              0.8888888888888888,
              "#fdca26"
             ],
             [
              1,
              "#f0f921"
             ]
            ],
            "type": "heatmapgl"
           }
          ],
          "histogram": [
           {
            "marker": {
             "pattern": {
              "fillmode": "overlay",
              "size": 10,
              "solidity": 0.2
             }
            },
            "type": "histogram"
           }
          ],
          "histogram2d": [
           {
            "colorbar": {
             "outlinewidth": 0,
             "ticks": ""
            },
            "colorscale": [
             [
              0,
              "#0d0887"
             ],
             [
              0.1111111111111111,
              "#46039f"
             ],
             [
              0.2222222222222222,
              "#7201a8"
             ],
             [
              0.3333333333333333,
              "#9c179e"
             ],
             [
              0.4444444444444444,
              "#bd3786"
             ],
             [
              0.5555555555555556,
              "#d8576b"
             ],
             [
              0.6666666666666666,
              "#ed7953"
             ],
             [
              0.7777777777777778,
              "#fb9f3a"
             ],
             [
              0.8888888888888888,
              "#fdca26"
             ],
             [
              1,
              "#f0f921"
             ]
            ],
            "type": "histogram2d"
           }
          ],
          "histogram2dcontour": [
           {
            "colorbar": {
             "outlinewidth": 0,
             "ticks": ""
            },
            "colorscale": [
             [
              0,
              "#0d0887"
             ],
             [
              0.1111111111111111,
              "#46039f"
             ],
             [
              0.2222222222222222,
              "#7201a8"
             ],
             [
              0.3333333333333333,
              "#9c179e"
             ],
             [
              0.4444444444444444,
              "#bd3786"
             ],
             [
              0.5555555555555556,
              "#d8576b"
             ],
             [
              0.6666666666666666,
              "#ed7953"
             ],
             [
              0.7777777777777778,
              "#fb9f3a"
             ],
             [
              0.8888888888888888,
              "#fdca26"
             ],
             [
              1,
              "#f0f921"
             ]
            ],
            "type": "histogram2dcontour"
           }
          ],
          "mesh3d": [
           {
            "colorbar": {
             "outlinewidth": 0,
             "ticks": ""
            },
            "type": "mesh3d"
           }
          ],
          "parcoords": [
           {
            "line": {
             "colorbar": {
              "outlinewidth": 0,
              "ticks": ""
             }
            },
            "type": "parcoords"
           }
          ],
          "pie": [
           {
            "automargin": true,
            "type": "pie"
           }
          ],
          "scatter": [
           {
            "fillpattern": {
             "fillmode": "overlay",
             "size": 10,
             "solidity": 0.2
            },
            "type": "scatter"
           }
          ],
          "scatter3d": [
           {
            "line": {
             "colorbar": {
              "outlinewidth": 0,
              "ticks": ""
             }
            },
            "marker": {
             "colorbar": {
              "outlinewidth": 0,
              "ticks": ""
             }
            },
            "type": "scatter3d"
           }
          ],
          "scattercarpet": [
           {
            "marker": {
             "colorbar": {
              "outlinewidth": 0,
              "ticks": ""
             }
            },
            "type": "scattercarpet"
           }
          ],
          "scattergeo": [
           {
            "marker": {
             "colorbar": {
              "outlinewidth": 0,
              "ticks": ""
             }
            },
            "type": "scattergeo"
           }
          ],
          "scattergl": [
           {
            "marker": {
             "colorbar": {
              "outlinewidth": 0,
              "ticks": ""
             }
            },
            "type": "scattergl"
           }
          ],
          "scattermapbox": [
           {
            "marker": {
             "colorbar": {
              "outlinewidth": 0,
              "ticks": ""
             }
            },
            "type": "scattermapbox"
           }
          ],
          "scatterpolar": [
           {
            "marker": {
             "colorbar": {
              "outlinewidth": 0,
              "ticks": ""
             }
            },
            "type": "scatterpolar"
           }
          ],
          "scatterpolargl": [
           {
            "marker": {
             "colorbar": {
              "outlinewidth": 0,
              "ticks": ""
             }
            },
            "type": "scatterpolargl"
           }
          ],
          "scatterternary": [
           {
            "marker": {
             "colorbar": {
              "outlinewidth": 0,
              "ticks": ""
             }
            },
            "type": "scatterternary"
           }
          ],
          "surface": [
           {
            "colorbar": {
             "outlinewidth": 0,
             "ticks": ""
            },
            "colorscale": [
             [
              0,
              "#0d0887"
             ],
             [
              0.1111111111111111,
              "#46039f"
             ],
             [
              0.2222222222222222,
              "#7201a8"
             ],
             [
              0.3333333333333333,
              "#9c179e"
             ],
             [
              0.4444444444444444,
              "#bd3786"
             ],
             [
              0.5555555555555556,
              "#d8576b"
             ],
             [
              0.6666666666666666,
              "#ed7953"
             ],
             [
              0.7777777777777778,
              "#fb9f3a"
             ],
             [
              0.8888888888888888,
              "#fdca26"
             ],
             [
              1,
              "#f0f921"
             ]
            ],
            "type": "surface"
           }
          ],
          "table": [
           {
            "cells": {
             "fill": {
              "color": "#EBF0F8"
             },
             "line": {
              "color": "white"
             }
            },
            "header": {
             "fill": {
              "color": "#C8D4E3"
             },
             "line": {
              "color": "white"
             }
            },
            "type": "table"
           }
          ]
         },
         "layout": {
          "annotationdefaults": {
           "arrowcolor": "#2a3f5f",
           "arrowhead": 0,
           "arrowwidth": 1
          },
          "autotypenumbers": "strict",
          "coloraxis": {
           "colorbar": {
            "outlinewidth": 0,
            "ticks": ""
           }
          },
          "colorscale": {
           "diverging": [
            [
             0,
             "#8e0152"
            ],
            [
             0.1,
             "#c51b7d"
            ],
            [
             0.2,
             "#de77ae"
            ],
            [
             0.3,
             "#f1b6da"
            ],
            [
             0.4,
             "#fde0ef"
            ],
            [
             0.5,
             "#f7f7f7"
            ],
            [
             0.6,
             "#e6f5d0"
            ],
            [
             0.7,
             "#b8e186"
            ],
            [
             0.8,
             "#7fbc41"
            ],
            [
             0.9,
             "#4d9221"
            ],
            [
             1,
             "#276419"
            ]
           ],
           "sequential": [
            [
             0,
             "#0d0887"
            ],
            [
             0.1111111111111111,
             "#46039f"
            ],
            [
             0.2222222222222222,
             "#7201a8"
            ],
            [
             0.3333333333333333,
             "#9c179e"
            ],
            [
             0.4444444444444444,
             "#bd3786"
            ],
            [
             0.5555555555555556,
             "#d8576b"
            ],
            [
             0.6666666666666666,
             "#ed7953"
            ],
            [
             0.7777777777777778,
             "#fb9f3a"
            ],
            [
             0.8888888888888888,
             "#fdca26"
            ],
            [
             1,
             "#f0f921"
            ]
           ],
           "sequentialminus": [
            [
             0,
             "#0d0887"
            ],
            [
             0.1111111111111111,
             "#46039f"
            ],
            [
             0.2222222222222222,
             "#7201a8"
            ],
            [
             0.3333333333333333,
             "#9c179e"
            ],
            [
             0.4444444444444444,
             "#bd3786"
            ],
            [
             0.5555555555555556,
             "#d8576b"
            ],
            [
             0.6666666666666666,
             "#ed7953"
            ],
            [
             0.7777777777777778,
             "#fb9f3a"
            ],
            [
             0.8888888888888888,
             "#fdca26"
            ],
            [
             1,
             "#f0f921"
            ]
           ]
          },
          "colorway": [
           "#636efa",
           "#EF553B",
           "#00cc96",
           "#ab63fa",
           "#FFA15A",
           "#19d3f3",
           "#FF6692",
           "#B6E880",
           "#FF97FF",
           "#FECB52"
          ],
          "font": {
           "color": "#2a3f5f"
          },
          "geo": {
           "bgcolor": "white",
           "lakecolor": "white",
           "landcolor": "white",
           "showlakes": true,
           "showland": true,
           "subunitcolor": "#C8D4E3"
          },
          "hoverlabel": {
           "align": "left"
          },
          "hovermode": "closest",
          "mapbox": {
           "style": "light"
          },
          "paper_bgcolor": "white",
          "plot_bgcolor": "white",
          "polar": {
           "angularaxis": {
            "gridcolor": "#EBF0F8",
            "linecolor": "#EBF0F8",
            "ticks": ""
           },
           "bgcolor": "white",
           "radialaxis": {
            "gridcolor": "#EBF0F8",
            "linecolor": "#EBF0F8",
            "ticks": ""
           }
          },
          "scene": {
           "xaxis": {
            "backgroundcolor": "white",
            "gridcolor": "#DFE8F3",
            "gridwidth": 2,
            "linecolor": "#EBF0F8",
            "showbackground": true,
            "ticks": "",
            "zerolinecolor": "#EBF0F8"
           },
           "yaxis": {
            "backgroundcolor": "white",
            "gridcolor": "#DFE8F3",
            "gridwidth": 2,
            "linecolor": "#EBF0F8",
            "showbackground": true,
            "ticks": "",
            "zerolinecolor": "#EBF0F8"
           },
           "zaxis": {
            "backgroundcolor": "white",
            "gridcolor": "#DFE8F3",
            "gridwidth": 2,
            "linecolor": "#EBF0F8",
            "showbackground": true,
            "ticks": "",
            "zerolinecolor": "#EBF0F8"
           }
          },
          "shapedefaults": {
           "line": {
            "color": "#2a3f5f"
           }
          },
          "ternary": {
           "aaxis": {
            "gridcolor": "#DFE8F3",
            "linecolor": "#A2B1C6",
            "ticks": ""
           },
           "baxis": {
            "gridcolor": "#DFE8F3",
            "linecolor": "#A2B1C6",
            "ticks": ""
           },
           "bgcolor": "white",
           "caxis": {
            "gridcolor": "#DFE8F3",
            "linecolor": "#A2B1C6",
            "ticks": ""
           }
          },
          "title": {
           "x": 0.05
          },
          "xaxis": {
           "automargin": true,
           "gridcolor": "#EBF0F8",
           "linecolor": "#EBF0F8",
           "ticks": "",
           "title": {
            "standoff": 15
           },
           "zerolinecolor": "#EBF0F8",
           "zerolinewidth": 2
          },
          "yaxis": {
           "automargin": true,
           "gridcolor": "#EBF0F8",
           "linecolor": "#EBF0F8",
           "ticks": "",
           "title": {
            "standoff": 15
           },
           "zerolinecolor": "#EBF0F8",
           "zerolinewidth": 2
          }
         }
        },
        "width": 800
       }
      },
      "text/html": [
       "<div>                            <div id=\"063b0503-f980-4198-acc3-d3458da6055e\" class=\"plotly-graph-div\" style=\"height:1200px; width:800px;\"></div>            <script type=\"text/javascript\">                require([\"plotly\"], function(Plotly) {                    window.PLOTLYENV=window.PLOTLYENV || {};                                    if (document.getElementById(\"063b0503-f980-4198-acc3-d3458da6055e\")) {                    Plotly.newPlot(                        \"063b0503-f980-4198-acc3-d3458da6055e\",                        [{\"dimensions\":[{\"label\":\"Initial<br>commitments\",\"range\":[1,2186],\"ticktext\":[],\"tickvals\":[],\"values\":[2025,2036,2039,2040,2041,2048,2050,1933,2054,2057,1215,1215,1216,1220,2060,1223,2065,1224,2068,1228,1229,2067,1231,1232,1936,1936,2075,2075,2077,1237,1239,1240,1241,2081,2084,1246,1248,1249,1250,2088,2090,2091,2093,1252,2095,1255,1256,2096,1257,1258,1259,1260,1261,2104,1264,1266,1267,1268,1271,1272,1274,1275,1276,1279,1280,1281,1283,1284,1285,1288,1289,1290,1292,1293,1294,2108,2109,2110,2111,2115,2116,2118,2119,2120,2121,2122,2123,2125,2128,2129,2129,2130,2131,2132,1684,2133,2134,2135,2135,2136,2136,2137,2138,2138,1298,2140,1301,2139,1302,1303,2142,2143,2145,2146,2147,2147,1306,1307,2148,2149,1308,1310,2150,1311,1312,2152,2155,2156,2156,2156,1316,2159,2158,1319,2157,1320,1321,2160,2161,2162,2163,2164,2165,1324,1325,2166,2167,1328,1699,486,487,488,1330,489,490,491,1329,1700,492,493,494,2173,1333,1334,2177,2176,1337,2175,495,496,497,1338,1339,498,500,503,2179,2183,2183,2182,1345,1346,2184,504,504,505,1347,1348,1350,1352,1353,1355,513,514,1357,1358,521,1359,1361,1362,1364,1366,526,1367,528,529,530,1368,1370,1371,1373,531,1375,1376,537,538,540,541,542,543,545,551,552,554,555,556,558,564,565,1458,1459,1459,1460,1461,1461,1462,1462,1464,1466,1466,1467,1467,1467,1467,1471,1476,1477,1478,1479,1482,1379,1380,1381,1385,1387,1388,1389,1390,1392,1393,1394,1395,1396,1397,1398,1399,1485,1485,1401,1402,1403,1489,1492,1493,1501,1502,1503,1508,1508,1510,1404,1405,1406,1407,1408,567,567,568,569,1410,1411,570,572,1412,573,574,1413,1414,1415,1416,1417,1419,1420,1421,578,581,582,583,1422,1423,1424,1425,1426,1512,1512,1428,1429,1430,1513,1513,1513,1518,1518,1519,1521,1521,1521,1521,1521,1523,1524,1525,1526,1528,1529,1530,1537,1431,1432,1435,1436,594,1439,1438,1437,600,601,1440,1441,1444,1445,1446,1447,1448,605,604,608,609,610,1449,1450,1453,1454,1455,1456,1457,621,623,626,628,629,630,632,633,635,637,638,641,644,1539,1540,1542,1545,1549,1550,1553,1554,1556,1557,1564,1566,1566,729,730,731,732,734,1574,735,738,739,740,741,743,744,1589,1589,747,747,1591,751,648,649,650,651,652,655,656,659,660,661,665,1593,1593,1595,669,670,756,1601,1602,1603,1604,1605,1606,1607,765,1608,770,1610,772,1618,781,677,679,683,684,685,686,687,688,690,691,692,693,694,696,697,783,699,700,786,787,788,785,791,792,794,795,796,797,799,800,801,801,801,803,804,805,806,808,809,706,710,711,712,715,716,717,718,719,720,721,724,726,727,1620,1620,1627,1633,1638,1642,1643,1643,1646,1647,1647,1647,1648,1649,1649,1650,1650,1652,1652,810,810,812,813,815,1653,818,1656,1657,1658,1658,1659,1659,1660,1661,1661,819,821,1662,1663,822,824,826,827,1666,1669,1670,1670,1670,829,830,1673,1672,833,1671,834,836,1674,1674,1674,1675,839,1680,842,1,2,845,844,3,4,4,5,6,7,8,8,848,1690,851,1689,9,10,10,11,853,12,12,13,13,14,854,15,17,17,1693,1697,1697,857,1696,860,1698,18,19,20,21,24,864,865,866,867,868,869,27,28,28,29,870,30,30,31,872,33,34,35,873,874,875,876,877,878,36,36,881,41,879,882,883,884,885,886,887,45,47,888,48,48,890,51,52,54,55,55,56,57,57,58,58,59,60,61,62,62,63,63,65,66,67,68,71,72,73,73,74,75,75,77,78,79,891,898,900,904,905,908,912,913,922,81,82,83,84,85,86,926,87,88,89,928,931,932,90,91,92,935,934,93,95,933,96,97,98,936,937,940,99,99,942,943,102,104,947,948,950,108,109,110,111,113,114,115,955,956,957,959,119,960,961,122,124,125,964,965,966,968,126,970,969,135,136,137,138,140,141,142,143,144,145,146,147,148,149,150,152,153,155,158,161,162,163,164,165,165,165,166,168,169,170,171,171,173,174,175,176,178,179,180,187,189,189,190,191,192,193,195,196,197,202,206,207,207,208,213,216,216,217,218,219,220,221,222,223,224,227,228,230,234,234,235,240,1701,1701,1706,1717,1719,1723,1726,1726,1727,1729,1732,1734,1735,1736,1743,1744,1745,1748,1748,1749,1749,1750,1750,1751,1751,1753,1753,1754,1754,1762,1764,1766,1767,1768,1769,1771,1772,1777,1780,1780,1781,1789,1791,1793,1794,1796,1798,1799,1804,1807,1807,1808,972,974,1817,1816,977,1815,1815,980,981,983,984,986,988,989,1829,1829,1830,1830,1832,1832,1835,1835,1834,1834,1836,1838,1839,1840,1841,1843,1844,1006,1845,1846,1847,1848,1849,1850,1010,1853,1013,1851,1015,1016,1861,1861,1026,1027,1028,1029,1030,1031,1032,1034,1035,1036,1037,1038,1039,1040,1041,1043,1044,1045,1046,1047,1048,1049,1050,1052,1598,1867,1867,1871,1871,1873,1876,1876,1878,1879,1880,1880,1882,1882,1883,1883,1884,1884,1885,1885,1885,1885,1886,1886,1887,1887,1888,1888,1889,1889,1889,1889,1890,1890,1890,1891,1892,1892,1893,1893,1894,1894,1894,1895,1895,1053,1055,1896,1897,1056,1058,1898,1898,1898,1059,1061,1899,1899,1899,1900,1901,1901,1902,1902,1904,1904,1062,1064,1907,1907,1907,1906,1065,1066,1067,1905,1068,1070,1909,1909,1910,1910,1910,1911,1911,1911,1912,1912,1912,1912,1912,1913,1913,1913,1071,1073,1914,1914,1915,1915,1074,1076,1916,1916,1916,1916,1916,1077,1078,1079,1918,1921,1921,1082,1925,1925,1924,1085,1923,243,244,244,244,245,246,247,248,1088,249,251,1927,1091,1092,1094,1932,252,252,253,254,1097,256,257,1937,1937,258,260,1938,1938,1939,1939,1939,1939,1940,1940,1100,1943,1943,1943,1943,1942,1942,1103,1941,1941,261,1105,266,1106,1107,1108,1109,1110,1111,1112,270,270,1115,1114,275,1113,277,1116,1117,1118,1119,1120,1121,281,1122,1123,1124,286,1125,1126,1127,1128,1129,1130,288,288,1131,1132,1133,297,297,298,299,300,301,302,303,304,305,306,307,308,309,310,311,312,314,315,315,317,318,1144,1145,1146,1148,1149,1150,1156,1162,324,325,326,1167,1168,327,328,329,330,332,1171,1172,1175,333,335,1176,1177,336,338,339,341,1183,343,344,1186,1188,1190,1191,1192,1193,353,1195,1196,1197,1199,1200,1201,1202,362,1205,1204,365,368,1206,1208,1209,1210,1211,1213,1214,378,379,380,381,382,383,384,386,387,388,389,390,391,392,393,394,395,396,397,398,399,400,401,402,404,405,405,410,412,416,423,423,432,432,432,433,438,442,447,448,459,459,459,460,461,462,465,468,470,471,472,473,475,476,1944,1945,1946,1947,2169,2170,1957,1959,1960,1961,1962,1967,1969,1973,1974,1976,1978,1979,1980,1981,1982,1983,1984,1985,1986,1987,1994,1994,1996,2185,2186,1998,1998,2005,2008,2009,2010,2012,2013,2014,2021,2023]},{\"label\":\"Fixed point<br>commitments\",\"range\":[1,2186],\"ticktext\":[],\"tickvals\":[],\"values\":[1458,1121,1121,1393,1393,1724,1645,1870,1733,1733,738,487,487,248,1733,1393,1093,738,1393,1393,1121,1393,1393,1393,1645,1870,1724,1733,1645,1393,1393,1393,1393,1121,1121,1393,1393,1393,1393,1121,1121,1121,1121,1393,1393,1393,1121,1121,1393,1393,1393,1393,1393,1645,1393,1393,1393,1393,1121,1121,1121,1393,1393,1393,1121,1121,1121,1393,1393,1393,1121,1121,1121,1393,1393,1868,1868,1393,1868,1393,1393,1393,1393,1868,1393,1393,1393,1645,1645,1868,1724,1645,1645,1645,1393,1393,1393,1733,1868,1733,1868,1393,1733,1868,1121,1393,1121,1393,1393,1393,1393,1393,1393,1393,1733,1868,1393,1121,1393,1393,1121,1121,1393,1393,1393,1645,1645,1733,1868,1724,1121,1645,1645,1121,1645,1393,1393,1393,1393,1868,1868,1393,1868,1393,1121,1393,1393,1121,1645,487,487,487,1393,3,487,248,1393,1645,487,487,169,1393,1393,1121,1393,1393,1121,1393,9,487,248,1393,1393,248,248,1393,1645,1724,1868,1645,1093,1121,1645,487,1476,487,1393,1393,1121,1121,1121,1121,27,487,1393,1121,1393,1121,1121,1121,1121,1393,1393,1121,1393,1393,1393,1121,1121,1121,1121,27,1393,1121,1393,1393,54,487,248,248,248,1121,1121,1121,1393,1393,54,1393,1393,1458,1458,1,1458,1458,3,248,169,1458,248,169,738,9,1476,1458,1121,1476,1476,1476,1476,1476,1393,1393,1393,1393,1393,1393,1393,1393,1393,1393,1393,1393,1393,1393,1393,1393,1458,27,1393,1393,1393,1733,169,1733,1393,1733,1476,1733,1724,1645,1393,1393,1393,1393,1393,84,487,487,248,1393,1393,84,248,1393,169,169,1393,1393,1393,1393,1393,1393,1393,1393,1121,1121,1393,1393,1393,1393,1393,1393,1393,54,1458,1393,1393,1393,1458,1,54,1458,54,169,1458,9,54,738,1476,1121,1121,1121,1121,1393,1121,1476,1645,1393,1393,1393,1121,27,1393,1393,1393,1393,1393,1393,1393,1393,1121,1393,1393,1393,1121,1393,1121,1393,1393,1393,1393,1393,1121,1393,1393,1393,54,1121,1121,1393,1121,1121,1121,1121,1121,1393,1121,1121,1121,1458,169,84,169,1121,1121,1121,1121,1121,1476,1645,1458,27,738,1,738,3,248,1733,738,738,738,738,738,1121,738,1733,1724,1476,738,1645,1121,162,487,169,169,169,169,169,1393,1393,1393,1393,54,1458,1121,1393,1393,27,1121,1121,1121,1121,1121,1121,1121,738,1121,1121,1121,1393,1645,1393,1393,1393,1393,1393,1393,1393,1393,1393,1393,1393,1393,1393,1393,1393,1393,54,1393,1393,1121,1121,1121,1121,1121,738,1121,1121,1121,1121,1393,1121,54,1476,738,1121,1121,1121,1121,1393,1121,1393,1393,1393,1393,1393,1121,1393,1393,1393,1393,1393,1393,1393,1393,1458,162,169,1393,1476,1645,1868,1724,1645,1458,27,162,169,1733,1868,1868,1733,1868,1733,738,84,1121,84,1121,169,1121,1393,1393,1868,1733,1868,1733,1393,1868,1733,738,1121,1393,1393,1121,1121,1393,1121,1645,1645,1868,1724,1733,1121,1121,1645,1645,1121,1645,1121,1121,54,162,1458,169,1121,169,1121,1,248,1121,1393,3,1,3,248,169,169,248,169,1121,1393,1121,1393,9,9,1,9,1393,3,9,169,248,248,1121,9,169,248,1645,1868,1724,1121,1645,1121,1645,1476,1,1476,3,1476,1121,1121,1121,1121,1121,1121,27,1,27,27,1121,27,3,169,1121,27,169,169,1121,1121,1121,1121,1121,1121,9,27,1121,248,1121,1121,1121,1121,1121,1121,1121,27,27,1121,27,3,1121,27,169,54,1,54,54,3,54,169,248,248,54,169,169,248,54,9,1121,1121,1121,1121,1121,54,54,1,54,3,54,248,54,169,162,169,738,1393,1121,1393,1121,1393,1393,84,1,84,84,84,84,1393,84,169,248,1393,1393,1121,9,169,1121,1393,1393,84,1121,1393,169,169,1121,1393,1393,1393,1476,84,1393,1393,84,248,1121,1121,1121,27,169,27,84,248,169,169,1393,1121,1121,1121,1121,1393,1393,1121,1393,1121,1393,1121,1121,1121,27,1393,1393,54,169,1121,84,1121,169,169,1121,1121,1121,1121,1121,1121,1121,1121,1121,54,1121,1121,1121,162,169,162,3,84,162,169,169,169,169,9,162,169,169,169,248,169,169,162,169,162,27,169,169,169,169,169,169,169,1393,1393,27,162,169,169,54,162,169,169,169,169,248,169,169,169,1121,1121,1121,162,54,169,169,1458,243,248,1870,1476,1724,1645,1870,1724,1733,1733,1733,1870,1733,1733,1870,1733,1724,1733,1724,1733,1733,1724,1733,1724,1645,1870,1733,1724,1870,1121,1121,1121,1121,1121,1870,1121,1724,1645,1870,1724,1870,1121,1121,1121,1121,1870,1121,1724,1870,1645,1724,243,248,1733,1870,248,1870,1733,248,738,1121,1121,1121,1393,1121,1724,1733,1733,1724,1733,1724,1733,1724,1645,1870,1121,1121,1121,1121,1121,1870,1121,1393,1121,1121,1121,1121,1121,1121,1121,1121,1121,1121,1393,1121,1870,1645,1121,1121,1121,1121,1121,1121,1121,1121,1121,1121,1121,1121,1121,1121,1121,1121,1121,1121,1121,1121,1121,1121,1121,1121,1121,1868,1870,1868,1870,1870,1870,1868,1870,1870,1870,1868,1645,1870,1724,1868,1724,1868,1724,1870,1868,1645,1724,1868,1870,1645,1645,1870,1870,1724,1645,1868,1868,1733,1870,1870,1868,1733,1733,1868,1870,1868,1733,1733,1868,1121,1121,1870,1870,1121,1121,1870,1868,1733,1121,1121,1870,1733,1868,1870,1733,1868,1868,1733,1868,1733,1121,1121,1870,1868,1733,1870,1121,1121,1121,1870,1121,1121,1645,1870,1733,1724,1868,1733,1868,1724,1733,1870,1724,1868,1645,1733,1724,1868,1121,1121,1645,1870,1645,1870,1121,1121,1724,1870,1733,1868,1645,1121,1121,1121,1870,1868,1870,1121,1870,1868,1870,1121,1870,243,487,243,1,248,248,248,248,1121,243,248,1870,1121,1121,1121,1870,9,243,248,248,1121,248,248,1868,1724,248,248,1724,1868,1724,1645,1868,1870,1724,1868,1121,1868,1645,1724,1870,1870,1645,1121,1645,1870,243,1093,248,1121,1121,1121,1121,1121,1121,1121,27,243,1121,1121,248,1121,169,1121,1121,1121,1121,1121,1121,248,1121,1121,1121,1393,1121,1121,1121,1121,1121,1121,243,27,1121,1121,1121,54,243,248,248,248,248,248,248,169,248,1121,1121,1121,1121,1121,1121,1121,1121,54,243,248,248,1393,1121,1121,1121,1393,1393,1121,1393,243,248,248,1393,1393,84,248,248,248,248,1393,1121,1121,1121,1121,1393,1393,1121,1121,1121,1121,1093,1121,248,1393,1121,1121,1121,1121,1121,248,1393,1121,1121,1121,1121,1121,1121,1121,1121,1393,1121,1121,1121,1121,1121,1121,1121,1393,1121,1121,1121,1121,1121,1121,1121,1121,1121,1121,1121,1121,1121,1121,1121,1121,1121,1121,1121,1121,1121,1121,1121,1121,1121,1121,162,243,248,169,248,162,243,27,243,162,169,169,1393,1393,1393,162,243,54,169,248,248,169,1121,1121,1121,1121,1121,1393,1121,1458,487,248,248,1393,1393,1393,1393,1393,1393,1476,1724,1645,1733,1733,1733,1393,1733,1393,1393,1733,1733,1393,1733,1393,1393,1724,1733,1645,1645,1645,1458,54,1393,1393,1121,1121,1121,1393,1393,1724,1645]}],\"line\":{\"color\":[2025,2036,2039,2040,2041,2048,2050,1933,2054,2057,1215,1215,1216,1220,2060,1223,2065,1224,2068,1228,1229,2067,1231,1232,1936,1936,2075,2075,2077,1237,1239,1240,1241,2081,2084,1246,1248,1249,1250,2088,2090,2091,2093,1252,2095,1255,1256,2096,1257,1258,1259,1260,1261,2104,1264,1266,1267,1268,1271,1272,1274,1275,1276,1279,1280,1281,1283,1284,1285,1288,1289,1290,1292,1293,1294,2108,2109,2110,2111,2115,2116,2118,2119,2120,2121,2122,2123,2125,2128,2129,2129,2130,2131,2132,1684,2133,2134,2135,2135,2136,2136,2137,2138,2138,1298,2140,1301,2139,1302,1303,2142,2143,2145,2146,2147,2147,1306,1307,2148,2149,1308,1310,2150,1311,1312,2152,2155,2156,2156,2156,1316,2159,2158,1319,2157,1320,1321,2160,2161,2162,2163,2164,2165,1324,1325,2166,2167,1328,1699,486,487,488,1330,489,490,491,1329,1700,492,493,494,2173,1333,1334,2177,2176,1337,2175,495,496,497,1338,1339,498,500,503,2179,2183,2183,2182,1345,1346,2184,504,504,505,1347,1348,1350,1352,1353,1355,513,514,1357,1358,521,1359,1361,1362,1364,1366,526,1367,528,529,530,1368,1370,1371,1373,531,1375,1376,537,538,540,541,542,543,545,551,552,554,555,556,558,564,565,1458,1459,1459,1460,1461,1461,1462,1462,1464,1466,1466,1467,1467,1467,1467,1471,1476,1477,1478,1479,1482,1379,1380,1381,1385,1387,1388,1389,1390,1392,1393,1394,1395,1396,1397,1398,1399,1485,1485,1401,1402,1403,1489,1492,1493,1501,1502,1503,1508,1508,1510,1404,1405,1406,1407,1408,567,567,568,569,1410,1411,570,572,1412,573,574,1413,1414,1415,1416,1417,1419,1420,1421,578,581,582,583,1422,1423,1424,1425,1426,1512,1512,1428,1429,1430,1513,1513,1513,1518,1518,1519,1521,1521,1521,1521,1521,1523,1524,1525,1526,1528,1529,1530,1537,1431,1432,1435,1436,594,1439,1438,1437,600,601,1440,1441,1444,1445,1446,1447,1448,605,604,608,609,610,1449,1450,1453,1454,1455,1456,1457,621,623,626,628,629,630,632,633,635,637,638,641,644,1539,1540,1542,1545,1549,1550,1553,1554,1556,1557,1564,1566,1566,729,730,731,732,734,1574,735,738,739,740,741,743,744,1589,1589,747,747,1591,751,648,649,650,651,652,655,656,659,660,661,665,1593,1593,1595,669,670,756,1601,1602,1603,1604,1605,1606,1607,765,1608,770,1610,772,1618,781,677,679,683,684,685,686,687,688,690,691,692,693,694,696,697,783,699,700,786,787,788,785,791,792,794,795,796,797,799,800,801,801,801,803,804,805,806,808,809,706,710,711,712,715,716,717,718,719,720,721,724,726,727,1620,1620,1627,1633,1638,1642,1643,1643,1646,1647,1647,1647,1648,1649,1649,1650,1650,1652,1652,810,810,812,813,815,1653,818,1656,1657,1658,1658,1659,1659,1660,1661,1661,819,821,1662,1663,822,824,826,827,1666,1669,1670,1670,1670,829,830,1673,1672,833,1671,834,836,1674,1674,1674,1675,839,1680,842,1,2,845,844,3,4,4,5,6,7,8,8,848,1690,851,1689,9,10,10,11,853,12,12,13,13,14,854,15,17,17,1693,1697,1697,857,1696,860,1698,18,19,20,21,24,864,865,866,867,868,869,27,28,28,29,870,30,30,31,872,33,34,35,873,874,875,876,877,878,36,36,881,41,879,882,883,884,885,886,887,45,47,888,48,48,890,51,52,54,55,55,56,57,57,58,58,59,60,61,62,62,63,63,65,66,67,68,71,72,73,73,74,75,75,77,78,79,891,898,900,904,905,908,912,913,922,81,82,83,84,85,86,926,87,88,89,928,931,932,90,91,92,935,934,93,95,933,96,97,98,936,937,940,99,99,942,943,102,104,947,948,950,108,109,110,111,113,114,115,955,956,957,959,119,960,961,122,124,125,964,965,966,968,126,970,969,135,136,137,138,140,141,142,143,144,145,146,147,148,149,150,152,153,155,158,161,162,163,164,165,165,165,166,168,169,170,171,171,173,174,175,176,178,179,180,187,189,189,190,191,192,193,195,196,197,202,206,207,207,208,213,216,216,217,218,219,220,221,222,223,224,227,228,230,234,234,235,240,1701,1701,1706,1717,1719,1723,1726,1726,1727,1729,1732,1734,1735,1736,1743,1744,1745,1748,1748,1749,1749,1750,1750,1751,1751,1753,1753,1754,1754,1762,1764,1766,1767,1768,1769,1771,1772,1777,1780,1780,1781,1789,1791,1793,1794,1796,1798,1799,1804,1807,1807,1808,972,974,1817,1816,977,1815,1815,980,981,983,984,986,988,989,1829,1829,1830,1830,1832,1832,1835,1835,1834,1834,1836,1838,1839,1840,1841,1843,1844,1006,1845,1846,1847,1848,1849,1850,1010,1853,1013,1851,1015,1016,1861,1861,1026,1027,1028,1029,1030,1031,1032,1034,1035,1036,1037,1038,1039,1040,1041,1043,1044,1045,1046,1047,1048,1049,1050,1052,1598,1867,1867,1871,1871,1873,1876,1876,1878,1879,1880,1880,1882,1882,1883,1883,1884,1884,1885,1885,1885,1885,1886,1886,1887,1887,1888,1888,1889,1889,1889,1889,1890,1890,1890,1891,1892,1892,1893,1893,1894,1894,1894,1895,1895,1053,1055,1896,1897,1056,1058,1898,1898,1898,1059,1061,1899,1899,1899,1900,1901,1901,1902,1902,1904,1904,1062,1064,1907,1907,1907,1906,1065,1066,1067,1905,1068,1070,1909,1909,1910,1910,1910,1911,1911,1911,1912,1912,1912,1912,1912,1913,1913,1913,1071,1073,1914,1914,1915,1915,1074,1076,1916,1916,1916,1916,1916,1077,1078,1079,1918,1921,1921,1082,1925,1925,1924,1085,1923,243,244,244,244,245,246,247,248,1088,249,251,1927,1091,1092,1094,1932,252,252,253,254,1097,256,257,1937,1937,258,260,1938,1938,1939,1939,1939,1939,1940,1940,1100,1943,1943,1943,1943,1942,1942,1103,1941,1941,261,1105,266,1106,1107,1108,1109,1110,1111,1112,270,270,1115,1114,275,1113,277,1116,1117,1118,1119,1120,1121,281,1122,1123,1124,286,1125,1126,1127,1128,1129,1130,288,288,1131,1132,1133,297,297,298,299,300,301,302,303,304,305,306,307,308,309,310,311,312,314,315,315,317,318,1144,1145,1146,1148,1149,1150,1156,1162,324,325,326,1167,1168,327,328,329,330,332,1171,1172,1175,333,335,1176,1177,336,338,339,341,1183,343,344,1186,1188,1190,1191,1192,1193,353,1195,1196,1197,1199,1200,1201,1202,362,1205,1204,365,368,1206,1208,1209,1210,1211,1213,1214,378,379,380,381,382,383,384,386,387,388,389,390,391,392,393,394,395,396,397,398,399,400,401,402,404,405,405,410,412,416,423,423,432,432,432,433,438,442,447,448,459,459,459,460,461,462,465,468,470,471,472,473,475,476,1944,1945,1946,1947,2169,2170,1957,1959,1960,1961,1962,1967,1969,1973,1974,1976,1978,1979,1980,1981,1982,1983,1984,1985,1986,1987,1994,1994,1996,2185,2186,1998,1998,2005,2008,2009,2010,2012,2013,2014,2021,2023],\"colorscale\":[[0.0,\"#440154\"],[0.1111111111111111,\"#482878\"],[0.2222222222222222,\"#3e4989\"],[0.3333333333333333,\"#31688e\"],[0.4444444444444444,\"#26828e\"],[0.5555555555555556,\"#1f9e89\"],[0.6666666666666666,\"#35b779\"],[0.7777777777777778,\"#6ece58\"],[0.8888888888888888,\"#b5de2b\"],[1.0,\"#fde725\"]]},\"tickfont\":{\"size\":8},\"type\":\"parcoords\"}],                        {\"template\":{\"data\":{\"barpolar\":[{\"marker\":{\"line\":{\"color\":\"white\",\"width\":0.5},\"pattern\":{\"fillmode\":\"overlay\",\"size\":10,\"solidity\":0.2}},\"type\":\"barpolar\"}],\"bar\":[{\"error_x\":{\"color\":\"#2a3f5f\"},\"error_y\":{\"color\":\"#2a3f5f\"},\"marker\":{\"line\":{\"color\":\"white\",\"width\":0.5},\"pattern\":{\"fillmode\":\"overlay\",\"size\":10,\"solidity\":0.2}},\"type\":\"bar\"}],\"carpet\":[{\"aaxis\":{\"endlinecolor\":\"#2a3f5f\",\"gridcolor\":\"#C8D4E3\",\"linecolor\":\"#C8D4E3\",\"minorgridcolor\":\"#C8D4E3\",\"startlinecolor\":\"#2a3f5f\"},\"baxis\":{\"endlinecolor\":\"#2a3f5f\",\"gridcolor\":\"#C8D4E3\",\"linecolor\":\"#C8D4E3\",\"minorgridcolor\":\"#C8D4E3\",\"startlinecolor\":\"#2a3f5f\"},\"type\":\"carpet\"}],\"choropleth\":[{\"colorbar\":{\"outlinewidth\":0,\"ticks\":\"\"},\"type\":\"choropleth\"}],\"contourcarpet\":[{\"colorbar\":{\"outlinewidth\":0,\"ticks\":\"\"},\"type\":\"contourcarpet\"}],\"contour\":[{\"colorbar\":{\"outlinewidth\":0,\"ticks\":\"\"},\"colorscale\":[[0.0,\"#0d0887\"],[0.1111111111111111,\"#46039f\"],[0.2222222222222222,\"#7201a8\"],[0.3333333333333333,\"#9c179e\"],[0.4444444444444444,\"#bd3786\"],[0.5555555555555556,\"#d8576b\"],[0.6666666666666666,\"#ed7953\"],[0.7777777777777778,\"#fb9f3a\"],[0.8888888888888888,\"#fdca26\"],[1.0,\"#f0f921\"]],\"type\":\"contour\"}],\"heatmapgl\":[{\"colorbar\":{\"outlinewidth\":0,\"ticks\":\"\"},\"colorscale\":[[0.0,\"#0d0887\"],[0.1111111111111111,\"#46039f\"],[0.2222222222222222,\"#7201a8\"],[0.3333333333333333,\"#9c179e\"],[0.4444444444444444,\"#bd3786\"],[0.5555555555555556,\"#d8576b\"],[0.6666666666666666,\"#ed7953\"],[0.7777777777777778,\"#fb9f3a\"],[0.8888888888888888,\"#fdca26\"],[1.0,\"#f0f921\"]],\"type\":\"heatmapgl\"}],\"heatmap\":[{\"colorbar\":{\"outlinewidth\":0,\"ticks\":\"\"},\"colorscale\":[[0.0,\"#0d0887\"],[0.1111111111111111,\"#46039f\"],[0.2222222222222222,\"#7201a8\"],[0.3333333333333333,\"#9c179e\"],[0.4444444444444444,\"#bd3786\"],[0.5555555555555556,\"#d8576b\"],[0.6666666666666666,\"#ed7953\"],[0.7777777777777778,\"#fb9f3a\"],[0.8888888888888888,\"#fdca26\"],[1.0,\"#f0f921\"]],\"type\":\"heatmap\"}],\"histogram2dcontour\":[{\"colorbar\":{\"outlinewidth\":0,\"ticks\":\"\"},\"colorscale\":[[0.0,\"#0d0887\"],[0.1111111111111111,\"#46039f\"],[0.2222222222222222,\"#7201a8\"],[0.3333333333333333,\"#9c179e\"],[0.4444444444444444,\"#bd3786\"],[0.5555555555555556,\"#d8576b\"],[0.6666666666666666,\"#ed7953\"],[0.7777777777777778,\"#fb9f3a\"],[0.8888888888888888,\"#fdca26\"],[1.0,\"#f0f921\"]],\"type\":\"histogram2dcontour\"}],\"histogram2d\":[{\"colorbar\":{\"outlinewidth\":0,\"ticks\":\"\"},\"colorscale\":[[0.0,\"#0d0887\"],[0.1111111111111111,\"#46039f\"],[0.2222222222222222,\"#7201a8\"],[0.3333333333333333,\"#9c179e\"],[0.4444444444444444,\"#bd3786\"],[0.5555555555555556,\"#d8576b\"],[0.6666666666666666,\"#ed7953\"],[0.7777777777777778,\"#fb9f3a\"],[0.8888888888888888,\"#fdca26\"],[1.0,\"#f0f921\"]],\"type\":\"histogram2d\"}],\"histogram\":[{\"marker\":{\"pattern\":{\"fillmode\":\"overlay\",\"size\":10,\"solidity\":0.2}},\"type\":\"histogram\"}],\"mesh3d\":[{\"colorbar\":{\"outlinewidth\":0,\"ticks\":\"\"},\"type\":\"mesh3d\"}],\"parcoords\":[{\"line\":{\"colorbar\":{\"outlinewidth\":0,\"ticks\":\"\"}},\"type\":\"parcoords\"}],\"pie\":[{\"automargin\":true,\"type\":\"pie\"}],\"scatter3d\":[{\"line\":{\"colorbar\":{\"outlinewidth\":0,\"ticks\":\"\"}},\"marker\":{\"colorbar\":{\"outlinewidth\":0,\"ticks\":\"\"}},\"type\":\"scatter3d\"}],\"scattercarpet\":[{\"marker\":{\"colorbar\":{\"outlinewidth\":0,\"ticks\":\"\"}},\"type\":\"scattercarpet\"}],\"scattergeo\":[{\"marker\":{\"colorbar\":{\"outlinewidth\":0,\"ticks\":\"\"}},\"type\":\"scattergeo\"}],\"scattergl\":[{\"marker\":{\"colorbar\":{\"outlinewidth\":0,\"ticks\":\"\"}},\"type\":\"scattergl\"}],\"scattermapbox\":[{\"marker\":{\"colorbar\":{\"outlinewidth\":0,\"ticks\":\"\"}},\"type\":\"scattermapbox\"}],\"scatterpolargl\":[{\"marker\":{\"colorbar\":{\"outlinewidth\":0,\"ticks\":\"\"}},\"type\":\"scatterpolargl\"}],\"scatterpolar\":[{\"marker\":{\"colorbar\":{\"outlinewidth\":0,\"ticks\":\"\"}},\"type\":\"scatterpolar\"}],\"scatter\":[{\"fillpattern\":{\"fillmode\":\"overlay\",\"size\":10,\"solidity\":0.2},\"type\":\"scatter\"}],\"scatterternary\":[{\"marker\":{\"colorbar\":{\"outlinewidth\":0,\"ticks\":\"\"}},\"type\":\"scatterternary\"}],\"surface\":[{\"colorbar\":{\"outlinewidth\":0,\"ticks\":\"\"},\"colorscale\":[[0.0,\"#0d0887\"],[0.1111111111111111,\"#46039f\"],[0.2222222222222222,\"#7201a8\"],[0.3333333333333333,\"#9c179e\"],[0.4444444444444444,\"#bd3786\"],[0.5555555555555556,\"#d8576b\"],[0.6666666666666666,\"#ed7953\"],[0.7777777777777778,\"#fb9f3a\"],[0.8888888888888888,\"#fdca26\"],[1.0,\"#f0f921\"]],\"type\":\"surface\"}],\"table\":[{\"cells\":{\"fill\":{\"color\":\"#EBF0F8\"},\"line\":{\"color\":\"white\"}},\"header\":{\"fill\":{\"color\":\"#C8D4E3\"},\"line\":{\"color\":\"white\"}},\"type\":\"table\"}]},\"layout\":{\"annotationdefaults\":{\"arrowcolor\":\"#2a3f5f\",\"arrowhead\":0,\"arrowwidth\":1},\"autotypenumbers\":\"strict\",\"coloraxis\":{\"colorbar\":{\"outlinewidth\":0,\"ticks\":\"\"}},\"colorscale\":{\"diverging\":[[0,\"#8e0152\"],[0.1,\"#c51b7d\"],[0.2,\"#de77ae\"],[0.3,\"#f1b6da\"],[0.4,\"#fde0ef\"],[0.5,\"#f7f7f7\"],[0.6,\"#e6f5d0\"],[0.7,\"#b8e186\"],[0.8,\"#7fbc41\"],[0.9,\"#4d9221\"],[1,\"#276419\"]],\"sequential\":[[0.0,\"#0d0887\"],[0.1111111111111111,\"#46039f\"],[0.2222222222222222,\"#7201a8\"],[0.3333333333333333,\"#9c179e\"],[0.4444444444444444,\"#bd3786\"],[0.5555555555555556,\"#d8576b\"],[0.6666666666666666,\"#ed7953\"],[0.7777777777777778,\"#fb9f3a\"],[0.8888888888888888,\"#fdca26\"],[1.0,\"#f0f921\"]],\"sequentialminus\":[[0.0,\"#0d0887\"],[0.1111111111111111,\"#46039f\"],[0.2222222222222222,\"#7201a8\"],[0.3333333333333333,\"#9c179e\"],[0.4444444444444444,\"#bd3786\"],[0.5555555555555556,\"#d8576b\"],[0.6666666666666666,\"#ed7953\"],[0.7777777777777778,\"#fb9f3a\"],[0.8888888888888888,\"#fdca26\"],[1.0,\"#f0f921\"]]},\"colorway\":[\"#636efa\",\"#EF553B\",\"#00cc96\",\"#ab63fa\",\"#FFA15A\",\"#19d3f3\",\"#FF6692\",\"#B6E880\",\"#FF97FF\",\"#FECB52\"],\"font\":{\"color\":\"#2a3f5f\"},\"geo\":{\"bgcolor\":\"white\",\"lakecolor\":\"white\",\"landcolor\":\"white\",\"showlakes\":true,\"showland\":true,\"subunitcolor\":\"#C8D4E3\"},\"hoverlabel\":{\"align\":\"left\"},\"hovermode\":\"closest\",\"mapbox\":{\"style\":\"light\"},\"paper_bgcolor\":\"white\",\"plot_bgcolor\":\"white\",\"polar\":{\"angularaxis\":{\"gridcolor\":\"#EBF0F8\",\"linecolor\":\"#EBF0F8\",\"ticks\":\"\"},\"bgcolor\":\"white\",\"radialaxis\":{\"gridcolor\":\"#EBF0F8\",\"linecolor\":\"#EBF0F8\",\"ticks\":\"\"}},\"scene\":{\"xaxis\":{\"backgroundcolor\":\"white\",\"gridcolor\":\"#DFE8F3\",\"gridwidth\":2,\"linecolor\":\"#EBF0F8\",\"showbackground\":true,\"ticks\":\"\",\"zerolinecolor\":\"#EBF0F8\"},\"yaxis\":{\"backgroundcolor\":\"white\",\"gridcolor\":\"#DFE8F3\",\"gridwidth\":2,\"linecolor\":\"#EBF0F8\",\"showbackground\":true,\"ticks\":\"\",\"zerolinecolor\":\"#EBF0F8\"},\"zaxis\":{\"backgroundcolor\":\"white\",\"gridcolor\":\"#DFE8F3\",\"gridwidth\":2,\"linecolor\":\"#EBF0F8\",\"showbackground\":true,\"ticks\":\"\",\"zerolinecolor\":\"#EBF0F8\"}},\"shapedefaults\":{\"line\":{\"color\":\"#2a3f5f\"}},\"ternary\":{\"aaxis\":{\"gridcolor\":\"#DFE8F3\",\"linecolor\":\"#A2B1C6\",\"ticks\":\"\"},\"baxis\":{\"gridcolor\":\"#DFE8F3\",\"linecolor\":\"#A2B1C6\",\"ticks\":\"\"},\"bgcolor\":\"white\",\"caxis\":{\"gridcolor\":\"#DFE8F3\",\"linecolor\":\"#A2B1C6\",\"ticks\":\"\"}},\"title\":{\"x\":0.05},\"xaxis\":{\"automargin\":true,\"gridcolor\":\"#EBF0F8\",\"linecolor\":\"#EBF0F8\",\"ticks\":\"\",\"title\":{\"standoff\":15},\"zerolinecolor\":\"#EBF0F8\",\"zerolinewidth\":2},\"yaxis\":{\"automargin\":true,\"gridcolor\":\"#EBF0F8\",\"linecolor\":\"#EBF0F8\",\"ticks\":\"\",\"title\":{\"standoff\":15},\"zerolinecolor\":\"#EBF0F8\",\"zerolinewidth\":2}}},\"height\":1200,\"width\":800,\"font\":{\"color\":\"black\",\"size\":14},\"annotations\":[{\"ax\":12.0,\"ay\":0.6724611161939615,\"font\":{\"color\":\"black\",\"size\":12},\"showarrow\":false,\"text\":\"{-7}\",\"textangle\":0,\"x\":1.0,\"xanchor\":\"left\",\"xref\":\"x domain\",\"y\":0.6724611161939615,\"yref\":\"y domain\"},{\"ax\":12.0,\"ay\":0.5128087831655993,\"font\":{\"color\":\"black\",\"size\":12},\"showarrow\":false,\"text\":\"{2, 3, 5, 6, 7, -4, -1}\",\"textangle\":0,\"x\":1.0,\"xanchor\":\"left\",\"xref\":\"x domain\",\"y\":0.5128087831655993,\"yref\":\"y domain\"},{\"ax\":12.0,\"ay\":0.6372369624885635,\"font\":{\"color\":\"black\",\"size\":12},\"showarrow\":false,\"text\":\"{1, 3, 7, -6, -5, -2}\",\"textangle\":0,\"x\":1.0,\"xanchor\":\"left\",\"xref\":\"x domain\",\"y\":0.6372369624885635,\"yref\":\"y domain\"},{\"ax\":12.0,\"ay\":0.7936870997255261,\"font\":{\"color\":\"black\",\"size\":12},\"showarrow\":false,\"text\":\"{2, 6, -7, -3, -1}\",\"textangle\":0,\"x\":1.0,\"xanchor\":\"left\",\"xref\":\"x domain\",\"y\":0.7936870997255261,\"yref\":\"y domain\"},{\"ax\":12.0,\"ay\":0.7593778591033852,\"font\":{\"color\":\"black\",\"size\":12},\"showarrow\":false,\"text\":\"{1, -7, -5, -3, -2}\",\"textangle\":0,\"x\":1.0,\"xanchor\":\"left\",\"xref\":\"x domain\",\"y\":0.7593778591033852,\"yref\":\"y domain\"},{\"ax\":12.0,\"ay\":0.8668801463860933,\"font\":{\"color\":\"black\",\"size\":12},\"showarrow\":false,\"text\":\"{1, 6, -7, -5, -2}\",\"textangle\":0,\"x\":1.0,\"xanchor\":\"left\",\"xref\":\"x domain\",\"y\":0.8668801463860933,\"yref\":\"y domain\"},{\"ax\":12.0,\"ay\":0.8074107959743825,\"font\":{\"color\":\"black\",\"size\":12},\"showarrow\":false,\"text\":\"{2, 4, 6, -7, -1}\",\"textangle\":0,\"x\":1.0,\"xanchor\":\"left\",\"xref\":\"x domain\",\"y\":0.8074107959743825,\"yref\":\"y domain\"},{\"ax\":12.0,\"ay\":0.3376029277218664,\"font\":{\"color\":\"black\",\"size\":12},\"showarrow\":false,\"text\":\"{3, 7}\",\"textangle\":0,\"x\":1.0,\"xanchor\":\"left\",\"xref\":\"x domain\",\"y\":0.3376029277218664,\"yref\":\"y domain\"},{\"ax\":12.0,\"ay\":0.21363220494053065,\"font\":{\"color\":\"black\",\"size\":12},\"showarrow\":false,\"text\":\"{1, -6}\",\"textangle\":0,\"x\":1.0,\"xanchor\":\"left\",\"xref\":\"x domain\",\"y\":0.21363220494053065,\"yref\":\"y domain\"},{\"ax\":12.0,\"ay\":0.11802378774016468,\"font\":{\"color\":\"black\",\"size\":12},\"showarrow\":false,\"text\":\"{2, -1, 6}\",\"textangle\":0,\"x\":1.0,\"xanchor\":\"left\",\"xref\":\"x domain\",\"y\":0.11802378774016468,\"yref\":\"y domain\"},{\"ax\":12.0,\"ay\":0.5,\"font\":{\"color\":\"black\",\"size\":12},\"showarrow\":false,\"text\":\"{1, 2, 3, 4, 5, 6, 7}\",\"textangle\":0,\"x\":1.0,\"xanchor\":\"left\",\"xref\":\"x domain\",\"y\":0.5,\"yref\":\"y domain\"},{\"ax\":12.0,\"ay\":0.853156450137237,\"font\":{\"color\":\"black\",\"size\":12},\"showarrow\":false,\"text\":\"{2, 6, -7, -5, -1}\",\"textangle\":0,\"x\":1.0,\"xanchor\":\"left\",\"xref\":\"x domain\",\"y\":0.853156450137237,\"yref\":\"y domain\"},{\"ax\":12.0,\"ay\":0.0777676120768527,\"font\":{\"color\":\"black\",\"size\":12},\"showarrow\":false,\"text\":\"{1, -5, -2}\",\"textangle\":0,\"x\":1.0,\"xanchor\":\"left\",\"xref\":\"x domain\",\"y\":0.0777676120768527,\"yref\":\"y domain\"},{\"ax\":12.0,\"ay\":0.6861848124428179,\"font\":{\"color\":\"black\",\"size\":12},\"showarrow\":false,\"text\":\"{-7, -3}\",\"textangle\":0,\"x\":1.0,\"xanchor\":\"left\",\"xref\":\"x domain\",\"y\":0.6861848124428179,\"yref\":\"y domain\"},{\"ax\":12.0,\"ay\":0.012351326623970723,\"font\":{\"color\":\"black\",\"size\":12},\"showarrow\":false,\"text\":\"{4}\",\"textangle\":0,\"x\":1.0,\"xanchor\":\"left\",\"xref\":\"x domain\",\"y\":0.012351326623970723,\"yref\":\"y domain\"},{\"ax\":12.0,\"ay\":0.024702653247941447,\"font\":{\"color\":\"black\",\"size\":12},\"showarrow\":false,\"text\":\"{-4}\",\"textangle\":0,\"x\":1.0,\"xanchor\":\"left\",\"xref\":\"x domain\",\"y\":0.024702653247941447,\"yref\":\"y domain\"},{\"ax\":12.0,\"ay\":0.0004574565416285453,\"font\":{\"color\":\"black\",\"size\":12},\"showarrow\":false,\"text\":\"{1} {2} {3}\",\"textangle\":0,\"x\":1.0,\"xanchor\":\"left\",\"xref\":\"x domain\",\"y\":0.0004574565416285453,\"yref\":\"y domain\"},{\"ax\":12.0,\"ay\":0.0384263494967978,\"font\":{\"color\":\"black\",\"size\":12},\"showarrow\":false,\"text\":\"{2, 5}\",\"textangle\":0,\"x\":1.0,\"xanchor\":\"left\",\"xref\":\"x domain\",\"y\":0.0384263494967978,\"yref\":\"y domain\"},{\"ax\":12.0,\"ay\":0.06404391582799634,\"font\":{\"color\":\"black\",\"size\":12},\"showarrow\":false,\"text\":\"{-5}\",\"textangle\":0,\"x\":1.0,\"xanchor\":\"left\",\"xref\":\"x domain\",\"y\":0.06404391582799634,\"yref\":\"y domain\"},{\"ax\":12.0,\"ay\":0.10430009149130832,\"font\":{\"color\":\"black\",\"size\":12},\"showarrow\":false,\"text\":\"{6}\",\"textangle\":0,\"x\":1.0,\"xanchor\":\"left\",\"xref\":\"x domain\",\"y\":0.10430009149130832,\"yref\":\"y domain\"}],\"margin\":{\"b\":20,\"l\":45,\"r\":140,\"t\":120}},                        {\"responsive\": true}                    ).then(function(){\n",
       "                            \n",
       "var gd = document.getElementById('063b0503-f980-4198-acc3-d3458da6055e');\n",
       "var x = new MutationObserver(function (mutations, observer) {{\n",
       "        var display = window.getComputedStyle(gd).display;\n",
       "        if (!display || display === 'none') {{\n",
       "            console.log([gd, 'removed!']);\n",
       "            Plotly.purge(gd);\n",
       "            observer.disconnect();\n",
       "        }}\n",
       "}});\n",
       "\n",
       "// Listen for the removal of the full notebook cells\n",
       "var notebookContainer = gd.closest('#notebook-container');\n",
       "if (notebookContainer) {{\n",
       "    x.observe(notebookContainer, {childList: true});\n",
       "}}\n",
       "\n",
       "// Listen for the clearing of the current output cell\n",
       "var outputEl = gd.closest('.output');\n",
       "if (outputEl) {{\n",
       "    x.observe(outputEl, {childList: true});\n",
       "}}\n",
       "\n",
       "                        })                };                });            </script>        </div>"
      ]
     },
     "metadata": {},
     "output_type": "display_data"
    }
   ],
   "source": [
    "# loop for line plots\n",
    "\n",
    "#ds = \"[[-7, -5], [3, -1, 5], [2, 7], [-6, -7], [4, -3], [-7, 3]]\"\n",
    "#ds = \"[[-5, -2, -6], [-4, -1, -5], [-7, 4], [3, 7, 6], [7, 2, -4], [5, -1], [-3, -4]]\"\n",
    "\n",
    "ds = \"[[-6, 1], [-5, 7, -6], [-3, -7], [-2, -5], [7, 4, 1], [-2, 1]]\"\n",
    "\n",
    "for configuration in [(0.55, 0.35, 0.1)]: #ex_fp_df[\"configuration\"].unique():\n",
    "    \n",
    "    # unpack weights\n",
    "    alpha_a, alpha_s, alpha_f = configuration\n",
    "    \n",
    "    # create strings for annotation and filename\n",
    "    annotation_text = r\"$(\\alpha_{A}, \\alpha_{S}, \\alpha_{F}) = \" + \"({},\\ {},\\ {})$\".format(alpha_a, alpha_s, alpha_f)\n",
    "    file_name = \"full_spec_lines2_{}_{}_{}.png\".format(str(alpha_a)[2:], str(alpha_s)[2:], str(alpha_f)[2:])\n",
    "\n",
    "\n",
    "    df = ex_fp_df[(ex_fp_df[\"configuration\"]==configuration) & (ex_fp_df[\"ds\"]==ds)]\n",
    "    print(df.shape)\n",
    "\n",
    "    sub_df = df[[\"ic_int\", \"fp_ints\"]]\n",
    "    #sub_df = sub_df.set_index([\"ic_int\"]).apply(pd.Series.explode).reset_index()\n",
    "    \n",
    "    #print(sub_df.shape)\n",
    "    #print(sub_df[\"fp_ints\"].nunique())\n",
    "    x = sub_df.drop_duplicates([\"ic_int\", \"fp_ints\"])\n",
    "    print(x[\"fp_ints\"].nunique())\n",
    "    print(x[\"ic_int\"].nunique())\n",
    "    print(x.groupby([\"fp_ints\"])[\"ic_int\"].nunique().quantile([0.25, 0.5, 0.75], interpolation=\"linear\"))\n",
    "    #print(x.shape)\n",
    "\n",
    "    fig = go.Figure(\n",
    "        data=go.Parcoords(\n",
    "            line=dict(#color=sub_df[ep_type + \"_ints\"],\n",
    "                      color=sub_df[\"ic_int\"],\n",
    "                      colorscale=\"Viridis\"),\n",
    "            tickfont={\"size\": 8},\n",
    "            dimensions=list([\n",
    "                dict(\n",
    "                    tickvals=[],  #df[\"ic_int\"].unique(),\n",
    "                    ticktext=[],  # df[\"init_coms\"].unique(),\n",
    "                    label=\"Initial<br>commitments\", values=sub_df['ic_int'],\n",
    "                    range=[1,2186]),\n",
    "                dict(\n",
    "                    tickvals=[], #df[\"fp_ints\"].unique(),\n",
    "                    ticktext=[], #df[\"fp_coms\"].unique(),\n",
    "                    label='Fixed point<br>commitments', values=sub_df[\"fp_ints\"],\n",
    "                    range=[1,2186])])))\n",
    "    \n",
    "    \n",
    "    \n",
    "    fig.layout.height = 1200\n",
    "    fig.layout.width = 800\n",
    "    fig.update_layout(template=\"plotly_white\",\n",
    "                      #paper_bgcolor=\"rgba(0,0,0,0)\",\n",
    "                      #plot_bgcolor=\"rgba(0,0,0,0)\",\n",
    "                      font={\"color\": \"black\", \"size\": 14})\n",
    "    \n",
    "    #fig.update_layout(xaxis=dict(domain=[0.0, 1.0]), yaxis=dict(domain=[0.0, 1.0]))\n",
    "    \n",
    "    for fp_int, fp_name in zip(annotation_y, annotation_name):\n",
    "        fig.add_annotation(dict(font=dict(color=\"black\",size=12),\n",
    "                                showarrow=False,\n",
    "                                ax=12.0,\n",
    "                                ay=fp_int/2186,\n",
    "                                x=1.00,\n",
    "                                y=fp_int/2186,\n",
    "                                text=fp_name,\n",
    "                                textangle=0,\n",
    "                                xref=\"x domain\",\n",
    "                                yref=\"y domain\",\n",
    "                                xanchor=\"left\"))\n",
    "        \n",
    "    \n",
    "    #fig.update_layout(title_text=\"Streamlined outputs from full spectrum\")\n",
    "    fig.update_layout(margin={\"b\":20, \"l\":45, \"r\": 140, \"t\":120})\n",
    "    \n",
    "    #fig.add_annotation(dict(font=dict(color=\"black\",size=12),\n",
    "    #                            showarrow=False,\n",
    "    #                            x=-0.13,\n",
    "    #                            y=1.05,\n",
    "    #                            text=annotation_text,\n",
    "    #                            textangle=0,\n",
    "    #                            xref=\"paper\",\n",
    "    #                            yref=\"paper\"))\n",
    "\n",
    "\n",
    "\n",
    "    fig.show()\n",
    "    #pio.write_image(fig, path.join(plot_dir, file_name), scale=2)\n",
    "    #break\n",
    "    "
   ]
  },
  {
   "cell_type": "markdown",
   "id": "4b12a08f",
   "metadata": {},
   "source": [
    "## \"Anything Goes\": Propositions"
   ]
  },
  {
   "cell_type": "code",
   "execution_count": 72,
   "id": "69477773",
   "metadata": {},
   "outputs": [
    {
     "ename": "ValueError",
     "evalue": "malformed node or string: (-7, -6, 1, 2, 5)",
     "output_type": "error",
     "traceback": [
      "\u001b[1;31m---------------------------------------------------------------------------\u001b[0m",
      "\u001b[1;31mValueError\u001b[0m                                Traceback (most recent call last)",
      "\u001b[1;32m~\\AppData\\Local\\Temp/ipykernel_14820/3424734260.py\u001b[0m in \u001b[0;36m<module>\u001b[1;34m\u001b[0m\n\u001b[0;32m      1\u001b[0m \u001b[1;31m# ex_fp_df restricted to full RE and non-trivial fixed points\u001b[0m\u001b[1;33m\u001b[0m\u001b[1;33m\u001b[0m\u001b[0m\n\u001b[1;32m----> 2\u001b[1;33m \u001b[0mliteral_eval_cols\u001b[0m\u001b[1;33m(\u001b[0m\u001b[0mex_fp_df\u001b[0m\u001b[1;33m,\u001b[0m \u001b[1;33m[\u001b[0m\u001b[1;34m\"init_coms\"\u001b[0m\u001b[1;33m]\u001b[0m\u001b[1;33m)\u001b[0m\u001b[1;33m\u001b[0m\u001b[1;33m\u001b[0m\u001b[0m\n\u001b[0m",
      "\u001b[1;32m~\\AppData\\Local\\Temp/ipykernel_14820/1684134606.py\u001b[0m in \u001b[0;36mliteral_eval_cols\u001b[1;34m(data, cols)\u001b[0m\n\u001b[0;32m      1\u001b[0m \u001b[1;32mdef\u001b[0m \u001b[0mliteral_eval_cols\u001b[0m\u001b[1;33m(\u001b[0m\u001b[0mdata\u001b[0m\u001b[1;33m:\u001b[0m \u001b[0mDataFrame\u001b[0m\u001b[1;33m,\u001b[0m \u001b[0mcols\u001b[0m\u001b[1;33m:\u001b[0m \u001b[0mList\u001b[0m\u001b[1;33m[\u001b[0m\u001b[0mstr\u001b[0m\u001b[1;33m]\u001b[0m\u001b[1;33m)\u001b[0m\u001b[1;33m:\u001b[0m\u001b[1;33m\u001b[0m\u001b[1;33m\u001b[0m\u001b[0m\n\u001b[0;32m      2\u001b[0m     \u001b[1;32mfor\u001b[0m \u001b[0mcol_name\u001b[0m \u001b[1;32min\u001b[0m \u001b[0mcols\u001b[0m\u001b[1;33m:\u001b[0m\u001b[1;33m\u001b[0m\u001b[1;33m\u001b[0m\u001b[0m\n\u001b[1;32m----> 3\u001b[1;33m         \u001b[0mdata\u001b[0m\u001b[1;33m[\u001b[0m\u001b[0mcol_name\u001b[0m\u001b[1;33m]\u001b[0m \u001b[1;33m=\u001b[0m \u001b[0mdata\u001b[0m\u001b[1;33m.\u001b[0m\u001b[0mapply\u001b[0m\u001b[1;33m(\u001b[0m\u001b[1;32mlambda\u001b[0m \u001b[0mx\u001b[0m\u001b[1;33m:\u001b[0m \u001b[0mliteral_eval\u001b[0m\u001b[1;33m(\u001b[0m\u001b[0mx\u001b[0m\u001b[1;33m[\u001b[0m\u001b[0mcol_name\u001b[0m\u001b[1;33m]\u001b[0m\u001b[1;33m)\u001b[0m\u001b[1;33m,\u001b[0m \u001b[0maxis\u001b[0m\u001b[1;33m=\u001b[0m\u001b[1;36m1\u001b[0m\u001b[1;33m)\u001b[0m\u001b[1;33m\u001b[0m\u001b[1;33m\u001b[0m\u001b[0m\n\u001b[0m",
      "\u001b[1;32m~\\AppData\\Local\\Programs\\Python\\Python39\\lib\\site-packages\\pandas\\core\\frame.py\u001b[0m in \u001b[0;36mapply\u001b[1;34m(self, func, axis, raw, result_type, args, **kwargs)\u001b[0m\n\u001b[0;32m   8738\u001b[0m             \u001b[0mkwargs\u001b[0m\u001b[1;33m=\u001b[0m\u001b[0mkwargs\u001b[0m\u001b[1;33m,\u001b[0m\u001b[1;33m\u001b[0m\u001b[1;33m\u001b[0m\u001b[0m\n\u001b[0;32m   8739\u001b[0m         )\n\u001b[1;32m-> 8740\u001b[1;33m         \u001b[1;32mreturn\u001b[0m \u001b[0mop\u001b[0m\u001b[1;33m.\u001b[0m\u001b[0mapply\u001b[0m\u001b[1;33m(\u001b[0m\u001b[1;33m)\u001b[0m\u001b[1;33m\u001b[0m\u001b[1;33m\u001b[0m\u001b[0m\n\u001b[0m\u001b[0;32m   8741\u001b[0m \u001b[1;33m\u001b[0m\u001b[0m\n\u001b[0;32m   8742\u001b[0m     def applymap(\n",
      "\u001b[1;32m~\\AppData\\Local\\Programs\\Python\\Python39\\lib\\site-packages\\pandas\\core\\apply.py\u001b[0m in \u001b[0;36mapply\u001b[1;34m(self)\u001b[0m\n\u001b[0;32m    686\u001b[0m             \u001b[1;32mreturn\u001b[0m \u001b[0mself\u001b[0m\u001b[1;33m.\u001b[0m\u001b[0mapply_raw\u001b[0m\u001b[1;33m(\u001b[0m\u001b[1;33m)\u001b[0m\u001b[1;33m\u001b[0m\u001b[1;33m\u001b[0m\u001b[0m\n\u001b[0;32m    687\u001b[0m \u001b[1;33m\u001b[0m\u001b[0m\n\u001b[1;32m--> 688\u001b[1;33m         \u001b[1;32mreturn\u001b[0m \u001b[0mself\u001b[0m\u001b[1;33m.\u001b[0m\u001b[0mapply_standard\u001b[0m\u001b[1;33m(\u001b[0m\u001b[1;33m)\u001b[0m\u001b[1;33m\u001b[0m\u001b[1;33m\u001b[0m\u001b[0m\n\u001b[0m\u001b[0;32m    689\u001b[0m \u001b[1;33m\u001b[0m\u001b[0m\n\u001b[0;32m    690\u001b[0m     \u001b[1;32mdef\u001b[0m \u001b[0magg\u001b[0m\u001b[1;33m(\u001b[0m\u001b[0mself\u001b[0m\u001b[1;33m)\u001b[0m\u001b[1;33m:\u001b[0m\u001b[1;33m\u001b[0m\u001b[1;33m\u001b[0m\u001b[0m\n",
      "\u001b[1;32m~\\AppData\\Local\\Programs\\Python\\Python39\\lib\\site-packages\\pandas\\core\\apply.py\u001b[0m in \u001b[0;36mapply_standard\u001b[1;34m(self)\u001b[0m\n\u001b[0;32m    810\u001b[0m \u001b[1;33m\u001b[0m\u001b[0m\n\u001b[0;32m    811\u001b[0m     \u001b[1;32mdef\u001b[0m \u001b[0mapply_standard\u001b[0m\u001b[1;33m(\u001b[0m\u001b[0mself\u001b[0m\u001b[1;33m)\u001b[0m\u001b[1;33m:\u001b[0m\u001b[1;33m\u001b[0m\u001b[1;33m\u001b[0m\u001b[0m\n\u001b[1;32m--> 812\u001b[1;33m         \u001b[0mresults\u001b[0m\u001b[1;33m,\u001b[0m \u001b[0mres_index\u001b[0m \u001b[1;33m=\u001b[0m \u001b[0mself\u001b[0m\u001b[1;33m.\u001b[0m\u001b[0mapply_series_generator\u001b[0m\u001b[1;33m(\u001b[0m\u001b[1;33m)\u001b[0m\u001b[1;33m\u001b[0m\u001b[1;33m\u001b[0m\u001b[0m\n\u001b[0m\u001b[0;32m    813\u001b[0m \u001b[1;33m\u001b[0m\u001b[0m\n\u001b[0;32m    814\u001b[0m         \u001b[1;31m# wrap results\u001b[0m\u001b[1;33m\u001b[0m\u001b[1;33m\u001b[0m\u001b[0m\n",
      "\u001b[1;32m~\\AppData\\Local\\Programs\\Python\\Python39\\lib\\site-packages\\pandas\\core\\apply.py\u001b[0m in \u001b[0;36mapply_series_generator\u001b[1;34m(self)\u001b[0m\n\u001b[0;32m    826\u001b[0m             \u001b[1;32mfor\u001b[0m \u001b[0mi\u001b[0m\u001b[1;33m,\u001b[0m \u001b[0mv\u001b[0m \u001b[1;32min\u001b[0m \u001b[0menumerate\u001b[0m\u001b[1;33m(\u001b[0m\u001b[0mseries_gen\u001b[0m\u001b[1;33m)\u001b[0m\u001b[1;33m:\u001b[0m\u001b[1;33m\u001b[0m\u001b[1;33m\u001b[0m\u001b[0m\n\u001b[0;32m    827\u001b[0m                 \u001b[1;31m# ignore SettingWithCopy here in case the user mutates\u001b[0m\u001b[1;33m\u001b[0m\u001b[1;33m\u001b[0m\u001b[0m\n\u001b[1;32m--> 828\u001b[1;33m                 \u001b[0mresults\u001b[0m\u001b[1;33m[\u001b[0m\u001b[0mi\u001b[0m\u001b[1;33m]\u001b[0m \u001b[1;33m=\u001b[0m \u001b[0mself\u001b[0m\u001b[1;33m.\u001b[0m\u001b[0mf\u001b[0m\u001b[1;33m(\u001b[0m\u001b[0mv\u001b[0m\u001b[1;33m)\u001b[0m\u001b[1;33m\u001b[0m\u001b[1;33m\u001b[0m\u001b[0m\n\u001b[0m\u001b[0;32m    829\u001b[0m                 \u001b[1;32mif\u001b[0m \u001b[0misinstance\u001b[0m\u001b[1;33m(\u001b[0m\u001b[0mresults\u001b[0m\u001b[1;33m[\u001b[0m\u001b[0mi\u001b[0m\u001b[1;33m]\u001b[0m\u001b[1;33m,\u001b[0m \u001b[0mABCSeries\u001b[0m\u001b[1;33m)\u001b[0m\u001b[1;33m:\u001b[0m\u001b[1;33m\u001b[0m\u001b[1;33m\u001b[0m\u001b[0m\n\u001b[0;32m    830\u001b[0m                     \u001b[1;31m# If we have a view on v, we need to make a copy because\u001b[0m\u001b[1;33m\u001b[0m\u001b[1;33m\u001b[0m\u001b[0m\n",
      "\u001b[1;32m~\\AppData\\Local\\Temp/ipykernel_14820/1684134606.py\u001b[0m in \u001b[0;36m<lambda>\u001b[1;34m(x)\u001b[0m\n\u001b[0;32m      1\u001b[0m \u001b[1;32mdef\u001b[0m \u001b[0mliteral_eval_cols\u001b[0m\u001b[1;33m(\u001b[0m\u001b[0mdata\u001b[0m\u001b[1;33m:\u001b[0m \u001b[0mDataFrame\u001b[0m\u001b[1;33m,\u001b[0m \u001b[0mcols\u001b[0m\u001b[1;33m:\u001b[0m \u001b[0mList\u001b[0m\u001b[1;33m[\u001b[0m\u001b[0mstr\u001b[0m\u001b[1;33m]\u001b[0m\u001b[1;33m)\u001b[0m\u001b[1;33m:\u001b[0m\u001b[1;33m\u001b[0m\u001b[1;33m\u001b[0m\u001b[0m\n\u001b[0;32m      2\u001b[0m     \u001b[1;32mfor\u001b[0m \u001b[0mcol_name\u001b[0m \u001b[1;32min\u001b[0m \u001b[0mcols\u001b[0m\u001b[1;33m:\u001b[0m\u001b[1;33m\u001b[0m\u001b[1;33m\u001b[0m\u001b[0m\n\u001b[1;32m----> 3\u001b[1;33m         \u001b[0mdata\u001b[0m\u001b[1;33m[\u001b[0m\u001b[0mcol_name\u001b[0m\u001b[1;33m]\u001b[0m \u001b[1;33m=\u001b[0m \u001b[0mdata\u001b[0m\u001b[1;33m.\u001b[0m\u001b[0mapply\u001b[0m\u001b[1;33m(\u001b[0m\u001b[1;32mlambda\u001b[0m \u001b[0mx\u001b[0m\u001b[1;33m:\u001b[0m \u001b[0mliteral_eval\u001b[0m\u001b[1;33m(\u001b[0m\u001b[0mx\u001b[0m\u001b[1;33m[\u001b[0m\u001b[0mcol_name\u001b[0m\u001b[1;33m]\u001b[0m\u001b[1;33m)\u001b[0m\u001b[1;33m,\u001b[0m \u001b[0maxis\u001b[0m\u001b[1;33m=\u001b[0m\u001b[1;36m1\u001b[0m\u001b[1;33m)\u001b[0m\u001b[1;33m\u001b[0m\u001b[1;33m\u001b[0m\u001b[0m\n\u001b[0m",
      "\u001b[1;32m~\\AppData\\Local\\Programs\\Python\\Python39\\lib\\ast.py\u001b[0m in \u001b[0;36mliteral_eval\u001b[1;34m(node_or_string)\u001b[0m\n\u001b[0;32m    103\u001b[0m                     \u001b[1;32mreturn\u001b[0m \u001b[0mleft\u001b[0m \u001b[1;33m-\u001b[0m \u001b[0mright\u001b[0m\u001b[1;33m\u001b[0m\u001b[1;33m\u001b[0m\u001b[0m\n\u001b[0;32m    104\u001b[0m         \u001b[1;32mreturn\u001b[0m \u001b[0m_convert_signed_num\u001b[0m\u001b[1;33m(\u001b[0m\u001b[0mnode\u001b[0m\u001b[1;33m)\u001b[0m\u001b[1;33m\u001b[0m\u001b[1;33m\u001b[0m\u001b[0m\n\u001b[1;32m--> 105\u001b[1;33m     \u001b[1;32mreturn\u001b[0m \u001b[0m_convert\u001b[0m\u001b[1;33m(\u001b[0m\u001b[0mnode_or_string\u001b[0m\u001b[1;33m)\u001b[0m\u001b[1;33m\u001b[0m\u001b[1;33m\u001b[0m\u001b[0m\n\u001b[0m\u001b[0;32m    106\u001b[0m \u001b[1;33m\u001b[0m\u001b[0m\n\u001b[0;32m    107\u001b[0m \u001b[1;33m\u001b[0m\u001b[0m\n",
      "\u001b[1;32m~\\AppData\\Local\\Programs\\Python\\Python39\\lib\\ast.py\u001b[0m in \u001b[0;36m_convert\u001b[1;34m(node)\u001b[0m\n\u001b[0;32m    102\u001b[0m                 \u001b[1;32melse\u001b[0m\u001b[1;33m:\u001b[0m\u001b[1;33m\u001b[0m\u001b[1;33m\u001b[0m\u001b[0m\n\u001b[0;32m    103\u001b[0m                     \u001b[1;32mreturn\u001b[0m \u001b[0mleft\u001b[0m \u001b[1;33m-\u001b[0m \u001b[0mright\u001b[0m\u001b[1;33m\u001b[0m\u001b[1;33m\u001b[0m\u001b[0m\n\u001b[1;32m--> 104\u001b[1;33m         \u001b[1;32mreturn\u001b[0m \u001b[0m_convert_signed_num\u001b[0m\u001b[1;33m(\u001b[0m\u001b[0mnode\u001b[0m\u001b[1;33m)\u001b[0m\u001b[1;33m\u001b[0m\u001b[1;33m\u001b[0m\u001b[0m\n\u001b[0m\u001b[0;32m    105\u001b[0m     \u001b[1;32mreturn\u001b[0m \u001b[0m_convert\u001b[0m\u001b[1;33m(\u001b[0m\u001b[0mnode_or_string\u001b[0m\u001b[1;33m)\u001b[0m\u001b[1;33m\u001b[0m\u001b[1;33m\u001b[0m\u001b[0m\n\u001b[0;32m    106\u001b[0m \u001b[1;33m\u001b[0m\u001b[0m\n",
      "\u001b[1;32m~\\AppData\\Local\\Programs\\Python\\Python39\\lib\\ast.py\u001b[0m in \u001b[0;36m_convert_signed_num\u001b[1;34m(node)\u001b[0m\n\u001b[0;32m     76\u001b[0m             \u001b[1;32melse\u001b[0m\u001b[1;33m:\u001b[0m\u001b[1;33m\u001b[0m\u001b[1;33m\u001b[0m\u001b[0m\n\u001b[0;32m     77\u001b[0m                 \u001b[1;32mreturn\u001b[0m \u001b[1;33m-\u001b[0m \u001b[0moperand\u001b[0m\u001b[1;33m\u001b[0m\u001b[1;33m\u001b[0m\u001b[0m\n\u001b[1;32m---> 78\u001b[1;33m         \u001b[1;32mreturn\u001b[0m \u001b[0m_convert_num\u001b[0m\u001b[1;33m(\u001b[0m\u001b[0mnode\u001b[0m\u001b[1;33m)\u001b[0m\u001b[1;33m\u001b[0m\u001b[1;33m\u001b[0m\u001b[0m\n\u001b[0m\u001b[0;32m     79\u001b[0m     \u001b[1;32mdef\u001b[0m \u001b[0m_convert\u001b[0m\u001b[1;33m(\u001b[0m\u001b[0mnode\u001b[0m\u001b[1;33m)\u001b[0m\u001b[1;33m:\u001b[0m\u001b[1;33m\u001b[0m\u001b[1;33m\u001b[0m\u001b[0m\n\u001b[0;32m     80\u001b[0m         \u001b[1;32mif\u001b[0m \u001b[0misinstance\u001b[0m\u001b[1;33m(\u001b[0m\u001b[0mnode\u001b[0m\u001b[1;33m,\u001b[0m \u001b[0mConstant\u001b[0m\u001b[1;33m)\u001b[0m\u001b[1;33m:\u001b[0m\u001b[1;33m\u001b[0m\u001b[1;33m\u001b[0m\u001b[0m\n",
      "\u001b[1;32m~\\AppData\\Local\\Programs\\Python\\Python39\\lib\\ast.py\u001b[0m in \u001b[0;36m_convert_num\u001b[1;34m(node)\u001b[0m\n\u001b[0;32m     67\u001b[0m     \u001b[1;32mdef\u001b[0m \u001b[0m_convert_num\u001b[0m\u001b[1;33m(\u001b[0m\u001b[0mnode\u001b[0m\u001b[1;33m)\u001b[0m\u001b[1;33m:\u001b[0m\u001b[1;33m\u001b[0m\u001b[1;33m\u001b[0m\u001b[0m\n\u001b[0;32m     68\u001b[0m         \u001b[1;32mif\u001b[0m \u001b[1;32mnot\u001b[0m \u001b[0misinstance\u001b[0m\u001b[1;33m(\u001b[0m\u001b[0mnode\u001b[0m\u001b[1;33m,\u001b[0m \u001b[0mConstant\u001b[0m\u001b[1;33m)\u001b[0m \u001b[1;32mor\u001b[0m \u001b[0mtype\u001b[0m\u001b[1;33m(\u001b[0m\u001b[0mnode\u001b[0m\u001b[1;33m.\u001b[0m\u001b[0mvalue\u001b[0m\u001b[1;33m)\u001b[0m \u001b[1;32mnot\u001b[0m \u001b[1;32min\u001b[0m \u001b[1;33m(\u001b[0m\u001b[0mint\u001b[0m\u001b[1;33m,\u001b[0m \u001b[0mfloat\u001b[0m\u001b[1;33m,\u001b[0m \u001b[0mcomplex\u001b[0m\u001b[1;33m)\u001b[0m\u001b[1;33m:\u001b[0m\u001b[1;33m\u001b[0m\u001b[1;33m\u001b[0m\u001b[0m\n\u001b[1;32m---> 69\u001b[1;33m             \u001b[0m_raise_malformed_node\u001b[0m\u001b[1;33m(\u001b[0m\u001b[0mnode\u001b[0m\u001b[1;33m)\u001b[0m\u001b[1;33m\u001b[0m\u001b[1;33m\u001b[0m\u001b[0m\n\u001b[0m\u001b[0;32m     70\u001b[0m         \u001b[1;32mreturn\u001b[0m \u001b[0mnode\u001b[0m\u001b[1;33m.\u001b[0m\u001b[0mvalue\u001b[0m\u001b[1;33m\u001b[0m\u001b[1;33m\u001b[0m\u001b[0m\n\u001b[0;32m     71\u001b[0m     \u001b[1;32mdef\u001b[0m \u001b[0m_convert_signed_num\u001b[0m\u001b[1;33m(\u001b[0m\u001b[0mnode\u001b[0m\u001b[1;33m)\u001b[0m\u001b[1;33m:\u001b[0m\u001b[1;33m\u001b[0m\u001b[1;33m\u001b[0m\u001b[0m\n",
      "\u001b[1;32m~\\AppData\\Local\\Programs\\Python\\Python39\\lib\\ast.py\u001b[0m in \u001b[0;36m_raise_malformed_node\u001b[1;34m(node)\u001b[0m\n\u001b[0;32m     64\u001b[0m         \u001b[0mnode_or_string\u001b[0m \u001b[1;33m=\u001b[0m \u001b[0mnode_or_string\u001b[0m\u001b[1;33m.\u001b[0m\u001b[0mbody\u001b[0m\u001b[1;33m\u001b[0m\u001b[1;33m\u001b[0m\u001b[0m\n\u001b[0;32m     65\u001b[0m     \u001b[1;32mdef\u001b[0m \u001b[0m_raise_malformed_node\u001b[0m\u001b[1;33m(\u001b[0m\u001b[0mnode\u001b[0m\u001b[1;33m)\u001b[0m\u001b[1;33m:\u001b[0m\u001b[1;33m\u001b[0m\u001b[1;33m\u001b[0m\u001b[0m\n\u001b[1;32m---> 66\u001b[1;33m         \u001b[1;32mraise\u001b[0m \u001b[0mValueError\u001b[0m\u001b[1;33m(\u001b[0m\u001b[1;34mf'malformed node or string: {node!r}'\u001b[0m\u001b[1;33m)\u001b[0m\u001b[1;33m\u001b[0m\u001b[1;33m\u001b[0m\u001b[0m\n\u001b[0m\u001b[0;32m     67\u001b[0m     \u001b[1;32mdef\u001b[0m \u001b[0m_convert_num\u001b[0m\u001b[1;33m(\u001b[0m\u001b[0mnode\u001b[0m\u001b[1;33m)\u001b[0m\u001b[1;33m:\u001b[0m\u001b[1;33m\u001b[0m\u001b[1;33m\u001b[0m\u001b[0m\n\u001b[0;32m     68\u001b[0m         \u001b[1;32mif\u001b[0m \u001b[1;32mnot\u001b[0m \u001b[0misinstance\u001b[0m\u001b[1;33m(\u001b[0m\u001b[0mnode\u001b[0m\u001b[1;33m,\u001b[0m \u001b[0mConstant\u001b[0m\u001b[1;33m)\u001b[0m \u001b[1;32mor\u001b[0m \u001b[0mtype\u001b[0m\u001b[1;33m(\u001b[0m\u001b[0mnode\u001b[0m\u001b[1;33m.\u001b[0m\u001b[0mvalue\u001b[0m\u001b[1;33m)\u001b[0m \u001b[1;32mnot\u001b[0m \u001b[1;32min\u001b[0m \u001b[1;33m(\u001b[0m\u001b[0mint\u001b[0m\u001b[1;33m,\u001b[0m \u001b[0mfloat\u001b[0m\u001b[1;33m,\u001b[0m \u001b[0mcomplex\u001b[0m\u001b[1;33m)\u001b[0m\u001b[1;33m:\u001b[0m\u001b[1;33m\u001b[0m\u001b[1;33m\u001b[0m\u001b[0m\n",
      "\u001b[1;31mValueError\u001b[0m: malformed node or string: (-7, -6, 1, 2, 5)"
     ]
    }
   ],
   "source": [
    "# ex_fp_df restricted to full RE and non-trivial fixed points\n",
    "literal_eval_cols(ex_fp_df, [\"init_coms\"])"
   ]
  },
  {
   "cell_type": "code",
   "execution_count": 91,
   "id": "c40d8483",
   "metadata": {},
   "outputs": [],
   "source": [
    "ex_fp_df[\"fp_coms\"] = ex_fp_df.apply(lambda row: tuple(sorted(row[\"fixed_points\"][1])), axis=1)\n",
    "ex_fp_df[\"init_coms\"] = ex_fp_df.apply(lambda row: tuple(sorted(row[\"init_coms\"])), axis=1)"
   ]
  },
  {
   "cell_type": "code",
   "execution_count": null,
   "id": "fc67e215",
   "metadata": {},
   "outputs": [],
   "source": []
  },
  {
   "cell_type": "code",
   "execution_count": 73,
   "id": "7a0e1681",
   "metadata": {},
   "outputs": [],
   "source": [
    "# extreme case 1\n",
    "# all fixed points in a single group\n",
    "\n",
    "result_df0 = pd.DataFrame()\n",
    "\n",
    "\n",
    "for configuration in ex_fp_df[\"configuration\"].unique():\n",
    "    \n",
    "    # loop over dialectical structures\n",
    "    for ds in ex_fp_df[\"ds\"].unique():\n",
    "        \n",
    "        row = dict()\n",
    "            \n",
    "        row[\"configuration\"] = configuration\n",
    "        row[\"ds\"] = ds\n",
    "        row[\"n_fp\"] = 0\n",
    "        \n",
    "        # restrict exploded fixed point df to configuration and dialectical structure\n",
    "        sub_ex_fp_df = ex_fp_df[(ex_fp_df[\"configuration\"]==configuration) & (ex_fp_df[\"ds\"]==ds)]\n",
    "        \n",
    "        # sentence dict\n",
    "        d = dict()\n",
    "        for i in range(1,8):\n",
    "            d[i] = 0\n",
    "            d[-i] = 0\n",
    "             \n",
    "\n",
    "        # every (nontrivial, full RE) fixed point\n",
    "        for fp in sub_ex_fp_df[\"fp_coms\"].unique():\n",
    "                \n",
    "            row[\"n_fp\"] += 1\n",
    "                \n",
    "            for s in fp:\n",
    "                d[s] +=1  \n",
    "            \n",
    "\n",
    "        row[\"anything_goes\"] = all(d.values())\n",
    "\n",
    "        result_df0 = result_df0.append(row, ignore_index=True)"
   ]
  },
  {
   "cell_type": "code",
   "execution_count": 74,
   "id": "99dc1a55",
   "metadata": {},
   "outputs": [
    {
     "data": {
      "text/plain": [
       "configuration\n",
       "(0.35, 0.55, 0.1)    1.0\n",
       "(0.46, 0.1, 0.44)    1.0\n",
       "(0.55, 0.2, 0.25)    1.0\n",
       "(0.55, 0.35, 0.1)    1.0\n",
       "(0.7, 0.2, 0.1)      1.0\n",
       "Name: anything_goes, dtype: float64"
      ]
     },
     "execution_count": 74,
     "metadata": {},
     "output_type": "execute_result"
    }
   ],
   "source": [
    "result_df0.groupby(\"configuration\")[\"anything_goes\"].mean()"
   ]
  },
  {
   "cell_type": "code",
   "execution_count": 76,
   "id": "df0bd54e",
   "metadata": {},
   "outputs": [
    {
     "name": "stdout",
     "output_type": "stream",
     "text": [
      "(0.35, 0.55, 0.1)\n",
      "[[-5, 3, 6], [-2, 3], [1, -5], [7, 2], [4, -1]]\n",
      "[[-4, 2, 7], [-1, 2], [6, 1], [5, -7], [-3, -5], [2, -3], [4, -5]]\n",
      "[[3, -4, 7], [6, -3], [2, -1, -3], [5, -7], [-6, -2]]\n",
      "[[-5, 6, 7], [4, 6], [3, -4], [2, -5], [1, -7], [-1, 4, 5], [6, 5, 1]]\n",
      "[[-6, -2, 4], [-1, 6], [3, -7, 2], [5, 7], [-2, -5], [-4, 1]]\n",
      "[[7, 5], [-1, -4, 7], [3, -2, 5], [-4, -6, -3], [-5, -1, -4], [-1, -3]]\n",
      "[[-5, -6], [1, -7, 6], [-2, 4, 6], [-3, 6], [-3, 7], [-4, 2, 6], [-6, -1, -7]]\n",
      "[[7, 1], [6, -5, 7], [2, -3, 5], [-4, -1, 6], [3, 6, 7], [-6, -4]]\n",
      "[[4, -1, -5], [-3, -1], [6, -1], [-7, -5], [-1, -6, 3], [-2, -7], [-1, -7, 2]]\n",
      "[[-5, -2, -6], [-4, -1, -5], [-7, 4], [3, 7, 6], [7, 2, -4], [5, -1], [-3, -4]]\n",
      "[[5, -2, -7], [-3, 4, 2], [6, -1, 4], [3, 2], [4, 6]]\n",
      "[[6, -5, -3], [4, 2, -5], [-7, -1, -5], [5, 1, 6], [-1, -2, 3]]\n",
      "[[3, 4], [-1, 7, 3], [-5, -1], [-6, -2, -1], [-4, 7]]\n",
      "[[-1, 3, 4], [6, -2, -1], [7, 4], [7, 1, 6], [-5, 4], [2, 1], [-5, 3, -1]]\n",
      "[[4, 2, -6], [3, -1, 4], [-5, -3], [1, -7, 3], [1, -2], [-7, -6], [7, 3]]\n",
      "[[-1, -2, -5], [7, 6, -2], [-3, 1], [-6, -3, 5], [-4, 3], [4, -6]]\n",
      "[[-6, 4], [-3, 7, 4], [5, -6], [-2, -1, 5], [-1, -4, 3], [7, 4], [3, -4], [6, 3]]\n",
      "[[-1, 7], [-6, -5, 1], [-3, -4, -6], [2, 4], [-5, -1, -3]]\n",
      "[[1, 7, -3], [-4, -6, -3], [-2, 3], [5, -2], [4, -5, 1], [4, 1, -5]]\n",
      "[[5, -7], [-3, 6, -5], [-2, -6], [4, 1, 3], [-6, 3, 7], [3, -7, 1]]\n",
      "[[-6, -1, -4], [5, 7, 6], [-3, 2, 6], [-7, 1], [1, -5, -6], [-6, -4, -5], [5, -3]]\n",
      "[[2, -3], [4, 3], [-6, 7, 2], [-5, -3], [2, -6, 3], [-1, 4, -5], [-4, 7]]\n",
      "[[1, -7], [-6, -2, -1], [3, 4, -6], [6, 7, -2], [-2, 5, 1], [-1, 7]]\n",
      "[[-3, -6], [1, -7, -3], [4, -2, 6], [3, -2, 7], [-7, 5, 3], [-2, 6], [1, -4]]\n",
      "[[3, 2], [5, -2], [1, -2], [-4, -5], [7, -6, -4]]\n",
      "[[6, -7, 5], [-3, -5], [1, 5], [2, -7], [4, 3], [4, -2, -5], [7, -6, 1], [2, -6]]\n",
      "[[-5, 2, -7], [4, 6, -7], [-1, -3, 6], [4, 5, -6], [2, 6]]\n",
      "[[-6, 1], [-5, 7, -6], [-3, -7], [-2, -5], [7, 4, 1], [-2, 1]]\n",
      "[[-7, -5], [3, -1, 5], [2, 7], [-6, -7], [4, -3], [-7, 3]]\n",
      "[[-3, -1, -2], [7, 5, -3], [-6, -1], [-4, -7], [2, -3]]\n",
      "(0.55, 0.35, 0.1)\n",
      "[[-5, 3, 6], [-2, 3], [1, -5], [7, 2], [4, -1]]\n",
      "[[-4, 2, 7], [-1, 2], [6, 1], [5, -7], [-3, -5], [2, -3], [4, -5]]\n",
      "[[3, -4, 7], [6, -3], [2, -1, -3], [5, -7], [-6, -2]]\n",
      "[[-5, 6, 7], [4, 6], [3, -4], [2, -5], [1, -7], [-1, 4, 5], [6, 5, 1]]\n",
      "[[-6, -2, 4], [-1, 6], [3, -7, 2], [5, 7], [-2, -5], [-4, 1]]\n",
      "[[7, 5], [-1, -4, 7], [3, -2, 5], [-4, -6, -3], [-5, -1, -4], [-1, -3]]\n",
      "[[-5, -6], [1, -7, 6], [-2, 4, 6], [-3, 6], [-3, 7], [-4, 2, 6], [-6, -1, -7]]\n",
      "[[7, 1], [6, -5, 7], [2, -3, 5], [-4, -1, 6], [3, 6, 7], [-6, -4]]\n",
      "[[4, -1, -5], [-3, -1], [6, -1], [-7, -5], [-1, -6, 3], [-2, -7], [-1, -7, 2]]\n",
      "[[-5, -2, -6], [-4, -1, -5], [-7, 4], [3, 7, 6], [7, 2, -4], [5, -1], [-3, -4]]\n",
      "[[5, -2, -7], [-3, 4, 2], [6, -1, 4], [3, 2], [4, 6]]\n",
      "[[6, -5, -3], [4, 2, -5], [-7, -1, -5], [5, 1, 6], [-1, -2, 3]]\n",
      "[[3, 4], [-1, 7, 3], [-5, -1], [-6, -2, -1], [-4, 7]]\n",
      "[[-1, 3, 4], [6, -2, -1], [7, 4], [7, 1, 6], [-5, 4], [2, 1], [-5, 3, -1]]\n",
      "[[4, 2, -6], [3, -1, 4], [-5, -3], [1, -7, 3], [1, -2], [-7, -6], [7, 3]]\n",
      "[[-1, -2, -5], [7, 6, -2], [-3, 1], [-6, -3, 5], [-4, 3], [4, -6]]\n",
      "[[-6, 4], [-3, 7, 4], [5, -6], [-2, -1, 5], [-1, -4, 3], [7, 4], [3, -4], [6, 3]]\n",
      "[[-1, 7], [-6, -5, 1], [-3, -4, -6], [2, 4], [-5, -1, -3]]\n",
      "[[1, 7, -3], [-4, -6, -3], [-2, 3], [5, -2], [4, -5, 1], [4, 1, -5]]\n",
      "[[5, -7], [-3, 6, -5], [-2, -6], [4, 1, 3], [-6, 3, 7], [3, -7, 1]]\n",
      "[[-6, -1, -4], [5, 7, 6], [-3, 2, 6], [-7, 1], [1, -5, -6], [-6, -4, -5], [5, -3]]\n",
      "[[2, -3], [4, 3], [-6, 7, 2], [-5, -3], [2, -6, 3], [-1, 4, -5], [-4, 7]]\n",
      "[[1, -7], [-6, -2, -1], [3, 4, -6], [6, 7, -2], [-2, 5, 1], [-1, 7]]\n",
      "[[-3, -6], [1, -7, -3], [4, -2, 6], [3, -2, 7], [-7, 5, 3], [-2, 6], [1, -4]]\n",
      "[[3, 2], [5, -2], [1, -2], [-4, -5], [7, -6, -4]]\n",
      "[[6, -7, 5], [-3, -5], [1, 5], [2, -7], [4, 3], [4, -2, -5], [7, -6, 1], [2, -6]]\n",
      "[[-5, 2, -7], [4, 6, -7], [-1, -3, 6], [4, 5, -6], [2, 6]]\n",
      "[[-6, 1], [-5, 7, -6], [-3, -7], [-2, -5], [7, 4, 1], [-2, 1]]\n",
      "[[-7, -5], [3, -1, 5], [2, 7], [-6, -7], [4, -3], [-7, 3]]\n",
      "[[-3, -1, -2], [7, 5, -3], [-6, -1], [-4, -7], [2, -3]]\n",
      "(0.7, 0.2, 0.1)\n",
      "[[-5, 3, 6], [-2, 3], [1, -5], [7, 2], [4, -1]]\n",
      "[[-4, 2, 7], [-1, 2], [6, 1], [5, -7], [-3, -5], [2, -3], [4, -5]]\n",
      "[[3, -4, 7], [6, -3], [2, -1, -3], [5, -7], [-6, -2]]\n",
      "[[-5, 6, 7], [4, 6], [3, -4], [2, -5], [1, -7], [-1, 4, 5], [6, 5, 1]]\n",
      "[[-6, -2, 4], [-1, 6], [3, -7, 2], [5, 7], [-2, -5], [-4, 1]]\n",
      "[[7, 5], [-1, -4, 7], [3, -2, 5], [-4, -6, -3], [-5, -1, -4], [-1, -3]]\n",
      "[[-5, -6], [1, -7, 6], [-2, 4, 6], [-3, 6], [-3, 7], [-4, 2, 6], [-6, -1, -7]]\n",
      "[[7, 1], [6, -5, 7], [2, -3, 5], [-4, -1, 6], [3, 6, 7], [-6, -4]]\n",
      "[[4, -1, -5], [-3, -1], [6, -1], [-7, -5], [-1, -6, 3], [-2, -7], [-1, -7, 2]]\n",
      "[[-5, -2, -6], [-4, -1, -5], [-7, 4], [3, 7, 6], [7, 2, -4], [5, -1], [-3, -4]]\n",
      "[[5, -2, -7], [-3, 4, 2], [6, -1, 4], [3, 2], [4, 6]]\n",
      "[[6, -5, -3], [4, 2, -5], [-7, -1, -5], [5, 1, 6], [-1, -2, 3]]\n",
      "[[3, 4], [-1, 7, 3], [-5, -1], [-6, -2, -1], [-4, 7]]\n",
      "[[-1, 3, 4], [6, -2, -1], [7, 4], [7, 1, 6], [-5, 4], [2, 1], [-5, 3, -1]]\n",
      "[[4, 2, -6], [3, -1, 4], [-5, -3], [1, -7, 3], [1, -2], [-7, -6], [7, 3]]\n",
      "[[-1, -2, -5], [7, 6, -2], [-3, 1], [-6, -3, 5], [-4, 3], [4, -6]]\n",
      "[[-6, 4], [-3, 7, 4], [5, -6], [-2, -1, 5], [-1, -4, 3], [7, 4], [3, -4], [6, 3]]\n",
      "[[-1, 7], [-6, -5, 1], [-3, -4, -6], [2, 4], [-5, -1, -3]]\n",
      "[[1, 7, -3], [-4, -6, -3], [-2, 3], [5, -2], [4, -5, 1], [4, 1, -5]]\n",
      "[[5, -7], [-3, 6, -5], [-2, -6], [4, 1, 3], [-6, 3, 7], [3, -7, 1]]\n",
      "[[-6, -1, -4], [5, 7, 6], [-3, 2, 6], [-7, 1], [1, -5, -6], [-6, -4, -5], [5, -3]]\n",
      "[[2, -3], [4, 3], [-6, 7, 2], [-5, -3], [2, -6, 3], [-1, 4, -5], [-4, 7]]\n",
      "[[1, -7], [-6, -2, -1], [3, 4, -6], [6, 7, -2], [-2, 5, 1], [-1, 7]]\n",
      "[[-3, -6], [1, -7, -3], [4, -2, 6], [3, -2, 7], [-7, 5, 3], [-2, 6], [1, -4]]\n",
      "[[3, 2], [5, -2], [1, -2], [-4, -5], [7, -6, -4]]\n",
      "[[6, -7, 5], [-3, -5], [1, 5], [2, -7], [4, 3], [4, -2, -5], [7, -6, 1], [2, -6]]\n",
      "[[-5, 2, -7], [4, 6, -7], [-1, -3, 6], [4, 5, -6], [2, 6]]\n",
      "[[-6, 1], [-5, 7, -6], [-3, -7], [-2, -5], [7, 4, 1], [-2, 1]]\n",
      "[[-7, -5], [3, -1, 5], [2, 7], [-6, -7], [4, -3], [-7, 3]]\n",
      "[[-3, -1, -2], [7, 5, -3], [-6, -1], [-4, -7], [2, -3]]\n",
      "(0.55, 0.2, 0.25)\n",
      "[[-5, 3, 6], [-2, 3], [1, -5], [7, 2], [4, -1]]\n",
      "[[-4, 2, 7], [-1, 2], [6, 1], [5, -7], [-3, -5], [2, -3], [4, -5]]\n",
      "[[3, -4, 7], [6, -3], [2, -1, -3], [5, -7], [-6, -2]]\n",
      "[[-5, 6, 7], [4, 6], [3, -4], [2, -5], [1, -7], [-1, 4, 5], [6, 5, 1]]\n",
      "[[-6, -2, 4], [-1, 6], [3, -7, 2], [5, 7], [-2, -5], [-4, 1]]\n",
      "[[7, 5], [-1, -4, 7], [3, -2, 5], [-4, -6, -3], [-5, -1, -4], [-1, -3]]\n",
      "[[-5, -6], [1, -7, 6], [-2, 4, 6], [-3, 6], [-3, 7], [-4, 2, 6], [-6, -1, -7]]\n",
      "[[7, 1], [6, -5, 7], [2, -3, 5], [-4, -1, 6], [3, 6, 7], [-6, -4]]\n",
      "[[4, -1, -5], [-3, -1], [6, -1], [-7, -5], [-1, -6, 3], [-2, -7], [-1, -7, 2]]\n",
      "[[-5, -2, -6], [-4, -1, -5], [-7, 4], [3, 7, 6], [7, 2, -4], [5, -1], [-3, -4]]\n",
      "[[5, -2, -7], [-3, 4, 2], [6, -1, 4], [3, 2], [4, 6]]\n",
      "[[6, -5, -3], [4, 2, -5], [-7, -1, -5], [5, 1, 6], [-1, -2, 3]]\n",
      "[[3, 4], [-1, 7, 3], [-5, -1], [-6, -2, -1], [-4, 7]]\n",
      "[[-1, 3, 4], [6, -2, -1], [7, 4], [7, 1, 6], [-5, 4], [2, 1], [-5, 3, -1]]\n",
      "[[4, 2, -6], [3, -1, 4], [-5, -3], [1, -7, 3], [1, -2], [-7, -6], [7, 3]]\n",
      "[[-1, -2, -5], [7, 6, -2], [-3, 1], [-6, -3, 5], [-4, 3], [4, -6]]\n",
      "[[-6, 4], [-3, 7, 4], [5, -6], [-2, -1, 5], [-1, -4, 3], [7, 4], [3, -4], [6, 3]]\n",
      "[[-1, 7], [-6, -5, 1], [-3, -4, -6], [2, 4], [-5, -1, -3]]\n",
      "[[1, 7, -3], [-4, -6, -3], [-2, 3], [5, -2], [4, -5, 1], [4, 1, -5]]\n",
      "[[5, -7], [-3, 6, -5], [-2, -6], [4, 1, 3], [-6, 3, 7], [3, -7, 1]]\n",
      "[[-6, -1, -4], [5, 7, 6], [-3, 2, 6], [-7, 1], [1, -5, -6], [-6, -4, -5], [5, -3]]\n",
      "[[2, -3], [4, 3], [-6, 7, 2], [-5, -3], [2, -6, 3], [-1, 4, -5], [-4, 7]]\n",
      "[[1, -7], [-6, -2, -1], [3, 4, -6], [6, 7, -2], [-2, 5, 1], [-1, 7]]\n",
      "[[-3, -6], [1, -7, -3], [4, -2, 6], [3, -2, 7], [-7, 5, 3], [-2, 6], [1, -4]]\n",
      "[[3, 2], [5, -2], [1, -2], [-4, -5], [7, -6, -4]]\n",
      "[[6, -7, 5], [-3, -5], [1, 5], [2, -7], [4, 3], [4, -2, -5], [7, -6, 1], [2, -6]]\n",
      "[[-5, 2, -7], [4, 6, -7], [-1, -3, 6], [4, 5, -6], [2, 6]]\n",
      "[[-6, 1], [-5, 7, -6], [-3, -7], [-2, -5], [7, 4, 1], [-2, 1]]\n",
      "[[-7, -5], [3, -1, 5], [2, 7], [-6, -7], [4, -3], [-7, 3]]\n",
      "[[-3, -1, -2], [7, 5, -3], [-6, -1], [-4, -7], [2, -3]]\n",
      "(0.46, 0.1, 0.44)\n",
      "[[-5, 3, 6], [-2, 3], [1, -5], [7, 2], [4, -1]]\n"
     ]
    },
    {
     "name": "stdout",
     "output_type": "stream",
     "text": [
      "[[-4, 2, 7], [-1, 2], [6, 1], [5, -7], [-3, -5], [2, -3], [4, -5]]\n",
      "[[3, -4, 7], [6, -3], [2, -1, -3], [5, -7], [-6, -2]]\n",
      "[[-5, 6, 7], [4, 6], [3, -4], [2, -5], [1, -7], [-1, 4, 5], [6, 5, 1]]\n",
      "[[-6, -2, 4], [-1, 6], [3, -7, 2], [5, 7], [-2, -5], [-4, 1]]\n",
      "[[7, 5], [-1, -4, 7], [3, -2, 5], [-4, -6, -3], [-5, -1, -4], [-1, -3]]\n",
      "[[-5, -6], [1, -7, 6], [-2, 4, 6], [-3, 6], [-3, 7], [-4, 2, 6], [-6, -1, -7]]\n",
      "[[7, 1], [6, -5, 7], [2, -3, 5], [-4, -1, 6], [3, 6, 7], [-6, -4]]\n",
      "[[4, -1, -5], [-3, -1], [6, -1], [-7, -5], [-1, -6, 3], [-2, -7], [-1, -7, 2]]\n",
      "[[-5, -2, -6], [-4, -1, -5], [-7, 4], [3, 7, 6], [7, 2, -4], [5, -1], [-3, -4]]\n",
      "[[5, -2, -7], [-3, 4, 2], [6, -1, 4], [3, 2], [4, 6]]\n",
      "[[6, -5, -3], [4, 2, -5], [-7, -1, -5], [5, 1, 6], [-1, -2, 3]]\n",
      "[[3, 4], [-1, 7, 3], [-5, -1], [-6, -2, -1], [-4, 7]]\n",
      "[[-1, 3, 4], [6, -2, -1], [7, 4], [7, 1, 6], [-5, 4], [2, 1], [-5, 3, -1]]\n",
      "[[4, 2, -6], [3, -1, 4], [-5, -3], [1, -7, 3], [1, -2], [-7, -6], [7, 3]]\n",
      "[[-1, -2, -5], [7, 6, -2], [-3, 1], [-6, -3, 5], [-4, 3], [4, -6]]\n",
      "[[-6, 4], [-3, 7, 4], [5, -6], [-2, -1, 5], [-1, -4, 3], [7, 4], [3, -4], [6, 3]]\n",
      "[[-1, 7], [-6, -5, 1], [-3, -4, -6], [2, 4], [-5, -1, -3]]\n",
      "[[1, 7, -3], [-4, -6, -3], [-2, 3], [5, -2], [4, -5, 1], [4, 1, -5]]\n",
      "[[5, -7], [-3, 6, -5], [-2, -6], [4, 1, 3], [-6, 3, 7], [3, -7, 1]]\n",
      "[[-6, -1, -4], [5, 7, 6], [-3, 2, 6], [-7, 1], [1, -5, -6], [-6, -4, -5], [5, -3]]\n",
      "[[2, -3], [4, 3], [-6, 7, 2], [-5, -3], [2, -6, 3], [-1, 4, -5], [-4, 7]]\n",
      "[[1, -7], [-6, -2, -1], [3, 4, -6], [6, 7, -2], [-2, 5, 1], [-1, 7]]\n",
      "[[-3, -6], [1, -7, -3], [4, -2, 6], [3, -2, 7], [-7, 5, 3], [-2, 6], [1, -4]]\n",
      "[[3, 2], [5, -2], [1, -2], [-4, -5], [7, -6, -4]]\n",
      "[[6, -7, 5], [-3, -5], [1, 5], [2, -7], [4, 3], [4, -2, -5], [7, -6, 1], [2, -6]]\n",
      "[[-5, 2, -7], [4, 6, -7], [-1, -3, 6], [4, 5, -6], [2, 6]]\n",
      "[[-6, 1], [-5, 7, -6], [-3, -7], [-2, -5], [7, 4, 1], [-2, 1]]\n",
      "[[-7, -5], [3, -1, 5], [2, 7], [-6, -7], [4, -3], [-7, 3]]\n",
      "[[-3, -1, -2], [7, 5, -3], [-6, -1], [-4, -7], [2, -3]]\n"
     ]
    }
   ],
   "source": [
    "# extreme case 2\n",
    "# individual group for every initial commitment\n",
    "\n",
    "result_df1 = pd.DataFrame()\n",
    "\n",
    "\n",
    "for configuration in ex_fp_df[\"configuration\"].unique():\n",
    "    \n",
    "    print(configuration)\n",
    "    \n",
    "    # loop over dialectical structures\n",
    "    for ds in ex_fp_df[\"ds\"].unique():\n",
    "        \n",
    "        print(ds)\n",
    "        \n",
    "            \n",
    "        # restrict exploded fixed point df to configuration and dialectical structure\n",
    "        sub_ex_fp_df = ex_fp_df[(ex_fp_df[\"configuration\"]==configuration) & (ex_fp_df[\"ds\"]==ds)]\n",
    "        \n",
    "        # loop over initial commitments\n",
    "        for init_coms in [pos for pos in sub_ex_fp_df[\"init_coms\"].unique()]:\n",
    "            \n",
    "            row = dict()\n",
    "            \n",
    "            row[\"configuration\"] = configuration\n",
    "            row[\"ds\"] = ds\n",
    "            row[\"n_fp\"] = 0\n",
    "            row[\"init_coms\"] = init_coms\n",
    "        \n",
    "            # sentence dict\n",
    "            d = dict()\n",
    "            for i in range(1,8):\n",
    "                d[i] = 0\n",
    "                d[-i] = 0\n",
    "\n",
    "\n",
    "            # every (nontrivial, full RE) fixed point reachable from specific init coms\n",
    "            for fp in sub_ex_fp_df[sub_ex_fp_df[\"init_coms\"]==init_coms][\"fp_coms\"].unique():\n",
    "\n",
    "                row[\"n_fp\"] += 1\n",
    "\n",
    "                for s in fp:\n",
    "                    d[s] +=1  \n",
    "\n",
    "\n",
    "            row[\"anything_goes\"] = all(d.values())\n",
    "\n",
    "            result_df1 = result_df1.append(row, ignore_index=True)"
   ]
  },
  {
   "cell_type": "code",
   "execution_count": 85,
   "id": "88c0a38a",
   "metadata": {},
   "outputs": [
    {
     "name": "stdout",
     "output_type": "stream",
     "text": [
      "\\begin{tabular}{lr}\n",
      "\\toprule\n",
      "{} &  anything\\_goes \\\\\n",
      "configuration     &                \\\\\n",
      "\\midrule\n",
      "(0.35, 0.55, 0.1) &        0.00000 \\\\\n",
      "(0.46, 0.1, 0.44) &        0.00002 \\\\\n",
      "(0.55, 0.2, 0.25) &        0.00006 \\\\\n",
      "(0.55, 0.35, 0.1) &        0.00026 \\\\\n",
      "(0.7, 0.2, 0.1)   &        0.00043 \\\\\n",
      "\\bottomrule\n",
      "\\end{tabular}\n",
      "\n"
     ]
    }
   ],
   "source": [
    "print(result_df1.groupby(\"configuration\")[\"anything_goes\"].mean().to_latex(float_format=\"%.5f\"))"
   ]
  },
  {
   "cell_type": "code",
   "execution_count": 97,
   "id": "f6f9ca2e",
   "metadata": {},
   "outputs": [
    {
     "data": {
      "text/plain": [
       "configuration\n",
       "(0.35, 0.55, 0.1)    0.0\n",
       "(0.46, 0.1, 0.44)    1.0\n",
       "(0.55, 0.2, 0.25)    2.0\n",
       "(0.55, 0.35, 0.1)    8.0\n",
       "(0.7, 0.2, 0.1)      9.0\n",
       "Name: anything_goes, dtype: float64"
      ]
     },
     "execution_count": 97,
     "metadata": {},
     "output_type": "execute_result"
    }
   ],
   "source": [
    "result_df1.groupby(\"configuration\")[\"anything_goes\"].sum()"
   ]
  },
  {
   "cell_type": "code",
   "execution_count": 79,
   "id": "cfaaf715",
   "metadata": {},
   "outputs": [
    {
     "data": {
      "text/plain": [
       "configuration\n",
       "(0.35, 0.55, 0.1)    29275\n",
       "(0.46, 0.1, 0.44)    45998\n",
       "(0.55, 0.2, 0.25)    32057\n",
       "(0.55, 0.35, 0.1)    30876\n",
       "(0.7, 0.2, 0.1)      21143\n",
       "Name: anything_goes, dtype: int64"
      ]
     },
     "execution_count": 79,
     "metadata": {},
     "output_type": "execute_result"
    }
   ],
   "source": [
    "result_df1.groupby(\"configuration\")[\"anything_goes\"].size()"
   ]
  },
  {
   "cell_type": "code",
   "execution_count": 100,
   "id": "2bfa882b",
   "metadata": {},
   "outputs": [
    {
     "data": {
      "text/plain": [
       "array(['[[-4, 2, 7], [-1, 2], [6, 1], [5, -7], [-3, -5], [2, -3], [4, -5]]',\n",
       "       '[[6, -7, 5], [-3, -5], [1, 5], [2, -7], [4, 3], [4, -2, -5], [7, -6, 1], [2, -6]]'],\n",
       "      dtype=object)"
      ]
     },
     "execution_count": 100,
     "metadata": {},
     "output_type": "execute_result"
    }
   ],
   "source": [
    "result_df1[(result_df1[\"configuration\"] == (0.55, 0.35, 0.10)) & (result_df1[\"anything_goes\"])][\"ds\"].unique()"
   ]
  },
  {
   "cell_type": "code",
   "execution_count": 80,
   "id": "04cc8a2c",
   "metadata": {},
   "outputs": [],
   "source": [
    "result_df1.to_csv(\"data/result_df1.csv\")"
   ]
  },
  {
   "cell_type": "code",
   "execution_count": 59,
   "id": "1fd55474",
   "metadata": {
    "scrolled": true
   },
   "outputs": [
    {
     "name": "stdout",
     "output_type": "stream",
     "text": [
      "(0.35, 0.55, 0.1)\n",
      "0\n",
      "1346\n",
      "1\n",
      "1474\n",
      "2\n",
      "1190\n",
      "3\n",
      "1411\n",
      "4\n",
      "982\n",
      "5\n",
      "956\n",
      "6\n",
      "1040\n",
      "7\n",
      "1169\n",
      "8\n",
      "1573\n",
      "9\n",
      "1426\n",
      "10\n",
      "952\n",
      "11\n",
      "1073\n",
      "12\n",
      "1169\n",
      "13\n",
      "1017\n",
      "14\n",
      "1389\n",
      "15\n",
      "1200\n",
      "16\n",
      "2337\n",
      "17\n",
      "1143\n",
      "18\n",
      "1411\n",
      "19\n",
      "1381\n",
      "20\n",
      "1377\n",
      "21\n",
      "1922\n",
      "22\n",
      "1099\n",
      "23\n",
      "1291\n",
      "24\n",
      "1126\n",
      "25\n",
      "2226\n",
      "26\n",
      "1008\n",
      "27\n",
      "1325\n",
      "28\n",
      "1743\n",
      "29\n",
      "1016\n",
      "(0.55, 0.35, 0.1)\n",
      "0\n",
      "1190\n",
      "1\n",
      "1208\n",
      "2\n",
      "1626\n",
      "3\n",
      "1485\n",
      "4\n",
      "825\n",
      "5\n",
      "949\n",
      "6\n",
      "1229\n",
      "7\n",
      "1168\n",
      "8\n",
      "1272\n",
      "9\n",
      "2011\n",
      "10\n",
      "848\n",
      "11\n",
      "1071\n",
      "12\n",
      "1275\n",
      "13\n",
      "1004\n",
      "14\n",
      "1455\n",
      "15\n",
      "1179\n",
      "16\n",
      "2810\n",
      "17\n",
      "972\n",
      "18\n",
      "1290\n",
      "19\n",
      "1556\n",
      "20\n",
      "1231\n",
      "21\n",
      "1315\n",
      "22\n",
      "1339\n",
      "23\n",
      "1297\n",
      "24\n",
      "1441\n",
      "25\n",
      "2278\n",
      "26\n",
      "1245\n",
      "27\n",
      "1314\n",
      "28\n",
      "1477\n",
      "29\n",
      "1196\n",
      "(0.7, 0.2, 0.1)\n",
      "0\n",
      "671\n",
      "1\n",
      "1114\n",
      "2\n",
      "494\n",
      "3\n",
      "899\n",
      "4\n",
      "600\n",
      "5\n",
      "585\n",
      "6\n",
      "1432\n",
      "7\n",
      "676\n",
      "8\n",
      "1257\n",
      "9\n",
      "1236\n",
      "10\n",
      "1237\n",
      "11\n",
      "1418\n",
      "12\n",
      "824\n",
      "13\n",
      "672\n",
      "14\n",
      "1169\n",
      "15\n",
      "626\n",
      "16\n",
      "2298\n",
      "17\n",
      "758\n",
      "18\n",
      "734\n",
      "19\n",
      "857\n",
      "20\n",
      "690\n",
      "21\n",
      "1382\n",
      "22\n",
      "1378\n",
      "23\n",
      "736\n",
      "24\n",
      "631\n",
      "25\n",
      "2007\n",
      "26\n",
      "841\n",
      "27\n",
      "604\n",
      "28\n",
      "718\n",
      "29\n",
      "611\n",
      "(0.55, 0.2, 0.25)\n",
      "0\n",
      "832\n",
      "1\n",
      "1280\n",
      "2\n",
      "1032\n",
      "3\n",
      "1307\n",
      "4\n",
      "1508\n",
      "5\n",
      "1032\n",
      "6\n",
      "3306\n",
      "7\n",
      "1329\n",
      "8\n",
      "1300\n",
      "9\n",
      "2221\n",
      "10\n",
      "1011\n",
      "11\n",
      "1421\n",
      "12\n",
      "1121\n",
      "13\n",
      "1837\n",
      "14\n",
      "1299\n",
      "15\n",
      "1200\n",
      "16\n",
      "2849\n",
      "17\n",
      "1119\n",
      "18\n",
      "1546\n",
      "19\n",
      "1779\n",
      "20\n",
      "1046\n",
      "21\n",
      "1308\n",
      "22\n",
      "2094\n",
      "23\n",
      "1129\n",
      "24\n",
      "1524\n",
      "25\n",
      "1805\n",
      "26\n",
      "943\n",
      "27\n",
      "1009\n",
      "28\n",
      "1150\n",
      "29\n",
      "1279\n",
      "(0.46, 0.1, 0.44)\n",
      "0\n",
      "1428\n",
      "1\n",
      "1308\n",
      "2\n",
      "1822\n",
      "3\n",
      "2106\n",
      "4\n",
      "2131\n",
      "5\n",
      "2032\n",
      "6\n",
      "4450\n",
      "7\n",
      "1833\n",
      "8\n",
      "1494\n",
      "9\n",
      "3438\n",
      "10\n",
      "1687\n",
      "11\n",
      "1834\n",
      "12\n",
      "1665\n",
      "13\n",
      "2395\n",
      "14\n",
      "1718\n",
      "15\n",
      "1650\n",
      "16\n",
      "2606\n",
      "17\n",
      "1487\n",
      "18\n",
      "2735\n",
      "19\n",
      "2424\n",
      "20\n",
      "2261\n",
      "21\n",
      "1536\n",
      "22\n",
      "2823\n",
      "23\n",
      "1798\n",
      "24\n",
      "2006\n",
      "25\n",
      "2032\n",
      "26\n",
      "2197\n",
      "27\n",
      "1678\n",
      "28\n",
      "1549\n",
      "29\n",
      "1841\n"
     ]
    }
   ],
   "source": [
    "# middleground\n",
    "# groups of agreeing initial commitments\n",
    "\n",
    "result_df = pd.DataFrame(columns=[\"configuration\", \"ds\", \n",
    "                                  \"shared_init_coms\", \"len_shared_init_coms\", \n",
    "                                  \"anything_goes\", \"n_unique_sentences\", \"n_fp\", \"n_conflicts\", \"init_coms_group_size\"])\n",
    "\n",
    "for configuration in ex_fp_df[\"configuration\"].unique():\n",
    "    \n",
    "    print(configuration)\n",
    "    loop=0\n",
    "    \n",
    "    # loop over dialectical structures\n",
    "    for ds in ex_fp_df[\"ds\"].unique():\n",
    "        \n",
    "        print(loop)\n",
    "        loop+=1\n",
    "        \n",
    "        # restrict exploded fixed point df to configuration and dialectical structure\n",
    "        sub_ex_fp_df = ex_fp_df[(ex_fp_df[\"configuration\"]==configuration) & (ex_fp_df[\"ds\"]==ds)]\n",
    "        \n",
    "        print(len(sub_ex_fp_df))\n",
    "\n",
    "        # loop over initial commitments + empty position\n",
    "        for init_coms in [pos for pos in sub_ex_fp_df[\"init_coms\"].unique()] + [()]:\n",
    "        \n",
    "            row = dict()\n",
    "            \n",
    "            row[\"configuration\"] = configuration\n",
    "            row[\"ds\"] = ds\n",
    "            row[\"shared_init_coms\"] = init_coms\n",
    "            row[\"len_shared_init_coms\"] = len(init_coms)\n",
    "            row[\"n_fp\"] = 0\n",
    "            \n",
    "            \n",
    "\n",
    "            def contains_shared_init_coms(pos):\n",
    "                return all(sentence in pos for sentence in init_coms)\n",
    "            \n",
    "            \n",
    "            row[\"init_coms_group_size\"] = sub_ex_fp_df[sub_ex_fp_df[\"init_coms\"].map(contains_shared_init_coms)][\"init_coms\"].nunique()\n",
    "\n",
    "            # fixed points\n",
    "            d = dict()\n",
    "            for i in range(1,8):\n",
    "                d[i] = 0\n",
    "                d[-i] = 0\n",
    "                \n",
    "\n",
    "            # every (nontrivial, full RE) fixed point that is reachable from shared commitments\n",
    "            for fp in sub_ex_fp_df[sub_ex_fp_df[\"init_coms\"].map(contains_shared_init_coms)][\"fp_coms\"].unique():\n",
    "                \n",
    "                row[\"n_fp\"] += 1\n",
    "                \n",
    "                for s in fp:\n",
    "                    d[s] +=1  \n",
    "            \n",
    "            row[\"n_unique_sentences\"] = sum(1 for v in d.values() if v)\n",
    "            row[\"n_conflicts\"] = sum(1 for i in range(1,8) if (d[i] and d[-i]))\n",
    "            row[\"anything_goes\"] = all(d.values())\n",
    "\n",
    "            result_df = result_df.append(row, ignore_index=True)"
   ]
  },
  {
   "cell_type": "code",
   "execution_count": 60,
   "id": "eb611cc3",
   "metadata": {},
   "outputs": [
    {
     "data": {
      "text/plain": [
       "configuration      ds                                                                       len_shared_init_coms\n",
       "(0.35, 0.55, 0.1)  [[-1, -2, -5], [7, 6, -2], [-3, 1], [-6, -3, 5], [-4, 3], [4, -6]]       0                       1.000000\n",
       "                                                                                            1                       0.692308\n",
       "                                                                                            2                       0.226190\n",
       "                                                                                            3                       0.000000\n",
       "                                                                                            4                       0.000000\n",
       "                                                                                                                      ...   \n",
       "(0.7, 0.2, 0.1)    [[7, 5], [-1, -4, 7], [3, -2, 5], [-4, -6, -3], [-5, -1, -4], [-1, -3]]  3                       0.243243\n",
       "                                                                                            4                       0.152174\n",
       "                                                                                            5                       0.030769\n",
       "                                                                                            6                       0.000000\n",
       "                                                                                            7                       0.000000\n",
       "Name: anything_goes, Length: 1192, dtype: float64"
      ]
     },
     "execution_count": 60,
     "metadata": {},
     "output_type": "execute_result"
    }
   ],
   "source": [
    "result_df.groupby([\"configuration\",\"ds\", \"len_shared_init_coms\"])[\"anything_goes\"].mean() # sum()/result_df.groupby(\"ds\")[\"anything_goes\"].size()"
   ]
  },
  {
   "cell_type": "code",
   "execution_count": 61,
   "id": "369d384f",
   "metadata": {},
   "outputs": [
    {
     "data": {
      "text/html": [
       "<div>\n",
       "<style scoped>\n",
       "    .dataframe tbody tr th:only-of-type {\n",
       "        vertical-align: middle;\n",
       "    }\n",
       "\n",
       "    .dataframe tbody tr th {\n",
       "        vertical-align: top;\n",
       "    }\n",
       "\n",
       "    .dataframe thead th {\n",
       "        text-align: right;\n",
       "    }\n",
       "</style>\n",
       "<table border=\"1\" class=\"dataframe\">\n",
       "  <thead>\n",
       "    <tr style=\"text-align: right;\">\n",
       "      <th></th>\n",
       "      <th>configuration</th>\n",
       "      <th>len_shared_init_coms</th>\n",
       "      <th>shared_init_coms</th>\n",
       "    </tr>\n",
       "  </thead>\n",
       "  <tbody>\n",
       "    <tr>\n",
       "      <th>0</th>\n",
       "      <td>(0.35, 0.55, 0.1)</td>\n",
       "      <td>0</td>\n",
       "      <td>1.0</td>\n",
       "    </tr>\n",
       "    <tr>\n",
       "      <th>1</th>\n",
       "      <td>(0.35, 0.55, 0.1)</td>\n",
       "      <td>1</td>\n",
       "      <td>14.0</td>\n",
       "    </tr>\n",
       "    <tr>\n",
       "      <th>2</th>\n",
       "      <td>(0.35, 0.55, 0.1)</td>\n",
       "      <td>2</td>\n",
       "      <td>84.0</td>\n",
       "    </tr>\n",
       "    <tr>\n",
       "      <th>3</th>\n",
       "      <td>(0.35, 0.55, 0.1)</td>\n",
       "      <td>3</td>\n",
       "      <td>256.5</td>\n",
       "    </tr>\n",
       "    <tr>\n",
       "      <th>4</th>\n",
       "      <td>(0.35, 0.55, 0.1)</td>\n",
       "      <td>4</td>\n",
       "      <td>279.0</td>\n",
       "    </tr>\n",
       "    <tr>\n",
       "      <th>5</th>\n",
       "      <td>(0.35, 0.55, 0.1)</td>\n",
       "      <td>5</td>\n",
       "      <td>178.0</td>\n",
       "    </tr>\n",
       "    <tr>\n",
       "      <th>6</th>\n",
       "      <td>(0.35, 0.55, 0.1)</td>\n",
       "      <td>6</td>\n",
       "      <td>150.0</td>\n",
       "    </tr>\n",
       "    <tr>\n",
       "      <th>7</th>\n",
       "      <td>(0.35, 0.55, 0.1)</td>\n",
       "      <td>7</td>\n",
       "      <td>38.0</td>\n",
       "    </tr>\n",
       "    <tr>\n",
       "      <th>8</th>\n",
       "      <td>(0.46, 0.1, 0.44)</td>\n",
       "      <td>0</td>\n",
       "      <td>1.0</td>\n",
       "    </tr>\n",
       "    <tr>\n",
       "      <th>9</th>\n",
       "      <td>(0.46, 0.1, 0.44)</td>\n",
       "      <td>1</td>\n",
       "      <td>14.0</td>\n",
       "    </tr>\n",
       "    <tr>\n",
       "      <th>10</th>\n",
       "      <td>(0.46, 0.1, 0.44)</td>\n",
       "      <td>2</td>\n",
       "      <td>27.5</td>\n",
       "    </tr>\n",
       "    <tr>\n",
       "      <th>11</th>\n",
       "      <td>(0.46, 0.1, 0.44)</td>\n",
       "      <td>3</td>\n",
       "      <td>211.0</td>\n",
       "    </tr>\n",
       "    <tr>\n",
       "      <th>12</th>\n",
       "      <td>(0.46, 0.1, 0.44)</td>\n",
       "      <td>4</td>\n",
       "      <td>453.0</td>\n",
       "    </tr>\n",
       "    <tr>\n",
       "      <th>13</th>\n",
       "      <td>(0.46, 0.1, 0.44)</td>\n",
       "      <td>5</td>\n",
       "      <td>506.0</td>\n",
       "    </tr>\n",
       "    <tr>\n",
       "      <th>14</th>\n",
       "      <td>(0.46, 0.1, 0.44)</td>\n",
       "      <td>6</td>\n",
       "      <td>292.5</td>\n",
       "    </tr>\n",
       "    <tr>\n",
       "      <th>15</th>\n",
       "      <td>(0.46, 0.1, 0.44)</td>\n",
       "      <td>7</td>\n",
       "      <td>64.0</td>\n",
       "    </tr>\n",
       "    <tr>\n",
       "      <th>16</th>\n",
       "      <td>(0.55, 0.2, 0.25)</td>\n",
       "      <td>0</td>\n",
       "      <td>1.0</td>\n",
       "    </tr>\n",
       "    <tr>\n",
       "      <th>17</th>\n",
       "      <td>(0.55, 0.2, 0.25)</td>\n",
       "      <td>1</td>\n",
       "      <td>14.0</td>\n",
       "    </tr>\n",
       "    <tr>\n",
       "      <th>18</th>\n",
       "      <td>(0.55, 0.2, 0.25)</td>\n",
       "      <td>2</td>\n",
       "      <td>69.5</td>\n",
       "    </tr>\n",
       "    <tr>\n",
       "      <th>19</th>\n",
       "      <td>(0.55, 0.2, 0.25)</td>\n",
       "      <td>3</td>\n",
       "      <td>129.5</td>\n",
       "    </tr>\n",
       "    <tr>\n",
       "      <th>20</th>\n",
       "      <td>(0.55, 0.2, 0.25)</td>\n",
       "      <td>4</td>\n",
       "      <td>301.5</td>\n",
       "    </tr>\n",
       "    <tr>\n",
       "      <th>21</th>\n",
       "      <td>(0.55, 0.2, 0.25)</td>\n",
       "      <td>5</td>\n",
       "      <td>350.0</td>\n",
       "    </tr>\n",
       "    <tr>\n",
       "      <th>22</th>\n",
       "      <td>(0.55, 0.2, 0.25)</td>\n",
       "      <td>6</td>\n",
       "      <td>192.0</td>\n",
       "    </tr>\n",
       "    <tr>\n",
       "      <th>23</th>\n",
       "      <td>(0.55, 0.2, 0.25)</td>\n",
       "      <td>7</td>\n",
       "      <td>39.0</td>\n",
       "    </tr>\n",
       "    <tr>\n",
       "      <th>24</th>\n",
       "      <td>(0.55, 0.35, 0.1)</td>\n",
       "      <td>0</td>\n",
       "      <td>1.0</td>\n",
       "    </tr>\n",
       "    <tr>\n",
       "      <th>25</th>\n",
       "      <td>(0.55, 0.35, 0.1)</td>\n",
       "      <td>1</td>\n",
       "      <td>14.0</td>\n",
       "    </tr>\n",
       "    <tr>\n",
       "      <th>26</th>\n",
       "      <td>(0.55, 0.35, 0.1)</td>\n",
       "      <td>2</td>\n",
       "      <td>84.0</td>\n",
       "    </tr>\n",
       "    <tr>\n",
       "      <th>27</th>\n",
       "      <td>(0.55, 0.35, 0.1)</td>\n",
       "      <td>3</td>\n",
       "      <td>148.5</td>\n",
       "    </tr>\n",
       "    <tr>\n",
       "      <th>28</th>\n",
       "      <td>(0.55, 0.35, 0.1)</td>\n",
       "      <td>4</td>\n",
       "      <td>185.5</td>\n",
       "    </tr>\n",
       "    <tr>\n",
       "      <th>29</th>\n",
       "      <td>(0.55, 0.35, 0.1)</td>\n",
       "      <td>5</td>\n",
       "      <td>286.0</td>\n",
       "    </tr>\n",
       "    <tr>\n",
       "      <th>30</th>\n",
       "      <td>(0.55, 0.35, 0.1)</td>\n",
       "      <td>6</td>\n",
       "      <td>234.0</td>\n",
       "    </tr>\n",
       "    <tr>\n",
       "      <th>31</th>\n",
       "      <td>(0.55, 0.35, 0.1)</td>\n",
       "      <td>7</td>\n",
       "      <td>78.0</td>\n",
       "    </tr>\n",
       "    <tr>\n",
       "      <th>32</th>\n",
       "      <td>(0.7, 0.2, 0.1)</td>\n",
       "      <td>0</td>\n",
       "      <td>1.0</td>\n",
       "    </tr>\n",
       "    <tr>\n",
       "      <th>33</th>\n",
       "      <td>(0.7, 0.2, 0.1)</td>\n",
       "      <td>1</td>\n",
       "      <td>14.0</td>\n",
       "    </tr>\n",
       "    <tr>\n",
       "      <th>34</th>\n",
       "      <td>(0.7, 0.2, 0.1)</td>\n",
       "      <td>2</td>\n",
       "      <td>77.5</td>\n",
       "    </tr>\n",
       "    <tr>\n",
       "      <th>35</th>\n",
       "      <td>(0.7, 0.2, 0.1)</td>\n",
       "      <td>3</td>\n",
       "      <td>59.0</td>\n",
       "    </tr>\n",
       "    <tr>\n",
       "      <th>36</th>\n",
       "      <td>(0.7, 0.2, 0.1)</td>\n",
       "      <td>4</td>\n",
       "      <td>136.0</td>\n",
       "    </tr>\n",
       "    <tr>\n",
       "      <th>37</th>\n",
       "      <td>(0.7, 0.2, 0.1)</td>\n",
       "      <td>5</td>\n",
       "      <td>162.5</td>\n",
       "    </tr>\n",
       "    <tr>\n",
       "      <th>38</th>\n",
       "      <td>(0.7, 0.2, 0.1)</td>\n",
       "      <td>6</td>\n",
       "      <td>125.5</td>\n",
       "    </tr>\n",
       "    <tr>\n",
       "      <th>39</th>\n",
       "      <td>(0.7, 0.2, 0.1)</td>\n",
       "      <td>7</td>\n",
       "      <td>54.0</td>\n",
       "    </tr>\n",
       "  </tbody>\n",
       "</table>\n",
       "</div>"
      ],
      "text/plain": [
       "        configuration  len_shared_init_coms  shared_init_coms\n",
       "0   (0.35, 0.55, 0.1)                     0               1.0\n",
       "1   (0.35, 0.55, 0.1)                     1              14.0\n",
       "2   (0.35, 0.55, 0.1)                     2              84.0\n",
       "3   (0.35, 0.55, 0.1)                     3             256.5\n",
       "4   (0.35, 0.55, 0.1)                     4             279.0\n",
       "5   (0.35, 0.55, 0.1)                     5             178.0\n",
       "6   (0.35, 0.55, 0.1)                     6             150.0\n",
       "7   (0.35, 0.55, 0.1)                     7              38.0\n",
       "8   (0.46, 0.1, 0.44)                     0               1.0\n",
       "9   (0.46, 0.1, 0.44)                     1              14.0\n",
       "10  (0.46, 0.1, 0.44)                     2              27.5\n",
       "11  (0.46, 0.1, 0.44)                     3             211.0\n",
       "12  (0.46, 0.1, 0.44)                     4             453.0\n",
       "13  (0.46, 0.1, 0.44)                     5             506.0\n",
       "14  (0.46, 0.1, 0.44)                     6             292.5\n",
       "15  (0.46, 0.1, 0.44)                     7              64.0\n",
       "16  (0.55, 0.2, 0.25)                     0               1.0\n",
       "17  (0.55, 0.2, 0.25)                     1              14.0\n",
       "18  (0.55, 0.2, 0.25)                     2              69.5\n",
       "19  (0.55, 0.2, 0.25)                     3             129.5\n",
       "20  (0.55, 0.2, 0.25)                     4             301.5\n",
       "21  (0.55, 0.2, 0.25)                     5             350.0\n",
       "22  (0.55, 0.2, 0.25)                     6             192.0\n",
       "23  (0.55, 0.2, 0.25)                     7              39.0\n",
       "24  (0.55, 0.35, 0.1)                     0               1.0\n",
       "25  (0.55, 0.35, 0.1)                     1              14.0\n",
       "26  (0.55, 0.35, 0.1)                     2              84.0\n",
       "27  (0.55, 0.35, 0.1)                     3             148.5\n",
       "28  (0.55, 0.35, 0.1)                     4             185.5\n",
       "29  (0.55, 0.35, 0.1)                     5             286.0\n",
       "30  (0.55, 0.35, 0.1)                     6             234.0\n",
       "31  (0.55, 0.35, 0.1)                     7              78.0\n",
       "32    (0.7, 0.2, 0.1)                     0               1.0\n",
       "33    (0.7, 0.2, 0.1)                     1              14.0\n",
       "34    (0.7, 0.2, 0.1)                     2              77.5\n",
       "35    (0.7, 0.2, 0.1)                     3              59.0\n",
       "36    (0.7, 0.2, 0.1)                     4             136.0\n",
       "37    (0.7, 0.2, 0.1)                     5             162.5\n",
       "38    (0.7, 0.2, 0.1)                     6             125.5\n",
       "39    (0.7, 0.2, 0.1)                     7              54.0"
      ]
     },
     "execution_count": 61,
     "metadata": {},
     "output_type": "execute_result"
    }
   ],
   "source": [
    "# number of shared init coms per group\n",
    "result_df.groupby([\"configuration\", \"ds\", \"len_shared_init_coms\"])[\"shared_init_coms\"].nunique().reset_index().groupby([\"configuration\", \"len_shared_init_coms\"])[\"shared_init_coms\"].median().reset_index()"
   ]
  },
  {
   "cell_type": "code",
   "execution_count": 62,
   "id": "c92e0beb",
   "metadata": {
    "scrolled": true
   },
   "outputs": [
    {
     "data": {
      "text/html": [
       "<div>\n",
       "<style scoped>\n",
       "    .dataframe tbody tr th:only-of-type {\n",
       "        vertical-align: middle;\n",
       "    }\n",
       "\n",
       "    .dataframe tbody tr th {\n",
       "        vertical-align: top;\n",
       "    }\n",
       "\n",
       "    .dataframe thead th {\n",
       "        text-align: right;\n",
       "    }\n",
       "</style>\n",
       "<table border=\"1\" class=\"dataframe\">\n",
       "  <thead>\n",
       "    <tr style=\"text-align: right;\">\n",
       "      <th></th>\n",
       "      <th>configuration</th>\n",
       "      <th>len_shared_init_coms</th>\n",
       "      <th>init_coms_group_size</th>\n",
       "    </tr>\n",
       "  </thead>\n",
       "  <tbody>\n",
       "    <tr>\n",
       "      <th>0</th>\n",
       "      <td>(0.35, 0.55, 0.1)</td>\n",
       "      <td>0</td>\n",
       "      <td>979.0</td>\n",
       "    </tr>\n",
       "    <tr>\n",
       "      <th>1</th>\n",
       "      <td>(0.35, 0.55, 0.1)</td>\n",
       "      <td>1</td>\n",
       "      <td>258.0</td>\n",
       "    </tr>\n",
       "    <tr>\n",
       "      <th>2</th>\n",
       "      <td>(0.35, 0.55, 0.1)</td>\n",
       "      <td>2</td>\n",
       "      <td>75.0</td>\n",
       "    </tr>\n",
       "    <tr>\n",
       "      <th>3</th>\n",
       "      <td>(0.35, 0.55, 0.1)</td>\n",
       "      <td>3</td>\n",
       "      <td>20.0</td>\n",
       "    </tr>\n",
       "    <tr>\n",
       "      <th>4</th>\n",
       "      <td>(0.35, 0.55, 0.1)</td>\n",
       "      <td>4</td>\n",
       "      <td>9.0</td>\n",
       "    </tr>\n",
       "    <tr>\n",
       "      <th>5</th>\n",
       "      <td>(0.35, 0.55, 0.1)</td>\n",
       "      <td>5</td>\n",
       "      <td>4.0</td>\n",
       "    </tr>\n",
       "    <tr>\n",
       "      <th>6</th>\n",
       "      <td>(0.35, 0.55, 0.1)</td>\n",
       "      <td>6</td>\n",
       "      <td>2.0</td>\n",
       "    </tr>\n",
       "    <tr>\n",
       "      <th>7</th>\n",
       "      <td>(0.35, 0.55, 0.1)</td>\n",
       "      <td>7</td>\n",
       "      <td>1.0</td>\n",
       "    </tr>\n",
       "    <tr>\n",
       "      <th>8</th>\n",
       "      <td>(0.46, 0.1, 0.44)</td>\n",
       "      <td>0</td>\n",
       "      <td>1561.0</td>\n",
       "    </tr>\n",
       "    <tr>\n",
       "      <th>9</th>\n",
       "      <td>(0.46, 0.1, 0.44)</td>\n",
       "      <td>1</td>\n",
       "      <td>517.0</td>\n",
       "    </tr>\n",
       "    <tr>\n",
       "      <th>10</th>\n",
       "      <td>(0.46, 0.1, 0.44)</td>\n",
       "      <td>2</td>\n",
       "      <td>161.0</td>\n",
       "    </tr>\n",
       "    <tr>\n",
       "      <th>11</th>\n",
       "      <td>(0.46, 0.1, 0.44)</td>\n",
       "      <td>3</td>\n",
       "      <td>58.0</td>\n",
       "    </tr>\n",
       "    <tr>\n",
       "      <th>12</th>\n",
       "      <td>(0.46, 0.1, 0.44)</td>\n",
       "      <td>4</td>\n",
       "      <td>20.0</td>\n",
       "    </tr>\n",
       "    <tr>\n",
       "      <th>13</th>\n",
       "      <td>(0.46, 0.1, 0.44)</td>\n",
       "      <td>5</td>\n",
       "      <td>6.0</td>\n",
       "    </tr>\n",
       "    <tr>\n",
       "      <th>14</th>\n",
       "      <td>(0.46, 0.1, 0.44)</td>\n",
       "      <td>6</td>\n",
       "      <td>2.0</td>\n",
       "    </tr>\n",
       "    <tr>\n",
       "      <th>15</th>\n",
       "      <td>(0.46, 0.1, 0.44)</td>\n",
       "      <td>7</td>\n",
       "      <td>1.0</td>\n",
       "    </tr>\n",
       "    <tr>\n",
       "      <th>16</th>\n",
       "      <td>(0.55, 0.2, 0.25)</td>\n",
       "      <td>0</td>\n",
       "      <td>1105.5</td>\n",
       "    </tr>\n",
       "    <tr>\n",
       "      <th>17</th>\n",
       "      <td>(0.55, 0.2, 0.25)</td>\n",
       "      <td>1</td>\n",
       "      <td>346.0</td>\n",
       "    </tr>\n",
       "    <tr>\n",
       "      <th>18</th>\n",
       "      <td>(0.55, 0.2, 0.25)</td>\n",
       "      <td>2</td>\n",
       "      <td>108.0</td>\n",
       "    </tr>\n",
       "    <tr>\n",
       "      <th>19</th>\n",
       "      <td>(0.55, 0.2, 0.25)</td>\n",
       "      <td>3</td>\n",
       "      <td>38.0</td>\n",
       "    </tr>\n",
       "    <tr>\n",
       "      <th>20</th>\n",
       "      <td>(0.55, 0.2, 0.25)</td>\n",
       "      <td>4</td>\n",
       "      <td>12.0</td>\n",
       "    </tr>\n",
       "    <tr>\n",
       "      <th>21</th>\n",
       "      <td>(0.55, 0.2, 0.25)</td>\n",
       "      <td>5</td>\n",
       "      <td>4.0</td>\n",
       "    </tr>\n",
       "    <tr>\n",
       "      <th>22</th>\n",
       "      <td>(0.55, 0.2, 0.25)</td>\n",
       "      <td>6</td>\n",
       "      <td>2.0</td>\n",
       "    </tr>\n",
       "    <tr>\n",
       "      <th>23</th>\n",
       "      <td>(0.55, 0.2, 0.25)</td>\n",
       "      <td>7</td>\n",
       "      <td>1.0</td>\n",
       "    </tr>\n",
       "    <tr>\n",
       "      <th>24</th>\n",
       "      <td>(0.55, 0.35, 0.1)</td>\n",
       "      <td>0</td>\n",
       "      <td>1019.0</td>\n",
       "    </tr>\n",
       "    <tr>\n",
       "      <th>25</th>\n",
       "      <td>(0.55, 0.35, 0.1)</td>\n",
       "      <td>1</td>\n",
       "      <td>344.0</td>\n",
       "    </tr>\n",
       "    <tr>\n",
       "      <th>26</th>\n",
       "      <td>(0.55, 0.35, 0.1)</td>\n",
       "      <td>2</td>\n",
       "      <td>115.0</td>\n",
       "    </tr>\n",
       "    <tr>\n",
       "      <th>27</th>\n",
       "      <td>(0.55, 0.35, 0.1)</td>\n",
       "      <td>3</td>\n",
       "      <td>41.0</td>\n",
       "    </tr>\n",
       "    <tr>\n",
       "      <th>28</th>\n",
       "      <td>(0.55, 0.35, 0.1)</td>\n",
       "      <td>4</td>\n",
       "      <td>18.0</td>\n",
       "    </tr>\n",
       "    <tr>\n",
       "      <th>29</th>\n",
       "      <td>(0.55, 0.35, 0.1)</td>\n",
       "      <td>5</td>\n",
       "      <td>7.0</td>\n",
       "    </tr>\n",
       "    <tr>\n",
       "      <th>30</th>\n",
       "      <td>(0.55, 0.35, 0.1)</td>\n",
       "      <td>6</td>\n",
       "      <td>3.0</td>\n",
       "    </tr>\n",
       "    <tr>\n",
       "      <th>31</th>\n",
       "      <td>(0.55, 0.35, 0.1)</td>\n",
       "      <td>7</td>\n",
       "      <td>1.0</td>\n",
       "    </tr>\n",
       "    <tr>\n",
       "      <th>32</th>\n",
       "      <td>(0.7, 0.2, 0.1)</td>\n",
       "      <td>0</td>\n",
       "      <td>609.5</td>\n",
       "    </tr>\n",
       "    <tr>\n",
       "      <th>33</th>\n",
       "      <td>(0.7, 0.2, 0.1)</td>\n",
       "      <td>1</td>\n",
       "      <td>192.0</td>\n",
       "    </tr>\n",
       "    <tr>\n",
       "      <th>34</th>\n",
       "      <td>(0.7, 0.2, 0.1)</td>\n",
       "      <td>2</td>\n",
       "      <td>65.0</td>\n",
       "    </tr>\n",
       "    <tr>\n",
       "      <th>35</th>\n",
       "      <td>(0.7, 0.2, 0.1)</td>\n",
       "      <td>3</td>\n",
       "      <td>31.0</td>\n",
       "    </tr>\n",
       "    <tr>\n",
       "      <th>36</th>\n",
       "      <td>(0.7, 0.2, 0.1)</td>\n",
       "      <td>4</td>\n",
       "      <td>13.0</td>\n",
       "    </tr>\n",
       "    <tr>\n",
       "      <th>37</th>\n",
       "      <td>(0.7, 0.2, 0.1)</td>\n",
       "      <td>5</td>\n",
       "      <td>6.0</td>\n",
       "    </tr>\n",
       "    <tr>\n",
       "      <th>38</th>\n",
       "      <td>(0.7, 0.2, 0.1)</td>\n",
       "      <td>6</td>\n",
       "      <td>3.0</td>\n",
       "    </tr>\n",
       "    <tr>\n",
       "      <th>39</th>\n",
       "      <td>(0.7, 0.2, 0.1)</td>\n",
       "      <td>7</td>\n",
       "      <td>1.0</td>\n",
       "    </tr>\n",
       "  </tbody>\n",
       "</table>\n",
       "</div>"
      ],
      "text/plain": [
       "        configuration  len_shared_init_coms  init_coms_group_size\n",
       "0   (0.35, 0.55, 0.1)                     0                 979.0\n",
       "1   (0.35, 0.55, 0.1)                     1                 258.0\n",
       "2   (0.35, 0.55, 0.1)                     2                  75.0\n",
       "3   (0.35, 0.55, 0.1)                     3                  20.0\n",
       "4   (0.35, 0.55, 0.1)                     4                   9.0\n",
       "5   (0.35, 0.55, 0.1)                     5                   4.0\n",
       "6   (0.35, 0.55, 0.1)                     6                   2.0\n",
       "7   (0.35, 0.55, 0.1)                     7                   1.0\n",
       "8   (0.46, 0.1, 0.44)                     0                1561.0\n",
       "9   (0.46, 0.1, 0.44)                     1                 517.0\n",
       "10  (0.46, 0.1, 0.44)                     2                 161.0\n",
       "11  (0.46, 0.1, 0.44)                     3                  58.0\n",
       "12  (0.46, 0.1, 0.44)                     4                  20.0\n",
       "13  (0.46, 0.1, 0.44)                     5                   6.0\n",
       "14  (0.46, 0.1, 0.44)                     6                   2.0\n",
       "15  (0.46, 0.1, 0.44)                     7                   1.0\n",
       "16  (0.55, 0.2, 0.25)                     0                1105.5\n",
       "17  (0.55, 0.2, 0.25)                     1                 346.0\n",
       "18  (0.55, 0.2, 0.25)                     2                 108.0\n",
       "19  (0.55, 0.2, 0.25)                     3                  38.0\n",
       "20  (0.55, 0.2, 0.25)                     4                  12.0\n",
       "21  (0.55, 0.2, 0.25)                     5                   4.0\n",
       "22  (0.55, 0.2, 0.25)                     6                   2.0\n",
       "23  (0.55, 0.2, 0.25)                     7                   1.0\n",
       "24  (0.55, 0.35, 0.1)                     0                1019.0\n",
       "25  (0.55, 0.35, 0.1)                     1                 344.0\n",
       "26  (0.55, 0.35, 0.1)                     2                 115.0\n",
       "27  (0.55, 0.35, 0.1)                     3                  41.0\n",
       "28  (0.55, 0.35, 0.1)                     4                  18.0\n",
       "29  (0.55, 0.35, 0.1)                     5                   7.0\n",
       "30  (0.55, 0.35, 0.1)                     6                   3.0\n",
       "31  (0.55, 0.35, 0.1)                     7                   1.0\n",
       "32    (0.7, 0.2, 0.1)                     0                 609.5\n",
       "33    (0.7, 0.2, 0.1)                     1                 192.0\n",
       "34    (0.7, 0.2, 0.1)                     2                  65.0\n",
       "35    (0.7, 0.2, 0.1)                     3                  31.0\n",
       "36    (0.7, 0.2, 0.1)                     4                  13.0\n",
       "37    (0.7, 0.2, 0.1)                     5                   6.0\n",
       "38    (0.7, 0.2, 0.1)                     6                   3.0\n",
       "39    (0.7, 0.2, 0.1)                     7                   1.0"
      ]
     },
     "execution_count": 62,
     "metadata": {},
     "output_type": "execute_result"
    }
   ],
   "source": [
    "# number of groups\n",
    "result_df.groupby([\"configuration\", \"len_shared_init_coms\"])[[\"init_coms_group_size\"]].median().reset_index()"
   ]
  },
  {
   "cell_type": "code",
   "execution_count": 63,
   "id": "f8f06db1",
   "metadata": {},
   "outputs": [],
   "source": [
    "# save dataframe\n",
    "data_dir = path.join(getcwd(), \"data\")\n",
    "file_name=\"preprocessed_data_anything_goes_all_configs_incl_triv.csv\"\n",
    "\n",
    "# write results to a .csv.file\n",
    "result_df.to_csv(path.join(data_dir, file_name), index=False)\n",
    "\n",
    "# add to a tar file\n",
    "tar_file = path.join(data_dir, file_name + '.tar.gz')\n",
    "with tarfile.open(tar_file, \"w:gz\") as tar:\n",
    "    tar.add(path.join(data_dir, file_name), recursive=False, arcname=file_name)"
   ]
  },
  {
   "cell_type": "code",
   "execution_count": 46,
   "id": "d74759ad",
   "metadata": {},
   "outputs": [
    {
     "name": "stdout",
     "output_type": "stream",
     "text": [
      "Index(['configuration', 'ds', 'shared_init_coms', 'len_shared_init_coms',\n",
      "       'anything_goes', 'n_unique_sentences', 'n_fp', 'n_conflicts',\n",
      "       'init_coms_group_size'],\n",
      "      dtype='object')\n"
     ]
    },
    {
     "data": {
      "text/plain": [
       "(147062, 9)"
      ]
     },
     "execution_count": 46,
     "metadata": {},
     "output_type": "execute_result"
    }
   ],
   "source": [
    "#load data frame\n",
    "\n",
    "data_file_name = 'preprocessed_data_anything_goes_all_configs.csv.tar.gz'\n",
    "\n",
    "if data_file_name[data_file_name.find('.'):len(data_file_name)] == '.csv.tar.gz':\n",
    "    with tarfile.open(path.join(data_dir,data_file_name)) as tar:\n",
    "        for tarinfo in tar:\n",
    "            file_name = tarinfo.name\n",
    "        tar.extractall(data_dir)\n",
    "    result_df = pd.read_csv(path.join(data_dir, file_name))\n",
    "\n",
    "else:\n",
    "    result_df = pd.read_csv(path.join(data_dir,data_file_name))\n",
    "\n",
    "print(result_df.columns)\n",
    "result_df.shape"
   ]
  },
  {
   "cell_type": "code",
   "execution_count": 47,
   "id": "8c1aaa1a",
   "metadata": {},
   "outputs": [],
   "source": [
    "literal_eval_cols(result_df, [\"configuration\"])"
   ]
  },
  {
   "cell_type": "code",
   "execution_count": 44,
   "id": "62fea21b",
   "metadata": {},
   "outputs": [],
   "source": [
    "n_df = pd.DataFrame(columns=[\"configuration\", \"ds\", \"ep_type\", \"0\", \"1\", \"2\", \"3\", \"4\", \"5\", \"6\", \"7\"])"
   ]
  },
  {
   "cell_type": "code",
   "execution_count": 49,
   "id": "475bcb52",
   "metadata": {},
   "outputs": [],
   "source": [
    "configuration = (0.35, 0.55, 0.1)\n",
    "                 \n",
    "fp_row = dict()\n",
    "fp_row[\"configuration\"] = configuration\n",
    "fp_row[\"ep_type\"] = \"fp\"\n",
    "\n",
    "# restrict to configuration\n",
    "df = result_df[result_df[\"configuration\"]==configuration]\n",
    "                 \n",
    "# branch off second df for ticktexts with group sizes\n",
    "dff = df.groupby([\"len_shared_init_coms\"])[\"shared_init_coms\"].nunique().reset_index()\n",
    "dff[\"group_size\"] = [2186, 729, 243, 81, 27, 9, 3, 1]\n",
    "                 \n",
    "ticktexts = [\"{}<br>({}, {})\".format(row[1][\"len_shared_init_coms\"], row[1][\"shared_init_coms\"], row[1][\"group_size\"]) for row in dff.iterrows()]\n",
    "\n",
    "                 \n",
    "for ds in result_df[\"ds\"].unique():\n",
    "                 \n",
    "    fp_row[\"ds\"] = ds  \n",
    "                 \n",
    "    # restrict to dialectical structure\n",
    "    sub_df = df[df[\"ds\"]==ds]\n",
    "                 \n",
    "    sub_df = sub_df.groupby([\"len_shared_init_coms\"])[[\"n_unique_sentences\"]].median()\n",
    "    sub_df = sub_df.reset_index(level=0)\n",
    "                 \n",
    "    sub_df = sub_df[[\"len_shared_init_coms\", \"n_unique_sentences\"]].astype(float).round(decimals=2).reset_index()\n",
    "    \n",
    "    for i in range(8):\n",
    "        fp_row[str(i)] = sub_df[sub_df[\"len_shared_init_coms\"]==i][\"\"].unique()\n",
    "                 \n",
    "    n_df = n_df.append(fp_row, ignore_index=True)\n"
   ]
  },
  {
   "cell_type": "code",
   "execution_count": 50,
   "id": "019709aa",
   "metadata": {},
   "outputs": [
    {
     "data": {
      "text/html": [
       "<div>\n",
       "<style scoped>\n",
       "    .dataframe tbody tr th:only-of-type {\n",
       "        vertical-align: middle;\n",
       "    }\n",
       "\n",
       "    .dataframe tbody tr th {\n",
       "        vertical-align: top;\n",
       "    }\n",
       "\n",
       "    .dataframe thead th {\n",
       "        text-align: right;\n",
       "    }\n",
       "</style>\n",
       "<table border=\"1\" class=\"dataframe\">\n",
       "  <thead>\n",
       "    <tr style=\"text-align: right;\">\n",
       "      <th></th>\n",
       "      <th>configuration</th>\n",
       "      <th>0</th>\n",
       "      <th>1</th>\n",
       "      <th>2</th>\n",
       "      <th>3</th>\n",
       "      <th>4</th>\n",
       "      <th>5</th>\n",
       "      <th>6</th>\n",
       "      <th>7</th>\n",
       "    </tr>\n",
       "  </thead>\n",
       "  <tbody>\n",
       "    <tr>\n",
       "      <th>0</th>\n",
       "      <td>(0.35, 0.55, 0.1)</td>\n",
       "      <td>12.542857</td>\n",
       "      <td>[]</td>\n",
       "      <td>[]</td>\n",
       "      <td>[]</td>\n",
       "      <td>[]</td>\n",
       "      <td>[]</td>\n",
       "      <td>[]</td>\n",
       "      <td>[]</td>\n",
       "    </tr>\n",
       "  </tbody>\n",
       "</table>\n",
       "</div>"
      ],
      "text/plain": [
       "       configuration          0   1   2   3   4   5   6   7\n",
       "0  (0.35, 0.55, 0.1)  12.542857  []  []  []  []  []  []  []"
      ]
     },
     "execution_count": 50,
     "metadata": {},
     "output_type": "execute_result"
    }
   ],
   "source": [
    "n_df.groupby(\"configuration\")[[\"0\", \"1\", \"2\", \"3\", \"4\", \"5\", \"6\", \"7\"]].mean().reset_index()"
   ]
  },
  {
   "cell_type": "code",
   "execution_count": 120,
   "id": "92d9eca4",
   "metadata": {
    "scrolled": false
   },
   "outputs": [
    {
     "name": "stdout",
     "output_type": "stream",
     "text": [
      "(0.35, 0.55, 0.1)\n"
     ]
    },
    {
     "data": {
      "application/vnd.plotly.v1+json": {
       "config": {
        "plotlyServerURL": "https://plot.ly"
       },
       "data": [
        {
         "alignmentgroup": "True",
         "hovertemplate": "len_shared_init_coms=%{x}<br>anything_goes=%{y}<extra></extra>",
         "legendgroup": "",
         "marker": {
          "color": "#29ae80",
          "pattern": {
           "shape": ""
          }
         },
         "name": "Groups of non-trivial full RE fixed points covering the entire sentence pool",
         "offsetgroup": "",
         "orientation": "v",
         "showlegend": true,
         "textposition": "auto",
         "texttemplate": "%{y}",
         "type": "bar",
         "x": [
          0,
          1,
          2,
          3,
          4,
          5,
          6,
          7
         ],
         "xaxis": "x",
         "y": [
          0.47,
          0.45,
          0.35,
          0.11,
          0.02,
          0,
          0,
          0
         ],
         "yaxis": "y"
        }
       ],
       "layout": {
        "barmode": "group",
        "legend": {
         "orientation": "h",
         "title": {
          "text": ""
         },
         "tracegroupgap": 0,
         "x": -0.005,
         "xanchor": "left",
         "y": 1.02,
         "yanchor": "bottom"
        },
        "margin": {
         "b": 110,
         "t": 60
        },
        "template": {
         "data": {
          "bar": [
           {
            "error_x": {
             "color": "#2a3f5f"
            },
            "error_y": {
             "color": "#2a3f5f"
            },
            "marker": {
             "line": {
              "color": "white",
              "width": 0.5
             },
             "pattern": {
              "fillmode": "overlay",
              "size": 10,
              "solidity": 0.2
             }
            },
            "type": "bar"
           }
          ],
          "barpolar": [
           {
            "marker": {
             "line": {
              "color": "white",
              "width": 0.5
             },
             "pattern": {
              "fillmode": "overlay",
              "size": 10,
              "solidity": 0.2
             }
            },
            "type": "barpolar"
           }
          ],
          "carpet": [
           {
            "aaxis": {
             "endlinecolor": "#2a3f5f",
             "gridcolor": "#C8D4E3",
             "linecolor": "#C8D4E3",
             "minorgridcolor": "#C8D4E3",
             "startlinecolor": "#2a3f5f"
            },
            "baxis": {
             "endlinecolor": "#2a3f5f",
             "gridcolor": "#C8D4E3",
             "linecolor": "#C8D4E3",
             "minorgridcolor": "#C8D4E3",
             "startlinecolor": "#2a3f5f"
            },
            "type": "carpet"
           }
          ],
          "choropleth": [
           {
            "colorbar": {
             "outlinewidth": 0,
             "ticks": ""
            },
            "type": "choropleth"
           }
          ],
          "contour": [
           {
            "colorbar": {
             "outlinewidth": 0,
             "ticks": ""
            },
            "colorscale": [
             [
              0,
              "#0d0887"
             ],
             [
              0.1111111111111111,
              "#46039f"
             ],
             [
              0.2222222222222222,
              "#7201a8"
             ],
             [
              0.3333333333333333,
              "#9c179e"
             ],
             [
              0.4444444444444444,
              "#bd3786"
             ],
             [
              0.5555555555555556,
              "#d8576b"
             ],
             [
              0.6666666666666666,
              "#ed7953"
             ],
             [
              0.7777777777777778,
              "#fb9f3a"
             ],
             [
              0.8888888888888888,
              "#fdca26"
             ],
             [
              1,
              "#f0f921"
             ]
            ],
            "type": "contour"
           }
          ],
          "contourcarpet": [
           {
            "colorbar": {
             "outlinewidth": 0,
             "ticks": ""
            },
            "type": "contourcarpet"
           }
          ],
          "heatmap": [
           {
            "colorbar": {
             "outlinewidth": 0,
             "ticks": ""
            },
            "colorscale": [
             [
              0,
              "#0d0887"
             ],
             [
              0.1111111111111111,
              "#46039f"
             ],
             [
              0.2222222222222222,
              "#7201a8"
             ],
             [
              0.3333333333333333,
              "#9c179e"
             ],
             [
              0.4444444444444444,
              "#bd3786"
             ],
             [
              0.5555555555555556,
              "#d8576b"
             ],
             [
              0.6666666666666666,
              "#ed7953"
             ],
             [
              0.7777777777777778,
              "#fb9f3a"
             ],
             [
              0.8888888888888888,
              "#fdca26"
             ],
             [
              1,
              "#f0f921"
             ]
            ],
            "type": "heatmap"
           }
          ],
          "heatmapgl": [
           {
            "colorbar": {
             "outlinewidth": 0,
             "ticks": ""
            },
            "colorscale": [
             [
              0,
              "#0d0887"
             ],
             [
              0.1111111111111111,
              "#46039f"
             ],
             [
              0.2222222222222222,
              "#7201a8"
             ],
             [
              0.3333333333333333,
              "#9c179e"
             ],
             [
              0.4444444444444444,
              "#bd3786"
             ],
             [
              0.5555555555555556,
              "#d8576b"
             ],
             [
              0.6666666666666666,
              "#ed7953"
             ],
             [
              0.7777777777777778,
              "#fb9f3a"
             ],
             [
              0.8888888888888888,
              "#fdca26"
             ],
             [
              1,
              "#f0f921"
             ]
            ],
            "type": "heatmapgl"
           }
          ],
          "histogram": [
           {
            "marker": {
             "pattern": {
              "fillmode": "overlay",
              "size": 10,
              "solidity": 0.2
             }
            },
            "type": "histogram"
           }
          ],
          "histogram2d": [
           {
            "colorbar": {
             "outlinewidth": 0,
             "ticks": ""
            },
            "colorscale": [
             [
              0,
              "#0d0887"
             ],
             [
              0.1111111111111111,
              "#46039f"
             ],
             [
              0.2222222222222222,
              "#7201a8"
             ],
             [
              0.3333333333333333,
              "#9c179e"
             ],
             [
              0.4444444444444444,
              "#bd3786"
             ],
             [
              0.5555555555555556,
              "#d8576b"
             ],
             [
              0.6666666666666666,
              "#ed7953"
             ],
             [
              0.7777777777777778,
              "#fb9f3a"
             ],
             [
              0.8888888888888888,
              "#fdca26"
             ],
             [
              1,
              "#f0f921"
             ]
            ],
            "type": "histogram2d"
           }
          ],
          "histogram2dcontour": [
           {
            "colorbar": {
             "outlinewidth": 0,
             "ticks": ""
            },
            "colorscale": [
             [
              0,
              "#0d0887"
             ],
             [
              0.1111111111111111,
              "#46039f"
             ],
             [
              0.2222222222222222,
              "#7201a8"
             ],
             [
              0.3333333333333333,
              "#9c179e"
             ],
             [
              0.4444444444444444,
              "#bd3786"
             ],
             [
              0.5555555555555556,
              "#d8576b"
             ],
             [
              0.6666666666666666,
              "#ed7953"
             ],
             [
              0.7777777777777778,
              "#fb9f3a"
             ],
             [
              0.8888888888888888,
              "#fdca26"
             ],
             [
              1,
              "#f0f921"
             ]
            ],
            "type": "histogram2dcontour"
           }
          ],
          "mesh3d": [
           {
            "colorbar": {
             "outlinewidth": 0,
             "ticks": ""
            },
            "type": "mesh3d"
           }
          ],
          "parcoords": [
           {
            "line": {
             "colorbar": {
              "outlinewidth": 0,
              "ticks": ""
             }
            },
            "type": "parcoords"
           }
          ],
          "pie": [
           {
            "automargin": true,
            "type": "pie"
           }
          ],
          "scatter": [
           {
            "fillpattern": {
             "fillmode": "overlay",
             "size": 10,
             "solidity": 0.2
            },
            "type": "scatter"
           }
          ],
          "scatter3d": [
           {
            "line": {
             "colorbar": {
              "outlinewidth": 0,
              "ticks": ""
             }
            },
            "marker": {
             "colorbar": {
              "outlinewidth": 0,
              "ticks": ""
             }
            },
            "type": "scatter3d"
           }
          ],
          "scattercarpet": [
           {
            "marker": {
             "colorbar": {
              "outlinewidth": 0,
              "ticks": ""
             }
            },
            "type": "scattercarpet"
           }
          ],
          "scattergeo": [
           {
            "marker": {
             "colorbar": {
              "outlinewidth": 0,
              "ticks": ""
             }
            },
            "type": "scattergeo"
           }
          ],
          "scattergl": [
           {
            "marker": {
             "colorbar": {
              "outlinewidth": 0,
              "ticks": ""
             }
            },
            "type": "scattergl"
           }
          ],
          "scattermapbox": [
           {
            "marker": {
             "colorbar": {
              "outlinewidth": 0,
              "ticks": ""
             }
            },
            "type": "scattermapbox"
           }
          ],
          "scatterpolar": [
           {
            "marker": {
             "colorbar": {
              "outlinewidth": 0,
              "ticks": ""
             }
            },
            "type": "scatterpolar"
           }
          ],
          "scatterpolargl": [
           {
            "marker": {
             "colorbar": {
              "outlinewidth": 0,
              "ticks": ""
             }
            },
            "type": "scatterpolargl"
           }
          ],
          "scatterternary": [
           {
            "marker": {
             "colorbar": {
              "outlinewidth": 0,
              "ticks": ""
             }
            },
            "type": "scatterternary"
           }
          ],
          "surface": [
           {
            "colorbar": {
             "outlinewidth": 0,
             "ticks": ""
            },
            "colorscale": [
             [
              0,
              "#0d0887"
             ],
             [
              0.1111111111111111,
              "#46039f"
             ],
             [
              0.2222222222222222,
              "#7201a8"
             ],
             [
              0.3333333333333333,
              "#9c179e"
             ],
             [
              0.4444444444444444,
              "#bd3786"
             ],
             [
              0.5555555555555556,
              "#d8576b"
             ],
             [
              0.6666666666666666,
              "#ed7953"
             ],
             [
              0.7777777777777778,
              "#fb9f3a"
             ],
             [
              0.8888888888888888,
              "#fdca26"
             ],
             [
              1,
              "#f0f921"
             ]
            ],
            "type": "surface"
           }
          ],
          "table": [
           {
            "cells": {
             "fill": {
              "color": "#EBF0F8"
             },
             "line": {
              "color": "white"
             }
            },
            "header": {
             "fill": {
              "color": "#C8D4E3"
             },
             "line": {
              "color": "white"
             }
            },
            "type": "table"
           }
          ]
         },
         "layout": {
          "annotationdefaults": {
           "arrowcolor": "#2a3f5f",
           "arrowhead": 0,
           "arrowwidth": 1
          },
          "autotypenumbers": "strict",
          "coloraxis": {
           "colorbar": {
            "outlinewidth": 0,
            "ticks": ""
           }
          },
          "colorscale": {
           "diverging": [
            [
             0,
             "#8e0152"
            ],
            [
             0.1,
             "#c51b7d"
            ],
            [
             0.2,
             "#de77ae"
            ],
            [
             0.3,
             "#f1b6da"
            ],
            [
             0.4,
             "#fde0ef"
            ],
            [
             0.5,
             "#f7f7f7"
            ],
            [
             0.6,
             "#e6f5d0"
            ],
            [
             0.7,
             "#b8e186"
            ],
            [
             0.8,
             "#7fbc41"
            ],
            [
             0.9,
             "#4d9221"
            ],
            [
             1,
             "#276419"
            ]
           ],
           "sequential": [
            [
             0,
             "#0d0887"
            ],
            [
             0.1111111111111111,
             "#46039f"
            ],
            [
             0.2222222222222222,
             "#7201a8"
            ],
            [
             0.3333333333333333,
             "#9c179e"
            ],
            [
             0.4444444444444444,
             "#bd3786"
            ],
            [
             0.5555555555555556,
             "#d8576b"
            ],
            [
             0.6666666666666666,
             "#ed7953"
            ],
            [
             0.7777777777777778,
             "#fb9f3a"
            ],
            [
             0.8888888888888888,
             "#fdca26"
            ],
            [
             1,
             "#f0f921"
            ]
           ],
           "sequentialminus": [
            [
             0,
             "#0d0887"
            ],
            [
             0.1111111111111111,
             "#46039f"
            ],
            [
             0.2222222222222222,
             "#7201a8"
            ],
            [
             0.3333333333333333,
             "#9c179e"
            ],
            [
             0.4444444444444444,
             "#bd3786"
            ],
            [
             0.5555555555555556,
             "#d8576b"
            ],
            [
             0.6666666666666666,
             "#ed7953"
            ],
            [
             0.7777777777777778,
             "#fb9f3a"
            ],
            [
             0.8888888888888888,
             "#fdca26"
            ],
            [
             1,
             "#f0f921"
            ]
           ]
          },
          "colorway": [
           "#636efa",
           "#EF553B",
           "#00cc96",
           "#ab63fa",
           "#FFA15A",
           "#19d3f3",
           "#FF6692",
           "#B6E880",
           "#FF97FF",
           "#FECB52"
          ],
          "font": {
           "color": "#2a3f5f"
          },
          "geo": {
           "bgcolor": "white",
           "lakecolor": "white",
           "landcolor": "white",
           "showlakes": true,
           "showland": true,
           "subunitcolor": "#C8D4E3"
          },
          "hoverlabel": {
           "align": "left"
          },
          "hovermode": "closest",
          "mapbox": {
           "style": "light"
          },
          "paper_bgcolor": "white",
          "plot_bgcolor": "white",
          "polar": {
           "angularaxis": {
            "gridcolor": "#EBF0F8",
            "linecolor": "#EBF0F8",
            "ticks": ""
           },
           "bgcolor": "white",
           "radialaxis": {
            "gridcolor": "#EBF0F8",
            "linecolor": "#EBF0F8",
            "ticks": ""
           }
          },
          "scene": {
           "xaxis": {
            "backgroundcolor": "white",
            "gridcolor": "#DFE8F3",
            "gridwidth": 2,
            "linecolor": "#EBF0F8",
            "showbackground": true,
            "ticks": "",
            "zerolinecolor": "#EBF0F8"
           },
           "yaxis": {
            "backgroundcolor": "white",
            "gridcolor": "#DFE8F3",
            "gridwidth": 2,
            "linecolor": "#EBF0F8",
            "showbackground": true,
            "ticks": "",
            "zerolinecolor": "#EBF0F8"
           },
           "zaxis": {
            "backgroundcolor": "white",
            "gridcolor": "#DFE8F3",
            "gridwidth": 2,
            "linecolor": "#EBF0F8",
            "showbackground": true,
            "ticks": "",
            "zerolinecolor": "#EBF0F8"
           }
          },
          "shapedefaults": {
           "line": {
            "color": "#2a3f5f"
           }
          },
          "ternary": {
           "aaxis": {
            "gridcolor": "#DFE8F3",
            "linecolor": "#A2B1C6",
            "ticks": ""
           },
           "baxis": {
            "gridcolor": "#DFE8F3",
            "linecolor": "#A2B1C6",
            "ticks": ""
           },
           "bgcolor": "white",
           "caxis": {
            "gridcolor": "#DFE8F3",
            "linecolor": "#A2B1C6",
            "ticks": ""
           }
          },
          "title": {
           "x": 0.05
          },
          "xaxis": {
           "automargin": true,
           "gridcolor": "#EBF0F8",
           "linecolor": "#EBF0F8",
           "ticks": "",
           "title": {
            "standoff": 15
           },
           "zerolinecolor": "#EBF0F8",
           "zerolinewidth": 2
          },
          "yaxis": {
           "automargin": true,
           "gridcolor": "#EBF0F8",
           "linecolor": "#EBF0F8",
           "ticks": "",
           "title": {
            "standoff": 15
           },
           "zerolinecolor": "#EBF0F8",
           "zerolinewidth": 2
          }
         }
        },
        "xaxis": {
         "anchor": "y",
         "domain": [
          0,
          1
         ],
         "showticklabels": true,
         "ticktext": [
          "0<br><span style='color:DarkGray'>(1, 807)<span>",
          "1<br><span style='color:DarkGray'>(6, 272)<span>",
          "2<br><span style='color:DarkGray'>(29, 101)<span>",
          "3<br><span style='color:DarkGray'>(149, 28)<span>",
          "4<br><span style='color:DarkGray'>(279, 9)<span>",
          "5<br><span style='color:DarkGray'>(178, 4)<span>",
          "6<br><span style='color:DarkGray'>(150, 2)<span>",
          "7<br><span style='color:DarkGray'>(39, 1)<span>"
         ],
         "tickvals": [
          0,
          1,
          2,
          3,
          4,
          5,
          6,
          7
         ],
         "title": {
          "text": "Length of shared initial commitments<br><span style='color:DarkGray'>(Number of groups, Group size)<span>"
         }
        },
        "yaxis": {
         "anchor": "x",
         "domain": [
          0,
          1
         ],
         "range": [
          0,
          1.05
         ],
         "showticklabels": true,
         "title": {
          "text": "Mean relative share"
         }
        }
       }
      },
      "text/html": [
       "<div>                            <div id=\"6f141e02-c5cc-4d14-abc9-3c32279b4e1e\" class=\"plotly-graph-div\" style=\"height:525px; width:100%;\"></div>            <script type=\"text/javascript\">                require([\"plotly\"], function(Plotly) {                    window.PLOTLYENV=window.PLOTLYENV || {};                                    if (document.getElementById(\"6f141e02-c5cc-4d14-abc9-3c32279b4e1e\")) {                    Plotly.newPlot(                        \"6f141e02-c5cc-4d14-abc9-3c32279b4e1e\",                        [{\"alignmentgroup\":\"True\",\"hovertemplate\":\"len_shared_init_coms=%{x}<br>anything_goes=%{y}<extra></extra>\",\"legendgroup\":\"\",\"marker\":{\"color\":\"#29ae80\",\"pattern\":{\"shape\":\"\"}},\"name\":\"Groups of non-trivial full RE fixed points covering the entire sentence pool\",\"offsetgroup\":\"\",\"orientation\":\"v\",\"showlegend\":true,\"textposition\":\"auto\",\"texttemplate\":\"%{y}\",\"x\":[0,1,2,3,4,5,6,7],\"xaxis\":\"x\",\"y\":[0.47,0.45,0.35,0.11,0.02,0.0,0.0,0.0],\"yaxis\":\"y\",\"type\":\"bar\"}],                        {\"template\":{\"data\":{\"barpolar\":[{\"marker\":{\"line\":{\"color\":\"white\",\"width\":0.5},\"pattern\":{\"fillmode\":\"overlay\",\"size\":10,\"solidity\":0.2}},\"type\":\"barpolar\"}],\"bar\":[{\"error_x\":{\"color\":\"#2a3f5f\"},\"error_y\":{\"color\":\"#2a3f5f\"},\"marker\":{\"line\":{\"color\":\"white\",\"width\":0.5},\"pattern\":{\"fillmode\":\"overlay\",\"size\":10,\"solidity\":0.2}},\"type\":\"bar\"}],\"carpet\":[{\"aaxis\":{\"endlinecolor\":\"#2a3f5f\",\"gridcolor\":\"#C8D4E3\",\"linecolor\":\"#C8D4E3\",\"minorgridcolor\":\"#C8D4E3\",\"startlinecolor\":\"#2a3f5f\"},\"baxis\":{\"endlinecolor\":\"#2a3f5f\",\"gridcolor\":\"#C8D4E3\",\"linecolor\":\"#C8D4E3\",\"minorgridcolor\":\"#C8D4E3\",\"startlinecolor\":\"#2a3f5f\"},\"type\":\"carpet\"}],\"choropleth\":[{\"colorbar\":{\"outlinewidth\":0,\"ticks\":\"\"},\"type\":\"choropleth\"}],\"contourcarpet\":[{\"colorbar\":{\"outlinewidth\":0,\"ticks\":\"\"},\"type\":\"contourcarpet\"}],\"contour\":[{\"colorbar\":{\"outlinewidth\":0,\"ticks\":\"\"},\"colorscale\":[[0.0,\"#0d0887\"],[0.1111111111111111,\"#46039f\"],[0.2222222222222222,\"#7201a8\"],[0.3333333333333333,\"#9c179e\"],[0.4444444444444444,\"#bd3786\"],[0.5555555555555556,\"#d8576b\"],[0.6666666666666666,\"#ed7953\"],[0.7777777777777778,\"#fb9f3a\"],[0.8888888888888888,\"#fdca26\"],[1.0,\"#f0f921\"]],\"type\":\"contour\"}],\"heatmapgl\":[{\"colorbar\":{\"outlinewidth\":0,\"ticks\":\"\"},\"colorscale\":[[0.0,\"#0d0887\"],[0.1111111111111111,\"#46039f\"],[0.2222222222222222,\"#7201a8\"],[0.3333333333333333,\"#9c179e\"],[0.4444444444444444,\"#bd3786\"],[0.5555555555555556,\"#d8576b\"],[0.6666666666666666,\"#ed7953\"],[0.7777777777777778,\"#fb9f3a\"],[0.8888888888888888,\"#fdca26\"],[1.0,\"#f0f921\"]],\"type\":\"heatmapgl\"}],\"heatmap\":[{\"colorbar\":{\"outlinewidth\":0,\"ticks\":\"\"},\"colorscale\":[[0.0,\"#0d0887\"],[0.1111111111111111,\"#46039f\"],[0.2222222222222222,\"#7201a8\"],[0.3333333333333333,\"#9c179e\"],[0.4444444444444444,\"#bd3786\"],[0.5555555555555556,\"#d8576b\"],[0.6666666666666666,\"#ed7953\"],[0.7777777777777778,\"#fb9f3a\"],[0.8888888888888888,\"#fdca26\"],[1.0,\"#f0f921\"]],\"type\":\"heatmap\"}],\"histogram2dcontour\":[{\"colorbar\":{\"outlinewidth\":0,\"ticks\":\"\"},\"colorscale\":[[0.0,\"#0d0887\"],[0.1111111111111111,\"#46039f\"],[0.2222222222222222,\"#7201a8\"],[0.3333333333333333,\"#9c179e\"],[0.4444444444444444,\"#bd3786\"],[0.5555555555555556,\"#d8576b\"],[0.6666666666666666,\"#ed7953\"],[0.7777777777777778,\"#fb9f3a\"],[0.8888888888888888,\"#fdca26\"],[1.0,\"#f0f921\"]],\"type\":\"histogram2dcontour\"}],\"histogram2d\":[{\"colorbar\":{\"outlinewidth\":0,\"ticks\":\"\"},\"colorscale\":[[0.0,\"#0d0887\"],[0.1111111111111111,\"#46039f\"],[0.2222222222222222,\"#7201a8\"],[0.3333333333333333,\"#9c179e\"],[0.4444444444444444,\"#bd3786\"],[0.5555555555555556,\"#d8576b\"],[0.6666666666666666,\"#ed7953\"],[0.7777777777777778,\"#fb9f3a\"],[0.8888888888888888,\"#fdca26\"],[1.0,\"#f0f921\"]],\"type\":\"histogram2d\"}],\"histogram\":[{\"marker\":{\"pattern\":{\"fillmode\":\"overlay\",\"size\":10,\"solidity\":0.2}},\"type\":\"histogram\"}],\"mesh3d\":[{\"colorbar\":{\"outlinewidth\":0,\"ticks\":\"\"},\"type\":\"mesh3d\"}],\"parcoords\":[{\"line\":{\"colorbar\":{\"outlinewidth\":0,\"ticks\":\"\"}},\"type\":\"parcoords\"}],\"pie\":[{\"automargin\":true,\"type\":\"pie\"}],\"scatter3d\":[{\"line\":{\"colorbar\":{\"outlinewidth\":0,\"ticks\":\"\"}},\"marker\":{\"colorbar\":{\"outlinewidth\":0,\"ticks\":\"\"}},\"type\":\"scatter3d\"}],\"scattercarpet\":[{\"marker\":{\"colorbar\":{\"outlinewidth\":0,\"ticks\":\"\"}},\"type\":\"scattercarpet\"}],\"scattergeo\":[{\"marker\":{\"colorbar\":{\"outlinewidth\":0,\"ticks\":\"\"}},\"type\":\"scattergeo\"}],\"scattergl\":[{\"marker\":{\"colorbar\":{\"outlinewidth\":0,\"ticks\":\"\"}},\"type\":\"scattergl\"}],\"scattermapbox\":[{\"marker\":{\"colorbar\":{\"outlinewidth\":0,\"ticks\":\"\"}},\"type\":\"scattermapbox\"}],\"scatterpolargl\":[{\"marker\":{\"colorbar\":{\"outlinewidth\":0,\"ticks\":\"\"}},\"type\":\"scatterpolargl\"}],\"scatterpolar\":[{\"marker\":{\"colorbar\":{\"outlinewidth\":0,\"ticks\":\"\"}},\"type\":\"scatterpolar\"}],\"scatter\":[{\"fillpattern\":{\"fillmode\":\"overlay\",\"size\":10,\"solidity\":0.2},\"type\":\"scatter\"}],\"scatterternary\":[{\"marker\":{\"colorbar\":{\"outlinewidth\":0,\"ticks\":\"\"}},\"type\":\"scatterternary\"}],\"surface\":[{\"colorbar\":{\"outlinewidth\":0,\"ticks\":\"\"},\"colorscale\":[[0.0,\"#0d0887\"],[0.1111111111111111,\"#46039f\"],[0.2222222222222222,\"#7201a8\"],[0.3333333333333333,\"#9c179e\"],[0.4444444444444444,\"#bd3786\"],[0.5555555555555556,\"#d8576b\"],[0.6666666666666666,\"#ed7953\"],[0.7777777777777778,\"#fb9f3a\"],[0.8888888888888888,\"#fdca26\"],[1.0,\"#f0f921\"]],\"type\":\"surface\"}],\"table\":[{\"cells\":{\"fill\":{\"color\":\"#EBF0F8\"},\"line\":{\"color\":\"white\"}},\"header\":{\"fill\":{\"color\":\"#C8D4E3\"},\"line\":{\"color\":\"white\"}},\"type\":\"table\"}]},\"layout\":{\"annotationdefaults\":{\"arrowcolor\":\"#2a3f5f\",\"arrowhead\":0,\"arrowwidth\":1},\"autotypenumbers\":\"strict\",\"coloraxis\":{\"colorbar\":{\"outlinewidth\":0,\"ticks\":\"\"}},\"colorscale\":{\"diverging\":[[0,\"#8e0152\"],[0.1,\"#c51b7d\"],[0.2,\"#de77ae\"],[0.3,\"#f1b6da\"],[0.4,\"#fde0ef\"],[0.5,\"#f7f7f7\"],[0.6,\"#e6f5d0\"],[0.7,\"#b8e186\"],[0.8,\"#7fbc41\"],[0.9,\"#4d9221\"],[1,\"#276419\"]],\"sequential\":[[0.0,\"#0d0887\"],[0.1111111111111111,\"#46039f\"],[0.2222222222222222,\"#7201a8\"],[0.3333333333333333,\"#9c179e\"],[0.4444444444444444,\"#bd3786\"],[0.5555555555555556,\"#d8576b\"],[0.6666666666666666,\"#ed7953\"],[0.7777777777777778,\"#fb9f3a\"],[0.8888888888888888,\"#fdca26\"],[1.0,\"#f0f921\"]],\"sequentialminus\":[[0.0,\"#0d0887\"],[0.1111111111111111,\"#46039f\"],[0.2222222222222222,\"#7201a8\"],[0.3333333333333333,\"#9c179e\"],[0.4444444444444444,\"#bd3786\"],[0.5555555555555556,\"#d8576b\"],[0.6666666666666666,\"#ed7953\"],[0.7777777777777778,\"#fb9f3a\"],[0.8888888888888888,\"#fdca26\"],[1.0,\"#f0f921\"]]},\"colorway\":[\"#636efa\",\"#EF553B\",\"#00cc96\",\"#ab63fa\",\"#FFA15A\",\"#19d3f3\",\"#FF6692\",\"#B6E880\",\"#FF97FF\",\"#FECB52\"],\"font\":{\"color\":\"#2a3f5f\"},\"geo\":{\"bgcolor\":\"white\",\"lakecolor\":\"white\",\"landcolor\":\"white\",\"showlakes\":true,\"showland\":true,\"subunitcolor\":\"#C8D4E3\"},\"hoverlabel\":{\"align\":\"left\"},\"hovermode\":\"closest\",\"mapbox\":{\"style\":\"light\"},\"paper_bgcolor\":\"white\",\"plot_bgcolor\":\"white\",\"polar\":{\"angularaxis\":{\"gridcolor\":\"#EBF0F8\",\"linecolor\":\"#EBF0F8\",\"ticks\":\"\"},\"bgcolor\":\"white\",\"radialaxis\":{\"gridcolor\":\"#EBF0F8\",\"linecolor\":\"#EBF0F8\",\"ticks\":\"\"}},\"scene\":{\"xaxis\":{\"backgroundcolor\":\"white\",\"gridcolor\":\"#DFE8F3\",\"gridwidth\":2,\"linecolor\":\"#EBF0F8\",\"showbackground\":true,\"ticks\":\"\",\"zerolinecolor\":\"#EBF0F8\"},\"yaxis\":{\"backgroundcolor\":\"white\",\"gridcolor\":\"#DFE8F3\",\"gridwidth\":2,\"linecolor\":\"#EBF0F8\",\"showbackground\":true,\"ticks\":\"\",\"zerolinecolor\":\"#EBF0F8\"},\"zaxis\":{\"backgroundcolor\":\"white\",\"gridcolor\":\"#DFE8F3\",\"gridwidth\":2,\"linecolor\":\"#EBF0F8\",\"showbackground\":true,\"ticks\":\"\",\"zerolinecolor\":\"#EBF0F8\"}},\"shapedefaults\":{\"line\":{\"color\":\"#2a3f5f\"}},\"ternary\":{\"aaxis\":{\"gridcolor\":\"#DFE8F3\",\"linecolor\":\"#A2B1C6\",\"ticks\":\"\"},\"baxis\":{\"gridcolor\":\"#DFE8F3\",\"linecolor\":\"#A2B1C6\",\"ticks\":\"\"},\"bgcolor\":\"white\",\"caxis\":{\"gridcolor\":\"#DFE8F3\",\"linecolor\":\"#A2B1C6\",\"ticks\":\"\"}},\"title\":{\"x\":0.05},\"xaxis\":{\"automargin\":true,\"gridcolor\":\"#EBF0F8\",\"linecolor\":\"#EBF0F8\",\"ticks\":\"\",\"title\":{\"standoff\":15},\"zerolinecolor\":\"#EBF0F8\",\"zerolinewidth\":2},\"yaxis\":{\"automargin\":true,\"gridcolor\":\"#EBF0F8\",\"linecolor\":\"#EBF0F8\",\"ticks\":\"\",\"title\":{\"standoff\":15},\"zerolinecolor\":\"#EBF0F8\",\"zerolinewidth\":2}}},\"xaxis\":{\"anchor\":\"y\",\"domain\":[0.0,1.0],\"title\":{\"text\":\"Length of shared initial commitments<br><span style='color:DarkGray'>(Number of groups, Group size)<span>\"},\"showticklabels\":true,\"tickvals\":[0,1,2,3,4,5,6,7],\"ticktext\":[\"0<br><span style='color:DarkGray'>(1, 807)<span>\",\"1<br><span style='color:DarkGray'>(6, 272)<span>\",\"2<br><span style='color:DarkGray'>(29, 101)<span>\",\"3<br><span style='color:DarkGray'>(149, 28)<span>\",\"4<br><span style='color:DarkGray'>(279, 9)<span>\",\"5<br><span style='color:DarkGray'>(178, 4)<span>\",\"6<br><span style='color:DarkGray'>(150, 2)<span>\",\"7<br><span style='color:DarkGray'>(39, 1)<span>\"]},\"yaxis\":{\"anchor\":\"x\",\"domain\":[0.0,1.0],\"title\":{\"text\":\"Mean relative share\"},\"showticklabels\":true,\"range\":[0,1.05]},\"legend\":{\"tracegroupgap\":0,\"title\":{\"text\":\"\"},\"orientation\":\"h\",\"yanchor\":\"bottom\",\"y\":1.02,\"xanchor\":\"left\",\"x\":-0.005},\"margin\":{\"t\":60,\"b\":110},\"barmode\":\"group\"},                        {\"responsive\": true}                    ).then(function(){\n",
       "                            \n",
       "var gd = document.getElementById('6f141e02-c5cc-4d14-abc9-3c32279b4e1e');\n",
       "var x = new MutationObserver(function (mutations, observer) {{\n",
       "        var display = window.getComputedStyle(gd).display;\n",
       "        if (!display || display === 'none') {{\n",
       "            console.log([gd, 'removed!']);\n",
       "            Plotly.purge(gd);\n",
       "            observer.disconnect();\n",
       "        }}\n",
       "}});\n",
       "\n",
       "// Listen for the removal of the full notebook cells\n",
       "var notebookContainer = gd.closest('#notebook-container');\n",
       "if (notebookContainer) {{\n",
       "    x.observe(notebookContainer, {childList: true});\n",
       "}}\n",
       "\n",
       "// Listen for the clearing of the current output cell\n",
       "var outputEl = gd.closest('.output');\n",
       "if (outputEl) {{\n",
       "    x.observe(outputEl, {childList: true});\n",
       "}}\n",
       "\n",
       "                        })                };                });            </script>        </div>"
      ]
     },
     "metadata": {},
     "output_type": "display_data"
    },
    {
     "name": "stdout",
     "output_type": "stream",
     "text": [
      "(0.55, 0.35, 0.1)\n"
     ]
    },
    {
     "data": {
      "application/vnd.plotly.v1+json": {
       "config": {
        "plotlyServerURL": "https://plot.ly"
       },
       "data": [
        {
         "alignmentgroup": "True",
         "hovertemplate": "len_shared_init_coms=%{x}<br>anything_goes=%{y}<extra></extra>",
         "legendgroup": "",
         "marker": {
          "color": "#29ae80",
          "pattern": {
           "shape": ""
          }
         },
         "name": "Groups of non-trivial full RE fixed points covering the entire sentence pool",
         "offsetgroup": "",
         "orientation": "v",
         "showlegend": true,
         "textposition": "auto",
         "texttemplate": "%{y}",
         "type": "bar",
         "x": [
          0,
          1,
          2,
          3,
          4,
          5,
          6,
          7
         ],
         "xaxis": "x",
         "y": [
          0.97,
          0.94,
          0.6,
          0.24,
          0.08,
          0.02,
          0,
          0
         ],
         "yaxis": "y"
        }
       ],
       "layout": {
        "barmode": "group",
        "legend": {
         "orientation": "h",
         "title": {
          "text": ""
         },
         "tracegroupgap": 0,
         "x": -0.005,
         "xanchor": "left",
         "y": 1.02,
         "yanchor": "bottom"
        },
        "margin": {
         "b": 110,
         "t": 60
        },
        "template": {
         "data": {
          "bar": [
           {
            "error_x": {
             "color": "#2a3f5f"
            },
            "error_y": {
             "color": "#2a3f5f"
            },
            "marker": {
             "line": {
              "color": "white",
              "width": 0.5
             },
             "pattern": {
              "fillmode": "overlay",
              "size": 10,
              "solidity": 0.2
             }
            },
            "type": "bar"
           }
          ],
          "barpolar": [
           {
            "marker": {
             "line": {
              "color": "white",
              "width": 0.5
             },
             "pattern": {
              "fillmode": "overlay",
              "size": 10,
              "solidity": 0.2
             }
            },
            "type": "barpolar"
           }
          ],
          "carpet": [
           {
            "aaxis": {
             "endlinecolor": "#2a3f5f",
             "gridcolor": "#C8D4E3",
             "linecolor": "#C8D4E3",
             "minorgridcolor": "#C8D4E3",
             "startlinecolor": "#2a3f5f"
            },
            "baxis": {
             "endlinecolor": "#2a3f5f",
             "gridcolor": "#C8D4E3",
             "linecolor": "#C8D4E3",
             "minorgridcolor": "#C8D4E3",
             "startlinecolor": "#2a3f5f"
            },
            "type": "carpet"
           }
          ],
          "choropleth": [
           {
            "colorbar": {
             "outlinewidth": 0,
             "ticks": ""
            },
            "type": "choropleth"
           }
          ],
          "contour": [
           {
            "colorbar": {
             "outlinewidth": 0,
             "ticks": ""
            },
            "colorscale": [
             [
              0,
              "#0d0887"
             ],
             [
              0.1111111111111111,
              "#46039f"
             ],
             [
              0.2222222222222222,
              "#7201a8"
             ],
             [
              0.3333333333333333,
              "#9c179e"
             ],
             [
              0.4444444444444444,
              "#bd3786"
             ],
             [
              0.5555555555555556,
              "#d8576b"
             ],
             [
              0.6666666666666666,
              "#ed7953"
             ],
             [
              0.7777777777777778,
              "#fb9f3a"
             ],
             [
              0.8888888888888888,
              "#fdca26"
             ],
             [
              1,
              "#f0f921"
             ]
            ],
            "type": "contour"
           }
          ],
          "contourcarpet": [
           {
            "colorbar": {
             "outlinewidth": 0,
             "ticks": ""
            },
            "type": "contourcarpet"
           }
          ],
          "heatmap": [
           {
            "colorbar": {
             "outlinewidth": 0,
             "ticks": ""
            },
            "colorscale": [
             [
              0,
              "#0d0887"
             ],
             [
              0.1111111111111111,
              "#46039f"
             ],
             [
              0.2222222222222222,
              "#7201a8"
             ],
             [
              0.3333333333333333,
              "#9c179e"
             ],
             [
              0.4444444444444444,
              "#bd3786"
             ],
             [
              0.5555555555555556,
              "#d8576b"
             ],
             [
              0.6666666666666666,
              "#ed7953"
             ],
             [
              0.7777777777777778,
              "#fb9f3a"
             ],
             [
              0.8888888888888888,
              "#fdca26"
             ],
             [
              1,
              "#f0f921"
             ]
            ],
            "type": "heatmap"
           }
          ],
          "heatmapgl": [
           {
            "colorbar": {
             "outlinewidth": 0,
             "ticks": ""
            },
            "colorscale": [
             [
              0,
              "#0d0887"
             ],
             [
              0.1111111111111111,
              "#46039f"
             ],
             [
              0.2222222222222222,
              "#7201a8"
             ],
             [
              0.3333333333333333,
              "#9c179e"
             ],
             [
              0.4444444444444444,
              "#bd3786"
             ],
             [
              0.5555555555555556,
              "#d8576b"
             ],
             [
              0.6666666666666666,
              "#ed7953"
             ],
             [
              0.7777777777777778,
              "#fb9f3a"
             ],
             [
              0.8888888888888888,
              "#fdca26"
             ],
             [
              1,
              "#f0f921"
             ]
            ],
            "type": "heatmapgl"
           }
          ],
          "histogram": [
           {
            "marker": {
             "pattern": {
              "fillmode": "overlay",
              "size": 10,
              "solidity": 0.2
             }
            },
            "type": "histogram"
           }
          ],
          "histogram2d": [
           {
            "colorbar": {
             "outlinewidth": 0,
             "ticks": ""
            },
            "colorscale": [
             [
              0,
              "#0d0887"
             ],
             [
              0.1111111111111111,
              "#46039f"
             ],
             [
              0.2222222222222222,
              "#7201a8"
             ],
             [
              0.3333333333333333,
              "#9c179e"
             ],
             [
              0.4444444444444444,
              "#bd3786"
             ],
             [
              0.5555555555555556,
              "#d8576b"
             ],
             [
              0.6666666666666666,
              "#ed7953"
             ],
             [
              0.7777777777777778,
              "#fb9f3a"
             ],
             [
              0.8888888888888888,
              "#fdca26"
             ],
             [
              1,
              "#f0f921"
             ]
            ],
            "type": "histogram2d"
           }
          ],
          "histogram2dcontour": [
           {
            "colorbar": {
             "outlinewidth": 0,
             "ticks": ""
            },
            "colorscale": [
             [
              0,
              "#0d0887"
             ],
             [
              0.1111111111111111,
              "#46039f"
             ],
             [
              0.2222222222222222,
              "#7201a8"
             ],
             [
              0.3333333333333333,
              "#9c179e"
             ],
             [
              0.4444444444444444,
              "#bd3786"
             ],
             [
              0.5555555555555556,
              "#d8576b"
             ],
             [
              0.6666666666666666,
              "#ed7953"
             ],
             [
              0.7777777777777778,
              "#fb9f3a"
             ],
             [
              0.8888888888888888,
              "#fdca26"
             ],
             [
              1,
              "#f0f921"
             ]
            ],
            "type": "histogram2dcontour"
           }
          ],
          "mesh3d": [
           {
            "colorbar": {
             "outlinewidth": 0,
             "ticks": ""
            },
            "type": "mesh3d"
           }
          ],
          "parcoords": [
           {
            "line": {
             "colorbar": {
              "outlinewidth": 0,
              "ticks": ""
             }
            },
            "type": "parcoords"
           }
          ],
          "pie": [
           {
            "automargin": true,
            "type": "pie"
           }
          ],
          "scatter": [
           {
            "fillpattern": {
             "fillmode": "overlay",
             "size": 10,
             "solidity": 0.2
            },
            "type": "scatter"
           }
          ],
          "scatter3d": [
           {
            "line": {
             "colorbar": {
              "outlinewidth": 0,
              "ticks": ""
             }
            },
            "marker": {
             "colorbar": {
              "outlinewidth": 0,
              "ticks": ""
             }
            },
            "type": "scatter3d"
           }
          ],
          "scattercarpet": [
           {
            "marker": {
             "colorbar": {
              "outlinewidth": 0,
              "ticks": ""
             }
            },
            "type": "scattercarpet"
           }
          ],
          "scattergeo": [
           {
            "marker": {
             "colorbar": {
              "outlinewidth": 0,
              "ticks": ""
             }
            },
            "type": "scattergeo"
           }
          ],
          "scattergl": [
           {
            "marker": {
             "colorbar": {
              "outlinewidth": 0,
              "ticks": ""
             }
            },
            "type": "scattergl"
           }
          ],
          "scattermapbox": [
           {
            "marker": {
             "colorbar": {
              "outlinewidth": 0,
              "ticks": ""
             }
            },
            "type": "scattermapbox"
           }
          ],
          "scatterpolar": [
           {
            "marker": {
             "colorbar": {
              "outlinewidth": 0,
              "ticks": ""
             }
            },
            "type": "scatterpolar"
           }
          ],
          "scatterpolargl": [
           {
            "marker": {
             "colorbar": {
              "outlinewidth": 0,
              "ticks": ""
             }
            },
            "type": "scatterpolargl"
           }
          ],
          "scatterternary": [
           {
            "marker": {
             "colorbar": {
              "outlinewidth": 0,
              "ticks": ""
             }
            },
            "type": "scatterternary"
           }
          ],
          "surface": [
           {
            "colorbar": {
             "outlinewidth": 0,
             "ticks": ""
            },
            "colorscale": [
             [
              0,
              "#0d0887"
             ],
             [
              0.1111111111111111,
              "#46039f"
             ],
             [
              0.2222222222222222,
              "#7201a8"
             ],
             [
              0.3333333333333333,
              "#9c179e"
             ],
             [
              0.4444444444444444,
              "#bd3786"
             ],
             [
              0.5555555555555556,
              "#d8576b"
             ],
             [
              0.6666666666666666,
              "#ed7953"
             ],
             [
              0.7777777777777778,
              "#fb9f3a"
             ],
             [
              0.8888888888888888,
              "#fdca26"
             ],
             [
              1,
              "#f0f921"
             ]
            ],
            "type": "surface"
           }
          ],
          "table": [
           {
            "cells": {
             "fill": {
              "color": "#EBF0F8"
             },
             "line": {
              "color": "white"
             }
            },
            "header": {
             "fill": {
              "color": "#C8D4E3"
             },
             "line": {
              "color": "white"
             }
            },
            "type": "table"
           }
          ]
         },
         "layout": {
          "annotationdefaults": {
           "arrowcolor": "#2a3f5f",
           "arrowhead": 0,
           "arrowwidth": 1
          },
          "autotypenumbers": "strict",
          "coloraxis": {
           "colorbar": {
            "outlinewidth": 0,
            "ticks": ""
           }
          },
          "colorscale": {
           "diverging": [
            [
             0,
             "#8e0152"
            ],
            [
             0.1,
             "#c51b7d"
            ],
            [
             0.2,
             "#de77ae"
            ],
            [
             0.3,
             "#f1b6da"
            ],
            [
             0.4,
             "#fde0ef"
            ],
            [
             0.5,
             "#f7f7f7"
            ],
            [
             0.6,
             "#e6f5d0"
            ],
            [
             0.7,
             "#b8e186"
            ],
            [
             0.8,
             "#7fbc41"
            ],
            [
             0.9,
             "#4d9221"
            ],
            [
             1,
             "#276419"
            ]
           ],
           "sequential": [
            [
             0,
             "#0d0887"
            ],
            [
             0.1111111111111111,
             "#46039f"
            ],
            [
             0.2222222222222222,
             "#7201a8"
            ],
            [
             0.3333333333333333,
             "#9c179e"
            ],
            [
             0.4444444444444444,
             "#bd3786"
            ],
            [
             0.5555555555555556,
             "#d8576b"
            ],
            [
             0.6666666666666666,
             "#ed7953"
            ],
            [
             0.7777777777777778,
             "#fb9f3a"
            ],
            [
             0.8888888888888888,
             "#fdca26"
            ],
            [
             1,
             "#f0f921"
            ]
           ],
           "sequentialminus": [
            [
             0,
             "#0d0887"
            ],
            [
             0.1111111111111111,
             "#46039f"
            ],
            [
             0.2222222222222222,
             "#7201a8"
            ],
            [
             0.3333333333333333,
             "#9c179e"
            ],
            [
             0.4444444444444444,
             "#bd3786"
            ],
            [
             0.5555555555555556,
             "#d8576b"
            ],
            [
             0.6666666666666666,
             "#ed7953"
            ],
            [
             0.7777777777777778,
             "#fb9f3a"
            ],
            [
             0.8888888888888888,
             "#fdca26"
            ],
            [
             1,
             "#f0f921"
            ]
           ]
          },
          "colorway": [
           "#636efa",
           "#EF553B",
           "#00cc96",
           "#ab63fa",
           "#FFA15A",
           "#19d3f3",
           "#FF6692",
           "#B6E880",
           "#FF97FF",
           "#FECB52"
          ],
          "font": {
           "color": "#2a3f5f"
          },
          "geo": {
           "bgcolor": "white",
           "lakecolor": "white",
           "landcolor": "white",
           "showlakes": true,
           "showland": true,
           "subunitcolor": "#C8D4E3"
          },
          "hoverlabel": {
           "align": "left"
          },
          "hovermode": "closest",
          "mapbox": {
           "style": "light"
          },
          "paper_bgcolor": "white",
          "plot_bgcolor": "white",
          "polar": {
           "angularaxis": {
            "gridcolor": "#EBF0F8",
            "linecolor": "#EBF0F8",
            "ticks": ""
           },
           "bgcolor": "white",
           "radialaxis": {
            "gridcolor": "#EBF0F8",
            "linecolor": "#EBF0F8",
            "ticks": ""
           }
          },
          "scene": {
           "xaxis": {
            "backgroundcolor": "white",
            "gridcolor": "#DFE8F3",
            "gridwidth": 2,
            "linecolor": "#EBF0F8",
            "showbackground": true,
            "ticks": "",
            "zerolinecolor": "#EBF0F8"
           },
           "yaxis": {
            "backgroundcolor": "white",
            "gridcolor": "#DFE8F3",
            "gridwidth": 2,
            "linecolor": "#EBF0F8",
            "showbackground": true,
            "ticks": "",
            "zerolinecolor": "#EBF0F8"
           },
           "zaxis": {
            "backgroundcolor": "white",
            "gridcolor": "#DFE8F3",
            "gridwidth": 2,
            "linecolor": "#EBF0F8",
            "showbackground": true,
            "ticks": "",
            "zerolinecolor": "#EBF0F8"
           }
          },
          "shapedefaults": {
           "line": {
            "color": "#2a3f5f"
           }
          },
          "ternary": {
           "aaxis": {
            "gridcolor": "#DFE8F3",
            "linecolor": "#A2B1C6",
            "ticks": ""
           },
           "baxis": {
            "gridcolor": "#DFE8F3",
            "linecolor": "#A2B1C6",
            "ticks": ""
           },
           "bgcolor": "white",
           "caxis": {
            "gridcolor": "#DFE8F3",
            "linecolor": "#A2B1C6",
            "ticks": ""
           }
          },
          "title": {
           "x": 0.05
          },
          "xaxis": {
           "automargin": true,
           "gridcolor": "#EBF0F8",
           "linecolor": "#EBF0F8",
           "ticks": "",
           "title": {
            "standoff": 15
           },
           "zerolinecolor": "#EBF0F8",
           "zerolinewidth": 2
          },
          "yaxis": {
           "automargin": true,
           "gridcolor": "#EBF0F8",
           "linecolor": "#EBF0F8",
           "ticks": "",
           "title": {
            "standoff": 15
           },
           "zerolinecolor": "#EBF0F8",
           "zerolinewidth": 2
          }
         }
        },
        "xaxis": {
         "anchor": "y",
         "domain": [
          0,
          1
         ],
         "showticklabels": true,
         "ticktext": [
          "0<br><span style='color:DarkGray'>(1, 946)<span>",
          "1<br><span style='color:DarkGray'>(6, 359)<span>",
          "2<br><span style='color:DarkGray'>(28, 130)<span>",
          "3<br><span style='color:DarkGray'>(117, 46)<span>",
          "4<br><span style='color:DarkGray'>(187, 18)<span>",
          "5<br><span style='color:DarkGray'>(290, 7)<span>",
          "6<br><span style='color:DarkGray'>(236, 3)<span>",
          "7<br><span style='color:DarkGray'>(78, 1)<span>"
         ],
         "tickvals": [
          0,
          1,
          2,
          3,
          4,
          5,
          6,
          7
         ],
         "title": {
          "text": "Length of shared initial commitments<br><span style='color:DarkGray'>(Number of groups, Group size)<span>"
         }
        },
        "yaxis": {
         "anchor": "x",
         "domain": [
          0,
          1
         ],
         "range": [
          0,
          1.05
         ],
         "showticklabels": true,
         "title": {
          "text": "Mean relative share"
         }
        }
       }
      },
      "text/html": [
       "<div>                            <div id=\"bbdae3e0-fb0e-4db5-b63c-570ec3cd1921\" class=\"plotly-graph-div\" style=\"height:525px; width:100%;\"></div>            <script type=\"text/javascript\">                require([\"plotly\"], function(Plotly) {                    window.PLOTLYENV=window.PLOTLYENV || {};                                    if (document.getElementById(\"bbdae3e0-fb0e-4db5-b63c-570ec3cd1921\")) {                    Plotly.newPlot(                        \"bbdae3e0-fb0e-4db5-b63c-570ec3cd1921\",                        [{\"alignmentgroup\":\"True\",\"hovertemplate\":\"len_shared_init_coms=%{x}<br>anything_goes=%{y}<extra></extra>\",\"legendgroup\":\"\",\"marker\":{\"color\":\"#29ae80\",\"pattern\":{\"shape\":\"\"}},\"name\":\"Groups of non-trivial full RE fixed points covering the entire sentence pool\",\"offsetgroup\":\"\",\"orientation\":\"v\",\"showlegend\":true,\"textposition\":\"auto\",\"texttemplate\":\"%{y}\",\"x\":[0,1,2,3,4,5,6,7],\"xaxis\":\"x\",\"y\":[0.97,0.94,0.6,0.24,0.08,0.02,0.0,0.0],\"yaxis\":\"y\",\"type\":\"bar\"}],                        {\"template\":{\"data\":{\"barpolar\":[{\"marker\":{\"line\":{\"color\":\"white\",\"width\":0.5},\"pattern\":{\"fillmode\":\"overlay\",\"size\":10,\"solidity\":0.2}},\"type\":\"barpolar\"}],\"bar\":[{\"error_x\":{\"color\":\"#2a3f5f\"},\"error_y\":{\"color\":\"#2a3f5f\"},\"marker\":{\"line\":{\"color\":\"white\",\"width\":0.5},\"pattern\":{\"fillmode\":\"overlay\",\"size\":10,\"solidity\":0.2}},\"type\":\"bar\"}],\"carpet\":[{\"aaxis\":{\"endlinecolor\":\"#2a3f5f\",\"gridcolor\":\"#C8D4E3\",\"linecolor\":\"#C8D4E3\",\"minorgridcolor\":\"#C8D4E3\",\"startlinecolor\":\"#2a3f5f\"},\"baxis\":{\"endlinecolor\":\"#2a3f5f\",\"gridcolor\":\"#C8D4E3\",\"linecolor\":\"#C8D4E3\",\"minorgridcolor\":\"#C8D4E3\",\"startlinecolor\":\"#2a3f5f\"},\"type\":\"carpet\"}],\"choropleth\":[{\"colorbar\":{\"outlinewidth\":0,\"ticks\":\"\"},\"type\":\"choropleth\"}],\"contourcarpet\":[{\"colorbar\":{\"outlinewidth\":0,\"ticks\":\"\"},\"type\":\"contourcarpet\"}],\"contour\":[{\"colorbar\":{\"outlinewidth\":0,\"ticks\":\"\"},\"colorscale\":[[0.0,\"#0d0887\"],[0.1111111111111111,\"#46039f\"],[0.2222222222222222,\"#7201a8\"],[0.3333333333333333,\"#9c179e\"],[0.4444444444444444,\"#bd3786\"],[0.5555555555555556,\"#d8576b\"],[0.6666666666666666,\"#ed7953\"],[0.7777777777777778,\"#fb9f3a\"],[0.8888888888888888,\"#fdca26\"],[1.0,\"#f0f921\"]],\"type\":\"contour\"}],\"heatmapgl\":[{\"colorbar\":{\"outlinewidth\":0,\"ticks\":\"\"},\"colorscale\":[[0.0,\"#0d0887\"],[0.1111111111111111,\"#46039f\"],[0.2222222222222222,\"#7201a8\"],[0.3333333333333333,\"#9c179e\"],[0.4444444444444444,\"#bd3786\"],[0.5555555555555556,\"#d8576b\"],[0.6666666666666666,\"#ed7953\"],[0.7777777777777778,\"#fb9f3a\"],[0.8888888888888888,\"#fdca26\"],[1.0,\"#f0f921\"]],\"type\":\"heatmapgl\"}],\"heatmap\":[{\"colorbar\":{\"outlinewidth\":0,\"ticks\":\"\"},\"colorscale\":[[0.0,\"#0d0887\"],[0.1111111111111111,\"#46039f\"],[0.2222222222222222,\"#7201a8\"],[0.3333333333333333,\"#9c179e\"],[0.4444444444444444,\"#bd3786\"],[0.5555555555555556,\"#d8576b\"],[0.6666666666666666,\"#ed7953\"],[0.7777777777777778,\"#fb9f3a\"],[0.8888888888888888,\"#fdca26\"],[1.0,\"#f0f921\"]],\"type\":\"heatmap\"}],\"histogram2dcontour\":[{\"colorbar\":{\"outlinewidth\":0,\"ticks\":\"\"},\"colorscale\":[[0.0,\"#0d0887\"],[0.1111111111111111,\"#46039f\"],[0.2222222222222222,\"#7201a8\"],[0.3333333333333333,\"#9c179e\"],[0.4444444444444444,\"#bd3786\"],[0.5555555555555556,\"#d8576b\"],[0.6666666666666666,\"#ed7953\"],[0.7777777777777778,\"#fb9f3a\"],[0.8888888888888888,\"#fdca26\"],[1.0,\"#f0f921\"]],\"type\":\"histogram2dcontour\"}],\"histogram2d\":[{\"colorbar\":{\"outlinewidth\":0,\"ticks\":\"\"},\"colorscale\":[[0.0,\"#0d0887\"],[0.1111111111111111,\"#46039f\"],[0.2222222222222222,\"#7201a8\"],[0.3333333333333333,\"#9c179e\"],[0.4444444444444444,\"#bd3786\"],[0.5555555555555556,\"#d8576b\"],[0.6666666666666666,\"#ed7953\"],[0.7777777777777778,\"#fb9f3a\"],[0.8888888888888888,\"#fdca26\"],[1.0,\"#f0f921\"]],\"type\":\"histogram2d\"}],\"histogram\":[{\"marker\":{\"pattern\":{\"fillmode\":\"overlay\",\"size\":10,\"solidity\":0.2}},\"type\":\"histogram\"}],\"mesh3d\":[{\"colorbar\":{\"outlinewidth\":0,\"ticks\":\"\"},\"type\":\"mesh3d\"}],\"parcoords\":[{\"line\":{\"colorbar\":{\"outlinewidth\":0,\"ticks\":\"\"}},\"type\":\"parcoords\"}],\"pie\":[{\"automargin\":true,\"type\":\"pie\"}],\"scatter3d\":[{\"line\":{\"colorbar\":{\"outlinewidth\":0,\"ticks\":\"\"}},\"marker\":{\"colorbar\":{\"outlinewidth\":0,\"ticks\":\"\"}},\"type\":\"scatter3d\"}],\"scattercarpet\":[{\"marker\":{\"colorbar\":{\"outlinewidth\":0,\"ticks\":\"\"}},\"type\":\"scattercarpet\"}],\"scattergeo\":[{\"marker\":{\"colorbar\":{\"outlinewidth\":0,\"ticks\":\"\"}},\"type\":\"scattergeo\"}],\"scattergl\":[{\"marker\":{\"colorbar\":{\"outlinewidth\":0,\"ticks\":\"\"}},\"type\":\"scattergl\"}],\"scattermapbox\":[{\"marker\":{\"colorbar\":{\"outlinewidth\":0,\"ticks\":\"\"}},\"type\":\"scattermapbox\"}],\"scatterpolargl\":[{\"marker\":{\"colorbar\":{\"outlinewidth\":0,\"ticks\":\"\"}},\"type\":\"scatterpolargl\"}],\"scatterpolar\":[{\"marker\":{\"colorbar\":{\"outlinewidth\":0,\"ticks\":\"\"}},\"type\":\"scatterpolar\"}],\"scatter\":[{\"fillpattern\":{\"fillmode\":\"overlay\",\"size\":10,\"solidity\":0.2},\"type\":\"scatter\"}],\"scatterternary\":[{\"marker\":{\"colorbar\":{\"outlinewidth\":0,\"ticks\":\"\"}},\"type\":\"scatterternary\"}],\"surface\":[{\"colorbar\":{\"outlinewidth\":0,\"ticks\":\"\"},\"colorscale\":[[0.0,\"#0d0887\"],[0.1111111111111111,\"#46039f\"],[0.2222222222222222,\"#7201a8\"],[0.3333333333333333,\"#9c179e\"],[0.4444444444444444,\"#bd3786\"],[0.5555555555555556,\"#d8576b\"],[0.6666666666666666,\"#ed7953\"],[0.7777777777777778,\"#fb9f3a\"],[0.8888888888888888,\"#fdca26\"],[1.0,\"#f0f921\"]],\"type\":\"surface\"}],\"table\":[{\"cells\":{\"fill\":{\"color\":\"#EBF0F8\"},\"line\":{\"color\":\"white\"}},\"header\":{\"fill\":{\"color\":\"#C8D4E3\"},\"line\":{\"color\":\"white\"}},\"type\":\"table\"}]},\"layout\":{\"annotationdefaults\":{\"arrowcolor\":\"#2a3f5f\",\"arrowhead\":0,\"arrowwidth\":1},\"autotypenumbers\":\"strict\",\"coloraxis\":{\"colorbar\":{\"outlinewidth\":0,\"ticks\":\"\"}},\"colorscale\":{\"diverging\":[[0,\"#8e0152\"],[0.1,\"#c51b7d\"],[0.2,\"#de77ae\"],[0.3,\"#f1b6da\"],[0.4,\"#fde0ef\"],[0.5,\"#f7f7f7\"],[0.6,\"#e6f5d0\"],[0.7,\"#b8e186\"],[0.8,\"#7fbc41\"],[0.9,\"#4d9221\"],[1,\"#276419\"]],\"sequential\":[[0.0,\"#0d0887\"],[0.1111111111111111,\"#46039f\"],[0.2222222222222222,\"#7201a8\"],[0.3333333333333333,\"#9c179e\"],[0.4444444444444444,\"#bd3786\"],[0.5555555555555556,\"#d8576b\"],[0.6666666666666666,\"#ed7953\"],[0.7777777777777778,\"#fb9f3a\"],[0.8888888888888888,\"#fdca26\"],[1.0,\"#f0f921\"]],\"sequentialminus\":[[0.0,\"#0d0887\"],[0.1111111111111111,\"#46039f\"],[0.2222222222222222,\"#7201a8\"],[0.3333333333333333,\"#9c179e\"],[0.4444444444444444,\"#bd3786\"],[0.5555555555555556,\"#d8576b\"],[0.6666666666666666,\"#ed7953\"],[0.7777777777777778,\"#fb9f3a\"],[0.8888888888888888,\"#fdca26\"],[1.0,\"#f0f921\"]]},\"colorway\":[\"#636efa\",\"#EF553B\",\"#00cc96\",\"#ab63fa\",\"#FFA15A\",\"#19d3f3\",\"#FF6692\",\"#B6E880\",\"#FF97FF\",\"#FECB52\"],\"font\":{\"color\":\"#2a3f5f\"},\"geo\":{\"bgcolor\":\"white\",\"lakecolor\":\"white\",\"landcolor\":\"white\",\"showlakes\":true,\"showland\":true,\"subunitcolor\":\"#C8D4E3\"},\"hoverlabel\":{\"align\":\"left\"},\"hovermode\":\"closest\",\"mapbox\":{\"style\":\"light\"},\"paper_bgcolor\":\"white\",\"plot_bgcolor\":\"white\",\"polar\":{\"angularaxis\":{\"gridcolor\":\"#EBF0F8\",\"linecolor\":\"#EBF0F8\",\"ticks\":\"\"},\"bgcolor\":\"white\",\"radialaxis\":{\"gridcolor\":\"#EBF0F8\",\"linecolor\":\"#EBF0F8\",\"ticks\":\"\"}},\"scene\":{\"xaxis\":{\"backgroundcolor\":\"white\",\"gridcolor\":\"#DFE8F3\",\"gridwidth\":2,\"linecolor\":\"#EBF0F8\",\"showbackground\":true,\"ticks\":\"\",\"zerolinecolor\":\"#EBF0F8\"},\"yaxis\":{\"backgroundcolor\":\"white\",\"gridcolor\":\"#DFE8F3\",\"gridwidth\":2,\"linecolor\":\"#EBF0F8\",\"showbackground\":true,\"ticks\":\"\",\"zerolinecolor\":\"#EBF0F8\"},\"zaxis\":{\"backgroundcolor\":\"white\",\"gridcolor\":\"#DFE8F3\",\"gridwidth\":2,\"linecolor\":\"#EBF0F8\",\"showbackground\":true,\"ticks\":\"\",\"zerolinecolor\":\"#EBF0F8\"}},\"shapedefaults\":{\"line\":{\"color\":\"#2a3f5f\"}},\"ternary\":{\"aaxis\":{\"gridcolor\":\"#DFE8F3\",\"linecolor\":\"#A2B1C6\",\"ticks\":\"\"},\"baxis\":{\"gridcolor\":\"#DFE8F3\",\"linecolor\":\"#A2B1C6\",\"ticks\":\"\"},\"bgcolor\":\"white\",\"caxis\":{\"gridcolor\":\"#DFE8F3\",\"linecolor\":\"#A2B1C6\",\"ticks\":\"\"}},\"title\":{\"x\":0.05},\"xaxis\":{\"automargin\":true,\"gridcolor\":\"#EBF0F8\",\"linecolor\":\"#EBF0F8\",\"ticks\":\"\",\"title\":{\"standoff\":15},\"zerolinecolor\":\"#EBF0F8\",\"zerolinewidth\":2},\"yaxis\":{\"automargin\":true,\"gridcolor\":\"#EBF0F8\",\"linecolor\":\"#EBF0F8\",\"ticks\":\"\",\"title\":{\"standoff\":15},\"zerolinecolor\":\"#EBF0F8\",\"zerolinewidth\":2}}},\"xaxis\":{\"anchor\":\"y\",\"domain\":[0.0,1.0],\"title\":{\"text\":\"Length of shared initial commitments<br><span style='color:DarkGray'>(Number of groups, Group size)<span>\"},\"showticklabels\":true,\"tickvals\":[0,1,2,3,4,5,6,7],\"ticktext\":[\"0<br><span style='color:DarkGray'>(1, 946)<span>\",\"1<br><span style='color:DarkGray'>(6, 359)<span>\",\"2<br><span style='color:DarkGray'>(28, 130)<span>\",\"3<br><span style='color:DarkGray'>(117, 46)<span>\",\"4<br><span style='color:DarkGray'>(187, 18)<span>\",\"5<br><span style='color:DarkGray'>(290, 7)<span>\",\"6<br><span style='color:DarkGray'>(236, 3)<span>\",\"7<br><span style='color:DarkGray'>(78, 1)<span>\"]},\"yaxis\":{\"anchor\":\"x\",\"domain\":[0.0,1.0],\"title\":{\"text\":\"Mean relative share\"},\"showticklabels\":true,\"range\":[0,1.05]},\"legend\":{\"tracegroupgap\":0,\"title\":{\"text\":\"\"},\"orientation\":\"h\",\"yanchor\":\"bottom\",\"y\":1.02,\"xanchor\":\"left\",\"x\":-0.005},\"margin\":{\"t\":60,\"b\":110},\"barmode\":\"group\"},                        {\"responsive\": true}                    ).then(function(){\n",
       "                            \n",
       "var gd = document.getElementById('bbdae3e0-fb0e-4db5-b63c-570ec3cd1921');\n",
       "var x = new MutationObserver(function (mutations, observer) {{\n",
       "        var display = window.getComputedStyle(gd).display;\n",
       "        if (!display || display === 'none') {{\n",
       "            console.log([gd, 'removed!']);\n",
       "            Plotly.purge(gd);\n",
       "            observer.disconnect();\n",
       "        }}\n",
       "}});\n",
       "\n",
       "// Listen for the removal of the full notebook cells\n",
       "var notebookContainer = gd.closest('#notebook-container');\n",
       "if (notebookContainer) {{\n",
       "    x.observe(notebookContainer, {childList: true});\n",
       "}}\n",
       "\n",
       "// Listen for the clearing of the current output cell\n",
       "var outputEl = gd.closest('.output');\n",
       "if (outputEl) {{\n",
       "    x.observe(outputEl, {childList: true});\n",
       "}}\n",
       "\n",
       "                        })                };                });            </script>        </div>"
      ]
     },
     "metadata": {},
     "output_type": "display_data"
    },
    {
     "name": "stdout",
     "output_type": "stream",
     "text": [
      "(0.7, 0.2, 0.1)\n"
     ]
    },
    {
     "data": {
      "application/vnd.plotly.v1+json": {
       "config": {
        "plotlyServerURL": "https://plot.ly"
       },
       "data": [
        {
         "alignmentgroup": "True",
         "hovertemplate": "len_shared_init_coms=%{x}<br>anything_goes=%{y}<extra></extra>",
         "legendgroup": "",
         "marker": {
          "color": "#29ae80",
          "pattern": {
           "shape": ""
          }
         },
         "name": "Groups of non-trivial full RE fixed points covering the entire sentence pool",
         "offsetgroup": "",
         "orientation": "v",
         "showlegend": true,
         "textposition": "auto",
         "texttemplate": "%{y}",
         "type": "bar",
         "x": [
          0,
          1,
          2,
          3,
          4,
          5,
          6,
          7
         ],
         "xaxis": "x",
         "y": [
          0.97,
          0.96,
          0.62,
          0.33,
          0.12,
          0.05,
          0.01,
          0
         ],
         "yaxis": "y"
        }
       ],
       "layout": {
        "barmode": "group",
        "legend": {
         "orientation": "h",
         "title": {
          "text": ""
         },
         "tracegroupgap": 0,
         "x": -0.005,
         "xanchor": "left",
         "y": 1.02,
         "yanchor": "bottom"
        },
        "margin": {
         "b": 110,
         "t": 60
        },
        "template": {
         "data": {
          "bar": [
           {
            "error_x": {
             "color": "#2a3f5f"
            },
            "error_y": {
             "color": "#2a3f5f"
            },
            "marker": {
             "line": {
              "color": "white",
              "width": 0.5
             },
             "pattern": {
              "fillmode": "overlay",
              "size": 10,
              "solidity": 0.2
             }
            },
            "type": "bar"
           }
          ],
          "barpolar": [
           {
            "marker": {
             "line": {
              "color": "white",
              "width": 0.5
             },
             "pattern": {
              "fillmode": "overlay",
              "size": 10,
              "solidity": 0.2
             }
            },
            "type": "barpolar"
           }
          ],
          "carpet": [
           {
            "aaxis": {
             "endlinecolor": "#2a3f5f",
             "gridcolor": "#C8D4E3",
             "linecolor": "#C8D4E3",
             "minorgridcolor": "#C8D4E3",
             "startlinecolor": "#2a3f5f"
            },
            "baxis": {
             "endlinecolor": "#2a3f5f",
             "gridcolor": "#C8D4E3",
             "linecolor": "#C8D4E3",
             "minorgridcolor": "#C8D4E3",
             "startlinecolor": "#2a3f5f"
            },
            "type": "carpet"
           }
          ],
          "choropleth": [
           {
            "colorbar": {
             "outlinewidth": 0,
             "ticks": ""
            },
            "type": "choropleth"
           }
          ],
          "contour": [
           {
            "colorbar": {
             "outlinewidth": 0,
             "ticks": ""
            },
            "colorscale": [
             [
              0,
              "#0d0887"
             ],
             [
              0.1111111111111111,
              "#46039f"
             ],
             [
              0.2222222222222222,
              "#7201a8"
             ],
             [
              0.3333333333333333,
              "#9c179e"
             ],
             [
              0.4444444444444444,
              "#bd3786"
             ],
             [
              0.5555555555555556,
              "#d8576b"
             ],
             [
              0.6666666666666666,
              "#ed7953"
             ],
             [
              0.7777777777777778,
              "#fb9f3a"
             ],
             [
              0.8888888888888888,
              "#fdca26"
             ],
             [
              1,
              "#f0f921"
             ]
            ],
            "type": "contour"
           }
          ],
          "contourcarpet": [
           {
            "colorbar": {
             "outlinewidth": 0,
             "ticks": ""
            },
            "type": "contourcarpet"
           }
          ],
          "heatmap": [
           {
            "colorbar": {
             "outlinewidth": 0,
             "ticks": ""
            },
            "colorscale": [
             [
              0,
              "#0d0887"
             ],
             [
              0.1111111111111111,
              "#46039f"
             ],
             [
              0.2222222222222222,
              "#7201a8"
             ],
             [
              0.3333333333333333,
              "#9c179e"
             ],
             [
              0.4444444444444444,
              "#bd3786"
             ],
             [
              0.5555555555555556,
              "#d8576b"
             ],
             [
              0.6666666666666666,
              "#ed7953"
             ],
             [
              0.7777777777777778,
              "#fb9f3a"
             ],
             [
              0.8888888888888888,
              "#fdca26"
             ],
             [
              1,
              "#f0f921"
             ]
            ],
            "type": "heatmap"
           }
          ],
          "heatmapgl": [
           {
            "colorbar": {
             "outlinewidth": 0,
             "ticks": ""
            },
            "colorscale": [
             [
              0,
              "#0d0887"
             ],
             [
              0.1111111111111111,
              "#46039f"
             ],
             [
              0.2222222222222222,
              "#7201a8"
             ],
             [
              0.3333333333333333,
              "#9c179e"
             ],
             [
              0.4444444444444444,
              "#bd3786"
             ],
             [
              0.5555555555555556,
              "#d8576b"
             ],
             [
              0.6666666666666666,
              "#ed7953"
             ],
             [
              0.7777777777777778,
              "#fb9f3a"
             ],
             [
              0.8888888888888888,
              "#fdca26"
             ],
             [
              1,
              "#f0f921"
             ]
            ],
            "type": "heatmapgl"
           }
          ],
          "histogram": [
           {
            "marker": {
             "pattern": {
              "fillmode": "overlay",
              "size": 10,
              "solidity": 0.2
             }
            },
            "type": "histogram"
           }
          ],
          "histogram2d": [
           {
            "colorbar": {
             "outlinewidth": 0,
             "ticks": ""
            },
            "colorscale": [
             [
              0,
              "#0d0887"
             ],
             [
              0.1111111111111111,
              "#46039f"
             ],
             [
              0.2222222222222222,
              "#7201a8"
             ],
             [
              0.3333333333333333,
              "#9c179e"
             ],
             [
              0.4444444444444444,
              "#bd3786"
             ],
             [
              0.5555555555555556,
              "#d8576b"
             ],
             [
              0.6666666666666666,
              "#ed7953"
             ],
             [
              0.7777777777777778,
              "#fb9f3a"
             ],
             [
              0.8888888888888888,
              "#fdca26"
             ],
             [
              1,
              "#f0f921"
             ]
            ],
            "type": "histogram2d"
           }
          ],
          "histogram2dcontour": [
           {
            "colorbar": {
             "outlinewidth": 0,
             "ticks": ""
            },
            "colorscale": [
             [
              0,
              "#0d0887"
             ],
             [
              0.1111111111111111,
              "#46039f"
             ],
             [
              0.2222222222222222,
              "#7201a8"
             ],
             [
              0.3333333333333333,
              "#9c179e"
             ],
             [
              0.4444444444444444,
              "#bd3786"
             ],
             [
              0.5555555555555556,
              "#d8576b"
             ],
             [
              0.6666666666666666,
              "#ed7953"
             ],
             [
              0.7777777777777778,
              "#fb9f3a"
             ],
             [
              0.8888888888888888,
              "#fdca26"
             ],
             [
              1,
              "#f0f921"
             ]
            ],
            "type": "histogram2dcontour"
           }
          ],
          "mesh3d": [
           {
            "colorbar": {
             "outlinewidth": 0,
             "ticks": ""
            },
            "type": "mesh3d"
           }
          ],
          "parcoords": [
           {
            "line": {
             "colorbar": {
              "outlinewidth": 0,
              "ticks": ""
             }
            },
            "type": "parcoords"
           }
          ],
          "pie": [
           {
            "automargin": true,
            "type": "pie"
           }
          ],
          "scatter": [
           {
            "fillpattern": {
             "fillmode": "overlay",
             "size": 10,
             "solidity": 0.2
            },
            "type": "scatter"
           }
          ],
          "scatter3d": [
           {
            "line": {
             "colorbar": {
              "outlinewidth": 0,
              "ticks": ""
             }
            },
            "marker": {
             "colorbar": {
              "outlinewidth": 0,
              "ticks": ""
             }
            },
            "type": "scatter3d"
           }
          ],
          "scattercarpet": [
           {
            "marker": {
             "colorbar": {
              "outlinewidth": 0,
              "ticks": ""
             }
            },
            "type": "scattercarpet"
           }
          ],
          "scattergeo": [
           {
            "marker": {
             "colorbar": {
              "outlinewidth": 0,
              "ticks": ""
             }
            },
            "type": "scattergeo"
           }
          ],
          "scattergl": [
           {
            "marker": {
             "colorbar": {
              "outlinewidth": 0,
              "ticks": ""
             }
            },
            "type": "scattergl"
           }
          ],
          "scattermapbox": [
           {
            "marker": {
             "colorbar": {
              "outlinewidth": 0,
              "ticks": ""
             }
            },
            "type": "scattermapbox"
           }
          ],
          "scatterpolar": [
           {
            "marker": {
             "colorbar": {
              "outlinewidth": 0,
              "ticks": ""
             }
            },
            "type": "scatterpolar"
           }
          ],
          "scatterpolargl": [
           {
            "marker": {
             "colorbar": {
              "outlinewidth": 0,
              "ticks": ""
             }
            },
            "type": "scatterpolargl"
           }
          ],
          "scatterternary": [
           {
            "marker": {
             "colorbar": {
              "outlinewidth": 0,
              "ticks": ""
             }
            },
            "type": "scatterternary"
           }
          ],
          "surface": [
           {
            "colorbar": {
             "outlinewidth": 0,
             "ticks": ""
            },
            "colorscale": [
             [
              0,
              "#0d0887"
             ],
             [
              0.1111111111111111,
              "#46039f"
             ],
             [
              0.2222222222222222,
              "#7201a8"
             ],
             [
              0.3333333333333333,
              "#9c179e"
             ],
             [
              0.4444444444444444,
              "#bd3786"
             ],
             [
              0.5555555555555556,
              "#d8576b"
             ],
             [
              0.6666666666666666,
              "#ed7953"
             ],
             [
              0.7777777777777778,
              "#fb9f3a"
             ],
             [
              0.8888888888888888,
              "#fdca26"
             ],
             [
              1,
              "#f0f921"
             ]
            ],
            "type": "surface"
           }
          ],
          "table": [
           {
            "cells": {
             "fill": {
              "color": "#EBF0F8"
             },
             "line": {
              "color": "white"
             }
            },
            "header": {
             "fill": {
              "color": "#C8D4E3"
             },
             "line": {
              "color": "white"
             }
            },
            "type": "table"
           }
          ]
         },
         "layout": {
          "annotationdefaults": {
           "arrowcolor": "#2a3f5f",
           "arrowhead": 0,
           "arrowwidth": 1
          },
          "autotypenumbers": "strict",
          "coloraxis": {
           "colorbar": {
            "outlinewidth": 0,
            "ticks": ""
           }
          },
          "colorscale": {
           "diverging": [
            [
             0,
             "#8e0152"
            ],
            [
             0.1,
             "#c51b7d"
            ],
            [
             0.2,
             "#de77ae"
            ],
            [
             0.3,
             "#f1b6da"
            ],
            [
             0.4,
             "#fde0ef"
            ],
            [
             0.5,
             "#f7f7f7"
            ],
            [
             0.6,
             "#e6f5d0"
            ],
            [
             0.7,
             "#b8e186"
            ],
            [
             0.8,
             "#7fbc41"
            ],
            [
             0.9,
             "#4d9221"
            ],
            [
             1,
             "#276419"
            ]
           ],
           "sequential": [
            [
             0,
             "#0d0887"
            ],
            [
             0.1111111111111111,
             "#46039f"
            ],
            [
             0.2222222222222222,
             "#7201a8"
            ],
            [
             0.3333333333333333,
             "#9c179e"
            ],
            [
             0.4444444444444444,
             "#bd3786"
            ],
            [
             0.5555555555555556,
             "#d8576b"
            ],
            [
             0.6666666666666666,
             "#ed7953"
            ],
            [
             0.7777777777777778,
             "#fb9f3a"
            ],
            [
             0.8888888888888888,
             "#fdca26"
            ],
            [
             1,
             "#f0f921"
            ]
           ],
           "sequentialminus": [
            [
             0,
             "#0d0887"
            ],
            [
             0.1111111111111111,
             "#46039f"
            ],
            [
             0.2222222222222222,
             "#7201a8"
            ],
            [
             0.3333333333333333,
             "#9c179e"
            ],
            [
             0.4444444444444444,
             "#bd3786"
            ],
            [
             0.5555555555555556,
             "#d8576b"
            ],
            [
             0.6666666666666666,
             "#ed7953"
            ],
            [
             0.7777777777777778,
             "#fb9f3a"
            ],
            [
             0.8888888888888888,
             "#fdca26"
            ],
            [
             1,
             "#f0f921"
            ]
           ]
          },
          "colorway": [
           "#636efa",
           "#EF553B",
           "#00cc96",
           "#ab63fa",
           "#FFA15A",
           "#19d3f3",
           "#FF6692",
           "#B6E880",
           "#FF97FF",
           "#FECB52"
          ],
          "font": {
           "color": "#2a3f5f"
          },
          "geo": {
           "bgcolor": "white",
           "lakecolor": "white",
           "landcolor": "white",
           "showlakes": true,
           "showland": true,
           "subunitcolor": "#C8D4E3"
          },
          "hoverlabel": {
           "align": "left"
          },
          "hovermode": "closest",
          "mapbox": {
           "style": "light"
          },
          "paper_bgcolor": "white",
          "plot_bgcolor": "white",
          "polar": {
           "angularaxis": {
            "gridcolor": "#EBF0F8",
            "linecolor": "#EBF0F8",
            "ticks": ""
           },
           "bgcolor": "white",
           "radialaxis": {
            "gridcolor": "#EBF0F8",
            "linecolor": "#EBF0F8",
            "ticks": ""
           }
          },
          "scene": {
           "xaxis": {
            "backgroundcolor": "white",
            "gridcolor": "#DFE8F3",
            "gridwidth": 2,
            "linecolor": "#EBF0F8",
            "showbackground": true,
            "ticks": "",
            "zerolinecolor": "#EBF0F8"
           },
           "yaxis": {
            "backgroundcolor": "white",
            "gridcolor": "#DFE8F3",
            "gridwidth": 2,
            "linecolor": "#EBF0F8",
            "showbackground": true,
            "ticks": "",
            "zerolinecolor": "#EBF0F8"
           },
           "zaxis": {
            "backgroundcolor": "white",
            "gridcolor": "#DFE8F3",
            "gridwidth": 2,
            "linecolor": "#EBF0F8",
            "showbackground": true,
            "ticks": "",
            "zerolinecolor": "#EBF0F8"
           }
          },
          "shapedefaults": {
           "line": {
            "color": "#2a3f5f"
           }
          },
          "ternary": {
           "aaxis": {
            "gridcolor": "#DFE8F3",
            "linecolor": "#A2B1C6",
            "ticks": ""
           },
           "baxis": {
            "gridcolor": "#DFE8F3",
            "linecolor": "#A2B1C6",
            "ticks": ""
           },
           "bgcolor": "white",
           "caxis": {
            "gridcolor": "#DFE8F3",
            "linecolor": "#A2B1C6",
            "ticks": ""
           }
          },
          "title": {
           "x": 0.05
          },
          "xaxis": {
           "automargin": true,
           "gridcolor": "#EBF0F8",
           "linecolor": "#EBF0F8",
           "ticks": "",
           "title": {
            "standoff": 15
           },
           "zerolinecolor": "#EBF0F8",
           "zerolinewidth": 2
          },
          "yaxis": {
           "automargin": true,
           "gridcolor": "#EBF0F8",
           "linecolor": "#EBF0F8",
           "ticks": "",
           "title": {
            "standoff": 15
           },
           "zerolinecolor": "#EBF0F8",
           "zerolinewidth": 2
          }
         }
        },
        "xaxis": {
         "anchor": "y",
         "domain": [
          0,
          1
         ],
         "showticklabels": true,
         "ticktext": [
          "0<br><span style='color:DarkGray'>(1, 536)<span>",
          "1<br><span style='color:DarkGray'>(6, 187)<span>",
          "2<br><span style='color:DarkGray'>(23, 81)<span>",
          "3<br><span style='color:DarkGray'>(59, 31)<span>",
          "4<br><span style='color:DarkGray'>(137, 13)<span>",
          "5<br><span style='color:DarkGray'>(165, 6)<span>",
          "6<br><span style='color:DarkGray'>(128, 3)<span>",
          "7<br><span style='color:DarkGray'>(54, 1)<span>"
         ],
         "tickvals": [
          0,
          1,
          2,
          3,
          4,
          5,
          6,
          7
         ],
         "title": {
          "text": "Length of shared initial commitments<br><span style='color:DarkGray'>(Number of groups, Group size)<span>"
         }
        },
        "yaxis": {
         "anchor": "x",
         "domain": [
          0,
          1
         ],
         "range": [
          0,
          1.05
         ],
         "showticklabels": true,
         "title": {
          "text": "Mean relative share"
         }
        }
       }
      },
      "text/html": [
       "<div>                            <div id=\"aebbe0cb-f34a-4c88-a0bd-4e33378f2238\" class=\"plotly-graph-div\" style=\"height:525px; width:100%;\"></div>            <script type=\"text/javascript\">                require([\"plotly\"], function(Plotly) {                    window.PLOTLYENV=window.PLOTLYENV || {};                                    if (document.getElementById(\"aebbe0cb-f34a-4c88-a0bd-4e33378f2238\")) {                    Plotly.newPlot(                        \"aebbe0cb-f34a-4c88-a0bd-4e33378f2238\",                        [{\"alignmentgroup\":\"True\",\"hovertemplate\":\"len_shared_init_coms=%{x}<br>anything_goes=%{y}<extra></extra>\",\"legendgroup\":\"\",\"marker\":{\"color\":\"#29ae80\",\"pattern\":{\"shape\":\"\"}},\"name\":\"Groups of non-trivial full RE fixed points covering the entire sentence pool\",\"offsetgroup\":\"\",\"orientation\":\"v\",\"showlegend\":true,\"textposition\":\"auto\",\"texttemplate\":\"%{y}\",\"x\":[0,1,2,3,4,5,6,7],\"xaxis\":\"x\",\"y\":[0.97,0.96,0.62,0.33,0.12,0.05,0.01,0.0],\"yaxis\":\"y\",\"type\":\"bar\"}],                        {\"template\":{\"data\":{\"barpolar\":[{\"marker\":{\"line\":{\"color\":\"white\",\"width\":0.5},\"pattern\":{\"fillmode\":\"overlay\",\"size\":10,\"solidity\":0.2}},\"type\":\"barpolar\"}],\"bar\":[{\"error_x\":{\"color\":\"#2a3f5f\"},\"error_y\":{\"color\":\"#2a3f5f\"},\"marker\":{\"line\":{\"color\":\"white\",\"width\":0.5},\"pattern\":{\"fillmode\":\"overlay\",\"size\":10,\"solidity\":0.2}},\"type\":\"bar\"}],\"carpet\":[{\"aaxis\":{\"endlinecolor\":\"#2a3f5f\",\"gridcolor\":\"#C8D4E3\",\"linecolor\":\"#C8D4E3\",\"minorgridcolor\":\"#C8D4E3\",\"startlinecolor\":\"#2a3f5f\"},\"baxis\":{\"endlinecolor\":\"#2a3f5f\",\"gridcolor\":\"#C8D4E3\",\"linecolor\":\"#C8D4E3\",\"minorgridcolor\":\"#C8D4E3\",\"startlinecolor\":\"#2a3f5f\"},\"type\":\"carpet\"}],\"choropleth\":[{\"colorbar\":{\"outlinewidth\":0,\"ticks\":\"\"},\"type\":\"choropleth\"}],\"contourcarpet\":[{\"colorbar\":{\"outlinewidth\":0,\"ticks\":\"\"},\"type\":\"contourcarpet\"}],\"contour\":[{\"colorbar\":{\"outlinewidth\":0,\"ticks\":\"\"},\"colorscale\":[[0.0,\"#0d0887\"],[0.1111111111111111,\"#46039f\"],[0.2222222222222222,\"#7201a8\"],[0.3333333333333333,\"#9c179e\"],[0.4444444444444444,\"#bd3786\"],[0.5555555555555556,\"#d8576b\"],[0.6666666666666666,\"#ed7953\"],[0.7777777777777778,\"#fb9f3a\"],[0.8888888888888888,\"#fdca26\"],[1.0,\"#f0f921\"]],\"type\":\"contour\"}],\"heatmapgl\":[{\"colorbar\":{\"outlinewidth\":0,\"ticks\":\"\"},\"colorscale\":[[0.0,\"#0d0887\"],[0.1111111111111111,\"#46039f\"],[0.2222222222222222,\"#7201a8\"],[0.3333333333333333,\"#9c179e\"],[0.4444444444444444,\"#bd3786\"],[0.5555555555555556,\"#d8576b\"],[0.6666666666666666,\"#ed7953\"],[0.7777777777777778,\"#fb9f3a\"],[0.8888888888888888,\"#fdca26\"],[1.0,\"#f0f921\"]],\"type\":\"heatmapgl\"}],\"heatmap\":[{\"colorbar\":{\"outlinewidth\":0,\"ticks\":\"\"},\"colorscale\":[[0.0,\"#0d0887\"],[0.1111111111111111,\"#46039f\"],[0.2222222222222222,\"#7201a8\"],[0.3333333333333333,\"#9c179e\"],[0.4444444444444444,\"#bd3786\"],[0.5555555555555556,\"#d8576b\"],[0.6666666666666666,\"#ed7953\"],[0.7777777777777778,\"#fb9f3a\"],[0.8888888888888888,\"#fdca26\"],[1.0,\"#f0f921\"]],\"type\":\"heatmap\"}],\"histogram2dcontour\":[{\"colorbar\":{\"outlinewidth\":0,\"ticks\":\"\"},\"colorscale\":[[0.0,\"#0d0887\"],[0.1111111111111111,\"#46039f\"],[0.2222222222222222,\"#7201a8\"],[0.3333333333333333,\"#9c179e\"],[0.4444444444444444,\"#bd3786\"],[0.5555555555555556,\"#d8576b\"],[0.6666666666666666,\"#ed7953\"],[0.7777777777777778,\"#fb9f3a\"],[0.8888888888888888,\"#fdca26\"],[1.0,\"#f0f921\"]],\"type\":\"histogram2dcontour\"}],\"histogram2d\":[{\"colorbar\":{\"outlinewidth\":0,\"ticks\":\"\"},\"colorscale\":[[0.0,\"#0d0887\"],[0.1111111111111111,\"#46039f\"],[0.2222222222222222,\"#7201a8\"],[0.3333333333333333,\"#9c179e\"],[0.4444444444444444,\"#bd3786\"],[0.5555555555555556,\"#d8576b\"],[0.6666666666666666,\"#ed7953\"],[0.7777777777777778,\"#fb9f3a\"],[0.8888888888888888,\"#fdca26\"],[1.0,\"#f0f921\"]],\"type\":\"histogram2d\"}],\"histogram\":[{\"marker\":{\"pattern\":{\"fillmode\":\"overlay\",\"size\":10,\"solidity\":0.2}},\"type\":\"histogram\"}],\"mesh3d\":[{\"colorbar\":{\"outlinewidth\":0,\"ticks\":\"\"},\"type\":\"mesh3d\"}],\"parcoords\":[{\"line\":{\"colorbar\":{\"outlinewidth\":0,\"ticks\":\"\"}},\"type\":\"parcoords\"}],\"pie\":[{\"automargin\":true,\"type\":\"pie\"}],\"scatter3d\":[{\"line\":{\"colorbar\":{\"outlinewidth\":0,\"ticks\":\"\"}},\"marker\":{\"colorbar\":{\"outlinewidth\":0,\"ticks\":\"\"}},\"type\":\"scatter3d\"}],\"scattercarpet\":[{\"marker\":{\"colorbar\":{\"outlinewidth\":0,\"ticks\":\"\"}},\"type\":\"scattercarpet\"}],\"scattergeo\":[{\"marker\":{\"colorbar\":{\"outlinewidth\":0,\"ticks\":\"\"}},\"type\":\"scattergeo\"}],\"scattergl\":[{\"marker\":{\"colorbar\":{\"outlinewidth\":0,\"ticks\":\"\"}},\"type\":\"scattergl\"}],\"scattermapbox\":[{\"marker\":{\"colorbar\":{\"outlinewidth\":0,\"ticks\":\"\"}},\"type\":\"scattermapbox\"}],\"scatterpolargl\":[{\"marker\":{\"colorbar\":{\"outlinewidth\":0,\"ticks\":\"\"}},\"type\":\"scatterpolargl\"}],\"scatterpolar\":[{\"marker\":{\"colorbar\":{\"outlinewidth\":0,\"ticks\":\"\"}},\"type\":\"scatterpolar\"}],\"scatter\":[{\"fillpattern\":{\"fillmode\":\"overlay\",\"size\":10,\"solidity\":0.2},\"type\":\"scatter\"}],\"scatterternary\":[{\"marker\":{\"colorbar\":{\"outlinewidth\":0,\"ticks\":\"\"}},\"type\":\"scatterternary\"}],\"surface\":[{\"colorbar\":{\"outlinewidth\":0,\"ticks\":\"\"},\"colorscale\":[[0.0,\"#0d0887\"],[0.1111111111111111,\"#46039f\"],[0.2222222222222222,\"#7201a8\"],[0.3333333333333333,\"#9c179e\"],[0.4444444444444444,\"#bd3786\"],[0.5555555555555556,\"#d8576b\"],[0.6666666666666666,\"#ed7953\"],[0.7777777777777778,\"#fb9f3a\"],[0.8888888888888888,\"#fdca26\"],[1.0,\"#f0f921\"]],\"type\":\"surface\"}],\"table\":[{\"cells\":{\"fill\":{\"color\":\"#EBF0F8\"},\"line\":{\"color\":\"white\"}},\"header\":{\"fill\":{\"color\":\"#C8D4E3\"},\"line\":{\"color\":\"white\"}},\"type\":\"table\"}]},\"layout\":{\"annotationdefaults\":{\"arrowcolor\":\"#2a3f5f\",\"arrowhead\":0,\"arrowwidth\":1},\"autotypenumbers\":\"strict\",\"coloraxis\":{\"colorbar\":{\"outlinewidth\":0,\"ticks\":\"\"}},\"colorscale\":{\"diverging\":[[0,\"#8e0152\"],[0.1,\"#c51b7d\"],[0.2,\"#de77ae\"],[0.3,\"#f1b6da\"],[0.4,\"#fde0ef\"],[0.5,\"#f7f7f7\"],[0.6,\"#e6f5d0\"],[0.7,\"#b8e186\"],[0.8,\"#7fbc41\"],[0.9,\"#4d9221\"],[1,\"#276419\"]],\"sequential\":[[0.0,\"#0d0887\"],[0.1111111111111111,\"#46039f\"],[0.2222222222222222,\"#7201a8\"],[0.3333333333333333,\"#9c179e\"],[0.4444444444444444,\"#bd3786\"],[0.5555555555555556,\"#d8576b\"],[0.6666666666666666,\"#ed7953\"],[0.7777777777777778,\"#fb9f3a\"],[0.8888888888888888,\"#fdca26\"],[1.0,\"#f0f921\"]],\"sequentialminus\":[[0.0,\"#0d0887\"],[0.1111111111111111,\"#46039f\"],[0.2222222222222222,\"#7201a8\"],[0.3333333333333333,\"#9c179e\"],[0.4444444444444444,\"#bd3786\"],[0.5555555555555556,\"#d8576b\"],[0.6666666666666666,\"#ed7953\"],[0.7777777777777778,\"#fb9f3a\"],[0.8888888888888888,\"#fdca26\"],[1.0,\"#f0f921\"]]},\"colorway\":[\"#636efa\",\"#EF553B\",\"#00cc96\",\"#ab63fa\",\"#FFA15A\",\"#19d3f3\",\"#FF6692\",\"#B6E880\",\"#FF97FF\",\"#FECB52\"],\"font\":{\"color\":\"#2a3f5f\"},\"geo\":{\"bgcolor\":\"white\",\"lakecolor\":\"white\",\"landcolor\":\"white\",\"showlakes\":true,\"showland\":true,\"subunitcolor\":\"#C8D4E3\"},\"hoverlabel\":{\"align\":\"left\"},\"hovermode\":\"closest\",\"mapbox\":{\"style\":\"light\"},\"paper_bgcolor\":\"white\",\"plot_bgcolor\":\"white\",\"polar\":{\"angularaxis\":{\"gridcolor\":\"#EBF0F8\",\"linecolor\":\"#EBF0F8\",\"ticks\":\"\"},\"bgcolor\":\"white\",\"radialaxis\":{\"gridcolor\":\"#EBF0F8\",\"linecolor\":\"#EBF0F8\",\"ticks\":\"\"}},\"scene\":{\"xaxis\":{\"backgroundcolor\":\"white\",\"gridcolor\":\"#DFE8F3\",\"gridwidth\":2,\"linecolor\":\"#EBF0F8\",\"showbackground\":true,\"ticks\":\"\",\"zerolinecolor\":\"#EBF0F8\"},\"yaxis\":{\"backgroundcolor\":\"white\",\"gridcolor\":\"#DFE8F3\",\"gridwidth\":2,\"linecolor\":\"#EBF0F8\",\"showbackground\":true,\"ticks\":\"\",\"zerolinecolor\":\"#EBF0F8\"},\"zaxis\":{\"backgroundcolor\":\"white\",\"gridcolor\":\"#DFE8F3\",\"gridwidth\":2,\"linecolor\":\"#EBF0F8\",\"showbackground\":true,\"ticks\":\"\",\"zerolinecolor\":\"#EBF0F8\"}},\"shapedefaults\":{\"line\":{\"color\":\"#2a3f5f\"}},\"ternary\":{\"aaxis\":{\"gridcolor\":\"#DFE8F3\",\"linecolor\":\"#A2B1C6\",\"ticks\":\"\"},\"baxis\":{\"gridcolor\":\"#DFE8F3\",\"linecolor\":\"#A2B1C6\",\"ticks\":\"\"},\"bgcolor\":\"white\",\"caxis\":{\"gridcolor\":\"#DFE8F3\",\"linecolor\":\"#A2B1C6\",\"ticks\":\"\"}},\"title\":{\"x\":0.05},\"xaxis\":{\"automargin\":true,\"gridcolor\":\"#EBF0F8\",\"linecolor\":\"#EBF0F8\",\"ticks\":\"\",\"title\":{\"standoff\":15},\"zerolinecolor\":\"#EBF0F8\",\"zerolinewidth\":2},\"yaxis\":{\"automargin\":true,\"gridcolor\":\"#EBF0F8\",\"linecolor\":\"#EBF0F8\",\"ticks\":\"\",\"title\":{\"standoff\":15},\"zerolinecolor\":\"#EBF0F8\",\"zerolinewidth\":2}}},\"xaxis\":{\"anchor\":\"y\",\"domain\":[0.0,1.0],\"title\":{\"text\":\"Length of shared initial commitments<br><span style='color:DarkGray'>(Number of groups, Group size)<span>\"},\"showticklabels\":true,\"tickvals\":[0,1,2,3,4,5,6,7],\"ticktext\":[\"0<br><span style='color:DarkGray'>(1, 536)<span>\",\"1<br><span style='color:DarkGray'>(6, 187)<span>\",\"2<br><span style='color:DarkGray'>(23, 81)<span>\",\"3<br><span style='color:DarkGray'>(59, 31)<span>\",\"4<br><span style='color:DarkGray'>(137, 13)<span>\",\"5<br><span style='color:DarkGray'>(165, 6)<span>\",\"6<br><span style='color:DarkGray'>(128, 3)<span>\",\"7<br><span style='color:DarkGray'>(54, 1)<span>\"]},\"yaxis\":{\"anchor\":\"x\",\"domain\":[0.0,1.0],\"title\":{\"text\":\"Mean relative share\"},\"showticklabels\":true,\"range\":[0,1.05]},\"legend\":{\"tracegroupgap\":0,\"title\":{\"text\":\"\"},\"orientation\":\"h\",\"yanchor\":\"bottom\",\"y\":1.02,\"xanchor\":\"left\",\"x\":-0.005},\"margin\":{\"t\":60,\"b\":110},\"barmode\":\"group\"},                        {\"responsive\": true}                    ).then(function(){\n",
       "                            \n",
       "var gd = document.getElementById('aebbe0cb-f34a-4c88-a0bd-4e33378f2238');\n",
       "var x = new MutationObserver(function (mutations, observer) {{\n",
       "        var display = window.getComputedStyle(gd).display;\n",
       "        if (!display || display === 'none') {{\n",
       "            console.log([gd, 'removed!']);\n",
       "            Plotly.purge(gd);\n",
       "            observer.disconnect();\n",
       "        }}\n",
       "}});\n",
       "\n",
       "// Listen for the removal of the full notebook cells\n",
       "var notebookContainer = gd.closest('#notebook-container');\n",
       "if (notebookContainer) {{\n",
       "    x.observe(notebookContainer, {childList: true});\n",
       "}}\n",
       "\n",
       "// Listen for the clearing of the current output cell\n",
       "var outputEl = gd.closest('.output');\n",
       "if (outputEl) {{\n",
       "    x.observe(outputEl, {childList: true});\n",
       "}}\n",
       "\n",
       "                        })                };                });            </script>        </div>"
      ]
     },
     "metadata": {},
     "output_type": "display_data"
    },
    {
     "name": "stdout",
     "output_type": "stream",
     "text": [
      "(0.55, 0.2, 0.25)\n"
     ]
    },
    {
     "data": {
      "application/vnd.plotly.v1+json": {
       "config": {
        "plotlyServerURL": "https://plot.ly"
       },
       "data": [
        {
         "alignmentgroup": "True",
         "hovertemplate": "len_shared_init_coms=%{x}<br>anything_goes=%{y}<extra></extra>",
         "legendgroup": "",
         "marker": {
          "color": "#29ae80",
          "pattern": {
           "shape": ""
          }
         },
         "name": "Groups of non-trivial full RE fixed points covering the entire sentence pool",
         "offsetgroup": "",
         "orientation": "v",
         "showlegend": true,
         "textposition": "auto",
         "texttemplate": "%{y}",
         "type": "bar",
         "x": [
          0,
          1,
          2,
          3,
          4,
          5,
          6,
          7
         ],
         "xaxis": "x",
         "y": [
          1,
          1,
          0.44,
          0.05,
          0,
          0,
          0,
          0
         ],
         "yaxis": "y"
        }
       ],
       "layout": {
        "barmode": "group",
        "legend": {
         "orientation": "h",
         "title": {
          "text": ""
         },
         "tracegroupgap": 0,
         "x": -0.005,
         "xanchor": "left",
         "y": 1.02,
         "yanchor": "bottom"
        },
        "margin": {
         "b": 110,
         "t": 60
        },
        "template": {
         "data": {
          "bar": [
           {
            "error_x": {
             "color": "#2a3f5f"
            },
            "error_y": {
             "color": "#2a3f5f"
            },
            "marker": {
             "line": {
              "color": "white",
              "width": 0.5
             },
             "pattern": {
              "fillmode": "overlay",
              "size": 10,
              "solidity": 0.2
             }
            },
            "type": "bar"
           }
          ],
          "barpolar": [
           {
            "marker": {
             "line": {
              "color": "white",
              "width": 0.5
             },
             "pattern": {
              "fillmode": "overlay",
              "size": 10,
              "solidity": 0.2
             }
            },
            "type": "barpolar"
           }
          ],
          "carpet": [
           {
            "aaxis": {
             "endlinecolor": "#2a3f5f",
             "gridcolor": "#C8D4E3",
             "linecolor": "#C8D4E3",
             "minorgridcolor": "#C8D4E3",
             "startlinecolor": "#2a3f5f"
            },
            "baxis": {
             "endlinecolor": "#2a3f5f",
             "gridcolor": "#C8D4E3",
             "linecolor": "#C8D4E3",
             "minorgridcolor": "#C8D4E3",
             "startlinecolor": "#2a3f5f"
            },
            "type": "carpet"
           }
          ],
          "choropleth": [
           {
            "colorbar": {
             "outlinewidth": 0,
             "ticks": ""
            },
            "type": "choropleth"
           }
          ],
          "contour": [
           {
            "colorbar": {
             "outlinewidth": 0,
             "ticks": ""
            },
            "colorscale": [
             [
              0,
              "#0d0887"
             ],
             [
              0.1111111111111111,
              "#46039f"
             ],
             [
              0.2222222222222222,
              "#7201a8"
             ],
             [
              0.3333333333333333,
              "#9c179e"
             ],
             [
              0.4444444444444444,
              "#bd3786"
             ],
             [
              0.5555555555555556,
              "#d8576b"
             ],
             [
              0.6666666666666666,
              "#ed7953"
             ],
             [
              0.7777777777777778,
              "#fb9f3a"
             ],
             [
              0.8888888888888888,
              "#fdca26"
             ],
             [
              1,
              "#f0f921"
             ]
            ],
            "type": "contour"
           }
          ],
          "contourcarpet": [
           {
            "colorbar": {
             "outlinewidth": 0,
             "ticks": ""
            },
            "type": "contourcarpet"
           }
          ],
          "heatmap": [
           {
            "colorbar": {
             "outlinewidth": 0,
             "ticks": ""
            },
            "colorscale": [
             [
              0,
              "#0d0887"
             ],
             [
              0.1111111111111111,
              "#46039f"
             ],
             [
              0.2222222222222222,
              "#7201a8"
             ],
             [
              0.3333333333333333,
              "#9c179e"
             ],
             [
              0.4444444444444444,
              "#bd3786"
             ],
             [
              0.5555555555555556,
              "#d8576b"
             ],
             [
              0.6666666666666666,
              "#ed7953"
             ],
             [
              0.7777777777777778,
              "#fb9f3a"
             ],
             [
              0.8888888888888888,
              "#fdca26"
             ],
             [
              1,
              "#f0f921"
             ]
            ],
            "type": "heatmap"
           }
          ],
          "heatmapgl": [
           {
            "colorbar": {
             "outlinewidth": 0,
             "ticks": ""
            },
            "colorscale": [
             [
              0,
              "#0d0887"
             ],
             [
              0.1111111111111111,
              "#46039f"
             ],
             [
              0.2222222222222222,
              "#7201a8"
             ],
             [
              0.3333333333333333,
              "#9c179e"
             ],
             [
              0.4444444444444444,
              "#bd3786"
             ],
             [
              0.5555555555555556,
              "#d8576b"
             ],
             [
              0.6666666666666666,
              "#ed7953"
             ],
             [
              0.7777777777777778,
              "#fb9f3a"
             ],
             [
              0.8888888888888888,
              "#fdca26"
             ],
             [
              1,
              "#f0f921"
             ]
            ],
            "type": "heatmapgl"
           }
          ],
          "histogram": [
           {
            "marker": {
             "pattern": {
              "fillmode": "overlay",
              "size": 10,
              "solidity": 0.2
             }
            },
            "type": "histogram"
           }
          ],
          "histogram2d": [
           {
            "colorbar": {
             "outlinewidth": 0,
             "ticks": ""
            },
            "colorscale": [
             [
              0,
              "#0d0887"
             ],
             [
              0.1111111111111111,
              "#46039f"
             ],
             [
              0.2222222222222222,
              "#7201a8"
             ],
             [
              0.3333333333333333,
              "#9c179e"
             ],
             [
              0.4444444444444444,
              "#bd3786"
             ],
             [
              0.5555555555555556,
              "#d8576b"
             ],
             [
              0.6666666666666666,
              "#ed7953"
             ],
             [
              0.7777777777777778,
              "#fb9f3a"
             ],
             [
              0.8888888888888888,
              "#fdca26"
             ],
             [
              1,
              "#f0f921"
             ]
            ],
            "type": "histogram2d"
           }
          ],
          "histogram2dcontour": [
           {
            "colorbar": {
             "outlinewidth": 0,
             "ticks": ""
            },
            "colorscale": [
             [
              0,
              "#0d0887"
             ],
             [
              0.1111111111111111,
              "#46039f"
             ],
             [
              0.2222222222222222,
              "#7201a8"
             ],
             [
              0.3333333333333333,
              "#9c179e"
             ],
             [
              0.4444444444444444,
              "#bd3786"
             ],
             [
              0.5555555555555556,
              "#d8576b"
             ],
             [
              0.6666666666666666,
              "#ed7953"
             ],
             [
              0.7777777777777778,
              "#fb9f3a"
             ],
             [
              0.8888888888888888,
              "#fdca26"
             ],
             [
              1,
              "#f0f921"
             ]
            ],
            "type": "histogram2dcontour"
           }
          ],
          "mesh3d": [
           {
            "colorbar": {
             "outlinewidth": 0,
             "ticks": ""
            },
            "type": "mesh3d"
           }
          ],
          "parcoords": [
           {
            "line": {
             "colorbar": {
              "outlinewidth": 0,
              "ticks": ""
             }
            },
            "type": "parcoords"
           }
          ],
          "pie": [
           {
            "automargin": true,
            "type": "pie"
           }
          ],
          "scatter": [
           {
            "fillpattern": {
             "fillmode": "overlay",
             "size": 10,
             "solidity": 0.2
            },
            "type": "scatter"
           }
          ],
          "scatter3d": [
           {
            "line": {
             "colorbar": {
              "outlinewidth": 0,
              "ticks": ""
             }
            },
            "marker": {
             "colorbar": {
              "outlinewidth": 0,
              "ticks": ""
             }
            },
            "type": "scatter3d"
           }
          ],
          "scattercarpet": [
           {
            "marker": {
             "colorbar": {
              "outlinewidth": 0,
              "ticks": ""
             }
            },
            "type": "scattercarpet"
           }
          ],
          "scattergeo": [
           {
            "marker": {
             "colorbar": {
              "outlinewidth": 0,
              "ticks": ""
             }
            },
            "type": "scattergeo"
           }
          ],
          "scattergl": [
           {
            "marker": {
             "colorbar": {
              "outlinewidth": 0,
              "ticks": ""
             }
            },
            "type": "scattergl"
           }
          ],
          "scattermapbox": [
           {
            "marker": {
             "colorbar": {
              "outlinewidth": 0,
              "ticks": ""
             }
            },
            "type": "scattermapbox"
           }
          ],
          "scatterpolar": [
           {
            "marker": {
             "colorbar": {
              "outlinewidth": 0,
              "ticks": ""
             }
            },
            "type": "scatterpolar"
           }
          ],
          "scatterpolargl": [
           {
            "marker": {
             "colorbar": {
              "outlinewidth": 0,
              "ticks": ""
             }
            },
            "type": "scatterpolargl"
           }
          ],
          "scatterternary": [
           {
            "marker": {
             "colorbar": {
              "outlinewidth": 0,
              "ticks": ""
             }
            },
            "type": "scatterternary"
           }
          ],
          "surface": [
           {
            "colorbar": {
             "outlinewidth": 0,
             "ticks": ""
            },
            "colorscale": [
             [
              0,
              "#0d0887"
             ],
             [
              0.1111111111111111,
              "#46039f"
             ],
             [
              0.2222222222222222,
              "#7201a8"
             ],
             [
              0.3333333333333333,
              "#9c179e"
             ],
             [
              0.4444444444444444,
              "#bd3786"
             ],
             [
              0.5555555555555556,
              "#d8576b"
             ],
             [
              0.6666666666666666,
              "#ed7953"
             ],
             [
              0.7777777777777778,
              "#fb9f3a"
             ],
             [
              0.8888888888888888,
              "#fdca26"
             ],
             [
              1,
              "#f0f921"
             ]
            ],
            "type": "surface"
           }
          ],
          "table": [
           {
            "cells": {
             "fill": {
              "color": "#EBF0F8"
             },
             "line": {
              "color": "white"
             }
            },
            "header": {
             "fill": {
              "color": "#C8D4E3"
             },
             "line": {
              "color": "white"
             }
            },
            "type": "table"
           }
          ]
         },
         "layout": {
          "annotationdefaults": {
           "arrowcolor": "#2a3f5f",
           "arrowhead": 0,
           "arrowwidth": 1
          },
          "autotypenumbers": "strict",
          "coloraxis": {
           "colorbar": {
            "outlinewidth": 0,
            "ticks": ""
           }
          },
          "colorscale": {
           "diverging": [
            [
             0,
             "#8e0152"
            ],
            [
             0.1,
             "#c51b7d"
            ],
            [
             0.2,
             "#de77ae"
            ],
            [
             0.3,
             "#f1b6da"
            ],
            [
             0.4,
             "#fde0ef"
            ],
            [
             0.5,
             "#f7f7f7"
            ],
            [
             0.6,
             "#e6f5d0"
            ],
            [
             0.7,
             "#b8e186"
            ],
            [
             0.8,
             "#7fbc41"
            ],
            [
             0.9,
             "#4d9221"
            ],
            [
             1,
             "#276419"
            ]
           ],
           "sequential": [
            [
             0,
             "#0d0887"
            ],
            [
             0.1111111111111111,
             "#46039f"
            ],
            [
             0.2222222222222222,
             "#7201a8"
            ],
            [
             0.3333333333333333,
             "#9c179e"
            ],
            [
             0.4444444444444444,
             "#bd3786"
            ],
            [
             0.5555555555555556,
             "#d8576b"
            ],
            [
             0.6666666666666666,
             "#ed7953"
            ],
            [
             0.7777777777777778,
             "#fb9f3a"
            ],
            [
             0.8888888888888888,
             "#fdca26"
            ],
            [
             1,
             "#f0f921"
            ]
           ],
           "sequentialminus": [
            [
             0,
             "#0d0887"
            ],
            [
             0.1111111111111111,
             "#46039f"
            ],
            [
             0.2222222222222222,
             "#7201a8"
            ],
            [
             0.3333333333333333,
             "#9c179e"
            ],
            [
             0.4444444444444444,
             "#bd3786"
            ],
            [
             0.5555555555555556,
             "#d8576b"
            ],
            [
             0.6666666666666666,
             "#ed7953"
            ],
            [
             0.7777777777777778,
             "#fb9f3a"
            ],
            [
             0.8888888888888888,
             "#fdca26"
            ],
            [
             1,
             "#f0f921"
            ]
           ]
          },
          "colorway": [
           "#636efa",
           "#EF553B",
           "#00cc96",
           "#ab63fa",
           "#FFA15A",
           "#19d3f3",
           "#FF6692",
           "#B6E880",
           "#FF97FF",
           "#FECB52"
          ],
          "font": {
           "color": "#2a3f5f"
          },
          "geo": {
           "bgcolor": "white",
           "lakecolor": "white",
           "landcolor": "white",
           "showlakes": true,
           "showland": true,
           "subunitcolor": "#C8D4E3"
          },
          "hoverlabel": {
           "align": "left"
          },
          "hovermode": "closest",
          "mapbox": {
           "style": "light"
          },
          "paper_bgcolor": "white",
          "plot_bgcolor": "white",
          "polar": {
           "angularaxis": {
            "gridcolor": "#EBF0F8",
            "linecolor": "#EBF0F8",
            "ticks": ""
           },
           "bgcolor": "white",
           "radialaxis": {
            "gridcolor": "#EBF0F8",
            "linecolor": "#EBF0F8",
            "ticks": ""
           }
          },
          "scene": {
           "xaxis": {
            "backgroundcolor": "white",
            "gridcolor": "#DFE8F3",
            "gridwidth": 2,
            "linecolor": "#EBF0F8",
            "showbackground": true,
            "ticks": "",
            "zerolinecolor": "#EBF0F8"
           },
           "yaxis": {
            "backgroundcolor": "white",
            "gridcolor": "#DFE8F3",
            "gridwidth": 2,
            "linecolor": "#EBF0F8",
            "showbackground": true,
            "ticks": "",
            "zerolinecolor": "#EBF0F8"
           },
           "zaxis": {
            "backgroundcolor": "white",
            "gridcolor": "#DFE8F3",
            "gridwidth": 2,
            "linecolor": "#EBF0F8",
            "showbackground": true,
            "ticks": "",
            "zerolinecolor": "#EBF0F8"
           }
          },
          "shapedefaults": {
           "line": {
            "color": "#2a3f5f"
           }
          },
          "ternary": {
           "aaxis": {
            "gridcolor": "#DFE8F3",
            "linecolor": "#A2B1C6",
            "ticks": ""
           },
           "baxis": {
            "gridcolor": "#DFE8F3",
            "linecolor": "#A2B1C6",
            "ticks": ""
           },
           "bgcolor": "white",
           "caxis": {
            "gridcolor": "#DFE8F3",
            "linecolor": "#A2B1C6",
            "ticks": ""
           }
          },
          "title": {
           "x": 0.05
          },
          "xaxis": {
           "automargin": true,
           "gridcolor": "#EBF0F8",
           "linecolor": "#EBF0F8",
           "ticks": "",
           "title": {
            "standoff": 15
           },
           "zerolinecolor": "#EBF0F8",
           "zerolinewidth": 2
          },
          "yaxis": {
           "automargin": true,
           "gridcolor": "#EBF0F8",
           "linecolor": "#EBF0F8",
           "ticks": "",
           "title": {
            "standoff": 15
           },
           "zerolinecolor": "#EBF0F8",
           "zerolinewidth": 2
          }
         }
        },
        "xaxis": {
         "anchor": "y",
         "domain": [
          0,
          1
         ],
         "showticklabels": true,
         "ticktext": [
          "0<br><span style='color:DarkGray'>(1, 1044)<span>",
          "1<br><span style='color:DarkGray'>(6, 330)<span>",
          "2<br><span style='color:DarkGray'>(23, 112)<span>",
          "3<br><span style='color:DarkGray'>(132, 38)<span>",
          "4<br><span style='color:DarkGray'>(305, 12)<span>",
          "5<br><span style='color:DarkGray'>(356, 4)<span>",
          "6<br><span style='color:DarkGray'>(193, 2)<span>",
          "7<br><span style='color:DarkGray'>(40, 1)<span>"
         ],
         "tickvals": [
          0,
          1,
          2,
          3,
          4,
          5,
          6,
          7
         ],
         "title": {
          "text": "Length of shared initial commitments<br><span style='color:DarkGray'>(Number of groups, Group size)<span>"
         }
        },
        "yaxis": {
         "anchor": "x",
         "domain": [
          0,
          1
         ],
         "range": [
          0,
          1.05
         ],
         "showticklabels": true,
         "title": {
          "text": "Mean relative share"
         }
        }
       }
      },
      "text/html": [
       "<div>                            <div id=\"c01a680b-203e-4f68-8b07-548cea46d909\" class=\"plotly-graph-div\" style=\"height:525px; width:100%;\"></div>            <script type=\"text/javascript\">                require([\"plotly\"], function(Plotly) {                    window.PLOTLYENV=window.PLOTLYENV || {};                                    if (document.getElementById(\"c01a680b-203e-4f68-8b07-548cea46d909\")) {                    Plotly.newPlot(                        \"c01a680b-203e-4f68-8b07-548cea46d909\",                        [{\"alignmentgroup\":\"True\",\"hovertemplate\":\"len_shared_init_coms=%{x}<br>anything_goes=%{y}<extra></extra>\",\"legendgroup\":\"\",\"marker\":{\"color\":\"#29ae80\",\"pattern\":{\"shape\":\"\"}},\"name\":\"Groups of non-trivial full RE fixed points covering the entire sentence pool\",\"offsetgroup\":\"\",\"orientation\":\"v\",\"showlegend\":true,\"textposition\":\"auto\",\"texttemplate\":\"%{y}\",\"x\":[0,1,2,3,4,5,6,7],\"xaxis\":\"x\",\"y\":[1.0,1.0,0.44,0.05,0.0,0.0,0.0,0.0],\"yaxis\":\"y\",\"type\":\"bar\"}],                        {\"template\":{\"data\":{\"barpolar\":[{\"marker\":{\"line\":{\"color\":\"white\",\"width\":0.5},\"pattern\":{\"fillmode\":\"overlay\",\"size\":10,\"solidity\":0.2}},\"type\":\"barpolar\"}],\"bar\":[{\"error_x\":{\"color\":\"#2a3f5f\"},\"error_y\":{\"color\":\"#2a3f5f\"},\"marker\":{\"line\":{\"color\":\"white\",\"width\":0.5},\"pattern\":{\"fillmode\":\"overlay\",\"size\":10,\"solidity\":0.2}},\"type\":\"bar\"}],\"carpet\":[{\"aaxis\":{\"endlinecolor\":\"#2a3f5f\",\"gridcolor\":\"#C8D4E3\",\"linecolor\":\"#C8D4E3\",\"minorgridcolor\":\"#C8D4E3\",\"startlinecolor\":\"#2a3f5f\"},\"baxis\":{\"endlinecolor\":\"#2a3f5f\",\"gridcolor\":\"#C8D4E3\",\"linecolor\":\"#C8D4E3\",\"minorgridcolor\":\"#C8D4E3\",\"startlinecolor\":\"#2a3f5f\"},\"type\":\"carpet\"}],\"choropleth\":[{\"colorbar\":{\"outlinewidth\":0,\"ticks\":\"\"},\"type\":\"choropleth\"}],\"contourcarpet\":[{\"colorbar\":{\"outlinewidth\":0,\"ticks\":\"\"},\"type\":\"contourcarpet\"}],\"contour\":[{\"colorbar\":{\"outlinewidth\":0,\"ticks\":\"\"},\"colorscale\":[[0.0,\"#0d0887\"],[0.1111111111111111,\"#46039f\"],[0.2222222222222222,\"#7201a8\"],[0.3333333333333333,\"#9c179e\"],[0.4444444444444444,\"#bd3786\"],[0.5555555555555556,\"#d8576b\"],[0.6666666666666666,\"#ed7953\"],[0.7777777777777778,\"#fb9f3a\"],[0.8888888888888888,\"#fdca26\"],[1.0,\"#f0f921\"]],\"type\":\"contour\"}],\"heatmapgl\":[{\"colorbar\":{\"outlinewidth\":0,\"ticks\":\"\"},\"colorscale\":[[0.0,\"#0d0887\"],[0.1111111111111111,\"#46039f\"],[0.2222222222222222,\"#7201a8\"],[0.3333333333333333,\"#9c179e\"],[0.4444444444444444,\"#bd3786\"],[0.5555555555555556,\"#d8576b\"],[0.6666666666666666,\"#ed7953\"],[0.7777777777777778,\"#fb9f3a\"],[0.8888888888888888,\"#fdca26\"],[1.0,\"#f0f921\"]],\"type\":\"heatmapgl\"}],\"heatmap\":[{\"colorbar\":{\"outlinewidth\":0,\"ticks\":\"\"},\"colorscale\":[[0.0,\"#0d0887\"],[0.1111111111111111,\"#46039f\"],[0.2222222222222222,\"#7201a8\"],[0.3333333333333333,\"#9c179e\"],[0.4444444444444444,\"#bd3786\"],[0.5555555555555556,\"#d8576b\"],[0.6666666666666666,\"#ed7953\"],[0.7777777777777778,\"#fb9f3a\"],[0.8888888888888888,\"#fdca26\"],[1.0,\"#f0f921\"]],\"type\":\"heatmap\"}],\"histogram2dcontour\":[{\"colorbar\":{\"outlinewidth\":0,\"ticks\":\"\"},\"colorscale\":[[0.0,\"#0d0887\"],[0.1111111111111111,\"#46039f\"],[0.2222222222222222,\"#7201a8\"],[0.3333333333333333,\"#9c179e\"],[0.4444444444444444,\"#bd3786\"],[0.5555555555555556,\"#d8576b\"],[0.6666666666666666,\"#ed7953\"],[0.7777777777777778,\"#fb9f3a\"],[0.8888888888888888,\"#fdca26\"],[1.0,\"#f0f921\"]],\"type\":\"histogram2dcontour\"}],\"histogram2d\":[{\"colorbar\":{\"outlinewidth\":0,\"ticks\":\"\"},\"colorscale\":[[0.0,\"#0d0887\"],[0.1111111111111111,\"#46039f\"],[0.2222222222222222,\"#7201a8\"],[0.3333333333333333,\"#9c179e\"],[0.4444444444444444,\"#bd3786\"],[0.5555555555555556,\"#d8576b\"],[0.6666666666666666,\"#ed7953\"],[0.7777777777777778,\"#fb9f3a\"],[0.8888888888888888,\"#fdca26\"],[1.0,\"#f0f921\"]],\"type\":\"histogram2d\"}],\"histogram\":[{\"marker\":{\"pattern\":{\"fillmode\":\"overlay\",\"size\":10,\"solidity\":0.2}},\"type\":\"histogram\"}],\"mesh3d\":[{\"colorbar\":{\"outlinewidth\":0,\"ticks\":\"\"},\"type\":\"mesh3d\"}],\"parcoords\":[{\"line\":{\"colorbar\":{\"outlinewidth\":0,\"ticks\":\"\"}},\"type\":\"parcoords\"}],\"pie\":[{\"automargin\":true,\"type\":\"pie\"}],\"scatter3d\":[{\"line\":{\"colorbar\":{\"outlinewidth\":0,\"ticks\":\"\"}},\"marker\":{\"colorbar\":{\"outlinewidth\":0,\"ticks\":\"\"}},\"type\":\"scatter3d\"}],\"scattercarpet\":[{\"marker\":{\"colorbar\":{\"outlinewidth\":0,\"ticks\":\"\"}},\"type\":\"scattercarpet\"}],\"scattergeo\":[{\"marker\":{\"colorbar\":{\"outlinewidth\":0,\"ticks\":\"\"}},\"type\":\"scattergeo\"}],\"scattergl\":[{\"marker\":{\"colorbar\":{\"outlinewidth\":0,\"ticks\":\"\"}},\"type\":\"scattergl\"}],\"scattermapbox\":[{\"marker\":{\"colorbar\":{\"outlinewidth\":0,\"ticks\":\"\"}},\"type\":\"scattermapbox\"}],\"scatterpolargl\":[{\"marker\":{\"colorbar\":{\"outlinewidth\":0,\"ticks\":\"\"}},\"type\":\"scatterpolargl\"}],\"scatterpolar\":[{\"marker\":{\"colorbar\":{\"outlinewidth\":0,\"ticks\":\"\"}},\"type\":\"scatterpolar\"}],\"scatter\":[{\"fillpattern\":{\"fillmode\":\"overlay\",\"size\":10,\"solidity\":0.2},\"type\":\"scatter\"}],\"scatterternary\":[{\"marker\":{\"colorbar\":{\"outlinewidth\":0,\"ticks\":\"\"}},\"type\":\"scatterternary\"}],\"surface\":[{\"colorbar\":{\"outlinewidth\":0,\"ticks\":\"\"},\"colorscale\":[[0.0,\"#0d0887\"],[0.1111111111111111,\"#46039f\"],[0.2222222222222222,\"#7201a8\"],[0.3333333333333333,\"#9c179e\"],[0.4444444444444444,\"#bd3786\"],[0.5555555555555556,\"#d8576b\"],[0.6666666666666666,\"#ed7953\"],[0.7777777777777778,\"#fb9f3a\"],[0.8888888888888888,\"#fdca26\"],[1.0,\"#f0f921\"]],\"type\":\"surface\"}],\"table\":[{\"cells\":{\"fill\":{\"color\":\"#EBF0F8\"},\"line\":{\"color\":\"white\"}},\"header\":{\"fill\":{\"color\":\"#C8D4E3\"},\"line\":{\"color\":\"white\"}},\"type\":\"table\"}]},\"layout\":{\"annotationdefaults\":{\"arrowcolor\":\"#2a3f5f\",\"arrowhead\":0,\"arrowwidth\":1},\"autotypenumbers\":\"strict\",\"coloraxis\":{\"colorbar\":{\"outlinewidth\":0,\"ticks\":\"\"}},\"colorscale\":{\"diverging\":[[0,\"#8e0152\"],[0.1,\"#c51b7d\"],[0.2,\"#de77ae\"],[0.3,\"#f1b6da\"],[0.4,\"#fde0ef\"],[0.5,\"#f7f7f7\"],[0.6,\"#e6f5d0\"],[0.7,\"#b8e186\"],[0.8,\"#7fbc41\"],[0.9,\"#4d9221\"],[1,\"#276419\"]],\"sequential\":[[0.0,\"#0d0887\"],[0.1111111111111111,\"#46039f\"],[0.2222222222222222,\"#7201a8\"],[0.3333333333333333,\"#9c179e\"],[0.4444444444444444,\"#bd3786\"],[0.5555555555555556,\"#d8576b\"],[0.6666666666666666,\"#ed7953\"],[0.7777777777777778,\"#fb9f3a\"],[0.8888888888888888,\"#fdca26\"],[1.0,\"#f0f921\"]],\"sequentialminus\":[[0.0,\"#0d0887\"],[0.1111111111111111,\"#46039f\"],[0.2222222222222222,\"#7201a8\"],[0.3333333333333333,\"#9c179e\"],[0.4444444444444444,\"#bd3786\"],[0.5555555555555556,\"#d8576b\"],[0.6666666666666666,\"#ed7953\"],[0.7777777777777778,\"#fb9f3a\"],[0.8888888888888888,\"#fdca26\"],[1.0,\"#f0f921\"]]},\"colorway\":[\"#636efa\",\"#EF553B\",\"#00cc96\",\"#ab63fa\",\"#FFA15A\",\"#19d3f3\",\"#FF6692\",\"#B6E880\",\"#FF97FF\",\"#FECB52\"],\"font\":{\"color\":\"#2a3f5f\"},\"geo\":{\"bgcolor\":\"white\",\"lakecolor\":\"white\",\"landcolor\":\"white\",\"showlakes\":true,\"showland\":true,\"subunitcolor\":\"#C8D4E3\"},\"hoverlabel\":{\"align\":\"left\"},\"hovermode\":\"closest\",\"mapbox\":{\"style\":\"light\"},\"paper_bgcolor\":\"white\",\"plot_bgcolor\":\"white\",\"polar\":{\"angularaxis\":{\"gridcolor\":\"#EBF0F8\",\"linecolor\":\"#EBF0F8\",\"ticks\":\"\"},\"bgcolor\":\"white\",\"radialaxis\":{\"gridcolor\":\"#EBF0F8\",\"linecolor\":\"#EBF0F8\",\"ticks\":\"\"}},\"scene\":{\"xaxis\":{\"backgroundcolor\":\"white\",\"gridcolor\":\"#DFE8F3\",\"gridwidth\":2,\"linecolor\":\"#EBF0F8\",\"showbackground\":true,\"ticks\":\"\",\"zerolinecolor\":\"#EBF0F8\"},\"yaxis\":{\"backgroundcolor\":\"white\",\"gridcolor\":\"#DFE8F3\",\"gridwidth\":2,\"linecolor\":\"#EBF0F8\",\"showbackground\":true,\"ticks\":\"\",\"zerolinecolor\":\"#EBF0F8\"},\"zaxis\":{\"backgroundcolor\":\"white\",\"gridcolor\":\"#DFE8F3\",\"gridwidth\":2,\"linecolor\":\"#EBF0F8\",\"showbackground\":true,\"ticks\":\"\",\"zerolinecolor\":\"#EBF0F8\"}},\"shapedefaults\":{\"line\":{\"color\":\"#2a3f5f\"}},\"ternary\":{\"aaxis\":{\"gridcolor\":\"#DFE8F3\",\"linecolor\":\"#A2B1C6\",\"ticks\":\"\"},\"baxis\":{\"gridcolor\":\"#DFE8F3\",\"linecolor\":\"#A2B1C6\",\"ticks\":\"\"},\"bgcolor\":\"white\",\"caxis\":{\"gridcolor\":\"#DFE8F3\",\"linecolor\":\"#A2B1C6\",\"ticks\":\"\"}},\"title\":{\"x\":0.05},\"xaxis\":{\"automargin\":true,\"gridcolor\":\"#EBF0F8\",\"linecolor\":\"#EBF0F8\",\"ticks\":\"\",\"title\":{\"standoff\":15},\"zerolinecolor\":\"#EBF0F8\",\"zerolinewidth\":2},\"yaxis\":{\"automargin\":true,\"gridcolor\":\"#EBF0F8\",\"linecolor\":\"#EBF0F8\",\"ticks\":\"\",\"title\":{\"standoff\":15},\"zerolinecolor\":\"#EBF0F8\",\"zerolinewidth\":2}}},\"xaxis\":{\"anchor\":\"y\",\"domain\":[0.0,1.0],\"title\":{\"text\":\"Length of shared initial commitments<br><span style='color:DarkGray'>(Number of groups, Group size)<span>\"},\"showticklabels\":true,\"tickvals\":[0,1,2,3,4,5,6,7],\"ticktext\":[\"0<br><span style='color:DarkGray'>(1, 1044)<span>\",\"1<br><span style='color:DarkGray'>(6, 330)<span>\",\"2<br><span style='color:DarkGray'>(23, 112)<span>\",\"3<br><span style='color:DarkGray'>(132, 38)<span>\",\"4<br><span style='color:DarkGray'>(305, 12)<span>\",\"5<br><span style='color:DarkGray'>(356, 4)<span>\",\"6<br><span style='color:DarkGray'>(193, 2)<span>\",\"7<br><span style='color:DarkGray'>(40, 1)<span>\"]},\"yaxis\":{\"anchor\":\"x\",\"domain\":[0.0,1.0],\"title\":{\"text\":\"Mean relative share\"},\"showticklabels\":true,\"range\":[0,1.05]},\"legend\":{\"tracegroupgap\":0,\"title\":{\"text\":\"\"},\"orientation\":\"h\",\"yanchor\":\"bottom\",\"y\":1.02,\"xanchor\":\"left\",\"x\":-0.005},\"margin\":{\"t\":60,\"b\":110},\"barmode\":\"group\"},                        {\"responsive\": true}                    ).then(function(){\n",
       "                            \n",
       "var gd = document.getElementById('c01a680b-203e-4f68-8b07-548cea46d909');\n",
       "var x = new MutationObserver(function (mutations, observer) {{\n",
       "        var display = window.getComputedStyle(gd).display;\n",
       "        if (!display || display === 'none') {{\n",
       "            console.log([gd, 'removed!']);\n",
       "            Plotly.purge(gd);\n",
       "            observer.disconnect();\n",
       "        }}\n",
       "}});\n",
       "\n",
       "// Listen for the removal of the full notebook cells\n",
       "var notebookContainer = gd.closest('#notebook-container');\n",
       "if (notebookContainer) {{\n",
       "    x.observe(notebookContainer, {childList: true});\n",
       "}}\n",
       "\n",
       "// Listen for the clearing of the current output cell\n",
       "var outputEl = gd.closest('.output');\n",
       "if (outputEl) {{\n",
       "    x.observe(outputEl, {childList: true});\n",
       "}}\n",
       "\n",
       "                        })                };                });            </script>        </div>"
      ]
     },
     "metadata": {},
     "output_type": "display_data"
    },
    {
     "name": "stdout",
     "output_type": "stream",
     "text": [
      "(0.46, 0.1, 0.44)\n"
     ]
    },
    {
     "data": {
      "application/vnd.plotly.v1+json": {
       "config": {
        "plotlyServerURL": "https://plot.ly"
       },
       "data": [
        {
         "alignmentgroup": "True",
         "hovertemplate": "len_shared_init_coms=%{x}<br>anything_goes=%{y}<extra></extra>",
         "legendgroup": "",
         "marker": {
          "color": "#29ae80",
          "pattern": {
           "shape": ""
          }
         },
         "name": "Groups of non-trivial full RE fixed points covering the entire sentence pool",
         "offsetgroup": "",
         "orientation": "v",
         "showlegend": true,
         "textposition": "auto",
         "texttemplate": "%{y}",
         "type": "bar",
         "x": [
          0,
          1,
          2,
          3,
          4,
          5,
          6,
          7
         ],
         "xaxis": "x",
         "y": [
          1,
          1,
          0.48,
          0.18,
          0.01,
          0,
          0,
          0
         ],
         "yaxis": "y"
        }
       ],
       "layout": {
        "barmode": "group",
        "legend": {
         "orientation": "h",
         "title": {
          "text": ""
         },
         "tracegroupgap": 0,
         "x": -0.005,
         "xanchor": "left",
         "y": 1.02,
         "yanchor": "bottom"
        },
        "margin": {
         "b": 110,
         "t": 60
        },
        "template": {
         "data": {
          "bar": [
           {
            "error_x": {
             "color": "#2a3f5f"
            },
            "error_y": {
             "color": "#2a3f5f"
            },
            "marker": {
             "line": {
              "color": "white",
              "width": 0.5
             },
             "pattern": {
              "fillmode": "overlay",
              "size": 10,
              "solidity": 0.2
             }
            },
            "type": "bar"
           }
          ],
          "barpolar": [
           {
            "marker": {
             "line": {
              "color": "white",
              "width": 0.5
             },
             "pattern": {
              "fillmode": "overlay",
              "size": 10,
              "solidity": 0.2
             }
            },
            "type": "barpolar"
           }
          ],
          "carpet": [
           {
            "aaxis": {
             "endlinecolor": "#2a3f5f",
             "gridcolor": "#C8D4E3",
             "linecolor": "#C8D4E3",
             "minorgridcolor": "#C8D4E3",
             "startlinecolor": "#2a3f5f"
            },
            "baxis": {
             "endlinecolor": "#2a3f5f",
             "gridcolor": "#C8D4E3",
             "linecolor": "#C8D4E3",
             "minorgridcolor": "#C8D4E3",
             "startlinecolor": "#2a3f5f"
            },
            "type": "carpet"
           }
          ],
          "choropleth": [
           {
            "colorbar": {
             "outlinewidth": 0,
             "ticks": ""
            },
            "type": "choropleth"
           }
          ],
          "contour": [
           {
            "colorbar": {
             "outlinewidth": 0,
             "ticks": ""
            },
            "colorscale": [
             [
              0,
              "#0d0887"
             ],
             [
              0.1111111111111111,
              "#46039f"
             ],
             [
              0.2222222222222222,
              "#7201a8"
             ],
             [
              0.3333333333333333,
              "#9c179e"
             ],
             [
              0.4444444444444444,
              "#bd3786"
             ],
             [
              0.5555555555555556,
              "#d8576b"
             ],
             [
              0.6666666666666666,
              "#ed7953"
             ],
             [
              0.7777777777777778,
              "#fb9f3a"
             ],
             [
              0.8888888888888888,
              "#fdca26"
             ],
             [
              1,
              "#f0f921"
             ]
            ],
            "type": "contour"
           }
          ],
          "contourcarpet": [
           {
            "colorbar": {
             "outlinewidth": 0,
             "ticks": ""
            },
            "type": "contourcarpet"
           }
          ],
          "heatmap": [
           {
            "colorbar": {
             "outlinewidth": 0,
             "ticks": ""
            },
            "colorscale": [
             [
              0,
              "#0d0887"
             ],
             [
              0.1111111111111111,
              "#46039f"
             ],
             [
              0.2222222222222222,
              "#7201a8"
             ],
             [
              0.3333333333333333,
              "#9c179e"
             ],
             [
              0.4444444444444444,
              "#bd3786"
             ],
             [
              0.5555555555555556,
              "#d8576b"
             ],
             [
              0.6666666666666666,
              "#ed7953"
             ],
             [
              0.7777777777777778,
              "#fb9f3a"
             ],
             [
              0.8888888888888888,
              "#fdca26"
             ],
             [
              1,
              "#f0f921"
             ]
            ],
            "type": "heatmap"
           }
          ],
          "heatmapgl": [
           {
            "colorbar": {
             "outlinewidth": 0,
             "ticks": ""
            },
            "colorscale": [
             [
              0,
              "#0d0887"
             ],
             [
              0.1111111111111111,
              "#46039f"
             ],
             [
              0.2222222222222222,
              "#7201a8"
             ],
             [
              0.3333333333333333,
              "#9c179e"
             ],
             [
              0.4444444444444444,
              "#bd3786"
             ],
             [
              0.5555555555555556,
              "#d8576b"
             ],
             [
              0.6666666666666666,
              "#ed7953"
             ],
             [
              0.7777777777777778,
              "#fb9f3a"
             ],
             [
              0.8888888888888888,
              "#fdca26"
             ],
             [
              1,
              "#f0f921"
             ]
            ],
            "type": "heatmapgl"
           }
          ],
          "histogram": [
           {
            "marker": {
             "pattern": {
              "fillmode": "overlay",
              "size": 10,
              "solidity": 0.2
             }
            },
            "type": "histogram"
           }
          ],
          "histogram2d": [
           {
            "colorbar": {
             "outlinewidth": 0,
             "ticks": ""
            },
            "colorscale": [
             [
              0,
              "#0d0887"
             ],
             [
              0.1111111111111111,
              "#46039f"
             ],
             [
              0.2222222222222222,
              "#7201a8"
             ],
             [
              0.3333333333333333,
              "#9c179e"
             ],
             [
              0.4444444444444444,
              "#bd3786"
             ],
             [
              0.5555555555555556,
              "#d8576b"
             ],
             [
              0.6666666666666666,
              "#ed7953"
             ],
             [
              0.7777777777777778,
              "#fb9f3a"
             ],
             [
              0.8888888888888888,
              "#fdca26"
             ],
             [
              1,
              "#f0f921"
             ]
            ],
            "type": "histogram2d"
           }
          ],
          "histogram2dcontour": [
           {
            "colorbar": {
             "outlinewidth": 0,
             "ticks": ""
            },
            "colorscale": [
             [
              0,
              "#0d0887"
             ],
             [
              0.1111111111111111,
              "#46039f"
             ],
             [
              0.2222222222222222,
              "#7201a8"
             ],
             [
              0.3333333333333333,
              "#9c179e"
             ],
             [
              0.4444444444444444,
              "#bd3786"
             ],
             [
              0.5555555555555556,
              "#d8576b"
             ],
             [
              0.6666666666666666,
              "#ed7953"
             ],
             [
              0.7777777777777778,
              "#fb9f3a"
             ],
             [
              0.8888888888888888,
              "#fdca26"
             ],
             [
              1,
              "#f0f921"
             ]
            ],
            "type": "histogram2dcontour"
           }
          ],
          "mesh3d": [
           {
            "colorbar": {
             "outlinewidth": 0,
             "ticks": ""
            },
            "type": "mesh3d"
           }
          ],
          "parcoords": [
           {
            "line": {
             "colorbar": {
              "outlinewidth": 0,
              "ticks": ""
             }
            },
            "type": "parcoords"
           }
          ],
          "pie": [
           {
            "automargin": true,
            "type": "pie"
           }
          ],
          "scatter": [
           {
            "fillpattern": {
             "fillmode": "overlay",
             "size": 10,
             "solidity": 0.2
            },
            "type": "scatter"
           }
          ],
          "scatter3d": [
           {
            "line": {
             "colorbar": {
              "outlinewidth": 0,
              "ticks": ""
             }
            },
            "marker": {
             "colorbar": {
              "outlinewidth": 0,
              "ticks": ""
             }
            },
            "type": "scatter3d"
           }
          ],
          "scattercarpet": [
           {
            "marker": {
             "colorbar": {
              "outlinewidth": 0,
              "ticks": ""
             }
            },
            "type": "scattercarpet"
           }
          ],
          "scattergeo": [
           {
            "marker": {
             "colorbar": {
              "outlinewidth": 0,
              "ticks": ""
             }
            },
            "type": "scattergeo"
           }
          ],
          "scattergl": [
           {
            "marker": {
             "colorbar": {
              "outlinewidth": 0,
              "ticks": ""
             }
            },
            "type": "scattergl"
           }
          ],
          "scattermapbox": [
           {
            "marker": {
             "colorbar": {
              "outlinewidth": 0,
              "ticks": ""
             }
            },
            "type": "scattermapbox"
           }
          ],
          "scatterpolar": [
           {
            "marker": {
             "colorbar": {
              "outlinewidth": 0,
              "ticks": ""
             }
            },
            "type": "scatterpolar"
           }
          ],
          "scatterpolargl": [
           {
            "marker": {
             "colorbar": {
              "outlinewidth": 0,
              "ticks": ""
             }
            },
            "type": "scatterpolargl"
           }
          ],
          "scatterternary": [
           {
            "marker": {
             "colorbar": {
              "outlinewidth": 0,
              "ticks": ""
             }
            },
            "type": "scatterternary"
           }
          ],
          "surface": [
           {
            "colorbar": {
             "outlinewidth": 0,
             "ticks": ""
            },
            "colorscale": [
             [
              0,
              "#0d0887"
             ],
             [
              0.1111111111111111,
              "#46039f"
             ],
             [
              0.2222222222222222,
              "#7201a8"
             ],
             [
              0.3333333333333333,
              "#9c179e"
             ],
             [
              0.4444444444444444,
              "#bd3786"
             ],
             [
              0.5555555555555556,
              "#d8576b"
             ],
             [
              0.6666666666666666,
              "#ed7953"
             ],
             [
              0.7777777777777778,
              "#fb9f3a"
             ],
             [
              0.8888888888888888,
              "#fdca26"
             ],
             [
              1,
              "#f0f921"
             ]
            ],
            "type": "surface"
           }
          ],
          "table": [
           {
            "cells": {
             "fill": {
              "color": "#EBF0F8"
             },
             "line": {
              "color": "white"
             }
            },
            "header": {
             "fill": {
              "color": "#C8D4E3"
             },
             "line": {
              "color": "white"
             }
            },
            "type": "table"
           }
          ]
         },
         "layout": {
          "annotationdefaults": {
           "arrowcolor": "#2a3f5f",
           "arrowhead": 0,
           "arrowwidth": 1
          },
          "autotypenumbers": "strict",
          "coloraxis": {
           "colorbar": {
            "outlinewidth": 0,
            "ticks": ""
           }
          },
          "colorscale": {
           "diverging": [
            [
             0,
             "#8e0152"
            ],
            [
             0.1,
             "#c51b7d"
            ],
            [
             0.2,
             "#de77ae"
            ],
            [
             0.3,
             "#f1b6da"
            ],
            [
             0.4,
             "#fde0ef"
            ],
            [
             0.5,
             "#f7f7f7"
            ],
            [
             0.6,
             "#e6f5d0"
            ],
            [
             0.7,
             "#b8e186"
            ],
            [
             0.8,
             "#7fbc41"
            ],
            [
             0.9,
             "#4d9221"
            ],
            [
             1,
             "#276419"
            ]
           ],
           "sequential": [
            [
             0,
             "#0d0887"
            ],
            [
             0.1111111111111111,
             "#46039f"
            ],
            [
             0.2222222222222222,
             "#7201a8"
            ],
            [
             0.3333333333333333,
             "#9c179e"
            ],
            [
             0.4444444444444444,
             "#bd3786"
            ],
            [
             0.5555555555555556,
             "#d8576b"
            ],
            [
             0.6666666666666666,
             "#ed7953"
            ],
            [
             0.7777777777777778,
             "#fb9f3a"
            ],
            [
             0.8888888888888888,
             "#fdca26"
            ],
            [
             1,
             "#f0f921"
            ]
           ],
           "sequentialminus": [
            [
             0,
             "#0d0887"
            ],
            [
             0.1111111111111111,
             "#46039f"
            ],
            [
             0.2222222222222222,
             "#7201a8"
            ],
            [
             0.3333333333333333,
             "#9c179e"
            ],
            [
             0.4444444444444444,
             "#bd3786"
            ],
            [
             0.5555555555555556,
             "#d8576b"
            ],
            [
             0.6666666666666666,
             "#ed7953"
            ],
            [
             0.7777777777777778,
             "#fb9f3a"
            ],
            [
             0.8888888888888888,
             "#fdca26"
            ],
            [
             1,
             "#f0f921"
            ]
           ]
          },
          "colorway": [
           "#636efa",
           "#EF553B",
           "#00cc96",
           "#ab63fa",
           "#FFA15A",
           "#19d3f3",
           "#FF6692",
           "#B6E880",
           "#FF97FF",
           "#FECB52"
          ],
          "font": {
           "color": "#2a3f5f"
          },
          "geo": {
           "bgcolor": "white",
           "lakecolor": "white",
           "landcolor": "white",
           "showlakes": true,
           "showland": true,
           "subunitcolor": "#C8D4E3"
          },
          "hoverlabel": {
           "align": "left"
          },
          "hovermode": "closest",
          "mapbox": {
           "style": "light"
          },
          "paper_bgcolor": "white",
          "plot_bgcolor": "white",
          "polar": {
           "angularaxis": {
            "gridcolor": "#EBF0F8",
            "linecolor": "#EBF0F8",
            "ticks": ""
           },
           "bgcolor": "white",
           "radialaxis": {
            "gridcolor": "#EBF0F8",
            "linecolor": "#EBF0F8",
            "ticks": ""
           }
          },
          "scene": {
           "xaxis": {
            "backgroundcolor": "white",
            "gridcolor": "#DFE8F3",
            "gridwidth": 2,
            "linecolor": "#EBF0F8",
            "showbackground": true,
            "ticks": "",
            "zerolinecolor": "#EBF0F8"
           },
           "yaxis": {
            "backgroundcolor": "white",
            "gridcolor": "#DFE8F3",
            "gridwidth": 2,
            "linecolor": "#EBF0F8",
            "showbackground": true,
            "ticks": "",
            "zerolinecolor": "#EBF0F8"
           },
           "zaxis": {
            "backgroundcolor": "white",
            "gridcolor": "#DFE8F3",
            "gridwidth": 2,
            "linecolor": "#EBF0F8",
            "showbackground": true,
            "ticks": "",
            "zerolinecolor": "#EBF0F8"
           }
          },
          "shapedefaults": {
           "line": {
            "color": "#2a3f5f"
           }
          },
          "ternary": {
           "aaxis": {
            "gridcolor": "#DFE8F3",
            "linecolor": "#A2B1C6",
            "ticks": ""
           },
           "baxis": {
            "gridcolor": "#DFE8F3",
            "linecolor": "#A2B1C6",
            "ticks": ""
           },
           "bgcolor": "white",
           "caxis": {
            "gridcolor": "#DFE8F3",
            "linecolor": "#A2B1C6",
            "ticks": ""
           }
          },
          "title": {
           "x": 0.05
          },
          "xaxis": {
           "automargin": true,
           "gridcolor": "#EBF0F8",
           "linecolor": "#EBF0F8",
           "ticks": "",
           "title": {
            "standoff": 15
           },
           "zerolinecolor": "#EBF0F8",
           "zerolinewidth": 2
          },
          "yaxis": {
           "automargin": true,
           "gridcolor": "#EBF0F8",
           "linecolor": "#EBF0F8",
           "ticks": "",
           "title": {
            "standoff": 15
           },
           "zerolinecolor": "#EBF0F8",
           "zerolinewidth": 2
          }
         }
        },
        "xaxis": {
         "anchor": "y",
         "domain": [
          0,
          1
         ],
         "showticklabels": true,
         "ticktext": [
          "0<br><span style='color:DarkGray'>(1, 1579)<span>",
          "1<br><span style='color:DarkGray'>(6, 496)<span>",
          "2<br><span style='color:DarkGray'>(25, 161)<span>",
          "3<br><span style='color:DarkGray'>(213, 58)<span>",
          "4<br><span style='color:DarkGray'>(455, 20)<span>",
          "5<br><span style='color:DarkGray'>(506, 6)<span>",
          "6<br><span style='color:DarkGray'>(294, 2)<span>",
          "7<br><span style='color:DarkGray'>(65, 1)<span>"
         ],
         "tickvals": [
          0,
          1,
          2,
          3,
          4,
          5,
          6,
          7
         ],
         "title": {
          "text": "Length of shared initial commitments<br><span style='color:DarkGray'>(Number of groups, Group size)<span>"
         }
        },
        "yaxis": {
         "anchor": "x",
         "domain": [
          0,
          1
         ],
         "range": [
          0,
          1.05
         ],
         "showticklabels": true,
         "title": {
          "text": "Mean relative share"
         }
        }
       }
      },
      "text/html": [
       "<div>                            <div id=\"aca7c746-290f-4dbb-8dae-8ce22a4b618e\" class=\"plotly-graph-div\" style=\"height:525px; width:100%;\"></div>            <script type=\"text/javascript\">                require([\"plotly\"], function(Plotly) {                    window.PLOTLYENV=window.PLOTLYENV || {};                                    if (document.getElementById(\"aca7c746-290f-4dbb-8dae-8ce22a4b618e\")) {                    Plotly.newPlot(                        \"aca7c746-290f-4dbb-8dae-8ce22a4b618e\",                        [{\"alignmentgroup\":\"True\",\"hovertemplate\":\"len_shared_init_coms=%{x}<br>anything_goes=%{y}<extra></extra>\",\"legendgroup\":\"\",\"marker\":{\"color\":\"#29ae80\",\"pattern\":{\"shape\":\"\"}},\"name\":\"Groups of non-trivial full RE fixed points covering the entire sentence pool\",\"offsetgroup\":\"\",\"orientation\":\"v\",\"showlegend\":true,\"textposition\":\"auto\",\"texttemplate\":\"%{y}\",\"x\":[0,1,2,3,4,5,6,7],\"xaxis\":\"x\",\"y\":[1.0,1.0,0.48,0.18,0.01,0.0,0.0,0.0],\"yaxis\":\"y\",\"type\":\"bar\"}],                        {\"template\":{\"data\":{\"barpolar\":[{\"marker\":{\"line\":{\"color\":\"white\",\"width\":0.5},\"pattern\":{\"fillmode\":\"overlay\",\"size\":10,\"solidity\":0.2}},\"type\":\"barpolar\"}],\"bar\":[{\"error_x\":{\"color\":\"#2a3f5f\"},\"error_y\":{\"color\":\"#2a3f5f\"},\"marker\":{\"line\":{\"color\":\"white\",\"width\":0.5},\"pattern\":{\"fillmode\":\"overlay\",\"size\":10,\"solidity\":0.2}},\"type\":\"bar\"}],\"carpet\":[{\"aaxis\":{\"endlinecolor\":\"#2a3f5f\",\"gridcolor\":\"#C8D4E3\",\"linecolor\":\"#C8D4E3\",\"minorgridcolor\":\"#C8D4E3\",\"startlinecolor\":\"#2a3f5f\"},\"baxis\":{\"endlinecolor\":\"#2a3f5f\",\"gridcolor\":\"#C8D4E3\",\"linecolor\":\"#C8D4E3\",\"minorgridcolor\":\"#C8D4E3\",\"startlinecolor\":\"#2a3f5f\"},\"type\":\"carpet\"}],\"choropleth\":[{\"colorbar\":{\"outlinewidth\":0,\"ticks\":\"\"},\"type\":\"choropleth\"}],\"contourcarpet\":[{\"colorbar\":{\"outlinewidth\":0,\"ticks\":\"\"},\"type\":\"contourcarpet\"}],\"contour\":[{\"colorbar\":{\"outlinewidth\":0,\"ticks\":\"\"},\"colorscale\":[[0.0,\"#0d0887\"],[0.1111111111111111,\"#46039f\"],[0.2222222222222222,\"#7201a8\"],[0.3333333333333333,\"#9c179e\"],[0.4444444444444444,\"#bd3786\"],[0.5555555555555556,\"#d8576b\"],[0.6666666666666666,\"#ed7953\"],[0.7777777777777778,\"#fb9f3a\"],[0.8888888888888888,\"#fdca26\"],[1.0,\"#f0f921\"]],\"type\":\"contour\"}],\"heatmapgl\":[{\"colorbar\":{\"outlinewidth\":0,\"ticks\":\"\"},\"colorscale\":[[0.0,\"#0d0887\"],[0.1111111111111111,\"#46039f\"],[0.2222222222222222,\"#7201a8\"],[0.3333333333333333,\"#9c179e\"],[0.4444444444444444,\"#bd3786\"],[0.5555555555555556,\"#d8576b\"],[0.6666666666666666,\"#ed7953\"],[0.7777777777777778,\"#fb9f3a\"],[0.8888888888888888,\"#fdca26\"],[1.0,\"#f0f921\"]],\"type\":\"heatmapgl\"}],\"heatmap\":[{\"colorbar\":{\"outlinewidth\":0,\"ticks\":\"\"},\"colorscale\":[[0.0,\"#0d0887\"],[0.1111111111111111,\"#46039f\"],[0.2222222222222222,\"#7201a8\"],[0.3333333333333333,\"#9c179e\"],[0.4444444444444444,\"#bd3786\"],[0.5555555555555556,\"#d8576b\"],[0.6666666666666666,\"#ed7953\"],[0.7777777777777778,\"#fb9f3a\"],[0.8888888888888888,\"#fdca26\"],[1.0,\"#f0f921\"]],\"type\":\"heatmap\"}],\"histogram2dcontour\":[{\"colorbar\":{\"outlinewidth\":0,\"ticks\":\"\"},\"colorscale\":[[0.0,\"#0d0887\"],[0.1111111111111111,\"#46039f\"],[0.2222222222222222,\"#7201a8\"],[0.3333333333333333,\"#9c179e\"],[0.4444444444444444,\"#bd3786\"],[0.5555555555555556,\"#d8576b\"],[0.6666666666666666,\"#ed7953\"],[0.7777777777777778,\"#fb9f3a\"],[0.8888888888888888,\"#fdca26\"],[1.0,\"#f0f921\"]],\"type\":\"histogram2dcontour\"}],\"histogram2d\":[{\"colorbar\":{\"outlinewidth\":0,\"ticks\":\"\"},\"colorscale\":[[0.0,\"#0d0887\"],[0.1111111111111111,\"#46039f\"],[0.2222222222222222,\"#7201a8\"],[0.3333333333333333,\"#9c179e\"],[0.4444444444444444,\"#bd3786\"],[0.5555555555555556,\"#d8576b\"],[0.6666666666666666,\"#ed7953\"],[0.7777777777777778,\"#fb9f3a\"],[0.8888888888888888,\"#fdca26\"],[1.0,\"#f0f921\"]],\"type\":\"histogram2d\"}],\"histogram\":[{\"marker\":{\"pattern\":{\"fillmode\":\"overlay\",\"size\":10,\"solidity\":0.2}},\"type\":\"histogram\"}],\"mesh3d\":[{\"colorbar\":{\"outlinewidth\":0,\"ticks\":\"\"},\"type\":\"mesh3d\"}],\"parcoords\":[{\"line\":{\"colorbar\":{\"outlinewidth\":0,\"ticks\":\"\"}},\"type\":\"parcoords\"}],\"pie\":[{\"automargin\":true,\"type\":\"pie\"}],\"scatter3d\":[{\"line\":{\"colorbar\":{\"outlinewidth\":0,\"ticks\":\"\"}},\"marker\":{\"colorbar\":{\"outlinewidth\":0,\"ticks\":\"\"}},\"type\":\"scatter3d\"}],\"scattercarpet\":[{\"marker\":{\"colorbar\":{\"outlinewidth\":0,\"ticks\":\"\"}},\"type\":\"scattercarpet\"}],\"scattergeo\":[{\"marker\":{\"colorbar\":{\"outlinewidth\":0,\"ticks\":\"\"}},\"type\":\"scattergeo\"}],\"scattergl\":[{\"marker\":{\"colorbar\":{\"outlinewidth\":0,\"ticks\":\"\"}},\"type\":\"scattergl\"}],\"scattermapbox\":[{\"marker\":{\"colorbar\":{\"outlinewidth\":0,\"ticks\":\"\"}},\"type\":\"scattermapbox\"}],\"scatterpolargl\":[{\"marker\":{\"colorbar\":{\"outlinewidth\":0,\"ticks\":\"\"}},\"type\":\"scatterpolargl\"}],\"scatterpolar\":[{\"marker\":{\"colorbar\":{\"outlinewidth\":0,\"ticks\":\"\"}},\"type\":\"scatterpolar\"}],\"scatter\":[{\"fillpattern\":{\"fillmode\":\"overlay\",\"size\":10,\"solidity\":0.2},\"type\":\"scatter\"}],\"scatterternary\":[{\"marker\":{\"colorbar\":{\"outlinewidth\":0,\"ticks\":\"\"}},\"type\":\"scatterternary\"}],\"surface\":[{\"colorbar\":{\"outlinewidth\":0,\"ticks\":\"\"},\"colorscale\":[[0.0,\"#0d0887\"],[0.1111111111111111,\"#46039f\"],[0.2222222222222222,\"#7201a8\"],[0.3333333333333333,\"#9c179e\"],[0.4444444444444444,\"#bd3786\"],[0.5555555555555556,\"#d8576b\"],[0.6666666666666666,\"#ed7953\"],[0.7777777777777778,\"#fb9f3a\"],[0.8888888888888888,\"#fdca26\"],[1.0,\"#f0f921\"]],\"type\":\"surface\"}],\"table\":[{\"cells\":{\"fill\":{\"color\":\"#EBF0F8\"},\"line\":{\"color\":\"white\"}},\"header\":{\"fill\":{\"color\":\"#C8D4E3\"},\"line\":{\"color\":\"white\"}},\"type\":\"table\"}]},\"layout\":{\"annotationdefaults\":{\"arrowcolor\":\"#2a3f5f\",\"arrowhead\":0,\"arrowwidth\":1},\"autotypenumbers\":\"strict\",\"coloraxis\":{\"colorbar\":{\"outlinewidth\":0,\"ticks\":\"\"}},\"colorscale\":{\"diverging\":[[0,\"#8e0152\"],[0.1,\"#c51b7d\"],[0.2,\"#de77ae\"],[0.3,\"#f1b6da\"],[0.4,\"#fde0ef\"],[0.5,\"#f7f7f7\"],[0.6,\"#e6f5d0\"],[0.7,\"#b8e186\"],[0.8,\"#7fbc41\"],[0.9,\"#4d9221\"],[1,\"#276419\"]],\"sequential\":[[0.0,\"#0d0887\"],[0.1111111111111111,\"#46039f\"],[0.2222222222222222,\"#7201a8\"],[0.3333333333333333,\"#9c179e\"],[0.4444444444444444,\"#bd3786\"],[0.5555555555555556,\"#d8576b\"],[0.6666666666666666,\"#ed7953\"],[0.7777777777777778,\"#fb9f3a\"],[0.8888888888888888,\"#fdca26\"],[1.0,\"#f0f921\"]],\"sequentialminus\":[[0.0,\"#0d0887\"],[0.1111111111111111,\"#46039f\"],[0.2222222222222222,\"#7201a8\"],[0.3333333333333333,\"#9c179e\"],[0.4444444444444444,\"#bd3786\"],[0.5555555555555556,\"#d8576b\"],[0.6666666666666666,\"#ed7953\"],[0.7777777777777778,\"#fb9f3a\"],[0.8888888888888888,\"#fdca26\"],[1.0,\"#f0f921\"]]},\"colorway\":[\"#636efa\",\"#EF553B\",\"#00cc96\",\"#ab63fa\",\"#FFA15A\",\"#19d3f3\",\"#FF6692\",\"#B6E880\",\"#FF97FF\",\"#FECB52\"],\"font\":{\"color\":\"#2a3f5f\"},\"geo\":{\"bgcolor\":\"white\",\"lakecolor\":\"white\",\"landcolor\":\"white\",\"showlakes\":true,\"showland\":true,\"subunitcolor\":\"#C8D4E3\"},\"hoverlabel\":{\"align\":\"left\"},\"hovermode\":\"closest\",\"mapbox\":{\"style\":\"light\"},\"paper_bgcolor\":\"white\",\"plot_bgcolor\":\"white\",\"polar\":{\"angularaxis\":{\"gridcolor\":\"#EBF0F8\",\"linecolor\":\"#EBF0F8\",\"ticks\":\"\"},\"bgcolor\":\"white\",\"radialaxis\":{\"gridcolor\":\"#EBF0F8\",\"linecolor\":\"#EBF0F8\",\"ticks\":\"\"}},\"scene\":{\"xaxis\":{\"backgroundcolor\":\"white\",\"gridcolor\":\"#DFE8F3\",\"gridwidth\":2,\"linecolor\":\"#EBF0F8\",\"showbackground\":true,\"ticks\":\"\",\"zerolinecolor\":\"#EBF0F8\"},\"yaxis\":{\"backgroundcolor\":\"white\",\"gridcolor\":\"#DFE8F3\",\"gridwidth\":2,\"linecolor\":\"#EBF0F8\",\"showbackground\":true,\"ticks\":\"\",\"zerolinecolor\":\"#EBF0F8\"},\"zaxis\":{\"backgroundcolor\":\"white\",\"gridcolor\":\"#DFE8F3\",\"gridwidth\":2,\"linecolor\":\"#EBF0F8\",\"showbackground\":true,\"ticks\":\"\",\"zerolinecolor\":\"#EBF0F8\"}},\"shapedefaults\":{\"line\":{\"color\":\"#2a3f5f\"}},\"ternary\":{\"aaxis\":{\"gridcolor\":\"#DFE8F3\",\"linecolor\":\"#A2B1C6\",\"ticks\":\"\"},\"baxis\":{\"gridcolor\":\"#DFE8F3\",\"linecolor\":\"#A2B1C6\",\"ticks\":\"\"},\"bgcolor\":\"white\",\"caxis\":{\"gridcolor\":\"#DFE8F3\",\"linecolor\":\"#A2B1C6\",\"ticks\":\"\"}},\"title\":{\"x\":0.05},\"xaxis\":{\"automargin\":true,\"gridcolor\":\"#EBF0F8\",\"linecolor\":\"#EBF0F8\",\"ticks\":\"\",\"title\":{\"standoff\":15},\"zerolinecolor\":\"#EBF0F8\",\"zerolinewidth\":2},\"yaxis\":{\"automargin\":true,\"gridcolor\":\"#EBF0F8\",\"linecolor\":\"#EBF0F8\",\"ticks\":\"\",\"title\":{\"standoff\":15},\"zerolinecolor\":\"#EBF0F8\",\"zerolinewidth\":2}}},\"xaxis\":{\"anchor\":\"y\",\"domain\":[0.0,1.0],\"title\":{\"text\":\"Length of shared initial commitments<br><span style='color:DarkGray'>(Number of groups, Group size)<span>\"},\"showticklabels\":true,\"tickvals\":[0,1,2,3,4,5,6,7],\"ticktext\":[\"0<br><span style='color:DarkGray'>(1, 1579)<span>\",\"1<br><span style='color:DarkGray'>(6, 496)<span>\",\"2<br><span style='color:DarkGray'>(25, 161)<span>\",\"3<br><span style='color:DarkGray'>(213, 58)<span>\",\"4<br><span style='color:DarkGray'>(455, 20)<span>\",\"5<br><span style='color:DarkGray'>(506, 6)<span>\",\"6<br><span style='color:DarkGray'>(294, 2)<span>\",\"7<br><span style='color:DarkGray'>(65, 1)<span>\"]},\"yaxis\":{\"anchor\":\"x\",\"domain\":[0.0,1.0],\"title\":{\"text\":\"Mean relative share\"},\"showticklabels\":true,\"range\":[0,1.05]},\"legend\":{\"tracegroupgap\":0,\"title\":{\"text\":\"\"},\"orientation\":\"h\",\"yanchor\":\"bottom\",\"y\":1.02,\"xanchor\":\"left\",\"x\":-0.005},\"margin\":{\"t\":60,\"b\":110},\"barmode\":\"group\"},                        {\"responsive\": true}                    ).then(function(){\n",
       "                            \n",
       "var gd = document.getElementById('aca7c746-290f-4dbb-8dae-8ce22a4b618e');\n",
       "var x = new MutationObserver(function (mutations, observer) {{\n",
       "        var display = window.getComputedStyle(gd).display;\n",
       "        if (!display || display === 'none') {{\n",
       "            console.log([gd, 'removed!']);\n",
       "            Plotly.purge(gd);\n",
       "            observer.disconnect();\n",
       "        }}\n",
       "}});\n",
       "\n",
       "// Listen for the removal of the full notebook cells\n",
       "var notebookContainer = gd.closest('#notebook-container');\n",
       "if (notebookContainer) {{\n",
       "    x.observe(notebookContainer, {childList: true});\n",
       "}}\n",
       "\n",
       "// Listen for the clearing of the current output cell\n",
       "var outputEl = gd.closest('.output');\n",
       "if (outputEl) {{\n",
       "    x.observe(outputEl, {childList: true});\n",
       "}}\n",
       "\n",
       "                        })                };                });            </script>        </div>"
      ]
     },
     "metadata": {},
     "output_type": "display_data"
    }
   ],
   "source": [
    "for configuration in result_df[\"configuration\"].unique():\n",
    "    \n",
    "    print(configuration)\n",
    "    \n",
    "    # unpack weights\n",
    "    alpha_a, alpha_s, alpha_f = configuration\n",
    "\n",
    "    # create strings for annotation and filename\n",
    "    annotation_text = r\"$(\\alpha_{A}, \\alpha_{S}, \\alpha_{F}) = \" + \"({},\\ {},\\ {})$\".format(alpha_a, alpha_s, alpha_f)\n",
    "    file_name = \"full_spec_anything_goes_{}_{}_{}.png\".format(str(alpha_a)[2:], str(alpha_s)[2:], str(alpha_f)[2:])\n",
    "\n",
    "    # restrict to configuration\n",
    "    df = result_df[result_df[\"configuration\"]==configuration]\n",
    "\n",
    "    #df = result_df.groupby([\"ds\", \"len_shared_init_coms\"])[[\"init_coms_group_size\",\"n_conflicts\", \"n_fp\"]].median().reset_index()\n",
    "\n",
    "    #df = df.groupby([\"len_shared_init_coms\"])[[\"n_unique_sentences\"]]#.median().reset_index(level=0)\n",
    "\n",
    "    df= df.groupby([\"ds\",\"len_shared_init_coms\"])[\"anything_goes\"].mean().reset_index().groupby(\"len_shared_init_coms\")[\"anything_goes\"].mean().reset_index()\n",
    "\n",
    "    df[\"anything_goes\"] = df[\"anything_goes\"].astype(float).round(decimals=2)\n",
    "\n",
    "    fig = px.bar(df, x=\"len_shared_init_coms\", y=\"anything_goes\", barmode=\"group\", \n",
    "                     text_auto=True, \n",
    "                     #notched=True\n",
    "                    )\n",
    "\n",
    "    #fig.update_traces(marker_color=viridis[3], name=\"global optima\", selector={\"name\":\"go\"})\n",
    "    fig.update_traces(marker_color=viridis[2], name=\"Groups of non-trivial full RE fixed points covering the entire sentence pool\", showlegend=True)\n",
    "    #fig.update_traces(marker_color=viridis[1], name=\"streamlined outputs\", selector={\"name\":\"so\"})\n",
    "\n",
    "    #fig.update_layout(width=850)\n",
    "    fig.update_layout(template=\"plotly_white\",\n",
    "                     legend_title=\"\",\n",
    "                     #title=\"Relative Share of Full RE Output Groups Covering the Entire Sentence Pool\"\n",
    "                     )\n",
    "    fig.update_xaxes(title=\"Length of shared initial commitments<br><span style='color:DarkGray'>(Number of groups, Group size)<span>\", showticklabels=True)\n",
    "    fig.update_yaxes(title=\"Mean relative share\", showticklabels=True, range=[0, 1.05])\n",
    "\n",
    "    fig.update_layout(legend=dict(\n",
    "        orientation=\"h\",\n",
    "        yanchor=\"bottom\",\n",
    "        y=1.02,\n",
    "        xanchor=\"left\",\n",
    "        x=-0.005\n",
    "    ))\n",
    "    #fig.add_annotation(dict(font=dict(color=\"black\",size=12),\n",
    "    #                                showarrow=False,\n",
    "    #                                x=-0.035,\n",
    "    #                                y=1.05,\n",
    "    #                                text=annotation_text,\n",
    "    #                                textangle=0,\n",
    "    #                                xref=\"paper\",\n",
    "    #                               yref=\"paper\"))\n",
    "\n",
    "    # branch off second df for ticktexts with group sizes\n",
    "    dff = result_df[result_df[\"configuration\"]==configuration].groupby([\"ds\", \"len_shared_init_coms\"])[\"shared_init_coms\"].nunique().reset_index()\n",
    "    dff= dff.groupby(\"len_shared_init_coms\")[\"shared_init_coms\"].quantile([0.50], interpolation=\"higher\").reset_index()\n",
    "    \n",
    "    dff[\"group_size\"] = result_df[result_df[\"configuration\"]==configuration].groupby(\"len_shared_init_coms\")[[\"init_coms_group_size\"]].quantile([0.50], interpolation=\"higher\").reset_index()[\"init_coms_group_size\"]\n",
    "\n",
    "\n",
    "    ticktexts = [\"{}<br><span style='color:DarkGray'>({}, {})<span>\".format(row[1][\"len_shared_init_coms\"].astype(int), \n",
    "                                         row[1][\"shared_init_coms\"].astype(int), \n",
    "                                         row[1][\"group_size\"].astype(int)) for row in dff.iterrows()]\n",
    "\n",
    "\n",
    "    fig.update_layout(\n",
    "        xaxis = dict(\n",
    "            tickvals = list(range(0,8)),\n",
    "            ticktext = ticktexts))\n",
    "\n",
    "    fig.update_layout(margin={\"b\":110})\n",
    "\n",
    "    fig.show()\n",
    "\n",
    "    pio.write_image(fig, path.join(plot_dir, file_name), scale=2)"
   ]
  },
  {
   "cell_type": "code",
   "execution_count": 470,
   "id": "a29bdd9e",
   "metadata": {},
   "outputs": [
    {
     "data": {
      "application/vnd.plotly.v1+json": {
       "config": {
        "plotlyServerURL": "https://plot.ly"
       },
       "data": [
        {
         "alignmentgroup": "True",
         "boxmean": true,
         "hovertemplate": "len_shared_init_coms=%{x}<br>n_conflicts=%{y}<extra></extra>",
         "legendgroup": "",
         "marker": {
          "color": "#29ae80"
         },
         "name": "Groups of full RE fixed points covering the entire sentence pool",
         "notched": true,
         "offsetgroup": "",
         "orientation": "v",
         "showlegend": true,
         "type": "box",
         "x": [
          0,
          1,
          2,
          3,
          4,
          5,
          6,
          7,
          0,
          1,
          2,
          3,
          4,
          5,
          6,
          7,
          0,
          1,
          2,
          3,
          4,
          5,
          6,
          7,
          0,
          1,
          2,
          3,
          4,
          5,
          6,
          7,
          0,
          1,
          2,
          3,
          4,
          5,
          6,
          7,
          0,
          1,
          2,
          3,
          4,
          5,
          6,
          7,
          0,
          1,
          2,
          3,
          4,
          5,
          6,
          7,
          0,
          1,
          2,
          3,
          4,
          5,
          6,
          7,
          0,
          1,
          2,
          3,
          4,
          5,
          6,
          7,
          0,
          1,
          2,
          3,
          4,
          5,
          6,
          7,
          0,
          1,
          2,
          3,
          4,
          5,
          6,
          7,
          0,
          1,
          2,
          3,
          4,
          5,
          6,
          7,
          0,
          1,
          2,
          3,
          4,
          5,
          6,
          7,
          0,
          1,
          2,
          3,
          4,
          5,
          6,
          7,
          0,
          1,
          2,
          3,
          4,
          5,
          6,
          7,
          0,
          1,
          2,
          3,
          4,
          5,
          6,
          7,
          0,
          1,
          2,
          3,
          4,
          5,
          6,
          7,
          0,
          1,
          2,
          3,
          4,
          5,
          6,
          7,
          0,
          1,
          2,
          3,
          4,
          5,
          6,
          7,
          0,
          1,
          2,
          3,
          4,
          5,
          6,
          7,
          0,
          1,
          2,
          3,
          4,
          5,
          6,
          7,
          0,
          1,
          2,
          3,
          4,
          5,
          0,
          1,
          2,
          3,
          4,
          5,
          6,
          7,
          0,
          7,
          0,
          1,
          2,
          3,
          4,
          5,
          6,
          7
         ],
         "x0": " ",
         "xaxis": "x",
         "y": [
          5,
          5,
          5,
          0,
          0,
          0,
          0,
          0,
          7,
          6,
          5,
          2,
          0,
          0,
          0,
          0,
          5,
          4.5,
          4,
          2,
          0,
          0,
          0,
          0,
          6,
          6,
          6,
          2,
          0,
          0,
          0,
          0,
          7,
          7,
          6,
          4,
          2,
          0,
          0,
          0,
          7,
          7,
          7,
          5,
          2,
          0,
          0,
          0,
          7,
          7,
          7,
          5,
          3,
          0,
          0,
          0,
          5,
          5,
          4,
          2,
          0,
          0,
          0,
          0,
          7,
          7,
          7,
          5,
          2.5,
          0,
          0,
          0,
          7,
          7,
          7,
          6,
          4,
          0,
          0,
          0,
          6,
          5.5,
          5,
          2,
          0,
          0,
          0,
          0,
          6,
          6,
          6,
          4,
          0,
          0,
          0,
          0,
          7,
          7,
          7,
          6,
          0,
          0,
          0,
          0,
          7,
          7,
          7,
          4,
          0,
          0,
          0,
          0,
          5,
          5,
          4,
          3,
          0,
          0,
          0,
          0,
          6,
          6,
          6,
          3,
          0,
          0,
          0,
          0,
          7,
          7,
          7,
          6,
          3,
          0,
          0,
          0,
          7,
          7,
          7,
          3,
          0,
          0,
          0,
          0,
          7,
          7,
          7,
          4,
          0,
          0,
          0,
          0,
          7,
          7,
          7,
          7,
          4,
          0,
          0,
          0,
          7,
          7,
          7,
          6,
          4,
          0,
          0,
          0,
          4,
          4,
          3.5,
          0,
          0,
          0,
          6,
          6,
          4,
          3,
          0,
          0,
          0,
          0,
          3,
          0,
          7,
          7,
          7,
          7,
          6,
          5,
          2,
          0
         ],
         "y0": " ",
         "yaxis": "y"
        }
       ],
       "layout": {
        "boxmode": "group",
        "legend": {
         "orientation": "h",
         "title": {
          "text": ""
         },
         "tracegroupgap": 0,
         "x": -0.005,
         "xanchor": "left",
         "y": 1.02,
         "yanchor": "bottom"
        },
        "margin": {
         "b": 110,
         "t": 60
        },
        "template": {
         "data": {
          "bar": [
           {
            "error_x": {
             "color": "#2a3f5f"
            },
            "error_y": {
             "color": "#2a3f5f"
            },
            "marker": {
             "line": {
              "color": "white",
              "width": 0.5
             },
             "pattern": {
              "fillmode": "overlay",
              "size": 10,
              "solidity": 0.2
             }
            },
            "type": "bar"
           }
          ],
          "barpolar": [
           {
            "marker": {
             "line": {
              "color": "white",
              "width": 0.5
             },
             "pattern": {
              "fillmode": "overlay",
              "size": 10,
              "solidity": 0.2
             }
            },
            "type": "barpolar"
           }
          ],
          "carpet": [
           {
            "aaxis": {
             "endlinecolor": "#2a3f5f",
             "gridcolor": "#C8D4E3",
             "linecolor": "#C8D4E3",
             "minorgridcolor": "#C8D4E3",
             "startlinecolor": "#2a3f5f"
            },
            "baxis": {
             "endlinecolor": "#2a3f5f",
             "gridcolor": "#C8D4E3",
             "linecolor": "#C8D4E3",
             "minorgridcolor": "#C8D4E3",
             "startlinecolor": "#2a3f5f"
            },
            "type": "carpet"
           }
          ],
          "choropleth": [
           {
            "colorbar": {
             "outlinewidth": 0,
             "ticks": ""
            },
            "type": "choropleth"
           }
          ],
          "contour": [
           {
            "colorbar": {
             "outlinewidth": 0,
             "ticks": ""
            },
            "colorscale": [
             [
              0,
              "#0d0887"
             ],
             [
              0.1111111111111111,
              "#46039f"
             ],
             [
              0.2222222222222222,
              "#7201a8"
             ],
             [
              0.3333333333333333,
              "#9c179e"
             ],
             [
              0.4444444444444444,
              "#bd3786"
             ],
             [
              0.5555555555555556,
              "#d8576b"
             ],
             [
              0.6666666666666666,
              "#ed7953"
             ],
             [
              0.7777777777777778,
              "#fb9f3a"
             ],
             [
              0.8888888888888888,
              "#fdca26"
             ],
             [
              1,
              "#f0f921"
             ]
            ],
            "type": "contour"
           }
          ],
          "contourcarpet": [
           {
            "colorbar": {
             "outlinewidth": 0,
             "ticks": ""
            },
            "type": "contourcarpet"
           }
          ],
          "heatmap": [
           {
            "colorbar": {
             "outlinewidth": 0,
             "ticks": ""
            },
            "colorscale": [
             [
              0,
              "#0d0887"
             ],
             [
              0.1111111111111111,
              "#46039f"
             ],
             [
              0.2222222222222222,
              "#7201a8"
             ],
             [
              0.3333333333333333,
              "#9c179e"
             ],
             [
              0.4444444444444444,
              "#bd3786"
             ],
             [
              0.5555555555555556,
              "#d8576b"
             ],
             [
              0.6666666666666666,
              "#ed7953"
             ],
             [
              0.7777777777777778,
              "#fb9f3a"
             ],
             [
              0.8888888888888888,
              "#fdca26"
             ],
             [
              1,
              "#f0f921"
             ]
            ],
            "type": "heatmap"
           }
          ],
          "heatmapgl": [
           {
            "colorbar": {
             "outlinewidth": 0,
             "ticks": ""
            },
            "colorscale": [
             [
              0,
              "#0d0887"
             ],
             [
              0.1111111111111111,
              "#46039f"
             ],
             [
              0.2222222222222222,
              "#7201a8"
             ],
             [
              0.3333333333333333,
              "#9c179e"
             ],
             [
              0.4444444444444444,
              "#bd3786"
             ],
             [
              0.5555555555555556,
              "#d8576b"
             ],
             [
              0.6666666666666666,
              "#ed7953"
             ],
             [
              0.7777777777777778,
              "#fb9f3a"
             ],
             [
              0.8888888888888888,
              "#fdca26"
             ],
             [
              1,
              "#f0f921"
             ]
            ],
            "type": "heatmapgl"
           }
          ],
          "histogram": [
           {
            "marker": {
             "pattern": {
              "fillmode": "overlay",
              "size": 10,
              "solidity": 0.2
             }
            },
            "type": "histogram"
           }
          ],
          "histogram2d": [
           {
            "colorbar": {
             "outlinewidth": 0,
             "ticks": ""
            },
            "colorscale": [
             [
              0,
              "#0d0887"
             ],
             [
              0.1111111111111111,
              "#46039f"
             ],
             [
              0.2222222222222222,
              "#7201a8"
             ],
             [
              0.3333333333333333,
              "#9c179e"
             ],
             [
              0.4444444444444444,
              "#bd3786"
             ],
             [
              0.5555555555555556,
              "#d8576b"
             ],
             [
              0.6666666666666666,
              "#ed7953"
             ],
             [
              0.7777777777777778,
              "#fb9f3a"
             ],
             [
              0.8888888888888888,
              "#fdca26"
             ],
             [
              1,
              "#f0f921"
             ]
            ],
            "type": "histogram2d"
           }
          ],
          "histogram2dcontour": [
           {
            "colorbar": {
             "outlinewidth": 0,
             "ticks": ""
            },
            "colorscale": [
             [
              0,
              "#0d0887"
             ],
             [
              0.1111111111111111,
              "#46039f"
             ],
             [
              0.2222222222222222,
              "#7201a8"
             ],
             [
              0.3333333333333333,
              "#9c179e"
             ],
             [
              0.4444444444444444,
              "#bd3786"
             ],
             [
              0.5555555555555556,
              "#d8576b"
             ],
             [
              0.6666666666666666,
              "#ed7953"
             ],
             [
              0.7777777777777778,
              "#fb9f3a"
             ],
             [
              0.8888888888888888,
              "#fdca26"
             ],
             [
              1,
              "#f0f921"
             ]
            ],
            "type": "histogram2dcontour"
           }
          ],
          "mesh3d": [
           {
            "colorbar": {
             "outlinewidth": 0,
             "ticks": ""
            },
            "type": "mesh3d"
           }
          ],
          "parcoords": [
           {
            "line": {
             "colorbar": {
              "outlinewidth": 0,
              "ticks": ""
             }
            },
            "type": "parcoords"
           }
          ],
          "pie": [
           {
            "automargin": true,
            "type": "pie"
           }
          ],
          "scatter": [
           {
            "fillpattern": {
             "fillmode": "overlay",
             "size": 10,
             "solidity": 0.2
            },
            "type": "scatter"
           }
          ],
          "scatter3d": [
           {
            "line": {
             "colorbar": {
              "outlinewidth": 0,
              "ticks": ""
             }
            },
            "marker": {
             "colorbar": {
              "outlinewidth": 0,
              "ticks": ""
             }
            },
            "type": "scatter3d"
           }
          ],
          "scattercarpet": [
           {
            "marker": {
             "colorbar": {
              "outlinewidth": 0,
              "ticks": ""
             }
            },
            "type": "scattercarpet"
           }
          ],
          "scattergeo": [
           {
            "marker": {
             "colorbar": {
              "outlinewidth": 0,
              "ticks": ""
             }
            },
            "type": "scattergeo"
           }
          ],
          "scattergl": [
           {
            "marker": {
             "colorbar": {
              "outlinewidth": 0,
              "ticks": ""
             }
            },
            "type": "scattergl"
           }
          ],
          "scattermapbox": [
           {
            "marker": {
             "colorbar": {
              "outlinewidth": 0,
              "ticks": ""
             }
            },
            "type": "scattermapbox"
           }
          ],
          "scatterpolar": [
           {
            "marker": {
             "colorbar": {
              "outlinewidth": 0,
              "ticks": ""
             }
            },
            "type": "scatterpolar"
           }
          ],
          "scatterpolargl": [
           {
            "marker": {
             "colorbar": {
              "outlinewidth": 0,
              "ticks": ""
             }
            },
            "type": "scatterpolargl"
           }
          ],
          "scatterternary": [
           {
            "marker": {
             "colorbar": {
              "outlinewidth": 0,
              "ticks": ""
             }
            },
            "type": "scatterternary"
           }
          ],
          "surface": [
           {
            "colorbar": {
             "outlinewidth": 0,
             "ticks": ""
            },
            "colorscale": [
             [
              0,
              "#0d0887"
             ],
             [
              0.1111111111111111,
              "#46039f"
             ],
             [
              0.2222222222222222,
              "#7201a8"
             ],
             [
              0.3333333333333333,
              "#9c179e"
             ],
             [
              0.4444444444444444,
              "#bd3786"
             ],
             [
              0.5555555555555556,
              "#d8576b"
             ],
             [
              0.6666666666666666,
              "#ed7953"
             ],
             [
              0.7777777777777778,
              "#fb9f3a"
             ],
             [
              0.8888888888888888,
              "#fdca26"
             ],
             [
              1,
              "#f0f921"
             ]
            ],
            "type": "surface"
           }
          ],
          "table": [
           {
            "cells": {
             "fill": {
              "color": "#EBF0F8"
             },
             "line": {
              "color": "white"
             }
            },
            "header": {
             "fill": {
              "color": "#C8D4E3"
             },
             "line": {
              "color": "white"
             }
            },
            "type": "table"
           }
          ]
         },
         "layout": {
          "annotationdefaults": {
           "arrowcolor": "#2a3f5f",
           "arrowhead": 0,
           "arrowwidth": 1
          },
          "autotypenumbers": "strict",
          "coloraxis": {
           "colorbar": {
            "outlinewidth": 0,
            "ticks": ""
           }
          },
          "colorscale": {
           "diverging": [
            [
             0,
             "#8e0152"
            ],
            [
             0.1,
             "#c51b7d"
            ],
            [
             0.2,
             "#de77ae"
            ],
            [
             0.3,
             "#f1b6da"
            ],
            [
             0.4,
             "#fde0ef"
            ],
            [
             0.5,
             "#f7f7f7"
            ],
            [
             0.6,
             "#e6f5d0"
            ],
            [
             0.7,
             "#b8e186"
            ],
            [
             0.8,
             "#7fbc41"
            ],
            [
             0.9,
             "#4d9221"
            ],
            [
             1,
             "#276419"
            ]
           ],
           "sequential": [
            [
             0,
             "#0d0887"
            ],
            [
             0.1111111111111111,
             "#46039f"
            ],
            [
             0.2222222222222222,
             "#7201a8"
            ],
            [
             0.3333333333333333,
             "#9c179e"
            ],
            [
             0.4444444444444444,
             "#bd3786"
            ],
            [
             0.5555555555555556,
             "#d8576b"
            ],
            [
             0.6666666666666666,
             "#ed7953"
            ],
            [
             0.7777777777777778,
             "#fb9f3a"
            ],
            [
             0.8888888888888888,
             "#fdca26"
            ],
            [
             1,
             "#f0f921"
            ]
           ],
           "sequentialminus": [
            [
             0,
             "#0d0887"
            ],
            [
             0.1111111111111111,
             "#46039f"
            ],
            [
             0.2222222222222222,
             "#7201a8"
            ],
            [
             0.3333333333333333,
             "#9c179e"
            ],
            [
             0.4444444444444444,
             "#bd3786"
            ],
            [
             0.5555555555555556,
             "#d8576b"
            ],
            [
             0.6666666666666666,
             "#ed7953"
            ],
            [
             0.7777777777777778,
             "#fb9f3a"
            ],
            [
             0.8888888888888888,
             "#fdca26"
            ],
            [
             1,
             "#f0f921"
            ]
           ]
          },
          "colorway": [
           "#636efa",
           "#EF553B",
           "#00cc96",
           "#ab63fa",
           "#FFA15A",
           "#19d3f3",
           "#FF6692",
           "#B6E880",
           "#FF97FF",
           "#FECB52"
          ],
          "font": {
           "color": "#2a3f5f"
          },
          "geo": {
           "bgcolor": "white",
           "lakecolor": "white",
           "landcolor": "white",
           "showlakes": true,
           "showland": true,
           "subunitcolor": "#C8D4E3"
          },
          "hoverlabel": {
           "align": "left"
          },
          "hovermode": "closest",
          "mapbox": {
           "style": "light"
          },
          "paper_bgcolor": "white",
          "plot_bgcolor": "white",
          "polar": {
           "angularaxis": {
            "gridcolor": "#EBF0F8",
            "linecolor": "#EBF0F8",
            "ticks": ""
           },
           "bgcolor": "white",
           "radialaxis": {
            "gridcolor": "#EBF0F8",
            "linecolor": "#EBF0F8",
            "ticks": ""
           }
          },
          "scene": {
           "xaxis": {
            "backgroundcolor": "white",
            "gridcolor": "#DFE8F3",
            "gridwidth": 2,
            "linecolor": "#EBF0F8",
            "showbackground": true,
            "ticks": "",
            "zerolinecolor": "#EBF0F8"
           },
           "yaxis": {
            "backgroundcolor": "white",
            "gridcolor": "#DFE8F3",
            "gridwidth": 2,
            "linecolor": "#EBF0F8",
            "showbackground": true,
            "ticks": "",
            "zerolinecolor": "#EBF0F8"
           },
           "zaxis": {
            "backgroundcolor": "white",
            "gridcolor": "#DFE8F3",
            "gridwidth": 2,
            "linecolor": "#EBF0F8",
            "showbackground": true,
            "ticks": "",
            "zerolinecolor": "#EBF0F8"
           }
          },
          "shapedefaults": {
           "line": {
            "color": "#2a3f5f"
           }
          },
          "ternary": {
           "aaxis": {
            "gridcolor": "#DFE8F3",
            "linecolor": "#A2B1C6",
            "ticks": ""
           },
           "baxis": {
            "gridcolor": "#DFE8F3",
            "linecolor": "#A2B1C6",
            "ticks": ""
           },
           "bgcolor": "white",
           "caxis": {
            "gridcolor": "#DFE8F3",
            "linecolor": "#A2B1C6",
            "ticks": ""
           }
          },
          "title": {
           "x": 0.05
          },
          "xaxis": {
           "automargin": true,
           "gridcolor": "#EBF0F8",
           "linecolor": "#EBF0F8",
           "ticks": "",
           "title": {
            "standoff": 15
           },
           "zerolinecolor": "#EBF0F8",
           "zerolinewidth": 2
          },
          "yaxis": {
           "automargin": true,
           "gridcolor": "#EBF0F8",
           "linecolor": "#EBF0F8",
           "ticks": "",
           "title": {
            "standoff": 15
           },
           "zerolinecolor": "#EBF0F8",
           "zerolinewidth": 2
          }
         }
        },
        "xaxis": {
         "anchor": "y",
         "domain": [
          0,
          1
         ],
         "showticklabels": true,
         "ticktext": [
          "0<br><span style='color:DarkGray'>(1, 820)<span>",
          "1<br><span style='color:DarkGray'>(6, 298)<span>",
          "2<br><span style='color:DarkGray'>(30, 105)<span>",
          "3<br><span style='color:DarkGray'>(149, 32)<span>",
          "4<br><span style='color:DarkGray'>(280, 10)<span>",
          "5<br><span style='color:DarkGray'>(200, 5)<span>",
          "6<br><span style='color:DarkGray'>(172, 2)<span>",
          "7<br><span style='color:DarkGray'>(39, 1)<span>"
         ],
         "tickvals": [
          0,
          1,
          2,
          3,
          4,
          5,
          6,
          7
         ],
         "title": {
          "text": "Length of shared initial commitments<br><span style='color:DarkGray'>(Number of groups, Group size)<span>"
         }
        },
        "yaxis": {
         "anchor": "x",
         "domain": [
          0,
          1
         ],
         "range": [
          0,
          7.1
         ],
         "showticklabels": true,
         "title": {
          "text": "Mean relative share"
         }
        }
       }
      },
      "text/html": [
       "<div>                            <div id=\"b52b0dff-1df8-4608-82f1-9864d5b20e2a\" class=\"plotly-graph-div\" style=\"height:525px; width:100%;\"></div>            <script type=\"text/javascript\">                require([\"plotly\"], function(Plotly) {                    window.PLOTLYENV=window.PLOTLYENV || {};                                    if (document.getElementById(\"b52b0dff-1df8-4608-82f1-9864d5b20e2a\")) {                    Plotly.newPlot(                        \"b52b0dff-1df8-4608-82f1-9864d5b20e2a\",                        [{\"alignmentgroup\":\"True\",\"hovertemplate\":\"len_shared_init_coms=%{x}<br>n_conflicts=%{y}<extra></extra>\",\"legendgroup\":\"\",\"marker\":{\"color\":\"#29ae80\"},\"name\":\"Groups of full RE fixed points covering the entire sentence pool\",\"notched\":true,\"offsetgroup\":\"\",\"orientation\":\"v\",\"showlegend\":true,\"x\":[0,1,2,3,4,5,6,7,0,1,2,3,4,5,6,7,0,1,2,3,4,5,6,7,0,1,2,3,4,5,6,7,0,1,2,3,4,5,6,7,0,1,2,3,4,5,6,7,0,1,2,3,4,5,6,7,0,1,2,3,4,5,6,7,0,1,2,3,4,5,6,7,0,1,2,3,4,5,6,7,0,1,2,3,4,5,6,7,0,1,2,3,4,5,6,7,0,1,2,3,4,5,6,7,0,1,2,3,4,5,6,7,0,1,2,3,4,5,6,7,0,1,2,3,4,5,6,7,0,1,2,3,4,5,6,7,0,1,2,3,4,5,6,7,0,1,2,3,4,5,6,7,0,1,2,3,4,5,6,7,0,1,2,3,4,5,6,7,0,1,2,3,4,5,0,1,2,3,4,5,6,7,0,7,0,1,2,3,4,5,6,7],\"x0\":\" \",\"xaxis\":\"x\",\"y\":[5.0,5.0,5.0,0.0,0.0,0.0,0.0,0.0,7.0,6.0,5.0,2.0,0.0,0.0,0.0,0.0,5.0,4.5,4.0,2.0,0.0,0.0,0.0,0.0,6.0,6.0,6.0,2.0,0.0,0.0,0.0,0.0,7.0,7.0,6.0,4.0,2.0,0.0,0.0,0.0,7.0,7.0,7.0,5.0,2.0,0.0,0.0,0.0,7.0,7.0,7.0,5.0,3.0,0.0,0.0,0.0,5.0,5.0,4.0,2.0,0.0,0.0,0.0,0.0,7.0,7.0,7.0,5.0,2.5,0.0,0.0,0.0,7.0,7.0,7.0,6.0,4.0,0.0,0.0,0.0,6.0,5.5,5.0,2.0,0.0,0.0,0.0,0.0,6.0,6.0,6.0,4.0,0.0,0.0,0.0,0.0,7.0,7.0,7.0,6.0,0.0,0.0,0.0,0.0,7.0,7.0,7.0,4.0,0.0,0.0,0.0,0.0,5.0,5.0,4.0,3.0,0.0,0.0,0.0,0.0,6.0,6.0,6.0,3.0,0.0,0.0,0.0,0.0,7.0,7.0,7.0,6.0,3.0,0.0,0.0,0.0,7.0,7.0,7.0,3.0,0.0,0.0,0.0,0.0,7.0,7.0,7.0,4.0,0.0,0.0,0.0,0.0,7.0,7.0,7.0,7.0,4.0,0.0,0.0,0.0,7.0,7.0,7.0,6.0,4.0,0.0,0.0,0.0,4.0,4.0,3.5,0.0,0.0,0.0,6.0,6.0,4.0,3.0,0.0,0.0,0.0,0.0,3.0,0.0,7.0,7.0,7.0,7.0,6.0,5.0,2.0,0.0],\"y0\":\" \",\"yaxis\":\"y\",\"type\":\"box\",\"boxmean\":true}],                        {\"template\":{\"data\":{\"barpolar\":[{\"marker\":{\"line\":{\"color\":\"white\",\"width\":0.5},\"pattern\":{\"fillmode\":\"overlay\",\"size\":10,\"solidity\":0.2}},\"type\":\"barpolar\"}],\"bar\":[{\"error_x\":{\"color\":\"#2a3f5f\"},\"error_y\":{\"color\":\"#2a3f5f\"},\"marker\":{\"line\":{\"color\":\"white\",\"width\":0.5},\"pattern\":{\"fillmode\":\"overlay\",\"size\":10,\"solidity\":0.2}},\"type\":\"bar\"}],\"carpet\":[{\"aaxis\":{\"endlinecolor\":\"#2a3f5f\",\"gridcolor\":\"#C8D4E3\",\"linecolor\":\"#C8D4E3\",\"minorgridcolor\":\"#C8D4E3\",\"startlinecolor\":\"#2a3f5f\"},\"baxis\":{\"endlinecolor\":\"#2a3f5f\",\"gridcolor\":\"#C8D4E3\",\"linecolor\":\"#C8D4E3\",\"minorgridcolor\":\"#C8D4E3\",\"startlinecolor\":\"#2a3f5f\"},\"type\":\"carpet\"}],\"choropleth\":[{\"colorbar\":{\"outlinewidth\":0,\"ticks\":\"\"},\"type\":\"choropleth\"}],\"contourcarpet\":[{\"colorbar\":{\"outlinewidth\":0,\"ticks\":\"\"},\"type\":\"contourcarpet\"}],\"contour\":[{\"colorbar\":{\"outlinewidth\":0,\"ticks\":\"\"},\"colorscale\":[[0.0,\"#0d0887\"],[0.1111111111111111,\"#46039f\"],[0.2222222222222222,\"#7201a8\"],[0.3333333333333333,\"#9c179e\"],[0.4444444444444444,\"#bd3786\"],[0.5555555555555556,\"#d8576b\"],[0.6666666666666666,\"#ed7953\"],[0.7777777777777778,\"#fb9f3a\"],[0.8888888888888888,\"#fdca26\"],[1.0,\"#f0f921\"]],\"type\":\"contour\"}],\"heatmapgl\":[{\"colorbar\":{\"outlinewidth\":0,\"ticks\":\"\"},\"colorscale\":[[0.0,\"#0d0887\"],[0.1111111111111111,\"#46039f\"],[0.2222222222222222,\"#7201a8\"],[0.3333333333333333,\"#9c179e\"],[0.4444444444444444,\"#bd3786\"],[0.5555555555555556,\"#d8576b\"],[0.6666666666666666,\"#ed7953\"],[0.7777777777777778,\"#fb9f3a\"],[0.8888888888888888,\"#fdca26\"],[1.0,\"#f0f921\"]],\"type\":\"heatmapgl\"}],\"heatmap\":[{\"colorbar\":{\"outlinewidth\":0,\"ticks\":\"\"},\"colorscale\":[[0.0,\"#0d0887\"],[0.1111111111111111,\"#46039f\"],[0.2222222222222222,\"#7201a8\"],[0.3333333333333333,\"#9c179e\"],[0.4444444444444444,\"#bd3786\"],[0.5555555555555556,\"#d8576b\"],[0.6666666666666666,\"#ed7953\"],[0.7777777777777778,\"#fb9f3a\"],[0.8888888888888888,\"#fdca26\"],[1.0,\"#f0f921\"]],\"type\":\"heatmap\"}],\"histogram2dcontour\":[{\"colorbar\":{\"outlinewidth\":0,\"ticks\":\"\"},\"colorscale\":[[0.0,\"#0d0887\"],[0.1111111111111111,\"#46039f\"],[0.2222222222222222,\"#7201a8\"],[0.3333333333333333,\"#9c179e\"],[0.4444444444444444,\"#bd3786\"],[0.5555555555555556,\"#d8576b\"],[0.6666666666666666,\"#ed7953\"],[0.7777777777777778,\"#fb9f3a\"],[0.8888888888888888,\"#fdca26\"],[1.0,\"#f0f921\"]],\"type\":\"histogram2dcontour\"}],\"histogram2d\":[{\"colorbar\":{\"outlinewidth\":0,\"ticks\":\"\"},\"colorscale\":[[0.0,\"#0d0887\"],[0.1111111111111111,\"#46039f\"],[0.2222222222222222,\"#7201a8\"],[0.3333333333333333,\"#9c179e\"],[0.4444444444444444,\"#bd3786\"],[0.5555555555555556,\"#d8576b\"],[0.6666666666666666,\"#ed7953\"],[0.7777777777777778,\"#fb9f3a\"],[0.8888888888888888,\"#fdca26\"],[1.0,\"#f0f921\"]],\"type\":\"histogram2d\"}],\"histogram\":[{\"marker\":{\"pattern\":{\"fillmode\":\"overlay\",\"size\":10,\"solidity\":0.2}},\"type\":\"histogram\"}],\"mesh3d\":[{\"colorbar\":{\"outlinewidth\":0,\"ticks\":\"\"},\"type\":\"mesh3d\"}],\"parcoords\":[{\"line\":{\"colorbar\":{\"outlinewidth\":0,\"ticks\":\"\"}},\"type\":\"parcoords\"}],\"pie\":[{\"automargin\":true,\"type\":\"pie\"}],\"scatter3d\":[{\"line\":{\"colorbar\":{\"outlinewidth\":0,\"ticks\":\"\"}},\"marker\":{\"colorbar\":{\"outlinewidth\":0,\"ticks\":\"\"}},\"type\":\"scatter3d\"}],\"scattercarpet\":[{\"marker\":{\"colorbar\":{\"outlinewidth\":0,\"ticks\":\"\"}},\"type\":\"scattercarpet\"}],\"scattergeo\":[{\"marker\":{\"colorbar\":{\"outlinewidth\":0,\"ticks\":\"\"}},\"type\":\"scattergeo\"}],\"scattergl\":[{\"marker\":{\"colorbar\":{\"outlinewidth\":0,\"ticks\":\"\"}},\"type\":\"scattergl\"}],\"scattermapbox\":[{\"marker\":{\"colorbar\":{\"outlinewidth\":0,\"ticks\":\"\"}},\"type\":\"scattermapbox\"}],\"scatterpolargl\":[{\"marker\":{\"colorbar\":{\"outlinewidth\":0,\"ticks\":\"\"}},\"type\":\"scatterpolargl\"}],\"scatterpolar\":[{\"marker\":{\"colorbar\":{\"outlinewidth\":0,\"ticks\":\"\"}},\"type\":\"scatterpolar\"}],\"scatter\":[{\"fillpattern\":{\"fillmode\":\"overlay\",\"size\":10,\"solidity\":0.2},\"type\":\"scatter\"}],\"scatterternary\":[{\"marker\":{\"colorbar\":{\"outlinewidth\":0,\"ticks\":\"\"}},\"type\":\"scatterternary\"}],\"surface\":[{\"colorbar\":{\"outlinewidth\":0,\"ticks\":\"\"},\"colorscale\":[[0.0,\"#0d0887\"],[0.1111111111111111,\"#46039f\"],[0.2222222222222222,\"#7201a8\"],[0.3333333333333333,\"#9c179e\"],[0.4444444444444444,\"#bd3786\"],[0.5555555555555556,\"#d8576b\"],[0.6666666666666666,\"#ed7953\"],[0.7777777777777778,\"#fb9f3a\"],[0.8888888888888888,\"#fdca26\"],[1.0,\"#f0f921\"]],\"type\":\"surface\"}],\"table\":[{\"cells\":{\"fill\":{\"color\":\"#EBF0F8\"},\"line\":{\"color\":\"white\"}},\"header\":{\"fill\":{\"color\":\"#C8D4E3\"},\"line\":{\"color\":\"white\"}},\"type\":\"table\"}]},\"layout\":{\"annotationdefaults\":{\"arrowcolor\":\"#2a3f5f\",\"arrowhead\":0,\"arrowwidth\":1},\"autotypenumbers\":\"strict\",\"coloraxis\":{\"colorbar\":{\"outlinewidth\":0,\"ticks\":\"\"}},\"colorscale\":{\"diverging\":[[0,\"#8e0152\"],[0.1,\"#c51b7d\"],[0.2,\"#de77ae\"],[0.3,\"#f1b6da\"],[0.4,\"#fde0ef\"],[0.5,\"#f7f7f7\"],[0.6,\"#e6f5d0\"],[0.7,\"#b8e186\"],[0.8,\"#7fbc41\"],[0.9,\"#4d9221\"],[1,\"#276419\"]],\"sequential\":[[0.0,\"#0d0887\"],[0.1111111111111111,\"#46039f\"],[0.2222222222222222,\"#7201a8\"],[0.3333333333333333,\"#9c179e\"],[0.4444444444444444,\"#bd3786\"],[0.5555555555555556,\"#d8576b\"],[0.6666666666666666,\"#ed7953\"],[0.7777777777777778,\"#fb9f3a\"],[0.8888888888888888,\"#fdca26\"],[1.0,\"#f0f921\"]],\"sequentialminus\":[[0.0,\"#0d0887\"],[0.1111111111111111,\"#46039f\"],[0.2222222222222222,\"#7201a8\"],[0.3333333333333333,\"#9c179e\"],[0.4444444444444444,\"#bd3786\"],[0.5555555555555556,\"#d8576b\"],[0.6666666666666666,\"#ed7953\"],[0.7777777777777778,\"#fb9f3a\"],[0.8888888888888888,\"#fdca26\"],[1.0,\"#f0f921\"]]},\"colorway\":[\"#636efa\",\"#EF553B\",\"#00cc96\",\"#ab63fa\",\"#FFA15A\",\"#19d3f3\",\"#FF6692\",\"#B6E880\",\"#FF97FF\",\"#FECB52\"],\"font\":{\"color\":\"#2a3f5f\"},\"geo\":{\"bgcolor\":\"white\",\"lakecolor\":\"white\",\"landcolor\":\"white\",\"showlakes\":true,\"showland\":true,\"subunitcolor\":\"#C8D4E3\"},\"hoverlabel\":{\"align\":\"left\"},\"hovermode\":\"closest\",\"mapbox\":{\"style\":\"light\"},\"paper_bgcolor\":\"white\",\"plot_bgcolor\":\"white\",\"polar\":{\"angularaxis\":{\"gridcolor\":\"#EBF0F8\",\"linecolor\":\"#EBF0F8\",\"ticks\":\"\"},\"bgcolor\":\"white\",\"radialaxis\":{\"gridcolor\":\"#EBF0F8\",\"linecolor\":\"#EBF0F8\",\"ticks\":\"\"}},\"scene\":{\"xaxis\":{\"backgroundcolor\":\"white\",\"gridcolor\":\"#DFE8F3\",\"gridwidth\":2,\"linecolor\":\"#EBF0F8\",\"showbackground\":true,\"ticks\":\"\",\"zerolinecolor\":\"#EBF0F8\"},\"yaxis\":{\"backgroundcolor\":\"white\",\"gridcolor\":\"#DFE8F3\",\"gridwidth\":2,\"linecolor\":\"#EBF0F8\",\"showbackground\":true,\"ticks\":\"\",\"zerolinecolor\":\"#EBF0F8\"},\"zaxis\":{\"backgroundcolor\":\"white\",\"gridcolor\":\"#DFE8F3\",\"gridwidth\":2,\"linecolor\":\"#EBF0F8\",\"showbackground\":true,\"ticks\":\"\",\"zerolinecolor\":\"#EBF0F8\"}},\"shapedefaults\":{\"line\":{\"color\":\"#2a3f5f\"}},\"ternary\":{\"aaxis\":{\"gridcolor\":\"#DFE8F3\",\"linecolor\":\"#A2B1C6\",\"ticks\":\"\"},\"baxis\":{\"gridcolor\":\"#DFE8F3\",\"linecolor\":\"#A2B1C6\",\"ticks\":\"\"},\"bgcolor\":\"white\",\"caxis\":{\"gridcolor\":\"#DFE8F3\",\"linecolor\":\"#A2B1C6\",\"ticks\":\"\"}},\"title\":{\"x\":0.05},\"xaxis\":{\"automargin\":true,\"gridcolor\":\"#EBF0F8\",\"linecolor\":\"#EBF0F8\",\"ticks\":\"\",\"title\":{\"standoff\":15},\"zerolinecolor\":\"#EBF0F8\",\"zerolinewidth\":2},\"yaxis\":{\"automargin\":true,\"gridcolor\":\"#EBF0F8\",\"linecolor\":\"#EBF0F8\",\"ticks\":\"\",\"title\":{\"standoff\":15},\"zerolinecolor\":\"#EBF0F8\",\"zerolinewidth\":2}}},\"xaxis\":{\"anchor\":\"y\",\"domain\":[0.0,1.0],\"title\":{\"text\":\"Length of shared initial commitments<br><span style='color:DarkGray'>(Number of groups, Group size)<span>\"},\"showticklabels\":true,\"tickvals\":[0,1,2,3,4,5,6,7],\"ticktext\":[\"0<br><span style='color:DarkGray'>(1, 820)<span>\",\"1<br><span style='color:DarkGray'>(6, 298)<span>\",\"2<br><span style='color:DarkGray'>(30, 105)<span>\",\"3<br><span style='color:DarkGray'>(149, 32)<span>\",\"4<br><span style='color:DarkGray'>(280, 10)<span>\",\"5<br><span style='color:DarkGray'>(200, 5)<span>\",\"6<br><span style='color:DarkGray'>(172, 2)<span>\",\"7<br><span style='color:DarkGray'>(39, 1)<span>\"]},\"yaxis\":{\"anchor\":\"x\",\"domain\":[0.0,1.0],\"title\":{\"text\":\"Mean relative share\"},\"showticklabels\":true,\"range\":[0,7.1]},\"legend\":{\"tracegroupgap\":0,\"title\":{\"text\":\"\"},\"orientation\":\"h\",\"yanchor\":\"bottom\",\"y\":1.02,\"xanchor\":\"left\",\"x\":-0.005},\"margin\":{\"t\":60,\"b\":110},\"boxmode\":\"group\"},                        {\"responsive\": true}                    ).then(function(){\n",
       "                            \n",
       "var gd = document.getElementById('b52b0dff-1df8-4608-82f1-9864d5b20e2a');\n",
       "var x = new MutationObserver(function (mutations, observer) {{\n",
       "        var display = window.getComputedStyle(gd).display;\n",
       "        if (!display || display === 'none') {{\n",
       "            console.log([gd, 'removed!']);\n",
       "            Plotly.purge(gd);\n",
       "            observer.disconnect();\n",
       "        }}\n",
       "}});\n",
       "\n",
       "// Listen for the removal of the full notebook cells\n",
       "var notebookContainer = gd.closest('#notebook-container');\n",
       "if (notebookContainer) {{\n",
       "    x.observe(notebookContainer, {childList: true});\n",
       "}}\n",
       "\n",
       "// Listen for the clearing of the current output cell\n",
       "var outputEl = gd.closest('.output');\n",
       "if (outputEl) {{\n",
       "    x.observe(outputEl, {childList: true});\n",
       "}}\n",
       "\n",
       "                        })                };                });            </script>        </div>"
      ]
     },
     "metadata": {},
     "output_type": "display_data"
    }
   ],
   "source": [
    "# restrict to configuration\n",
    "df = result_df[result_df[\"configuration\"]==configuration]\n",
    "\n",
    "df = result_df.groupby([\"ds\", \"len_shared_init_coms\"])[[\"init_coms_group_size\",\"n_conflicts\", \"n_fp\"]].median().reset_index()\n",
    "\n",
    "#df = df.groupby([\"ds\",\"len_shared_init_coms\"])[[\"n_unique_sentences\"]].median().reset_index()\n",
    "\n",
    "#df= result_df.groupby([\"ds\",\"len_shared_init_coms\"])[\"anything_goes\"].mean().reset_index().groupby(\"len_shared_init_coms\")[\"anything_goes\"].mean().reset_index()\n",
    "\n",
    "#df[\"anything_goes\"] = df[\"anything_goes\"].astype(float).round(decimals=2)\n",
    "\n",
    "fig = px.box(df, x=\"len_shared_init_coms\", y=\"n_conflicts\", \n",
    "                 #barmode=\"group\", \n",
    "                 #text_auto=True, \n",
    "                 notched=True\n",
    "                )\n",
    "\n",
    "\n",
    "\n",
    "#fig.update_traces(marker_color=viridis[3], name=\"global optima\", selector={\"name\":\"go\"})\n",
    "fig.update_traces(marker_color=viridis[2], \n",
    "                  name=\"Groups of full RE fixed points covering the entire sentence pool\", \n",
    "                  showlegend=True,\n",
    "                  boxmean=True)\n",
    "#fig.update_traces(marker_color=viridis[1], name=\"streamlined outputs\", selector={\"name\":\"so\"})\n",
    "\n",
    "#fig.update_layout(width=850)\n",
    "fig.update_layout(template=\"plotly_white\",\n",
    "                 legend_title=\"\",\n",
    "                 #title=\"Relative Share of Full RE Output Groups Covering the Entire Sentence Pool\"\n",
    "                 )\n",
    "fig.update_xaxes(title=\"Length of shared initial commitments<br><span style='color:DarkGray'>(Number of groups, Group size)<span>\", showticklabels=True)\n",
    "fig.update_yaxes(title=\"Mean relative share\", showticklabels=True, range=[0, 7.1])\n",
    "\n",
    "fig.update_layout(legend=dict(\n",
    "    orientation=\"h\",\n",
    "    yanchor=\"bottom\",\n",
    "    y=1.02,\n",
    "    xanchor=\"left\",\n",
    "    x=-0.005\n",
    "))\n",
    "#fig.add_annotation(dict(font=dict(color=\"black\",size=12),\n",
    "#                                showarrow=False,\n",
    "#                                x=-0.035,\n",
    "#                                y=1.05,\n",
    "#                                text=annotation_text,\n",
    "#                                textangle=0,\n",
    "#                                xref=\"paper\",\n",
    "#                               yref=\"paper\"))\n",
    "\n",
    "# branch off second df for ticktexts with group sizes\n",
    "dff = result_df.groupby([\"ds\", \"len_shared_init_coms\"])[\"shared_init_coms\"].nunique().reset_index()\n",
    "dff= dff.groupby(\"len_shared_init_coms\")[\"shared_init_coms\"].median().reset_index()\n",
    "dff[\"group_size\"] = result_df.groupby(\"len_shared_init_coms\")[[\"init_coms_group_size\"]].median()\n",
    "\n",
    "   \n",
    "ticktexts = [\"{}<br><span style='color:DarkGray'>({}, {})<span>\".format(row[1][\"len_shared_init_coms\"].astype(int), \n",
    "                                     row[1][\"shared_init_coms\"].astype(int), \n",
    "                                     row[1][\"group_size\"].astype(int)) for row in dff.iterrows()]\n",
    "\n",
    "\n",
    "fig.update_layout(\n",
    "    xaxis = dict(\n",
    "        tickvals = list(range(0,8)),\n",
    "        ticktext = ticktexts))\n",
    "\n",
    "fig.update_layout(margin={\"b\":110})\n",
    "\n",
    "fig.show()\n",
    "\n",
    "#pio.write_image(fig, path.join(plot_dir, file_name), scale=2)"
   ]
  },
  {
   "cell_type": "code",
   "execution_count": null,
   "id": "1438d313",
   "metadata": {},
   "outputs": [],
   "source": []
  }
 ],
 "metadata": {
  "kernelspec": {
   "display_name": "Python 3 (ipykernel)",
   "language": "python",
   "name": "python3"
  },
  "language_info": {
   "codemirror_mode": {
    "name": "ipython",
    "version": 3
   },
   "file_extension": ".py",
   "mimetype": "text/x-python",
   "name": "python",
   "nbconvert_exporter": "python",
   "pygments_lexer": "ipython3",
   "version": "3.9.7"
  }
 },
 "nbformat": 4,
 "nbformat_minor": 5
}
